{
 "cells": [
  {
   "cell_type": "markdown",
   "metadata": {},
   "source": [
    "<div class=\"alert alert-success\">\n",
    "  <b> ✔️Комментарий ревьюера ✔️</b>\n",
    "\n",
    "Привет, Андрей! Меня зовут Михаил, я буду проверять твой проект. Предлагаю общаться на 'ты' :)\n",
    "Однако, если это неудобно - сообщи, и мы перейдем на 'Вы'. Моя главная цель —  поделиться с тобой своим опытом и помочь тебе стать крутым специалистом, а не только указать на совершенные тобой ошибки.\n",
    "\n",
    "Видно, что к проекту приложен большой труд. Все ключевые этапы в работе выполнены, статистическое исследование проведено качественно. Так что в целом справиться с задачей тебе удалось.\n",
    "\n",
    "Есть несколько аспектов, которые **требуют** твоего **внимания**. Комментарии по ним помечены красным цветом и символами ❌. После их доработки проект будет принят, осталось совсем немного :) \n",
    "    \n",
    "\n",
    "Давай работать над проектом в диалоге: если **ты что-то меняешь** в проекте по моим рекомендациям — **пиши об этом**. Мне будет легче отследить изменения, если ты будешь использовать синюю форму, которую я прикреплю ниже. Пожалуйста, **не перемещай, не изменяй и не удаляй мои комментарии**. Всё это поможет выполнить повторную проверку твоего проекта оперативнее. \n",
    "\n",
    "\n",
    "\n",
    "Жду проект на повторное ревью. Успехов в изучении!\n",
    "\n",
    "\n",
    "\n",
    "</div>\n",
    "<div class=\"alert alert-block alert-danger\"> <b>❌ Комментарий ревьюера ❌</b> \n",
    "    Так я выделяю моменты, которые требуют особого внимания. Нужно будет учесть их и внести корректировки в свою работу. </div>\n",
    "<div class=\"alert alert-block alert-warning\"> <b>⚠️ Комментарий ревьюера ⚠️</b> \n",
    "    Желтым я отмечу рекомендации, которые, могут быть полезными при твоей работе. Они носят рекомендационный характер, но будет классно, если ты будешь учитывать их при работе.</div>\n",
    "<div class=\"alert alert-block alert-success\"> <b>✔️ Комментарий ревьюера ✔️</b>\n",
    "    Так я выделяю удачные и элегантные решения, на которые можно опираться в будущих проектах.</div>\n",
    "<div class=\"alert alert-block alert-info\">\n",
    "    \n",
    "А в таком блоке ты можешь оставить комментарии для меня \n",
    "    \n",
    "</div>"
   ]
  },
  {
   "cell_type": "markdown",
   "metadata": {},
   "source": [
    "<div class=\"alert alert-block alert-info\">\n",
    "    \n",
    "Привет, Михаил! Согласен общаться на \"ты\" \n",
    "<div class=\"alert alert-success\">\n",
    "\n",
    "**✔️ Комментарий ревьюера v2✔️**\n",
    "   \n",
    "   Привет, Андрей! Давай посмотрим, что получилось :)\n",
    "\n",
    "</div>\n",
    "    \n",
    "</div>"
   ]
  },
  {
   "cell_type": "markdown",
   "metadata": {
    "id": "-VFbjcb3Awb7"
   },
   "source": [
    "# Исследование объявлений о продаже квартир\n",
    "\n",
    "В вашем распоряжении данные сервиса Яндекс Недвижимость — архив объявлений о продаже квартир в Санкт-Петербурге и соседних населённых пунктах за несколько лет. Вам нужно научиться определять рыночную стоимость объектов недвижимости. Для этого проведите исследовательский анализ данных и установите параметры, влияющие на цену объектов. Это позволит построить автоматизированную систему: она отследит аномалии и мошенническую деятельность.\n",
    "\n",
    "По каждой квартире на продажу доступны два вида данных. Первые вписаны пользователем, вторые — получены автоматически на основе картографических данных. Например, расстояние до центра, аэропорта и других объектов — эти данные автоматически получены из геосервисов. Количество парков и водоёмов также заполняется без участия пользователя."
   ]
  },
  {
   "cell_type": "markdown",
   "metadata": {},
   "source": [
    "<div class=\"alert alert-warning\">\n",
    "\n",
    "**⚠️ Комментарий ревьюера ⚠️**\n",
    "   \n",
    "   Рекомендую добавить к работе небольшой план работы, написанный своими словами - навык составления ТЗ пригодится в будущем\n",
    "\n",
    "</div>\n"
   ]
  },
  {
   "cell_type": "markdown",
   "metadata": {},
   "source": [
    "<div class=\"alert alert-block alert-info\">\n",
    "    \n",
    "**План работы:**\n",
    "- Открыть  и посмотреть на данные\n",
    "- Провести предварительную обработку данных (работа с пропусками, удалить дубликаты, обработать выбросы, поменять тип данных там где это можно сделать)\n",
    "- Исследовать данные (определить параметры, которые влияют на стоимость квартир)\n",
    "- Сделать выводы по результатам исследования\n",
    "- Отправить работу на проверку\n",
    "\n",
    "<div class=\"alert alert-success\">\n",
    "\n",
    "**✔️ Комментарий ревьюера v2✔️**\n",
    "   \n",
    "   Отлично👍\n",
    "\n",
    "</div>\n",
    "    \n",
    "</div>"
   ]
  },
  {
   "cell_type": "markdown",
   "metadata": {
    "id": "aeFLH07FAwb9"
   },
   "source": [
    "### Откройте файл с данными и изучите общую информацию"
   ]
  },
  {
   "cell_type": "markdown",
   "metadata": {
    "id": "7MZxY65pAwb9"
   },
   "source": [
    "#### Импортируем необходимые библиотеки"
   ]
  },
  {
   "cell_type": "code",
   "execution_count": 1,
   "metadata": {},
   "outputs": [],
   "source": [
    "import pandas as pd\n",
    "import matplotlib.pyplot as plt\n",
    "import seaborn as sns"
   ]
  },
  {
   "cell_type": "markdown",
   "metadata": {},
   "source": [
    "#### Открываем файл с данными"
   ]
  },
  {
   "cell_type": "code",
   "execution_count": 2,
   "metadata": {},
   "outputs": [],
   "source": [
    "# Разделитель полей - \\t\n",
    "data = pd.read_csv('/datasets/real_estate_data.csv', sep='\\t')"
   ]
  },
  {
   "cell_type": "markdown",
   "metadata": {},
   "source": [
    "#### Смотрим общую информацию"
   ]
  },
  {
   "cell_type": "code",
   "execution_count": 3,
   "metadata": {},
   "outputs": [
    {
     "data": {
      "text/plain": [
       "(23699, 22)"
      ]
     },
     "execution_count": 3,
     "metadata": {},
     "output_type": "execute_result"
    }
   ],
   "source": [
    "data.shape"
   ]
  },
  {
   "cell_type": "markdown",
   "metadata": {},
   "source": [
    "Начальный размер данных равен 23699 записей"
   ]
  },
  {
   "cell_type": "code",
   "execution_count": 4,
   "metadata": {},
   "outputs": [
    {
     "data": {
      "text/html": [
       "<div>\n",
       "<style scoped>\n",
       "    .dataframe tbody tr th:only-of-type {\n",
       "        vertical-align: middle;\n",
       "    }\n",
       "\n",
       "    .dataframe tbody tr th {\n",
       "        vertical-align: top;\n",
       "    }\n",
       "\n",
       "    .dataframe thead th {\n",
       "        text-align: right;\n",
       "    }\n",
       "</style>\n",
       "<table border=\"1\" class=\"dataframe\">\n",
       "  <thead>\n",
       "    <tr style=\"text-align: right;\">\n",
       "      <th></th>\n",
       "      <th>total_images</th>\n",
       "      <th>last_price</th>\n",
       "      <th>total_area</th>\n",
       "      <th>first_day_exposition</th>\n",
       "      <th>rooms</th>\n",
       "      <th>ceiling_height</th>\n",
       "      <th>floors_total</th>\n",
       "      <th>living_area</th>\n",
       "      <th>floor</th>\n",
       "      <th>is_apartment</th>\n",
       "      <th>...</th>\n",
       "      <th>kitchen_area</th>\n",
       "      <th>balcony</th>\n",
       "      <th>locality_name</th>\n",
       "      <th>airports_nearest</th>\n",
       "      <th>cityCenters_nearest</th>\n",
       "      <th>parks_around3000</th>\n",
       "      <th>parks_nearest</th>\n",
       "      <th>ponds_around3000</th>\n",
       "      <th>ponds_nearest</th>\n",
       "      <th>days_exposition</th>\n",
       "    </tr>\n",
       "  </thead>\n",
       "  <tbody>\n",
       "    <tr>\n",
       "      <th>0</th>\n",
       "      <td>20</td>\n",
       "      <td>13000000.0</td>\n",
       "      <td>108.0</td>\n",
       "      <td>2019-03-07T00:00:00</td>\n",
       "      <td>3</td>\n",
       "      <td>2.70</td>\n",
       "      <td>16.0</td>\n",
       "      <td>51.0</td>\n",
       "      <td>8</td>\n",
       "      <td>NaN</td>\n",
       "      <td>...</td>\n",
       "      <td>25.0</td>\n",
       "      <td>NaN</td>\n",
       "      <td>Санкт-Петербург</td>\n",
       "      <td>18863.0</td>\n",
       "      <td>16028.0</td>\n",
       "      <td>1.0</td>\n",
       "      <td>482.0</td>\n",
       "      <td>2.0</td>\n",
       "      <td>755.0</td>\n",
       "      <td>NaN</td>\n",
       "    </tr>\n",
       "    <tr>\n",
       "      <th>1</th>\n",
       "      <td>7</td>\n",
       "      <td>3350000.0</td>\n",
       "      <td>40.4</td>\n",
       "      <td>2018-12-04T00:00:00</td>\n",
       "      <td>1</td>\n",
       "      <td>NaN</td>\n",
       "      <td>11.0</td>\n",
       "      <td>18.6</td>\n",
       "      <td>1</td>\n",
       "      <td>NaN</td>\n",
       "      <td>...</td>\n",
       "      <td>11.0</td>\n",
       "      <td>2.0</td>\n",
       "      <td>посёлок Шушары</td>\n",
       "      <td>12817.0</td>\n",
       "      <td>18603.0</td>\n",
       "      <td>0.0</td>\n",
       "      <td>NaN</td>\n",
       "      <td>0.0</td>\n",
       "      <td>NaN</td>\n",
       "      <td>81.0</td>\n",
       "    </tr>\n",
       "    <tr>\n",
       "      <th>2</th>\n",
       "      <td>10</td>\n",
       "      <td>5196000.0</td>\n",
       "      <td>56.0</td>\n",
       "      <td>2015-08-20T00:00:00</td>\n",
       "      <td>2</td>\n",
       "      <td>NaN</td>\n",
       "      <td>5.0</td>\n",
       "      <td>34.3</td>\n",
       "      <td>4</td>\n",
       "      <td>NaN</td>\n",
       "      <td>...</td>\n",
       "      <td>8.3</td>\n",
       "      <td>0.0</td>\n",
       "      <td>Санкт-Петербург</td>\n",
       "      <td>21741.0</td>\n",
       "      <td>13933.0</td>\n",
       "      <td>1.0</td>\n",
       "      <td>90.0</td>\n",
       "      <td>2.0</td>\n",
       "      <td>574.0</td>\n",
       "      <td>558.0</td>\n",
       "    </tr>\n",
       "    <tr>\n",
       "      <th>3</th>\n",
       "      <td>0</td>\n",
       "      <td>64900000.0</td>\n",
       "      <td>159.0</td>\n",
       "      <td>2015-07-24T00:00:00</td>\n",
       "      <td>3</td>\n",
       "      <td>NaN</td>\n",
       "      <td>14.0</td>\n",
       "      <td>NaN</td>\n",
       "      <td>9</td>\n",
       "      <td>NaN</td>\n",
       "      <td>...</td>\n",
       "      <td>NaN</td>\n",
       "      <td>0.0</td>\n",
       "      <td>Санкт-Петербург</td>\n",
       "      <td>28098.0</td>\n",
       "      <td>6800.0</td>\n",
       "      <td>2.0</td>\n",
       "      <td>84.0</td>\n",
       "      <td>3.0</td>\n",
       "      <td>234.0</td>\n",
       "      <td>424.0</td>\n",
       "    </tr>\n",
       "    <tr>\n",
       "      <th>4</th>\n",
       "      <td>2</td>\n",
       "      <td>10000000.0</td>\n",
       "      <td>100.0</td>\n",
       "      <td>2018-06-19T00:00:00</td>\n",
       "      <td>2</td>\n",
       "      <td>3.03</td>\n",
       "      <td>14.0</td>\n",
       "      <td>32.0</td>\n",
       "      <td>13</td>\n",
       "      <td>NaN</td>\n",
       "      <td>...</td>\n",
       "      <td>41.0</td>\n",
       "      <td>NaN</td>\n",
       "      <td>Санкт-Петербург</td>\n",
       "      <td>31856.0</td>\n",
       "      <td>8098.0</td>\n",
       "      <td>2.0</td>\n",
       "      <td>112.0</td>\n",
       "      <td>1.0</td>\n",
       "      <td>48.0</td>\n",
       "      <td>121.0</td>\n",
       "    </tr>\n",
       "  </tbody>\n",
       "</table>\n",
       "<p>5 rows × 22 columns</p>\n",
       "</div>"
      ],
      "text/plain": [
       "   total_images  last_price  total_area first_day_exposition  rooms  \\\n",
       "0            20  13000000.0       108.0  2019-03-07T00:00:00      3   \n",
       "1             7   3350000.0        40.4  2018-12-04T00:00:00      1   \n",
       "2            10   5196000.0        56.0  2015-08-20T00:00:00      2   \n",
       "3             0  64900000.0       159.0  2015-07-24T00:00:00      3   \n",
       "4             2  10000000.0       100.0  2018-06-19T00:00:00      2   \n",
       "\n",
       "   ceiling_height  floors_total  living_area  floor is_apartment  ...  \\\n",
       "0            2.70          16.0         51.0      8          NaN  ...   \n",
       "1             NaN          11.0         18.6      1          NaN  ...   \n",
       "2             NaN           5.0         34.3      4          NaN  ...   \n",
       "3             NaN          14.0          NaN      9          NaN  ...   \n",
       "4            3.03          14.0         32.0     13          NaN  ...   \n",
       "\n",
       "   kitchen_area  balcony    locality_name  airports_nearest  \\\n",
       "0          25.0      NaN  Санкт-Петербург           18863.0   \n",
       "1          11.0      2.0   посёлок Шушары           12817.0   \n",
       "2           8.3      0.0  Санкт-Петербург           21741.0   \n",
       "3           NaN      0.0  Санкт-Петербург           28098.0   \n",
       "4          41.0      NaN  Санкт-Петербург           31856.0   \n",
       "\n",
       "  cityCenters_nearest  parks_around3000  parks_nearest  ponds_around3000  \\\n",
       "0             16028.0               1.0          482.0               2.0   \n",
       "1             18603.0               0.0            NaN               0.0   \n",
       "2             13933.0               1.0           90.0               2.0   \n",
       "3              6800.0               2.0           84.0               3.0   \n",
       "4              8098.0               2.0          112.0               1.0   \n",
       "\n",
       "   ponds_nearest  days_exposition  \n",
       "0          755.0              NaN  \n",
       "1            NaN             81.0  \n",
       "2          574.0            558.0  \n",
       "3          234.0            424.0  \n",
       "4           48.0            121.0  \n",
       "\n",
       "[5 rows x 22 columns]"
      ]
     },
     "execution_count": 4,
     "metadata": {},
     "output_type": "execute_result"
    }
   ],
   "source": [
    "# Выведем первые 5 строк\n",
    "data.head()"
   ]
  },
  {
   "cell_type": "code",
   "execution_count": 5,
   "metadata": {},
   "outputs": [
    {
     "name": "stdout",
     "output_type": "stream",
     "text": [
      "<class 'pandas.core.frame.DataFrame'>\n",
      "RangeIndex: 23699 entries, 0 to 23698\n",
      "Data columns (total 22 columns):\n",
      " #   Column                Non-Null Count  Dtype  \n",
      "---  ------                --------------  -----  \n",
      " 0   total_images          23699 non-null  int64  \n",
      " 1   last_price            23699 non-null  float64\n",
      " 2   total_area            23699 non-null  float64\n",
      " 3   first_day_exposition  23699 non-null  object \n",
      " 4   rooms                 23699 non-null  int64  \n",
      " 5   ceiling_height        14504 non-null  float64\n",
      " 6   floors_total          23613 non-null  float64\n",
      " 7   living_area           21796 non-null  float64\n",
      " 8   floor                 23699 non-null  int64  \n",
      " 9   is_apartment          2775 non-null   object \n",
      " 10  studio                23699 non-null  bool   \n",
      " 11  open_plan             23699 non-null  bool   \n",
      " 12  kitchen_area          21421 non-null  float64\n",
      " 13  balcony               12180 non-null  float64\n",
      " 14  locality_name         23650 non-null  object \n",
      " 15  airports_nearest      18157 non-null  float64\n",
      " 16  cityCenters_nearest   18180 non-null  float64\n",
      " 17  parks_around3000      18181 non-null  float64\n",
      " 18  parks_nearest         8079 non-null   float64\n",
      " 19  ponds_around3000      18181 non-null  float64\n",
      " 20  ponds_nearest         9110 non-null   float64\n",
      " 21  days_exposition       20518 non-null  float64\n",
      "dtypes: bool(2), float64(14), int64(3), object(3)\n",
      "memory usage: 3.7+ MB\n"
     ]
    }
   ],
   "source": [
    "data.info()"
   ]
  },
  {
   "cell_type": "markdown",
   "metadata": {},
   "source": [
    "В полученных данных есть столбцы с пустыми значениями, особенно много пропущенных значений в столбцах is_apartment (апартаменты), parks_nearest (расстояние до ближайшего парка) и ponds_nearest (расстояние до ближайшего водоёма). С пропусками разберемся на этапе предобработки данных\n",
    "\n",
    "Большинство столбцов имеют числовое значение"
   ]
  },
  {
   "cell_type": "markdown",
   "metadata": {},
   "source": [
    "#### Построим гистограммы для всех числовых столбцов таблицы"
   ]
  },
  {
   "cell_type": "code",
   "execution_count": 6,
   "metadata": {},
   "outputs": [
    {
     "data": {
      "image/png": "[encoded data removed]",
      "text/plain": [
       "<Figure size 1080x1440 with 20 Axes>"
      ]
     },
     "metadata": {
      "needs_background": "light"
     },
     "output_type": "display_data"
    }
   ],
   "source": [
    "data.hist(figsize=(15, 20))\n",
    "plt.show()"
   ]
  },
  {
   "cell_type": "markdown",
   "metadata": {},
   "source": [
    "У некоторых столбцов (total_images, airports_nearest, ponds_nearest) распределение близко к нормальному"
   ]
  },
  {
   "cell_type": "markdown",
   "metadata": {},
   "source": [
    "<div class=\"alert alert-success\">\n",
    "\n",
    "**✔️ Комментарий ревьюера ✔️**\n",
    "   \n",
    "   Хорошо. Гистограммы построены. Информация о данных получена. Приступим к предобработке\n",
    "\n",
    "</div>\n"
   ]
  },
  {
   "cell_type": "markdown",
   "metadata": {
    "id": "-O5NtivEAwb9"
   },
   "source": [
    "### Выполните предобработку данных"
   ]
  },
  {
   "cell_type": "markdown",
   "metadata": {
    "id": "7v3vAeTuAwb-"
   },
   "source": [
    "#### Изучим пропущенные значения в столбцах"
   ]
  },
  {
   "cell_type": "code",
   "execution_count": 7,
   "metadata": {},
   "outputs": [
    {
     "data": {
      "text/plain": [
       "total_images                0\n",
       "last_price                  0\n",
       "total_area                  0\n",
       "first_day_exposition        0\n",
       "rooms                       0\n",
       "ceiling_height           9195\n",
       "floors_total               86\n",
       "living_area              1903\n",
       "floor                       0\n",
       "is_apartment            20924\n",
       "studio                      0\n",
       "open_plan                   0\n",
       "kitchen_area             2278\n",
       "balcony                 11519\n",
       "locality_name              49\n",
       "airports_nearest         5542\n",
       "cityCenters_nearest      5519\n",
       "parks_around3000         5518\n",
       "parks_nearest           15620\n",
       "ponds_around3000         5518\n",
       "ponds_nearest           14589\n",
       "days_exposition          3181\n",
       "dtype: int64"
      ]
     },
     "execution_count": 7,
     "metadata": {},
     "output_type": "execute_result"
    }
   ],
   "source": [
    "# Посчитаем количество пропущенных значений в столбцах\n",
    "data.isna().sum()"
   ]
  },
  {
   "cell_type": "markdown",
   "metadata": {},
   "source": [
    "Изучим пропущенные значения в каждом столбце"
   ]
  },
  {
   "cell_type": "markdown",
   "metadata": {},
   "source": [
    "##### Пропущенные значения в столбце ceiling_height (высота потолков (м))"
   ]
  },
  {
   "cell_type": "code",
   "execution_count": 8,
   "metadata": {},
   "outputs": [
    {
     "data": {
      "text/plain": [
       "9195"
      ]
     },
     "execution_count": 8,
     "metadata": {},
     "output_type": "execute_result"
    }
   ],
   "source": [
    "data['ceiling_height'].isna().sum()"
   ]
  },
  {
   "cell_type": "markdown",
   "metadata": {},
   "source": [
    "Из 23699 записей в этом столбце пропущенно 9195 значений. Удаление пропусков приведет к значительному сокращению данных."
   ]
  },
  {
   "cell_type": "code",
   "execution_count": 9,
   "metadata": {},
   "outputs": [
    {
     "data": {
      "text/plain": [
       "count    14504.000000\n",
       "mean         2.771499\n",
       "std          1.261056\n",
       "min          1.000000\n",
       "25%          2.520000\n",
       "50%          2.650000\n",
       "75%          2.800000\n",
       "max        100.000000\n",
       "Name: ceiling_height, dtype: float64"
      ]
     },
     "execution_count": 9,
     "metadata": {},
     "output_type": "execute_result"
    }
   ],
   "source": [
    "data['ceiling_height'].describe()"
   ]
  },
  {
   "cell_type": "markdown",
   "metadata": {},
   "source": [
    "В этом столбце количественные значения. Заменим пропуски медианой, чтобы исключить влияние выбросов"
   ]
  },
  {
   "cell_type": "code",
   "execution_count": 10,
   "metadata": {},
   "outputs": [],
   "source": [
    "data['ceiling_height'] = data['ceiling_height'].fillna(value=data['ceiling_height'].median())"
   ]
  },
  {
   "cell_type": "code",
   "execution_count": 11,
   "metadata": {},
   "outputs": [
    {
     "data": {
      "text/plain": [
       "0"
      ]
     },
     "execution_count": 11,
     "metadata": {},
     "output_type": "execute_result"
    }
   ],
   "source": [
    "data['ceiling_height'].isna().sum()"
   ]
  },
  {
   "cell_type": "markdown",
   "metadata": {},
   "source": [
    "Возможная причина пропусков - натяжные потолки, из-за которых поменялась высота потолков и либо высоту потоколка не перемеряли либо высота в разных комнатах разная."
   ]
  },
  {
   "cell_type": "markdown",
   "metadata": {},
   "source": [
    "##### floors_total (всего этажей в доме)"
   ]
  },
  {
   "cell_type": "code",
   "execution_count": 12,
   "metadata": {},
   "outputs": [
    {
     "data": {
      "text/plain": [
       "86"
      ]
     },
     "execution_count": 12,
     "metadata": {},
     "output_type": "execute_result"
    }
   ],
   "source": [
    "data['floors_total'].isna().sum()"
   ]
  },
  {
   "cell_type": "markdown",
   "metadata": {},
   "source": [
    "Пропущенно немного, поэтому удалим такие записи"
   ]
  },
  {
   "cell_type": "code",
   "execution_count": 13,
   "metadata": {},
   "outputs": [],
   "source": [
    "data.dropna(subset=['floors_total'], inplace=True)"
   ]
  },
  {
   "cell_type": "code",
   "execution_count": 14,
   "metadata": {},
   "outputs": [
    {
     "data": {
      "text/plain": [
       "0"
      ]
     },
     "execution_count": 14,
     "metadata": {},
     "output_type": "execute_result"
    }
   ],
   "source": [
    "data['floors_total'].isna().sum()"
   ]
  },
  {
   "cell_type": "markdown",
   "metadata": {},
   "source": [
    "Считаю, что это случайная причина пропуска в этом столбце"
   ]
  },
  {
   "cell_type": "markdown",
   "metadata": {},
   "source": [
    "##### living_area (жилая площадь в квадратных метрах (м²))"
   ]
  },
  {
   "cell_type": "code",
   "execution_count": 15,
   "metadata": {},
   "outputs": [
    {
     "data": {
      "text/plain": [
       "1870"
      ]
     },
     "execution_count": 15,
     "metadata": {},
     "output_type": "execute_result"
    }
   ],
   "source": [
    "data['living_area'].isna().sum()"
   ]
  },
  {
   "cell_type": "markdown",
   "metadata": {},
   "source": [
    "Пропущенных значений в этом столбце много. Удалять строки с пропущенными значениями в этом столбце нельзя иначе значительно сократятся данные, а еще не обработаны пропуски в других столбцах и выбросы, удаление которых тоже приведет к сокращению данных"
   ]
  },
  {
   "cell_type": "markdown",
   "metadata": {},
   "source": [
    "Попробуем восстановить некоторые пропущенные данные.\n",
    "\n",
    "Общая площадь состоит из жилой площади, площади кухни и др. помещений (туалет, коридор, ванна)"
   ]
  },
  {
   "cell_type": "code",
   "execution_count": 16,
   "metadata": {},
   "outputs": [],
   "source": [
    "# Убираю по замечанию ревьювера\n",
    "# Посмотрим на разницу: общая площадь минус жилая площадь с кухней\n",
    "# (data['total_area'] - (data['living_area'] + data['kitchen_area'])).describe()"
   ]
  },
  {
   "cell_type": "code",
   "execution_count": 17,
   "metadata": {},
   "outputs": [],
   "source": [
    "# Убираю по замечанию ревьювера\n",
    "# За площадь других помещений возьмем медиану этой разницы\n",
    "# other_area = (data['total_area'] - (data['living_area'] + data['kitchen_area'])).median()"
   ]
  },
  {
   "cell_type": "markdown",
   "metadata": {},
   "source": [
    "<div class=\"alert alert-danger\">\n",
    "\n",
    "**❌ Комментарий ревьюера ❌**\n",
    "   \n",
    "   Заполнять через разность не совсем верно, так как общая площадь, помимо кухни и жилой, также включает в себя кладовые, санузлы и т.п.  Мы можем использовать метод медианного коэффициента для заполнения пропусков в столбце living_area, основанный на том, что данный столбец имеет корреляционную связь со столбцом total_area, в котором пропусков нет Нужно найти **соотношение медианной общей площади к медианной жилой**. А затем, заполнить пропуски в столбце `living_area` **отношением общей площади к найденному соотношению**.\n",
    "\n",
    "  Со столбцом `kitchen_area` можно поступить так же, как со столбцом `living_area`.\n",
    "\n",
    "</div>\n"
   ]
  },
  {
   "cell_type": "markdown",
   "metadata": {},
   "source": [
    "<div class=\"alert alert-block alert-info\">\n",
    "    \n",
    "Вычислим медианный коэффициент - соотношение медианной общей площади к медианной жилой. Далее по медианному коэффициенту заполним пропуски в жилой площади\n",
    "<div class=\"alert alert-success\">\n",
    "\n",
    "**✔️ Комментарий ревьюера v2✔️**\n",
    "   \n",
    "   Исправлено👍\n",
    "\n",
    "</div>\n",
    "    \n",
    "</div>"
   ]
  },
  {
   "cell_type": "code",
   "execution_count": 18,
   "metadata": {},
   "outputs": [],
   "source": [
    "coef_median = data['total_area'].median() / data['living_area'].median()"
   ]
  },
  {
   "cell_type": "code",
   "execution_count": 19,
   "metadata": {},
   "outputs": [
    {
     "data": {
      "text/plain": [
       "1.7333333333333334"
      ]
     },
     "execution_count": 19,
     "metadata": {},
     "output_type": "execute_result"
    }
   ],
   "source": [
    "coef_median"
   ]
  },
  {
   "cell_type": "code",
   "execution_count": 20,
   "metadata": {},
   "outputs": [],
   "source": [
    "data.loc[data['living_area'].isna(), 'living_area'] = data['total_area'] / coef_median"
   ]
  },
  {
   "cell_type": "code",
   "execution_count": 21,
   "metadata": {},
   "outputs": [],
   "source": [
    "# Убираю по замечанию ревьювера\n",
    "# Заполним пропуски в жилой площади по данным из столбцов total_area и kitchen_area\n",
    "# data.loc[data['living_area'].isna(), 'living_area'] = data['total_area'] - data['kitchen_area'] - other_area"
   ]
  },
  {
   "cell_type": "code",
   "execution_count": 22,
   "metadata": {},
   "outputs": [],
   "source": [
    "# Убираю по замечанию ревьювера\n",
    "# data.dropna(subset=['living_area'], inplace=True)"
   ]
  },
  {
   "cell_type": "code",
   "execution_count": 23,
   "metadata": {},
   "outputs": [
    {
     "data": {
      "text/plain": [
       "0"
      ]
     },
     "execution_count": 23,
     "metadata": {},
     "output_type": "execute_result"
    }
   ],
   "source": [
    "data['living_area'].isna().sum()"
   ]
  },
  {
   "cell_type": "markdown",
   "metadata": {},
   "source": [
    "Возможная причина пропусков - была небольшая перепланировка и новый размер жилой площади не перемеряли."
   ]
  },
  {
   "cell_type": "markdown",
   "metadata": {},
   "source": [
    "##### is_apartment (апартаменты (булев тип))"
   ]
  },
  {
   "cell_type": "code",
   "execution_count": 24,
   "metadata": {},
   "outputs": [
    {
     "data": {
      "text/plain": [
       "20838"
      ]
     },
     "execution_count": 24,
     "metadata": {},
     "output_type": "execute_result"
    }
   ],
   "source": [
    "data['is_apartment'].isna().sum()"
   ]
  },
  {
   "cell_type": "code",
   "execution_count": 25,
   "metadata": {},
   "outputs": [
    {
     "data": {
      "text/plain": [
       "False    2725\n",
       "True       50\n",
       "Name: is_apartment, dtype: int64"
      ]
     },
     "execution_count": 25,
     "metadata": {},
     "output_type": "execute_result"
    }
   ],
   "source": [
    "data['is_apartment'].value_counts()"
   ]
  },
  {
   "cell_type": "markdown",
   "metadata": {},
   "source": [
    "Пропусков очень много. Самое большое количество пропусков в этом столбце. Всего 50 значений True"
   ]
  },
  {
   "cell_type": "markdown",
   "metadata": {},
   "source": [
    "Удалим весь столбец, т.к. тут очень много пропусков."
   ]
  },
  {
   "cell_type": "code",
   "execution_count": 26,
   "metadata": {},
   "outputs": [],
   "source": [
    "# Исправлено по замечанию ревьювера\n",
    "# data.drop(columns=['is_apartment'], inplace=True)\n",
    "data['is_apartment'] = data['is_apartment'].fillna(value=False)"
   ]
  },
  {
   "cell_type": "markdown",
   "metadata": {},
   "source": [
    "<div class=\"alert alert-danger\">\n",
    "\n",
    "**❌ Комментарий ревьюера ❌**\n",
    "   \n",
    "   Удалить пропуски мы можем только когда их мало, здесь же более логично предположить, что большинство квартир по определению не является апартаментами, поэтому пропуски лучше заполнить значением False\n",
    "\n",
    "</div>\n"
   ]
  },
  {
   "cell_type": "markdown",
   "metadata": {},
   "source": [
    "<div class=\"alert alert-block alert-info\">\n",
    "    \n",
    "Тут я удалил весь столбец (is_apartment), т.к. в нем очень много пропусков и он не участвует в исследовании\n",
    "<div class=\"alert alert-danger\">\n",
    "\n",
    "**❌ Комментарий ревьюера v2❌**\n",
    "   \n",
    "   \n",
    "\n",
    "\n",
    "\n",
    "   \n",
    "   Вообще так делать не стоит, так как в дальнейшем гипотетический заказчик будет использовать наш анализ с очищенными данными для построения модели машинного обучения. А столбец is_apartment является важным признаком для ее обучения. Поэтому не стоит удалять столбцы, тем более, здесь достаточно просто заполнить пропуски\n",
    "\n",
    "</div>\n",
    "\n",
    "\n",
    "    \n",
    "</div>"
   ]
  },
  {
   "cell_type": "markdown",
   "metadata": {},
   "source": [
    "<div class=\"alert alert-block alert-info\">\n",
    "    \n",
    "Заполнил пропуски значением False\n",
    "<div class=\"alert alert-success\">\n",
    "\n",
    "**✔️ Комментарий ревьюера v3✔️**\n",
    "   \n",
    "   Исправлено👍\n",
    "\n",
    "</div>\n",
    "    \n",
    "</div>"
   ]
  },
  {
   "cell_type": "code",
   "execution_count": 27,
   "metadata": {},
   "outputs": [
    {
     "data": {
      "text/plain": [
       "0"
      ]
     },
     "execution_count": 27,
     "metadata": {},
     "output_type": "execute_result"
    }
   ],
   "source": [
    "data['is_apartment'].isna().sum()"
   ]
  },
  {
   "cell_type": "markdown",
   "metadata": {},
   "source": [
    "##### kitchen_area (площадь кухни в квадратных метрах (м²))"
   ]
  },
  {
   "cell_type": "code",
   "execution_count": 28,
   "metadata": {},
   "outputs": [
    {
     "data": {
      "text/plain": [
       "2231"
      ]
     },
     "execution_count": 28,
     "metadata": {},
     "output_type": "execute_result"
    }
   ],
   "source": [
    "data['kitchen_area'].isna().sum()"
   ]
  },
  {
   "cell_type": "markdown",
   "metadata": {},
   "source": [
    "Проверим гипотезу, что пустые значения в площади кухни из-за того что это студия"
   ]
  },
  {
   "cell_type": "code",
   "execution_count": 29,
   "metadata": {},
   "outputs": [
    {
     "data": {
      "text/plain": [
       "False    2085\n",
       "True      146\n",
       "Name: studio, dtype: int64"
      ]
     },
     "execution_count": 29,
     "metadata": {},
     "output_type": "execute_result"
    }
   ],
   "source": [
    "data[data['kitchen_area'].isna()]['studio'].value_counts()"
   ]
  },
  {
   "cell_type": "code",
   "execution_count": 30,
   "metadata": {},
   "outputs": [
    {
     "data": {
      "text/plain": [
       "array([nan])"
      ]
     },
     "execution_count": 30,
     "metadata": {},
     "output_type": "execute_result"
    }
   ],
   "source": [
    "data[data['studio'] == True]['kitchen_area'].unique()"
   ]
  },
  {
   "cell_type": "markdown",
   "metadata": {},
   "source": [
    "В студиях не указывают размер кухни. Пропуск неслучайный"
   ]
  },
  {
   "cell_type": "markdown",
   "metadata": {},
   "source": [
    "Проверим гипотезу, что пустые значения в площади кухни из-за того что это свободная планировка"
   ]
  },
  {
   "cell_type": "code",
   "execution_count": 31,
   "metadata": {},
   "outputs": [
    {
     "data": {
      "text/plain": [
       "False    2164\n",
       "True       67\n",
       "Name: open_plan, dtype: int64"
      ]
     },
     "execution_count": 31,
     "metadata": {},
     "output_type": "execute_result"
    }
   ],
   "source": [
    "data[data['kitchen_area'].isna()]['open_plan'].value_counts()"
   ]
  },
  {
   "cell_type": "code",
   "execution_count": 32,
   "metadata": {},
   "outputs": [
    {
     "data": {
      "text/plain": [
       "array([nan])"
      ]
     },
     "execution_count": 32,
     "metadata": {},
     "output_type": "execute_result"
    }
   ],
   "source": [
    "data[data['open_plan'] == True]['kitchen_area'].unique()"
   ]
  },
  {
   "cell_type": "markdown",
   "metadata": {},
   "source": [
    "В студиях и свободных планировках не указывают размер кухни. Пропуск неслучайный. Но не всегда пустое значение в площади кухни означает, что это студия или свободная планировка. Удалять пропуски точно нельзя, иначе мы удалим все студии и свободные планировки"
   ]
  },
  {
   "cell_type": "markdown",
   "metadata": {},
   "source": [
    "Пропуски в студиях и свободных планировках оставим, остальные пропуски заменим на медиану"
   ]
  },
  {
   "cell_type": "code",
   "execution_count": 33,
   "metadata": {},
   "outputs": [
    {
     "data": {
      "text/plain": [
       "5.714285714285714"
      ]
     },
     "execution_count": 33,
     "metadata": {},
     "output_type": "execute_result"
    }
   ],
   "source": [
    "# Исправлено по замечанию ревьювера\n",
    "# Вычислим медианный коэфициент\n",
    "coef_kitchen_area = data['total_area'].median() / data['kitchen_area'].median()\n",
    "coef_kitchen_area"
   ]
  },
  {
   "cell_type": "code",
   "execution_count": 33,
   "metadata": {},
   "outputs": [],
   "source": [
    "# Исправлено по замечанию ревьювера\n",
    "# Пропуски, кроме в студиях и свободных планировках, заменим на вычисленные значения по медианному коэффициенту\n",
    "data.loc[(\n",
    "    (data['kitchen_area'].isna()) & \n",
    "    (data['studio'] == False) & \n",
    "    (data['open_plan'] == False)),\n",
    "    'kitchen_area'] = data['total_area'] / coef_kitchen_area"
   ]
  },
  {
   "cell_type": "code",
   "execution_count": 34,
   "metadata": {},
   "outputs": [],
   "source": [
    "# Добавлено по замечанию ревьювера\n",
    "data['kitchen_area'] = data['kitchen_area'].fillna(0)"
   ]
  },
  {
   "cell_type": "code",
   "execution_count": 35,
   "metadata": {},
   "outputs": [
    {
     "data": {
      "text/plain": [
       "0"
      ]
     },
     "execution_count": 35,
     "metadata": {},
     "output_type": "execute_result"
    }
   ],
   "source": [
    "data['kitchen_area'].isna().sum()"
   ]
  },
  {
   "cell_type": "markdown",
   "metadata": {},
   "source": [
    "Пропуски в студиях и свободных планировках заменил на 0"
   ]
  },
  {
   "cell_type": "markdown",
   "metadata": {},
   "source": [
    "<div class=\"alert alert-danger\">\n",
    "\n",
    "**❌ Комментарий ревьюера ❌**\n",
    "   \n",
    "   Здесь мы можем заполнить пропуски в студиях и свободных планировках значением 0, так как кухня там не выделена. В остальных случаях стоит использовать метод медианного коэффициента - заполнение медианой может привести к ситуации, когда у объекта окажется, что сумма жилой и кухни будет превышать общую\n",
    "\n",
    "</div>\n"
   ]
  },
  {
   "cell_type": "markdown",
   "metadata": {},
   "source": [
    "<div class=\"alert alert-block alert-info\">\n",
    "    \n",
    "Сначала я так и делал (заполнил пропуски в студиях и свободных планировках значением 0), но потом на этапе исследовательского анализа эти нули выглядели как \"выбросы\" и приходилось учитывать, что это не \"выбросы\", а студии и свободные планировки, чтобы не удалить их как \"выбросы\". Поэтому предлагаю оставить пропуски в студиях и свободных планировках\n",
    "    \n",
    "Остальные пропуски заполнил по твоему замечанию (заменил на вычисленные значения по медианному коэффициенту)\n",
    "<div class=\"alert alert-danger\">\n",
    "\n",
    "**❌ Комментарий ревьюера v2❌**\n",
    "   \n",
    "   Но ведь эти значения не являются выбросами - мы можем не включать их в границы фильтрации. Заполняя пропуски, мы должны обработать столбец полностью\n",
    "\n",
    "</div>\n",
    "    \n",
    "</div>"
   ]
  },
  {
   "cell_type": "markdown",
   "metadata": {},
   "source": [
    "<div class=\"alert alert-block alert-info\">\n",
    "    \n",
    "Пропуски в студиях и свободных планировках заменил на 0\n",
    "<div class=\"alert alert-success\">\n",
    "\n",
    "**✔️ Комментарий ревьюера v3✔️**\n",
    "   \n",
    "   Хорошо👍\n",
    "\n",
    "</div>\n",
    "    \n",
    "</div>"
   ]
  },
  {
   "cell_type": "markdown",
   "metadata": {},
   "source": [
    "##### balcony (число балконов)"
   ]
  },
  {
   "cell_type": "code",
   "execution_count": 36,
   "metadata": {},
   "outputs": [
    {
     "data": {
      "text/plain": [
       "11480"
      ]
     },
     "execution_count": 36,
     "metadata": {},
     "output_type": "execute_result"
    }
   ],
   "source": [
    "data['balcony'].isna().sum()"
   ]
  },
  {
   "cell_type": "markdown",
   "metadata": {},
   "source": [
    "Пропусков в этом столбце много, поэтому удалять нельзя иначе это сократит данные почти в два раза"
   ]
  },
  {
   "cell_type": "code",
   "execution_count": 37,
   "metadata": {},
   "outputs": [
    {
     "data": {
      "text/plain": [
       "1    1926\n",
       "2    1778\n",
       "3    1514\n",
       "4    1350\n",
       "5    1237\n",
       "Name: floor, dtype: int64"
      ]
     },
     "execution_count": 37,
     "metadata": {},
     "output_type": "execute_result"
    }
   ],
   "source": [
    "# Посмотрим на каких этажах больше всего пропусков\n",
    "data[data['balcony'].isna()]['floor'].value_counts().head()"
   ]
  },
  {
   "cell_type": "markdown",
   "metadata": {},
   "source": [
    "Чаще всего пропусков в этом столбце у квартир на первом этаже. Скорее всего пропуски неслучайные, потому что у таких квартир нет балкона.\n",
    "\n",
    "Заменим пропуски на 0"
   ]
  },
  {
   "cell_type": "code",
   "execution_count": 38,
   "metadata": {},
   "outputs": [],
   "source": [
    "data['balcony'] = data['balcony'].fillna(value=0)"
   ]
  },
  {
   "cell_type": "code",
   "execution_count": 39,
   "metadata": {},
   "outputs": [
    {
     "data": {
      "text/plain": [
       "0"
      ]
     },
     "execution_count": 39,
     "metadata": {},
     "output_type": "execute_result"
    }
   ],
   "source": [
    "data['balcony'].isna().sum()"
   ]
  },
  {
   "cell_type": "markdown",
   "metadata": {},
   "source": [
    "##### locality_name (название населённого пункта)"
   ]
  },
  {
   "cell_type": "code",
   "execution_count": 40,
   "metadata": {},
   "outputs": [
    {
     "data": {
      "text/plain": [
       "48"
      ]
     },
     "execution_count": 40,
     "metadata": {},
     "output_type": "execute_result"
    }
   ],
   "source": [
    "data['locality_name'].isna().sum()"
   ]
  },
  {
   "cell_type": "code",
   "execution_count": 41,
   "metadata": {},
   "outputs": [
    {
     "data": {
      "text/plain": [
       "1097      4258.0\n",
       "2033         NaN\n",
       "2603     17369.0\n",
       "2632     17369.0\n",
       "3574      8127.0\n",
       "4151      3902.0\n",
       "4189      3039.0\n",
       "4670      5382.0\n",
       "5343      9538.0\n",
       "5707     16788.0\n",
       "6765     17369.0\n",
       "7114      8582.0\n",
       "7330      4627.0\n",
       "7600     12332.0\n",
       "8568      4065.0\n",
       "9821      3801.0\n",
       "10122     4474.0\n",
       "11248     4069.0\n",
       "12879    12332.0\n",
       "12936     4383.0\n",
       "13223    17369.0\n",
       "13690    23659.0\n",
       "14273    17369.0\n",
       "14342        NaN\n",
       "15686     9633.0\n",
       "15866     9497.0\n",
       "16499    17369.0\n",
       "16561     8619.0\n",
       "16610     1322.0\n",
       "17535        NaN\n",
       "17764    10976.0\n",
       "18526     8943.0\n",
       "18917     8429.0\n",
       "19045     3312.0\n",
       "19972    17369.0\n",
       "20057     4258.0\n",
       "20382        NaN\n",
       "20590        NaN\n",
       "20654     4604.0\n",
       "21119    31897.0\n",
       "21276    41294.0\n",
       "21333     4805.0\n",
       "21715        NaN\n",
       "21898        NaN\n",
       "22474     1780.0\n",
       "22717        NaN\n",
       "22933    17369.0\n",
       "23214     8943.0\n",
       "Name: cityCenters_nearest, dtype: float64"
      ]
     },
     "execution_count": 41,
     "metadata": {},
     "output_type": "execute_result"
    }
   ],
   "source": [
    "# Посмотрим на расстояние до центра Питера для таких пропусков\n",
    "data[data['locality_name'].isna()]['cityCenters_nearest']"
   ]
  },
  {
   "cell_type": "code",
   "execution_count": 42,
   "metadata": {},
   "outputs": [
    {
     "data": {
      "text/html": [
       "<div>\n",
       "<style scoped>\n",
       "    .dataframe tbody tr th:only-of-type {\n",
       "        vertical-align: middle;\n",
       "    }\n",
       "\n",
       "    .dataframe tbody tr th {\n",
       "        vertical-align: top;\n",
       "    }\n",
       "\n",
       "    .dataframe thead th {\n",
       "        text-align: right;\n",
       "    }\n",
       "</style>\n",
       "<table border=\"1\" class=\"dataframe\">\n",
       "  <thead>\n",
       "    <tr style=\"text-align: right;\">\n",
       "      <th></th>\n",
       "      <th>cityCenters_nearest</th>\n",
       "      <th>locality_name</th>\n",
       "    </tr>\n",
       "  </thead>\n",
       "  <tbody>\n",
       "    <tr>\n",
       "      <th>18432</th>\n",
       "      <td>17012.0</td>\n",
       "      <td>посёлок Шушары</td>\n",
       "    </tr>\n",
       "    <tr>\n",
       "      <th>6359</th>\n",
       "      <td>17017.0</td>\n",
       "      <td>посёлок Шушары</td>\n",
       "    </tr>\n",
       "    <tr>\n",
       "      <th>1386</th>\n",
       "      <td>17231.0</td>\n",
       "      <td>посёлок Шушары</td>\n",
       "    </tr>\n",
       "    <tr>\n",
       "      <th>4760</th>\n",
       "      <td>17231.0</td>\n",
       "      <td>посёлок Шушары</td>\n",
       "    </tr>\n",
       "    <tr>\n",
       "      <th>22064</th>\n",
       "      <td>17231.0</td>\n",
       "      <td>посёлок Шушары</td>\n",
       "    </tr>\n",
       "  </tbody>\n",
       "</table>\n",
       "</div>"
      ],
      "text/plain": [
       "       cityCenters_nearest   locality_name\n",
       "18432              17012.0  посёлок Шушары\n",
       "6359               17017.0  посёлок Шушары\n",
       "1386               17231.0  посёлок Шушары\n",
       "4760               17231.0  посёлок Шушары\n",
       "22064              17231.0  посёлок Шушары"
      ]
     },
     "execution_count": 42,
     "metadata": {},
     "output_type": "execute_result"
    }
   ],
   "source": [
    "# Посмотрим какое расстояние от центра Питера до других ближейших населенных пунктов \n",
    "data[\n",
    "    (data['locality_name'] != 'Санкт-Петербург') & (~data['locality_name'].isna())\n",
    "    ][['cityCenters_nearest', 'locality_name']].sort_values(by='cityCenters_nearest').head()"
   ]
  },
  {
   "cell_type": "markdown",
   "metadata": {},
   "source": [
    "Т.о. можем заменить пропущенные значения в столбце названия населенного пункта с расстоянием до центра до 17 км. на значение \"Санкт-Петербург\""
   ]
  },
  {
   "cell_type": "code",
   "execution_count": 43,
   "metadata": {},
   "outputs": [],
   "source": [
    "data.loc[(data['locality_name'].isna() & (data['cityCenters_nearest'] < 17000)), 'locality_name'] = \"Санкт-Петербург\""
   ]
  },
  {
   "cell_type": "code",
   "execution_count": 44,
   "metadata": {},
   "outputs": [
    {
     "data": {
      "text/plain": [
       "19"
      ]
     },
     "execution_count": 44,
     "metadata": {},
     "output_type": "execute_result"
    }
   ],
   "source": [
    "data['locality_name'].isna().sum()"
   ]
  },
  {
   "cell_type": "markdown",
   "metadata": {},
   "source": [
    "Осталось 19 пропусков. Удалим их"
   ]
  },
  {
   "cell_type": "code",
   "execution_count": 45,
   "metadata": {},
   "outputs": [],
   "source": [
    "data.dropna(subset=['locality_name'], inplace=True)"
   ]
  },
  {
   "cell_type": "code",
   "execution_count": 46,
   "metadata": {},
   "outputs": [
    {
     "data": {
      "text/plain": [
       "0"
      ]
     },
     "execution_count": 46,
     "metadata": {},
     "output_type": "execute_result"
    }
   ],
   "source": [
    "data['locality_name'].isna().sum()"
   ]
  },
  {
   "cell_type": "markdown",
   "metadata": {},
   "source": [
    "<div class=\"alert alert-success\">\n",
    "\n",
    "**✔️ Комментарий ревьюера ✔️**\n",
    "   \n",
    "   Действительно, пропусков в столбцах locality_name и floors_total мало, можно удалить их без потери качества данных\n",
    "\n",
    "</div>\n"
   ]
  },
  {
   "cell_type": "markdown",
   "metadata": {},
   "source": [
    "##### airports_nearest (расстояние до ближайшего аэропорта в метрах (м))"
   ]
  },
  {
   "cell_type": "code",
   "execution_count": 47,
   "metadata": {},
   "outputs": [
    {
     "data": {
      "text/plain": [
       "5524"
      ]
     },
     "execution_count": 47,
     "metadata": {},
     "output_type": "execute_result"
    }
   ],
   "source": [
    "data['airports_nearest'].isna().sum()"
   ]
  },
  {
   "cell_type": "markdown",
   "metadata": {},
   "source": [
    "Пропусков много. Эти данные получены автоматически на основе картографических данных. Видимо не для всех населенных пунктов система смогла посчитать расстояние до аэропорта.\n",
    "\n",
    "Оставляем пропуски в этом столбце"
   ]
  },
  {
   "cell_type": "markdown",
   "metadata": {},
   "source": [
    "##### cityCenters_nearest (расстояние до центра города (м))"
   ]
  },
  {
   "cell_type": "code",
   "execution_count": 48,
   "metadata": {},
   "outputs": [
    {
     "data": {
      "text/plain": [
       "5501"
      ]
     },
     "execution_count": 48,
     "metadata": {},
     "output_type": "execute_result"
    }
   ],
   "source": [
    "data['cityCenters_nearest'].isna().sum()"
   ]
  },
  {
   "cell_type": "markdown",
   "metadata": {},
   "source": [
    "Пропусков много. Эти данные получены автоматически на основе картографических данных.\n",
    "\n",
    "Посмотрим есть ли пропуски для населенного пункта Санкт-Петербург"
   ]
  },
  {
   "cell_type": "code",
   "execution_count": 49,
   "metadata": {},
   "outputs": [
    {
     "data": {
      "text/plain": [
       "60"
      ]
     },
     "execution_count": 49,
     "metadata": {},
     "output_type": "execute_result"
    }
   ],
   "source": [
    "data[data['locality_name'] == 'Санкт-Петербург']['cityCenters_nearest'].isna().sum()"
   ]
  },
  {
   "cell_type": "markdown",
   "metadata": {},
   "source": [
    "Таких пропусков 60 штук. Удалим их.\n",
    "\n",
    "Остальные пропуски оставим"
   ]
  },
  {
   "cell_type": "code",
   "execution_count": 50,
   "metadata": {},
   "outputs": [],
   "source": [
    "# Удалим записи с Санкт-Петербургом, у которых есть пропуски в этом столбце\n",
    "# Т.о. оставим записи, у которых название населенного пункта не Санкт-Петербург или нет пропуска в этом столбце\n",
    "data = data[(data['locality_name'] != 'Санкт-Петербург') | (~data['cityCenters_nearest'].isna())]"
   ]
  },
  {
   "cell_type": "markdown",
   "metadata": {},
   "source": [
    "##### parks_around3000 (число парков в радиусе 3 км)"
   ]
  },
  {
   "cell_type": "code",
   "execution_count": 51,
   "metadata": {},
   "outputs": [
    {
     "data": {
      "text/plain": [
       "5440"
      ]
     },
     "execution_count": 51,
     "metadata": {},
     "output_type": "execute_result"
    }
   ],
   "source": [
    "data['parks_around3000'].isna().sum()"
   ]
  },
  {
   "cell_type": "code",
   "execution_count": 52,
   "metadata": {},
   "outputs": [
    {
     "data": {
      "text/plain": [
       "count    18094.000000\n",
       "mean         0.611805\n",
       "std          0.802270\n",
       "min          0.000000\n",
       "25%          0.000000\n",
       "50%          0.000000\n",
       "75%          1.000000\n",
       "max          3.000000\n",
       "Name: parks_around3000, dtype: float64"
      ]
     },
     "execution_count": 52,
     "metadata": {},
     "output_type": "execute_result"
    }
   ],
   "source": [
    "data['parks_around3000'].describe()"
   ]
  },
  {
   "cell_type": "code",
   "execution_count": 53,
   "metadata": {},
   "outputs": [],
   "source": [
    "# Убрано по замечанию ревьювера, т.е. пропуски оставляем\n",
    "# data['parks_around3000'].fillna(value=0, inplace=True)"
   ]
  },
  {
   "cell_type": "markdown",
   "metadata": {},
   "source": [
    "<div class=\"alert alert-danger\">\n",
    "\n",
    "**❌ Комментарий ревьюера ❌**\n",
    "   \n",
    "   Работая с картографическими данными (parks_around_3000, ponds_around_3000 и т.п. ) нужно быть очень осторожным - размах выборки большой, поэтому заполнение пропусков может привести к тому, что данные окажутся неактуальными - стоит оставить пропуски без изменений. К тому же, согласно ТЗ, в дальнейшем анализе они не участвуют\n",
    "\n",
    "</div>\n"
   ]
  },
  {
   "cell_type": "markdown",
   "metadata": {},
   "source": [
    "<div class=\"alert alert-block alert-info\">\n",
    "    \n",
    "Пропуски в этом столбце оставляем\n",
    "<div class=\"alert alert-success\">\n",
    "\n",
    "**✔️ Комментарий ревьюера v2✔️**\n",
    "   \n",
    "   Исправлено👍\n",
    "\n",
    "</div>\n",
    "    \n",
    "</div>"
   ]
  },
  {
   "cell_type": "code",
   "execution_count": 54,
   "metadata": {},
   "outputs": [
    {
     "data": {
      "text/plain": [
       "5440"
      ]
     },
     "execution_count": 54,
     "metadata": {},
     "output_type": "execute_result"
    }
   ],
   "source": [
    "data['parks_around3000'].isna().sum()"
   ]
  },
  {
   "cell_type": "markdown",
   "metadata": {},
   "source": [
    "##### parks_nearest (расстояние до ближайшего парка (м))"
   ]
  },
  {
   "cell_type": "code",
   "execution_count": 55,
   "metadata": {},
   "outputs": [
    {
     "data": {
      "text/plain": [
       "15489"
      ]
     },
     "execution_count": 55,
     "metadata": {},
     "output_type": "execute_result"
    }
   ],
   "source": [
    "data['parks_nearest'].isna().sum()"
   ]
  },
  {
   "cell_type": "markdown",
   "metadata": {},
   "source": [
    "Пропусков много. Эти данные получены автоматически на основе картографических данных.\n",
    "\n",
    "Оставляем пропуски в этом столбце"
   ]
  },
  {
   "cell_type": "markdown",
   "metadata": {},
   "source": [
    "##### ponds_around3000 (число водоёмов в радиусе 3 км)"
   ]
  },
  {
   "cell_type": "code",
   "execution_count": 56,
   "metadata": {},
   "outputs": [
    {
     "data": {
      "text/plain": [
       "5440"
      ]
     },
     "execution_count": 56,
     "metadata": {},
     "output_type": "execute_result"
    }
   ],
   "source": [
    "data['ponds_around3000'].isna().sum()"
   ]
  },
  {
   "cell_type": "markdown",
   "metadata": {},
   "source": [
    "<div class=\"alert alert-block alert-info\">\n",
    "    \n",
    "Пропуски в этом столбце оставляем\n",
    "    \n",
    "</div>"
   ]
  },
  {
   "cell_type": "code",
   "execution_count": 57,
   "metadata": {},
   "outputs": [],
   "source": [
    "# Убрано по замечанию ревьювера, т.е. пропуски оставляем\n",
    "# data['ponds_around3000'].fillna(value=0, inplace=True)"
   ]
  },
  {
   "cell_type": "code",
   "execution_count": 58,
   "metadata": {},
   "outputs": [
    {
     "data": {
      "text/plain": [
       "5440"
      ]
     },
     "execution_count": 58,
     "metadata": {},
     "output_type": "execute_result"
    }
   ],
   "source": [
    "data['ponds_around3000'].isna().sum()"
   ]
  },
  {
   "cell_type": "markdown",
   "metadata": {},
   "source": [
    "##### ponds_nearest (расстояние до ближайшего водоёма (м))"
   ]
  },
  {
   "cell_type": "code",
   "execution_count": 59,
   "metadata": {},
   "outputs": [
    {
     "data": {
      "text/plain": [
       "14482"
      ]
     },
     "execution_count": 59,
     "metadata": {},
     "output_type": "execute_result"
    }
   ],
   "source": [
    "data['ponds_nearest'].isna().sum()"
   ]
  },
  {
   "cell_type": "markdown",
   "metadata": {},
   "source": [
    "Пропусков много. Эти данные получены автоматически на основе картографических данных.\n",
    "\n",
    "Оставляем пропуски в этом столбце"
   ]
  },
  {
   "cell_type": "markdown",
   "metadata": {},
   "source": [
    "##### days_exposition (сколько дней было размещено объявление (от публикации до снятия))"
   ]
  },
  {
   "cell_type": "code",
   "execution_count": 60,
   "metadata": {},
   "outputs": [
    {
     "data": {
      "text/plain": [
       "3136"
      ]
     },
     "execution_count": 60,
     "metadata": {},
     "output_type": "execute_result"
    }
   ],
   "source": [
    "data['days_exposition'].isna().sum()"
   ]
  },
  {
   "cell_type": "markdown",
   "metadata": {},
   "source": [
    "Данные заполняются автоматически - без участия пользователя. Возможная причина пропуска - публикация не снята."
   ]
  },
  {
   "cell_type": "markdown",
   "metadata": {},
   "source": [
    "Оставляем пропуски в этом столбце"
   ]
  },
  {
   "cell_type": "code",
   "execution_count": 61,
   "metadata": {},
   "outputs": [
    {
     "data": {
      "text/plain": [
       "(23534, 22)"
      ]
     },
     "execution_count": 61,
     "metadata": {},
     "output_type": "execute_result"
    }
   ],
   "source": [
    "data.shape"
   ]
  },
  {
   "cell_type": "markdown",
   "metadata": {},
   "source": [
    "После удаления пропусков осталось 23534 записи"
   ]
  },
  {
   "cell_type": "markdown",
   "metadata": {},
   "source": [
    "<div class=\"alert alert-success\">\n",
    "\n",
    "**✔️ Комментарий ревьюера ✔️**\n",
    " Теория обработки пропусков хорошо изложена в статье: https://loginom.ru/blog/missing. Особенно хорошо описаны виды пропусков и их влияние на целесообразность и выбор способа заполнения.\n",
    "Действительно, решая аналитические задачи, заполнение пропусков может быть необязательно, если объем достоверных данных достаточен для выявления закономерностей, а риск изменить распределение данных существеннен. Не зря в задании просят: \"Заполните пропущенные значения там, где это возможно\". При ответе на вопросы исследования можно взять только достоверно известные значения, а пропуски проигнорировать, если надежного способа их заполнить нет. \n",
    " \n",
    "\n",
    "</div>"
   ]
  },
  {
   "cell_type": "markdown",
   "metadata": {},
   "source": [
    "#### Рассмотрим типы данных в столбцах"
   ]
  },
  {
   "cell_type": "code",
   "execution_count": 62,
   "metadata": {},
   "outputs": [
    {
     "name": "stdout",
     "output_type": "stream",
     "text": [
      "<class 'pandas.core.frame.DataFrame'>\n",
      "Int64Index: 23534 entries, 0 to 23698\n",
      "Data columns (total 22 columns):\n",
      " #   Column                Non-Null Count  Dtype  \n",
      "---  ------                --------------  -----  \n",
      " 0   total_images          23534 non-null  int64  \n",
      " 1   last_price            23534 non-null  float64\n",
      " 2   total_area            23534 non-null  float64\n",
      " 3   first_day_exposition  23534 non-null  object \n",
      " 4   rooms                 23534 non-null  int64  \n",
      " 5   ceiling_height        23534 non-null  float64\n",
      " 6   floors_total          23534 non-null  float64\n",
      " 7   living_area           23534 non-null  float64\n",
      " 8   floor                 23534 non-null  int64  \n",
      " 9   is_apartment          23534 non-null  bool   \n",
      " 10  studio                23534 non-null  bool   \n",
      " 11  open_plan             23534 non-null  bool   \n",
      " 12  kitchen_area          23534 non-null  float64\n",
      " 13  balcony               23534 non-null  float64\n",
      " 14  locality_name         23534 non-null  object \n",
      " 15  airports_nearest      18070 non-null  float64\n",
      " 16  cityCenters_nearest   18093 non-null  float64\n",
      " 17  parks_around3000      18094 non-null  float64\n",
      " 18  parks_nearest         8045 non-null   float64\n",
      " 19  ponds_around3000      18094 non-null  float64\n",
      " 20  ponds_nearest         9052 non-null   float64\n",
      " 21  days_exposition       20398 non-null  float64\n",
      "dtypes: bool(3), float64(14), int64(3), object(2)\n",
      "memory usage: 3.7+ MB\n"
     ]
    }
   ],
   "source": [
    "data.info()"
   ]
  },
  {
   "cell_type": "markdown",
   "metadata": {},
   "source": [
    "Большинство столбцов имеют тип float, 3 столбца имеют тип int, 2 - bool и 2 столбца имеют строковый тип.\n",
    "\n",
    "Некоторые столбцы с типом float можно преобразовать в int, в которых могут быть только целые числа. Это столбцы floors_total, balcony, parks_around3000,  ponds_around3000, days_exposition.\n",
    "\n",
    "Также преобразуем тип столбца first_day_exposition (дата публикации) в тип даты и время, чтобы можно было выполнять операции над датами и временем"
   ]
  },
  {
   "cell_type": "markdown",
   "metadata": {},
   "source": [
    "##### Столбецы floors_total, balcony, parks_around3000, ponds_around3000, days_exposition преобразуем в целые числа (тип int)"
   ]
  },
  {
   "cell_type": "code",
   "execution_count": 63,
   "metadata": {},
   "outputs": [],
   "source": [
    "# Преобразуем с игнорированием ошибки, т.к. есть пропуски в некоторых столбцах\n",
    "data['floors_total'] = data['floors_total'].astype('int')\n",
    "data['balcony'] = data['balcony'].astype('int')\n",
    "data['parks_around3000'] = data['parks_around3000'].astype('int', errors='ignore')\n",
    "data['ponds_around3000'] = data['ponds_around3000'].astype('int', errors='ignore')\n",
    "data['days_exposition'] = data['days_exposition'].astype('int', errors='ignore')"
   ]
  },
  {
   "cell_type": "markdown",
   "metadata": {},
   "source": [
    "##### Столбец first_day_exposition (дата публикации)"
   ]
  },
  {
   "cell_type": "code",
   "execution_count": 64,
   "metadata": {},
   "outputs": [
    {
     "data": {
      "text/plain": [
       "0    2019-03-07T00:00:00\n",
       "1    2018-12-04T00:00:00\n",
       "2    2015-08-20T00:00:00\n",
       "3    2015-07-24T00:00:00\n",
       "4    2018-06-19T00:00:00\n",
       "Name: first_day_exposition, dtype: object"
      ]
     },
     "execution_count": 64,
     "metadata": {},
     "output_type": "execute_result"
    }
   ],
   "source": [
    "data['first_day_exposition'].head()"
   ]
  },
  {
   "cell_type": "markdown",
   "metadata": {},
   "source": [
    "Преобразуем тип столбца в дату и время"
   ]
  },
  {
   "cell_type": "code",
   "execution_count": 65,
   "metadata": {},
   "outputs": [],
   "source": [
    "data['first_day_exposition'] = pd.to_datetime(data['first_day_exposition'], format='%Y-%m-%dT%H:%M:%S')"
   ]
  },
  {
   "cell_type": "code",
   "execution_count": 66,
   "metadata": {},
   "outputs": [
    {
     "name": "stdout",
     "output_type": "stream",
     "text": [
      "<class 'pandas.core.frame.DataFrame'>\n",
      "Int64Index: 23534 entries, 0 to 23698\n",
      "Data columns (total 22 columns):\n",
      " #   Column                Non-Null Count  Dtype         \n",
      "---  ------                --------------  -----         \n",
      " 0   total_images          23534 non-null  int64         \n",
      " 1   last_price            23534 non-null  float64       \n",
      " 2   total_area            23534 non-null  float64       \n",
      " 3   first_day_exposition  23534 non-null  datetime64[ns]\n",
      " 4   rooms                 23534 non-null  int64         \n",
      " 5   ceiling_height        23534 non-null  float64       \n",
      " 6   floors_total          23534 non-null  int64         \n",
      " 7   living_area           23534 non-null  float64       \n",
      " 8   floor                 23534 non-null  int64         \n",
      " 9   is_apartment          23534 non-null  bool          \n",
      " 10  studio                23534 non-null  bool          \n",
      " 11  open_plan             23534 non-null  bool          \n",
      " 12  kitchen_area          23534 non-null  float64       \n",
      " 13  balcony               23534 non-null  int64         \n",
      " 14  locality_name         23534 non-null  object        \n",
      " 15  airports_nearest      18070 non-null  float64       \n",
      " 16  cityCenters_nearest   18093 non-null  float64       \n",
      " 17  parks_around3000      18094 non-null  float64       \n",
      " 18  parks_nearest         8045 non-null   float64       \n",
      " 19  ponds_around3000      18094 non-null  float64       \n",
      " 20  ponds_nearest         9052 non-null   float64       \n",
      " 21  days_exposition       20398 non-null  float64       \n",
      "dtypes: bool(3), datetime64[ns](1), float64(12), int64(5), object(1)\n",
      "memory usage: 3.7+ MB\n"
     ]
    }
   ],
   "source": [
    "# Проверим типы данных\n",
    "data.info()"
   ]
  },
  {
   "cell_type": "markdown",
   "metadata": {},
   "source": [
    "Типы заменены, кроме столбцов parks_around3000, ponds_around3000 и days_exposition (из-за пропусков)"
   ]
  },
  {
   "cell_type": "markdown",
   "metadata": {},
   "source": [
    "<div class=\"alert alert-success\">\n",
    "\n",
    "**✔️ Комментарий ревьюера ✔️**\n",
    "\n",
    "   Можно еще сэкономить память, изменяя типы данных. Например, дополнительно изменить их у площадей квартир с float64 на float32.\n",
    "\n",
    "</div>\n"
   ]
  },
  {
   "cell_type": "markdown",
   "metadata": {},
   "source": [
    "#### Выполним поиск дубликатов"
   ]
  },
  {
   "cell_type": "markdown",
   "metadata": {},
   "source": [
    "##### Выполним поиск явных дубликатов"
   ]
  },
  {
   "cell_type": "code",
   "execution_count": 67,
   "metadata": {},
   "outputs": [
    {
     "data": {
      "text/plain": [
       "0"
      ]
     },
     "execution_count": 67,
     "metadata": {},
     "output_type": "execute_result"
    }
   ],
   "source": [
    "data.duplicated().sum()"
   ]
  },
  {
   "cell_type": "markdown",
   "metadata": {},
   "source": [
    "Явных дубликатов нет"
   ]
  },
  {
   "cell_type": "markdown",
   "metadata": {},
   "source": [
    "##### Выполним поиск неявных дубликатов"
   ]
  },
  {
   "cell_type": "code",
   "execution_count": 68,
   "metadata": {},
   "outputs": [
    {
     "name": "stdout",
     "output_type": "stream",
     "text": [
      "364\n"
     ]
    },
    {
     "data": {
      "text/plain": [
       "array(['Санкт-Петербург', 'посёлок Шушары', 'городской посёлок Янино-1',\n",
       "       'посёлок Парголово', 'посёлок Мурино', 'Ломоносов', 'Сертолово',\n",
       "       'Петергоф', 'Пушкин', 'деревня Кудрово', 'Коммунар', 'Колпино',\n",
       "       'поселок городского типа Красный Бор', 'Гатчина', 'поселок Мурино',\n",
       "       'деревня Фёдоровское', 'Выборг', 'Кронштадт', 'Кировск',\n",
       "       'деревня Новое Девяткино', 'посёлок Металлострой',\n",
       "       'посёлок городского типа Лебяжье',\n",
       "       'посёлок городского типа Сиверский', 'поселок Молодцово',\n",
       "       'поселок городского типа Кузьмоловский',\n",
       "       'садовое товарищество Новая Ропша', 'Павловск',\n",
       "       'деревня Пикколово', 'Всеволожск', 'Волхов', 'Кингисепп',\n",
       "       'Приозерск', 'Сестрорецк', 'деревня Куттузи', 'посёлок Аннино',\n",
       "       'поселок городского типа Ефимовский', 'посёлок Плодовое',\n",
       "       'деревня Заклинье', 'поселок Торковичи', 'поселок Первомайское',\n",
       "       'Красное Село', 'посёлок Понтонный', 'Сясьстрой', 'деревня Старая',\n",
       "       'деревня Лесколово', 'посёлок Новый Свет', 'Сланцы',\n",
       "       'село Путилово', 'Ивангород', 'Мурино', 'Шлиссельбург',\n",
       "       'Никольское', 'Зеленогорск', 'Сосновый Бор', 'поселок Новый Свет',\n",
       "       'деревня Оржицы', 'деревня Кальтино', 'Кудрово',\n",
       "       'поселок Романовка', 'посёлок Бугры', 'поселок Бугры',\n",
       "       'поселок городского типа Рощино', 'Кириши', 'Луга', 'Волосово',\n",
       "       'Отрадное', 'село Павлово', 'поселок Оредеж', 'село Копорье',\n",
       "       'посёлок городского типа Красный Бор', 'посёлок Молодёжное',\n",
       "       'Тихвин', 'посёлок Победа', 'деревня Нурма',\n",
       "       'поселок городского типа Синявино', 'Тосно',\n",
       "       'посёлок городского типа Кузьмоловский', 'посёлок Стрельна',\n",
       "       'Бокситогорск', 'посёлок Александровская', 'деревня Лопухинка',\n",
       "       'Пикалёво', 'поселок Терволово',\n",
       "       'поселок городского типа Советский', 'Подпорожье',\n",
       "       'посёлок Петровское', 'посёлок городского типа Токсово',\n",
       "       'поселок Сельцо', 'посёлок городского типа Вырица',\n",
       "       'деревня Кипень', 'деревня Келози', 'деревня Вартемяги',\n",
       "       'посёлок Тельмана', 'поселок Севастьяново',\n",
       "       'городской поселок Большая Ижора', 'городской посёлок Павлово',\n",
       "       'деревня Агалатово', 'посёлок Новогорелово',\n",
       "       'городской посёлок Лесогорский', 'деревня Лаголово',\n",
       "       'поселок Цвелодубово', 'поселок городского типа Рахья',\n",
       "       'поселок городского типа Вырица', 'деревня Белогорка',\n",
       "       'поселок Заводской', 'городской посёлок Новоселье',\n",
       "       'деревня Большие Колпаны', 'деревня Горбунки', 'деревня Батово',\n",
       "       'деревня Заневка', 'деревня Иссад', 'Приморск',\n",
       "       'городской посёлок Фёдоровское', 'деревня Мистолово',\n",
       "       'Новая Ладога', 'поселок Зимитицы', 'поселок Барышево',\n",
       "       'деревня Разметелево', 'поселок городского типа имени Свердлова',\n",
       "       'деревня Пеники', 'поселок Рябово', 'деревня Пудомяги',\n",
       "       'поселок станции Корнево', 'деревня Низино', 'деревня Бегуницы',\n",
       "       'посёлок Поляны', 'городской посёлок Мга', 'поселок Елизаветино',\n",
       "       'посёлок городского типа Кузнечное', 'деревня Колтуши',\n",
       "       'поселок Запорожское', 'посёлок городского типа Рощино',\n",
       "       'деревня Гостилицы', 'деревня Малое Карлино',\n",
       "       'посёлок Мичуринское', 'посёлок городского типа имени Морозова',\n",
       "       'посёлок Песочный', 'посёлок Сосново', 'деревня Аро',\n",
       "       'поселок Ильичёво', 'посёлок городского типа Тайцы',\n",
       "       'деревня Малое Верево', 'деревня Извара', 'поселок станции Вещево',\n",
       "       'село Паша', 'деревня Калитино',\n",
       "       'посёлок городского типа Ульяновка', 'деревня Чудской Бор',\n",
       "       'поселок городского типа Дубровка', 'деревня Мины',\n",
       "       'поселок Войсковицы', 'посёлок городского типа имени Свердлова',\n",
       "       'деревня Коркино', 'посёлок Ропша',\n",
       "       'поселок городского типа Приладожский', 'посёлок Щеглово',\n",
       "       'посёлок Гаврилово', 'Лодейное Поле', 'деревня Рабитицы',\n",
       "       'поселок городского типа Никольский', 'деревня Кузьмолово',\n",
       "       'деревня Малые Колпаны', 'поселок Тельмана',\n",
       "       'посёлок Петро-Славянка', 'городской посёлок Назия',\n",
       "       'посёлок Репино', 'посёлок Ильичёво', 'поселок Углово',\n",
       "       'поселок Старая Малукса', 'садовое товарищество Рахья',\n",
       "       'поселок Аннино', 'поселок Победа', 'деревня Меньково',\n",
       "       'деревня Старые Бегуницы', 'посёлок Сапёрный', 'поселок Семрино',\n",
       "       'поселок Гаврилово', 'поселок Глажево', 'поселок Кобринское',\n",
       "       'деревня Гарболово', 'деревня Юкки',\n",
       "       'поселок станции Приветнинское', 'деревня Мануйлово',\n",
       "       'деревня Пчева', 'поселок Поляны', 'поселок Цвылёво',\n",
       "       'поселок Мельниково', 'посёлок Пудость', 'посёлок Усть-Луга',\n",
       "       'Светогорск', 'Любань', 'поселок Селезнёво',\n",
       "       'поселок городского типа Рябово', 'Каменногорск', 'деревня Кривко',\n",
       "       'поселок Глебычево', 'деревня Парицы', 'поселок Жилпосёлок',\n",
       "       'посёлок городского типа Мга', 'городской поселок Янино-1',\n",
       "       'посёлок Войскорово', 'село Никольское', 'посёлок Терволово',\n",
       "       'поселок Стеклянный', 'посёлок городского типа Важины',\n",
       "       'посёлок Мыза-Ивановка', 'село Русско-Высоцкое',\n",
       "       'поселок городского типа Лебяжье',\n",
       "       'поселок городского типа Форносово', 'село Старая Ладога',\n",
       "       'поселок Житково', 'городской посёлок Виллози', 'деревня Лампово',\n",
       "       'деревня Шпаньково', 'деревня Лаврики', 'посёлок Сумино',\n",
       "       'посёлок Возрождение', 'деревня Старосиверская',\n",
       "       'посёлок Кикерино', 'поселок Возрождение',\n",
       "       'деревня Старое Хинколово', 'посёлок Пригородный',\n",
       "       'посёлок Торфяное', 'городской посёлок Будогощь',\n",
       "       'поселок Суходолье', 'поселок Красная Долина', 'деревня Хапо-Ое',\n",
       "       'поселок городского типа Дружная Горка', 'поселок Лисий Нос',\n",
       "       'деревня Яльгелево', 'посёлок Стеклянный', 'село Рождествено',\n",
       "       'деревня Старополье', 'посёлок Левашово', 'деревня Сяськелево',\n",
       "       'деревня Камышовка',\n",
       "       'садоводческое некоммерческое товарищество Лесная Поляна',\n",
       "       'деревня Хязельки', 'поселок Жилгородок',\n",
       "       'посёлок городского типа Павлово', 'деревня Ялгино',\n",
       "       'поселок Новый Учхоз', 'городской посёлок Рощино',\n",
       "       'поселок Гончарово', 'поселок Почап', 'посёлок Сапёрное',\n",
       "       'посёлок Платформа 69-й километр', 'поселок Каложицы',\n",
       "       'деревня Фалилеево', 'деревня Пельгора',\n",
       "       'поселок городского типа Лесогорский', 'деревня Торошковичи',\n",
       "       'посёлок Белоостров', 'посёлок Алексеевка', 'поселок Серебрянский',\n",
       "       'поселок Лукаши', 'поселок Петровское', 'деревня Щеглово',\n",
       "       'поселок Мичуринское', 'деревня Тарасово', 'поселок Кингисеппский',\n",
       "       'посёлок при железнодорожной станции Вещево', 'поселок Ушаки',\n",
       "       'деревня Котлы', 'деревня Сижно', 'деревня Торосово',\n",
       "       'посёлок Форт Красная Горка', 'деревня Новолисино',\n",
       "       'посёлок станции Громово', 'деревня Глинка', 'посёлок Мельниково',\n",
       "       'поселок городского типа Назия', 'деревня Старая Пустошь',\n",
       "       'поселок Коммунары', 'поселок Починок',\n",
       "       'посёлок городского типа Вознесенье', 'деревня Разбегаево',\n",
       "       'посёлок городского типа Рябово', 'поселок Гладкое',\n",
       "       'посёлок при железнодорожной станции Приветнинское',\n",
       "       'поселок Тёсово-4', 'посёлок Жилгородок', 'деревня Бор',\n",
       "       'посёлок Коробицыно', 'деревня Большая Вруда', 'деревня Курковицы',\n",
       "       'посёлок Лисий Нос', 'городской посёлок Советский',\n",
       "       'посёлок Кобралово', 'деревня Суоранда', 'поселок Кобралово',\n",
       "       'поселок городского типа Кондратьево',\n",
       "       'коттеджный поселок Счастье', 'поселок Любань', 'деревня Реброво',\n",
       "       'деревня Зимитицы', 'деревня Тойворово', 'поселок Семиозерье',\n",
       "       'поселок Лесное', 'поселок Совхозный', 'поселок Усть-Луга',\n",
       "       'посёлок Ленинское', 'посёлок Суйда',\n",
       "       'посёлок городского типа Форносово', 'деревня Нижние Осельки',\n",
       "       'посёлок станции Свирь', 'поселок Перово', 'Высоцк',\n",
       "       'поселок Гарболово', 'село Шум', 'поселок Котельский',\n",
       "       'поселок станции Лужайка', 'деревня Большая Пустомержа',\n",
       "       'поселок Красносельское', 'деревня Вахнова Кара', 'деревня Пижма',\n",
       "       'коттеджный поселок Кивеннапа Север', 'поселок Коробицыно',\n",
       "       'поселок Ромашки', 'посёлок Перово', 'деревня Каськово',\n",
       "       'деревня Куровицы', 'посёлок Плоское', 'поселок Сумино',\n",
       "       'поселок городского типа Большая Ижора', 'поселок Кирпичное',\n",
       "       'деревня Ям-Тесово', 'деревня Раздолье', 'деревня Терпилицы',\n",
       "       'поселок городского типа Токсово', 'посёлок Шугозеро',\n",
       "       'деревня Ваганово', 'поселок Пушное', 'садовое товарищество Садко',\n",
       "       'посёлок Усть-Ижора', 'деревня Выскатка',\n",
       "       'городской посёлок Свирьстрой', 'поселок Громово',\n",
       "       'деревня Кисельня', 'посёлок Старая Малукса',\n",
       "       'деревня Трубников Бор', 'поселок Калитино',\n",
       "       'посёлок Высокоключевой', 'садовое товарищество Приладожский',\n",
       "       'посёлок Пансионат Зелёный Бор', 'деревня Ненимяки',\n",
       "       'поселок Пансионат Зелёный Бор', 'деревня Снегирёвка',\n",
       "       'деревня Рапполово', 'деревня Пустынка', 'поселок Рабитицы',\n",
       "       'деревня Большой Сабск', 'деревня Русско', 'деревня Лупполово',\n",
       "       'деревня Большое Рейзино', 'деревня Малая Романовка',\n",
       "       'поселок Дружноселье', 'поселок Пчевжа', 'поселок Володарское',\n",
       "       'деревня Нижняя', 'коттеджный посёлок Лесное', 'деревня Тихковицы',\n",
       "       'деревня Борисова Грива', 'посёлок Дзержинского'], dtype=object)"
      ]
     },
     "execution_count": 68,
     "metadata": {},
     "output_type": "execute_result"
    }
   ],
   "source": [
    "print(len(data['locality_name'].unique()))\n",
    "data['locality_name'].unique()"
   ]
  },
  {
   "cell_type": "markdown",
   "metadata": {},
   "source": [
    "Слово поселок написано по-разному (через \"е\" или \"ё\"), например, \"посёлок Мурино\" и \"поселок Мурино\".\n",
    "\n",
    "Заменим \"ё\" на \"е\""
   ]
  },
  {
   "cell_type": "code",
   "execution_count": 69,
   "metadata": {},
   "outputs": [],
   "source": [
    "data['locality_name'] = data['locality_name'].str.replace(\"ё\", \"е\")"
   ]
  },
  {
   "cell_type": "markdown",
   "metadata": {},
   "source": [
    "Заменим другие дубликаты (например, \"поселок городского типа Рощино\" и \"городской поселок Рощино\")"
   ]
  },
  {
   "cell_type": "code",
   "execution_count": 70,
   "metadata": {},
   "outputs": [],
   "source": [
    "data['locality_name'] = data['locality_name'].str.replace(\"поселок городского типа\", \"поселок\")\n",
    "data['locality_name'] = data['locality_name'].str.replace(\"городской поселок\", \"поселок\")\n",
    "data['locality_name'] = data['locality_name'].str.replace(\"поселок при железнодорожной станции\", \"поселок станции\")"
   ]
  },
  {
   "cell_type": "code",
   "execution_count": 71,
   "metadata": {},
   "outputs": [
    {
     "name": "stdout",
     "output_type": "stream",
     "text": [
      "320\n"
     ]
    }
   ],
   "source": [
    "print(len(data['locality_name'].unique()))"
   ]
  },
  {
   "cell_type": "markdown",
   "metadata": {},
   "source": [
    "Были неявные дубликаты в столбце locality_name (название населённого пункта). Некоторые названия одного и того же населенного пункта было записано по-разному.\n",
    "\n",
    "Удалили 44 таких неявных дубликата."
   ]
  },
  {
   "cell_type": "code",
   "execution_count": 72,
   "metadata": {},
   "outputs": [
    {
     "data": {
      "text/plain": [
       "0"
      ]
     },
     "execution_count": 72,
     "metadata": {},
     "output_type": "execute_result"
    }
   ],
   "source": [
    "data.duplicated().sum()"
   ]
  },
  {
   "cell_type": "markdown",
   "metadata": {},
   "source": [
    "<div class=\"alert alert-success\">\n",
    "\n",
    "**✔️ Комментарий ревьюера ✔️**\n",
    "\n",
    "\n",
    "   Хорошая работа. Также рекомендую хорошую статью по предобработке, в ней есть интересные способы обработки неявных дубликатов: https://proglib.io/p/moem-dataset-rukovodstvo-po-ochistke-dannyh-v-python-2020-03-27 В пункте 8 есть интересная информация о работе с опечатками в названиях населенных пунктов\n",
    "\n",
    "</div>\n"
   ]
  },
  {
   "cell_type": "markdown",
   "metadata": {
    "id": "QCcvyY6YAwb-"
   },
   "source": [
    "### Добавьте в таблицу новые столбцы"
   ]
  },
  {
   "cell_type": "code",
   "execution_count": 73,
   "metadata": {
    "id": "Z8eJek3IAwb-"
   },
   "outputs": [],
   "source": [
    "# Добавим новый столбец - цена одного квадратного метра. И округлим до двух знаков после запятой\n",
    "data['price_one_square'] = round(data['last_price'] / data['total_area'], 2)"
   ]
  },
  {
   "cell_type": "code",
   "execution_count": 74,
   "metadata": {},
   "outputs": [],
   "source": [
    "# Добавим новый столбец - день недели публикации объявления\n",
    "data['week'] = pd.DatetimeIndex(data['first_day_exposition']).dayofweek"
   ]
  },
  {
   "cell_type": "code",
   "execution_count": 75,
   "metadata": {},
   "outputs": [],
   "source": [
    "# Добавим новый столбец - месяц публикации объявления\n",
    "data['month'] = pd.DatetimeIndex(data['first_day_exposition']).month"
   ]
  },
  {
   "cell_type": "code",
   "execution_count": 76,
   "metadata": {},
   "outputs": [],
   "source": [
    "# Добавим новый столбец - год публикации объявления\n",
    "data['year'] = pd.DatetimeIndex(data['first_day_exposition']).year"
   ]
  },
  {
   "cell_type": "markdown",
   "metadata": {},
   "source": [
    "Добавим новый столбец - тип этажа квартиры (значения — «первый», «последний», «другой»)"
   ]
  },
  {
   "cell_type": "code",
   "execution_count": 77,
   "metadata": {},
   "outputs": [],
   "source": [
    "# Создадим функцию, которая будет определять тип этажа\n",
    "def get_type_floor(num_floor, total_floors):\n",
    "    if num_floor == 1:\n",
    "        return \"Первый\"\n",
    "    if num_floor == total_floors:\n",
    "        return \"Последний\"\n",
    "    return \"Другой\""
   ]
  },
  {
   "cell_type": "code",
   "execution_count": 78,
   "metadata": {},
   "outputs": [],
   "source": [
    "data['type_floor'] = data.apply(lambda x: get_type_floor(x['floor'], x['floors_total']), axis=1)"
   ]
  },
  {
   "cell_type": "markdown",
   "metadata": {},
   "source": [
    "Добавим новый столбец - расстояние до центра города в километрах"
   ]
  },
  {
   "cell_type": "code",
   "execution_count": 79,
   "metadata": {},
   "outputs": [],
   "source": [
    "data['dist_to_center'] = round(data['cityCenters_nearest'] / 1000)"
   ]
  },
  {
   "cell_type": "markdown",
   "metadata": {},
   "source": [
    "<div class=\"alert alert-danger\">\n",
    "\n",
    "**❌ Комментарий ревьюера ❌**\n",
    "   \n",
    "   Стоит вывести несколько строк измененного датасета, чтобы мы могли убедиться в том, что изменения успешно внесены\n",
    "\n",
    "</div>\n"
   ]
  },
  {
   "cell_type": "code",
   "execution_count": 80,
   "metadata": {},
   "outputs": [
    {
     "data": {
      "text/html": [
       "<div>\n",
       "<style scoped>\n",
       "    .dataframe tbody tr th:only-of-type {\n",
       "        vertical-align: middle;\n",
       "    }\n",
       "\n",
       "    .dataframe tbody tr th {\n",
       "        vertical-align: top;\n",
       "    }\n",
       "\n",
       "    .dataframe thead th {\n",
       "        text-align: right;\n",
       "    }\n",
       "</style>\n",
       "<table border=\"1\" class=\"dataframe\">\n",
       "  <thead>\n",
       "    <tr style=\"text-align: right;\">\n",
       "      <th></th>\n",
       "      <th>total_images</th>\n",
       "      <th>last_price</th>\n",
       "      <th>total_area</th>\n",
       "      <th>first_day_exposition</th>\n",
       "      <th>rooms</th>\n",
       "      <th>ceiling_height</th>\n",
       "      <th>floors_total</th>\n",
       "      <th>living_area</th>\n",
       "      <th>floor</th>\n",
       "      <th>is_apartment</th>\n",
       "      <th>...</th>\n",
       "      <th>parks_nearest</th>\n",
       "      <th>ponds_around3000</th>\n",
       "      <th>ponds_nearest</th>\n",
       "      <th>days_exposition</th>\n",
       "      <th>price_one_square</th>\n",
       "      <th>week</th>\n",
       "      <th>month</th>\n",
       "      <th>year</th>\n",
       "      <th>type_floor</th>\n",
       "      <th>dist_to_center</th>\n",
       "    </tr>\n",
       "  </thead>\n",
       "  <tbody>\n",
       "    <tr>\n",
       "      <th>0</th>\n",
       "      <td>20</td>\n",
       "      <td>13000000.0</td>\n",
       "      <td>108.0</td>\n",
       "      <td>2019-03-07</td>\n",
       "      <td>3</td>\n",
       "      <td>2.70</td>\n",
       "      <td>16</td>\n",
       "      <td>51.000000</td>\n",
       "      <td>8</td>\n",
       "      <td>False</td>\n",
       "      <td>...</td>\n",
       "      <td>482.0</td>\n",
       "      <td>2.0</td>\n",
       "      <td>755.0</td>\n",
       "      <td>NaN</td>\n",
       "      <td>120370.37</td>\n",
       "      <td>3</td>\n",
       "      <td>3</td>\n",
       "      <td>2019</td>\n",
       "      <td>Другой</td>\n",
       "      <td>16.0</td>\n",
       "    </tr>\n",
       "    <tr>\n",
       "      <th>1</th>\n",
       "      <td>7</td>\n",
       "      <td>3350000.0</td>\n",
       "      <td>40.4</td>\n",
       "      <td>2018-12-04</td>\n",
       "      <td>1</td>\n",
       "      <td>2.65</td>\n",
       "      <td>11</td>\n",
       "      <td>18.600000</td>\n",
       "      <td>1</td>\n",
       "      <td>False</td>\n",
       "      <td>...</td>\n",
       "      <td>NaN</td>\n",
       "      <td>0.0</td>\n",
       "      <td>NaN</td>\n",
       "      <td>81.0</td>\n",
       "      <td>82920.79</td>\n",
       "      <td>1</td>\n",
       "      <td>12</td>\n",
       "      <td>2018</td>\n",
       "      <td>Первый</td>\n",
       "      <td>19.0</td>\n",
       "    </tr>\n",
       "    <tr>\n",
       "      <th>2</th>\n",
       "      <td>10</td>\n",
       "      <td>5196000.0</td>\n",
       "      <td>56.0</td>\n",
       "      <td>2015-08-20</td>\n",
       "      <td>2</td>\n",
       "      <td>2.65</td>\n",
       "      <td>5</td>\n",
       "      <td>34.300000</td>\n",
       "      <td>4</td>\n",
       "      <td>False</td>\n",
       "      <td>...</td>\n",
       "      <td>90.0</td>\n",
       "      <td>2.0</td>\n",
       "      <td>574.0</td>\n",
       "      <td>558.0</td>\n",
       "      <td>92785.71</td>\n",
       "      <td>3</td>\n",
       "      <td>8</td>\n",
       "      <td>2015</td>\n",
       "      <td>Другой</td>\n",
       "      <td>14.0</td>\n",
       "    </tr>\n",
       "    <tr>\n",
       "      <th>3</th>\n",
       "      <td>0</td>\n",
       "      <td>64900000.0</td>\n",
       "      <td>159.0</td>\n",
       "      <td>2015-07-24</td>\n",
       "      <td>3</td>\n",
       "      <td>2.65</td>\n",
       "      <td>14</td>\n",
       "      <td>91.730769</td>\n",
       "      <td>9</td>\n",
       "      <td>False</td>\n",
       "      <td>...</td>\n",
       "      <td>84.0</td>\n",
       "      <td>3.0</td>\n",
       "      <td>234.0</td>\n",
       "      <td>424.0</td>\n",
       "      <td>408176.10</td>\n",
       "      <td>4</td>\n",
       "      <td>7</td>\n",
       "      <td>2015</td>\n",
       "      <td>Другой</td>\n",
       "      <td>7.0</td>\n",
       "    </tr>\n",
       "    <tr>\n",
       "      <th>4</th>\n",
       "      <td>2</td>\n",
       "      <td>10000000.0</td>\n",
       "      <td>100.0</td>\n",
       "      <td>2018-06-19</td>\n",
       "      <td>2</td>\n",
       "      <td>3.03</td>\n",
       "      <td>14</td>\n",
       "      <td>32.000000</td>\n",
       "      <td>13</td>\n",
       "      <td>False</td>\n",
       "      <td>...</td>\n",
       "      <td>112.0</td>\n",
       "      <td>1.0</td>\n",
       "      <td>48.0</td>\n",
       "      <td>121.0</td>\n",
       "      <td>100000.00</td>\n",
       "      <td>1</td>\n",
       "      <td>6</td>\n",
       "      <td>2018</td>\n",
       "      <td>Другой</td>\n",
       "      <td>8.0</td>\n",
       "    </tr>\n",
       "  </tbody>\n",
       "</table>\n",
       "<p>5 rows × 28 columns</p>\n",
       "</div>"
      ],
      "text/plain": [
       "   total_images  last_price  total_area first_day_exposition  rooms  \\\n",
       "0            20  13000000.0       108.0           2019-03-07      3   \n",
       "1             7   3350000.0        40.4           2018-12-04      1   \n",
       "2            10   5196000.0        56.0           2015-08-20      2   \n",
       "3             0  64900000.0       159.0           2015-07-24      3   \n",
       "4             2  10000000.0       100.0           2018-06-19      2   \n",
       "\n",
       "   ceiling_height  floors_total  living_area  floor  is_apartment  ...  \\\n",
       "0            2.70            16    51.000000      8         False  ...   \n",
       "1            2.65            11    18.600000      1         False  ...   \n",
       "2            2.65             5    34.300000      4         False  ...   \n",
       "3            2.65            14    91.730769      9         False  ...   \n",
       "4            3.03            14    32.000000     13         False  ...   \n",
       "\n",
       "   parks_nearest  ponds_around3000  ponds_nearest  days_exposition  \\\n",
       "0          482.0               2.0          755.0              NaN   \n",
       "1            NaN               0.0            NaN             81.0   \n",
       "2           90.0               2.0          574.0            558.0   \n",
       "3           84.0               3.0          234.0            424.0   \n",
       "4          112.0               1.0           48.0            121.0   \n",
       "\n",
       "  price_one_square  week  month  year  type_floor  dist_to_center  \n",
       "0        120370.37     3      3  2019      Другой            16.0  \n",
       "1         82920.79     1     12  2018      Первый            19.0  \n",
       "2         92785.71     3      8  2015      Другой            14.0  \n",
       "3        408176.10     4      7  2015      Другой             7.0  \n",
       "4        100000.00     1      6  2018      Другой             8.0  \n",
       "\n",
       "[5 rows x 28 columns]"
      ]
     },
     "execution_count": 80,
     "metadata": {},
     "output_type": "execute_result"
    }
   ],
   "source": [
    "data.head()"
   ]
  },
  {
   "cell_type": "markdown",
   "metadata": {},
   "source": [
    "<div class=\"alert alert-block alert-info\">\n",
    "    \n",
    "Изменения успешно внесены\n",
    "    \n",
    "</div>"
   ]
  },
  {
   "cell_type": "markdown",
   "metadata": {},
   "source": [
    "<div class=\"alert alert-success\">\n",
    "\n",
    "**✔️ Комментарий ревьюера v2✔️**\n",
    "   \n",
    "   Верно👍 Также отмечу, что можно использовать строку `pd.set_option('max_columns', None)` для того, чтобы в выводе отображались все столбцы вместо `...` Полезная ссылка: https://www.codecamp.ru/blog/pandas-show-all-columns/\n",
    "\n",
    "</div>\n"
   ]
  },
  {
   "cell_type": "markdown",
   "metadata": {
    "id": "pPyxrKWTAwb-"
   },
   "source": [
    "### Проведите исследовательский анализ данных"
   ]
  },
  {
   "cell_type": "markdown",
   "metadata": {
    "id": "V2f0D3kLAwb-"
   },
   "source": [
    "#### Постоим гистограммы для столбцов"
   ]
  },
  {
   "cell_type": "markdown",
   "metadata": {},
   "source": [
    "##### total_area (общая площадь квартиры в квадратных метрах (м²))"
   ]
  },
  {
   "cell_type": "code",
   "execution_count": 81,
   "metadata": {},
   "outputs": [
    {
     "data": {
      "text/plain": [
       "<AxesSubplot:>"
      ]
     },
     "execution_count": 81,
     "metadata": {},
     "output_type": "execute_result"
    },
    {
     "data": {
      "image/png": "[encoded data removed]",
      "text/plain": [
       "<Figure size 432x288 with 1 Axes>"
      ]
     },
     "metadata": {
      "needs_background": "light"
     },
     "output_type": "display_data"
    }
   ],
   "source": [
    "data['total_area'].hist()"
   ]
  },
  {
   "cell_type": "markdown",
   "metadata": {},
   "source": [
    "Получилась гистограмма с длинным хвостом на высоких значениях и падением в ноль слева от пика, не доходя до нулевого значения\n",
    "\n",
    "Посмотрим на диаграмму размаха"
   ]
  },
  {
   "cell_type": "code",
   "execution_count": 82,
   "metadata": {},
   "outputs": [
    {
     "data": {
      "text/plain": [
       "<AxesSubplot:xlabel='total_area'>"
      ]
     },
     "execution_count": 82,
     "metadata": {},
     "output_type": "execute_result"
    },
    {
     "data": {
      "image/png": "[encoded data removed]",
      "text/plain": [
       "<Figure size 432x288 with 1 Axes>"
      ]
     },
     "metadata": {
      "needs_background": "light"
     },
     "output_type": "display_data"
    }
   ],
   "source": [
    "sns.boxplot(x=data['total_area'])"
   ]
  },
  {
   "cell_type": "markdown",
   "metadata": {},
   "source": [
    "На диаграмме много \"выбросов\" за границей верхнего \"уса\"\n",
    "\n",
    "Постоим гистограмму для данных в границах межквартильного размаха"
   ]
  },
  {
   "cell_type": "code",
   "execution_count": 83,
   "metadata": {},
   "outputs": [
    {
     "data": {
      "text/plain": [
       "<AxesSubplot:>"
      ]
     },
     "execution_count": 83,
     "metadata": {},
     "output_type": "execute_result"
    },
    {
     "data": {
      "image/png": "[encoded data removed]",
      "text/plain": [
       "<Figure size 432x288 with 1 Axes>"
      ]
     },
     "metadata": {
      "needs_background": "light"
     },
     "output_type": "display_data"
    }
   ],
   "source": [
    "data['total_area'].hist(range=(10,150))"
   ]
  },
  {
   "cell_type": "markdown",
   "metadata": {},
   "source": [
    "Эта гистограмма близка к нормальному распределению"
   ]
  },
  {
   "cell_type": "code",
   "execution_count": 84,
   "metadata": {},
   "outputs": [],
   "source": [
    "# Удалим \"выбросы\"\n",
    "data = data[data['total_area'] <= 150]"
   ]
  },
  {
   "cell_type": "code",
   "execution_count": 85,
   "metadata": {},
   "outputs": [
    {
     "data": {
      "text/plain": [
       "<AxesSubplot:>"
      ]
     },
     "execution_count": 85,
     "metadata": {},
     "output_type": "execute_result"
    },
    {
     "data": {
      "image/png": "[encoded data removed]",
      "text/plain": [
       "<Figure size 432x288 with 1 Axes>"
      ]
     },
     "metadata": {
      "needs_background": "light"
     },
     "output_type": "display_data"
    }
   ],
   "source": [
    "data['total_area'].hist()"
   ]
  },
  {
   "cell_type": "markdown",
   "metadata": {},
   "source": [
    "хвост на больших значениях остался и осталось падение слева от пика.\n",
    "\n",
    "Больше всего квартир с общей площадью около 50 кв.метров"
   ]
  },
  {
   "cell_type": "markdown",
   "metadata": {},
   "source": [
    "##### living_area (жилая площадь)"
   ]
  },
  {
   "cell_type": "code",
   "execution_count": 86,
   "metadata": {},
   "outputs": [
    {
     "data": {
      "text/plain": [
       "<AxesSubplot:>"
      ]
     },
     "execution_count": 86,
     "metadata": {},
     "output_type": "execute_result"
    },
    {
     "data": {
      "image/png": "[encoded data removed]",
      "text/plain": [
       "<Figure size 432x288 with 1 Axes>"
      ]
     },
     "metadata": {
      "needs_background": "light"
     },
     "output_type": "display_data"
    }
   ],
   "source": [
    "data['living_area'].hist()"
   ]
  },
  {
   "cell_type": "markdown",
   "metadata": {},
   "source": [
    "Распределение похоже на распределение по общей площади (с хвостом на больших значениях и падением слева от пика)"
   ]
  },
  {
   "cell_type": "code",
   "execution_count": 87,
   "metadata": {},
   "outputs": [
    {
     "data": {
      "text/plain": [
       "<AxesSubplot:xlabel='living_area'>"
      ]
     },
     "execution_count": 87,
     "metadata": {},
     "output_type": "execute_result"
    },
    {
     "data": {
      "image/png": "[encoded data removed]",
      "text/plain": [
       "<Figure size 432x288 with 1 Axes>"
      ]
     },
     "metadata": {
      "needs_background": "light"
     },
     "output_type": "display_data"
    }
   ],
   "source": [
    "sns.boxplot(x=data['living_area'])"
   ]
  },
  {
   "cell_type": "code",
   "execution_count": 88,
   "metadata": {},
   "outputs": [],
   "source": [
    "# Удалим \"выбросы\"\n",
    "data = data[data['living_area'] <= 80]"
   ]
  },
  {
   "cell_type": "code",
   "execution_count": 89,
   "metadata": {},
   "outputs": [
    {
     "data": {
      "text/plain": [
       "<AxesSubplot:>"
      ]
     },
     "execution_count": 89,
     "metadata": {},
     "output_type": "execute_result"
    },
    {
     "data": {
      "image/png": "[encoded data removed]",
      "text/plain": [
       "<Figure size 432x288 with 1 Axes>"
      ]
     },
     "metadata": {
      "needs_background": "light"
     },
     "output_type": "display_data"
    }
   ],
   "source": [
    "# Построим гистограмму без выбросов\n",
    "data['living_area'].hist()"
   ]
  },
  {
   "cell_type": "markdown",
   "metadata": {},
   "source": [
    "Больше всего квартир с жилой плащадью около 30 кв.метров"
   ]
  },
  {
   "cell_type": "markdown",
   "metadata": {},
   "source": [
    "##### kitchen_area (площадь кухни)"
   ]
  },
  {
   "cell_type": "code",
   "execution_count": 90,
   "metadata": {},
   "outputs": [
    {
     "data": {
      "text/plain": [
       "<AxesSubplot:>"
      ]
     },
     "execution_count": 90,
     "metadata": {},
     "output_type": "execute_result"
    },
    {
     "data": {
      "image/png": "[encoded data removed]",
      "text/plain": [
       "<Figure size 432x288 with 1 Axes>"
      ]
     },
     "metadata": {
      "needs_background": "light"
     },
     "output_type": "display_data"
    }
   ],
   "source": [
    "data['kitchen_area'].hist()"
   ]
  },
  {
   "cell_type": "markdown",
   "metadata": {},
   "source": [
    "Длинный хвост на больших значениях и падение слева от пика\n",
    "\n",
    "Посмотрим на диаграмму размаха"
   ]
  },
  {
   "cell_type": "code",
   "execution_count": 91,
   "metadata": {},
   "outputs": [
    {
     "data": {
      "text/plain": [
       "<AxesSubplot:xlabel='kitchen_area'>"
      ]
     },
     "execution_count": 91,
     "metadata": {},
     "output_type": "execute_result"
    },
    {
     "data": {
      "image/png": "[encoded data removed]",
      "text/plain": [
       "<Figure size 432x288 with 1 Axes>"
      ]
     },
     "metadata": {
      "needs_background": "light"
     },
     "output_type": "display_data"
    }
   ],
   "source": [
    "sns.boxplot(x=data['kitchen_area'])"
   ]
  },
  {
   "cell_type": "markdown",
   "metadata": {},
   "source": [
    "Посмотрим на \"выбросы\" со значениями более 60. Может это опечатка, площадь кухни 6, а не 60"
   ]
  },
  {
   "cell_type": "code",
   "execution_count": 92,
   "metadata": {},
   "outputs": [
    {
     "data": {
      "text/html": [
       "<div>\n",
       "<style scoped>\n",
       "    .dataframe tbody tr th:only-of-type {\n",
       "        vertical-align: middle;\n",
       "    }\n",
       "\n",
       "    .dataframe tbody tr th {\n",
       "        vertical-align: top;\n",
       "    }\n",
       "\n",
       "    .dataframe thead th {\n",
       "        text-align: right;\n",
       "    }\n",
       "</style>\n",
       "<table border=\"1\" class=\"dataframe\">\n",
       "  <thead>\n",
       "    <tr style=\"text-align: right;\">\n",
       "      <th></th>\n",
       "      <th>open_plan</th>\n",
       "      <th>studio</th>\n",
       "      <th>living_area</th>\n",
       "      <th>total_area</th>\n",
       "      <th>rooms</th>\n",
       "      <th>kitchen_area</th>\n",
       "    </tr>\n",
       "  </thead>\n",
       "  <tbody>\n",
       "    <tr>\n",
       "      <th>14644</th>\n",
       "      <td>False</td>\n",
       "      <td>False</td>\n",
       "      <td>58.0</td>\n",
       "      <td>150.0</td>\n",
       "      <td>4</td>\n",
       "      <td>75.0</td>\n",
       "    </tr>\n",
       "    <tr>\n",
       "      <th>14900</th>\n",
       "      <td>False</td>\n",
       "      <td>False</td>\n",
       "      <td>42.7</td>\n",
       "      <td>125.6</td>\n",
       "      <td>2</td>\n",
       "      <td>62.5</td>\n",
       "    </tr>\n",
       "    <tr>\n",
       "      <th>15780</th>\n",
       "      <td>False</td>\n",
       "      <td>False</td>\n",
       "      <td>36.4</td>\n",
       "      <td>119.6</td>\n",
       "      <td>3</td>\n",
       "      <td>64.0</td>\n",
       "    </tr>\n",
       "    <tr>\n",
       "      <th>16647</th>\n",
       "      <td>False</td>\n",
       "      <td>False</td>\n",
       "      <td>36.0</td>\n",
       "      <td>145.0</td>\n",
       "      <td>3</td>\n",
       "      <td>72.0</td>\n",
       "    </tr>\n",
       "    <tr>\n",
       "      <th>16797</th>\n",
       "      <td>False</td>\n",
       "      <td>False</td>\n",
       "      <td>40.0</td>\n",
       "      <td>146.0</td>\n",
       "      <td>2</td>\n",
       "      <td>93.0</td>\n",
       "    </tr>\n",
       "    <tr>\n",
       "      <th>19499</th>\n",
       "      <td>False</td>\n",
       "      <td>False</td>\n",
       "      <td>36.0</td>\n",
       "      <td>118.0</td>\n",
       "      <td>3</td>\n",
       "      <td>64.0</td>\n",
       "    </tr>\n",
       "  </tbody>\n",
       "</table>\n",
       "</div>"
      ],
      "text/plain": [
       "       open_plan  studio  living_area  total_area  rooms  kitchen_area\n",
       "14644      False   False         58.0       150.0      4          75.0\n",
       "14900      False   False         42.7       125.6      2          62.5\n",
       "15780      False   False         36.4       119.6      3          64.0\n",
       "16647      False   False         36.0       145.0      3          72.0\n",
       "16797      False   False         40.0       146.0      2          93.0\n",
       "19499      False   False         36.0       118.0      3          64.0"
      ]
     },
     "execution_count": 92,
     "metadata": {},
     "output_type": "execute_result"
    }
   ],
   "source": [
    "data[data['kitchen_area'] > 60][['open_plan', 'studio', 'living_area', 'total_area', 'rooms', 'kitchen_area']]"
   ]
  },
  {
   "cell_type": "markdown",
   "metadata": {},
   "source": [
    "Странные квартиры (площадь кухни больше жилой площади и причем это не студии и не квартиры со свободной планировкой)\n",
    "\n",
    "Это не опечатка, т.к. общая площадь примерно равна сумме жилой площади и площади кухни"
   ]
  },
  {
   "cell_type": "code",
   "execution_count": 93,
   "metadata": {},
   "outputs": [],
   "source": [
    "# Удалим \"выбросы\" со значением больше 25\n",
    "data = data[data['kitchen_area'] <= 25]"
   ]
  },
  {
   "cell_type": "code",
   "execution_count": 94,
   "metadata": {},
   "outputs": [
    {
     "data": {
      "text/plain": [
       "<AxesSubplot:>"
      ]
     },
     "execution_count": 94,
     "metadata": {},
     "output_type": "execute_result"
    },
    {
     "data": {
      "image/png": "[encoded data removed]",
      "text/plain": [
       "<Figure size 432x288 with 1 Axes>"
      ]
     },
     "metadata": {
      "needs_background": "light"
     },
     "output_type": "display_data"
    }
   ],
   "source": [
    "data['kitchen_area'].hist(bins=25)"
   ]
  },
  {
   "cell_type": "markdown",
   "metadata": {},
   "source": [
    "Больше всего квартир с площадью кухни около 8 и 6 кв.метров."
   ]
  },
  {
   "cell_type": "markdown",
   "metadata": {},
   "source": [
    "##### last_price (цена объекта)"
   ]
  },
  {
   "cell_type": "code",
   "execution_count": 95,
   "metadata": {},
   "outputs": [
    {
     "data": {
      "text/plain": [
       "<AxesSubplot:>"
      ]
     },
     "execution_count": 95,
     "metadata": {},
     "output_type": "execute_result"
    },
    {
     "data": {
      "image/png": "[encoded data removed]",
      "text/plain": [
       "<Figure size 432x288 with 1 Axes>"
      ]
     },
     "metadata": {
      "needs_background": "light"
     },
     "output_type": "display_data"
    }
   ],
   "source": [
    "data['last_price'].hist()"
   ]
  },
  {
   "cell_type": "code",
   "execution_count": 96,
   "metadata": {},
   "outputs": [
    {
     "data": {
      "text/plain": [
       "<AxesSubplot:xlabel='last_price'>"
      ]
     },
     "execution_count": 96,
     "metadata": {},
     "output_type": "execute_result"
    },
    {
     "data": {
      "image/png": "[encoded data removed]",
      "text/plain": [
       "<Figure size 432x288 with 1 Axes>"
      ]
     },
     "metadata": {
      "needs_background": "light"
     },
     "output_type": "display_data"
    }
   ],
   "source": [
    "sns.boxplot(x=data['last_price'])"
   ]
  },
  {
   "cell_type": "markdown",
   "metadata": {},
   "source": [
    "Сравним гистограммы со значениями до 10 млн. и до 15 млн."
   ]
  },
  {
   "cell_type": "code",
   "execution_count": 97,
   "metadata": {},
   "outputs": [
    {
     "data": {
      "text/plain": [
       "<AxesSubplot:>"
      ]
     },
     "execution_count": 97,
     "metadata": {},
     "output_type": "execute_result"
    },
    {
     "data": {
      "image/png": "[encoded data removed]",
      "text/plain": [
       "<Figure size 432x288 with 1 Axes>"
      ]
     },
     "metadata": {
      "needs_background": "light"
     },
     "output_type": "display_data"
    }
   ],
   "source": [
    "data['last_price'].hist(range=(0,10000000))"
   ]
  },
  {
   "cell_type": "code",
   "execution_count": 98,
   "metadata": {},
   "outputs": [
    {
     "data": {
      "text/plain": [
       "<AxesSubplot:>"
      ]
     },
     "execution_count": 98,
     "metadata": {},
     "output_type": "execute_result"
    },
    {
     "data": {
      "image/png": "[encoded data removed]",
      "text/plain": [
       "<Figure size 432x288 with 1 Axes>"
      ]
     },
     "metadata": {
      "needs_background": "light"
     },
     "output_type": "display_data"
    }
   ],
   "source": [
    "data['last_price'].hist(range=(0,15000000), bins=15)"
   ]
  },
  {
   "cell_type": "markdown",
   "metadata": {},
   "source": [
    "Гистограмма со значениями до 10 млн. дает более нормальное распределение, чем гистограмма со значениями до 15 млн.\n",
    "\n",
    "Построим гистограмму, то только для Питера"
   ]
  },
  {
   "cell_type": "code",
   "execution_count": 99,
   "metadata": {},
   "outputs": [
    {
     "data": {
      "text/plain": [
       "<AxesSubplot:>"
      ]
     },
     "execution_count": 99,
     "metadata": {},
     "output_type": "execute_result"
    },
    {
     "data": {
      "image/png": "[encoded data removed]",
      "text/plain": [
       "<Figure size 432x288 with 1 Axes>"
      ]
     },
     "metadata": {
      "needs_background": "light"
     },
     "output_type": "display_data"
    }
   ],
   "source": [
    "data[data['locality_name'] == 'Санкт-Петербург']['last_price'].hist(range=(0,15000000), bins=15)"
   ]
  },
  {
   "cell_type": "markdown",
   "metadata": {},
   "source": [
    "Для Питера пик смещен правее.\n",
    "\n",
    "Посмотрим на диаграмму размаха"
   ]
  },
  {
   "cell_type": "code",
   "execution_count": 100,
   "metadata": {},
   "outputs": [
    {
     "data": {
      "text/plain": [
       "<AxesSubplot:xlabel='last_price'>"
      ]
     },
     "execution_count": 100,
     "metadata": {},
     "output_type": "execute_result"
    },
    {
     "data": {
      "image/png": "[encoded data removed]",
      "text/plain": [
       "<Figure size 432x288 with 1 Axes>"
      ]
     },
     "metadata": {
      "needs_background": "light"
     },
     "output_type": "display_data"
    }
   ],
   "source": [
    "sns.boxplot(x=data[data['locality_name'] == 'Санкт-Петербург']['last_price'])"
   ]
  },
  {
   "cell_type": "markdown",
   "metadata": {},
   "source": [
    "Для Питера аномалии начинаются с 13 млн."
   ]
  },
  {
   "cell_type": "code",
   "execution_count": 101,
   "metadata": {},
   "outputs": [],
   "source": [
    "# Удалим выбросы со значением более 13 млн.\n",
    "data = data[data['last_price'] <= 13000000]"
   ]
  },
  {
   "cell_type": "code",
   "execution_count": 102,
   "metadata": {},
   "outputs": [
    {
     "data": {
      "text/plain": [
       "<AxesSubplot:>"
      ]
     },
     "execution_count": 102,
     "metadata": {},
     "output_type": "execute_result"
    },
    {
     "data": {
      "image/png": "[encoded data removed]",
      "text/plain": [
       "<Figure size 432x288 with 1 Axes>"
      ]
     },
     "metadata": {
      "needs_background": "light"
     },
     "output_type": "display_data"
    }
   ],
   "source": [
    "# Построим гисторгамму без \"выбросов\"\n",
    "data['last_price'].hist(bins=13)"
   ]
  },
  {
   "cell_type": "markdown",
   "metadata": {},
   "source": [
    "Чаще всего продаются квартиры стоимостью около 4 млн. рублей"
   ]
  },
  {
   "cell_type": "markdown",
   "metadata": {},
   "source": [
    "##### rooms (количество комнат)"
   ]
  },
  {
   "cell_type": "code",
   "execution_count": 103,
   "metadata": {},
   "outputs": [
    {
     "data": {
      "text/plain": [
       "<AxesSubplot:>"
      ]
     },
     "execution_count": 103,
     "metadata": {},
     "output_type": "execute_result"
    },
    {
     "data": {
      "image/png": "[encoded data removed]",
      "text/plain": [
       "<Figure size 432x288 with 1 Axes>"
      ]
     },
     "metadata": {
      "needs_background": "light"
     },
     "output_type": "display_data"
    }
   ],
   "source": [
    "data['rooms'].hist()"
   ]
  },
  {
   "cell_type": "code",
   "execution_count": 104,
   "metadata": {},
   "outputs": [
    {
     "data": {
      "text/plain": [
       "<AxesSubplot:xlabel='rooms'>"
      ]
     },
     "execution_count": 104,
     "metadata": {},
     "output_type": "execute_result"
    },
    {
     "data": {
      "image/png": "[encoded data removed]",
      "text/plain": [
       "<Figure size 432x288 with 1 Axes>"
      ]
     },
     "metadata": {
      "needs_background": "light"
     },
     "output_type": "display_data"
    }
   ],
   "source": [
    "# Построим диаграмму размаха\n",
    "sns.boxplot(x=data['rooms'])"
   ]
  },
  {
   "cell_type": "markdown",
   "metadata": {},
   "source": [
    "\"Выбросов\" нет.\n",
    "\n",
    "Чаще всего продаются однокомнатные квартиры, чуть реже двухкомнатные, и очень редко продаются квартиры с количеством комнат более 4"
   ]
  },
  {
   "cell_type": "markdown",
   "metadata": {},
   "source": [
    "##### ceiling_height (высота потолков)"
   ]
  },
  {
   "cell_type": "code",
   "execution_count": 105,
   "metadata": {},
   "outputs": [
    {
     "data": {
      "text/plain": [
       "<AxesSubplot:>"
      ]
     },
     "execution_count": 105,
     "metadata": {},
     "output_type": "execute_result"
    },
    {
     "data": {
      "image/png": "[encoded data removed]",
      "text/plain": [
       "<Figure size 432x288 with 1 Axes>"
      ]
     },
     "metadata": {
      "needs_background": "light"
     },
     "output_type": "display_data"
    }
   ],
   "source": [
    "data['ceiling_height'].hist()"
   ]
  },
  {
   "cell_type": "code",
   "execution_count": 106,
   "metadata": {},
   "outputs": [
    {
     "data": {
      "text/plain": [
       "<AxesSubplot:xlabel='ceiling_height'>"
      ]
     },
     "execution_count": 106,
     "metadata": {},
     "output_type": "execute_result"
    },
    {
     "data": {
      "image/png": "[encoded data removed]",
      "text/plain": [
       "<Figure size 432x288 with 1 Axes>"
      ]
     },
     "metadata": {
      "needs_background": "light"
     },
     "output_type": "display_data"
    }
   ],
   "source": [
    "# Построим диаграмму размаха\n",
    "sns.boxplot(x=data['ceiling_height'])"
   ]
  },
  {
   "cell_type": "markdown",
   "metadata": {},
   "source": [
    "Посмотрим на квартиры с высотой полоков более 20 метров"
   ]
  },
  {
   "cell_type": "code",
   "execution_count": 107,
   "metadata": {},
   "outputs": [
    {
     "data": {
      "text/html": [
       "<div>\n",
       "<style scoped>\n",
       "    .dataframe tbody tr th:only-of-type {\n",
       "        vertical-align: middle;\n",
       "    }\n",
       "\n",
       "    .dataframe tbody tr th {\n",
       "        vertical-align: top;\n",
       "    }\n",
       "\n",
       "    .dataframe thead th {\n",
       "        text-align: right;\n",
       "    }\n",
       "</style>\n",
       "<table border=\"1\" class=\"dataframe\">\n",
       "  <thead>\n",
       "    <tr style=\"text-align: right;\">\n",
       "      <th></th>\n",
       "      <th>total_images</th>\n",
       "      <th>last_price</th>\n",
       "      <th>total_area</th>\n",
       "      <th>first_day_exposition</th>\n",
       "      <th>rooms</th>\n",
       "      <th>ceiling_height</th>\n",
       "      <th>floors_total</th>\n",
       "      <th>living_area</th>\n",
       "      <th>floor</th>\n",
       "      <th>is_apartment</th>\n",
       "      <th>...</th>\n",
       "      <th>parks_nearest</th>\n",
       "      <th>ponds_around3000</th>\n",
       "      <th>ponds_nearest</th>\n",
       "      <th>days_exposition</th>\n",
       "      <th>price_one_square</th>\n",
       "      <th>week</th>\n",
       "      <th>month</th>\n",
       "      <th>year</th>\n",
       "      <th>type_floor</th>\n",
       "      <th>dist_to_center</th>\n",
       "    </tr>\n",
       "  </thead>\n",
       "  <tbody>\n",
       "    <tr>\n",
       "      <th>355</th>\n",
       "      <td>17</td>\n",
       "      <td>3600000.0</td>\n",
       "      <td>55.2</td>\n",
       "      <td>2018-07-12</td>\n",
       "      <td>2</td>\n",
       "      <td>25.0</td>\n",
       "      <td>5</td>\n",
       "      <td>32.0</td>\n",
       "      <td>2</td>\n",
       "      <td>False</td>\n",
       "      <td>...</td>\n",
       "      <td>NaN</td>\n",
       "      <td>NaN</td>\n",
       "      <td>NaN</td>\n",
       "      <td>259.0</td>\n",
       "      <td>65217.39</td>\n",
       "      <td>3</td>\n",
       "      <td>7</td>\n",
       "      <td>2018</td>\n",
       "      <td>Другой</td>\n",
       "      <td>NaN</td>\n",
       "    </tr>\n",
       "    <tr>\n",
       "      <th>3148</th>\n",
       "      <td>14</td>\n",
       "      <td>2900000.0</td>\n",
       "      <td>75.0</td>\n",
       "      <td>2018-11-12</td>\n",
       "      <td>3</td>\n",
       "      <td>32.0</td>\n",
       "      <td>3</td>\n",
       "      <td>53.0</td>\n",
       "      <td>2</td>\n",
       "      <td>False</td>\n",
       "      <td>...</td>\n",
       "      <td>NaN</td>\n",
       "      <td>NaN</td>\n",
       "      <td>NaN</td>\n",
       "      <td>NaN</td>\n",
       "      <td>38666.67</td>\n",
       "      <td>0</td>\n",
       "      <td>11</td>\n",
       "      <td>2018</td>\n",
       "      <td>Другой</td>\n",
       "      <td>NaN</td>\n",
       "    </tr>\n",
       "    <tr>\n",
       "      <th>4643</th>\n",
       "      <td>0</td>\n",
       "      <td>4300000.0</td>\n",
       "      <td>45.0</td>\n",
       "      <td>2018-02-01</td>\n",
       "      <td>2</td>\n",
       "      <td>25.0</td>\n",
       "      <td>9</td>\n",
       "      <td>30.0</td>\n",
       "      <td>2</td>\n",
       "      <td>False</td>\n",
       "      <td>...</td>\n",
       "      <td>658.0</td>\n",
       "      <td>1.0</td>\n",
       "      <td>331.0</td>\n",
       "      <td>181.0</td>\n",
       "      <td>95555.56</td>\n",
       "      <td>3</td>\n",
       "      <td>2</td>\n",
       "      <td>2018</td>\n",
       "      <td>Другой</td>\n",
       "      <td>13.0</td>\n",
       "    </tr>\n",
       "    <tr>\n",
       "      <th>4876</th>\n",
       "      <td>7</td>\n",
       "      <td>3000000.0</td>\n",
       "      <td>25.0</td>\n",
       "      <td>2017-09-27</td>\n",
       "      <td>0</td>\n",
       "      <td>27.0</td>\n",
       "      <td>25</td>\n",
       "      <td>17.0</td>\n",
       "      <td>17</td>\n",
       "      <td>False</td>\n",
       "      <td>...</td>\n",
       "      <td>NaN</td>\n",
       "      <td>NaN</td>\n",
       "      <td>NaN</td>\n",
       "      <td>28.0</td>\n",
       "      <td>120000.00</td>\n",
       "      <td>2</td>\n",
       "      <td>9</td>\n",
       "      <td>2017</td>\n",
       "      <td>Другой</td>\n",
       "      <td>NaN</td>\n",
       "    </tr>\n",
       "    <tr>\n",
       "      <th>5076</th>\n",
       "      <td>0</td>\n",
       "      <td>3850000.0</td>\n",
       "      <td>30.5</td>\n",
       "      <td>2018-10-03</td>\n",
       "      <td>1</td>\n",
       "      <td>24.0</td>\n",
       "      <td>5</td>\n",
       "      <td>19.5</td>\n",
       "      <td>1</td>\n",
       "      <td>True</td>\n",
       "      <td>...</td>\n",
       "      <td>397.0</td>\n",
       "      <td>1.0</td>\n",
       "      <td>578.0</td>\n",
       "      <td>7.0</td>\n",
       "      <td>126229.51</td>\n",
       "      <td>2</td>\n",
       "      <td>10</td>\n",
       "      <td>2018</td>\n",
       "      <td>Первый</td>\n",
       "      <td>8.0</td>\n",
       "    </tr>\n",
       "    <tr>\n",
       "      <th>5246</th>\n",
       "      <td>0</td>\n",
       "      <td>2500000.0</td>\n",
       "      <td>54.0</td>\n",
       "      <td>2017-10-13</td>\n",
       "      <td>2</td>\n",
       "      <td>27.0</td>\n",
       "      <td>5</td>\n",
       "      <td>30.0</td>\n",
       "      <td>3</td>\n",
       "      <td>False</td>\n",
       "      <td>...</td>\n",
       "      <td>NaN</td>\n",
       "      <td>NaN</td>\n",
       "      <td>NaN</td>\n",
       "      <td>540.0</td>\n",
       "      <td>46296.30</td>\n",
       "      <td>4</td>\n",
       "      <td>10</td>\n",
       "      <td>2017</td>\n",
       "      <td>Другой</td>\n",
       "      <td>NaN</td>\n",
       "    </tr>\n",
       "    <tr>\n",
       "      <th>5669</th>\n",
       "      <td>4</td>\n",
       "      <td>4400000.0</td>\n",
       "      <td>50.0</td>\n",
       "      <td>2017-08-08</td>\n",
       "      <td>2</td>\n",
       "      <td>26.0</td>\n",
       "      <td>9</td>\n",
       "      <td>21.3</td>\n",
       "      <td>3</td>\n",
       "      <td>False</td>\n",
       "      <td>...</td>\n",
       "      <td>305.0</td>\n",
       "      <td>0.0</td>\n",
       "      <td>NaN</td>\n",
       "      <td>267.0</td>\n",
       "      <td>88000.00</td>\n",
       "      <td>1</td>\n",
       "      <td>8</td>\n",
       "      <td>2017</td>\n",
       "      <td>Другой</td>\n",
       "      <td>11.0</td>\n",
       "    </tr>\n",
       "    <tr>\n",
       "      <th>5807</th>\n",
       "      <td>17</td>\n",
       "      <td>8150000.0</td>\n",
       "      <td>80.0</td>\n",
       "      <td>2019-01-09</td>\n",
       "      <td>2</td>\n",
       "      <td>27.0</td>\n",
       "      <td>36</td>\n",
       "      <td>41.0</td>\n",
       "      <td>13</td>\n",
       "      <td>False</td>\n",
       "      <td>...</td>\n",
       "      <td>NaN</td>\n",
       "      <td>3.0</td>\n",
       "      <td>80.0</td>\n",
       "      <td>38.0</td>\n",
       "      <td>101875.00</td>\n",
       "      <td>2</td>\n",
       "      <td>1</td>\n",
       "      <td>2019</td>\n",
       "      <td>Другой</td>\n",
       "      <td>20.0</td>\n",
       "    </tr>\n",
       "    <tr>\n",
       "      <th>6246</th>\n",
       "      <td>6</td>\n",
       "      <td>3300000.0</td>\n",
       "      <td>44.4</td>\n",
       "      <td>2019-03-25</td>\n",
       "      <td>2</td>\n",
       "      <td>25.0</td>\n",
       "      <td>5</td>\n",
       "      <td>31.3</td>\n",
       "      <td>5</td>\n",
       "      <td>False</td>\n",
       "      <td>...</td>\n",
       "      <td>417.0</td>\n",
       "      <td>2.0</td>\n",
       "      <td>73.0</td>\n",
       "      <td>NaN</td>\n",
       "      <td>74324.32</td>\n",
       "      <td>0</td>\n",
       "      <td>3</td>\n",
       "      <td>2019</td>\n",
       "      <td>Последний</td>\n",
       "      <td>51.0</td>\n",
       "    </tr>\n",
       "    <tr>\n",
       "      <th>9379</th>\n",
       "      <td>5</td>\n",
       "      <td>3950000.0</td>\n",
       "      <td>42.0</td>\n",
       "      <td>2017-03-26</td>\n",
       "      <td>3</td>\n",
       "      <td>25.0</td>\n",
       "      <td>5</td>\n",
       "      <td>30.0</td>\n",
       "      <td>2</td>\n",
       "      <td>False</td>\n",
       "      <td>...</td>\n",
       "      <td>NaN</td>\n",
       "      <td>0.0</td>\n",
       "      <td>NaN</td>\n",
       "      <td>NaN</td>\n",
       "      <td>94047.62</td>\n",
       "      <td>6</td>\n",
       "      <td>3</td>\n",
       "      <td>2017</td>\n",
       "      <td>Другой</td>\n",
       "      <td>14.0</td>\n",
       "    </tr>\n",
       "    <tr>\n",
       "      <th>10773</th>\n",
       "      <td>8</td>\n",
       "      <td>3800000.0</td>\n",
       "      <td>58.0</td>\n",
       "      <td>2017-10-13</td>\n",
       "      <td>2</td>\n",
       "      <td>27.0</td>\n",
       "      <td>10</td>\n",
       "      <td>30.1</td>\n",
       "      <td>3</td>\n",
       "      <td>False</td>\n",
       "      <td>...</td>\n",
       "      <td>NaN</td>\n",
       "      <td>NaN</td>\n",
       "      <td>NaN</td>\n",
       "      <td>71.0</td>\n",
       "      <td>65517.24</td>\n",
       "      <td>4</td>\n",
       "      <td>10</td>\n",
       "      <td>2017</td>\n",
       "      <td>Другой</td>\n",
       "      <td>NaN</td>\n",
       "    </tr>\n",
       "    <tr>\n",
       "      <th>11285</th>\n",
       "      <td>0</td>\n",
       "      <td>1950000.0</td>\n",
       "      <td>37.0</td>\n",
       "      <td>2019-03-20</td>\n",
       "      <td>1</td>\n",
       "      <td>25.0</td>\n",
       "      <td>5</td>\n",
       "      <td>17.0</td>\n",
       "      <td>4</td>\n",
       "      <td>False</td>\n",
       "      <td>...</td>\n",
       "      <td>NaN</td>\n",
       "      <td>NaN</td>\n",
       "      <td>NaN</td>\n",
       "      <td>18.0</td>\n",
       "      <td>52702.70</td>\n",
       "      <td>2</td>\n",
       "      <td>3</td>\n",
       "      <td>2019</td>\n",
       "      <td>Другой</td>\n",
       "      <td>NaN</td>\n",
       "    </tr>\n",
       "    <tr>\n",
       "      <th>14382</th>\n",
       "      <td>9</td>\n",
       "      <td>1700000.0</td>\n",
       "      <td>35.0</td>\n",
       "      <td>2015-12-04</td>\n",
       "      <td>1</td>\n",
       "      <td>25.0</td>\n",
       "      <td>5</td>\n",
       "      <td>20.0</td>\n",
       "      <td>2</td>\n",
       "      <td>False</td>\n",
       "      <td>...</td>\n",
       "      <td>NaN</td>\n",
       "      <td>NaN</td>\n",
       "      <td>NaN</td>\n",
       "      <td>206.0</td>\n",
       "      <td>48571.43</td>\n",
       "      <td>4</td>\n",
       "      <td>12</td>\n",
       "      <td>2015</td>\n",
       "      <td>Другой</td>\n",
       "      <td>NaN</td>\n",
       "    </tr>\n",
       "    <tr>\n",
       "      <th>17496</th>\n",
       "      <td>15</td>\n",
       "      <td>6700000.0</td>\n",
       "      <td>92.9</td>\n",
       "      <td>2019-02-19</td>\n",
       "      <td>3</td>\n",
       "      <td>20.0</td>\n",
       "      <td>17</td>\n",
       "      <td>53.2</td>\n",
       "      <td>14</td>\n",
       "      <td>False</td>\n",
       "      <td>...</td>\n",
       "      <td>967.0</td>\n",
       "      <td>0.0</td>\n",
       "      <td>NaN</td>\n",
       "      <td>NaN</td>\n",
       "      <td>72120.56</td>\n",
       "      <td>1</td>\n",
       "      <td>2</td>\n",
       "      <td>2019</td>\n",
       "      <td>Другой</td>\n",
       "      <td>15.0</td>\n",
       "    </tr>\n",
       "    <tr>\n",
       "      <th>17857</th>\n",
       "      <td>1</td>\n",
       "      <td>3900000.0</td>\n",
       "      <td>56.0</td>\n",
       "      <td>2017-12-22</td>\n",
       "      <td>3</td>\n",
       "      <td>27.0</td>\n",
       "      <td>5</td>\n",
       "      <td>33.0</td>\n",
       "      <td>4</td>\n",
       "      <td>False</td>\n",
       "      <td>...</td>\n",
       "      <td>NaN</td>\n",
       "      <td>0.0</td>\n",
       "      <td>NaN</td>\n",
       "      <td>73.0</td>\n",
       "      <td>69642.86</td>\n",
       "      <td>4</td>\n",
       "      <td>12</td>\n",
       "      <td>2017</td>\n",
       "      <td>Другой</td>\n",
       "      <td>16.0</td>\n",
       "    </tr>\n",
       "    <tr>\n",
       "      <th>18545</th>\n",
       "      <td>6</td>\n",
       "      <td>3750000.0</td>\n",
       "      <td>43.0</td>\n",
       "      <td>2019-03-18</td>\n",
       "      <td>2</td>\n",
       "      <td>25.0</td>\n",
       "      <td>5</td>\n",
       "      <td>29.0</td>\n",
       "      <td>3</td>\n",
       "      <td>False</td>\n",
       "      <td>...</td>\n",
       "      <td>540.0</td>\n",
       "      <td>0.0</td>\n",
       "      <td>NaN</td>\n",
       "      <td>12.0</td>\n",
       "      <td>87209.30</td>\n",
       "      <td>0</td>\n",
       "      <td>3</td>\n",
       "      <td>2019</td>\n",
       "      <td>Другой</td>\n",
       "      <td>8.0</td>\n",
       "    </tr>\n",
       "    <tr>\n",
       "      <th>20478</th>\n",
       "      <td>11</td>\n",
       "      <td>8000000.0</td>\n",
       "      <td>45.0</td>\n",
       "      <td>2017-07-18</td>\n",
       "      <td>1</td>\n",
       "      <td>27.0</td>\n",
       "      <td>4</td>\n",
       "      <td>22.0</td>\n",
       "      <td>2</td>\n",
       "      <td>False</td>\n",
       "      <td>...</td>\n",
       "      <td>NaN</td>\n",
       "      <td>3.0</td>\n",
       "      <td>449.0</td>\n",
       "      <td>429.0</td>\n",
       "      <td>177777.78</td>\n",
       "      <td>1</td>\n",
       "      <td>7</td>\n",
       "      <td>2017</td>\n",
       "      <td>Другой</td>\n",
       "      <td>3.0</td>\n",
       "    </tr>\n",
       "    <tr>\n",
       "      <th>20507</th>\n",
       "      <td>12</td>\n",
       "      <td>5950000.0</td>\n",
       "      <td>60.0</td>\n",
       "      <td>2018-02-19</td>\n",
       "      <td>2</td>\n",
       "      <td>22.6</td>\n",
       "      <td>14</td>\n",
       "      <td>35.0</td>\n",
       "      <td>11</td>\n",
       "      <td>False</td>\n",
       "      <td>...</td>\n",
       "      <td>NaN</td>\n",
       "      <td>0.0</td>\n",
       "      <td>NaN</td>\n",
       "      <td>40.0</td>\n",
       "      <td>99166.67</td>\n",
       "      <td>0</td>\n",
       "      <td>2</td>\n",
       "      <td>2018</td>\n",
       "      <td>Другой</td>\n",
       "      <td>13.0</td>\n",
       "    </tr>\n",
       "    <tr>\n",
       "      <th>21377</th>\n",
       "      <td>19</td>\n",
       "      <td>4900000.0</td>\n",
       "      <td>42.0</td>\n",
       "      <td>2017-04-18</td>\n",
       "      <td>1</td>\n",
       "      <td>27.5</td>\n",
       "      <td>24</td>\n",
       "      <td>37.7</td>\n",
       "      <td>19</td>\n",
       "      <td>False</td>\n",
       "      <td>...</td>\n",
       "      <td>NaN</td>\n",
       "      <td>0.0</td>\n",
       "      <td>NaN</td>\n",
       "      <td>61.0</td>\n",
       "      <td>116666.67</td>\n",
       "      <td>1</td>\n",
       "      <td>4</td>\n",
       "      <td>2017</td>\n",
       "      <td>Другой</td>\n",
       "      <td>10.0</td>\n",
       "    </tr>\n",
       "    <tr>\n",
       "      <th>21824</th>\n",
       "      <td>20</td>\n",
       "      <td>2450000.0</td>\n",
       "      <td>44.0</td>\n",
       "      <td>2019-02-12</td>\n",
       "      <td>2</td>\n",
       "      <td>27.0</td>\n",
       "      <td>2</td>\n",
       "      <td>38.0</td>\n",
       "      <td>2</td>\n",
       "      <td>False</td>\n",
       "      <td>...</td>\n",
       "      <td>NaN</td>\n",
       "      <td>NaN</td>\n",
       "      <td>NaN</td>\n",
       "      <td>NaN</td>\n",
       "      <td>55681.82</td>\n",
       "      <td>1</td>\n",
       "      <td>2</td>\n",
       "      <td>2019</td>\n",
       "      <td>Последний</td>\n",
       "      <td>NaN</td>\n",
       "    </tr>\n",
       "    <tr>\n",
       "      <th>22336</th>\n",
       "      <td>19</td>\n",
       "      <td>9999000.0</td>\n",
       "      <td>92.4</td>\n",
       "      <td>2019-04-05</td>\n",
       "      <td>2</td>\n",
       "      <td>32.0</td>\n",
       "      <td>6</td>\n",
       "      <td>55.5</td>\n",
       "      <td>5</td>\n",
       "      <td>False</td>\n",
       "      <td>...</td>\n",
       "      <td>NaN</td>\n",
       "      <td>3.0</td>\n",
       "      <td>511.0</td>\n",
       "      <td>NaN</td>\n",
       "      <td>108214.29</td>\n",
       "      <td>4</td>\n",
       "      <td>4</td>\n",
       "      <td>2019</td>\n",
       "      <td>Другой</td>\n",
       "      <td>4.0</td>\n",
       "    </tr>\n",
       "    <tr>\n",
       "      <th>22938</th>\n",
       "      <td>14</td>\n",
       "      <td>4000000.0</td>\n",
       "      <td>98.0</td>\n",
       "      <td>2018-03-15</td>\n",
       "      <td>4</td>\n",
       "      <td>27.0</td>\n",
       "      <td>2</td>\n",
       "      <td>73.0</td>\n",
       "      <td>2</td>\n",
       "      <td>True</td>\n",
       "      <td>...</td>\n",
       "      <td>NaN</td>\n",
       "      <td>NaN</td>\n",
       "      <td>NaN</td>\n",
       "      <td>27.0</td>\n",
       "      <td>40816.33</td>\n",
       "      <td>3</td>\n",
       "      <td>3</td>\n",
       "      <td>2018</td>\n",
       "      <td>Последний</td>\n",
       "      <td>NaN</td>\n",
       "    </tr>\n",
       "  </tbody>\n",
       "</table>\n",
       "<p>22 rows × 28 columns</p>\n",
       "</div>"
      ],
      "text/plain": [
       "       total_images  last_price  total_area first_day_exposition  rooms  \\\n",
       "355              17   3600000.0        55.2           2018-07-12      2   \n",
       "3148             14   2900000.0        75.0           2018-11-12      3   \n",
       "4643              0   4300000.0        45.0           2018-02-01      2   \n",
       "4876              7   3000000.0        25.0           2017-09-27      0   \n",
       "5076              0   3850000.0        30.5           2018-10-03      1   \n",
       "5246              0   2500000.0        54.0           2017-10-13      2   \n",
       "5669              4   4400000.0        50.0           2017-08-08      2   \n",
       "5807             17   8150000.0        80.0           2019-01-09      2   \n",
       "6246              6   3300000.0        44.4           2019-03-25      2   \n",
       "9379              5   3950000.0        42.0           2017-03-26      3   \n",
       "10773             8   3800000.0        58.0           2017-10-13      2   \n",
       "11285             0   1950000.0        37.0           2019-03-20      1   \n",
       "14382             9   1700000.0        35.0           2015-12-04      1   \n",
       "17496            15   6700000.0        92.9           2019-02-19      3   \n",
       "17857             1   3900000.0        56.0           2017-12-22      3   \n",
       "18545             6   3750000.0        43.0           2019-03-18      2   \n",
       "20478            11   8000000.0        45.0           2017-07-18      1   \n",
       "20507            12   5950000.0        60.0           2018-02-19      2   \n",
       "21377            19   4900000.0        42.0           2017-04-18      1   \n",
       "21824            20   2450000.0        44.0           2019-02-12      2   \n",
       "22336            19   9999000.0        92.4           2019-04-05      2   \n",
       "22938            14   4000000.0        98.0           2018-03-15      4   \n",
       "\n",
       "       ceiling_height  floors_total  living_area  floor  is_apartment  ...  \\\n",
       "355              25.0             5         32.0      2         False  ...   \n",
       "3148             32.0             3         53.0      2         False  ...   \n",
       "4643             25.0             9         30.0      2         False  ...   \n",
       "4876             27.0            25         17.0     17         False  ...   \n",
       "5076             24.0             5         19.5      1          True  ...   \n",
       "5246             27.0             5         30.0      3         False  ...   \n",
       "5669             26.0             9         21.3      3         False  ...   \n",
       "5807             27.0            36         41.0     13         False  ...   \n",
       "6246             25.0             5         31.3      5         False  ...   \n",
       "9379             25.0             5         30.0      2         False  ...   \n",
       "10773            27.0            10         30.1      3         False  ...   \n",
       "11285            25.0             5         17.0      4         False  ...   \n",
       "14382            25.0             5         20.0      2         False  ...   \n",
       "17496            20.0            17         53.2     14         False  ...   \n",
       "17857            27.0             5         33.0      4         False  ...   \n",
       "18545            25.0             5         29.0      3         False  ...   \n",
       "20478            27.0             4         22.0      2         False  ...   \n",
       "20507            22.6            14         35.0     11         False  ...   \n",
       "21377            27.5            24         37.7     19         False  ...   \n",
       "21824            27.0             2         38.0      2         False  ...   \n",
       "22336            32.0             6         55.5      5         False  ...   \n",
       "22938            27.0             2         73.0      2          True  ...   \n",
       "\n",
       "       parks_nearest  ponds_around3000  ponds_nearest  days_exposition  \\\n",
       "355              NaN               NaN            NaN            259.0   \n",
       "3148             NaN               NaN            NaN              NaN   \n",
       "4643           658.0               1.0          331.0            181.0   \n",
       "4876             NaN               NaN            NaN             28.0   \n",
       "5076           397.0               1.0          578.0              7.0   \n",
       "5246             NaN               NaN            NaN            540.0   \n",
       "5669           305.0               0.0            NaN            267.0   \n",
       "5807             NaN               3.0           80.0             38.0   \n",
       "6246           417.0               2.0           73.0              NaN   \n",
       "9379             NaN               0.0            NaN              NaN   \n",
       "10773            NaN               NaN            NaN             71.0   \n",
       "11285            NaN               NaN            NaN             18.0   \n",
       "14382            NaN               NaN            NaN            206.0   \n",
       "17496          967.0               0.0            NaN              NaN   \n",
       "17857            NaN               0.0            NaN             73.0   \n",
       "18545          540.0               0.0            NaN             12.0   \n",
       "20478            NaN               3.0          449.0            429.0   \n",
       "20507            NaN               0.0            NaN             40.0   \n",
       "21377            NaN               0.0            NaN             61.0   \n",
       "21824            NaN               NaN            NaN              NaN   \n",
       "22336            NaN               3.0          511.0              NaN   \n",
       "22938            NaN               NaN            NaN             27.0   \n",
       "\n",
       "      price_one_square  week  month  year  type_floor  dist_to_center  \n",
       "355           65217.39     3      7  2018      Другой             NaN  \n",
       "3148          38666.67     0     11  2018      Другой             NaN  \n",
       "4643          95555.56     3      2  2018      Другой            13.0  \n",
       "4876         120000.00     2      9  2017      Другой             NaN  \n",
       "5076         126229.51     2     10  2018      Первый             8.0  \n",
       "5246          46296.30     4     10  2017      Другой             NaN  \n",
       "5669          88000.00     1      8  2017      Другой            11.0  \n",
       "5807         101875.00     2      1  2019      Другой            20.0  \n",
       "6246          74324.32     0      3  2019   Последний            51.0  \n",
       "9379          94047.62     6      3  2017      Другой            14.0  \n",
       "10773         65517.24     4     10  2017      Другой             NaN  \n",
       "11285         52702.70     2      3  2019      Другой             NaN  \n",
       "14382         48571.43     4     12  2015      Другой             NaN  \n",
       "17496         72120.56     1      2  2019      Другой            15.0  \n",
       "17857         69642.86     4     12  2017      Другой            16.0  \n",
       "18545         87209.30     0      3  2019      Другой             8.0  \n",
       "20478        177777.78     1      7  2017      Другой             3.0  \n",
       "20507         99166.67     0      2  2018      Другой            13.0  \n",
       "21377        116666.67     1      4  2017      Другой            10.0  \n",
       "21824         55681.82     1      2  2019   Последний             NaN  \n",
       "22336        108214.29     4      4  2019      Другой             4.0  \n",
       "22938         40816.33     3      3  2018   Последний             NaN  \n",
       "\n",
       "[22 rows x 28 columns]"
      ]
     },
     "execution_count": 107,
     "metadata": {},
     "output_type": "execute_result"
    }
   ],
   "source": [
    "data[data['ceiling_height'] >= 20]"
   ]
  },
  {
   "cell_type": "markdown",
   "metadata": {},
   "source": [
    "С виду обычные квартиры. Скорее всего указывали в дециметрах. Поэтому высоту потолков у таких квартир сократим в 10 раз"
   ]
  },
  {
   "cell_type": "code",
   "execution_count": 108,
   "metadata": {},
   "outputs": [],
   "source": [
    "data.loc[data['ceiling_height'] >= 20, 'ceiling_height'] = data['ceiling_height'] / 10"
   ]
  },
  {
   "cell_type": "code",
   "execution_count": 109,
   "metadata": {},
   "outputs": [
    {
     "data": {
      "text/plain": [
       "<AxesSubplot:xlabel='ceiling_height'>"
      ]
     },
     "execution_count": 109,
     "metadata": {},
     "output_type": "execute_result"
    },
    {
     "data": {
      "image/png": "[encoded data removed]",
      "text/plain": [
       "<Figure size 432x288 with 1 Axes>"
      ]
     },
     "metadata": {
      "needs_background": "light"
     },
     "output_type": "display_data"
    }
   ],
   "source": [
    "# Построим диаграмму размаха\n",
    "sns.boxplot(x=data['ceiling_height'])"
   ]
  },
  {
   "cell_type": "markdown",
   "metadata": {},
   "source": [
    "Потолки с высотой меньше 2 метров - тоже аномалия. Поэтому удалим их из данных"
   ]
  },
  {
   "cell_type": "code",
   "execution_count": 110,
   "metadata": {},
   "outputs": [],
   "source": [
    "data = data[data['ceiling_height'] >= 2]"
   ]
  },
  {
   "cell_type": "code",
   "execution_count": 111,
   "metadata": {},
   "outputs": [],
   "source": [
    "# И удалим данные, в которых высота полотков более 4 метров\n",
    "data = data[data['ceiling_height'] <= 4]"
   ]
  },
  {
   "cell_type": "code",
   "execution_count": 112,
   "metadata": {},
   "outputs": [
    {
     "data": {
      "text/plain": [
       "<AxesSubplot:>"
      ]
     },
     "execution_count": 112,
     "metadata": {},
     "output_type": "execute_result"
    },
    {
     "data": {
      "image/png": "[encoded data removed]",
      "text/plain": [
       "<Figure size 432x288 with 1 Axes>"
      ]
     },
     "metadata": {
      "needs_background": "light"
     },
     "output_type": "display_data"
    }
   ],
   "source": [
    "data['ceiling_height'].hist()"
   ]
  },
  {
   "cell_type": "markdown",
   "metadata": {},
   "source": [
    "Значительно больше всего квартир с высотой потолков 2,7 метра. Это объясняется в том числе и из-за того что заменили пропуски на медиану"
   ]
  },
  {
   "cell_type": "markdown",
   "metadata": {},
   "source": [
    "##### (тип этажа квартиры («первый», «последний», «другой»))"
   ]
  },
  {
   "cell_type": "code",
   "execution_count": 113,
   "metadata": {},
   "outputs": [
    {
     "data": {
      "text/plain": [
       "<AxesSubplot:>"
      ]
     },
     "execution_count": 113,
     "metadata": {},
     "output_type": "execute_result"
    },
    {
     "data": {
      "image/png": "[encoded data removed]",
      "text/plain": [
       "<Figure size 432x288 with 1 Axes>"
      ]
     },
     "metadata": {
      "needs_background": "light"
     },
     "output_type": "display_data"
    }
   ],
   "source": [
    "data['type_floor'].hist(bins=3)"
   ]
  },
  {
   "cell_type": "markdown",
   "metadata": {},
   "source": [
    "Количество квартир на первом и последнем этаже примерно равное. Значительно больше квартир на других этажах"
   ]
  },
  {
   "cell_type": "markdown",
   "metadata": {},
   "source": [
    "##### floors_total (общее количество этажей в доме)"
   ]
  },
  {
   "cell_type": "code",
   "execution_count": 114,
   "metadata": {},
   "outputs": [
    {
     "data": {
      "text/plain": [
       "<AxesSubplot:>"
      ]
     },
     "execution_count": 114,
     "metadata": {},
     "output_type": "execute_result"
    },
    {
     "data": {
      "image/png": "[encoded data removed]",
      "text/plain": [
       "<Figure size 432x288 with 1 Axes>"
      ]
     },
     "metadata": {
      "needs_background": "light"
     },
     "output_type": "display_data"
    }
   ],
   "source": [
    "data['floors_total'].hist()"
   ]
  },
  {
   "cell_type": "code",
   "execution_count": 115,
   "metadata": {},
   "outputs": [
    {
     "data": {
      "text/plain": [
       "<AxesSubplot:xlabel='floors_total'>"
      ]
     },
     "execution_count": 115,
     "metadata": {},
     "output_type": "execute_result"
    },
    {
     "data": {
      "image/png": "[encoded data removed]",
      "text/plain": [
       "<Figure size 432x288 with 1 Axes>"
      ]
     },
     "metadata": {
      "needs_background": "light"
     },
     "output_type": "display_data"
    }
   ],
   "source": [
    "# Построим диаграмму размаха\n",
    "sns.boxplot(x=data['floors_total'])"
   ]
  },
  {
   "cell_type": "code",
   "execution_count": 116,
   "metadata": {},
   "outputs": [
    {
     "data": {
      "text/plain": [
       "(31, 28)"
      ]
     },
     "execution_count": 116,
     "metadata": {},
     "output_type": "execute_result"
    }
   ],
   "source": [
    "data[data['floors_total'] > 30].shape"
   ]
  },
  {
   "cell_type": "markdown",
   "metadata": {},
   "source": [
    "Количество \"выбросов\" (значения более 30) небольшое, поэтому удалим их"
   ]
  },
  {
   "cell_type": "code",
   "execution_count": 117,
   "metadata": {},
   "outputs": [],
   "source": [
    "data = data[data['floors_total'] <= 30]"
   ]
  },
  {
   "cell_type": "code",
   "execution_count": 118,
   "metadata": {},
   "outputs": [
    {
     "data": {
      "text/plain": [
       "<AxesSubplot:>"
      ]
     },
     "execution_count": 118,
     "metadata": {},
     "output_type": "execute_result"
    },
    {
     "data": {
      "image/png": "[encoded data removed]",
      "text/plain": [
       "<Figure size 432x288 with 1 Axes>"
      ]
     },
     "metadata": {
      "needs_background": "light"
     },
     "output_type": "display_data"
    }
   ],
   "source": [
    "data['floors_total'].hist(bins=30)"
   ]
  },
  {
   "cell_type": "markdown",
   "metadata": {},
   "source": [
    "Самые распространенные 5-ти и 9-ти этажные дома"
   ]
  },
  {
   "cell_type": "markdown",
   "metadata": {},
   "source": [
    "##### cityCenters_nearest (расстояние до центра города в метрах)"
   ]
  },
  {
   "cell_type": "code",
   "execution_count": 119,
   "metadata": {},
   "outputs": [
    {
     "data": {
      "text/plain": [
       "<AxesSubplot:>"
      ]
     },
     "execution_count": 119,
     "metadata": {},
     "output_type": "execute_result"
    },
    {
     "data": {
      "image/png": "[encoded data removed]",
      "text/plain": [
       "<Figure size 432x288 with 1 Axes>"
      ]
     },
     "metadata": {
      "needs_background": "light"
     },
     "output_type": "display_data"
    }
   ],
   "source": [
    "data['cityCenters_nearest'].hist()"
   ]
  },
  {
   "cell_type": "code",
   "execution_count": 120,
   "metadata": {},
   "outputs": [
    {
     "data": {
      "text/plain": [
       "<AxesSubplot:xlabel='cityCenters_nearest'>"
      ]
     },
     "execution_count": 120,
     "metadata": {},
     "output_type": "execute_result"
    },
    {
     "data": {
      "image/png": "[encoded data removed]",
      "text/plain": [
       "<Figure size 432x288 with 1 Axes>"
      ]
     },
     "metadata": {
      "needs_background": "light"
     },
     "output_type": "display_data"
    }
   ],
   "source": [
    "# Построим диаграмму размаха\n",
    "sns.boxplot(x=data['cityCenters_nearest'])"
   ]
  },
  {
   "cell_type": "markdown",
   "metadata": {},
   "source": [
    "Посмотрим на названия населенных пунктов, в которых указали расстояние до центра более 30 км"
   ]
  },
  {
   "cell_type": "code",
   "execution_count": 121,
   "metadata": {},
   "outputs": [
    {
     "data": {
      "text/plain": [
       "array(['Ломоносов', 'Петергоф', 'Пушкин', 'Колпино', 'Кронштадт',\n",
       "       'Павловск', 'Сестрорецк', 'поселок Шушары', 'поселок Понтонный',\n",
       "       'Зеленогорск', 'Красное Село', 'поселок Молодежное',\n",
       "       'поселок Саперный', 'поселок Белоостров', 'поселок Репино'],\n",
       "      dtype=object)"
      ]
     },
     "execution_count": 121,
     "metadata": {},
     "output_type": "execute_result"
    }
   ],
   "source": [
    "data[data['cityCenters_nearest'] > 30000]['locality_name'].unique()"
   ]
  },
  {
   "cell_type": "markdown",
   "metadata": {},
   "source": [
    "Эти данные заполняли автоматически на основе картографических данных даже для пригородов Санкт-Петербурга.\n",
    "\n",
    "Посмотрим на гистограмму и диаграмму размаха выбрав населенный пункт только Санкт-Петербург"
   ]
  },
  {
   "cell_type": "code",
   "execution_count": 122,
   "metadata": {},
   "outputs": [
    {
     "data": {
      "text/plain": [
       "<AxesSubplot:>"
      ]
     },
     "execution_count": 122,
     "metadata": {},
     "output_type": "execute_result"
    },
    {
     "data": {
      "image/png": "[encoded data removed]",
      "text/plain": [
       "<Figure size 432x288 with 1 Axes>"
      ]
     },
     "metadata": {
      "needs_background": "light"
     },
     "output_type": "display_data"
    }
   ],
   "source": [
    "data[data['locality_name'] == 'Санкт-Петербург']['cityCenters_nearest'].hist()"
   ]
  },
  {
   "cell_type": "code",
   "execution_count": 123,
   "metadata": {},
   "outputs": [
    {
     "data": {
      "text/plain": [
       "<AxesSubplot:xlabel='cityCenters_nearest'>"
      ]
     },
     "execution_count": 123,
     "metadata": {},
     "output_type": "execute_result"
    },
    {
     "data": {
      "image/png": "[encoded data removed]",
      "text/plain": [
       "<Figure size 432x288 with 1 Axes>"
      ]
     },
     "metadata": {
      "needs_background": "light"
     },
     "output_type": "display_data"
    }
   ],
   "source": [
    "sns.boxplot(x=data[data['locality_name'] == 'Санкт-Петербург']['cityCenters_nearest'])"
   ]
  },
  {
   "cell_type": "markdown",
   "metadata": {},
   "source": [
    "Для Питера расстояние до центра более 24 км - это аномалия.\n",
    "\n",
    "Удалим такие выбросы"
   ]
  },
  {
   "cell_type": "code",
   "execution_count": 124,
   "metadata": {},
   "outputs": [],
   "source": [
    "data = data[(data['locality_name'] != 'Санкт-Петербург') | (data['cityCenters_nearest'] <= 24000)]"
   ]
  },
  {
   "cell_type": "code",
   "execution_count": 125,
   "metadata": {},
   "outputs": [
    {
     "data": {
      "text/plain": [
       "<AxesSubplot:>"
      ]
     },
     "execution_count": 125,
     "metadata": {},
     "output_type": "execute_result"
    },
    {
     "data": {
      "image/png": "[encoded data removed]",
      "text/plain": [
       "<Figure size 432x288 with 1 Axes>"
      ]
     },
     "metadata": {
      "needs_background": "light"
     },
     "output_type": "display_data"
    }
   ],
   "source": [
    "data[data['locality_name'] == 'Санкт-Петербург']['cityCenters_nearest'].hist()"
   ]
  },
  {
   "cell_type": "markdown",
   "metadata": {},
   "source": [
    "Гистограмма по Питеру показывает пик значений на 12-15 км от центра. Скорее всего в основном жилые кварталы находятся на окраине города"
   ]
  },
  {
   "cell_type": "code",
   "execution_count": 126,
   "metadata": {},
   "outputs": [
    {
     "data": {
      "text/plain": [
       "<AxesSubplot:>"
      ]
     },
     "execution_count": 126,
     "metadata": {},
     "output_type": "execute_result"
    },
    {
     "data": {
      "image/png": "[encoded data removed]",
      "text/plain": [
       "<Figure size 432x288 with 1 Axes>"
      ]
     },
     "metadata": {
      "needs_background": "light"
     },
     "output_type": "display_data"
    }
   ],
   "source": [
    "data[data['locality_name'] != 'Санкт-Петербург']['cityCenters_nearest'].hist()"
   ]
  },
  {
   "cell_type": "markdown",
   "metadata": {},
   "source": [
    "Для других населенных пунктов пик значений - около 30 км. от центра"
   ]
  },
  {
   "cell_type": "markdown",
   "metadata": {},
   "source": [
    "##### parks_nearest (расстояние до ближайшего парка)"
   ]
  },
  {
   "cell_type": "code",
   "execution_count": 127,
   "metadata": {},
   "outputs": [
    {
     "data": {
      "text/plain": [
       "<AxesSubplot:>"
      ]
     },
     "execution_count": 127,
     "metadata": {},
     "output_type": "execute_result"
    },
    {
     "data": {
      "image/png": "[encoded data removed]",
      "text/plain": [
       "<Figure size 432x288 with 1 Axes>"
      ]
     },
     "metadata": {
      "needs_background": "light"
     },
     "output_type": "display_data"
    }
   ],
   "source": [
    "data['parks_nearest'].hist()"
   ]
  },
  {
   "cell_type": "markdown",
   "metadata": {},
   "source": [
    "Часто квартиры находятся недалеко от парка (чаще всего около 500 метров)"
   ]
  },
  {
   "cell_type": "markdown",
   "metadata": {},
   "source": [
    " <div class=\"alert alert-success\">\n",
    "✔️ Комментарий ревьюера ✔️\n",
    "\n",
    "Хороший результат. Хочу добавить, что обычно размеры двухкомнатных квартир составляют от 50 до 100 квадратных метров, что и соответствует проведенному анализу.\n",
    "\n",
    "Могу посоветовать на будущее хорошую статью по оформлению графиков:\n",
    "    https://devpractice.ru/matplotlib-lesson-3-3-text-elements/\n",
    "\n",
    "`Обращаю внимание, что графики с заголовками и подписями осей выглядят в отчетах более выигрышно и ценятся руководством`\n",
    "\n",
    "\n",
    "</div>"
   ]
  },
  {
   "cell_type": "code",
   "execution_count": 128,
   "metadata": {},
   "outputs": [
    {
     "data": {
      "text/plain": [
       "21451"
      ]
     },
     "execution_count": 128,
     "metadata": {},
     "output_type": "execute_result"
    }
   ],
   "source": [
    "data.shape[0]"
   ]
  },
  {
   "cell_type": "markdown",
   "metadata": {},
   "source": [
    "<div class=\"alert alert-danger\">\n",
    "\n",
    "**❌ Комментарий ревьюера ❌**\n",
    "   \n",
    "   Вообще, было бы здорово поработать с фильтрацией и сохранить долю остаточных данных до 90%. Также мы можем использовать data.shape[0], чтобы получить только число строк, и расчитать долю потерь более точно \n",
    "\n",
    "</div>\n"
   ]
  },
  {
   "cell_type": "code",
   "execution_count": 129,
   "metadata": {},
   "outputs": [
    {
     "name": "stdout",
     "output_type": "stream",
     "text": [
      "Доля остаточных данных после фильтрации составляет: 90.5%\n"
     ]
    }
   ],
   "source": [
    "print(f\"Доля остаточных данных после фильтрации составляет: {data.shape[0] / 23699 :.1%}\")"
   ]
  },
  {
   "cell_type": "markdown",
   "metadata": {},
   "source": [
    "<div class=\"alert alert-block alert-info\">\n",
    "    \n",
    "Доля остаточных данных после фильтрации составляет: 90.5%\n",
    "<div class=\"alert alert-success\">\n",
    "\n",
    "**✔️ Комментарий ревьюера v2✔️**\n",
    "   \n",
    "   Хороший результат👍\n",
    "\n",
    "</div>\n",
    "    \n",
    "</div>"
   ]
  },
  {
   "cell_type": "markdown",
   "metadata": {},
   "source": [
    "#### Проведем анализ как быстро продавались квартиры"
   ]
  },
  {
   "cell_type": "markdown",
   "metadata": {},
   "source": [
    "Сколько дней было размещено объявление от публикации до снятия хранится в столбце days_exposition.\n",
    "\n",
    "Построим гистограмму и диаграмму размаха по этому столбцу"
   ]
  },
  {
   "cell_type": "code",
   "execution_count": 130,
   "metadata": {},
   "outputs": [
    {
     "data": {
      "text/plain": [
       "<AxesSubplot:>"
      ]
     },
     "execution_count": 130,
     "metadata": {},
     "output_type": "execute_result"
    },
    {
     "data": {
      "image/png": "[encoded data removed]",
      "text/plain": [
       "<Figure size 432x288 with 1 Axes>"
      ]
     },
     "metadata": {
      "needs_background": "light"
     },
     "output_type": "display_data"
    }
   ],
   "source": [
    "data['days_exposition'].hist()"
   ]
  },
  {
   "cell_type": "markdown",
   "metadata": {},
   "source": [
    "У гистограммы длинный хвост на больших значениях"
   ]
  },
  {
   "cell_type": "code",
   "execution_count": 131,
   "metadata": {},
   "outputs": [
    {
     "data": {
      "text/plain": [
       "<AxesSubplot:xlabel='days_exposition'>"
      ]
     },
     "execution_count": 131,
     "metadata": {},
     "output_type": "execute_result"
    },
    {
     "data": {
      "image/png": "[encoded data removed]",
      "text/plain": [
       "<Figure size 432x288 with 1 Axes>"
      ]
     },
     "metadata": {
      "needs_background": "light"
     },
     "output_type": "display_data"
    }
   ],
   "source": [
    "sns.boxplot(x=data['days_exposition'])"
   ]
  },
  {
   "cell_type": "markdown",
   "metadata": {},
   "source": [
    "Посчитаем среднюю и медиану"
   ]
  },
  {
   "cell_type": "code",
   "execution_count": 132,
   "metadata": {},
   "outputs": [
    {
     "name": "stdout",
     "output_type": "stream",
     "text": [
      "Среднее: 173\n",
      "Медиана: 92\n"
     ]
    }
   ],
   "source": [
    "print(\"Среднее:\", int(data['days_exposition'].mean()))\n",
    "print(\"Медиана:\", int(data['days_exposition'].median()))"
   ]
  },
  {
   "cell_type": "markdown",
   "metadata": {},
   "source": [
    "Среднее почти в два раза больше медианы"
   ]
  },
  {
   "cell_type": "markdown",
   "metadata": {},
   "source": [
    "Посмотрим  на гистограмму с количеством дней публикации до года"
   ]
  },
  {
   "cell_type": "code",
   "execution_count": 133,
   "metadata": {},
   "outputs": [
    {
     "data": {
      "text/plain": [
       "<AxesSubplot:>"
      ]
     },
     "execution_count": 133,
     "metadata": {},
     "output_type": "execute_result"
    },
    {
     "data": {
      "image/png": "[encoded data removed]",
      "text/plain": [
       "<Figure size 432x288 with 1 Axes>"
      ]
     },
     "metadata": {
      "needs_background": "light"
     },
     "output_type": "display_data"
    }
   ],
   "source": [
    "data['days_exposition'].hist(range=(0, 365), bins=12)"
   ]
  },
  {
   "cell_type": "markdown",
   "metadata": {},
   "source": [
    "Чаще всего продаются квартиры в течении первых двух месяцев. Чем дольше размещены объявления, тем реже продаются квартиры.\n",
    "\n",
    "Быстрые продажи - это продажи в течении месяца, необычно долгие - это аномалии, которые публикуются более 500 дней"
   ]
  },
  {
   "cell_type": "code",
   "execution_count": 134,
   "metadata": {},
   "outputs": [
    {
     "data": {
      "text/plain": [
       "<AxesSubplot:>"
      ]
     },
     "execution_count": 134,
     "metadata": {},
     "output_type": "execute_result"
    },
    {
     "data": {
      "image/png": "[encoded data removed]",
      "text/plain": [
       "<Figure size 864x504 with 1 Axes>"
      ]
     },
     "metadata": {
      "needs_background": "light"
     },
     "output_type": "display_data"
    }
   ],
   "source": [
    "# Код ревьюера\n",
    "data['days_exposition'].hist(bins=50, range=(0,100), figsize=(12, 7))"
   ]
  },
  {
   "cell_type": "markdown",
   "metadata": {},
   "source": [
    "<div class=\"alert alert-danger\">\n",
    "\n",
    "**❌ Комментарий ревьюера ❌**\n",
    "   \n",
    "   На гистограмме заметны пики примерно через 45, 60 и 90 дней после начала продажи. Можно посмотреть на условия размещения объявлений в Яндекс.Недвижимости - https://yandex.ru/support/realty/owner/home/add-ads-housing.html С учетом того, что после формирования датасета правила размещения поменялись, эти пики являются следами автоматического снятия объявлений - поэтому оценивать скорость продажи стоит по диаграмме размаха, взяв за быстрые продажи до 1 квартиля, за долгие после третьего\n",
    "\n",
    "\n",
    "\n",
    "\n",
    "</div>\n"
   ]
  },
  {
   "cell_type": "code",
   "execution_count": 135,
   "metadata": {},
   "outputs": [
    {
     "data": {
      "text/plain": [
       "<AxesSubplot:xlabel='days_exposition'>"
      ]
     },
     "execution_count": 135,
     "metadata": {},
     "output_type": "execute_result"
    },
    {
     "data": {
      "image/png": "[encoded data removed]",
      "text/plain": [
       "<Figure size 432x288 with 1 Axes>"
      ]
     },
     "metadata": {
      "needs_background": "light"
     },
     "output_type": "display_data"
    }
   ],
   "source": [
    "# Добавлено по замечанию ревьювера\n",
    "sns.boxplot(x=data['days_exposition'])"
   ]
  },
  {
   "cell_type": "code",
   "execution_count": 136,
   "metadata": {},
   "outputs": [
    {
     "data": {
      "text/plain": [
       "count    18817.000000\n",
       "mean       173.518361\n",
       "std        211.699556\n",
       "min          1.000000\n",
       "25%         44.000000\n",
       "50%         92.000000\n",
       "75%        220.000000\n",
       "max       1580.000000\n",
       "Name: days_exposition, dtype: float64"
      ]
     },
     "execution_count": 136,
     "metadata": {},
     "output_type": "execute_result"
    }
   ],
   "source": [
    "# Добавлено по замечанию ревьювера\n",
    "data['days_exposition'].describe()"
   ]
  },
  {
   "cell_type": "markdown",
   "metadata": {},
   "source": [
    "<div class=\"alert alert-block alert-info\">\n",
    "    \n",
    "Быстрые продажи - в течении 44 дней после публикации объявления\n",
    "    \n",
    "Медленные продажи - после 220 дней\n",
    "<div class=\"alert alert-success\">\n",
    "\n",
    "**✔️ Комментарий ревьюера v2✔️**\n",
    "   \n",
    "   Теперь выводы верны👍\n",
    "\n",
    "</div>\n",
    "    \n",
    "</div>"
   ]
  },
  {
   "cell_type": "markdown",
   "metadata": {},
   "source": [
    "#### Определим факторы, которые больше всего влияют на общую стоимость объекта"
   ]
  },
  {
   "cell_type": "markdown",
   "metadata": {},
   "source": [
    "Для определения этой зависимости посмотрим на корреляцию"
   ]
  },
  {
   "cell_type": "code",
   "execution_count": 137,
   "metadata": {},
   "outputs": [
    {
     "data": {
      "text/plain": [
       "last_price      1.000000\n",
       "total_area      0.713848\n",
       "living_area     0.600498\n",
       "rooms           0.452628\n",
       "kitchen_area    0.408414\n",
       "Name: last_price, dtype: float64"
      ]
     },
     "execution_count": 137,
     "metadata": {},
     "output_type": "execute_result"
    }
   ],
   "source": [
    "# Исправлено по замечанию ревьювера\n",
    "# Вычислим корреляцию и отсортируем по убыванию\n",
    "data[['last_price', 'total_area', 'living_area', 'kitchen_area', 'rooms']].corr()['last_price'].sort_values(ascending=False)"
   ]
  },
  {
   "cell_type": "markdown",
   "metadata": {},
   "source": [
    "<div class=\"alert alert-danger\">\n",
    "\n",
    "**❌ Комментарий ревьюера ❌**\n",
    "   \n",
    "Также обрати внимание, что по умолчанию у нас в методе corr корреляция Пирсона - коэффициент корреляции Пирсона измеряет взаимосвязь  количественных переменных и предполагает, что обе переменные имеют нормальное распределение. Зависимость стоимости от типа этажа, дня недели, месяца и года не могут быть охарактеризована с помощью корреляции Пирсона, зависимость будет нелинейной. Вот еще материал на тему: https://www.dmitrymakarov.ru/opt/relationship-03/#3-korrelyatsiya\n",
    "Поэтому расчет коэффициентов корреляции Пирсона у типа этажа, дня недели, месяца и года стоит убрать (как и у признаков, которые не требуются в задании), а визуализировать зависимость стоимости от перечисленных параметров стоит с помощь графика bar по средним или медианам. Для остальных же признаков (площади и комнаты), рекомендую воспользоваться методом `pairplot` из библиотеки `seaborn` - показывает корреляционные зависимости величин.\n",
    "    Официальная документация: https://seaborn.pydata.org/generated/seaborn.pairplot.html  \n",
    "\n",
    "\n",
    "</div>\n"
   ]
  },
  {
   "cell_type": "markdown",
   "metadata": {},
   "source": [
    "<div class=\"alert alert-block alert-info\">\n",
    "    \n",
    "По твоим замечаниям ниже добавил графики и откорректировал выводы\n",
    "    \n",
    "</div>"
   ]
  },
  {
   "cell_type": "code",
   "execution_count": 138,
   "metadata": {},
   "outputs": [
    {
     "data": {
      "text/plain": [
       "<seaborn.axisgrid.PairGrid at 0x7ff3f05ce310>"
      ]
     },
     "execution_count": 138,
     "metadata": {},
     "output_type": "execute_result"
    },
    {
     "data": {
      "image/png": "[encoded data removed]",
      "text/plain": [
       "<Figure size 1440x360 with 4 Axes>"
      ]
     },
     "metadata": {
      "needs_background": "light"
     },
     "output_type": "display_data"
    }
   ],
   "source": [
    "# Добавлено по замечанию ревьювера\n",
    "sns.pairplot(\n",
    "    data=data, \n",
    "    y_vars='last_price', \n",
    "    x_vars=['total_area', 'living_area', 'kitchen_area', 'rooms'],\n",
    "    height=5,\n",
    "    kind='hist'\n",
    ")"
   ]
  },
  {
   "cell_type": "code",
   "execution_count": 139,
   "metadata": {},
   "outputs": [
    {
     "data": {
      "text/plain": [
       "<AxesSubplot:title={'center':'Средняя стоимость квартиры по типам этажей'}, xlabel='Тип этажа', ylabel='Стоимость квартиры'>"
      ]
     },
     "execution_count": 139,
     "metadata": {},
     "output_type": "execute_result"
    },
    {
     "data": {
      "image/png": "[encoded data removed]",
      "text/plain": [
       "<Figure size 432x288 with 1 Axes>"
      ]
     },
     "metadata": {
      "needs_background": "light"
     },
     "output_type": "display_data"
    }
   ],
   "source": [
    "# Добавлено по замечанию ревьювера\n",
    "data.pivot_table(\n",
    "    index='type_floor', \n",
    "    values='last_price',\n",
    "    aggfunc='mean').plot.bar(\n",
    "                            xlabel='Тип этажа', \n",
    "                            ylabel='Стоимость квартиры', \n",
    "                            title='Средняя стоимость квартиры по типам этажей')"
   ]
  },
  {
   "cell_type": "code",
   "execution_count": 140,
   "metadata": {},
   "outputs": [
    {
     "data": {
      "text/plain": [
       "<AxesSubplot:title={'center':'Средняя стоимость квартиры по дням недели'}, xlabel='День недели', ylabel='Стоимость квартиры'>"
      ]
     },
     "execution_count": 140,
     "metadata": {},
     "output_type": "execute_result"
    },
    {
     "data": {
      "image/png": "[encoded data removed]",
      "text/plain": [
       "<Figure size 432x288 with 1 Axes>"
      ]
     },
     "metadata": {
      "needs_background": "light"
     },
     "output_type": "display_data"
    }
   ],
   "source": [
    "# Добавлено по замечанию ревьювера\n",
    "data.pivot_table(\n",
    "    index='week', \n",
    "    values='last_price',\n",
    "    aggfunc='mean').plot.bar(\n",
    "                            xlabel='День недели', \n",
    "                            ylabel='Стоимость квартиры', \n",
    "                            title='Средняя стоимость квартиры по дням недели',\n",
    "                            grid=True)    "
   ]
  },
  {
   "cell_type": "code",
   "execution_count": 141,
   "metadata": {},
   "outputs": [
    {
     "data": {
      "text/plain": [
       "<AxesSubplot:title={'center':'Средняя стоимость квартиры по месяцам'}, xlabel='Номер месяца', ylabel='Стоимость квартиры'>"
      ]
     },
     "execution_count": 141,
     "metadata": {},
     "output_type": "execute_result"
    },
    {
     "data": {
      "image/png": "[encoded data removed]",
      "text/plain": [
       "<Figure size 432x288 with 1 Axes>"
      ]
     },
     "metadata": {
      "needs_background": "light"
     },
     "output_type": "display_data"
    }
   ],
   "source": [
    "# Добавлено по замечанию ревьювера\n",
    "data.pivot_table(\n",
    "    index='month', \n",
    "    values='last_price',\n",
    "    aggfunc='mean').plot.bar(\n",
    "                            xlabel='Номер месяца', \n",
    "                            ylabel='Стоимость квартиры', \n",
    "                            title='Средняя стоимость квартиры по месяцам',\n",
    "                            grid=True)"
   ]
  },
  {
   "cell_type": "code",
   "execution_count": 142,
   "metadata": {},
   "outputs": [
    {
     "data": {
      "text/plain": [
       "<AxesSubplot:title={'center':'Средняя стоимость квартиры по годам'}, xlabel='Год', ylabel='Стоимость квартиры'>"
      ]
     },
     "execution_count": 142,
     "metadata": {},
     "output_type": "execute_result"
    },
    {
     "data": {
      "image/png": "[encoded data removed]",
      "text/plain": [
       "<Figure size 432x288 with 1 Axes>"
      ]
     },
     "metadata": {
      "needs_background": "light"
     },
     "output_type": "display_data"
    }
   ],
   "source": [
    "# Добавлено по замечанию ревьювера\n",
    "data.pivot_table(\n",
    "    index='year', \n",
    "    values='last_price',\n",
    "    aggfunc='mean').plot.bar(\n",
    "                            xlabel='Год', \n",
    "                            ylabel='Стоимость квартиры', \n",
    "                            title='Средняя стоимость квартиры по годам',\n",
    "                            grid=True)"
   ]
  },
  {
   "cell_type": "code",
   "execution_count": 143,
   "metadata": {},
   "outputs": [
    {
     "data": {
      "text/html": [
       "<div>\n",
       "<style scoped>\n",
       "    .dataframe tbody tr th:only-of-type {\n",
       "        vertical-align: middle;\n",
       "    }\n",
       "\n",
       "    .dataframe tbody tr th {\n",
       "        vertical-align: top;\n",
       "    }\n",
       "\n",
       "    .dataframe thead th {\n",
       "        text-align: right;\n",
       "    }\n",
       "</style>\n",
       "<table border=\"1\" class=\"dataframe\">\n",
       "  <thead>\n",
       "    <tr style=\"text-align: right;\">\n",
       "      <th></th>\n",
       "      <th>total_area</th>\n",
       "      <th>living_area</th>\n",
       "      <th>kitchen_area</th>\n",
       "      <th>rooms</th>\n",
       "    </tr>\n",
       "  </thead>\n",
       "  <tbody>\n",
       "    <tr>\n",
       "      <th>total_area</th>\n",
       "      <td>1.000000</td>\n",
       "      <td>0.919929</td>\n",
       "      <td>0.370109</td>\n",
       "      <td>0.804033</td>\n",
       "    </tr>\n",
       "    <tr>\n",
       "      <th>living_area</th>\n",
       "      <td>0.919929</td>\n",
       "      <td>1.000000</td>\n",
       "      <td>0.158011</td>\n",
       "      <td>0.884818</td>\n",
       "    </tr>\n",
       "    <tr>\n",
       "      <th>kitchen_area</th>\n",
       "      <td>0.370109</td>\n",
       "      <td>0.158011</td>\n",
       "      <td>1.000000</td>\n",
       "      <td>0.083923</td>\n",
       "    </tr>\n",
       "    <tr>\n",
       "      <th>rooms</th>\n",
       "      <td>0.804033</td>\n",
       "      <td>0.884818</td>\n",
       "      <td>0.083923</td>\n",
       "      <td>1.000000</td>\n",
       "    </tr>\n",
       "  </tbody>\n",
       "</table>\n",
       "</div>"
      ],
      "text/plain": [
       "              total_area  living_area  kitchen_area     rooms\n",
       "total_area      1.000000     0.919929      0.370109  0.804033\n",
       "living_area     0.919929     1.000000      0.158011  0.884818\n",
       "kitchen_area    0.370109     0.158011      1.000000  0.083923\n",
       "rooms           0.804033     0.884818      0.083923  1.000000"
      ]
     },
     "execution_count": 143,
     "metadata": {},
     "output_type": "execute_result"
    }
   ],
   "source": [
    "data[['total_area', 'living_area', 'kitchen_area', 'rooms']].corr()"
   ]
  },
  {
   "cell_type": "markdown",
   "metadata": {},
   "source": [
    "Посмотрим на зависимость стоимости квартиры от этажа (первый, последний, другой)"
   ]
  },
  {
   "cell_type": "code",
   "execution_count": 144,
   "metadata": {},
   "outputs": [
    {
     "data": {
      "text/plain": [
       "<AxesSubplot:xlabel='last_price', ylabel='type_floor'>"
      ]
     },
     "execution_count": 144,
     "metadata": {},
     "output_type": "execute_result"
    },
    {
     "data": {
      "image/png": "[encoded data removed]",
      "text/plain": [
       "<Figure size 432x288 with 1 Axes>"
      ]
     },
     "metadata": {
      "needs_background": "light"
     },
     "output_type": "display_data"
    }
   ],
   "source": [
    "sns.boxplot(data=data, y='type_floor', x='last_price')"
   ]
  },
  {
   "cell_type": "markdown",
   "metadata": {},
   "source": [
    "Средняя стоимость квартиры на других этажах выше, чем на первых и последних этажах"
   ]
  },
  {
   "cell_type": "markdown",
   "metadata": {},
   "source": [
    "На стоимость квартиры больше всего влияет общая прощадь. \n",
    "\n",
    "Жилая площать, площадь кухни и количество комнат тоже влияют на стоимость квартиры, но меньше чем общая площадь и, кроме того, они сильно коррелируют с общей площадью, т.к. общая площадь зависит от жилой площади и площади кухни, а жилая площадь зависит от количества комнат.\n",
    "\n",
    "Т.о. зависимость стоимости квартиры от общей площади, жилой площади, площади кухни и количества комнат, можно объединить зависимостью от общей площади.\n",
    "\n",
    "Далее не стоимость квартиры влияют высота потолков и расстояние до центра города"
   ]
  },
  {
   "cell_type": "markdown",
   "metadata": {},
   "source": [
    "<div class=\"alert alert-block alert-info\">\n",
    "\n",
    "Самая высокая средняя цена за квартиру была в 2014 году (чуть больше 6 млн. рублей). Далее до 2016 года средняя цена снижалась и стала менее 5 млн. рублей и продержалась до 2018 года.\n",
    "\n",
    "Стоимость квартиры мало зависит от месяца и дня недели размещения объявления\n",
    "    \n",
    "</div>"
   ]
  },
  {
   "cell_type": "markdown",
   "metadata": {},
   "source": [
    "<div class=\"alert alert-success\">\n",
    "\n",
    "**✔️ Комментарий ревьюера v2✔️**\n",
    "\n",
    "   Хорошие результаты. Отмечу, что скорее всего, низкую цену на квартиры на первом и последнем этажах можно аргументировать плохими условиями - шум от улиц и моторов лифта, охлаждаемость помещения зимой.\n",
    "\n",
    "</div>"
   ]
  },
  {
   "cell_type": "markdown",
   "metadata": {},
   "source": [
    "#### Посчитаем среднюю цену одного квадратного метра в 10 населённых пунктах с наибольшим числом объявлений"
   ]
  },
  {
   "cell_type": "code",
   "execution_count": 145,
   "metadata": {},
   "outputs": [],
   "source": [
    "# Возьмем ТОП-10 населенных пунктов с наибольшым числом объявлений\n",
    "top_10 = (data.\n",
    "                pivot_table(\n",
    "                    index='locality_name', \n",
    "                    values='price_one_square', \n",
    "                    aggfunc=['mean', 'count']).\n",
    "                sort_values(by=('count', 'price_one_square'), ascending=False)\n",
    "            ).head(10)"
   ]
  },
  {
   "cell_type": "code",
   "execution_count": 146,
   "metadata": {},
   "outputs": [],
   "source": [
    "# Заменим название столбцов на mean и count\n",
    "top_10.columns = ['mean', 'count']"
   ]
  },
  {
   "cell_type": "code",
   "execution_count": 147,
   "metadata": {},
   "outputs": [
    {
     "data": {
      "text/html": [
       "<div>\n",
       "<style scoped>\n",
       "    .dataframe tbody tr th:only-of-type {\n",
       "        vertical-align: middle;\n",
       "    }\n",
       "\n",
       "    .dataframe tbody tr th {\n",
       "        vertical-align: top;\n",
       "    }\n",
       "\n",
       "    .dataframe thead th {\n",
       "        text-align: right;\n",
       "    }\n",
       "</style>\n",
       "<table border=\"1\" class=\"dataframe\">\n",
       "  <thead>\n",
       "    <tr style=\"text-align: right;\">\n",
       "      <th></th>\n",
       "      <th>mean</th>\n",
       "      <th>count</th>\n",
       "    </tr>\n",
       "    <tr>\n",
       "      <th>locality_name</th>\n",
       "      <th></th>\n",
       "      <th></th>\n",
       "    </tr>\n",
       "  </thead>\n",
       "  <tbody>\n",
       "    <tr>\n",
       "      <th>Выборг</th>\n",
       "      <td>57943.912358</td>\n",
       "      <td>229</td>\n",
       "    </tr>\n",
       "    <tr>\n",
       "      <th>Всеволожск</th>\n",
       "      <td>67051.276573</td>\n",
       "      <td>391</td>\n",
       "    </tr>\n",
       "    <tr>\n",
       "      <th>Гатчина</th>\n",
       "      <td>68355.546788</td>\n",
       "      <td>302</td>\n",
       "    </tr>\n",
       "    <tr>\n",
       "      <th>Колпино</th>\n",
       "      <td>75433.427254</td>\n",
       "      <td>335</td>\n",
       "    </tr>\n",
       "    <tr>\n",
       "      <th>поселок Шушары</th>\n",
       "      <td>78616.717569</td>\n",
       "      <td>436</td>\n",
       "    </tr>\n",
       "    <tr>\n",
       "      <th>поселок Мурино</th>\n",
       "      <td>85625.072745</td>\n",
       "      <td>550</td>\n",
       "    </tr>\n",
       "    <tr>\n",
       "      <th>поселок Парголово</th>\n",
       "      <td>90332.262638</td>\n",
       "      <td>326</td>\n",
       "    </tr>\n",
       "    <tr>\n",
       "      <th>деревня Кудрово</th>\n",
       "      <td>92667.625405</td>\n",
       "      <td>296</td>\n",
       "    </tr>\n",
       "    <tr>\n",
       "      <th>Пушкин</th>\n",
       "      <td>100661.466342</td>\n",
       "      <td>339</td>\n",
       "    </tr>\n",
       "    <tr>\n",
       "      <th>Санкт-Петербург</th>\n",
       "      <td>106386.568928</td>\n",
       "      <td>13663</td>\n",
       "    </tr>\n",
       "  </tbody>\n",
       "</table>\n",
       "</div>"
      ],
      "text/plain": [
       "                            mean  count\n",
       "locality_name                          \n",
       "Выборг              57943.912358    229\n",
       "Всеволожск          67051.276573    391\n",
       "Гатчина             68355.546788    302\n",
       "Колпино             75433.427254    335\n",
       "поселок Шушары      78616.717569    436\n",
       "поселок Мурино      85625.072745    550\n",
       "поселок Парголово   90332.262638    326\n",
       "деревня Кудрово     92667.625405    296\n",
       "Пушкин             100661.466342    339\n",
       "Санкт-Петербург    106386.568928  13663"
      ]
     },
     "execution_count": 147,
     "metadata": {},
     "output_type": "execute_result"
    }
   ],
   "source": [
    "# Отсортируем по средней цене за квадратный метр\n",
    "top_10.sort_values(by='mean')"
   ]
  },
  {
   "cell_type": "markdown",
   "metadata": {},
   "source": [
    "Среди населенных пунктов из ТОП-10 по количеству объявлений самая низкая средняя цена за квадратный метр в Выборге, самая высокая в Питере"
   ]
  },
  {
   "cell_type": "markdown",
   "metadata": {},
   "source": [
    "<div class=\"alert alert-success\">\n",
    "\n",
    "**✔️ Комментарий ревьюера ✔️**\n",
    "   \n",
    "   Верно\n",
    "\n",
    "</div>\n"
   ]
  },
  {
   "cell_type": "markdown",
   "metadata": {},
   "source": [
    "#### Вычислим среднюю стоимость квартир в Питере на разном удалении от центра учитывая каждый километр расстояния"
   ]
  },
  {
   "cell_type": "code",
   "execution_count": 148,
   "metadata": {},
   "outputs": [],
   "source": [
    "# Выберем квартиры Питера\n",
    "city_spb = data[data['locality_name'] == 'Санкт-Петербург']"
   ]
  },
  {
   "cell_type": "code",
   "execution_count": 149,
   "metadata": {},
   "outputs": [
    {
     "data": {
      "text/plain": [
       "<AxesSubplot:xlabel='dist_to_center'>"
      ]
     },
     "execution_count": 149,
     "metadata": {},
     "output_type": "execute_result"
    },
    {
     "data": {
      "image/png": "[encoded data removed]",
      "text/plain": [
       "<Figure size 432x288 with 1 Axes>"
      ]
     },
     "metadata": {
      "needs_background": "light"
     },
     "output_type": "display_data"
    }
   ],
   "source": [
    "# Построим график изменения средней цены для каждого километра от центра \n",
    "city_spb.pivot_table(index='dist_to_center', values='last_price', aggfunc='mean').plot(grid=True)"
   ]
  },
  {
   "cell_type": "code",
   "execution_count": 150,
   "metadata": {},
   "outputs": [
    {
     "data": {
      "text/plain": [
       "<AxesSubplot:xlabel='dist_to_center'>"
      ]
     },
     "execution_count": 150,
     "metadata": {},
     "output_type": "execute_result"
    },
    {
     "data": {
      "image/png": "[encoded data removed]",
      "text/plain": [
       "<Figure size 432x288 with 1 Axes>"
      ]
     },
     "metadata": {
      "needs_background": "light"
     },
     "output_type": "display_data"
    }
   ],
   "source": [
    "# Построим график изменения средней цены за квадратный метр для каждого километра от центра \n",
    "city_spb.pivot_table(index='dist_to_center', values='price_one_square', aggfunc='mean').plot(grid=True)"
   ]
  },
  {
   "cell_type": "markdown",
   "metadata": {},
   "source": [
    "График показывает общий тренд на снижение стоимости квартиры и стоимости одного квадратного метра при увеличении расстояния от центра.\n",
    "\n",
    "Стоимость квартир на расстоянии 0 км от центра ниже чем стоимость квартир на расстоянии 1 км от центра (что выглядит подозрительно)"
   ]
  },
  {
   "cell_type": "code",
   "execution_count": 151,
   "metadata": {},
   "outputs": [
    {
     "data": {
      "text/plain": [
       "<AxesSubplot:xlabel='dist_to_center'>"
      ]
     },
     "execution_count": 151,
     "metadata": {},
     "output_type": "execute_result"
    },
    {
     "data": {
      "image/png": "[encoded data removed]",
      "text/plain": [
       "<Figure size 432x288 with 1 Axes>"
      ]
     },
     "metadata": {
      "needs_background": "light"
     },
     "output_type": "display_data"
    }
   ],
   "source": [
    "# Построим график количества объявлений для каждого километра от центра \n",
    "city_spb.pivot_table(index='dist_to_center', values='last_price', aggfunc='count').plot(grid=True)"
   ]
  },
  {
   "cell_type": "code",
   "execution_count": 152,
   "metadata": {},
   "outputs": [
    {
     "data": {
      "text/html": [
       "<div>\n",
       "<style scoped>\n",
       "    .dataframe tbody tr th:only-of-type {\n",
       "        vertical-align: middle;\n",
       "    }\n",
       "\n",
       "    .dataframe tbody tr th {\n",
       "        vertical-align: top;\n",
       "    }\n",
       "\n",
       "    .dataframe thead tr th {\n",
       "        text-align: left;\n",
       "    }\n",
       "\n",
       "    .dataframe thead tr:last-of-type th {\n",
       "        text-align: right;\n",
       "    }\n",
       "</style>\n",
       "<table border=\"1\" class=\"dataframe\">\n",
       "  <thead>\n",
       "    <tr>\n",
       "      <th></th>\n",
       "      <th>count</th>\n",
       "      <th>mean</th>\n",
       "    </tr>\n",
       "    <tr>\n",
       "      <th></th>\n",
       "      <th>last_price</th>\n",
       "      <th>last_price</th>\n",
       "    </tr>\n",
       "    <tr>\n",
       "      <th>dist_to_center</th>\n",
       "      <th></th>\n",
       "      <th></th>\n",
       "    </tr>\n",
       "  </thead>\n",
       "  <tbody>\n",
       "    <tr>\n",
       "      <th>0.0</th>\n",
       "      <td>8</td>\n",
       "      <td>7.622500e+06</td>\n",
       "    </tr>\n",
       "    <tr>\n",
       "      <th>1.0</th>\n",
       "      <td>111</td>\n",
       "      <td>8.708667e+06</td>\n",
       "    </tr>\n",
       "    <tr>\n",
       "      <th>2.0</th>\n",
       "      <td>173</td>\n",
       "      <td>8.066162e+06</td>\n",
       "    </tr>\n",
       "    <tr>\n",
       "      <th>3.0</th>\n",
       "      <td>242</td>\n",
       "      <td>7.416722e+06</td>\n",
       "    </tr>\n",
       "    <tr>\n",
       "      <th>4.0</th>\n",
       "      <td>476</td>\n",
       "      <td>7.853993e+06</td>\n",
       "    </tr>\n",
       "    <tr>\n",
       "      <th>5.0</th>\n",
       "      <td>621</td>\n",
       "      <td>7.906098e+06</td>\n",
       "    </tr>\n",
       "    <tr>\n",
       "      <th>6.0</th>\n",
       "      <td>430</td>\n",
       "      <td>7.418302e+06</td>\n",
       "    </tr>\n",
       "    <tr>\n",
       "      <th>7.0</th>\n",
       "      <td>292</td>\n",
       "      <td>6.781236e+06</td>\n",
       "    </tr>\n",
       "    <tr>\n",
       "      <th>8.0</th>\n",
       "      <td>479</td>\n",
       "      <td>6.785465e+06</td>\n",
       "    </tr>\n",
       "    <tr>\n",
       "      <th>9.0</th>\n",
       "      <td>532</td>\n",
       "      <td>5.668658e+06</td>\n",
       "    </tr>\n",
       "    <tr>\n",
       "      <th>10.0</th>\n",
       "      <td>665</td>\n",
       "      <td>5.563849e+06</td>\n",
       "    </tr>\n",
       "    <tr>\n",
       "      <th>11.0</th>\n",
       "      <td>1096</td>\n",
       "      <td>5.441262e+06</td>\n",
       "    </tr>\n",
       "    <tr>\n",
       "      <th>12.0</th>\n",
       "      <td>1524</td>\n",
       "      <td>5.336957e+06</td>\n",
       "    </tr>\n",
       "    <tr>\n",
       "      <th>13.0</th>\n",
       "      <td>1385</td>\n",
       "      <td>5.631217e+06</td>\n",
       "    </tr>\n",
       "    <tr>\n",
       "      <th>14.0</th>\n",
       "      <td>1242</td>\n",
       "      <td>5.358608e+06</td>\n",
       "    </tr>\n",
       "    <tr>\n",
       "      <th>15.0</th>\n",
       "      <td>1482</td>\n",
       "      <td>5.336717e+06</td>\n",
       "    </tr>\n",
       "    <tr>\n",
       "      <th>16.0</th>\n",
       "      <td>1236</td>\n",
       "      <td>5.132264e+06</td>\n",
       "    </tr>\n",
       "    <tr>\n",
       "      <th>17.0</th>\n",
       "      <td>844</td>\n",
       "      <td>4.923830e+06</td>\n",
       "    </tr>\n",
       "    <tr>\n",
       "      <th>18.0</th>\n",
       "      <td>255</td>\n",
       "      <td>4.749535e+06</td>\n",
       "    </tr>\n",
       "    <tr>\n",
       "      <th>19.0</th>\n",
       "      <td>153</td>\n",
       "      <td>4.871372e+06</td>\n",
       "    </tr>\n",
       "    <tr>\n",
       "      <th>20.0</th>\n",
       "      <td>19</td>\n",
       "      <td>4.611579e+06</td>\n",
       "    </tr>\n",
       "    <tr>\n",
       "      <th>21.0</th>\n",
       "      <td>114</td>\n",
       "      <td>5.398298e+06</td>\n",
       "    </tr>\n",
       "    <tr>\n",
       "      <th>22.0</th>\n",
       "      <td>196</td>\n",
       "      <td>5.162021e+06</td>\n",
       "    </tr>\n",
       "    <tr>\n",
       "      <th>23.0</th>\n",
       "      <td>83</td>\n",
       "      <td>4.689843e+06</td>\n",
       "    </tr>\n",
       "    <tr>\n",
       "      <th>24.0</th>\n",
       "      <td>5</td>\n",
       "      <td>3.869200e+06</td>\n",
       "    </tr>\n",
       "  </tbody>\n",
       "</table>\n",
       "</div>"
      ],
      "text/plain": [
       "                    count          mean\n",
       "               last_price    last_price\n",
       "dist_to_center                         \n",
       "0.0                     8  7.622500e+06\n",
       "1.0                   111  8.708667e+06\n",
       "2.0                   173  8.066162e+06\n",
       "3.0                   242  7.416722e+06\n",
       "4.0                   476  7.853993e+06\n",
       "5.0                   621  7.906098e+06\n",
       "6.0                   430  7.418302e+06\n",
       "7.0                   292  6.781236e+06\n",
       "8.0                   479  6.785465e+06\n",
       "9.0                   532  5.668658e+06\n",
       "10.0                  665  5.563849e+06\n",
       "11.0                 1096  5.441262e+06\n",
       "12.0                 1524  5.336957e+06\n",
       "13.0                 1385  5.631217e+06\n",
       "14.0                 1242  5.358608e+06\n",
       "15.0                 1482  5.336717e+06\n",
       "16.0                 1236  5.132264e+06\n",
       "17.0                  844  4.923830e+06\n",
       "18.0                  255  4.749535e+06\n",
       "19.0                  153  4.871372e+06\n",
       "20.0                   19  4.611579e+06\n",
       "21.0                  114  5.398298e+06\n",
       "22.0                  196  5.162021e+06\n",
       "23.0                   83  4.689843e+06\n",
       "24.0                    5  3.869200e+06"
      ]
     },
     "execution_count": 152,
     "metadata": {},
     "output_type": "execute_result"
    }
   ],
   "source": [
    "# Посмотрим в числовом виде\n",
    "city_spb.pivot_table(index='dist_to_center', values='last_price', aggfunc=['count', 'mean'])"
   ]
  },
  {
   "cell_type": "markdown",
   "metadata": {},
   "source": [
    "Количество квартир на расстоянии 0 км от центра очень мало (всего 8), этого мало чтобы сделать вывод, что квартиры на расстоянии 0 км от центра стоят дешевле, чем квартиры на расстоянии 1 км от центра.\n",
    "\n",
    "Небольшое количество квартир на расстоянии 20 км (всего 19 квартир), поэтому падение на графике на этой отметке ни о чем не говорит"
   ]
  },
  {
   "cell_type": "markdown",
   "metadata": {},
   "source": [
    "График показывает, что самые дешевые квартиры на расстоянии от 16 км и более от центра. Средняя цена таких квартир около 5 млн. рублей.\n",
    "\n",
    "Самые дорогие квартиры находятся близко к центру (до 2 км). Их средняя цена около 9 млн. рублей."
   ]
  },
  {
   "cell_type": "markdown",
   "metadata": {},
   "source": [
    "<div class=\"alert alert-success\">\n",
    "✔️ Комментарий ревьюера ✔️\n",
    "\n",
    "Верно. На графике после 7 км заметно, что цена меняется. Это возможный центр города.\n",
    "\n",
    "Если интересно, то самый дорогой по стоимости жилья район в Санкт-Петербурге риелторы назвали \"Золотой треугольник\". Дома \"Золотого треугольника\" находятся в пределах Невского проспекта, набережной реки Фонтанки и Дворцовой набережной.\n",
    "Для географической справки: https://zen.yandex.ru/media/id/5cb4ebcc0a51a300b5b1f60d/zolotoi-treugolnik-sanktpeterburga-chto-eto-i-gde-nahoditsia-5edf942db1204610073e88b2\n",
    "\n",
    "</div>"
   ]
  },
  {
   "cell_type": "markdown",
   "metadata": {
    "id": "h7VpzkIDAwb-"
   },
   "source": [
    "### Напишите общий вывод"
   ]
  },
  {
   "cell_type": "markdown",
   "metadata": {
    "id": "3H4lnp_KAwb-"
   },
   "source": [
    "Выполнили предобработку данных:\n",
    "- изучили пропущенные значения, в некоторых столбцах (высота потолков, площадь кухни) заменили пропущенные значения на медиану, пропущенные значения в столбцах (число балконов, число парков в радиусе 3 км, число водоёмов в радиусе 3 км) заменили на ноль, в некоторых столбцах (всего этажей в доме), удалили пропущенные значения, в некоторых столбцах (жилая площадь) восстановили пропущенные значения, столбец (апартаменты) удалили, т.к. там много пропущенных значений и в основном там одно значение - False, остальные пропуски оставили\n",
    "- рассмотрели типы данных, некоторые столбцы (floors_total, balcony, parks_around3000, ponds_around3000, days_exposition) с типом float преобразовали в int, в которых могут быть только целые числа. Тип столбца first_day_exposition (дата публикации) преобразовали в тип даты и время\n",
    "- выполнили поиск дубликатов. Явных дубликатов нет. Были выявлены и исправлены неявные дубликаты в названиях населенных пунктов.\n",
    "\n",
    "Добавили новые столбцы:\n",
    "- цена одного квадратного метра\n",
    "- день недели, месяц и год публикации объявления\n",
    "- тип этажа квартиры (значения — «первый», «последний», «другой»)\n",
    "- расстояние до центра города в километрах\n",
    "\n",
    "Провели исследовательский анализ данных\n",
    "- построили гистограммы и диаграммы размаха для столбцов\n",
    "- удалили «выбросы», которые находились за границей «усов» диаграммы размаха\n",
    "- по полученным гистограммах определили, что больше всего продаются однокомнатные квартиры с общей площадью около 50 кв. метров, жилой площадью около 30 кв. метров, площадью кухни около 10 кв. метров, на «других» этажах (не первый и не последний этажи), в пятиэтажных домах и стоимостью около 4 млн. рублей\n",
    "- провели анализ как быстро продавались квартиры. Чаще всего продаются квартиры в течении одного месяца, потом в течении 2 месяцев и т.д. Чем дольше размещены объявления, тем реже продаются квартиры. Быстрые продажи - это продажи в течении месяца, необычно долгие - это аномалии, которые публикуются более 500 дней\n",
    "- определили факторы, которые больше всего влияют на общую стоимость объекта. На стоимость квартиры больше всего влияет общая площадь. Далее на стоимость квартиры влияют высота потолков и расстояние до центра города. Средняя стоимость квартиры на других этажах выше, чем на первых и последних этажах. Меньше всего стоимость квартиры зависит от месяца, дня недели и года размещения объявления\n",
    "- посчитали среднюю цену одного квадратного метра в 10 населённых пунктах с наибольшим числом объявлений. Среди таких населенных пунктов самая низкая цена за квадратный метр в Выбоге, самая высокая в Питере\n",
    "- посчитали среднюю стоимость квартир в Питере на разном удалении от центра учитывая каждый километр расстояния. Общий тренд показывает на снижение стоимости квартиры и стоимости одного квадратного метра при увеличении расстояния от центра. Самые дорогие квартиры находятся близко к центру (до 2 км). Их средняя цена около 9 млн. рублей"
   ]
  },
  {
   "cell_type": "markdown",
   "metadata": {},
   "source": [
    "<div class=\"alert alert-success\">\n",
    "\n",
    "**✔️ Комментарий ревьюера ✔️**\n",
    "   \n",
    "   Андрей, проведен основательный и подробный анализ. Все наглядно - графики и гистограммы подтверждают обоснованные выводы. Учти мои замечания. Возможно, придется немного подправить выводы. Жду твой проект на повторное ревью. Успехов!\n",
    "\n",
    "</div>\n"
   ]
  },
  {
   "cell_type": "markdown",
   "metadata": {},
   "source": [
    "<div class=\"alert alert-block alert-info\">\n",
    "\n",
    "Михаил, спасибо за замечания и советы. По замечаниям внес исправления и небольшую корректировку в выводах.\n",
    "    \n",
    "</div>"
   ]
  },
  {
   "cell_type": "markdown",
   "metadata": {},
   "source": [
    "<div class=\"alert alert-success\">\n",
    "\n",
    "**✔️ Комментарий ревьюера v3✔️**\n",
    "   \n",
    "   Андрей, замечания устранены 👍. Уверен, мои советы пригодятся тебе в новых проектах. Успехов в обучении! 😉 \n",
    "\n",
    "</div>"
   ]
  },
  {
   "cell_type": "markdown",
   "metadata": {
    "id": "A90mc0BgAwb-"
   },
   "source": [
    "**Чек-лист готовности проекта**\n",
    "\n",
    "Поставьте 'x' в выполненных пунктах. Далее нажмите Shift+Enter."
   ]
  },
  {
   "cell_type": "markdown",
   "metadata": {
    "id": "ME3sTWm6Awb-"
   },
   "source": [
    "- [x]  Файл с данными открыт.\n",
    "- [x]  Файл с данными изучен: выведены первые строки, использован метод `info()`, построены гистограммы.\n",
    "- [x]  Найдены пропущенные значения.\n",
    "- [x]  Пропущенные значения заполнены там, где это возможно.\n",
    "- [x]  Объяснено, какие пропущенные значения обнаружены.\n",
    "- [x]  В каждом столбце установлен корректный тип данных.\n",
    "- [x]  Объяснено, в каких столбцах изменён тип данных и почему.\n",
    "- [x]  Устранены неявные дубликаты в названиях населённых пунктов.\n",
    "- [x]  Обработаны редкие и выбивающиеся значения (аномалии).\n",
    "- [x]  В таблицу добавлены новые параметры:\n",
    "       – цена одного квадратного метра;\n",
    "       – день публикации объявления (0 - понедельник, 1 - вторник и т. д.);\n",
    "       – месяц публикации объявления;\n",
    "       – год публикации объявления;\n",
    "       – тип этажа квартиры (значения — «первый», «последний», «другой»);\n",
    "       – расстояние до центра города в километрах.\n",
    "- [x]  Изучены и описаны параметры:\n",
    "        - общая площадь;\n",
    "        - жилая площадь;\n",
    "        - площадь кухни;\n",
    "        - цена объекта;\n",
    "        - количество комнат;\n",
    "        - высота потолков;\n",
    "        - тип этажа квартиры («первый», «последний», «другой»);\n",
    "        - общее количество этажей в доме;\n",
    "        - расстояние до центра города в метрах;\n",
    "        - расстояние до ближайшего парка.\n",
    "- [x]  Выполнено задание «Изучите, как быстро продавались квартиры (столбец `days_exposition`)»:\n",
    "    - построена гистограмма;\n",
    "    - рассчитаны среднее и медиана;\n",
    "    - описано, сколько обычно занимает продажа и указано, какие продажи можно считать быстрыми, а какие — необычно долгими.\n",
    "- [x]  Выполнено задание «Определите факторы, которые больше всего влияют на общую (полную) стоимость объекта». Построены графики, которые показывают зависимость цены от параметров:\n",
    "        - общая площадь;\n",
    "        - жилая площадь;\n",
    "        - площадь кухни;\n",
    "        - количество комнат;\n",
    "        - тип этажа, на котором расположена квартира (первый, последний, другой);\n",
    "        - дата размещения (день недели, месяц, год).\n",
    "- [x]  Выполнено задание «Посчитайте среднюю цену одного квадратного метра в 10 населённых пунктах с наибольшим числом объявлений»:\n",
    "    - выделены населённые пункты с самой высокой и низкой стоимостью квадратного метра.\n",
    "- [x]  Выполнено задание «Выделите квартиры в Санкт-Петербурге с помощью столбца `locality_name` и вычислите их среднюю стоимость на разном удалении от центра»:\n",
    "    -  учтён каждый километр расстояния, известны средние цены квартир в одном километре от центра, в двух и так далее;\n",
    "    -  описано, как стоимость объекта зависит от расстояния до центра города;\n",
    "    -  построен график изменения средней цены для каждого километра от центра Петербурга.\n",
    "- [x]  На каждом этапе сделаны промежуточные выводы.\n",
    "- [x]  В конце проекта сделан общий вывод."
   ]
  },
  {
   "cell_type": "code",
   "execution_count": null,
   "metadata": {},
   "outputs": [],
   "source": []
  }
 ],
 "metadata": {
  "ExecuteTimeLog": [
   {
    "duration": 345,
    "start_time": "2024-10-14T12:49:25.948Z"
   },
   {
    "duration": 144,
    "start_time": "2024-10-14T12:50:40.283Z"
   },
   {
    "duration": 29,
    "start_time": "2024-10-14T12:51:59.422Z"
   },
   {
    "duration": 5,
    "start_time": "2024-10-14T12:52:12.459Z"
   },
   {
    "duration": 5,
    "start_time": "2024-10-14T12:52:31.418Z"
   },
   {
    "duration": 60,
    "start_time": "2024-10-14T12:52:53.677Z"
   },
   {
    "duration": 77,
    "start_time": "2024-10-14T12:53:06.637Z"
   },
   {
    "duration": 6,
    "start_time": "2024-10-14T12:53:08.843Z"
   },
   {
    "duration": 89,
    "start_time": "2024-10-14T12:53:29.837Z"
   },
   {
    "duration": 25,
    "start_time": "2024-10-14T12:53:31.269Z"
   },
   {
    "duration": 97,
    "start_time": "2024-10-14T12:54:28.672Z"
   },
   {
    "duration": 64,
    "start_time": "2024-10-14T12:54:45.943Z"
   },
   {
    "duration": 18,
    "start_time": "2024-10-14T12:55:14.870Z"
   },
   {
    "duration": 12,
    "start_time": "2024-10-14T12:55:20.825Z"
   },
   {
    "duration": 11,
    "start_time": "2024-10-14T15:15:30.109Z"
   },
   {
    "duration": 435,
    "start_time": "2024-10-14T15:25:13.742Z"
   },
   {
    "duration": 322,
    "start_time": "2024-10-14T15:25:15.560Z"
   },
   {
    "duration": 15,
    "start_time": "2024-10-14T15:25:31.245Z"
   },
   {
    "duration": 2388,
    "start_time": "2024-10-14T15:39:24.168Z"
   },
   {
    "duration": 1997,
    "start_time": "2024-10-14T15:44:49.058Z"
   },
   {
    "duration": 2094,
    "start_time": "2024-10-14T15:45:05.298Z"
   },
   {
    "duration": 4,
    "start_time": "2024-10-14T15:47:14.969Z"
   },
   {
    "duration": 1897,
    "start_time": "2024-10-14T15:47:31.930Z"
   },
   {
    "duration": 2019,
    "start_time": "2024-10-14T15:48:04.913Z"
   },
   {
    "duration": 2010,
    "start_time": "2024-10-14T15:48:13.998Z"
   },
   {
    "duration": 3267,
    "start_time": "2024-10-14T15:49:02.065Z"
   },
   {
    "duration": 11049,
    "start_time": "2024-10-14T15:49:16.909Z"
   },
   {
    "duration": 2027,
    "start_time": "2024-10-14T15:49:42.303Z"
   },
   {
    "duration": 840,
    "start_time": "2024-10-15T03:59:37.825Z"
   },
   {
    "duration": 334,
    "start_time": "2024-10-15T03:59:39.673Z"
   },
   {
    "duration": 20,
    "start_time": "2024-10-15T03:59:43.557Z"
   },
   {
    "duration": 14,
    "start_time": "2024-10-15T04:12:51.200Z"
   },
   {
    "duration": 27,
    "start_time": "2024-10-15T04:13:25.294Z"
   },
   {
    "duration": 26,
    "start_time": "2024-10-15T04:13:30.815Z"
   },
   {
    "duration": 2,
    "start_time": "2024-10-15T04:14:43.037Z"
   },
   {
    "duration": 76,
    "start_time": "2024-10-15T06:31:40.551Z"
   },
   {
    "duration": 6,
    "start_time": "2024-10-15T06:31:46.349Z"
   },
   {
    "duration": 8,
    "start_time": "2024-10-15T06:32:00.396Z"
   },
   {
    "duration": 8,
    "start_time": "2024-10-15T06:32:06.272Z"
   },
   {
    "duration": 6,
    "start_time": "2024-10-15T06:32:36.187Z"
   },
   {
    "duration": 10,
    "start_time": "2024-10-15T06:33:06.828Z"
   },
   {
    "duration": 9,
    "start_time": "2024-10-15T06:34:06.694Z"
   },
   {
    "duration": 6,
    "start_time": "2024-10-15T06:34:34.548Z"
   },
   {
    "duration": 3,
    "start_time": "2024-10-15T06:34:52.145Z"
   },
   {
    "duration": 43,
    "start_time": "2024-10-15T06:34:56.091Z"
   },
   {
    "duration": 5,
    "start_time": "2024-10-15T06:36:29.947Z"
   },
   {
    "duration": 10,
    "start_time": "2024-10-15T06:40:52.364Z"
   },
   {
    "duration": 5,
    "start_time": "2024-10-15T06:47:11.983Z"
   },
   {
    "duration": 7,
    "start_time": "2024-10-15T06:48:24.055Z"
   },
   {
    "duration": 5,
    "start_time": "2024-10-15T06:48:39.958Z"
   },
   {
    "duration": 5,
    "start_time": "2024-10-15T06:49:29.667Z"
   },
   {
    "duration": 8,
    "start_time": "2024-10-15T06:50:44.818Z"
   },
   {
    "duration": 8,
    "start_time": "2024-10-15T06:51:18.940Z"
   },
   {
    "duration": 9,
    "start_time": "2024-10-15T06:58:40.810Z"
   },
   {
    "duration": 5,
    "start_time": "2024-10-15T06:58:53.315Z"
   },
   {
    "duration": 5,
    "start_time": "2024-10-15T07:00:55.979Z"
   },
   {
    "duration": 10,
    "start_time": "2024-10-15T07:01:24.685Z"
   },
   {
    "duration": 106,
    "start_time": "2024-10-15T07:05:59.991Z"
   },
   {
    "duration": 14,
    "start_time": "2024-10-15T07:06:01.916Z"
   },
   {
    "duration": 5,
    "start_time": "2024-10-15T07:06:11.570Z"
   },
   {
    "duration": 9,
    "start_time": "2024-10-15T07:06:12.654Z"
   },
   {
    "duration": 4,
    "start_time": "2024-10-15T07:06:15.294Z"
   },
   {
    "duration": 4,
    "start_time": "2024-10-15T07:06:16.046Z"
   },
   {
    "duration": 4,
    "start_time": "2024-10-15T07:06:20.754Z"
   },
   {
    "duration": 38,
    "start_time": "2024-10-15T07:06:57.734Z"
   },
   {
    "duration": 9,
    "start_time": "2024-10-15T07:09:19.569Z"
   },
   {
    "duration": 1291,
    "start_time": "2024-10-15T07:10:11.754Z"
   },
   {
    "duration": 1415,
    "start_time": "2024-10-15T07:12:30.441Z"
   },
   {
    "duration": 2103,
    "start_time": "2024-10-15T07:12:55.225Z"
   },
   {
    "duration": 98,
    "start_time": "2024-10-15T07:16:03.043Z"
   },
   {
    "duration": 15,
    "start_time": "2024-10-15T07:16:04.274Z"
   },
   {
    "duration": 5,
    "start_time": "2024-10-15T07:16:17.881Z"
   },
   {
    "duration": 9,
    "start_time": "2024-10-15T07:16:27.984Z"
   },
   {
    "duration": 1886,
    "start_time": "2024-10-15T07:17:13.626Z"
   },
   {
    "duration": 2172,
    "start_time": "2024-10-15T07:17:26.433Z"
   },
   {
    "duration": 10,
    "start_time": "2024-10-15T07:25:41.686Z"
   },
   {
    "duration": 5,
    "start_time": "2024-10-15T07:25:43.100Z"
   },
   {
    "duration": 5,
    "start_time": "2024-10-15T07:25:43.589Z"
   },
   {
    "duration": 1914,
    "start_time": "2024-10-15T07:26:03.424Z"
   },
   {
    "duration": 7,
    "start_time": "2024-10-15T07:28:36.365Z"
   },
   {
    "duration": 4,
    "start_time": "2024-10-15T07:28:37.056Z"
   },
   {
    "duration": 2173,
    "start_time": "2024-10-15T07:29:51.205Z"
   },
   {
    "duration": 100,
    "start_time": "2024-10-15T08:25:08.519Z"
   },
   {
    "duration": 16,
    "start_time": "2024-10-15T08:25:09.230Z"
   },
   {
    "duration": 2009,
    "start_time": "2024-10-15T08:25:10.310Z"
   },
   {
    "duration": 14,
    "start_time": "2024-10-15T08:25:16.998Z"
   },
   {
    "duration": 4,
    "start_time": "2024-10-15T08:25:24.864Z"
   },
   {
    "duration": 2262,
    "start_time": "2024-10-15T08:26:23.766Z"
   },
   {
    "duration": 11,
    "start_time": "2024-10-15T08:27:15.293Z"
   },
   {
    "duration": 6,
    "start_time": "2024-10-15T08:27:18.802Z"
   },
   {
    "duration": 5,
    "start_time": "2024-10-15T08:27:19.527Z"
   },
   {
    "duration": 4,
    "start_time": "2024-10-15T08:27:38.640Z"
   },
   {
    "duration": 2229,
    "start_time": "2024-10-15T08:27:50.761Z"
   },
   {
    "duration": 10,
    "start_time": "2024-10-15T08:28:03.869Z"
   },
   {
    "duration": 5,
    "start_time": "2024-10-15T08:28:04.446Z"
   },
   {
    "duration": 7,
    "start_time": "2024-10-15T08:28:10.042Z"
   },
   {
    "duration": 1909,
    "start_time": "2024-10-15T08:29:24.257Z"
   },
   {
    "duration": 12,
    "start_time": "2024-10-15T08:29:32.125Z"
   },
   {
    "duration": 231,
    "start_time": "2024-10-15T08:35:49.097Z"
   },
   {
    "duration": 198,
    "start_time": "2024-10-15T08:36:04.849Z"
   },
   {
    "duration": 184,
    "start_time": "2024-10-15T08:37:33.641Z"
   },
   {
    "duration": 180,
    "start_time": "2024-10-15T08:37:42.900Z"
   },
   {
    "duration": 187,
    "start_time": "2024-10-15T08:37:47.586Z"
   },
   {
    "duration": 184,
    "start_time": "2024-10-15T08:37:51.714Z"
   },
   {
    "duration": 191,
    "start_time": "2024-10-15T08:37:56.680Z"
   },
   {
    "duration": 180,
    "start_time": "2024-10-15T08:38:09.697Z"
   },
   {
    "duration": 175,
    "start_time": "2024-10-15T08:38:41.444Z"
   },
   {
    "duration": 192,
    "start_time": "2024-10-15T08:39:07.074Z"
   },
   {
    "duration": 15,
    "start_time": "2024-10-15T08:49:17.839Z"
   },
   {
    "duration": 2266,
    "start_time": "2024-10-15T08:49:35.311Z"
   },
   {
    "duration": 1621,
    "start_time": "2024-10-15T08:50:23.567Z"
   },
   {
    "duration": 14,
    "start_time": "2024-10-15T08:51:09.103Z"
   },
   {
    "duration": 14,
    "start_time": "2024-10-15T08:51:21.390Z"
   },
   {
    "duration": 17657,
    "start_time": "2024-10-15T09:00:31.929Z"
   },
   {
    "duration": 608,
    "start_time": "2024-10-15T09:02:18.011Z"
   },
   {
    "duration": 1188,
    "start_time": "2024-10-15T09:03:13.642Z"
   },
   {
    "duration": 51,
    "start_time": "2024-10-15T09:09:24.872Z"
   },
   {
    "duration": 674,
    "start_time": "2024-10-15T09:13:37.803Z"
   },
   {
    "duration": 107,
    "start_time": "2024-10-15T09:13:39.623Z"
   },
   {
    "duration": 18,
    "start_time": "2024-10-15T09:13:40.464Z"
   },
   {
    "duration": 2142,
    "start_time": "2024-10-15T09:13:42.366Z"
   },
   {
    "duration": 14,
    "start_time": "2024-10-15T09:13:48.872Z"
   },
   {
    "duration": 6,
    "start_time": "2024-10-15T09:13:51.707Z"
   },
   {
    "duration": 2188,
    "start_time": "2024-10-15T09:13:52.620Z"
   },
   {
    "duration": 10,
    "start_time": "2024-10-15T09:13:58.925Z"
   },
   {
    "duration": 7,
    "start_time": "2024-10-15T09:14:02.120Z"
   },
   {
    "duration": 5,
    "start_time": "2024-10-15T09:14:02.827Z"
   },
   {
    "duration": 5,
    "start_time": "2024-10-15T09:14:11.932Z"
   },
   {
    "duration": 2112,
    "start_time": "2024-10-15T09:14:14.607Z"
   },
   {
    "duration": 962,
    "start_time": "2024-10-15T09:15:43.261Z"
   },
   {
    "duration": 199,
    "start_time": "2024-10-15T09:16:03.068Z"
   },
   {
    "duration": 9,
    "start_time": "2024-10-15T09:22:36.845Z"
   },
   {
    "duration": 5,
    "start_time": "2024-10-15T09:22:38.132Z"
   },
   {
    "duration": 6,
    "start_time": "2024-10-15T09:22:45.103Z"
   },
   {
    "duration": 2183,
    "start_time": "2024-10-15T09:22:47.559Z"
   },
   {
    "duration": 201,
    "start_time": "2024-10-15T09:23:23.581Z"
   },
   {
    "duration": 18,
    "start_time": "2024-10-15T09:26:01.445Z"
   },
   {
    "duration": 5,
    "start_time": "2024-10-15T09:26:12.432Z"
   },
   {
    "duration": 65,
    "start_time": "2024-10-15T09:31:11.133Z"
   },
   {
    "duration": 6,
    "start_time": "2024-10-15T09:33:29.648Z"
   },
   {
    "duration": 5,
    "start_time": "2024-10-15T09:33:46.405Z"
   },
   {
    "duration": 51,
    "start_time": "2024-10-15T09:34:42.643Z"
   },
   {
    "duration": 5,
    "start_time": "2024-10-15T09:35:01.869Z"
   },
   {
    "duration": 6,
    "start_time": "2024-10-15T09:36:20.044Z"
   },
   {
    "duration": 13,
    "start_time": "2024-10-15T09:36:53.936Z"
   },
   {
    "duration": 8,
    "start_time": "2024-10-15T09:37:11.372Z"
   },
   {
    "duration": 1138,
    "start_time": "2024-10-15T09:39:59.379Z"
   },
   {
    "duration": 1831,
    "start_time": "2024-10-15T09:40:25.408Z"
   },
   {
    "duration": 2096,
    "start_time": "2024-10-15T09:40:45.632Z"
   },
   {
    "duration": 1283,
    "start_time": "2024-10-15T09:40:56.823Z"
   },
   {
    "duration": 2117,
    "start_time": "2024-10-15T09:41:08.188Z"
   },
   {
    "duration": 1613,
    "start_time": "2024-10-15T09:43:06.407Z"
   },
   {
    "duration": 1750,
    "start_time": "2024-10-15T09:44:53.383Z"
   },
   {
    "duration": 2111,
    "start_time": "2024-10-15T09:45:42.214Z"
   },
   {
    "duration": 185,
    "start_time": "2024-10-15T09:47:22.107Z"
   },
   {
    "duration": 128,
    "start_time": "2024-10-15T09:47:34.882Z"
   },
   {
    "duration": 126,
    "start_time": "2024-10-15T09:48:07.771Z"
   },
   {
    "duration": 121,
    "start_time": "2024-10-15T09:48:34.570Z"
   },
   {
    "duration": 128,
    "start_time": "2024-10-15T09:48:41.230Z"
   },
   {
    "duration": 7,
    "start_time": "2024-10-15T09:49:42.679Z"
   },
   {
    "duration": 11,
    "start_time": "2024-10-15T09:49:47.906Z"
   },
   {
    "duration": 9,
    "start_time": "2024-10-15T09:50:15.033Z"
   },
   {
    "duration": 2089,
    "start_time": "2024-10-15T09:53:59.258Z"
   },
   {
    "duration": 8,
    "start_time": "2024-10-15T09:55:14.449Z"
   },
   {
    "duration": 121,
    "start_time": "2024-10-15T09:55:49.422Z"
   },
   {
    "duration": 120,
    "start_time": "2024-10-15T09:56:10.081Z"
   },
   {
    "duration": 143,
    "start_time": "2024-10-15T09:56:41.565Z"
   },
   {
    "duration": 120,
    "start_time": "2024-10-15T09:57:13.030Z"
   },
   {
    "duration": 129,
    "start_time": "2024-10-15T10:02:58.527Z"
   },
   {
    "duration": 120,
    "start_time": "2024-10-15T10:03:12.626Z"
   },
   {
    "duration": 145,
    "start_time": "2024-10-15T10:03:27.151Z"
   },
   {
    "duration": 147,
    "start_time": "2024-10-15T10:03:58.159Z"
   },
   {
    "duration": 147,
    "start_time": "2024-10-15T10:04:10.442Z"
   },
   {
    "duration": 9,
    "start_time": "2024-10-15T10:06:07.153Z"
   },
   {
    "duration": 58,
    "start_time": "2024-10-15T10:06:50.296Z"
   },
   {
    "duration": 8,
    "start_time": "2024-10-15T10:06:54.677Z"
   },
   {
    "duration": 9,
    "start_time": "2024-10-15T10:07:10.905Z"
   },
   {
    "duration": 111,
    "start_time": "2024-10-15T10:09:09.864Z"
   },
   {
    "duration": 157,
    "start_time": "2024-10-15T10:11:15.645Z"
   },
   {
    "duration": 149,
    "start_time": "2024-10-15T10:11:46.461Z"
   },
   {
    "duration": 98,
    "start_time": "2024-10-15T10:24:19.239Z"
   },
   {
    "duration": 7,
    "start_time": "2024-10-15T10:24:34.430Z"
   },
   {
    "duration": 14,
    "start_time": "2024-10-15T10:24:35.854Z"
   },
   {
    "duration": 1920,
    "start_time": "2024-10-15T10:24:40.766Z"
   },
   {
    "duration": 762,
    "start_time": "2024-10-15T10:25:39.451Z"
   },
   {
    "duration": 711,
    "start_time": "2024-10-15T10:25:52.148Z"
   },
   {
    "duration": 7,
    "start_time": "2024-10-15T10:26:01.644Z"
   },
   {
    "duration": 8,
    "start_time": "2024-10-15T10:26:43.004Z"
   },
   {
    "duration": 8,
    "start_time": "2024-10-15T10:26:53.628Z"
   },
   {
    "duration": 658,
    "start_time": "2024-10-15T10:27:24.188Z"
   },
   {
    "duration": 114,
    "start_time": "2024-10-15T10:27:26.405Z"
   },
   {
    "duration": 18,
    "start_time": "2024-10-15T10:27:27.211Z"
   },
   {
    "duration": 2148,
    "start_time": "2024-10-15T10:27:28.645Z"
   },
   {
    "duration": 24,
    "start_time": "2024-10-15T10:27:33.068Z"
   },
   {
    "duration": 6,
    "start_time": "2024-10-15T10:27:34.204Z"
   },
   {
    "duration": 2241,
    "start_time": "2024-10-15T10:27:35.357Z"
   },
   {
    "duration": 10,
    "start_time": "2024-10-15T10:27:39.580Z"
   },
   {
    "duration": 6,
    "start_time": "2024-10-15T10:27:41.913Z"
   },
   {
    "duration": 4,
    "start_time": "2024-10-15T10:27:43.192Z"
   },
   {
    "duration": 5,
    "start_time": "2024-10-15T10:27:44.124Z"
   },
   {
    "duration": 2148,
    "start_time": "2024-10-15T10:27:45.785Z"
   },
   {
    "duration": 8,
    "start_time": "2024-10-15T10:27:51.600Z"
   },
   {
    "duration": 7,
    "start_time": "2024-10-15T10:27:52.169Z"
   },
   {
    "duration": 5,
    "start_time": "2024-10-15T10:27:53.396Z"
   },
   {
    "duration": 1990,
    "start_time": "2024-10-15T10:27:55.616Z"
   },
   {
    "duration": 55,
    "start_time": "2024-10-15T10:28:05.695Z"
   },
   {
    "duration": 195,
    "start_time": "2024-10-15T10:28:13.146Z"
   },
   {
    "duration": 9,
    "start_time": "2024-10-15T10:28:19.549Z"
   },
   {
    "duration": 5,
    "start_time": "2024-10-15T10:28:23.739Z"
   },
   {
    "duration": 6,
    "start_time": "2024-10-15T10:28:25.388Z"
   },
   {
    "duration": 8,
    "start_time": "2024-10-15T10:28:25.992Z"
   },
   {
    "duration": 2014,
    "start_time": "2024-10-15T10:28:37.195Z"
   },
   {
    "duration": 5,
    "start_time": "2024-10-15T10:30:03.009Z"
   },
   {
    "duration": 4,
    "start_time": "2024-10-15T10:30:16.613Z"
   },
   {
    "duration": 4,
    "start_time": "2024-10-15T10:30:41.718Z"
   },
   {
    "duration": 1830,
    "start_time": "2024-10-15T10:44:58.532Z"
   },
   {
    "duration": 9,
    "start_time": "2024-10-15T11:01:14.403Z"
   },
   {
    "duration": 652,
    "start_time": "2024-10-15T11:04:26.040Z"
   },
   {
    "duration": 111,
    "start_time": "2024-10-15T11:04:27.770Z"
   },
   {
    "duration": 16,
    "start_time": "2024-10-15T11:04:29.007Z"
   },
   {
    "duration": 2144,
    "start_time": "2024-10-15T11:04:31.733Z"
   },
   {
    "duration": 14,
    "start_time": "2024-10-15T11:04:41.798Z"
   },
   {
    "duration": 6,
    "start_time": "2024-10-15T11:04:47.594Z"
   },
   {
    "duration": 10,
    "start_time": "2024-10-15T11:04:54.263Z"
   },
   {
    "duration": 5,
    "start_time": "2024-10-15T11:04:57.606Z"
   },
   {
    "duration": 4,
    "start_time": "2024-10-15T11:04:58.246Z"
   },
   {
    "duration": 5,
    "start_time": "2024-10-15T11:05:05.378Z"
   },
   {
    "duration": 10,
    "start_time": "2024-10-15T11:05:40.035Z"
   },
   {
    "duration": 5,
    "start_time": "2024-10-15T11:05:40.735Z"
   },
   {
    "duration": 5,
    "start_time": "2024-10-15T11:05:43.843Z"
   },
   {
    "duration": 206,
    "start_time": "2024-10-15T11:06:21.833Z"
   },
   {
    "duration": 5,
    "start_time": "2024-10-15T11:06:27.307Z"
   },
   {
    "duration": 8,
    "start_time": "2024-10-15T11:06:36.887Z"
   },
   {
    "duration": 6,
    "start_time": "2024-10-15T11:06:45.938Z"
   },
   {
    "duration": 10,
    "start_time": "2024-10-15T11:06:48.125Z"
   },
   {
    "duration": 10,
    "start_time": "2024-10-15T11:07:18.053Z"
   },
   {
    "duration": 4,
    "start_time": "2024-10-15T11:07:18.576Z"
   },
   {
    "duration": 171,
    "start_time": "2024-10-15T11:09:24.202Z"
   },
   {
    "duration": 160,
    "start_time": "2024-10-15T11:09:38.842Z"
   },
   {
    "duration": 171,
    "start_time": "2024-10-15T11:09:47.633Z"
   },
   {
    "duration": 192,
    "start_time": "2024-10-15T11:11:22.811Z"
   },
   {
    "duration": 868,
    "start_time": "2024-10-15T11:11:41.816Z"
   },
   {
    "duration": 37,
    "start_time": "2024-10-15T11:12:54.270Z"
   },
   {
    "duration": 10,
    "start_time": "2024-10-15T11:13:36.557Z"
   },
   {
    "duration": 9,
    "start_time": "2024-10-15T11:14:21.577Z"
   },
   {
    "duration": 12,
    "start_time": "2024-10-15T11:14:46.956Z"
   },
   {
    "duration": 7,
    "start_time": "2024-10-15T11:16:58.902Z"
   },
   {
    "duration": 8,
    "start_time": "2024-10-15T11:18:53.865Z"
   },
   {
    "duration": 100,
    "start_time": "2024-10-15T11:25:02.805Z"
   },
   {
    "duration": 6,
    "start_time": "2024-10-15T11:25:16.518Z"
   },
   {
    "duration": 6,
    "start_time": "2024-10-15T11:25:27.342Z"
   },
   {
    "duration": 9,
    "start_time": "2024-10-15T11:31:38.136Z"
   },
   {
    "duration": 7,
    "start_time": "2024-10-15T11:32:32.748Z"
   },
   {
    "duration": 6,
    "start_time": "2024-10-15T11:32:42.356Z"
   },
   {
    "duration": 8,
    "start_time": "2024-10-15T11:33:11.649Z"
   },
   {
    "duration": 11,
    "start_time": "2024-10-15T11:34:00.724Z"
   },
   {
    "duration": 14,
    "start_time": "2024-10-15T11:35:17.356Z"
   },
   {
    "duration": 613,
    "start_time": "2024-10-15T11:40:42.511Z"
   },
   {
    "duration": 105,
    "start_time": "2024-10-15T11:40:44.126Z"
   },
   {
    "duration": 6,
    "start_time": "2024-10-15T11:40:58.204Z"
   },
   {
    "duration": 8,
    "start_time": "2024-10-15T11:41:00.966Z"
   },
   {
    "duration": 5,
    "start_time": "2024-10-15T11:41:02.015Z"
   },
   {
    "duration": 7,
    "start_time": "2024-10-15T11:41:13.272Z"
   },
   {
    "duration": 7,
    "start_time": "2024-10-15T11:41:20.634Z"
   },
   {
    "duration": 10,
    "start_time": "2024-10-15T11:41:57.324Z"
   },
   {
    "duration": 6,
    "start_time": "2024-10-15T11:44:49.195Z"
   },
   {
    "duration": 218,
    "start_time": "2024-10-15T11:46:38.512Z"
   },
   {
    "duration": 176,
    "start_time": "2024-10-15T11:47:13.120Z"
   },
   {
    "duration": 173,
    "start_time": "2024-10-15T11:47:56.999Z"
   },
   {
    "duration": 183,
    "start_time": "2024-10-15T11:48:04.447Z"
   },
   {
    "duration": 240,
    "start_time": "2024-10-15T11:48:49.919Z"
   },
   {
    "duration": 174,
    "start_time": "2024-10-15T11:49:05.015Z"
   },
   {
    "duration": 185,
    "start_time": "2024-10-15T11:49:34.962Z"
   },
   {
    "duration": 8,
    "start_time": "2024-10-15T11:50:13.733Z"
   },
   {
    "duration": 6,
    "start_time": "2024-10-15T11:50:33.075Z"
   },
   {
    "duration": 6,
    "start_time": "2024-10-15T11:50:43.503Z"
   },
   {
    "duration": 5,
    "start_time": "2024-10-15T11:51:05.500Z"
   },
   {
    "duration": 6,
    "start_time": "2024-10-15T11:51:35.625Z"
   },
   {
    "duration": 8,
    "start_time": "2024-10-15T11:53:00.694Z"
   },
   {
    "duration": 8,
    "start_time": "2024-10-15T11:53:01.670Z"
   },
   {
    "duration": 6,
    "start_time": "2024-10-15T11:53:02.742Z"
   },
   {
    "duration": 5,
    "start_time": "2024-10-15T11:53:03.518Z"
   },
   {
    "duration": 7,
    "start_time": "2024-10-15T11:54:19.562Z"
   },
   {
    "duration": 6,
    "start_time": "2024-10-15T11:54:26.531Z"
   },
   {
    "duration": 6,
    "start_time": "2024-10-15T11:56:18.866Z"
   },
   {
    "duration": 5,
    "start_time": "2024-10-15T11:58:01.147Z"
   },
   {
    "duration": 5,
    "start_time": "2024-10-15T12:00:32.491Z"
   },
   {
    "duration": 42,
    "start_time": "2024-10-15T12:01:45.262Z"
   },
   {
    "duration": 15,
    "start_time": "2024-10-15T12:02:16.174Z"
   },
   {
    "duration": 39,
    "start_time": "2024-10-15T12:02:24.847Z"
   },
   {
    "duration": 8,
    "start_time": "2024-10-15T12:03:24.255Z"
   },
   {
    "duration": 8,
    "start_time": "2024-10-15T12:03:45.275Z"
   },
   {
    "duration": 65,
    "start_time": "2024-10-15T12:10:04.145Z"
   },
   {
    "duration": 77,
    "start_time": "2024-10-15T12:10:14.145Z"
   },
   {
    "duration": 10,
    "start_time": "2024-10-15T12:10:33.753Z"
   },
   {
    "duration": 10,
    "start_time": "2024-10-15T12:11:36.235Z"
   },
   {
    "duration": 6,
    "start_time": "2024-10-15T12:13:21.926Z"
   },
   {
    "duration": 5,
    "start_time": "2024-10-15T12:13:36.045Z"
   },
   {
    "duration": 4,
    "start_time": "2024-10-15T12:15:32.706Z"
   },
   {
    "duration": 5,
    "start_time": "2024-10-15T12:15:54.028Z"
   },
   {
    "duration": 710,
    "start_time": "2024-10-15T12:55:52.551Z"
   },
   {
    "duration": 104,
    "start_time": "2024-10-15T12:55:54.324Z"
   },
   {
    "duration": 17,
    "start_time": "2024-10-15T12:55:56.736Z"
   },
   {
    "duration": 2025,
    "start_time": "2024-10-15T12:55:58.835Z"
   },
   {
    "duration": 14,
    "start_time": "2024-10-15T12:56:04.926Z"
   },
   {
    "duration": 5,
    "start_time": "2024-10-15T12:56:11.848Z"
   },
   {
    "duration": 9,
    "start_time": "2024-10-15T12:56:14.028Z"
   },
   {
    "duration": 5,
    "start_time": "2024-10-15T12:56:20.307Z"
   },
   {
    "duration": 4,
    "start_time": "2024-10-15T12:56:20.768Z"
   },
   {
    "duration": 5,
    "start_time": "2024-10-15T12:56:28.452Z"
   },
   {
    "duration": 10,
    "start_time": "2024-10-15T12:59:45.851Z"
   },
   {
    "duration": 5,
    "start_time": "2024-10-15T12:59:46.977Z"
   },
   {
    "duration": 5,
    "start_time": "2024-10-15T12:59:48.272Z"
   },
   {
    "duration": 188,
    "start_time": "2024-10-15T12:59:49.492Z"
   },
   {
    "duration": 5,
    "start_time": "2024-10-15T12:59:53.411Z"
   },
   {
    "duration": 7,
    "start_time": "2024-10-15T12:59:54.555Z"
   },
   {
    "duration": 6,
    "start_time": "2024-10-15T13:00:02.633Z"
   },
   {
    "duration": 7,
    "start_time": "2024-10-15T13:00:06.368Z"
   },
   {
    "duration": 6,
    "start_time": "2024-10-15T13:00:21.777Z"
   },
   {
    "duration": 4,
    "start_time": "2024-10-15T13:00:22.252Z"
   },
   {
    "duration": 5,
    "start_time": "2024-10-15T13:00:37.576Z"
   },
   {
    "duration": 7,
    "start_time": "2024-10-15T13:00:41.291Z"
   },
   {
    "duration": 6,
    "start_time": "2024-10-15T13:00:42.640Z"
   },
   {
    "duration": 8,
    "start_time": "2024-10-15T13:00:50.208Z"
   },
   {
    "duration": 6,
    "start_time": "2024-10-15T13:00:53.986Z"
   },
   {
    "duration": 3,
    "start_time": "2024-10-15T13:01:11.253Z"
   },
   {
    "duration": 4,
    "start_time": "2024-10-15T13:01:18.061Z"
   },
   {
    "duration": 3,
    "start_time": "2024-10-15T13:01:18.671Z"
   },
   {
    "duration": 4,
    "start_time": "2024-10-15T13:01:19.256Z"
   },
   {
    "duration": 5,
    "start_time": "2024-10-15T13:58:41.485Z"
   },
   {
    "duration": 10,
    "start_time": "2024-10-15T14:00:20.468Z"
   },
   {
    "duration": 6,
    "start_time": "2024-10-15T14:00:47.867Z"
   },
   {
    "duration": 9,
    "start_time": "2024-10-15T14:02:58.135Z"
   },
   {
    "duration": 7,
    "start_time": "2024-10-15T14:03:14.662Z"
   },
   {
    "duration": 4,
    "start_time": "2024-10-15T14:06:26.892Z"
   },
   {
    "duration": 4,
    "start_time": "2024-10-15T14:06:33.756Z"
   },
   {
    "duration": 4,
    "start_time": "2024-10-15T14:07:09.568Z"
   },
   {
    "duration": 11,
    "start_time": "2024-10-15T14:07:53.850Z"
   },
   {
    "duration": 6,
    "start_time": "2024-10-15T14:12:14.306Z"
   },
   {
    "duration": 9,
    "start_time": "2024-10-15T14:12:44.423Z"
   },
   {
    "duration": 5,
    "start_time": "2024-10-15T14:13:47.303Z"
   },
   {
    "duration": 10,
    "start_time": "2024-10-15T14:14:07.767Z"
   },
   {
    "duration": 3,
    "start_time": "2024-10-15T14:16:41.358Z"
   },
   {
    "duration": 4,
    "start_time": "2024-10-15T14:16:53.492Z"
   },
   {
    "duration": 5,
    "start_time": "2024-10-15T14:17:56.575Z"
   },
   {
    "duration": 9,
    "start_time": "2024-10-15T14:18:56.735Z"
   },
   {
    "duration": 5,
    "start_time": "2024-10-15T14:19:31.396Z"
   },
   {
    "duration": 5,
    "start_time": "2024-10-15T14:20:18.060Z"
   },
   {
    "duration": 9,
    "start_time": "2024-10-15T14:21:05.587Z"
   },
   {
    "duration": 4,
    "start_time": "2024-10-15T14:23:14.739Z"
   },
   {
    "duration": 5,
    "start_time": "2024-10-15T14:23:23.277Z"
   },
   {
    "duration": 5,
    "start_time": "2024-10-15T14:24:12.027Z"
   },
   {
    "duration": 10,
    "start_time": "2024-10-15T14:24:39.725Z"
   },
   {
    "duration": 712,
    "start_time": "2024-10-16T04:06:29.441Z"
   },
   {
    "duration": 3,
    "start_time": "2024-10-16T04:06:40.387Z"
   },
   {
    "duration": 175,
    "start_time": "2024-10-16T04:06:41.752Z"
   },
   {
    "duration": 14,
    "start_time": "2024-10-16T04:06:43.268Z"
   },
   {
    "duration": 1624,
    "start_time": "2024-10-16T04:06:53.310Z"
   },
   {
    "duration": 12,
    "start_time": "2024-10-16T04:06:59.510Z"
   },
   {
    "duration": 8,
    "start_time": "2024-10-16T04:07:40.642Z"
   },
   {
    "duration": 4,
    "start_time": "2024-10-16T04:09:11.490Z"
   },
   {
    "duration": 9,
    "start_time": "2024-10-16T04:09:12.834Z"
   },
   {
    "duration": 4,
    "start_time": "2024-10-16T04:09:19.442Z"
   },
   {
    "duration": 4,
    "start_time": "2024-10-16T04:09:19.896Z"
   },
   {
    "duration": 4,
    "start_time": "2024-10-16T04:09:58.391Z"
   },
   {
    "duration": 9,
    "start_time": "2024-10-16T04:10:03.384Z"
   },
   {
    "duration": 4,
    "start_time": "2024-10-16T04:10:12.551Z"
   },
   {
    "duration": 5,
    "start_time": "2024-10-16T04:10:17.438Z"
   },
   {
    "duration": 153,
    "start_time": "2024-10-16T04:10:19.795Z"
   },
   {
    "duration": 6,
    "start_time": "2024-10-16T04:10:28.582Z"
   },
   {
    "duration": 6,
    "start_time": "2024-10-16T04:10:30.682Z"
   },
   {
    "duration": 7,
    "start_time": "2024-10-16T04:10:45.708Z"
   },
   {
    "duration": 6,
    "start_time": "2024-10-16T04:10:46.774Z"
   },
   {
    "duration": 4,
    "start_time": "2024-10-16T04:17:21.974Z"
   },
   {
    "duration": 5,
    "start_time": "2024-10-16T04:17:27.614Z"
   },
   {
    "duration": 6,
    "start_time": "2024-10-16T04:17:35.489Z"
   },
   {
    "duration": 5,
    "start_time": "2024-10-16T04:17:36.634Z"
   },
   {
    "duration": 7,
    "start_time": "2024-10-16T04:17:43.806Z"
   },
   {
    "duration": 5,
    "start_time": "2024-10-16T04:18:20.017Z"
   },
   {
    "duration": 4,
    "start_time": "2024-10-16T04:18:41.056Z"
   },
   {
    "duration": 3,
    "start_time": "2024-10-16T04:18:43.254Z"
   },
   {
    "duration": 3,
    "start_time": "2024-10-16T04:18:56.225Z"
   },
   {
    "duration": 4,
    "start_time": "2024-10-16T04:18:59.525Z"
   },
   {
    "duration": 4,
    "start_time": "2024-10-16T04:19:03.609Z"
   },
   {
    "duration": 9,
    "start_time": "2024-10-16T04:19:06.825Z"
   },
   {
    "duration": 6,
    "start_time": "2024-10-16T04:20:35.421Z"
   },
   {
    "duration": 3,
    "start_time": "2024-10-16T04:21:10.585Z"
   },
   {
    "duration": 4,
    "start_time": "2024-10-16T04:21:11.105Z"
   },
   {
    "duration": 5,
    "start_time": "2024-10-16T04:21:16.848Z"
   },
   {
    "duration": 4,
    "start_time": "2024-10-16T04:21:21.056Z"
   },
   {
    "duration": 4,
    "start_time": "2024-10-16T04:21:29.520Z"
   },
   {
    "duration": 8,
    "start_time": "2024-10-16T04:21:30.072Z"
   },
   {
    "duration": 3,
    "start_time": "2024-10-16T04:22:18.481Z"
   },
   {
    "duration": 4,
    "start_time": "2024-10-16T04:22:19.088Z"
   },
   {
    "duration": 4,
    "start_time": "2024-10-16T04:22:24.216Z"
   },
   {
    "duration": 4,
    "start_time": "2024-10-16T04:22:30.645Z"
   },
   {
    "duration": 3,
    "start_time": "2024-10-16T04:22:33.908Z"
   },
   {
    "duration": 5,
    "start_time": "2024-10-16T04:22:39.648Z"
   },
   {
    "duration": 4,
    "start_time": "2024-10-16T04:22:45.120Z"
   },
   {
    "duration": 5,
    "start_time": "2024-10-16T04:22:49.912Z"
   },
   {
    "duration": 5,
    "start_time": "2024-10-16T04:24:27.221Z"
   },
   {
    "duration": 5,
    "start_time": "2024-10-16T04:25:05.719Z"
   },
   {
    "duration": 21,
    "start_time": "2024-10-16T04:26:06.566Z"
   },
   {
    "duration": 45,
    "start_time": "2024-10-16T04:27:31.941Z"
   },
   {
    "duration": 1117,
    "start_time": "2024-10-16T04:46:55.521Z"
   },
   {
    "duration": 657,
    "start_time": "2024-10-16T04:47:46.797Z"
   },
   {
    "duration": 95,
    "start_time": "2024-10-16T04:47:48.471Z"
   },
   {
    "duration": 13,
    "start_time": "2024-10-16T04:47:51.684Z"
   },
   {
    "duration": 1705,
    "start_time": "2024-10-16T04:47:53.677Z"
   },
   {
    "duration": 12,
    "start_time": "2024-10-16T04:47:57.143Z"
   },
   {
    "duration": 5,
    "start_time": "2024-10-16T04:47:59.568Z"
   },
   {
    "duration": 9,
    "start_time": "2024-10-16T04:48:01.431Z"
   },
   {
    "duration": 5,
    "start_time": "2024-10-16T04:48:05.898Z"
   },
   {
    "duration": 4,
    "start_time": "2024-10-16T04:48:15.017Z"
   },
   {
    "duration": 4,
    "start_time": "2024-10-16T04:48:26.496Z"
   },
   {
    "duration": 44,
    "start_time": "2024-10-16T04:48:56.557Z"
   },
   {
    "duration": 65,
    "start_time": "2024-10-16T04:52:14.853Z"
   },
   {
    "duration": 21,
    "start_time": "2024-10-16T04:52:23.068Z"
   },
   {
    "duration": 7,
    "start_time": "2024-10-16T04:53:08.708Z"
   },
   {
    "duration": 4,
    "start_time": "2024-10-16T04:53:24.904Z"
   },
   {
    "duration": 30,
    "start_time": "2024-10-16T04:53:27.963Z"
   },
   {
    "duration": 6,
    "start_time": "2024-10-16T04:53:31.140Z"
   },
   {
    "duration": 4,
    "start_time": "2024-10-16T04:53:46.383Z"
   },
   {
    "duration": 161,
    "start_time": "2024-10-16T04:53:53.970Z"
   },
   {
    "duration": 5,
    "start_time": "2024-10-16T04:53:58.390Z"
   },
   {
    "duration": 43,
    "start_time": "2024-10-16T04:54:41.668Z"
   },
   {
    "duration": 20,
    "start_time": "2024-10-16T04:55:38.828Z"
   },
   {
    "duration": 7,
    "start_time": "2024-10-16T04:56:02.924Z"
   },
   {
    "duration": 6,
    "start_time": "2024-10-16T04:56:15.150Z"
   },
   {
    "duration": 7,
    "start_time": "2024-10-16T04:56:26.248Z"
   },
   {
    "duration": 7,
    "start_time": "2024-10-16T04:56:40.156Z"
   },
   {
    "duration": 6,
    "start_time": "2024-10-16T05:05:15.263Z"
   },
   {
    "duration": 7,
    "start_time": "2024-10-16T05:05:20.322Z"
   },
   {
    "duration": 6,
    "start_time": "2024-10-16T05:05:35.035Z"
   },
   {
    "duration": 5,
    "start_time": "2024-10-16T05:06:32.143Z"
   },
   {
    "duration": 4,
    "start_time": "2024-10-16T05:06:42.601Z"
   },
   {
    "duration": 9,
    "start_time": "2024-10-16T05:06:46.142Z"
   },
   {
    "duration": 7,
    "start_time": "2024-10-16T05:06:46.933Z"
   },
   {
    "duration": 7,
    "start_time": "2024-10-16T05:06:53.062Z"
   },
   {
    "duration": 5,
    "start_time": "2024-10-16T05:06:57.453Z"
   },
   {
    "duration": 3,
    "start_time": "2024-10-16T05:07:00.074Z"
   },
   {
    "duration": 4,
    "start_time": "2024-10-16T05:07:00.582Z"
   },
   {
    "duration": 4,
    "start_time": "2024-10-16T05:07:02.482Z"
   },
   {
    "duration": 5,
    "start_time": "2024-10-16T05:07:03.001Z"
   },
   {
    "duration": 5,
    "start_time": "2024-10-16T05:07:06.574Z"
   },
   {
    "duration": 6,
    "start_time": "2024-10-16T05:07:09.029Z"
   },
   {
    "duration": 3,
    "start_time": "2024-10-16T05:07:45.782Z"
   },
   {
    "duration": 5,
    "start_time": "2024-10-16T05:07:46.430Z"
   },
   {
    "duration": 4,
    "start_time": "2024-10-16T05:07:52.352Z"
   },
   {
    "duration": 5,
    "start_time": "2024-10-16T05:07:53.925Z"
   },
   {
    "duration": 4,
    "start_time": "2024-10-16T05:07:59.593Z"
   },
   {
    "duration": 10,
    "start_time": "2024-10-16T05:08:02.046Z"
   },
   {
    "duration": 3,
    "start_time": "2024-10-16T05:08:03.153Z"
   },
   {
    "duration": 5,
    "start_time": "2024-10-16T05:08:05.526Z"
   },
   {
    "duration": 5,
    "start_time": "2024-10-16T05:08:09.101Z"
   },
   {
    "duration": 5,
    "start_time": "2024-10-16T05:08:16.707Z"
   },
   {
    "duration": 3,
    "start_time": "2024-10-16T05:08:20.382Z"
   },
   {
    "duration": 5,
    "start_time": "2024-10-16T05:08:20.704Z"
   },
   {
    "duration": 4,
    "start_time": "2024-10-16T05:08:22.750Z"
   },
   {
    "duration": 4,
    "start_time": "2024-10-16T05:08:33.417Z"
   },
   {
    "duration": 13,
    "start_time": "2024-10-16T06:25:58.414Z"
   },
   {
    "duration": 8,
    "start_time": "2024-10-16T06:27:12.455Z"
   },
   {
    "duration": 162,
    "start_time": "2024-10-16T06:28:52.392Z"
   },
   {
    "duration": 196,
    "start_time": "2024-10-16T06:29:09.952Z"
   },
   {
    "duration": 112,
    "start_time": "2024-10-16T06:29:35.979Z"
   },
   {
    "duration": 7,
    "start_time": "2024-10-16T06:29:38.499Z"
   },
   {
    "duration": 113,
    "start_time": "2024-10-16T06:30:28.564Z"
   },
   {
    "duration": 154,
    "start_time": "2024-10-16T06:30:40.307Z"
   },
   {
    "duration": 133,
    "start_time": "2024-10-16T06:30:49.150Z"
   },
   {
    "duration": 112,
    "start_time": "2024-10-16T06:31:19.443Z"
   },
   {
    "duration": 8,
    "start_time": "2024-10-16T06:33:37.572Z"
   },
   {
    "duration": 4,
    "start_time": "2024-10-16T06:42:52.630Z"
   },
   {
    "duration": 9,
    "start_time": "2024-10-16T06:43:02.838Z"
   },
   {
    "duration": 11,
    "start_time": "2024-10-16T06:43:20.038Z"
   },
   {
    "duration": 9,
    "start_time": "2024-10-16T06:45:06.910Z"
   },
   {
    "duration": 11,
    "start_time": "2024-10-16T06:52:42.681Z"
   },
   {
    "duration": 12,
    "start_time": "2024-10-16T06:53:17.130Z"
   },
   {
    "duration": 5,
    "start_time": "2024-10-16T06:53:46.765Z"
   },
   {
    "duration": 7,
    "start_time": "2024-10-16T06:57:58.349Z"
   },
   {
    "duration": 13,
    "start_time": "2024-10-16T06:58:20.798Z"
   },
   {
    "duration": 9,
    "start_time": "2024-10-16T06:58:38.221Z"
   },
   {
    "duration": 64,
    "start_time": "2024-10-16T06:59:22.944Z"
   },
   {
    "duration": 5,
    "start_time": "2024-10-16T06:59:34.385Z"
   },
   {
    "duration": 6,
    "start_time": "2024-10-16T07:05:22.590Z"
   },
   {
    "duration": 4,
    "start_time": "2024-10-16T07:06:14.771Z"
   },
   {
    "duration": 7,
    "start_time": "2024-10-16T07:06:20.052Z"
   },
   {
    "duration": 3,
    "start_time": "2024-10-16T07:06:24.876Z"
   },
   {
    "duration": 4,
    "start_time": "2024-10-16T07:06:36.340Z"
   },
   {
    "duration": 86,
    "start_time": "2024-10-16T07:08:09.294Z"
   },
   {
    "duration": 14,
    "start_time": "2024-10-16T07:08:11.670Z"
   },
   {
    "duration": 1597,
    "start_time": "2024-10-16T07:08:12.522Z"
   },
   {
    "duration": 12,
    "start_time": "2024-10-16T07:08:14.122Z"
   },
   {
    "duration": 9,
    "start_time": "2024-10-16T07:08:14.136Z"
   },
   {
    "duration": 9,
    "start_time": "2024-10-16T07:08:14.147Z"
   },
   {
    "duration": 5,
    "start_time": "2024-10-16T07:08:14.522Z"
   },
   {
    "duration": 4,
    "start_time": "2024-10-16T07:08:14.667Z"
   },
   {
    "duration": 4,
    "start_time": "2024-10-16T07:08:15.295Z"
   },
   {
    "duration": 7,
    "start_time": "2024-10-16T07:08:15.918Z"
   },
   {
    "duration": 4,
    "start_time": "2024-10-16T07:08:16.123Z"
   },
   {
    "duration": 5,
    "start_time": "2024-10-16T07:08:16.959Z"
   },
   {
    "duration": 154,
    "start_time": "2024-10-16T07:08:17.574Z"
   },
   {
    "duration": 4,
    "start_time": "2024-10-16T07:08:18.028Z"
   },
   {
    "duration": 5,
    "start_time": "2024-10-16T07:08:18.846Z"
   },
   {
    "duration": 6,
    "start_time": "2024-10-16T07:08:19.562Z"
   },
   {
    "duration": 7,
    "start_time": "2024-10-16T07:08:20.083Z"
   },
   {
    "duration": 5,
    "start_time": "2024-10-16T07:08:21.359Z"
   },
   {
    "duration": 5,
    "start_time": "2024-10-16T07:08:21.742Z"
   },
   {
    "duration": 7,
    "start_time": "2024-10-16T07:08:22.542Z"
   },
   {
    "duration": 5,
    "start_time": "2024-10-16T07:08:22.751Z"
   },
   {
    "duration": 7,
    "start_time": "2024-10-16T07:08:23.798Z"
   },
   {
    "duration": 6,
    "start_time": "2024-10-16T07:08:24.042Z"
   },
   {
    "duration": 4,
    "start_time": "2024-10-16T07:08:27.166Z"
   },
   {
    "duration": 4,
    "start_time": "2024-10-16T07:08:27.462Z"
   },
   {
    "duration": 3,
    "start_time": "2024-10-16T07:08:27.695Z"
   },
   {
    "duration": 5,
    "start_time": "2024-10-16T07:08:27.928Z"
   },
   {
    "duration": 3,
    "start_time": "2024-10-16T07:08:28.863Z"
   },
   {
    "duration": 7,
    "start_time": "2024-10-16T07:08:29.310Z"
   },
   {
    "duration": 4,
    "start_time": "2024-10-16T07:08:29.699Z"
   },
   {
    "duration": 5,
    "start_time": "2024-10-16T07:08:30.124Z"
   },
   {
    "duration": 4,
    "start_time": "2024-10-16T07:08:30.991Z"
   },
   {
    "duration": 4,
    "start_time": "2024-10-16T07:08:32.191Z"
   },
   {
    "duration": 4,
    "start_time": "2024-10-16T07:08:33.055Z"
   },
   {
    "duration": 8,
    "start_time": "2024-10-16T07:08:33.386Z"
   },
   {
    "duration": 3,
    "start_time": "2024-10-16T07:08:36.535Z"
   },
   {
    "duration": 5,
    "start_time": "2024-10-16T07:08:36.822Z"
   },
   {
    "duration": 4,
    "start_time": "2024-10-16T07:08:37.402Z"
   },
   {
    "duration": 5,
    "start_time": "2024-10-16T07:08:38.690Z"
   },
   {
    "duration": 3,
    "start_time": "2024-10-16T07:08:40.886Z"
   },
   {
    "duration": 5,
    "start_time": "2024-10-16T07:08:41.232Z"
   },
   {
    "duration": 5,
    "start_time": "2024-10-16T07:08:41.683Z"
   },
   {
    "duration": 5,
    "start_time": "2024-10-16T07:08:42.670Z"
   },
   {
    "duration": 5,
    "start_time": "2024-10-16T07:08:45.266Z"
   },
   {
    "duration": 16,
    "start_time": "2024-10-16T07:18:14.294Z"
   },
   {
    "duration": 18,
    "start_time": "2024-10-16T07:31:43.389Z"
   },
   {
    "duration": 17,
    "start_time": "2024-10-16T07:31:50.701Z"
   },
   {
    "duration": 8,
    "start_time": "2024-10-16T07:33:42.382Z"
   },
   {
    "duration": 8,
    "start_time": "2024-10-16T07:39:07.296Z"
   },
   {
    "duration": 10,
    "start_time": "2024-10-16T07:39:13.020Z"
   },
   {
    "duration": 7,
    "start_time": "2024-10-16T07:39:19.714Z"
   },
   {
    "duration": 12,
    "start_time": "2024-10-16T07:39:49.085Z"
   },
   {
    "duration": 10,
    "start_time": "2024-10-16T07:41:28.417Z"
   },
   {
    "duration": 4,
    "start_time": "2024-10-16T07:41:40.649Z"
   },
   {
    "duration": 8,
    "start_time": "2024-10-16T07:42:33.313Z"
   },
   {
    "duration": 326,
    "start_time": "2024-10-16T07:45:13.136Z"
   },
   {
    "duration": 9,
    "start_time": "2024-10-16T07:46:56.576Z"
   },
   {
    "duration": 111,
    "start_time": "2024-10-16T07:47:42.509Z"
   },
   {
    "duration": 26,
    "start_time": "2024-10-16T07:59:09.412Z"
   },
   {
    "duration": 4,
    "start_time": "2024-10-16T07:59:10.679Z"
   },
   {
    "duration": 8,
    "start_time": "2024-10-16T07:59:17.390Z"
   },
   {
    "duration": 39,
    "start_time": "2024-10-16T08:03:46.294Z"
   },
   {
    "duration": 6,
    "start_time": "2024-10-16T08:03:47.102Z"
   },
   {
    "duration": 7,
    "start_time": "2024-10-16T08:07:54.362Z"
   },
   {
    "duration": 18,
    "start_time": "2024-10-16T08:08:18.590Z"
   },
   {
    "duration": 4,
    "start_time": "2024-10-16T09:08:13.897Z"
   },
   {
    "duration": 6,
    "start_time": "2024-10-16T09:08:22.901Z"
   },
   {
    "duration": 7,
    "start_time": "2024-10-16T09:09:40.344Z"
   },
   {
    "duration": 10,
    "start_time": "2024-10-16T09:14:11.286Z"
   },
   {
    "duration": 10,
    "start_time": "2024-10-16T09:14:56.100Z"
   },
   {
    "duration": 5,
    "start_time": "2024-10-16T09:14:58.548Z"
   },
   {
    "duration": 7,
    "start_time": "2024-10-16T09:15:48.948Z"
   },
   {
    "duration": 4,
    "start_time": "2024-10-16T09:15:50.044Z"
   },
   {
    "duration": 8,
    "start_time": "2024-10-16T09:17:36.868Z"
   },
   {
    "duration": 5,
    "start_time": "2024-10-16T09:17:46.734Z"
   },
   {
    "duration": 7,
    "start_time": "2024-10-16T09:17:57.109Z"
   },
   {
    "duration": 8,
    "start_time": "2024-10-16T09:19:09.337Z"
   },
   {
    "duration": 6,
    "start_time": "2024-10-16T09:19:19.656Z"
   },
   {
    "duration": 9,
    "start_time": "2024-10-16T09:19:28.369Z"
   },
   {
    "duration": 5,
    "start_time": "2024-10-16T09:22:13.871Z"
   },
   {
    "duration": 8,
    "start_time": "2024-10-16T09:22:27.775Z"
   },
   {
    "duration": 4,
    "start_time": "2024-10-16T09:22:47.214Z"
   },
   {
    "duration": 5,
    "start_time": "2024-10-16T09:22:56.506Z"
   },
   {
    "duration": 4,
    "start_time": "2024-10-16T09:26:46.467Z"
   },
   {
    "duration": 12,
    "start_time": "2024-10-16T09:33:38.772Z"
   },
   {
    "duration": 10,
    "start_time": "2024-10-16T09:36:20.290Z"
   },
   {
    "duration": 22,
    "start_time": "2024-10-16T09:38:13.411Z"
   },
   {
    "duration": 201,
    "start_time": "2024-10-16T09:38:26.034Z"
   },
   {
    "duration": 5,
    "start_time": "2024-10-16T09:38:38.847Z"
   },
   {
    "duration": 7,
    "start_time": "2024-10-16T09:38:56.640Z"
   },
   {
    "duration": 232,
    "start_time": "2024-10-16T09:42:39.081Z"
   },
   {
    "duration": 5,
    "start_time": "2024-10-16T09:42:49.547Z"
   },
   {
    "duration": 8,
    "start_time": "2024-10-16T09:43:04.574Z"
   },
   {
    "duration": 796,
    "start_time": "2024-10-17T03:17:17.895Z"
   },
   {
    "duration": 179,
    "start_time": "2024-10-17T03:17:19.790Z"
   },
   {
    "duration": 25,
    "start_time": "2024-10-17T03:17:23.237Z"
   },
   {
    "duration": 1952,
    "start_time": "2024-10-17T03:17:25.347Z"
   },
   {
    "duration": 10,
    "start_time": "2024-10-17T03:17:29.556Z"
   },
   {
    "duration": 5,
    "start_time": "2024-10-17T03:17:41.703Z"
   },
   {
    "duration": 9,
    "start_time": "2024-10-17T03:17:42.839Z"
   },
   {
    "duration": 5,
    "start_time": "2024-10-17T03:17:46.363Z"
   },
   {
    "duration": 7,
    "start_time": "2024-10-17T03:17:48.724Z"
   },
   {
    "duration": 4,
    "start_time": "2024-10-17T03:17:51.541Z"
   },
   {
    "duration": 10,
    "start_time": "2024-10-17T03:17:52.581Z"
   },
   {
    "duration": 5,
    "start_time": "2024-10-17T03:17:53.052Z"
   },
   {
    "duration": 5,
    "start_time": "2024-10-17T03:17:56.652Z"
   },
   {
    "duration": 183,
    "start_time": "2024-10-17T03:17:58.275Z"
   },
   {
    "duration": 5,
    "start_time": "2024-10-17T03:17:59.687Z"
   },
   {
    "duration": 6,
    "start_time": "2024-10-17T03:18:00.883Z"
   },
   {
    "duration": 5,
    "start_time": "2024-10-17T03:18:08.212Z"
   },
   {
    "duration": 7,
    "start_time": "2024-10-17T03:18:08.612Z"
   },
   {
    "duration": 5,
    "start_time": "2024-10-17T03:18:11.133Z"
   },
   {
    "duration": 6,
    "start_time": "2024-10-17T03:18:11.988Z"
   },
   {
    "duration": 7,
    "start_time": "2024-10-17T03:18:13.223Z"
   },
   {
    "duration": 6,
    "start_time": "2024-10-17T03:18:13.868Z"
   },
   {
    "duration": 7,
    "start_time": "2024-10-17T03:18:15.551Z"
   },
   {
    "duration": 8,
    "start_time": "2024-10-17T03:18:16.187Z"
   },
   {
    "duration": 3,
    "start_time": "2024-10-17T03:18:18.811Z"
   },
   {
    "duration": 4,
    "start_time": "2024-10-17T03:18:19.192Z"
   },
   {
    "duration": 4,
    "start_time": "2024-10-17T03:18:19.492Z"
   },
   {
    "duration": 5,
    "start_time": "2024-10-17T03:18:19.751Z"
   },
   {
    "duration": 5,
    "start_time": "2024-10-17T03:18:20.419Z"
   },
   {
    "duration": 7,
    "start_time": "2024-10-17T03:18:21.352Z"
   },
   {
    "duration": 3,
    "start_time": "2024-10-17T03:18:21.875Z"
   },
   {
    "duration": 6,
    "start_time": "2024-10-17T03:18:22.069Z"
   },
   {
    "duration": 5,
    "start_time": "2024-10-17T03:18:23.077Z"
   },
   {
    "duration": 5,
    "start_time": "2024-10-17T03:18:24.860Z"
   },
   {
    "duration": 4,
    "start_time": "2024-10-17T03:18:26.067Z"
   },
   {
    "duration": 9,
    "start_time": "2024-10-17T03:18:26.644Z"
   },
   {
    "duration": 4,
    "start_time": "2024-10-17T03:18:29.732Z"
   },
   {
    "duration": 5,
    "start_time": "2024-10-17T03:18:30.383Z"
   },
   {
    "duration": 5,
    "start_time": "2024-10-17T03:18:31.380Z"
   },
   {
    "duration": 4,
    "start_time": "2024-10-17T03:18:33.030Z"
   },
   {
    "duration": 4,
    "start_time": "2024-10-17T03:18:34.365Z"
   },
   {
    "duration": 5,
    "start_time": "2024-10-17T03:18:35.309Z"
   },
   {
    "duration": 5,
    "start_time": "2024-10-17T03:18:35.719Z"
   },
   {
    "duration": 5,
    "start_time": "2024-10-17T03:18:36.943Z"
   },
   {
    "duration": 12,
    "start_time": "2024-10-17T03:18:44.173Z"
   },
   {
    "duration": 5,
    "start_time": "2024-10-17T03:19:13.711Z"
   },
   {
    "duration": 8,
    "start_time": "2024-10-17T03:19:17.203Z"
   },
   {
    "duration": 21,
    "start_time": "2024-10-17T03:19:22.986Z"
   },
   {
    "duration": 8,
    "start_time": "2024-10-17T03:19:26.007Z"
   },
   {
    "duration": 11,
    "start_time": "2024-10-17T03:19:36.536Z"
   },
   {
    "duration": 43,
    "start_time": "2024-10-17T03:19:58.064Z"
   },
   {
    "duration": 6,
    "start_time": "2024-10-17T03:20:00.766Z"
   },
   {
    "duration": 18,
    "start_time": "2024-10-17T03:24:23.199Z"
   },
   {
    "duration": 4,
    "start_time": "2024-10-17T03:24:29.727Z"
   },
   {
    "duration": 5,
    "start_time": "2024-10-17T03:24:36.216Z"
   },
   {
    "duration": 5,
    "start_time": "2024-10-17T03:24:36.814Z"
   },
   {
    "duration": 5,
    "start_time": "2024-10-17T03:24:37.288Z"
   },
   {
    "duration": 3,
    "start_time": "2024-10-17T03:24:46.707Z"
   },
   {
    "duration": 278,
    "start_time": "2024-10-17T03:26:34.721Z"
   },
   {
    "duration": 6,
    "start_time": "2024-10-17T03:26:36.746Z"
   },
   {
    "duration": 7,
    "start_time": "2024-10-17T03:30:50.043Z"
   },
   {
    "duration": 129,
    "start_time": "2024-10-17T03:31:24.883Z"
   },
   {
    "duration": 140,
    "start_time": "2024-10-17T03:32:19.018Z"
   },
   {
    "duration": 247,
    "start_time": "2024-10-17T03:32:44.657Z"
   },
   {
    "duration": 155,
    "start_time": "2024-10-17T03:33:04.607Z"
   },
   {
    "duration": 146,
    "start_time": "2024-10-17T03:35:41.801Z"
   },
   {
    "duration": 628,
    "start_time": "2024-10-17T03:36:46.336Z"
   },
   {
    "duration": 123,
    "start_time": "2024-10-17T03:37:32.794Z"
   },
   {
    "duration": 94,
    "start_time": "2024-10-17T03:37:50.430Z"
   },
   {
    "duration": 98,
    "start_time": "2024-10-17T03:39:17.972Z"
   },
   {
    "duration": 89,
    "start_time": "2024-10-17T03:39:33.108Z"
   },
   {
    "duration": 103,
    "start_time": "2024-10-17T03:39:49.119Z"
   },
   {
    "duration": 141,
    "start_time": "2024-10-17T04:00:46.994Z"
   },
   {
    "duration": 11,
    "start_time": "2024-10-17T04:04:04.821Z"
   },
   {
    "duration": 144,
    "start_time": "2024-10-17T04:04:37.179Z"
   },
   {
    "duration": 158,
    "start_time": "2024-10-17T04:05:01.441Z"
   },
   {
    "duration": 163,
    "start_time": "2024-10-17T04:05:08.409Z"
   },
   {
    "duration": 247,
    "start_time": "2024-10-17T04:05:16.057Z"
   },
   {
    "duration": 130,
    "start_time": "2024-10-17T04:05:22.301Z"
   },
   {
    "duration": 148,
    "start_time": "2024-10-17T04:05:27.229Z"
   },
   {
    "duration": 1368,
    "start_time": "2024-10-17T04:11:52.883Z"
   },
   {
    "duration": 132,
    "start_time": "2024-10-17T04:11:54.399Z"
   },
   {
    "duration": 18,
    "start_time": "2024-10-17T04:11:54.805Z"
   },
   {
    "duration": 2181,
    "start_time": "2024-10-17T04:11:55.946Z"
   },
   {
    "duration": 9,
    "start_time": "2024-10-17T04:11:58.129Z"
   },
   {
    "duration": 5,
    "start_time": "2024-10-17T04:12:00.695Z"
   },
   {
    "duration": 12,
    "start_time": "2024-10-17T04:12:02.089Z"
   },
   {
    "duration": 5,
    "start_time": "2024-10-17T04:12:03.434Z"
   },
   {
    "duration": 5,
    "start_time": "2024-10-17T04:12:06.175Z"
   },
   {
    "duration": 7,
    "start_time": "2024-10-17T04:12:07.250Z"
   },
   {
    "duration": 15,
    "start_time": "2024-10-17T04:12:09.442Z"
   },
   {
    "duration": 8,
    "start_time": "2024-10-17T04:12:09.962Z"
   },
   {
    "duration": 5,
    "start_time": "2024-10-17T04:12:16.130Z"
   },
   {
    "duration": 201,
    "start_time": "2024-10-17T04:12:39.326Z"
   },
   {
    "duration": 6,
    "start_time": "2024-10-17T04:14:47.798Z"
   },
   {
    "duration": 10,
    "start_time": "2024-10-17T04:14:48.450Z"
   },
   {
    "duration": 6,
    "start_time": "2024-10-17T04:14:57.525Z"
   },
   {
    "duration": 13,
    "start_time": "2024-10-17T04:15:04.743Z"
   },
   {
    "duration": 9,
    "start_time": "2024-10-17T04:15:08.697Z"
   },
   {
    "duration": 9,
    "start_time": "2024-10-17T04:15:13.043Z"
   },
   {
    "duration": 10,
    "start_time": "2024-10-17T04:15:17.549Z"
   },
   {
    "duration": 6,
    "start_time": "2024-10-17T04:15:17.959Z"
   },
   {
    "duration": 4,
    "start_time": "2024-10-17T04:15:20.969Z"
   },
   {
    "duration": 6,
    "start_time": "2024-10-17T04:15:21.438Z"
   },
   {
    "duration": 4,
    "start_time": "2024-10-17T04:15:21.893Z"
   },
   {
    "duration": 5,
    "start_time": "2024-10-17T04:15:22.341Z"
   },
   {
    "duration": 4,
    "start_time": "2024-10-17T04:15:27.710Z"
   },
   {
    "duration": 8,
    "start_time": "2024-10-17T04:15:28.323Z"
   },
   {
    "duration": 5,
    "start_time": "2024-10-17T04:15:28.853Z"
   },
   {
    "duration": 12,
    "start_time": "2024-10-17T04:15:30.542Z"
   },
   {
    "duration": 5,
    "start_time": "2024-10-17T04:15:32.821Z"
   },
   {
    "duration": 5,
    "start_time": "2024-10-17T04:15:33.813Z"
   },
   {
    "duration": 5,
    "start_time": "2024-10-17T04:15:34.701Z"
   },
   {
    "duration": 10,
    "start_time": "2024-10-17T04:15:35.021Z"
   },
   {
    "duration": 5,
    "start_time": "2024-10-17T04:15:35.410Z"
   },
   {
    "duration": 7,
    "start_time": "2024-10-17T04:15:35.949Z"
   },
   {
    "duration": 7,
    "start_time": "2024-10-17T04:15:36.647Z"
   },
   {
    "duration": 4,
    "start_time": "2024-10-17T04:15:37.689Z"
   },
   {
    "duration": 4,
    "start_time": "2024-10-17T04:15:39.250Z"
   },
   {
    "duration": 6,
    "start_time": "2024-10-17T04:15:39.779Z"
   },
   {
    "duration": 4,
    "start_time": "2024-10-17T04:15:40.274Z"
   },
   {
    "duration": 5,
    "start_time": "2024-10-17T04:15:41.185Z"
   },
   {
    "duration": 15,
    "start_time": "2024-10-17T04:15:44.229Z"
   },
   {
    "duration": 5,
    "start_time": "2024-10-17T04:15:45.286Z"
   },
   {
    "duration": 8,
    "start_time": "2024-10-17T04:15:45.829Z"
   },
   {
    "duration": 22,
    "start_time": "2024-10-17T04:15:46.383Z"
   },
   {
    "duration": 8,
    "start_time": "2024-10-17T04:15:46.893Z"
   },
   {
    "duration": 21,
    "start_time": "2024-10-17T04:15:53.807Z"
   },
   {
    "duration": 50,
    "start_time": "2024-10-17T04:15:54.831Z"
   },
   {
    "duration": 6,
    "start_time": "2024-10-17T04:15:55.357Z"
   },
   {
    "duration": 24,
    "start_time": "2024-10-17T04:15:58.648Z"
   },
   {
    "duration": 4,
    "start_time": "2024-10-17T04:15:59.326Z"
   },
   {
    "duration": 5,
    "start_time": "2024-10-17T04:15:59.517Z"
   },
   {
    "duration": 5,
    "start_time": "2024-10-17T04:15:59.669Z"
   },
   {
    "duration": 7,
    "start_time": "2024-10-17T04:15:59.879Z"
   },
   {
    "duration": 2,
    "start_time": "2024-10-17T04:16:01.928Z"
   },
   {
    "duration": 299,
    "start_time": "2024-10-17T04:16:02.430Z"
   },
   {
    "duration": 5,
    "start_time": "2024-10-17T04:16:05.076Z"
   },
   {
    "duration": 139,
    "start_time": "2024-10-17T04:16:09.885Z"
   },
   {
    "duration": 94,
    "start_time": "2024-10-17T04:16:14.885Z"
   },
   {
    "duration": 165,
    "start_time": "2024-10-17T04:16:18.821Z"
   },
   {
    "duration": 39,
    "start_time": "2024-10-17T04:39:57.118Z"
   },
   {
    "duration": 8,
    "start_time": "2024-10-17T04:41:11.653Z"
   },
   {
    "duration": 2477,
    "start_time": "2024-10-17T04:41:25.391Z"
   },
   {
    "duration": 13,
    "start_time": "2024-10-17T04:41:39.730Z"
   },
   {
    "duration": 9,
    "start_time": "2024-10-17T04:42:21.290Z"
   },
   {
    "duration": 10,
    "start_time": "2024-10-17T04:42:26.305Z"
   },
   {
    "duration": 10,
    "start_time": "2024-10-17T04:43:57.245Z"
   },
   {
    "duration": 12,
    "start_time": "2024-10-17T04:44:36.366Z"
   },
   {
    "duration": 13,
    "start_time": "2024-10-17T04:46:37.012Z"
   },
   {
    "duration": 14,
    "start_time": "2024-10-17T04:47:03.580Z"
   },
   {
    "duration": 20,
    "start_time": "2024-10-17T04:49:46.515Z"
   },
   {
    "duration": 15,
    "start_time": "2024-10-17T04:50:59.256Z"
   },
   {
    "duration": 4,
    "start_time": "2024-10-17T04:54:24.059Z"
   },
   {
    "duration": 8,
    "start_time": "2024-10-17T04:54:45.884Z"
   },
   {
    "duration": 8,
    "start_time": "2024-10-17T04:55:03.809Z"
   },
   {
    "duration": 1179,
    "start_time": "2024-10-17T04:55:23.803Z"
   },
   {
    "duration": 99,
    "start_time": "2024-10-17T04:55:24.984Z"
   },
   {
    "duration": 15,
    "start_time": "2024-10-17T04:55:25.084Z"
   },
   {
    "duration": 1994,
    "start_time": "2024-10-17T04:55:25.101Z"
   },
   {
    "duration": 10,
    "start_time": "2024-10-17T04:55:27.097Z"
   },
   {
    "duration": 11,
    "start_time": "2024-10-17T04:55:27.109Z"
   },
   {
    "duration": 17,
    "start_time": "2024-10-17T04:55:27.121Z"
   },
   {
    "duration": 5,
    "start_time": "2024-10-17T04:55:27.139Z"
   },
   {
    "duration": 88,
    "start_time": "2024-10-17T04:55:27.146Z"
   },
   {
    "duration": 4,
    "start_time": "2024-10-17T04:55:27.237Z"
   },
   {
    "duration": 11,
    "start_time": "2024-10-17T04:55:27.243Z"
   },
   {
    "duration": 5,
    "start_time": "2024-10-17T04:55:27.256Z"
   },
   {
    "duration": 5,
    "start_time": "2024-10-17T04:55:27.262Z"
   },
   {
    "duration": 209,
    "start_time": "2024-10-17T04:55:27.268Z"
   },
   {
    "duration": 6,
    "start_time": "2024-10-17T04:55:27.479Z"
   },
   {
    "duration": 6,
    "start_time": "2024-10-17T04:55:27.486Z"
   },
   {
    "duration": 11,
    "start_time": "2024-10-17T04:55:27.493Z"
   },
   {
    "duration": 8,
    "start_time": "2024-10-17T04:55:27.506Z"
   },
   {
    "duration": 5,
    "start_time": "2024-10-17T04:55:27.515Z"
   },
   {
    "duration": 26,
    "start_time": "2024-10-17T04:55:27.522Z"
   },
   {
    "duration": 5,
    "start_time": "2024-10-17T04:55:27.550Z"
   },
   {
    "duration": 73,
    "start_time": "2024-10-17T04:55:27.556Z"
   },
   {
    "duration": 73,
    "start_time": "2024-10-17T04:55:27.631Z"
   },
   {
    "duration": 4,
    "start_time": "2024-10-17T04:55:27.705Z"
   },
   {
    "duration": 13,
    "start_time": "2024-10-17T04:55:27.710Z"
   },
   {
    "duration": 3,
    "start_time": "2024-10-17T04:55:27.725Z"
   },
   {
    "duration": 5,
    "start_time": "2024-10-17T04:55:27.729Z"
   },
   {
    "duration": 8,
    "start_time": "2024-10-17T04:55:27.737Z"
   },
   {
    "duration": 6,
    "start_time": "2024-10-17T04:55:27.747Z"
   },
   {
    "duration": 3,
    "start_time": "2024-10-17T04:55:27.754Z"
   },
   {
    "duration": 4,
    "start_time": "2024-10-17T04:55:27.759Z"
   },
   {
    "duration": 4,
    "start_time": "2024-10-17T04:55:27.764Z"
   },
   {
    "duration": 4,
    "start_time": "2024-10-17T04:55:27.770Z"
   },
   {
    "duration": 27,
    "start_time": "2024-10-17T04:55:27.775Z"
   },
   {
    "duration": 26,
    "start_time": "2024-10-17T04:55:27.804Z"
   },
   {
    "duration": 3,
    "start_time": "2024-10-17T04:55:27.832Z"
   },
   {
    "duration": 10,
    "start_time": "2024-10-17T04:55:27.837Z"
   },
   {
    "duration": 5,
    "start_time": "2024-10-17T04:55:27.849Z"
   },
   {
    "duration": 8,
    "start_time": "2024-10-17T04:55:27.855Z"
   },
   {
    "duration": 10,
    "start_time": "2024-10-17T04:55:27.864Z"
   },
   {
    "duration": 9,
    "start_time": "2024-10-17T04:55:27.875Z"
   },
   {
    "duration": 9,
    "start_time": "2024-10-17T04:55:27.885Z"
   },
   {
    "duration": 10,
    "start_time": "2024-10-17T04:55:27.896Z"
   },
   {
    "duration": 15,
    "start_time": "2024-10-17T04:55:27.907Z"
   },
   {
    "duration": 22,
    "start_time": "2024-10-17T04:55:27.924Z"
   },
   {
    "duration": 10,
    "start_time": "2024-10-17T04:55:27.947Z"
   },
   {
    "duration": 23,
    "start_time": "2024-10-17T04:55:27.959Z"
   },
   {
    "duration": 8,
    "start_time": "2024-10-17T04:55:27.983Z"
   },
   {
    "duration": 34,
    "start_time": "2024-10-17T04:55:27.992Z"
   },
   {
    "duration": 45,
    "start_time": "2024-10-17T04:55:28.028Z"
   },
   {
    "duration": 4,
    "start_time": "2024-10-17T04:55:28.074Z"
   },
   {
    "duration": 20,
    "start_time": "2024-10-17T04:55:28.080Z"
   },
   {
    "duration": 3,
    "start_time": "2024-10-17T04:55:28.102Z"
   },
   {
    "duration": 11,
    "start_time": "2024-10-17T04:55:28.107Z"
   },
   {
    "duration": 26,
    "start_time": "2024-10-17T04:55:28.119Z"
   },
   {
    "duration": 5,
    "start_time": "2024-10-17T04:55:28.147Z"
   },
   {
    "duration": 3,
    "start_time": "2024-10-17T04:55:28.153Z"
   },
   {
    "duration": 295,
    "start_time": "2024-10-17T04:55:28.157Z"
   },
   {
    "duration": 4,
    "start_time": "2024-10-17T04:55:28.453Z"
   },
   {
    "duration": 166,
    "start_time": "2024-10-17T04:55:28.458Z"
   },
   {
    "duration": 83,
    "start_time": "2024-10-17T04:55:28.626Z"
   },
   {
    "duration": 202,
    "start_time": "2024-10-17T04:55:28.711Z"
   },
   {
    "duration": 9,
    "start_time": "2024-10-17T04:55:34.204Z"
   },
   {
    "duration": 175,
    "start_time": "2024-10-17T04:55:34.958Z"
   },
   {
    "duration": 150,
    "start_time": "2024-10-17T04:56:05.892Z"
   },
   {
    "duration": 150,
    "start_time": "2024-10-17T04:56:20.024Z"
   },
   {
    "duration": 275,
    "start_time": "2024-10-17T04:56:44.995Z"
   },
   {
    "duration": 148,
    "start_time": "2024-10-17T04:56:50.677Z"
   },
   {
    "duration": 160,
    "start_time": "2024-10-17T04:56:54.838Z"
   },
   {
    "duration": 137,
    "start_time": "2024-10-17T04:57:01.704Z"
   },
   {
    "duration": 133,
    "start_time": "2024-10-17T04:57:20.326Z"
   },
   {
    "duration": 134,
    "start_time": "2024-10-17T04:57:28.498Z"
   },
   {
    "duration": 161,
    "start_time": "2024-10-17T06:53:54.890Z"
   },
   {
    "duration": 151,
    "start_time": "2024-10-17T06:54:37.609Z"
   },
   {
    "duration": 159,
    "start_time": "2024-10-17T06:56:04.245Z"
   },
   {
    "duration": 144,
    "start_time": "2024-10-17T06:56:12.677Z"
   },
   {
    "duration": 97,
    "start_time": "2024-10-17T06:57:11.550Z"
   },
   {
    "duration": 145,
    "start_time": "2024-10-17T06:58:27.511Z"
   },
   {
    "duration": 124,
    "start_time": "2024-10-17T07:06:36.427Z"
   },
   {
    "duration": 117,
    "start_time": "2024-10-17T07:07:22.819Z"
   },
   {
    "duration": 66,
    "start_time": "2024-10-17T07:10:49.914Z"
   },
   {
    "duration": 36,
    "start_time": "2024-10-17T07:11:39.577Z"
   },
   {
    "duration": 11,
    "start_time": "2024-10-17T07:13:01.408Z"
   },
   {
    "duration": 24,
    "start_time": "2024-10-17T07:16:54.541Z"
   },
   {
    "duration": 8,
    "start_time": "2024-10-17T07:19:09.266Z"
   },
   {
    "duration": 107,
    "start_time": "2024-10-17T07:20:52.968Z"
   },
   {
    "duration": 9,
    "start_time": "2024-10-17T07:20:59.742Z"
   },
   {
    "duration": 10,
    "start_time": "2024-10-17T07:21:14.184Z"
   },
   {
    "duration": 11,
    "start_time": "2024-10-17T07:21:44.603Z"
   },
   {
    "duration": 13,
    "start_time": "2024-10-17T07:22:08.164Z"
   },
   {
    "duration": 18,
    "start_time": "2024-10-17T07:22:20.356Z"
   },
   {
    "duration": 12,
    "start_time": "2024-10-17T07:22:30.367Z"
   },
   {
    "duration": 12,
    "start_time": "2024-10-17T07:22:46.324Z"
   },
   {
    "duration": 10,
    "start_time": "2024-10-17T07:31:26.709Z"
   },
   {
    "duration": 144,
    "start_time": "2024-10-17T07:31:52.645Z"
   },
   {
    "duration": 166,
    "start_time": "2024-10-17T07:32:12.297Z"
   },
   {
    "duration": 15,
    "start_time": "2024-10-17T07:32:42.441Z"
   },
   {
    "duration": 9,
    "start_time": "2024-10-17T07:34:50.397Z"
   },
   {
    "duration": 156,
    "start_time": "2024-10-17T07:35:18.555Z"
   },
   {
    "duration": 139,
    "start_time": "2024-10-17T07:35:41.567Z"
   },
   {
    "duration": 141,
    "start_time": "2024-10-17T07:35:47.309Z"
   },
   {
    "duration": 144,
    "start_time": "2024-10-17T07:36:14.531Z"
   },
   {
    "duration": 6,
    "start_time": "2024-10-17T07:37:39.862Z"
   },
   {
    "duration": 7,
    "start_time": "2024-10-17T07:37:44.771Z"
   },
   {
    "duration": 4,
    "start_time": "2024-10-17T07:38:00.398Z"
   },
   {
    "duration": 8,
    "start_time": "2024-10-17T07:42:37.974Z"
   },
   {
    "duration": 15,
    "start_time": "2024-10-17T07:44:44.534Z"
   },
   {
    "duration": 13,
    "start_time": "2024-10-17T07:45:14.466Z"
   },
   {
    "duration": 8,
    "start_time": "2024-10-17T07:45:34.279Z"
   },
   {
    "duration": 149,
    "start_time": "2024-10-17T07:45:35.003Z"
   },
   {
    "duration": 4,
    "start_time": "2024-10-17T07:45:49.960Z"
   },
   {
    "duration": 93,
    "start_time": "2024-10-17T07:47:33.537Z"
   },
   {
    "duration": 169,
    "start_time": "2024-10-17T07:48:03.230Z"
   },
   {
    "duration": 1591,
    "start_time": "2024-10-17T07:48:45.158Z"
   },
   {
    "duration": 101,
    "start_time": "2024-10-17T07:49:18.480Z"
   },
   {
    "duration": 107,
    "start_time": "2024-10-17T07:49:41.848Z"
   },
   {
    "duration": 107,
    "start_time": "2024-10-17T07:49:50.721Z"
   },
   {
    "duration": 100,
    "start_time": "2024-10-17T07:49:55.511Z"
   },
   {
    "duration": 102,
    "start_time": "2024-10-17T07:50:07.351Z"
   },
   {
    "duration": 110,
    "start_time": "2024-10-17T07:50:20.629Z"
   },
   {
    "duration": 127,
    "start_time": "2024-10-17T07:53:37.353Z"
   },
   {
    "duration": 137,
    "start_time": "2024-10-17T07:53:43.688Z"
   },
   {
    "duration": 135,
    "start_time": "2024-10-17T07:53:48.534Z"
   },
   {
    "duration": 141,
    "start_time": "2024-10-17T07:54:56.123Z"
   },
   {
    "duration": 132,
    "start_time": "2024-10-17T07:55:03.890Z"
   },
   {
    "duration": 132,
    "start_time": "2024-10-17T07:55:11.683Z"
   },
   {
    "duration": 136,
    "start_time": "2024-10-17T07:55:18.567Z"
   },
   {
    "duration": 128,
    "start_time": "2024-10-17T07:55:25.492Z"
   },
   {
    "duration": 153,
    "start_time": "2024-10-17T07:55:35.209Z"
   },
   {
    "duration": 128,
    "start_time": "2024-10-17T07:55:41.162Z"
   },
   {
    "duration": 7,
    "start_time": "2024-10-17T07:56:30.996Z"
   },
   {
    "duration": 149,
    "start_time": "2024-10-17T07:58:38.111Z"
   },
   {
    "duration": 565,
    "start_time": "2024-10-17T07:58:50.714Z"
   },
   {
    "duration": 6,
    "start_time": "2024-10-17T07:59:07.480Z"
   },
   {
    "duration": 5,
    "start_time": "2024-10-17T07:59:14.799Z"
   },
   {
    "duration": 165,
    "start_time": "2024-10-17T07:59:20.595Z"
   },
   {
    "duration": 141,
    "start_time": "2024-10-17T08:00:52.312Z"
   },
   {
    "duration": 154,
    "start_time": "2024-10-17T08:00:53.093Z"
   },
   {
    "duration": 6,
    "start_time": "2024-10-17T08:01:13.704Z"
   },
   {
    "duration": 6,
    "start_time": "2024-10-17T08:01:14.507Z"
   },
   {
    "duration": 9,
    "start_time": "2024-10-17T08:04:21.096Z"
   },
   {
    "duration": 4,
    "start_time": "2024-10-17T08:04:39.312Z"
   },
   {
    "duration": 162,
    "start_time": "2024-10-17T08:05:54.938Z"
   },
   {
    "duration": 155,
    "start_time": "2024-10-17T08:06:17.783Z"
   },
   {
    "duration": 167,
    "start_time": "2024-10-17T08:06:39.376Z"
   },
   {
    "duration": 151,
    "start_time": "2024-10-17T08:07:11.918Z"
   },
   {
    "duration": 124,
    "start_time": "2024-10-17T08:07:54.766Z"
   },
   {
    "duration": 106,
    "start_time": "2024-10-17T08:09:09.054Z"
   },
   {
    "duration": 38,
    "start_time": "2024-10-17T08:09:47.534Z"
   },
   {
    "duration": 6,
    "start_time": "2024-10-17T08:11:36.439Z"
   },
   {
    "duration": 6,
    "start_time": "2024-10-17T08:12:44.817Z"
   },
   {
    "duration": 9,
    "start_time": "2024-10-17T08:13:45.119Z"
   },
   {
    "duration": 122,
    "start_time": "2024-10-17T08:14:15.280Z"
   },
   {
    "duration": 93,
    "start_time": "2024-10-17T08:14:52.570Z"
   },
   {
    "duration": 15,
    "start_time": "2024-10-17T08:15:55.162Z"
   },
   {
    "duration": 22,
    "start_time": "2024-10-17T08:16:05.065Z"
   },
   {
    "duration": 23,
    "start_time": "2024-10-17T08:16:32.973Z"
   },
   {
    "duration": 9,
    "start_time": "2024-10-17T08:18:53.143Z"
   },
   {
    "duration": 44,
    "start_time": "2024-10-17T08:18:58.299Z"
   },
   {
    "duration": 6,
    "start_time": "2024-10-17T08:19:04.598Z"
   },
   {
    "duration": 103,
    "start_time": "2024-10-17T08:19:14.667Z"
   },
   {
    "duration": 42,
    "start_time": "2024-10-17T08:22:20.719Z"
   },
   {
    "duration": 5,
    "start_time": "2024-10-17T08:30:10.539Z"
   },
   {
    "duration": 99,
    "start_time": "2024-10-17T08:30:25.495Z"
   },
   {
    "duration": 18,
    "start_time": "2024-10-17T08:32:35.625Z"
   },
   {
    "duration": 23,
    "start_time": "2024-10-17T08:32:41.744Z"
   },
   {
    "duration": 24,
    "start_time": "2024-10-17T08:32:48.350Z"
   },
   {
    "duration": 8,
    "start_time": "2024-10-17T08:35:15.852Z"
   },
   {
    "duration": 4,
    "start_time": "2024-10-17T08:35:25.892Z"
   },
   {
    "duration": 5,
    "start_time": "2024-10-17T08:35:59.732Z"
   },
   {
    "duration": 9,
    "start_time": "2024-10-17T08:36:09.933Z"
   },
   {
    "duration": 5,
    "start_time": "2024-10-17T08:36:14.539Z"
   },
   {
    "duration": 6,
    "start_time": "2024-10-17T08:36:24.151Z"
   },
   {
    "duration": 7,
    "start_time": "2024-10-17T08:38:58.194Z"
   },
   {
    "duration": 107,
    "start_time": "2024-10-17T08:39:09.432Z"
   },
   {
    "duration": 7,
    "start_time": "2024-10-17T09:40:02.374Z"
   },
   {
    "duration": 172,
    "start_time": "2024-10-17T09:40:46.199Z"
   },
   {
    "duration": 158,
    "start_time": "2024-10-17T09:41:22.663Z"
   },
   {
    "duration": 135,
    "start_time": "2024-10-17T09:41:50.774Z"
   },
   {
    "duration": 129,
    "start_time": "2024-10-17T09:42:05.873Z"
   },
   {
    "duration": 142,
    "start_time": "2024-10-17T09:42:20.892Z"
   },
   {
    "duration": 135,
    "start_time": "2024-10-17T09:42:32.003Z"
   },
   {
    "duration": 128,
    "start_time": "2024-10-17T09:42:38.536Z"
   },
   {
    "duration": 145,
    "start_time": "2024-10-17T09:42:58.572Z"
   },
   {
    "duration": 130,
    "start_time": "2024-10-17T09:43:44.694Z"
   },
   {
    "duration": 119,
    "start_time": "2024-10-17T09:44:43.948Z"
   },
   {
    "duration": 142,
    "start_time": "2024-10-17T09:46:54.368Z"
   },
   {
    "duration": 98,
    "start_time": "2024-10-17T09:47:33.505Z"
   },
   {
    "duration": 42,
    "start_time": "2024-10-17T09:48:24.848Z"
   },
   {
    "duration": 7,
    "start_time": "2024-10-17T09:48:35.413Z"
   },
   {
    "duration": 9,
    "start_time": "2024-10-17T09:51:28.687Z"
   },
   {
    "duration": 4,
    "start_time": "2024-10-17T09:51:38.275Z"
   },
   {
    "duration": 134,
    "start_time": "2024-10-17T09:52:25.008Z"
   },
   {
    "duration": 100,
    "start_time": "2024-10-17T09:52:44.115Z"
   },
   {
    "duration": 38,
    "start_time": "2024-10-17T09:54:16.485Z"
   },
   {
    "duration": 15,
    "start_time": "2024-10-17T09:54:52.407Z"
   },
   {
    "duration": 19,
    "start_time": "2024-10-17T09:55:01.562Z"
   },
   {
    "duration": 15,
    "start_time": "2024-10-17T09:55:05.769Z"
   },
   {
    "duration": 93,
    "start_time": "2024-10-17T09:55:14.090Z"
   },
   {
    "duration": 6,
    "start_time": "2024-10-17T09:56:14.188Z"
   },
   {
    "duration": 146,
    "start_time": "2024-10-17T09:56:46.941Z"
   },
   {
    "duration": 144,
    "start_time": "2024-10-17T09:56:59.308Z"
   },
   {
    "duration": 143,
    "start_time": "2024-10-17T09:57:11.802Z"
   },
   {
    "duration": 146,
    "start_time": "2024-10-17T09:57:32.666Z"
   },
   {
    "duration": 5,
    "start_time": "2024-10-17T09:58:36.678Z"
   },
   {
    "duration": 7,
    "start_time": "2024-10-17T10:00:05.686Z"
   },
   {
    "duration": 8,
    "start_time": "2024-10-17T10:00:20.677Z"
   },
   {
    "duration": 6,
    "start_time": "2024-10-17T10:00:51.790Z"
   },
   {
    "duration": 7,
    "start_time": "2024-10-17T10:03:10.496Z"
   },
   {
    "duration": 7,
    "start_time": "2024-10-17T10:03:45.886Z"
   },
   {
    "duration": 8,
    "start_time": "2024-10-17T10:03:53.914Z"
   },
   {
    "duration": 37,
    "start_time": "2024-10-17T10:08:02.187Z"
   },
   {
    "duration": 10,
    "start_time": "2024-10-17T10:08:25.277Z"
   },
   {
    "duration": 9,
    "start_time": "2024-10-17T10:10:39.050Z"
   },
   {
    "duration": 9,
    "start_time": "2024-10-17T10:10:46.498Z"
   },
   {
    "duration": 8,
    "start_time": "2024-10-17T10:11:16.829Z"
   },
   {
    "duration": 8,
    "start_time": "2024-10-17T10:11:28.838Z"
   },
   {
    "duration": 7,
    "start_time": "2024-10-17T10:11:58.076Z"
   },
   {
    "duration": 11,
    "start_time": "2024-10-17T10:17:26.205Z"
   },
   {
    "duration": 6,
    "start_time": "2024-10-17T10:20:41.302Z"
   },
   {
    "duration": 50,
    "start_time": "2024-10-17T10:22:44.607Z"
   },
   {
    "duration": 10,
    "start_time": "2024-10-17T10:23:14.998Z"
   },
   {
    "duration": 10,
    "start_time": "2024-10-17T10:23:47.796Z"
   },
   {
    "duration": 46,
    "start_time": "2024-10-17T10:24:00.674Z"
   },
   {
    "duration": 10,
    "start_time": "2024-10-17T10:26:40.608Z"
   },
   {
    "duration": 16,
    "start_time": "2024-10-17T10:27:10.075Z"
   },
   {
    "duration": 12,
    "start_time": "2024-10-17T10:27:31.195Z"
   },
   {
    "duration": 39,
    "start_time": "2024-10-17T10:29:33.323Z"
   },
   {
    "duration": 17,
    "start_time": "2024-10-17T10:30:49.335Z"
   },
   {
    "duration": 37,
    "start_time": "2024-10-17T10:30:55.637Z"
   },
   {
    "duration": 78,
    "start_time": "2024-10-17T10:31:04.620Z"
   },
   {
    "duration": 104,
    "start_time": "2024-10-17T10:31:17.883Z"
   },
   {
    "duration": 47,
    "start_time": "2024-10-17T10:31:35.679Z"
   },
   {
    "duration": 37,
    "start_time": "2024-10-17T10:31:53.446Z"
   },
   {
    "duration": 4,
    "start_time": "2024-10-17T10:32:21.131Z"
   },
   {
    "duration": 48,
    "start_time": "2024-10-17T10:32:45.873Z"
   },
   {
    "duration": 8,
    "start_time": "2024-10-17T10:33:11.485Z"
   },
   {
    "duration": 4,
    "start_time": "2024-10-17T10:33:12.994Z"
   },
   {
    "duration": 10,
    "start_time": "2024-10-17T10:38:04.862Z"
   },
   {
    "duration": 6,
    "start_time": "2024-10-17T10:38:56.322Z"
   },
   {
    "duration": 2377,
    "start_time": "2024-10-17T10:43:17.538Z"
   },
   {
    "duration": 152,
    "start_time": "2024-10-17T10:43:39.704Z"
   },
   {
    "duration": 99,
    "start_time": "2024-10-17T10:46:04.665Z"
   },
   {
    "duration": 94,
    "start_time": "2024-10-17T10:46:14.280Z"
   },
   {
    "duration": 49,
    "start_time": "2024-10-17T11:16:42.031Z"
   },
   {
    "duration": 4,
    "start_time": "2024-10-17T11:17:03.120Z"
   },
   {
    "duration": 8,
    "start_time": "2024-10-17T11:17:19.890Z"
   },
   {
    "duration": 5,
    "start_time": "2024-10-17T11:17:20.693Z"
   },
   {
    "duration": 90,
    "start_time": "2024-10-17T11:17:33.970Z"
   },
   {
    "duration": 8,
    "start_time": "2024-10-17T11:17:53.460Z"
   },
   {
    "duration": 3,
    "start_time": "2024-10-17T11:17:53.994Z"
   },
   {
    "duration": 109,
    "start_time": "2024-10-17T11:17:55.776Z"
   },
   {
    "duration": 127,
    "start_time": "2024-10-17T11:18:52.964Z"
   },
   {
    "duration": 144,
    "start_time": "2024-10-17T11:19:30.466Z"
   },
   {
    "duration": 118,
    "start_time": "2024-10-17T11:19:54.102Z"
   },
   {
    "duration": 142,
    "start_time": "2024-10-17T11:20:02.712Z"
   },
   {
    "duration": 138,
    "start_time": "2024-10-17T11:20:11.615Z"
   },
   {
    "duration": 141,
    "start_time": "2024-10-17T11:20:29.217Z"
   },
   {
    "duration": 129,
    "start_time": "2024-10-17T11:21:28.512Z"
   },
   {
    "duration": 151,
    "start_time": "2024-10-17T11:21:42.690Z"
   },
   {
    "duration": 130,
    "start_time": "2024-10-17T11:21:54.143Z"
   },
   {
    "duration": 136,
    "start_time": "2024-10-17T11:22:28.576Z"
   },
   {
    "duration": 118,
    "start_time": "2024-10-17T11:22:37.838Z"
   },
   {
    "duration": 141,
    "start_time": "2024-10-17T11:22:48.064Z"
   },
   {
    "duration": 147,
    "start_time": "2024-10-17T11:34:49.778Z"
   },
   {
    "duration": 96,
    "start_time": "2024-10-17T11:35:44.089Z"
   },
   {
    "duration": 39,
    "start_time": "2024-10-17T11:36:58.184Z"
   },
   {
    "duration": 5,
    "start_time": "2024-10-17T11:37:17.707Z"
   },
   {
    "duration": 7,
    "start_time": "2024-10-17T11:42:00.097Z"
   },
   {
    "duration": 5,
    "start_time": "2024-10-17T11:42:04.946Z"
   },
   {
    "duration": 1152,
    "start_time": "2024-10-17T11:43:14.706Z"
   },
   {
    "duration": 106,
    "start_time": "2024-10-17T11:43:17.880Z"
   },
   {
    "duration": 15,
    "start_time": "2024-10-17T11:43:19.786Z"
   },
   {
    "duration": 5,
    "start_time": "2024-10-17T11:43:45.582Z"
   },
   {
    "duration": 16,
    "start_time": "2024-10-17T11:44:45.018Z"
   },
   {
    "duration": 2054,
    "start_time": "2024-10-17T11:45:04.405Z"
   },
   {
    "duration": 10,
    "start_time": "2024-10-17T11:49:13.693Z"
   },
   {
    "duration": 5,
    "start_time": "2024-10-17T11:49:21.045Z"
   },
   {
    "duration": 12,
    "start_time": "2024-10-17T11:49:28.083Z"
   },
   {
    "duration": 5,
    "start_time": "2024-10-17T11:50:09.268Z"
   },
   {
    "duration": 5,
    "start_time": "2024-10-17T11:50:09.837Z"
   },
   {
    "duration": 5,
    "start_time": "2024-10-17T11:50:29.693Z"
   },
   {
    "duration": 31,
    "start_time": "2024-10-17T11:50:34.252Z"
   },
   {
    "duration": 6,
    "start_time": "2024-10-17T11:50:34.757Z"
   },
   {
    "duration": 5,
    "start_time": "2024-10-17T11:50:58.229Z"
   },
   {
    "duration": 199,
    "start_time": "2024-10-17T11:51:15.194Z"
   },
   {
    "duration": 9,
    "start_time": "2024-10-17T11:52:05.557Z"
   },
   {
    "duration": 2,
    "start_time": "2024-10-17T11:52:14.762Z"
   },
   {
    "duration": 6,
    "start_time": "2024-10-17T11:52:16.401Z"
   },
   {
    "duration": 7,
    "start_time": "2024-10-17T11:52:20.085Z"
   },
   {
    "duration": 5,
    "start_time": "2024-10-17T11:52:23.924Z"
   },
   {
    "duration": 5,
    "start_time": "2024-10-17T11:52:24.744Z"
   },
   {
    "duration": 8,
    "start_time": "2024-10-17T11:52:31.837Z"
   },
   {
    "duration": 6,
    "start_time": "2024-10-17T11:52:35.170Z"
   },
   {
    "duration": 7,
    "start_time": "2024-10-17T11:52:36.348Z"
   },
   {
    "duration": 6,
    "start_time": "2024-10-17T11:52:36.893Z"
   },
   {
    "duration": 3,
    "start_time": "2024-10-17T11:52:39.141Z"
   },
   {
    "duration": 4,
    "start_time": "2024-10-17T11:52:39.573Z"
   },
   {
    "duration": 3,
    "start_time": "2024-10-17T11:52:40.102Z"
   },
   {
    "duration": 4,
    "start_time": "2024-10-17T11:52:40.413Z"
   },
   {
    "duration": 5,
    "start_time": "2024-10-17T11:52:43.909Z"
   },
   {
    "duration": 7,
    "start_time": "2024-10-17T11:52:45.680Z"
   },
   {
    "duration": 5,
    "start_time": "2024-10-17T11:52:47.156Z"
   },
   {
    "duration": 4,
    "start_time": "2024-10-17T11:52:48.798Z"
   },
   {
    "duration": 5,
    "start_time": "2024-10-17T11:52:49.708Z"
   },
   {
    "duration": 5,
    "start_time": "2024-10-17T11:52:55.153Z"
   },
   {
    "duration": 8,
    "start_time": "2024-10-17T11:52:56.244Z"
   },
   {
    "duration": 7,
    "start_time": "2024-10-17T11:53:11.157Z"
   },
   {
    "duration": 5,
    "start_time": "2024-10-17T11:53:12.357Z"
   },
   {
    "duration": 9,
    "start_time": "2024-10-17T11:53:18.341Z"
   },
   {
    "duration": 4,
    "start_time": "2024-10-17T11:53:50.685Z"
   },
   {
    "duration": 4,
    "start_time": "2024-10-17T11:53:51.140Z"
   },
   {
    "duration": 5,
    "start_time": "2024-10-17T11:53:56.604Z"
   },
   {
    "duration": 6,
    "start_time": "2024-10-17T11:53:57.928Z"
   },
   {
    "duration": 4,
    "start_time": "2024-10-17T11:53:58.900Z"
   },
   {
    "duration": 5,
    "start_time": "2024-10-17T11:53:59.202Z"
   },
   {
    "duration": 5,
    "start_time": "2024-10-17T11:53:59.598Z"
   },
   {
    "duration": 5,
    "start_time": "2024-10-17T11:54:01.184Z"
   },
   {
    "duration": 15,
    "start_time": "2024-10-17T11:54:03.077Z"
   },
   {
    "duration": 3,
    "start_time": "2024-10-17T11:55:09.619Z"
   },
   {
    "duration": 13,
    "start_time": "2024-10-17T11:55:35.657Z"
   },
   {
    "duration": 5,
    "start_time": "2024-10-17T11:55:37.164Z"
   },
   {
    "duration": 8,
    "start_time": "2024-10-17T11:55:38.020Z"
   },
   {
    "duration": 21,
    "start_time": "2024-10-17T11:55:47.524Z"
   },
   {
    "duration": 8,
    "start_time": "2024-10-17T11:55:59.840Z"
   },
   {
    "duration": 21,
    "start_time": "2024-10-17T11:56:04.785Z"
   },
   {
    "duration": 38,
    "start_time": "2024-10-17T11:56:07.552Z"
   },
   {
    "duration": 5,
    "start_time": "2024-10-17T11:56:08.576Z"
   },
   {
    "duration": 18,
    "start_time": "2024-10-17T11:56:09.473Z"
   },
   {
    "duration": 5,
    "start_time": "2024-10-17T11:56:10.533Z"
   },
   {
    "duration": 6,
    "start_time": "2024-10-17T11:56:11.322Z"
   },
   {
    "duration": 5,
    "start_time": "2024-10-17T11:56:12.066Z"
   },
   {
    "duration": 6,
    "start_time": "2024-10-17T11:56:12.541Z"
   },
   {
    "duration": 3,
    "start_time": "2024-10-17T11:56:19.165Z"
   },
   {
    "duration": 282,
    "start_time": "2024-10-17T11:56:19.809Z"
   },
   {
    "duration": 5,
    "start_time": "2024-10-17T11:56:21.720Z"
   },
   {
    "duration": 129,
    "start_time": "2024-10-17T11:56:26.901Z"
   },
   {
    "duration": 102,
    "start_time": "2024-10-17T11:56:31.762Z"
   },
   {
    "duration": 143,
    "start_time": "2024-10-17T11:56:45.797Z"
   },
   {
    "duration": 9,
    "start_time": "2024-10-17T11:56:52.321Z"
   },
   {
    "duration": 133,
    "start_time": "2024-10-17T11:56:53.013Z"
   },
   {
    "duration": 138,
    "start_time": "2024-10-17T11:56:54.208Z"
   },
   {
    "duration": 116,
    "start_time": "2024-10-17T11:56:57.505Z"
   },
   {
    "duration": 194,
    "start_time": "2024-10-17T11:57:00.950Z"
   },
   {
    "duration": 15,
    "start_time": "2024-10-17T11:57:09.524Z"
   },
   {
    "duration": 6,
    "start_time": "2024-10-17T11:57:17.293Z"
   },
   {
    "duration": 134,
    "start_time": "2024-10-17T11:57:17.953Z"
   },
   {
    "duration": 150,
    "start_time": "2024-10-17T11:57:25.044Z"
   },
   {
    "duration": 93,
    "start_time": "2024-10-17T11:57:27.492Z"
   },
   {
    "duration": 117,
    "start_time": "2024-10-17T11:57:31.968Z"
   },
   {
    "duration": 160,
    "start_time": "2024-10-17T11:57:32.720Z"
   },
   {
    "duration": 6,
    "start_time": "2024-10-17T11:57:33.253Z"
   },
   {
    "duration": 5,
    "start_time": "2024-10-17T11:57:35.129Z"
   },
   {
    "duration": 5,
    "start_time": "2024-10-17T11:57:36.272Z"
   },
   {
    "duration": 3,
    "start_time": "2024-10-17T11:57:36.987Z"
   },
   {
    "duration": 142,
    "start_time": "2024-10-17T11:57:38.220Z"
   },
   {
    "duration": 97,
    "start_time": "2024-10-17T11:57:39.080Z"
   },
   {
    "duration": 5,
    "start_time": "2024-10-17T11:57:39.648Z"
   },
   {
    "duration": 5,
    "start_time": "2024-10-17T11:57:41.544Z"
   },
   {
    "duration": 132,
    "start_time": "2024-10-17T11:57:42.548Z"
   },
   {
    "duration": 85,
    "start_time": "2024-10-17T11:57:46.168Z"
   },
   {
    "duration": 5,
    "start_time": "2024-10-17T11:57:48.250Z"
   },
   {
    "duration": 38,
    "start_time": "2024-10-17T11:57:49.281Z"
   },
   {
    "duration": 5,
    "start_time": "2024-10-17T11:57:52.233Z"
   },
   {
    "duration": 104,
    "start_time": "2024-10-17T11:57:53.481Z"
   },
   {
    "duration": 6,
    "start_time": "2024-10-17T11:57:55.922Z"
   },
   {
    "duration": 5,
    "start_time": "2024-10-17T11:57:56.377Z"
   },
   {
    "duration": 100,
    "start_time": "2024-10-17T11:57:56.689Z"
   },
   {
    "duration": 210,
    "start_time": "2024-10-17T11:57:57.401Z"
   },
   {
    "duration": 118,
    "start_time": "2024-10-17T11:58:00.343Z"
   },
   {
    "duration": 132,
    "start_time": "2024-10-17T11:58:01.333Z"
   },
   {
    "duration": 89,
    "start_time": "2024-10-17T11:58:01.854Z"
   },
   {
    "duration": 5,
    "start_time": "2024-10-17T11:58:04.744Z"
   },
   {
    "duration": 7,
    "start_time": "2024-10-17T11:58:06.719Z"
   },
   {
    "duration": 4,
    "start_time": "2024-10-17T11:58:07.076Z"
   },
   {
    "duration": 125,
    "start_time": "2024-10-17T11:58:11.272Z"
   },
   {
    "duration": 94,
    "start_time": "2024-10-17T11:58:12.157Z"
   },
   {
    "duration": 6,
    "start_time": "2024-10-17T11:58:15.092Z"
   },
   {
    "duration": 139,
    "start_time": "2024-10-17T11:58:15.977Z"
   },
   {
    "duration": 99,
    "start_time": "2024-10-17T11:58:18.684Z"
   },
   {
    "duration": 8,
    "start_time": "2024-10-17T11:58:25.732Z"
   },
   {
    "duration": 120,
    "start_time": "2024-10-17T11:58:26.183Z"
   },
   {
    "duration": 137,
    "start_time": "2024-10-17T11:58:29.144Z"
   },
   {
    "duration": 91,
    "start_time": "2024-10-17T11:58:31.872Z"
   },
   {
    "duration": 3,
    "start_time": "2024-10-17T11:58:32.656Z"
   },
   {
    "duration": 3,
    "start_time": "2024-10-17T11:58:33.161Z"
   },
   {
    "duration": 1200,
    "start_time": "2024-10-17T11:59:15.581Z"
   },
   {
    "duration": 102,
    "start_time": "2024-10-17T11:59:19.296Z"
   },
   {
    "duration": 5,
    "start_time": "2024-10-17T11:59:20.614Z"
   },
   {
    "duration": 16,
    "start_time": "2024-10-17T11:59:24.951Z"
   },
   {
    "duration": 2039,
    "start_time": "2024-10-17T11:59:30.152Z"
   },
   {
    "duration": 10,
    "start_time": "2024-10-17T11:59:40.791Z"
   },
   {
    "duration": 5,
    "start_time": "2024-10-17T11:59:47.418Z"
   },
   {
    "duration": 10,
    "start_time": "2024-10-17T12:00:07.712Z"
   },
   {
    "duration": 5,
    "start_time": "2024-10-17T12:00:11.528Z"
   },
   {
    "duration": 5,
    "start_time": "2024-10-17T12:00:12.384Z"
   },
   {
    "duration": 4,
    "start_time": "2024-10-17T12:00:17.821Z"
   },
   {
    "duration": 9,
    "start_time": "2024-10-17T12:00:18.969Z"
   },
   {
    "duration": 5,
    "start_time": "2024-10-17T12:00:19.369Z"
   },
   {
    "duration": 5,
    "start_time": "2024-10-17T12:00:24.515Z"
   },
   {
    "duration": 5,
    "start_time": "2024-10-17T12:33:06.179Z"
   },
   {
    "duration": 7,
    "start_time": "2024-10-17T12:33:56.725Z"
   },
   {
    "duration": 6,
    "start_time": "2024-10-17T12:34:40.374Z"
   },
   {
    "duration": 105,
    "start_time": "2024-10-17T12:34:56.721Z"
   },
   {
    "duration": 11,
    "start_time": "2024-10-17T12:35:07.947Z"
   },
   {
    "duration": 5,
    "start_time": "2024-10-17T12:35:51.354Z"
   },
   {
    "duration": 7,
    "start_time": "2024-10-17T12:36:21.761Z"
   },
   {
    "duration": 42,
    "start_time": "2024-10-17T12:36:39.693Z"
   },
   {
    "duration": 49,
    "start_time": "2024-10-17T12:36:54.159Z"
   },
   {
    "duration": 9,
    "start_time": "2024-10-17T12:41:39.086Z"
   },
   {
    "duration": 11,
    "start_time": "2024-10-17T12:41:59.761Z"
   },
   {
    "duration": 15,
    "start_time": "2024-10-17T12:42:25.957Z"
   },
   {
    "duration": 6,
    "start_time": "2024-10-17T12:42:30.391Z"
   },
   {
    "duration": 10,
    "start_time": "2024-10-17T12:42:47.965Z"
   },
   {
    "duration": 150,
    "start_time": "2024-10-17T12:43:46.928Z"
   },
   {
    "duration": 10,
    "start_time": "2024-10-17T12:44:51.569Z"
   },
   {
    "duration": 10,
    "start_time": "2024-10-17T12:52:15.855Z"
   },
   {
    "duration": 6,
    "start_time": "2024-10-17T12:52:37.521Z"
   },
   {
    "duration": 12,
    "start_time": "2024-10-17T12:52:50.005Z"
   },
   {
    "duration": 5,
    "start_time": "2024-10-17T12:56:14.467Z"
   },
   {
    "duration": 6,
    "start_time": "2024-10-17T13:01:00.094Z"
   },
   {
    "duration": 5,
    "start_time": "2024-10-17T13:01:09.425Z"
   },
   {
    "duration": 7,
    "start_time": "2024-10-17T13:03:38.296Z"
   },
   {
    "duration": 8,
    "start_time": "2024-10-17T13:03:56.371Z"
   },
   {
    "duration": 10,
    "start_time": "2024-10-17T13:04:21.535Z"
   },
   {
    "duration": 13,
    "start_time": "2024-10-17T13:10:51.511Z"
   },
   {
    "duration": 10,
    "start_time": "2024-10-17T13:12:46.458Z"
   },
   {
    "duration": 9,
    "start_time": "2024-10-17T13:13:06.923Z"
   },
   {
    "duration": 20,
    "start_time": "2024-10-17T13:17:13.837Z"
   },
   {
    "duration": 13,
    "start_time": "2024-10-17T13:17:45.810Z"
   },
   {
    "duration": 15,
    "start_time": "2024-10-17T13:18:40.162Z"
   },
   {
    "duration": 4,
    "start_time": "2024-10-17T13:20:41.582Z"
   },
   {
    "duration": 6,
    "start_time": "2024-10-17T13:22:35.980Z"
   },
   {
    "duration": 6,
    "start_time": "2024-10-17T13:22:40.996Z"
   },
   {
    "duration": 7,
    "start_time": "2024-10-17T13:22:49.882Z"
   },
   {
    "duration": 5,
    "start_time": "2024-10-17T13:22:58.788Z"
   },
   {
    "duration": 7,
    "start_time": "2024-10-17T13:23:10.227Z"
   },
   {
    "duration": 7,
    "start_time": "2024-10-17T13:23:45.643Z"
   },
   {
    "duration": 7,
    "start_time": "2024-10-17T13:23:52.916Z"
   },
   {
    "duration": 7,
    "start_time": "2024-10-17T13:23:54.431Z"
   },
   {
    "duration": 4,
    "start_time": "2024-10-17T13:25:31.655Z"
   },
   {
    "duration": 4,
    "start_time": "2024-10-17T13:25:42.154Z"
   },
   {
    "duration": 3,
    "start_time": "2024-10-17T13:25:45.543Z"
   },
   {
    "duration": 4,
    "start_time": "2024-10-17T13:25:46.468Z"
   },
   {
    "duration": 6,
    "start_time": "2024-10-17T13:27:38.391Z"
   },
   {
    "duration": 5,
    "start_time": "2024-10-17T13:27:42.186Z"
   },
   {
    "duration": 8,
    "start_time": "2024-10-17T13:27:51.530Z"
   },
   {
    "duration": 3,
    "start_time": "2024-10-17T13:28:00.146Z"
   },
   {
    "duration": 4,
    "start_time": "2024-10-17T13:28:01.259Z"
   },
   {
    "duration": 5,
    "start_time": "2024-10-17T13:29:06.245Z"
   },
   {
    "duration": 5,
    "start_time": "2024-10-17T13:29:09.584Z"
   },
   {
    "duration": 8,
    "start_time": "2024-10-17T13:30:28.173Z"
   },
   {
    "duration": 8,
    "start_time": "2024-10-17T13:30:51.819Z"
   },
   {
    "duration": 9,
    "start_time": "2024-10-17T13:31:17.102Z"
   },
   {
    "duration": 5,
    "start_time": "2024-10-17T13:34:19.530Z"
   },
   {
    "duration": 9,
    "start_time": "2024-10-17T13:34:23.930Z"
   },
   {
    "duration": 9,
    "start_time": "2024-10-17T13:35:08.199Z"
   },
   {
    "duration": 5,
    "start_time": "2024-10-17T13:35:14.831Z"
   },
   {
    "duration": 10,
    "start_time": "2024-10-17T13:35:20.943Z"
   },
   {
    "duration": 4,
    "start_time": "2024-10-17T13:35:22.914Z"
   },
   {
    "duration": 4,
    "start_time": "2024-10-17T13:35:52.383Z"
   },
   {
    "duration": 5,
    "start_time": "2024-10-17T13:36:26.935Z"
   },
   {
    "duration": 10,
    "start_time": "2024-10-17T13:36:56.542Z"
   },
   {
    "duration": 4,
    "start_time": "2024-10-17T13:37:03.222Z"
   },
   {
    "duration": 6,
    "start_time": "2024-10-17T13:37:04.141Z"
   },
   {
    "duration": 5,
    "start_time": "2024-10-17T13:37:08.118Z"
   },
   {
    "duration": 6,
    "start_time": "2024-10-17T14:01:44.401Z"
   },
   {
    "duration": 5,
    "start_time": "2024-10-17T14:01:55.219Z"
   },
   {
    "duration": 3,
    "start_time": "2024-10-17T14:03:41.464Z"
   },
   {
    "duration": 3,
    "start_time": "2024-10-17T14:04:04.132Z"
   },
   {
    "duration": 5,
    "start_time": "2024-10-17T14:04:04.744Z"
   },
   {
    "duration": 5,
    "start_time": "2024-10-17T14:04:05.791Z"
   },
   {
    "duration": 5,
    "start_time": "2024-10-17T14:04:10.906Z"
   },
   {
    "duration": 4,
    "start_time": "2024-10-17T14:04:12.238Z"
   },
   {
    "duration": 5,
    "start_time": "2024-10-17T14:04:14.091Z"
   },
   {
    "duration": 5,
    "start_time": "2024-10-17T14:04:20.787Z"
   },
   {
    "duration": 6,
    "start_time": "2024-10-17T14:04:28.818Z"
   },
   {
    "duration": 4,
    "start_time": "2024-10-17T14:04:53.057Z"
   },
   {
    "duration": 15,
    "start_time": "2024-10-17T14:06:02.927Z"
   },
   {
    "duration": 5,
    "start_time": "2024-10-17T14:06:15.263Z"
   },
   {
    "duration": 14,
    "start_time": "2024-10-17T14:06:22.795Z"
   },
   {
    "duration": 24,
    "start_time": "2024-10-17T14:06:27.419Z"
   },
   {
    "duration": 8,
    "start_time": "2024-10-17T14:06:30.575Z"
   },
   {
    "duration": 13,
    "start_time": "2024-10-17T14:06:41.602Z"
   },
   {
    "duration": 41,
    "start_time": "2024-10-17T14:06:47.195Z"
   },
   {
    "duration": 4,
    "start_time": "2024-10-17T14:06:51.451Z"
   },
   {
    "duration": 20,
    "start_time": "2024-10-17T14:07:06.984Z"
   },
   {
    "duration": 4,
    "start_time": "2024-10-17T14:07:14.844Z"
   },
   {
    "duration": 6,
    "start_time": "2024-10-17T14:07:18.676Z"
   },
   {
    "duration": 6,
    "start_time": "2024-10-17T14:07:19.707Z"
   },
   {
    "duration": 5,
    "start_time": "2024-10-17T14:07:21.839Z"
   },
   {
    "duration": 3,
    "start_time": "2024-10-17T14:07:32.131Z"
   },
   {
    "duration": 292,
    "start_time": "2024-10-17T14:07:34.004Z"
   },
   {
    "duration": 6,
    "start_time": "2024-10-17T14:07:36.967Z"
   },
   {
    "duration": 1340,
    "start_time": "2024-10-17T17:00:12.639Z"
   },
   {
    "duration": 181,
    "start_time": "2024-10-17T17:00:14.049Z"
   },
   {
    "duration": 5,
    "start_time": "2024-10-17T17:00:15.120Z"
   },
   {
    "duration": 17,
    "start_time": "2024-10-17T17:00:17.320Z"
   },
   {
    "duration": 1992,
    "start_time": "2024-10-17T17:00:18.639Z"
   },
   {
    "duration": 11,
    "start_time": "2024-10-17T17:00:20.634Z"
   },
   {
    "duration": 5,
    "start_time": "2024-10-17T17:00:20.647Z"
   },
   {
    "duration": 10,
    "start_time": "2024-10-17T17:00:21.427Z"
   },
   {
    "duration": 5,
    "start_time": "2024-10-17T17:00:21.806Z"
   },
   {
    "duration": 5,
    "start_time": "2024-10-17T17:00:21.975Z"
   },
   {
    "duration": 4,
    "start_time": "2024-10-17T17:00:25.109Z"
   },
   {
    "duration": 10,
    "start_time": "2024-10-17T17:00:25.711Z"
   },
   {
    "duration": 4,
    "start_time": "2024-10-17T17:00:25.952Z"
   },
   {
    "duration": 4,
    "start_time": "2024-10-17T17:00:27.984Z"
   },
   {
    "duration": 10,
    "start_time": "2024-10-17T17:00:31.449Z"
   },
   {
    "duration": 5,
    "start_time": "2024-10-17T17:00:32.258Z"
   },
   {
    "duration": 5,
    "start_time": "2024-10-17T17:00:32.647Z"
   },
   {
    "duration": 5,
    "start_time": "2024-10-17T17:00:34.871Z"
   },
   {
    "duration": 5,
    "start_time": "2024-10-17T17:00:39.379Z"
   },
   {
    "duration": 7,
    "start_time": "2024-10-17T17:00:39.607Z"
   },
   {
    "duration": 7,
    "start_time": "2024-10-17T17:00:40.586Z"
   },
   {
    "duration": 5,
    "start_time": "2024-10-17T17:00:40.981Z"
   },
   {
    "duration": 7,
    "start_time": "2024-10-17T17:00:41.475Z"
   },
   {
    "duration": 6,
    "start_time": "2024-10-17T17:00:41.932Z"
   },
   {
    "duration": 8,
    "start_time": "2024-10-17T17:00:42.491Z"
   },
   {
    "duration": 6,
    "start_time": "2024-10-17T17:00:42.627Z"
   },
   {
    "duration": 4,
    "start_time": "2024-10-17T17:00:50.319Z"
   },
   {
    "duration": 4,
    "start_time": "2024-10-17T17:00:50.624Z"
   },
   {
    "duration": 4,
    "start_time": "2024-10-17T17:00:50.820Z"
   },
   {
    "duration": 4,
    "start_time": "2024-10-17T17:00:51.185Z"
   },
   {
    "duration": 6,
    "start_time": "2024-10-17T17:00:52.095Z"
   },
   {
    "duration": 5,
    "start_time": "2024-10-17T17:00:53.251Z"
   },
   {
    "duration": 7,
    "start_time": "2024-10-17T17:00:56.895Z"
   },
   {
    "duration": 3,
    "start_time": "2024-10-17T17:01:03.859Z"
   },
   {
    "duration": 5,
    "start_time": "2024-10-17T17:01:04.226Z"
   },
   {
    "duration": 5,
    "start_time": "2024-10-17T17:01:04.667Z"
   },
   {
    "duration": 5,
    "start_time": "2024-10-17T17:01:07.777Z"
   },
   {
    "duration": 9,
    "start_time": "2024-10-17T17:01:14.964Z"
   },
   {
    "duration": 8,
    "start_time": "2024-10-17T17:01:21.371Z"
   },
   {
    "duration": 5,
    "start_time": "2024-10-17T17:01:22.323Z"
   },
   {
    "duration": 10,
    "start_time": "2024-10-17T17:01:24.115Z"
   },
   {
    "duration": 3,
    "start_time": "2024-10-17T17:01:25.123Z"
   },
   {
    "duration": 4,
    "start_time": "2024-10-17T17:01:25.381Z"
   },
   {
    "duration": 5,
    "start_time": "2024-10-17T17:01:26.131Z"
   },
   {
    "duration": 4,
    "start_time": "2024-10-17T17:01:28.189Z"
   },
   {
    "duration": 3,
    "start_time": "2024-10-17T17:01:32.059Z"
   },
   {
    "duration": 5,
    "start_time": "2024-10-17T17:01:32.436Z"
   },
   {
    "duration": 5,
    "start_time": "2024-10-17T17:01:35.987Z"
   },
   {
    "duration": 4,
    "start_time": "2024-10-17T17:01:42.224Z"
   },
   {
    "duration": 4,
    "start_time": "2024-10-17T17:01:44.647Z"
   },
   {
    "duration": 13,
    "start_time": "2024-10-17T17:01:52.791Z"
   },
   {
    "duration": 4,
    "start_time": "2024-10-17T17:01:54.427Z"
   },
   {
    "duration": 8,
    "start_time": "2024-10-17T17:01:57.875Z"
   },
   {
    "duration": 23,
    "start_time": "2024-10-17T17:02:02.109Z"
   },
   {
    "duration": 7,
    "start_time": "2024-10-17T17:02:03.897Z"
   },
   {
    "duration": 12,
    "start_time": "2024-10-17T17:02:06.067Z"
   },
   {
    "duration": 41,
    "start_time": "2024-10-17T17:02:06.767Z"
   },
   {
    "duration": 7,
    "start_time": "2024-10-17T17:02:07.275Z"
   },
   {
    "duration": 20,
    "start_time": "2024-10-17T17:02:13.104Z"
   },
   {
    "duration": 5,
    "start_time": "2024-10-17T17:02:20.301Z"
   },
   {
    "duration": 6,
    "start_time": "2024-10-17T17:02:20.797Z"
   },
   {
    "duration": 6,
    "start_time": "2024-10-17T17:02:21.156Z"
   },
   {
    "duration": 5,
    "start_time": "2024-10-17T17:02:21.348Z"
   },
   {
    "duration": 3,
    "start_time": "2024-10-17T17:02:22.187Z"
   },
   {
    "duration": 293,
    "start_time": "2024-10-17T17:02:22.677Z"
   },
   {
    "duration": 4,
    "start_time": "2024-10-17T17:02:23.627Z"
   },
   {
    "duration": 109,
    "start_time": "2024-10-17T17:02:28.527Z"
   },
   {
    "duration": 83,
    "start_time": "2024-10-17T17:02:40.671Z"
   },
   {
    "duration": 140,
    "start_time": "2024-10-17T17:03:07.683Z"
   },
   {
    "duration": 89,
    "start_time": "2024-10-17T17:06:23.940Z"
   },
   {
    "duration": 10,
    "start_time": "2024-10-17T17:08:01.544Z"
   },
   {
    "duration": 89,
    "start_time": "2024-10-17T17:17:28.815Z"
   },
   {
    "duration": 224,
    "start_time": "2024-10-17T17:17:35.210Z"
   },
   {
    "duration": 89,
    "start_time": "2024-10-17T17:17:55.584Z"
   },
   {
    "duration": 113,
    "start_time": "2024-10-17T17:18:05.764Z"
   },
   {
    "duration": 84,
    "start_time": "2024-10-17T17:18:40.367Z"
   },
   {
    "duration": 111,
    "start_time": "2024-10-17T17:19:27.317Z"
   },
   {
    "duration": 84,
    "start_time": "2024-10-17T17:19:35.929Z"
   },
   {
    "duration": 138,
    "start_time": "2024-10-17T17:20:00.007Z"
   },
   {
    "duration": 148,
    "start_time": "2024-10-17T17:20:17.745Z"
   },
   {
    "duration": 140,
    "start_time": "2024-10-17T17:20:36.536Z"
   },
   {
    "duration": 129,
    "start_time": "2024-10-17T17:20:42.159Z"
   },
   {
    "duration": 139,
    "start_time": "2024-10-17T17:20:51.492Z"
   },
   {
    "duration": 166,
    "start_time": "2024-10-17T17:20:57.693Z"
   },
   {
    "duration": 124,
    "start_time": "2024-10-17T17:21:08.516Z"
   },
   {
    "duration": 12,
    "start_time": "2024-10-17T17:25:14.499Z"
   },
   {
    "duration": 7,
    "start_time": "2024-10-17T17:25:27.521Z"
   },
   {
    "duration": 6,
    "start_time": "2024-10-17T17:25:49.505Z"
   },
   {
    "duration": 6,
    "start_time": "2024-10-17T17:26:03.208Z"
   },
   {
    "duration": 5,
    "start_time": "2024-10-17T17:26:44.368Z"
   },
   {
    "duration": 270,
    "start_time": "2024-10-17T17:28:05.236Z"
   },
   {
    "duration": 4,
    "start_time": "2024-10-17T17:28:28.000Z"
   },
   {
    "duration": 133,
    "start_time": "2024-10-17T17:28:39.697Z"
   },
   {
    "duration": 160,
    "start_time": "2024-10-17T17:29:05.413Z"
   },
   {
    "duration": 10,
    "start_time": "2024-10-17T17:29:29.126Z"
   },
   {
    "duration": 128,
    "start_time": "2024-10-17T17:29:38.060Z"
   },
   {
    "duration": 145,
    "start_time": "2024-10-17T17:29:53.270Z"
   },
   {
    "duration": 95,
    "start_time": "2024-10-17T17:30:45.493Z"
   },
   {
    "duration": 7,
    "start_time": "2024-10-17T17:31:41.186Z"
   },
   {
    "duration": 3,
    "start_time": "2024-10-17T17:31:51.577Z"
   },
   {
    "duration": 4,
    "start_time": "2024-10-17T17:33:13.004Z"
   },
   {
    "duration": 8,
    "start_time": "2024-10-17T17:33:16.055Z"
   },
   {
    "duration": 10,
    "start_time": "2024-10-17T17:33:17.118Z"
   },
   {
    "duration": 114,
    "start_time": "2024-10-17T17:33:38.921Z"
   },
   {
    "duration": 4,
    "start_time": "2024-10-17T17:34:17.571Z"
   },
   {
    "duration": 129,
    "start_time": "2024-10-17T17:34:29.926Z"
   },
   {
    "duration": 8,
    "start_time": "2024-10-17T17:36:11.807Z"
   },
   {
    "duration": 8,
    "start_time": "2024-10-17T17:38:07.331Z"
   },
   {
    "duration": 5,
    "start_time": "2024-10-17T17:38:15.915Z"
   },
   {
    "duration": 7,
    "start_time": "2024-10-17T17:38:22.105Z"
   },
   {
    "duration": 7,
    "start_time": "2024-10-17T17:38:41.539Z"
   },
   {
    "duration": 132,
    "start_time": "2024-10-17T17:39:06.675Z"
   },
   {
    "duration": 4,
    "start_time": "2024-10-17T17:39:24.164Z"
   },
   {
    "duration": 98,
    "start_time": "2024-10-17T17:39:39.966Z"
   },
   {
    "duration": 9,
    "start_time": "2024-10-17T17:40:21.097Z"
   },
   {
    "duration": 100,
    "start_time": "2024-10-17T17:41:53.631Z"
   },
   {
    "duration": 4,
    "start_time": "2024-10-17T17:41:55.781Z"
   },
   {
    "duration": 16,
    "start_time": "2024-10-17T17:41:56.329Z"
   },
   {
    "duration": 1932,
    "start_time": "2024-10-17T17:41:57.878Z"
   },
   {
    "duration": 10,
    "start_time": "2024-10-17T17:42:03.926Z"
   },
   {
    "duration": 5,
    "start_time": "2024-10-17T17:42:04.997Z"
   },
   {
    "duration": 9,
    "start_time": "2024-10-17T17:42:06.585Z"
   },
   {
    "duration": 4,
    "start_time": "2024-10-17T17:42:08.964Z"
   },
   {
    "duration": 5,
    "start_time": "2024-10-17T17:42:09.469Z"
   },
   {
    "duration": 5,
    "start_time": "2024-10-17T17:42:12.233Z"
   },
   {
    "duration": 8,
    "start_time": "2024-10-17T17:42:14.475Z"
   },
   {
    "duration": 5,
    "start_time": "2024-10-17T17:42:14.917Z"
   },
   {
    "duration": 5,
    "start_time": "2024-10-17T17:42:17.640Z"
   },
   {
    "duration": 13,
    "start_time": "2024-10-17T17:42:29.576Z"
   },
   {
    "duration": 5,
    "start_time": "2024-10-17T17:42:42.854Z"
   },
   {
    "duration": 5,
    "start_time": "2024-10-17T17:43:02.956Z"
   },
   {
    "duration": 4,
    "start_time": "2024-10-17T17:46:13.612Z"
   },
   {
    "duration": 16,
    "start_time": "2024-10-17T17:49:04.046Z"
   },
   {
    "duration": 4,
    "start_time": "2024-10-17T17:49:20.586Z"
   },
   {
    "duration": 5,
    "start_time": "2024-10-17T17:49:35.985Z"
   },
   {
    "duration": 4,
    "start_time": "2024-10-17T17:49:45.101Z"
   },
   {
    "duration": 92,
    "start_time": "2024-10-17T17:49:53.632Z"
   },
   {
    "duration": 4,
    "start_time": "2024-10-17T17:49:54.091Z"
   },
   {
    "duration": 15,
    "start_time": "2024-10-17T17:49:54.424Z"
   },
   {
    "duration": 1802,
    "start_time": "2024-10-17T17:49:54.892Z"
   },
   {
    "duration": 9,
    "start_time": "2024-10-17T17:49:56.696Z"
   },
   {
    "duration": 13,
    "start_time": "2024-10-17T17:49:56.706Z"
   },
   {
    "duration": 9,
    "start_time": "2024-10-17T17:49:56.720Z"
   },
   {
    "duration": 5,
    "start_time": "2024-10-17T17:49:57.265Z"
   },
   {
    "duration": 4,
    "start_time": "2024-10-17T17:49:57.792Z"
   },
   {
    "duration": 5,
    "start_time": "2024-10-17T17:49:58.504Z"
   },
   {
    "duration": 6,
    "start_time": "2024-10-17T17:49:59.319Z"
   },
   {
    "duration": 5,
    "start_time": "2024-10-17T17:50:00.525Z"
   },
   {
    "duration": 4,
    "start_time": "2024-10-17T17:50:01.992Z"
   },
   {
    "duration": 10,
    "start_time": "2024-10-17T17:50:03.415Z"
   },
   {
    "duration": 4,
    "start_time": "2024-10-17T17:50:05.801Z"
   },
   {
    "duration": 3,
    "start_time": "2024-10-17T17:50:06.137Z"
   },
   {
    "duration": 5,
    "start_time": "2024-10-17T17:50:06.434Z"
   },
   {
    "duration": 5,
    "start_time": "2024-10-17T17:50:06.690Z"
   },
   {
    "duration": 5,
    "start_time": "2024-10-17T17:50:08.573Z"
   },
   {
    "duration": 6,
    "start_time": "2024-10-17T17:50:12.401Z"
   },
   {
    "duration": 7,
    "start_time": "2024-10-17T17:50:33.185Z"
   },
   {
    "duration": 5,
    "start_time": "2024-10-17T17:50:34.767Z"
   },
   {
    "duration": 4,
    "start_time": "2024-10-17T17:50:36.720Z"
   },
   {
    "duration": 8,
    "start_time": "2024-10-17T17:50:37.720Z"
   },
   {
    "duration": 7,
    "start_time": "2024-10-17T17:50:38.312Z"
   },
   {
    "duration": 7,
    "start_time": "2024-10-17T17:50:41.204Z"
   },
   {
    "duration": 7,
    "start_time": "2024-10-17T17:50:41.752Z"
   },
   {
    "duration": 4,
    "start_time": "2024-10-17T17:50:46.129Z"
   },
   {
    "duration": 5,
    "start_time": "2024-10-17T17:50:46.648Z"
   },
   {
    "duration": 4,
    "start_time": "2024-10-17T17:50:47.356Z"
   },
   {
    "duration": 7,
    "start_time": "2024-10-17T17:50:57.639Z"
   },
   {
    "duration": 5,
    "start_time": "2024-10-17T17:51:09.185Z"
   },
   {
    "duration": 6,
    "start_time": "2024-10-17T17:51:22.599Z"
   },
   {
    "duration": 4,
    "start_time": "2024-10-17T17:51:30.890Z"
   },
   {
    "duration": 1431,
    "start_time": "2024-10-18T03:45:14.079Z"
   },
   {
    "duration": 169,
    "start_time": "2024-10-18T03:45:17.093Z"
   },
   {
    "duration": 5,
    "start_time": "2024-10-18T03:45:18.022Z"
   },
   {
    "duration": 17,
    "start_time": "2024-10-18T03:45:19.625Z"
   },
   {
    "duration": 2086,
    "start_time": "2024-10-18T03:45:29.874Z"
   },
   {
    "duration": 10,
    "start_time": "2024-10-18T03:45:42.409Z"
   },
   {
    "duration": 5,
    "start_time": "2024-10-18T03:53:47.200Z"
   },
   {
    "duration": 12,
    "start_time": "2024-10-18T03:54:00.076Z"
   },
   {
    "duration": 6,
    "start_time": "2024-10-18T03:54:01.960Z"
   },
   {
    "duration": 5,
    "start_time": "2024-10-18T03:54:04.585Z"
   },
   {
    "duration": 5,
    "start_time": "2024-10-18T03:54:30.340Z"
   },
   {
    "duration": 10,
    "start_time": "2024-10-18T03:54:33.656Z"
   },
   {
    "duration": 6,
    "start_time": "2024-10-18T03:54:34.005Z"
   },
   {
    "duration": 4,
    "start_time": "2024-10-18T03:54:46.537Z"
   },
   {
    "duration": 10,
    "start_time": "2024-10-18T03:54:49.588Z"
   },
   {
    "duration": 5,
    "start_time": "2024-10-18T03:55:33.752Z"
   },
   {
    "duration": 4,
    "start_time": "2024-10-18T03:55:38.995Z"
   },
   {
    "duration": 7,
    "start_time": "2024-10-18T03:55:40.416Z"
   },
   {
    "duration": 7,
    "start_time": "2024-10-18T03:55:41.569Z"
   },
   {
    "duration": 6,
    "start_time": "2024-10-18T03:55:45.000Z"
   },
   {
    "duration": 101,
    "start_time": "2024-10-18T03:56:46.676Z"
   },
   {
    "duration": 4,
    "start_time": "2024-10-18T03:56:47.684Z"
   },
   {
    "duration": 16,
    "start_time": "2024-10-18T03:56:48.776Z"
   },
   {
    "duration": 2010,
    "start_time": "2024-10-18T03:56:50.146Z"
   },
   {
    "duration": 12,
    "start_time": "2024-10-18T03:56:52.254Z"
   },
   {
    "duration": 5,
    "start_time": "2024-10-18T03:56:53.959Z"
   },
   {
    "duration": 11,
    "start_time": "2024-10-18T03:56:54.512Z"
   },
   {
    "duration": 5,
    "start_time": "2024-10-18T03:56:55.347Z"
   },
   {
    "duration": 6,
    "start_time": "2024-10-18T03:56:56.076Z"
   },
   {
    "duration": 5,
    "start_time": "2024-10-18T03:56:59.839Z"
   },
   {
    "duration": 8,
    "start_time": "2024-10-18T03:57:00.751Z"
   },
   {
    "duration": 5,
    "start_time": "2024-10-18T03:57:01.168Z"
   },
   {
    "duration": 5,
    "start_time": "2024-10-18T03:57:02.487Z"
   },
   {
    "duration": 11,
    "start_time": "2024-10-18T03:57:04.559Z"
   },
   {
    "duration": 5,
    "start_time": "2024-10-18T03:57:07.307Z"
   },
   {
    "duration": 3,
    "start_time": "2024-10-18T03:57:07.833Z"
   },
   {
    "duration": 7,
    "start_time": "2024-10-18T03:57:08.379Z"
   },
   {
    "duration": 5,
    "start_time": "2024-10-18T03:57:16.660Z"
   },
   {
    "duration": 6,
    "start_time": "2024-10-18T03:57:34.891Z"
   },
   {
    "duration": 8,
    "start_time": "2024-10-18T03:57:35.415Z"
   },
   {
    "duration": 7,
    "start_time": "2024-10-18T03:57:39.087Z"
   },
   {
    "duration": 6,
    "start_time": "2024-10-18T03:57:41.139Z"
   },
   {
    "duration": 8,
    "start_time": "2024-10-18T03:57:46.115Z"
   },
   {
    "duration": 6,
    "start_time": "2024-10-18T03:57:46.825Z"
   },
   {
    "duration": 9,
    "start_time": "2024-10-18T03:57:50.547Z"
   },
   {
    "duration": 7,
    "start_time": "2024-10-18T03:57:51.312Z"
   },
   {
    "duration": 4,
    "start_time": "2024-10-18T03:57:58.100Z"
   },
   {
    "duration": 4,
    "start_time": "2024-10-18T03:57:58.668Z"
   },
   {
    "duration": 3,
    "start_time": "2024-10-18T03:57:59.385Z"
   },
   {
    "duration": 5,
    "start_time": "2024-10-18T03:58:00.148Z"
   },
   {
    "duration": 6,
    "start_time": "2024-10-18T03:58:21.170Z"
   },
   {
    "duration": 5,
    "start_time": "2024-10-18T03:59:06.204Z"
   },
   {
    "duration": 6,
    "start_time": "2024-10-18T03:59:14.139Z"
   },
   {
    "duration": 5,
    "start_time": "2024-10-18T03:59:19.027Z"
   },
   {
    "duration": 8,
    "start_time": "2024-10-18T03:59:20.191Z"
   },
   {
    "duration": 5,
    "start_time": "2024-10-18T03:59:23.767Z"
   },
   {
    "duration": 5,
    "start_time": "2024-10-18T03:59:24.195Z"
   },
   {
    "duration": 4,
    "start_time": "2024-10-18T03:59:25.348Z"
   },
   {
    "duration": 5,
    "start_time": "2024-10-18T03:59:26.834Z"
   },
   {
    "duration": 8,
    "start_time": "2024-10-18T03:59:27.910Z"
   },
   {
    "duration": 7,
    "start_time": "2024-10-18T03:59:28.924Z"
   },
   {
    "duration": 6,
    "start_time": "2024-10-18T03:59:31.781Z"
   },
   {
    "duration": 10,
    "start_time": "2024-10-18T03:59:32.284Z"
   },
   {
    "duration": 3,
    "start_time": "2024-10-18T03:59:35.380Z"
   },
   {
    "duration": 5,
    "start_time": "2024-10-18T03:59:35.851Z"
   },
   {
    "duration": 5,
    "start_time": "2024-10-18T03:59:39.122Z"
   },
   {
    "duration": 4,
    "start_time": "2024-10-18T04:00:48.256Z"
   },
   {
    "duration": 3,
    "start_time": "2024-10-18T04:00:50.375Z"
   },
   {
    "duration": 5,
    "start_time": "2024-10-18T04:00:50.816Z"
   },
   {
    "duration": 5,
    "start_time": "2024-10-18T04:00:54.487Z"
   },
   {
    "duration": 5,
    "start_time": "2024-10-18T04:01:01.927Z"
   },
   {
    "duration": 4,
    "start_time": "2024-10-18T04:01:05.523Z"
   },
   {
    "duration": 15,
    "start_time": "2024-10-18T04:01:08.974Z"
   },
   {
    "duration": 5,
    "start_time": "2024-10-18T04:01:10.883Z"
   },
   {
    "duration": 9,
    "start_time": "2024-10-18T04:01:12.082Z"
   },
   {
    "duration": 25,
    "start_time": "2024-10-18T04:02:04.018Z"
   },
   {
    "duration": 8,
    "start_time": "2024-10-18T04:02:16.611Z"
   },
   {
    "duration": 12,
    "start_time": "2024-10-18T04:02:18.895Z"
   },
   {
    "duration": 44,
    "start_time": "2024-10-18T04:02:20.536Z"
   },
   {
    "duration": 4,
    "start_time": "2024-10-18T04:02:21.139Z"
   },
   {
    "duration": 21,
    "start_time": "2024-10-18T04:02:25.406Z"
   },
   {
    "duration": 5,
    "start_time": "2024-10-18T04:06:26.939Z"
   },
   {
    "duration": 6,
    "start_time": "2024-10-18T04:06:28.127Z"
   },
   {
    "duration": 5,
    "start_time": "2024-10-18T04:06:28.512Z"
   },
   {
    "duration": 5,
    "start_time": "2024-10-18T04:06:28.772Z"
   },
   {
    "duration": 3,
    "start_time": "2024-10-18T04:06:30.274Z"
   },
   {
    "duration": 474,
    "start_time": "2024-10-18T04:06:33.395Z"
   },
   {
    "duration": 4,
    "start_time": "2024-10-18T04:06:38.681Z"
   },
   {
    "duration": 119,
    "start_time": "2024-10-18T04:06:48.630Z"
   },
   {
    "duration": 88,
    "start_time": "2024-10-18T04:06:59.434Z"
   },
   {
    "duration": 142,
    "start_time": "2024-10-18T04:07:11.309Z"
   },
   {
    "duration": 8,
    "start_time": "2024-10-18T04:07:16.126Z"
   },
   {
    "duration": 142,
    "start_time": "2024-10-18T04:07:18.455Z"
   },
   {
    "duration": 171,
    "start_time": "2024-10-18T04:07:26.750Z"
   },
   {
    "duration": 100,
    "start_time": "2024-10-18T04:08:53.838Z"
   },
   {
    "duration": 5,
    "start_time": "2024-10-18T04:09:19.931Z"
   },
   {
    "duration": 9,
    "start_time": "2024-10-18T04:09:21.387Z"
   },
   {
    "duration": 129,
    "start_time": "2024-10-18T04:09:40.155Z"
   },
   {
    "duration": 91,
    "start_time": "2024-10-18T04:09:46.577Z"
   },
   {
    "duration": 20,
    "start_time": "2024-10-18T04:10:44.372Z"
   },
   {
    "duration": 7,
    "start_time": "2024-10-18T04:15:29.646Z"
   },
   {
    "duration": 155,
    "start_time": "2024-10-18T04:15:32.158Z"
   },
   {
    "duration": 214,
    "start_time": "2024-10-18T04:16:03.175Z"
   },
   {
    "duration": 98,
    "start_time": "2024-10-18T04:16:12.206Z"
   },
   {
    "duration": 132,
    "start_time": "2024-10-18T04:16:19.146Z"
   },
   {
    "duration": 170,
    "start_time": "2024-10-18T04:16:21.501Z"
   },
   {
    "duration": 6,
    "start_time": "2024-10-18T04:16:32.941Z"
   },
   {
    "duration": 6,
    "start_time": "2024-10-18T04:16:33.782Z"
   },
   {
    "duration": 6,
    "start_time": "2024-10-18T04:17:14.425Z"
   },
   {
    "duration": 4,
    "start_time": "2024-10-18T04:17:15.253Z"
   },
   {
    "duration": 154,
    "start_time": "2024-10-18T04:17:23.953Z"
   },
   {
    "duration": 119,
    "start_time": "2024-10-18T04:17:34.974Z"
   },
   {
    "duration": 6,
    "start_time": "2024-10-18T04:17:42.802Z"
   },
   {
    "duration": 7,
    "start_time": "2024-10-18T04:17:59.029Z"
   },
   {
    "duration": 129,
    "start_time": "2024-10-18T04:18:02.825Z"
   },
   {
    "duration": 98,
    "start_time": "2024-10-18T04:18:06.241Z"
   },
   {
    "duration": 6,
    "start_time": "2024-10-18T04:18:14.629Z"
   },
   {
    "duration": 41,
    "start_time": "2024-10-18T04:18:25.970Z"
   },
   {
    "duration": 5,
    "start_time": "2024-10-18T04:26:11.810Z"
   },
   {
    "duration": 103,
    "start_time": "2024-10-18T04:26:13.438Z"
   },
   {
    "duration": 8,
    "start_time": "2024-10-18T04:27:06.095Z"
   },
   {
    "duration": 6,
    "start_time": "2024-10-18T04:27:12.936Z"
   },
   {
    "duration": 115,
    "start_time": "2024-10-18T04:27:14.421Z"
   },
   {
    "duration": 142,
    "start_time": "2024-10-18T04:29:52.872Z"
   },
   {
    "duration": 150,
    "start_time": "2024-10-18T04:29:57.515Z"
   },
   {
    "duration": 155,
    "start_time": "2024-10-18T04:30:08.339Z"
   },
   {
    "duration": 183,
    "start_time": "2024-10-18T04:30:23.102Z"
   },
   {
    "duration": 5,
    "start_time": "2024-10-18T04:30:29.720Z"
   },
   {
    "duration": 7,
    "start_time": "2024-10-18T04:30:35.259Z"
   },
   {
    "duration": 4,
    "start_time": "2024-10-18T04:30:36.488Z"
   },
   {
    "duration": 137,
    "start_time": "2024-10-18T04:30:42.085Z"
   },
   {
    "duration": 103,
    "start_time": "2024-10-18T04:30:43.656Z"
   },
   {
    "duration": 7,
    "start_time": "2024-10-18T04:30:50.551Z"
   },
   {
    "duration": 148,
    "start_time": "2024-10-18T04:30:54.375Z"
   },
   {
    "duration": 104,
    "start_time": "2024-10-18T04:31:03.363Z"
   },
   {
    "duration": 10,
    "start_time": "2024-10-18T04:32:19.377Z"
   },
   {
    "duration": 137,
    "start_time": "2024-10-18T04:32:20.235Z"
   },
   {
    "duration": 139,
    "start_time": "2024-10-18T04:32:47.841Z"
   },
   {
    "duration": 99,
    "start_time": "2024-10-18T04:33:01.916Z"
   },
   {
    "duration": 4,
    "start_time": "2024-10-18T04:33:13.643Z"
   },
   {
    "duration": 1234,
    "start_time": "2024-10-18T07:43:46.329Z"
   },
   {
    "duration": 104,
    "start_time": "2024-10-18T07:43:52.399Z"
   },
   {
    "duration": 6,
    "start_time": "2024-10-18T07:44:37.517Z"
   },
   {
    "duration": 24,
    "start_time": "2024-10-18T07:44:40.149Z"
   },
   {
    "duration": 2235,
    "start_time": "2024-10-18T07:44:45.797Z"
   },
   {
    "duration": 15,
    "start_time": "2024-10-18T07:44:52.968Z"
   },
   {
    "duration": 5,
    "start_time": "2024-10-18T07:44:55.505Z"
   },
   {
    "duration": 13,
    "start_time": "2024-10-18T07:44:56.823Z"
   },
   {
    "duration": 5,
    "start_time": "2024-10-18T07:45:00.259Z"
   },
   {
    "duration": 5,
    "start_time": "2024-10-18T07:45:00.664Z"
   },
   {
    "duration": 5,
    "start_time": "2024-10-18T07:45:03.499Z"
   },
   {
    "duration": 9,
    "start_time": "2024-10-18T07:45:04.488Z"
   },
   {
    "duration": 5,
    "start_time": "2024-10-18T07:45:06.304Z"
   },
   {
    "duration": 5,
    "start_time": "2024-10-18T07:47:20.639Z"
   },
   {
    "duration": 12,
    "start_time": "2024-10-18T07:47:24.536Z"
   },
   {
    "duration": 5,
    "start_time": "2024-10-18T07:47:41.397Z"
   },
   {
    "duration": 4,
    "start_time": "2024-10-18T07:47:53.569Z"
   },
   {
    "duration": 6,
    "start_time": "2024-10-18T07:47:54.593Z"
   },
   {
    "duration": 5,
    "start_time": "2024-10-18T07:47:55.188Z"
   },
   {
    "duration": 6,
    "start_time": "2024-10-18T07:49:02.324Z"
   },
   {
    "duration": 7,
    "start_time": "2024-10-18T07:49:04.120Z"
   },
   {
    "duration": 7,
    "start_time": "2024-10-18T07:49:19.746Z"
   },
   {
    "duration": 5,
    "start_time": "2024-10-18T07:49:23.047Z"
   },
   {
    "duration": 8,
    "start_time": "2024-10-18T07:49:25.696Z"
   },
   {
    "duration": 6,
    "start_time": "2024-10-18T07:49:26.432Z"
   },
   {
    "duration": 7,
    "start_time": "2024-10-18T07:49:40.735Z"
   },
   {
    "duration": 6,
    "start_time": "2024-10-18T07:49:41.863Z"
   },
   {
    "duration": 4,
    "start_time": "2024-10-18T07:50:28.277Z"
   },
   {
    "duration": 6,
    "start_time": "2024-10-18T07:50:32.913Z"
   },
   {
    "duration": 6,
    "start_time": "2024-10-18T07:50:36.200Z"
   },
   {
    "duration": 9,
    "start_time": "2024-10-18T08:34:02.384Z"
   },
   {
    "duration": 8,
    "start_time": "2024-10-18T08:34:02.679Z"
   },
   {
    "duration": 6,
    "start_time": "2024-10-18T08:34:05.177Z"
   },
   {
    "duration": 9,
    "start_time": "2024-10-18T08:34:05.950Z"
   },
   {
    "duration": 4,
    "start_time": "2024-10-18T08:34:08.373Z"
   },
   {
    "duration": 5,
    "start_time": "2024-10-18T08:34:08.828Z"
   },
   {
    "duration": 5,
    "start_time": "2024-10-18T08:34:09.724Z"
   },
   {
    "duration": 4,
    "start_time": "2024-10-18T08:34:11.317Z"
   },
   {
    "duration": 8,
    "start_time": "2024-10-18T08:34:12.205Z"
   },
   {
    "duration": 8,
    "start_time": "2024-10-18T08:34:12.789Z"
   },
   {
    "duration": 5,
    "start_time": "2024-10-18T08:34:13.217Z"
   },
   {
    "duration": 12,
    "start_time": "2024-10-18T08:34:13.598Z"
   },
   {
    "duration": 3,
    "start_time": "2024-10-18T08:34:14.325Z"
   },
   {
    "duration": 5,
    "start_time": "2024-10-18T08:34:14.778Z"
   },
   {
    "duration": 5,
    "start_time": "2024-10-18T08:34:15.461Z"
   },
   {
    "duration": 5,
    "start_time": "2024-10-18T08:34:16.542Z"
   },
   {
    "duration": 4,
    "start_time": "2024-10-18T08:34:20.021Z"
   },
   {
    "duration": 5,
    "start_time": "2024-10-18T08:34:20.277Z"
   },
   {
    "duration": 5,
    "start_time": "2024-10-18T08:34:20.781Z"
   },
   {
    "duration": 6,
    "start_time": "2024-10-18T08:34:22.189Z"
   },
   {
    "duration": 4,
    "start_time": "2024-10-18T08:34:29.037Z"
   },
   {
    "duration": 103,
    "start_time": "2024-10-18T08:34:45.996Z"
   },
   {
    "duration": 4,
    "start_time": "2024-10-18T08:34:54.546Z"
   },
   {
    "duration": 16,
    "start_time": "2024-10-18T08:34:57.857Z"
   },
   {
    "duration": 2068,
    "start_time": "2024-10-18T08:34:58.682Z"
   },
   {
    "duration": 14,
    "start_time": "2024-10-18T08:35:00.753Z"
   },
   {
    "duration": 6,
    "start_time": "2024-10-18T08:35:01.630Z"
   },
   {
    "duration": 11,
    "start_time": "2024-10-18T08:35:03.437Z"
   },
   {
    "duration": 5,
    "start_time": "2024-10-18T08:35:31.656Z"
   },
   {
    "duration": 4,
    "start_time": "2024-10-18T08:35:32.339Z"
   },
   {
    "duration": 5,
    "start_time": "2024-10-18T08:35:33.858Z"
   },
   {
    "duration": 10,
    "start_time": "2024-10-18T08:35:34.864Z"
   },
   {
    "duration": 5,
    "start_time": "2024-10-18T08:35:35.154Z"
   },
   {
    "duration": 5,
    "start_time": "2024-10-18T08:35:35.800Z"
   },
   {
    "duration": 19,
    "start_time": "2024-10-18T08:35:36.893Z"
   },
   {
    "duration": 4,
    "start_time": "2024-10-18T08:35:37.422Z"
   },
   {
    "duration": 4,
    "start_time": "2024-10-18T08:35:38.714Z"
   },
   {
    "duration": 6,
    "start_time": "2024-10-18T08:35:39.078Z"
   },
   {
    "duration": 6,
    "start_time": "2024-10-18T08:35:39.510Z"
   },
   {
    "duration": 8,
    "start_time": "2024-10-18T08:37:38.006Z"
   },
   {
    "duration": 5,
    "start_time": "2024-10-18T08:37:47.026Z"
   },
   {
    "duration": 5,
    "start_time": "2024-10-18T08:37:56.220Z"
   },
   {
    "duration": 7,
    "start_time": "2024-10-18T08:37:58.646Z"
   },
   {
    "duration": 6,
    "start_time": "2024-10-18T08:38:07.614Z"
   },
   {
    "duration": 5,
    "start_time": "2024-10-18T08:38:10.769Z"
   },
   {
    "duration": 8,
    "start_time": "2024-10-18T08:38:14.893Z"
   },
   {
    "duration": 6,
    "start_time": "2024-10-18T08:38:16.005Z"
   },
   {
    "duration": 8,
    "start_time": "2024-10-18T08:38:17.844Z"
   },
   {
    "duration": 8,
    "start_time": "2024-10-18T08:38:18.742Z"
   },
   {
    "duration": 4,
    "start_time": "2024-10-18T08:38:22.745Z"
   },
   {
    "duration": 4,
    "start_time": "2024-10-18T08:38:23.606Z"
   },
   {
    "duration": 3,
    "start_time": "2024-10-18T08:38:24.037Z"
   },
   {
    "duration": 5,
    "start_time": "2024-10-18T08:38:31.338Z"
   },
   {
    "duration": 5,
    "start_time": "2024-10-18T08:39:00.599Z"
   },
   {
    "duration": 8,
    "start_time": "2024-10-18T08:39:04.029Z"
   },
   {
    "duration": 4,
    "start_time": "2024-10-18T08:39:07.529Z"
   },
   {
    "duration": 5,
    "start_time": "2024-10-18T08:39:08.026Z"
   },
   {
    "duration": 6,
    "start_time": "2024-10-18T08:39:11.765Z"
   },
   {
    "duration": 5,
    "start_time": "2024-10-18T08:39:16.551Z"
   },
   {
    "duration": 10,
    "start_time": "2024-10-18T08:39:18.912Z"
   },
   {
    "duration": 7,
    "start_time": "2024-10-18T08:39:30.890Z"
   },
   {
    "duration": 5,
    "start_time": "2024-10-18T08:39:35.673Z"
   },
   {
    "duration": 11,
    "start_time": "2024-10-18T08:39:38.385Z"
   },
   {
    "duration": 5,
    "start_time": "2024-10-18T08:40:06.197Z"
   },
   {
    "duration": 5,
    "start_time": "2024-10-18T08:40:06.614Z"
   },
   {
    "duration": 5,
    "start_time": "2024-10-18T08:40:28.066Z"
   },
   {
    "duration": 5,
    "start_time": "2024-10-18T08:40:31.259Z"
   },
   {
    "duration": 4,
    "start_time": "2024-10-18T08:40:41.400Z"
   },
   {
    "duration": 5,
    "start_time": "2024-10-18T08:40:43.269Z"
   },
   {
    "duration": 5,
    "start_time": "2024-10-18T08:40:47.306Z"
   },
   {
    "duration": 6,
    "start_time": "2024-10-18T08:40:52.908Z"
   },
   {
    "duration": 4,
    "start_time": "2024-10-18T08:41:05.216Z"
   },
   {
    "duration": 16,
    "start_time": "2024-10-18T08:41:35.633Z"
   },
   {
    "duration": 5,
    "start_time": "2024-10-18T08:41:39.182Z"
   },
   {
    "duration": 8,
    "start_time": "2024-10-18T08:41:41.109Z"
   },
   {
    "duration": 31,
    "start_time": "2024-10-18T08:41:57.753Z"
   },
   {
    "duration": 9,
    "start_time": "2024-10-18T08:42:03.640Z"
   },
   {
    "duration": 12,
    "start_time": "2024-10-18T08:42:08.183Z"
   },
   {
    "duration": 43,
    "start_time": "2024-10-18T08:42:11.572Z"
   },
   {
    "duration": 5,
    "start_time": "2024-10-18T08:42:14.913Z"
   },
   {
    "duration": 22,
    "start_time": "2024-10-18T08:42:29.433Z"
   },
   {
    "duration": 5,
    "start_time": "2024-10-18T08:42:31.237Z"
   },
   {
    "duration": 6,
    "start_time": "2024-10-18T08:42:44.097Z"
   },
   {
    "duration": 6,
    "start_time": "2024-10-18T08:42:44.696Z"
   },
   {
    "duration": 7,
    "start_time": "2024-10-18T08:42:45.214Z"
   },
   {
    "duration": 3,
    "start_time": "2024-10-18T08:42:47.428Z"
   },
   {
    "duration": 283,
    "start_time": "2024-10-18T08:42:59.188Z"
   },
   {
    "duration": 5,
    "start_time": "2024-10-18T08:43:16.464Z"
   },
   {
    "duration": 143,
    "start_time": "2024-10-18T08:43:27.490Z"
   },
   {
    "duration": 93,
    "start_time": "2024-10-18T08:43:35.585Z"
   },
   {
    "duration": 154,
    "start_time": "2024-10-18T08:43:47.687Z"
   },
   {
    "duration": 8,
    "start_time": "2024-10-18T08:44:18.777Z"
   },
   {
    "duration": 162,
    "start_time": "2024-10-18T08:44:23.289Z"
   },
   {
    "duration": 174,
    "start_time": "2024-10-18T08:44:39.702Z"
   },
   {
    "duration": 133,
    "start_time": "2024-10-18T08:44:42.799Z"
   },
   {
    "duration": 7,
    "start_time": "2024-10-18T08:44:57.062Z"
   },
   {
    "duration": 156,
    "start_time": "2024-10-18T08:44:58.413Z"
   },
   {
    "duration": 97,
    "start_time": "2024-10-18T08:45:38.931Z"
   },
   {
    "duration": 19,
    "start_time": "2024-10-18T08:45:48.937Z"
   },
   {
    "duration": 7,
    "start_time": "2024-10-18T08:46:14.063Z"
   },
   {
    "duration": 157,
    "start_time": "2024-10-18T08:46:14.905Z"
   },
   {
    "duration": 431,
    "start_time": "2024-10-18T08:46:21.761Z"
   },
   {
    "duration": 110,
    "start_time": "2024-10-18T08:46:27.426Z"
   },
   {
    "duration": 142,
    "start_time": "2024-10-18T08:46:32.992Z"
   },
   {
    "duration": 182,
    "start_time": "2024-10-18T08:46:36.105Z"
   },
   {
    "duration": 8,
    "start_time": "2024-10-18T08:46:41.595Z"
   },
   {
    "duration": 7,
    "start_time": "2024-10-18T08:46:42.432Z"
   },
   {
    "duration": 7,
    "start_time": "2024-10-18T08:47:07.889Z"
   },
   {
    "duration": 4,
    "start_time": "2024-10-18T08:47:09.451Z"
   },
   {
    "duration": 157,
    "start_time": "2024-10-18T08:47:20.247Z"
   },
   {
    "duration": 103,
    "start_time": "2024-10-18T08:47:31.013Z"
   },
   {
    "duration": 175,
    "start_time": "2024-10-18T08:48:26.791Z"
   },
   {
    "duration": 102,
    "start_time": "2024-10-18T08:48:31.496Z"
   },
   {
    "duration": 6,
    "start_time": "2024-10-18T08:48:37.307Z"
   },
   {
    "duration": 41,
    "start_time": "2024-10-18T08:48:40.272Z"
   },
   {
    "duration": 7,
    "start_time": "2024-10-18T08:48:55.955Z"
   },
   {
    "duration": 119,
    "start_time": "2024-10-18T08:48:56.913Z"
   },
   {
    "duration": 5,
    "start_time": "2024-10-18T08:51:28.451Z"
   },
   {
    "duration": 7,
    "start_time": "2024-10-18T08:51:33.900Z"
   },
   {
    "duration": 107,
    "start_time": "2024-10-18T08:51:35.347Z"
   },
   {
    "duration": 149,
    "start_time": "2024-10-18T08:51:46.251Z"
   },
   {
    "duration": 121,
    "start_time": "2024-10-18T08:51:58.664Z"
   },
   {
    "duration": 149,
    "start_time": "2024-10-18T08:52:03.651Z"
   },
   {
    "duration": 109,
    "start_time": "2024-10-18T08:52:10.667Z"
   },
   {
    "duration": 7,
    "start_time": "2024-10-18T08:52:36.397Z"
   },
   {
    "duration": 8,
    "start_time": "2024-10-18T08:52:58.815Z"
   },
   {
    "duration": 5,
    "start_time": "2024-10-18T08:52:59.438Z"
   },
   {
    "duration": 146,
    "start_time": "2024-10-18T08:53:13.305Z"
   },
   {
    "duration": 105,
    "start_time": "2024-10-18T08:53:16.452Z"
   },
   {
    "duration": 7,
    "start_time": "2024-10-18T08:53:26.843Z"
   },
   {
    "duration": 163,
    "start_time": "2024-10-18T08:53:36.487Z"
   },
   {
    "duration": 102,
    "start_time": "2024-10-18T08:53:42.763Z"
   },
   {
    "duration": 8,
    "start_time": "2024-10-18T08:53:48.971Z"
   },
   {
    "duration": 130,
    "start_time": "2024-10-18T08:53:49.572Z"
   },
   {
    "duration": 140,
    "start_time": "2024-10-18T08:55:35.356Z"
   },
   {
    "duration": 99,
    "start_time": "2024-10-18T08:55:42.988Z"
   },
   {
    "duration": 5,
    "start_time": "2024-10-18T08:55:51.899Z"
   },
   {
    "duration": 42,
    "start_time": "2024-10-18T08:56:14.295Z"
   },
   {
    "duration": 4,
    "start_time": "2024-10-18T08:56:46.327Z"
   },
   {
    "duration": 163,
    "start_time": "2024-10-18T09:04:11.615Z"
   },
   {
    "duration": 159,
    "start_time": "2024-10-18T09:05:11.668Z"
   },
   {
    "duration": 116,
    "start_time": "2024-10-18T09:06:56.616Z"
   },
   {
    "duration": 156,
    "start_time": "2024-10-18T09:11:14.648Z"
   },
   {
    "duration": 155,
    "start_time": "2024-10-18T09:11:50.304Z"
   },
   {
    "duration": 12,
    "start_time": "2024-10-18T09:19:23.318Z"
   },
   {
    "duration": 6,
    "start_time": "2024-10-18T09:21:35.318Z"
   },
   {
    "duration": 6,
    "start_time": "2024-10-18T09:22:37.642Z"
   },
   {
    "duration": 71,
    "start_time": "2024-10-18T09:36:44.970Z"
   },
   {
    "duration": 46,
    "start_time": "2024-10-18T09:37:40.793Z"
   },
   {
    "duration": 138,
    "start_time": "2024-10-18T09:40:18.696Z"
   },
   {
    "duration": 39,
    "start_time": "2024-10-18T09:40:23.780Z"
   },
   {
    "duration": 39,
    "start_time": "2024-10-18T09:40:43.888Z"
   },
   {
    "duration": 39,
    "start_time": "2024-10-18T09:41:53.140Z"
   },
   {
    "duration": 39,
    "start_time": "2024-10-18T09:42:12.058Z"
   },
   {
    "duration": 13,
    "start_time": "2024-10-18T09:45:55.739Z"
   },
   {
    "duration": 114,
    "start_time": "2024-10-18T09:51:28.524Z"
   },
   {
    "duration": 91,
    "start_time": "2024-10-18T10:00:48.801Z"
   },
   {
    "duration": 188,
    "start_time": "2024-10-18T10:03:48.477Z"
   },
   {
    "duration": 167,
    "start_time": "2024-10-18T10:04:19.712Z"
   },
   {
    "duration": 53513,
    "start_time": "2024-10-18T10:10:42.291Z"
   },
   {
    "duration": 211,
    "start_time": "2024-10-18T10:12:19.552Z"
   },
   {
    "duration": 72,
    "start_time": "2024-10-18T10:16:10.788Z"
   },
   {
    "duration": 42,
    "start_time": "2024-10-18T10:17:17.849Z"
   },
   {
    "duration": 37,
    "start_time": "2024-10-18T11:57:38.511Z"
   },
   {
    "duration": 405,
    "start_time": "2024-10-18T11:58:40.603Z"
   },
   {
    "duration": 380,
    "start_time": "2024-10-18T11:59:04.759Z"
   },
   {
    "duration": 20,
    "start_time": "2024-10-18T11:59:35.997Z"
   },
   {
    "duration": 294,
    "start_time": "2024-10-18T11:59:43.799Z"
   },
   {
    "duration": 30,
    "start_time": "2024-10-18T12:03:26.087Z"
   },
   {
    "duration": 18,
    "start_time": "2024-10-18T12:05:36.068Z"
   },
   {
    "duration": 27,
    "start_time": "2024-10-18T12:06:26.235Z"
   },
   {
    "duration": 26,
    "start_time": "2024-10-18T12:07:10.636Z"
   },
   {
    "duration": 28,
    "start_time": "2024-10-18T12:07:19.831Z"
   },
   {
    "duration": 24,
    "start_time": "2024-10-18T12:08:19.687Z"
   },
   {
    "duration": 19,
    "start_time": "2024-10-18T12:08:49.472Z"
   },
   {
    "duration": 133,
    "start_time": "2024-10-18T12:09:41.336Z"
   },
   {
    "duration": 27,
    "start_time": "2024-10-18T12:09:48.664Z"
   },
   {
    "duration": 24,
    "start_time": "2024-10-18T12:10:17.171Z"
   },
   {
    "duration": 24,
    "start_time": "2024-10-18T12:10:27.821Z"
   },
   {
    "duration": 26,
    "start_time": "2024-10-18T12:10:56.201Z"
   },
   {
    "duration": 81,
    "start_time": "2024-10-18T12:11:20.638Z"
   },
   {
    "duration": 27,
    "start_time": "2024-10-18T12:12:52.123Z"
   },
   {
    "duration": 25,
    "start_time": "2024-10-18T12:13:22.737Z"
   },
   {
    "duration": 26,
    "start_time": "2024-10-18T12:15:22.339Z"
   },
   {
    "duration": 33,
    "start_time": "2024-10-18T12:15:37.741Z"
   },
   {
    "duration": 23,
    "start_time": "2024-10-18T12:15:48.796Z"
   },
   {
    "duration": 28,
    "start_time": "2024-10-18T12:16:03.097Z"
   },
   {
    "duration": 37,
    "start_time": "2024-10-18T12:16:20.806Z"
   },
   {
    "duration": 22,
    "start_time": "2024-10-18T13:36:28.791Z"
   },
   {
    "duration": 4,
    "start_time": "2024-10-18T13:37:25.058Z"
   },
   {
    "duration": 8,
    "start_time": "2024-10-18T13:37:32.720Z"
   },
   {
    "duration": 9,
    "start_time": "2024-10-18T13:40:21.069Z"
   },
   {
    "duration": 10,
    "start_time": "2024-10-18T13:48:43.638Z"
   },
   {
    "duration": 40,
    "start_time": "2024-10-18T13:48:52.811Z"
   },
   {
    "duration": 8,
    "start_time": "2024-10-18T13:50:03.031Z"
   },
   {
    "duration": 39,
    "start_time": "2024-10-18T13:50:17.195Z"
   },
   {
    "duration": 6,
    "start_time": "2024-10-18T13:50:37.492Z"
   },
   {
    "duration": 20,
    "start_time": "2024-10-18T13:54:01.439Z"
   },
   {
    "duration": 161,
    "start_time": "2024-10-18T13:54:25.729Z"
   },
   {
    "duration": 42,
    "start_time": "2024-10-18T14:06:56.411Z"
   },
   {
    "duration": 149,
    "start_time": "2024-10-18T14:07:17.032Z"
   },
   {
    "duration": 153,
    "start_time": "2024-10-18T14:09:04.736Z"
   },
   {
    "duration": 169,
    "start_time": "2024-10-18T14:09:50.636Z"
   },
   {
    "duration": 157,
    "start_time": "2024-10-18T14:10:03.441Z"
   },
   {
    "duration": 93,
    "start_time": "2024-10-18T14:10:51.346Z"
   },
   {
    "duration": 6,
    "start_time": "2024-10-18T14:11:45.156Z"
   },
   {
    "duration": 5,
    "start_time": "2024-10-18T14:11:54.751Z"
   },
   {
    "duration": 8,
    "start_time": "2024-10-18T14:12:03.152Z"
   },
   {
    "duration": 23,
    "start_time": "2024-10-18T14:12:04.411Z"
   },
   {
    "duration": 156,
    "start_time": "2024-10-18T14:12:19.480Z"
   },
   {
    "duration": 170,
    "start_time": "2024-10-18T14:12:24.559Z"
   },
   {
    "duration": 1263,
    "start_time": "2024-10-19T03:53:36.563Z"
   },
   {
    "duration": 155,
    "start_time": "2024-10-19T03:53:40.006Z"
   },
   {
    "duration": 5,
    "start_time": "2024-10-19T03:53:41.239Z"
   },
   {
    "duration": 2,
    "start_time": "2024-10-19T03:54:17.015Z"
   },
   {
    "duration": 82,
    "start_time": "2024-10-19T03:54:20.836Z"
   },
   {
    "duration": 3,
    "start_time": "2024-10-19T03:54:22.138Z"
   },
   {
    "duration": 13,
    "start_time": "2024-10-19T03:54:30.837Z"
   },
   {
    "duration": 1683,
    "start_time": "2024-10-19T03:54:45.257Z"
   },
   {
    "duration": 9,
    "start_time": "2024-10-19T03:55:19.413Z"
   },
   {
    "duration": 5,
    "start_time": "2024-10-19T03:55:22.921Z"
   },
   {
    "duration": 8,
    "start_time": "2024-10-19T03:55:25.491Z"
   },
   {
    "duration": 4,
    "start_time": "2024-10-19T03:55:26.643Z"
   },
   {
    "duration": 4,
    "start_time": "2024-10-19T03:56:15.120Z"
   },
   {
    "duration": 4,
    "start_time": "2024-10-19T03:56:22.743Z"
   },
   {
    "duration": 8,
    "start_time": "2024-10-19T03:56:26.805Z"
   },
   {
    "duration": 5,
    "start_time": "2024-10-19T03:56:27.505Z"
   },
   {
    "duration": 4,
    "start_time": "2024-10-19T03:56:37.335Z"
   },
   {
    "duration": 8,
    "start_time": "2024-10-19T03:56:53.597Z"
   },
   {
    "duration": 6,
    "start_time": "2024-10-19T03:56:59.974Z"
   },
   {
    "duration": 4,
    "start_time": "2024-10-19T03:57:00.671Z"
   },
   {
    "duration": 4,
    "start_time": "2024-10-19T03:57:01.200Z"
   },
   {
    "duration": 5,
    "start_time": "2024-10-19T03:57:03.056Z"
   },
   {
    "duration": 7,
    "start_time": "2024-10-19T03:57:04.098Z"
   },
   {
    "duration": 5,
    "start_time": "2024-10-19T03:57:08.444Z"
   },
   {
    "duration": 6,
    "start_time": "2024-10-19T03:57:09.926Z"
   },
   {
    "duration": 6,
    "start_time": "2024-10-19T03:57:12.847Z"
   },
   {
    "duration": 5,
    "start_time": "2024-10-19T03:57:30.890Z"
   },
   {
    "duration": 6,
    "start_time": "2024-10-19T03:57:33.378Z"
   },
   {
    "duration": 8,
    "start_time": "2024-10-19T03:57:37.555Z"
   },
   {
    "duration": 5,
    "start_time": "2024-10-19T03:57:38.011Z"
   },
   {
    "duration": 9,
    "start_time": "2024-10-19T03:57:39.374Z"
   },
   {
    "duration": 8,
    "start_time": "2024-10-19T03:58:07.066Z"
   },
   {
    "duration": 3,
    "start_time": "2024-10-19T04:01:46.228Z"
   },
   {
    "duration": 5,
    "start_time": "2024-10-19T04:01:48.855Z"
   },
   {
    "duration": 4,
    "start_time": "2024-10-19T04:01:51.096Z"
   },
   {
    "duration": 3,
    "start_time": "2024-10-19T04:03:29.323Z"
   },
   {
    "duration": 5,
    "start_time": "2024-10-19T04:07:09.635Z"
   },
   {
    "duration": 4,
    "start_time": "2024-10-19T04:07:17.803Z"
   },
   {
    "duration": 1026,
    "start_time": "2024-10-19T04:07:31.182Z"
   },
   {
    "duration": 84,
    "start_time": "2024-10-19T04:07:32.210Z"
   },
   {
    "duration": 5,
    "start_time": "2024-10-19T04:07:32.295Z"
   },
   {
    "duration": 41,
    "start_time": "2024-10-19T04:07:32.301Z"
   },
   {
    "duration": 1605,
    "start_time": "2024-10-19T04:07:32.343Z"
   },
   {
    "duration": 9,
    "start_time": "2024-10-19T04:07:33.949Z"
   },
   {
    "duration": 4,
    "start_time": "2024-10-19T04:07:33.959Z"
   },
   {
    "duration": 9,
    "start_time": "2024-10-19T04:07:33.964Z"
   },
   {
    "duration": 13,
    "start_time": "2024-10-19T04:07:33.974Z"
   },
   {
    "duration": 22,
    "start_time": "2024-10-19T04:07:33.990Z"
   },
   {
    "duration": 24,
    "start_time": "2024-10-19T04:07:34.013Z"
   },
   {
    "duration": 9,
    "start_time": "2024-10-19T04:07:34.038Z"
   },
   {
    "duration": 4,
    "start_time": "2024-10-19T04:07:34.049Z"
   },
   {
    "duration": 5,
    "start_time": "2024-10-19T04:07:34.054Z"
   },
   {
    "duration": 12,
    "start_time": "2024-10-19T04:07:34.060Z"
   },
   {
    "duration": 33,
    "start_time": "2024-10-19T04:07:34.074Z"
   },
   {
    "duration": 33,
    "start_time": "2024-10-19T04:07:34.108Z"
   },
   {
    "duration": 10,
    "start_time": "2024-10-19T04:07:34.142Z"
   },
   {
    "duration": 10,
    "start_time": "2024-10-19T04:07:34.153Z"
   },
   {
    "duration": 9,
    "start_time": "2024-10-19T04:07:34.164Z"
   },
   {
    "duration": 4,
    "start_time": "2024-10-19T04:07:34.175Z"
   },
   {
    "duration": 19,
    "start_time": "2024-10-19T04:07:34.181Z"
   },
   {
    "duration": 15,
    "start_time": "2024-10-19T04:07:34.201Z"
   },
   {
    "duration": 17,
    "start_time": "2024-10-19T04:07:34.217Z"
   },
   {
    "duration": 5,
    "start_time": "2024-10-19T04:07:34.235Z"
   },
   {
    "duration": 21,
    "start_time": "2024-10-19T04:07:34.241Z"
   },
   {
    "duration": 67,
    "start_time": "2024-10-19T04:07:34.263Z"
   },
   {
    "duration": 7,
    "start_time": "2024-10-19T04:07:34.333Z"
   },
   {
    "duration": 12,
    "start_time": "2024-10-19T04:07:34.342Z"
   },
   {
    "duration": 3,
    "start_time": "2024-10-19T04:07:37.926Z"
   },
   {
    "duration": 4,
    "start_time": "2024-10-19T04:07:41.200Z"
   },
   {
    "duration": 4,
    "start_time": "2024-10-19T04:07:44.202Z"
   },
   {
    "duration": 4,
    "start_time": "2024-10-19T04:07:44.906Z"
   },
   {
    "duration": 1022,
    "start_time": "2024-10-19T04:09:26.793Z"
   },
   {
    "duration": 87,
    "start_time": "2024-10-19T04:09:29.304Z"
   },
   {
    "duration": 4,
    "start_time": "2024-10-19T04:09:30.177Z"
   },
   {
    "duration": 14,
    "start_time": "2024-10-19T04:09:32.780Z"
   },
   {
    "duration": 1616,
    "start_time": "2024-10-19T04:09:43.360Z"
   },
   {
    "duration": 8,
    "start_time": "2024-10-19T04:09:53.608Z"
   },
   {
    "duration": 5,
    "start_time": "2024-10-19T04:11:02.376Z"
   },
   {
    "duration": 11,
    "start_time": "2024-10-19T04:11:06.497Z"
   },
   {
    "duration": 4,
    "start_time": "2024-10-19T04:11:14.292Z"
   },
   {
    "duration": 4,
    "start_time": "2024-10-19T04:11:14.731Z"
   },
   {
    "duration": 4,
    "start_time": "2024-10-19T04:11:21.399Z"
   },
   {
    "duration": 8,
    "start_time": "2024-10-19T04:11:22.513Z"
   },
   {
    "duration": 5,
    "start_time": "2024-10-19T04:11:22.893Z"
   },
   {
    "duration": 3,
    "start_time": "2024-10-19T04:11:39.217Z"
   },
   {
    "duration": 2,
    "start_time": "2024-10-19T04:13:09.982Z"
   },
   {
    "duration": 94,
    "start_time": "2024-10-19T04:13:26.442Z"
   },
   {
    "duration": 3,
    "start_time": "2024-10-19T04:13:32.026Z"
   },
   {
    "duration": 2,
    "start_time": "2024-10-19T04:13:33.224Z"
   },
   {
    "duration": 5,
    "start_time": "2024-10-19T04:13:33.737Z"
   },
   {
    "duration": 4,
    "start_time": "2024-10-19T04:13:35.969Z"
   },
   {
    "duration": 8,
    "start_time": "2024-10-19T04:13:51.964Z"
   },
   {
    "duration": 8,
    "start_time": "2024-10-19T04:14:17.822Z"
   },
   {
    "duration": 4,
    "start_time": "2024-10-19T04:14:18.606Z"
   },
   {
    "duration": 4,
    "start_time": "2024-10-19T04:14:25.199Z"
   },
   {
    "duration": 5,
    "start_time": "2024-10-19T04:14:27.373Z"
   },
   {
    "duration": 4,
    "start_time": "2024-10-19T04:14:35.713Z"
   },
   {
    "duration": 4,
    "start_time": "2024-10-19T04:14:38.437Z"
   },
   {
    "duration": 5,
    "start_time": "2024-10-19T04:14:40.861Z"
   },
   {
    "duration": 5,
    "start_time": "2024-10-19T04:14:42.745Z"
   },
   {
    "duration": 6,
    "start_time": "2024-10-19T04:14:44.911Z"
   },
   {
    "duration": 5,
    "start_time": "2024-10-19T04:14:46.985Z"
   },
   {
    "duration": 3,
    "start_time": "2024-10-19T04:14:51.196Z"
   },
   {
    "duration": 6,
    "start_time": "2024-10-19T04:14:51.750Z"
   },
   {
    "duration": 4,
    "start_time": "2024-10-19T04:14:52.289Z"
   },
   {
    "duration": 4,
    "start_time": "2024-10-19T04:15:11.112Z"
   },
   {
    "duration": 9,
    "start_time": "2024-10-19T04:15:12.165Z"
   },
   {
    "duration": 2,
    "start_time": "2024-10-19T04:15:22.913Z"
   },
   {
    "duration": 5,
    "start_time": "2024-10-19T04:15:28.374Z"
   },
   {
    "duration": 6,
    "start_time": "2024-10-19T04:15:33.329Z"
   },
   {
    "duration": 4,
    "start_time": "2024-10-19T04:16:23.656Z"
   },
   {
    "duration": 4,
    "start_time": "2024-10-19T04:16:24.110Z"
   },
   {
    "duration": 5,
    "start_time": "2024-10-19T04:16:28.473Z"
   },
   {
    "duration": 6,
    "start_time": "2024-10-19T04:16:40.520Z"
   },
   {
    "duration": 10,
    "start_time": "2024-10-19T04:16:46.123Z"
   },
   {
    "duration": 6,
    "start_time": "2024-10-19T04:17:11.969Z"
   },
   {
    "duration": 4,
    "start_time": "2024-10-19T04:17:19.959Z"
   },
   {
    "duration": 8,
    "start_time": "2024-10-19T04:17:27.028Z"
   },
   {
    "duration": 3,
    "start_time": "2024-10-19T04:17:28.828Z"
   },
   {
    "duration": 4,
    "start_time": "2024-10-19T04:17:31.184Z"
   },
   {
    "duration": 5,
    "start_time": "2024-10-19T04:17:33.392Z"
   },
   {
    "duration": 4,
    "start_time": "2024-10-19T04:17:38.275Z"
   },
   {
    "duration": 3,
    "start_time": "2024-10-19T04:17:59.127Z"
   },
   {
    "duration": 5,
    "start_time": "2024-10-19T04:17:59.656Z"
   },
   {
    "duration": 4,
    "start_time": "2024-10-19T04:18:04.192Z"
   },
   {
    "duration": 4,
    "start_time": "2024-10-19T04:18:13.376Z"
   },
   {
    "duration": 3,
    "start_time": "2024-10-19T04:18:19.244Z"
   },
   {
    "duration": 12,
    "start_time": "2024-10-19T04:18:29.828Z"
   },
   {
    "duration": 6,
    "start_time": "2024-10-19T04:18:52.257Z"
   },
   {
    "duration": 11,
    "start_time": "2024-10-19T04:18:56.492Z"
   },
   {
    "duration": 18,
    "start_time": "2024-10-19T04:18:59.916Z"
   },
   {
    "duration": 7,
    "start_time": "2024-10-19T04:19:02.411Z"
   },
   {
    "duration": 9,
    "start_time": "2024-10-19T04:19:06.959Z"
   },
   {
    "duration": 41,
    "start_time": "2024-10-19T04:19:13.215Z"
   },
   {
    "duration": 4,
    "start_time": "2024-10-19T04:19:15.252Z"
   },
   {
    "duration": 16,
    "start_time": "2024-10-19T04:19:17.835Z"
   },
   {
    "duration": 4,
    "start_time": "2024-10-19T04:19:27.843Z"
   },
   {
    "duration": 4,
    "start_time": "2024-10-19T04:19:46.632Z"
   },
   {
    "duration": 4,
    "start_time": "2024-10-19T04:19:50.151Z"
   },
   {
    "duration": 5,
    "start_time": "2024-10-19T04:19:56.588Z"
   },
   {
    "duration": 3,
    "start_time": "2024-10-19T04:20:06.788Z"
   },
   {
    "duration": 262,
    "start_time": "2024-10-19T04:20:07.380Z"
   },
   {
    "duration": 5,
    "start_time": "2024-10-19T04:20:20.587Z"
   },
   {
    "duration": 110,
    "start_time": "2024-10-19T04:20:35.015Z"
   },
   {
    "duration": 91,
    "start_time": "2024-10-19T04:20:44.243Z"
   },
   {
    "duration": 108,
    "start_time": "2024-10-19T04:20:57.063Z"
   },
   {
    "duration": 6,
    "start_time": "2024-10-19T04:21:47.875Z"
   },
   {
    "duration": 115,
    "start_time": "2024-10-19T04:21:56.658Z"
   },
   {
    "duration": 116,
    "start_time": "2024-10-19T04:22:05.771Z"
   },
   {
    "duration": 77,
    "start_time": "2024-10-19T04:22:11.518Z"
   },
   {
    "duration": 5,
    "start_time": "2024-10-19T04:22:38.541Z"
   },
   {
    "duration": 102,
    "start_time": "2024-10-19T04:22:40.940Z"
   },
   {
    "duration": 164,
    "start_time": "2024-10-19T04:22:48.428Z"
   },
   {
    "duration": 12,
    "start_time": "2024-10-19T04:23:13.668Z"
   },
   {
    "duration": 5,
    "start_time": "2024-10-19T04:24:03.287Z"
   },
   {
    "duration": 108,
    "start_time": "2024-10-19T04:24:04.127Z"
   },
   {
    "duration": 116,
    "start_time": "2024-10-19T04:24:38.966Z"
   },
   {
    "duration": 84,
    "start_time": "2024-10-19T04:24:40.055Z"
   },
   {
    "duration": 97,
    "start_time": "2024-10-19T04:24:44.139Z"
   },
   {
    "duration": 111,
    "start_time": "2024-10-19T04:24:44.811Z"
   },
   {
    "duration": 5,
    "start_time": "2024-10-19T04:24:47.447Z"
   },
   {
    "duration": 5,
    "start_time": "2024-10-19T04:24:48.094Z"
   },
   {
    "duration": 119,
    "start_time": "2024-10-19T04:25:28.695Z"
   },
   {
    "duration": 5,
    "start_time": "2024-10-19T04:25:39.866Z"
   },
   {
    "duration": 116,
    "start_time": "2024-10-19T04:26:55.759Z"
   },
   {
    "duration": 5,
    "start_time": "2024-10-19T04:27:02.062Z"
   },
   {
    "duration": 6,
    "start_time": "2024-10-19T04:28:28.983Z"
   },
   {
    "duration": 4,
    "start_time": "2024-10-19T04:28:29.529Z"
   },
   {
    "duration": 112,
    "start_time": "2024-10-19T04:28:34.687Z"
   },
   {
    "duration": 72,
    "start_time": "2024-10-19T04:28:45.334Z"
   },
   {
    "duration": 113,
    "start_time": "2024-10-19T04:29:43.637Z"
   },
   {
    "duration": 105,
    "start_time": "2024-10-19T04:30:03.689Z"
   },
   {
    "duration": 166,
    "start_time": "2024-10-19T04:30:09.670Z"
   },
   {
    "duration": 79,
    "start_time": "2024-10-19T04:30:16.622Z"
   },
   {
    "duration": 7,
    "start_time": "2024-10-19T04:30:21.023Z"
   },
   {
    "duration": 32,
    "start_time": "2024-10-19T04:30:24.119Z"
   },
   {
    "duration": 30,
    "start_time": "2024-10-19T04:30:57.137Z"
   },
   {
    "duration": 28,
    "start_time": "2024-10-19T04:31:43.180Z"
   },
   {
    "duration": 5,
    "start_time": "2024-10-19T04:31:54.639Z"
   },
   {
    "duration": 88,
    "start_time": "2024-10-19T04:31:57.191Z"
   },
   {
    "duration": 18,
    "start_time": "2024-10-19T04:32:27.323Z"
   },
   {
    "duration": 4,
    "start_time": "2024-10-19T04:32:32.943Z"
   },
   {
    "duration": 76,
    "start_time": "2024-10-19T04:32:35.223Z"
   },
   {
    "duration": 6,
    "start_time": "2024-10-19T04:33:18.014Z"
   },
   {
    "duration": 5,
    "start_time": "2024-10-19T04:34:04.224Z"
   },
   {
    "duration": 86,
    "start_time": "2024-10-19T04:34:05.678Z"
   },
   {
    "duration": 109,
    "start_time": "2024-10-19T04:34:24.502Z"
   },
   {
    "duration": 96,
    "start_time": "2024-10-19T04:34:33.817Z"
   },
   {
    "duration": 108,
    "start_time": "2024-10-19T04:34:46.290Z"
   },
   {
    "duration": 77,
    "start_time": "2024-10-19T04:34:49.402Z"
   },
   {
    "duration": 4,
    "start_time": "2024-10-19T04:34:56.854Z"
   },
   {
    "duration": 8,
    "start_time": "2024-10-19T04:34:57.818Z"
   },
   {
    "duration": 5,
    "start_time": "2024-10-19T04:34:58.387Z"
   },
   {
    "duration": 110,
    "start_time": "2024-10-19T04:35:05.261Z"
   },
   {
    "duration": 81,
    "start_time": "2024-10-19T04:35:07.990Z"
   },
   {
    "duration": 6,
    "start_time": "2024-10-19T04:35:13.729Z"
   },
   {
    "duration": 121,
    "start_time": "2024-10-19T04:35:24.855Z"
   },
   {
    "duration": 80,
    "start_time": "2024-10-19T04:35:25.390Z"
   },
   {
    "duration": 8,
    "start_time": "2024-10-19T04:36:45.262Z"
   },
   {
    "duration": 114,
    "start_time": "2024-10-19T04:36:46.618Z"
   },
   {
    "duration": 105,
    "start_time": "2024-10-19T04:37:12.681Z"
   },
   {
    "duration": 82,
    "start_time": "2024-10-19T04:37:15.066Z"
   },
   {
    "duration": 4,
    "start_time": "2024-10-19T04:37:26.237Z"
   },
   {
    "duration": 198,
    "start_time": "2024-10-19T04:37:56.721Z"
   },
   {
    "duration": 95,
    "start_time": "2024-10-19T04:38:01.521Z"
   },
   {
    "duration": 5,
    "start_time": "2024-10-19T04:38:07.637Z"
   },
   {
    "duration": 113,
    "start_time": "2024-10-19T04:39:37.144Z"
   },
   {
    "duration": 39,
    "start_time": "2024-10-19T04:40:32.624Z"
   },
   {
    "duration": 10,
    "start_time": "2024-10-19T04:41:44.601Z"
   },
   {
    "duration": 121,
    "start_time": "2024-10-19T04:41:51.832Z"
   },
   {
    "duration": 14,
    "start_time": "2024-10-19T04:43:12.185Z"
   },
   {
    "duration": 3,
    "start_time": "2024-10-19T04:43:13.066Z"
   },
   {
    "duration": 7,
    "start_time": "2024-10-19T04:43:16.162Z"
   },
   {
    "duration": 6,
    "start_time": "2024-10-19T04:44:43.936Z"
   },
   {
    "duration": 5,
    "start_time": "2024-10-19T04:44:45.089Z"
   },
   {
    "duration": 114,
    "start_time": "2024-10-19T04:44:52.238Z"
   },
   {
    "duration": 108,
    "start_time": "2024-10-19T04:44:55.077Z"
   },
   {
    "duration": 18,
    "start_time": "2024-10-19T04:45:58.957Z"
   },
   {
    "duration": 341,
    "start_time": "2024-10-19T04:54:56.901Z"
   },
   {
    "duration": 119,
    "start_time": "2024-10-19T04:55:35.494Z"
   },
   {
    "duration": 22,
    "start_time": "2024-10-19T05:03:05.015Z"
   },
   {
    "duration": 33,
    "start_time": "2024-10-19T05:06:58.917Z"
   },
   {
    "duration": 44,
    "start_time": "2024-10-19T05:07:07.099Z"
   },
   {
    "duration": 24,
    "start_time": "2024-10-19T05:07:20.755Z"
   },
   {
    "duration": 29,
    "start_time": "2024-10-19T05:07:33.487Z"
   },
   {
    "duration": 11,
    "start_time": "2024-10-19T05:08:19.807Z"
   },
   {
    "duration": 125,
    "start_time": "2024-10-19T05:13:07.607Z"
   },
   {
    "duration": 114,
    "start_time": "2024-10-19T05:13:18.659Z"
   },
   {
    "duration": 19,
    "start_time": "2024-10-19T05:20:11.988Z"
   },
   {
    "duration": 1030,
    "start_time": "2024-10-19T06:12:57.770Z"
   },
   {
    "duration": 88,
    "start_time": "2024-10-19T06:13:00.219Z"
   },
   {
    "duration": 5,
    "start_time": "2024-10-19T06:13:23.015Z"
   },
   {
    "duration": 23,
    "start_time": "2024-10-19T06:13:46.896Z"
   },
   {
    "duration": 12,
    "start_time": "2024-10-19T06:13:58.868Z"
   },
   {
    "duration": 1581,
    "start_time": "2024-10-19T06:14:07.943Z"
   },
   {
    "duration": 7,
    "start_time": "2024-10-19T06:14:27.753Z"
   },
   {
    "duration": 4,
    "start_time": "2024-10-19T06:14:37.959Z"
   },
   {
    "duration": 8,
    "start_time": "2024-10-19T06:14:49.068Z"
   },
   {
    "duration": 5,
    "start_time": "2024-10-19T06:14:56.542Z"
   },
   {
    "duration": 4,
    "start_time": "2024-10-19T06:14:57.363Z"
   },
   {
    "duration": 4,
    "start_time": "2024-10-19T06:15:04.800Z"
   },
   {
    "duration": 9,
    "start_time": "2024-10-19T06:15:08.427Z"
   },
   {
    "duration": 4,
    "start_time": "2024-10-19T06:15:09.067Z"
   },
   {
    "duration": 4,
    "start_time": "2024-10-19T06:15:15.047Z"
   },
   {
    "duration": 11,
    "start_time": "2024-10-19T06:15:21.072Z"
   },
   {
    "duration": 3,
    "start_time": "2024-10-19T06:15:26.707Z"
   },
   {
    "duration": 4,
    "start_time": "2024-10-19T06:15:42.539Z"
   },
   {
    "duration": 4,
    "start_time": "2024-10-19T06:15:43.704Z"
   },
   {
    "duration": 7,
    "start_time": "2024-10-19T06:15:57.839Z"
   },
   {
    "duration": 4,
    "start_time": "2024-10-19T06:15:59.332Z"
   },
   {
    "duration": 4,
    "start_time": "2024-10-19T06:17:09.232Z"
   },
   {
    "duration": 6,
    "start_time": "2024-10-19T06:17:09.927Z"
   },
   {
    "duration": 5,
    "start_time": "2024-10-19T06:17:13.990Z"
   },
   {
    "duration": 5,
    "start_time": "2024-10-19T06:17:16.072Z"
   },
   {
    "duration": 6,
    "start_time": "2024-10-19T06:17:20.786Z"
   },
   {
    "duration": 5,
    "start_time": "2024-10-19T06:17:21.359Z"
   },
   {
    "duration": 6,
    "start_time": "2024-10-19T06:17:28.462Z"
   },
   {
    "duration": 5,
    "start_time": "2024-10-19T06:17:28.975Z"
   },
   {
    "duration": 3,
    "start_time": "2024-10-19T06:17:43.522Z"
   },
   {
    "duration": 4,
    "start_time": "2024-10-19T06:17:44.920Z"
   },
   {
    "duration": 3,
    "start_time": "2024-10-19T06:17:45.504Z"
   },
   {
    "duration": 4,
    "start_time": "2024-10-19T06:21:07.163Z"
   },
   {
    "duration": 6,
    "start_time": "2024-10-19T06:21:11.566Z"
   },
   {
    "duration": 3,
    "start_time": "2024-10-19T06:21:32.198Z"
   },
   {
    "duration": 4,
    "start_time": "2024-10-19T06:21:33.782Z"
   },
   {
    "duration": 4,
    "start_time": "2024-10-19T06:22:10.814Z"
   },
   {
    "duration": 4,
    "start_time": "2024-10-19T06:22:38.223Z"
   },
   {
    "duration": 7,
    "start_time": "2024-10-19T06:22:54.359Z"
   },
   {
    "duration": 6,
    "start_time": "2024-10-19T06:23:10.074Z"
   },
   {
    "duration": 4,
    "start_time": "2024-10-19T06:23:13.323Z"
   },
   {
    "duration": 7,
    "start_time": "2024-10-19T06:23:37.283Z"
   },
   {
    "duration": 3,
    "start_time": "2024-10-19T06:23:59.295Z"
   },
   {
    "duration": 5,
    "start_time": "2024-10-19T06:23:59.846Z"
   },
   {
    "duration": 4,
    "start_time": "2024-10-19T06:24:02.049Z"
   },
   {
    "duration": 4,
    "start_time": "2024-10-19T06:24:19.370Z"
   },
   {
    "duration": 3,
    "start_time": "2024-10-19T06:24:20.547Z"
   },
   {
    "duration": 3,
    "start_time": "2024-10-19T06:24:20.971Z"
   },
   {
    "duration": 4,
    "start_time": "2024-10-19T06:24:24.937Z"
   },
   {
    "duration": 4,
    "start_time": "2024-10-19T06:24:33.397Z"
   },
   {
    "duration": 3,
    "start_time": "2024-10-19T06:24:36.690Z"
   },
   {
    "duration": 12,
    "start_time": "2024-10-19T06:24:44.289Z"
   },
   {
    "duration": 93,
    "start_time": "2024-10-19T06:31:17.482Z"
   },
   {
    "duration": 11,
    "start_time": "2024-10-19T06:32:03.195Z"
   },
   {
    "duration": 8,
    "start_time": "2024-10-19T06:32:33.047Z"
   },
   {
    "duration": 13,
    "start_time": "2024-10-19T06:35:53.307Z"
   },
   {
    "duration": 79,
    "start_time": "2024-10-19T06:36:18.581Z"
   },
   {
    "duration": 75,
    "start_time": "2024-10-19T06:37:11.470Z"
   },
   {
    "duration": 63,
    "start_time": "2024-10-19T06:37:29.254Z"
   },
   {
    "duration": 5,
    "start_time": "2024-10-19T06:38:49.864Z"
   },
   {
    "duration": 16,
    "start_time": "2024-10-19T06:40:46.564Z"
   },
   {
    "duration": 5,
    "start_time": "2024-10-19T06:41:21.823Z"
   },
   {
    "duration": 5,
    "start_time": "2024-10-19T06:42:00.056Z"
   },
   {
    "duration": 7,
    "start_time": "2024-10-19T06:42:15.037Z"
   },
   {
    "duration": 11,
    "start_time": "2024-10-19T06:43:03.830Z"
   },
   {
    "duration": 11,
    "start_time": "2024-10-19T06:45:33.343Z"
   },
   {
    "duration": 6,
    "start_time": "2024-10-19T06:45:52.156Z"
   },
   {
    "duration": 4,
    "start_time": "2024-10-19T06:48:20.280Z"
   },
   {
    "duration": 11,
    "start_time": "2024-10-19T06:48:24.009Z"
   },
   {
    "duration": 6,
    "start_time": "2024-10-19T06:48:29.730Z"
   },
   {
    "duration": 10,
    "start_time": "2024-10-19T06:48:32.548Z"
   },
   {
    "duration": 9,
    "start_time": "2024-10-19T06:49:42.990Z"
   },
   {
    "duration": 16,
    "start_time": "2024-10-19T06:51:57.092Z"
   },
   {
    "duration": 7,
    "start_time": "2024-10-19T06:52:00.388Z"
   },
   {
    "duration": 9,
    "start_time": "2024-10-19T06:52:03.179Z"
   },
   {
    "duration": 35,
    "start_time": "2024-10-19T06:52:04.171Z"
   },
   {
    "duration": 4,
    "start_time": "2024-10-19T06:52:04.719Z"
   },
   {
    "duration": 16,
    "start_time": "2024-10-19T06:52:09.982Z"
   },
   {
    "duration": 4,
    "start_time": "2024-10-19T06:52:15.746Z"
   },
   {
    "duration": 4,
    "start_time": "2024-10-19T06:52:16.375Z"
   },
   {
    "duration": 4,
    "start_time": "2024-10-19T06:52:16.886Z"
   },
   {
    "duration": 4,
    "start_time": "2024-10-19T06:52:18.324Z"
   },
   {
    "duration": 3,
    "start_time": "2024-10-19T06:52:21.508Z"
   },
   {
    "duration": 240,
    "start_time": "2024-10-19T06:52:26.119Z"
   },
   {
    "duration": 3,
    "start_time": "2024-10-19T06:52:50.351Z"
   },
   {
    "duration": 104,
    "start_time": "2024-10-19T06:53:04.415Z"
   },
   {
    "duration": 68,
    "start_time": "2024-10-19T06:53:09.531Z"
   },
   {
    "duration": 105,
    "start_time": "2024-10-19T06:53:17.519Z"
   },
   {
    "duration": 7,
    "start_time": "2024-10-19T06:53:23.362Z"
   },
   {
    "duration": 182,
    "start_time": "2024-10-19T06:53:25.451Z"
   },
   {
    "duration": 112,
    "start_time": "2024-10-19T06:53:47.393Z"
   },
   {
    "duration": 74,
    "start_time": "2024-10-19T06:53:55.409Z"
   },
   {
    "duration": 4,
    "start_time": "2024-10-19T06:53:58.748Z"
   },
   {
    "duration": 102,
    "start_time": "2024-10-19T06:54:01.405Z"
   },
   {
    "duration": 66,
    "start_time": "2024-10-19T06:54:06.098Z"
   },
   {
    "duration": 13,
    "start_time": "2024-10-19T06:54:18.385Z"
   },
   {
    "duration": 5,
    "start_time": "2024-10-19T06:54:25.213Z"
   },
   {
    "duration": 101,
    "start_time": "2024-10-19T06:54:33.902Z"
   },
   {
    "duration": 114,
    "start_time": "2024-10-19T06:54:39.129Z"
   },
   {
    "duration": 75,
    "start_time": "2024-10-19T06:54:42.210Z"
   },
   {
    "duration": 93,
    "start_time": "2024-10-19T06:54:46.066Z"
   },
   {
    "duration": 119,
    "start_time": "2024-10-19T06:54:50.246Z"
   },
   {
    "duration": 5,
    "start_time": "2024-10-19T06:54:51.040Z"
   },
   {
    "duration": 4,
    "start_time": "2024-10-19T06:54:52.887Z"
   },
   {
    "duration": 117,
    "start_time": "2024-10-19T06:57:56.412Z"
   },
   {
    "duration": 123,
    "start_time": "2024-10-19T06:58:28.554Z"
   },
   {
    "duration": 78,
    "start_time": "2024-10-19T06:59:12.032Z"
   },
   {
    "duration": 137,
    "start_time": "2024-10-19T07:01:39.064Z"
   },
   {
    "duration": 78,
    "start_time": "2024-10-19T07:01:56.774Z"
   },
   {
    "duration": 96,
    "start_time": "2024-10-19T07:04:02.090Z"
   },
   {
    "duration": 116,
    "start_time": "2024-10-19T07:04:08.682Z"
   },
   {
    "duration": 106,
    "start_time": "2024-10-19T07:04:16.977Z"
   },
   {
    "duration": 6,
    "start_time": "2024-10-19T07:04:31.099Z"
   },
   {
    "duration": 125,
    "start_time": "2024-10-19T07:04:52.222Z"
   },
   {
    "duration": 77,
    "start_time": "2024-10-19T07:04:54.138Z"
   },
   {
    "duration": 6,
    "start_time": "2024-10-19T07:06:22.884Z"
   },
   {
    "duration": 5,
    "start_time": "2024-10-19T07:06:27.634Z"
   },
   {
    "duration": 6,
    "start_time": "2024-10-19T07:06:34.436Z"
   },
   {
    "duration": 112,
    "start_time": "2024-10-19T07:07:14.820Z"
   },
   {
    "duration": 115,
    "start_time": "2024-10-19T07:07:26.526Z"
   },
   {
    "duration": 6,
    "start_time": "2024-10-19T07:11:26.826Z"
   },
   {
    "duration": 3,
    "start_time": "2024-10-19T07:11:27.890Z"
   },
   {
    "duration": 81,
    "start_time": "2024-10-19T07:11:46.305Z"
   },
   {
    "duration": 76,
    "start_time": "2024-10-19T07:12:14.706Z"
   },
   {
    "duration": 105,
    "start_time": "2024-10-19T07:13:41.929Z"
   },
   {
    "duration": 73,
    "start_time": "2024-10-19T07:13:45.688Z"
   },
   {
    "duration": 109,
    "start_time": "2024-10-19T07:16:35.225Z"
   },
   {
    "duration": 86,
    "start_time": "2024-10-19T07:17:04.272Z"
   },
   {
    "duration": 6,
    "start_time": "2024-10-19T07:17:23.745Z"
   },
   {
    "duration": 103,
    "start_time": "2024-10-19T07:17:56.361Z"
   },
   {
    "duration": 6,
    "start_time": "2024-10-19T07:21:07.773Z"
   },
   {
    "duration": 185,
    "start_time": "2024-10-19T07:21:51.261Z"
   },
   {
    "duration": 104,
    "start_time": "2024-10-19T07:22:34.544Z"
   },
   {
    "duration": 98,
    "start_time": "2024-10-19T07:22:44.508Z"
   },
   {
    "duration": 102,
    "start_time": "2024-10-19T07:23:49.387Z"
   },
   {
    "duration": 72,
    "start_time": "2024-10-19T07:23:58.876Z"
   },
   {
    "duration": 114,
    "start_time": "2024-10-19T07:26:46.267Z"
   },
   {
    "duration": 77,
    "start_time": "2024-10-19T07:26:49.804Z"
   },
   {
    "duration": 7,
    "start_time": "2024-10-19T07:26:53.601Z"
   },
   {
    "duration": 28,
    "start_time": "2024-10-19T07:26:55.051Z"
   },
   {
    "duration": 4,
    "start_time": "2024-10-19T07:27:01.827Z"
   },
   {
    "duration": 80,
    "start_time": "2024-10-19T07:27:03.275Z"
   },
   {
    "duration": 5,
    "start_time": "2024-10-19T07:27:09.715Z"
   },
   {
    "duration": 5,
    "start_time": "2024-10-19T07:27:12.923Z"
   },
   {
    "duration": 87,
    "start_time": "2024-10-19T07:27:14.431Z"
   },
   {
    "duration": 111,
    "start_time": "2024-10-19T07:27:24.860Z"
   },
   {
    "duration": 110,
    "start_time": "2024-10-19T07:27:55.881Z"
   },
   {
    "duration": 118,
    "start_time": "2024-10-19T07:28:15.031Z"
   },
   {
    "duration": 110,
    "start_time": "2024-10-19T07:28:54.040Z"
   },
   {
    "duration": 89,
    "start_time": "2024-10-19T07:31:05.095Z"
   },
   {
    "duration": 109,
    "start_time": "2024-10-19T07:32:34.094Z"
   },
   {
    "duration": 75,
    "start_time": "2024-10-19T07:32:43.258Z"
   },
   {
    "duration": 5,
    "start_time": "2024-10-19T07:33:09.039Z"
   },
   {
    "duration": 7,
    "start_time": "2024-10-19T07:33:19.885Z"
   },
   {
    "duration": 3,
    "start_time": "2024-10-19T07:33:20.994Z"
   },
   {
    "duration": 101,
    "start_time": "2024-10-19T07:33:30.870Z"
   },
   {
    "duration": 79,
    "start_time": "2024-10-19T07:33:35.147Z"
   },
   {
    "duration": 5,
    "start_time": "2024-10-19T07:33:43.491Z"
   },
   {
    "duration": 111,
    "start_time": "2024-10-19T07:33:54.890Z"
   },
   {
    "duration": 93,
    "start_time": "2024-10-19T07:34:02.246Z"
   },
   {
    "duration": 8,
    "start_time": "2024-10-19T07:34:15.026Z"
   },
   {
    "duration": 189,
    "start_time": "2024-10-19T07:34:15.631Z"
   },
   {
    "duration": 109,
    "start_time": "2024-10-19T07:34:39.719Z"
   },
   {
    "duration": 76,
    "start_time": "2024-10-19T07:34:43.404Z"
   },
   {
    "duration": 4,
    "start_time": "2024-10-19T07:37:46.302Z"
   },
   {
    "duration": 105,
    "start_time": "2024-10-19T07:40:14.090Z"
   },
   {
    "duration": 83,
    "start_time": "2024-10-19T07:40:17.818Z"
   },
   {
    "duration": 5,
    "start_time": "2024-10-19T07:40:22.446Z"
   },
   {
    "duration": 112,
    "start_time": "2024-10-19T07:40:53.754Z"
   },
   {
    "duration": 41,
    "start_time": "2024-10-19T07:41:34.853Z"
   },
   {
    "duration": 10,
    "start_time": "2024-10-19T07:41:41.464Z"
   },
   {
    "duration": 127,
    "start_time": "2024-10-19T07:41:47.106Z"
   },
   {
    "duration": 15,
    "start_time": "2024-10-19T07:43:10.690Z"
   },
   {
    "duration": 2,
    "start_time": "2024-10-19T07:43:11.542Z"
   },
   {
    "duration": 7,
    "start_time": "2024-10-19T07:43:12.274Z"
   },
   {
    "duration": 5,
    "start_time": "2024-10-19T07:43:24.137Z"
   },
   {
    "duration": 4,
    "start_time": "2024-10-19T07:43:24.705Z"
   },
   {
    "duration": 119,
    "start_time": "2024-10-19T07:43:51.295Z"
   },
   {
    "duration": 2,
    "start_time": "2024-10-19T07:44:55.739Z"
   },
   {
    "duration": 127,
    "start_time": "2024-10-19T07:45:12.318Z"
   },
   {
    "duration": 115,
    "start_time": "2024-10-19T07:45:50.285Z"
   },
   {
    "duration": 17,
    "start_time": "2024-10-19T07:45:55.978Z"
   },
   {
    "duration": 103,
    "start_time": "2024-10-19T08:38:38.981Z"
   },
   {
    "duration": 121,
    "start_time": "2024-10-19T08:39:02.586Z"
   },
   {
    "duration": 115,
    "start_time": "2024-10-19T08:39:11.873Z"
   },
   {
    "duration": 99,
    "start_time": "2024-10-19T08:47:13.146Z"
   },
   {
    "duration": 10,
    "start_time": "2024-10-19T08:49:27.705Z"
   },
   {
    "duration": 13,
    "start_time": "2024-10-19T08:50:08.395Z"
   },
   {
    "duration": 12,
    "start_time": "2024-10-19T08:51:01.172Z"
   },
   {
    "duration": 5,
    "start_time": "2024-10-19T08:54:26.333Z"
   },
   {
    "duration": 7,
    "start_time": "2024-10-19T08:56:31.683Z"
   },
   {
    "duration": 8,
    "start_time": "2024-10-19T09:01:16.228Z"
   },
   {
    "duration": 12,
    "start_time": "2024-10-19T09:02:14.775Z"
   },
   {
    "duration": 3,
    "start_time": "2024-10-19T09:02:59.940Z"
   },
   {
    "duration": 3,
    "start_time": "2024-10-19T09:03:09.321Z"
   },
   {
    "duration": 13,
    "start_time": "2024-10-19T09:03:19.897Z"
   },
   {
    "duration": 13,
    "start_time": "2024-10-19T09:03:25.163Z"
   },
   {
    "duration": 12,
    "start_time": "2024-10-19T09:04:12.572Z"
   },
   {
    "duration": 16,
    "start_time": "2024-10-19T09:04:28.333Z"
   },
   {
    "duration": 11,
    "start_time": "2024-10-19T09:07:22.014Z"
   },
   {
    "duration": 13,
    "start_time": "2024-10-19T09:08:02.515Z"
   },
   {
    "duration": 30,
    "start_time": "2024-10-19T09:12:37.779Z"
   },
   {
    "duration": 5,
    "start_time": "2024-10-19T09:13:55.388Z"
   },
   {
    "duration": 4,
    "start_time": "2024-10-19T09:14:09.219Z"
   },
   {
    "duration": 14,
    "start_time": "2024-10-19T09:16:03.623Z"
   },
   {
    "duration": 7,
    "start_time": "2024-10-19T09:16:27.879Z"
   },
   {
    "duration": 5,
    "start_time": "2024-10-19T09:16:34.734Z"
   },
   {
    "duration": 1044,
    "start_time": "2024-10-19T09:17:03.754Z"
   },
   {
    "duration": 87,
    "start_time": "2024-10-19T09:17:04.983Z"
   },
   {
    "duration": 4,
    "start_time": "2024-10-19T09:17:06.006Z"
   },
   {
    "duration": 21,
    "start_time": "2024-10-19T09:17:16.582Z"
   },
   {
    "duration": 14,
    "start_time": "2024-10-19T09:17:19.469Z"
   },
   {
    "duration": 1602,
    "start_time": "2024-10-19T09:17:29.050Z"
   },
   {
    "duration": 7,
    "start_time": "2024-10-19T09:17:39.734Z"
   },
   {
    "duration": 3,
    "start_time": "2024-10-19T09:17:44.610Z"
   },
   {
    "duration": 7,
    "start_time": "2024-10-19T09:17:47.410Z"
   },
   {
    "duration": 4,
    "start_time": "2024-10-19T09:17:50.293Z"
   },
   {
    "duration": 3,
    "start_time": "2024-10-19T09:17:50.854Z"
   },
   {
    "duration": 5,
    "start_time": "2024-10-19T09:17:55.138Z"
   },
   {
    "duration": 9,
    "start_time": "2024-10-19T09:17:57.050Z"
   },
   {
    "duration": 4,
    "start_time": "2024-10-19T09:17:59.866Z"
   },
   {
    "duration": 4,
    "start_time": "2024-10-19T09:18:05.157Z"
   },
   {
    "duration": 8,
    "start_time": "2024-10-19T09:18:08.941Z"
   },
   {
    "duration": 4,
    "start_time": "2024-10-19T09:18:10.007Z"
   },
   {
    "duration": 5,
    "start_time": "2024-10-19T09:18:10.562Z"
   },
   {
    "duration": 4,
    "start_time": "2024-10-19T09:18:11.038Z"
   },
   {
    "duration": 8,
    "start_time": "2024-10-19T09:18:16.989Z"
   },
   {
    "duration": 3,
    "start_time": "2024-10-19T09:18:17.543Z"
   },
   {
    "duration": 4,
    "start_time": "2024-10-19T09:18:19.797Z"
   },
   {
    "duration": 5,
    "start_time": "2024-10-19T09:18:20.808Z"
   },
   {
    "duration": 4,
    "start_time": "2024-10-19T09:18:23.929Z"
   },
   {
    "duration": 4,
    "start_time": "2024-10-19T09:18:24.794Z"
   },
   {
    "duration": 7,
    "start_time": "2024-10-19T09:18:25.776Z"
   },
   {
    "duration": 6,
    "start_time": "2024-10-19T09:18:28.149Z"
   },
   {
    "duration": 7,
    "start_time": "2024-10-19T09:18:36.344Z"
   },
   {
    "duration": 6,
    "start_time": "2024-10-19T09:18:37.261Z"
   },
   {
    "duration": 3,
    "start_time": "2024-10-19T09:18:52.445Z"
   },
   {
    "duration": 4,
    "start_time": "2024-10-19T09:18:53.731Z"
   },
   {
    "duration": 4,
    "start_time": "2024-10-19T09:18:58.491Z"
   },
   {
    "duration": 4,
    "start_time": "2024-10-19T09:19:00.389Z"
   },
   {
    "duration": 6,
    "start_time": "2024-10-19T09:19:08.457Z"
   },
   {
    "duration": 3,
    "start_time": "2024-10-19T09:19:15.469Z"
   },
   {
    "duration": 4,
    "start_time": "2024-10-19T09:19:15.878Z"
   },
   {
    "duration": 4,
    "start_time": "2024-10-19T09:19:18.230Z"
   },
   {
    "duration": 7,
    "start_time": "2024-10-19T09:19:29.698Z"
   },
   {
    "duration": 12,
    "start_time": "2024-10-19T09:19:48.755Z"
   },
   {
    "duration": 6,
    "start_time": "2024-10-19T09:20:08.456Z"
   },
   {
    "duration": 5,
    "start_time": "2024-10-19T09:20:09.462Z"
   },
   {
    "duration": 6,
    "start_time": "2024-10-19T09:20:19.038Z"
   },
   {
    "duration": 4,
    "start_time": "2024-10-19T09:20:21.142Z"
   },
   {
    "duration": 3,
    "start_time": "2024-10-19T09:20:22.590Z"
   },
   {
    "duration": 4,
    "start_time": "2024-10-19T09:20:36.533Z"
   },
   {
    "duration": 9,
    "start_time": "2024-10-19T09:20:43.721Z"
   },
   {
    "duration": 6,
    "start_time": "2024-10-19T09:20:54.135Z"
   },
   {
    "duration": 4,
    "start_time": "2024-10-19T09:21:02.711Z"
   },
   {
    "duration": 7,
    "start_time": "2024-10-19T09:21:06.410Z"
   },
   {
    "duration": 3,
    "start_time": "2024-10-19T09:21:07.456Z"
   },
   {
    "duration": 4,
    "start_time": "2024-10-19T09:21:07.842Z"
   },
   {
    "duration": 4,
    "start_time": "2024-10-19T09:21:10.692Z"
   },
   {
    "duration": 4,
    "start_time": "2024-10-19T09:21:14.601Z"
   },
   {
    "duration": 3,
    "start_time": "2024-10-19T09:21:17.937Z"
   },
   {
    "duration": 4,
    "start_time": "2024-10-19T09:21:18.310Z"
   },
   {
    "duration": 4,
    "start_time": "2024-10-19T09:21:19.336Z"
   },
   {
    "duration": 4,
    "start_time": "2024-10-19T09:21:23.833Z"
   },
   {
    "duration": 3,
    "start_time": "2024-10-19T09:21:29.785Z"
   },
   {
    "duration": 11,
    "start_time": "2024-10-19T09:21:46.302Z"
   },
   {
    "duration": 6,
    "start_time": "2024-10-19T09:22:06.697Z"
   },
   {
    "duration": 5,
    "start_time": "2024-10-19T09:22:09.761Z"
   },
   {
    "duration": 6,
    "start_time": "2024-10-19T09:22:14.600Z"
   },
   {
    "duration": 13,
    "start_time": "2024-10-19T09:22:14.993Z"
   },
   {
    "duration": 16,
    "start_time": "2024-10-19T09:22:25.382Z"
   },
   {
    "duration": 9,
    "start_time": "2024-10-19T09:22:29.277Z"
   },
   {
    "duration": 9,
    "start_time": "2024-10-19T09:22:38.141Z"
   },
   {
    "duration": 34,
    "start_time": "2024-10-19T09:22:39.165Z"
   },
   {
    "duration": 5,
    "start_time": "2024-10-19T09:22:41.146Z"
   },
   {
    "duration": 16,
    "start_time": "2024-10-19T09:22:44.964Z"
   },
   {
    "duration": 3,
    "start_time": "2024-10-19T09:22:46.177Z"
   },
   {
    "duration": 3,
    "start_time": "2024-10-19T09:22:55.562Z"
   },
   {
    "duration": 5,
    "start_time": "2024-10-19T09:22:56.670Z"
   },
   {
    "duration": 5,
    "start_time": "2024-10-19T09:22:58.552Z"
   },
   {
    "duration": 5,
    "start_time": "2024-10-19T09:22:59.825Z"
   },
   {
    "duration": 2,
    "start_time": "2024-10-19T09:23:02.398Z"
   },
   {
    "duration": 247,
    "start_time": "2024-10-19T09:23:03.130Z"
   },
   {
    "duration": 4,
    "start_time": "2024-10-19T09:23:07.212Z"
   },
   {
    "duration": 104,
    "start_time": "2024-10-19T09:23:22.002Z"
   },
   {
    "duration": 74,
    "start_time": "2024-10-19T09:23:37.368Z"
   },
   {
    "duration": 106,
    "start_time": "2024-10-19T09:23:41.433Z"
   },
   {
    "duration": 6,
    "start_time": "2024-10-19T09:23:46.765Z"
   },
   {
    "duration": 108,
    "start_time": "2024-10-19T09:23:48.450Z"
   },
   {
    "duration": 114,
    "start_time": "2024-10-19T09:23:55.381Z"
   },
   {
    "duration": 81,
    "start_time": "2024-10-19T09:24:04.069Z"
   },
   {
    "duration": 6,
    "start_time": "2024-10-19T09:24:08.362Z"
   },
   {
    "duration": 109,
    "start_time": "2024-10-19T09:24:10.705Z"
   },
   {
    "duration": 172,
    "start_time": "2024-10-19T09:24:18.565Z"
   },
   {
    "duration": 68,
    "start_time": "2024-10-19T09:24:21.582Z"
   },
   {
    "duration": 10,
    "start_time": "2024-10-19T09:24:26.153Z"
   },
   {
    "duration": 5,
    "start_time": "2024-10-19T09:24:30.866Z"
   },
   {
    "duration": 107,
    "start_time": "2024-10-19T09:24:33.143Z"
   },
   {
    "duration": 137,
    "start_time": "2024-10-19T09:24:38.317Z"
   },
   {
    "duration": 77,
    "start_time": "2024-10-19T09:24:41.399Z"
   },
   {
    "duration": 101,
    "start_time": "2024-10-19T09:24:47.624Z"
   },
   {
    "duration": 107,
    "start_time": "2024-10-19T09:24:49.577Z"
   },
   {
    "duration": 119,
    "start_time": "2024-10-19T09:25:02.390Z"
   },
   {
    "duration": 82,
    "start_time": "2024-10-19T09:25:18.874Z"
   },
   {
    "duration": 6,
    "start_time": "2024-10-19T09:25:36.805Z"
   },
   {
    "duration": 110,
    "start_time": "2024-10-19T09:25:41.813Z"
   },
   {
    "duration": 101,
    "start_time": "2024-10-19T09:25:49.297Z"
   },
   {
    "duration": 68,
    "start_time": "2024-10-19T09:25:52.165Z"
   },
   {
    "duration": 171,
    "start_time": "2024-10-19T09:26:02.601Z"
   },
   {
    "duration": 79,
    "start_time": "2024-10-19T09:26:07.813Z"
   },
   {
    "duration": 29,
    "start_time": "2024-10-19T09:26:27.675Z"
   },
   {
    "duration": 5,
    "start_time": "2024-10-19T09:26:34.804Z"
   },
   {
    "duration": 78,
    "start_time": "2024-10-19T09:26:35.610Z"
   },
   {
    "duration": 8,
    "start_time": "2024-10-19T09:26:49.584Z"
   },
   {
    "duration": 6,
    "start_time": "2024-10-19T09:26:50.401Z"
   },
   {
    "duration": 82,
    "start_time": "2024-10-19T09:26:52.022Z"
   },
   {
    "duration": 117,
    "start_time": "2024-10-19T09:27:05.944Z"
   },
   {
    "duration": 87,
    "start_time": "2024-10-19T09:27:21.737Z"
   },
   {
    "duration": 109,
    "start_time": "2024-10-19T09:27:36.866Z"
   },
   {
    "duration": 77,
    "start_time": "2024-10-19T09:27:43.965Z"
   },
   {
    "duration": 4,
    "start_time": "2024-10-19T09:27:53.037Z"
   },
   {
    "duration": 6,
    "start_time": "2024-10-19T09:28:02.664Z"
   },
   {
    "duration": 120,
    "start_time": "2024-10-19T09:28:03.317Z"
   },
   {
    "duration": 102,
    "start_time": "2024-10-19T09:28:13.664Z"
   },
   {
    "duration": 81,
    "start_time": "2024-10-19T09:28:16.976Z"
   },
   {
    "duration": 6,
    "start_time": "2024-10-19T09:28:26.850Z"
   },
   {
    "duration": 107,
    "start_time": "2024-10-19T09:28:44.048Z"
   },
   {
    "duration": 78,
    "start_time": "2024-10-19T09:28:48.026Z"
   },
   {
    "duration": 7,
    "start_time": "2024-10-19T09:28:59.040Z"
   },
   {
    "duration": 105,
    "start_time": "2024-10-19T09:28:59.853Z"
   },
   {
    "duration": 107,
    "start_time": "2024-10-19T09:29:49.600Z"
   },
   {
    "duration": 174,
    "start_time": "2024-10-19T09:30:08.714Z"
   },
   {
    "duration": 3,
    "start_time": "2024-10-19T09:30:52.312Z"
   },
   {
    "duration": 107,
    "start_time": "2024-10-19T09:31:08.656Z"
   },
   {
    "duration": 89,
    "start_time": "2024-10-19T09:35:22.088Z"
   },
   {
    "duration": 4,
    "start_time": "2024-10-19T09:35:26.772Z"
   },
   {
    "duration": 114,
    "start_time": "2024-10-19T09:35:33.443Z"
   },
   {
    "duration": 42,
    "start_time": "2024-10-19T09:35:40.300Z"
   },
   {
    "duration": 9,
    "start_time": "2024-10-19T09:36:05.494Z"
   },
   {
    "duration": 116,
    "start_time": "2024-10-19T09:36:08.568Z"
   },
   {
    "duration": 15,
    "start_time": "2024-10-19T09:42:40.220Z"
   },
   {
    "duration": 2,
    "start_time": "2024-10-19T09:42:54.100Z"
   },
   {
    "duration": 7,
    "start_time": "2024-10-19T09:42:55.256Z"
   },
   {
    "duration": 5,
    "start_time": "2024-10-19T09:45:15.511Z"
   },
   {
    "duration": 115,
    "start_time": "2024-10-19T09:45:25.280Z"
   },
   {
    "duration": 122,
    "start_time": "2024-10-19T09:45:39.124Z"
   },
   {
    "duration": 113,
    "start_time": "2024-10-19T09:45:50.351Z"
   },
   {
    "duration": 20,
    "start_time": "2024-10-19T09:45:52.183Z"
   },
   {
    "duration": 50,
    "start_time": "2024-10-19T11:19:53.500Z"
   },
   {
    "duration": 1532,
    "start_time": "2024-10-19T11:20:02.421Z"
   },
   {
    "duration": 330,
    "start_time": "2024-10-19T11:20:03.956Z"
   },
   {
    "duration": 6,
    "start_time": "2024-10-19T11:20:04.288Z"
   },
   {
    "duration": 44,
    "start_time": "2024-10-19T11:20:04.296Z"
   },
   {
    "duration": 15,
    "start_time": "2024-10-19T11:20:04.342Z"
   },
   {
    "duration": 2073,
    "start_time": "2024-10-19T11:20:04.359Z"
   },
   {
    "duration": 11,
    "start_time": "2024-10-19T11:20:06.434Z"
   },
   {
    "duration": 11,
    "start_time": "2024-10-19T11:20:06.447Z"
   },
   {
    "duration": 20,
    "start_time": "2024-10-19T11:20:06.459Z"
   },
   {
    "duration": 6,
    "start_time": "2024-10-19T11:20:06.481Z"
   },
   {
    "duration": 8,
    "start_time": "2024-10-19T11:20:06.488Z"
   },
   {
    "duration": 37,
    "start_time": "2024-10-19T11:20:06.498Z"
   },
   {
    "duration": 43,
    "start_time": "2024-10-19T11:20:06.537Z"
   },
   {
    "duration": 35,
    "start_time": "2024-10-19T11:20:06.582Z"
   },
   {
    "duration": 12,
    "start_time": "2024-10-19T11:20:06.618Z"
   },
   {
    "duration": 15,
    "start_time": "2024-10-19T11:20:06.632Z"
   },
   {
    "duration": 4,
    "start_time": "2024-10-19T11:20:06.649Z"
   },
   {
    "duration": 5,
    "start_time": "2024-10-19T11:20:06.654Z"
   },
   {
    "duration": 4,
    "start_time": "2024-10-19T11:20:06.661Z"
   },
   {
    "duration": 8,
    "start_time": "2024-10-19T11:20:06.666Z"
   },
   {
    "duration": 4,
    "start_time": "2024-10-19T11:20:06.676Z"
   },
   {
    "duration": 18,
    "start_time": "2024-10-19T11:20:06.681Z"
   },
   {
    "duration": 17,
    "start_time": "2024-10-19T11:20:06.701Z"
   },
   {
    "duration": 80,
    "start_time": "2024-10-19T11:20:06.719Z"
   },
   {
    "duration": 26,
    "start_time": "2024-10-19T11:20:06.801Z"
   },
   {
    "duration": 18,
    "start_time": "2024-10-19T11:20:06.829Z"
   },
   {
    "duration": 10,
    "start_time": "2024-10-19T11:20:06.848Z"
   },
   {
    "duration": 18,
    "start_time": "2024-10-19T11:20:06.862Z"
   },
   {
    "duration": 6,
    "start_time": "2024-10-19T11:20:06.882Z"
   },
   {
    "duration": 25,
    "start_time": "2024-10-19T11:20:06.889Z"
   },
   {
    "duration": 13,
    "start_time": "2024-10-19T11:20:06.916Z"
   },
   {
    "duration": 18,
    "start_time": "2024-10-19T11:20:06.931Z"
   },
   {
    "duration": 74,
    "start_time": "2024-10-19T11:20:06.951Z"
   },
   {
    "duration": 21,
    "start_time": "2024-10-19T11:20:07.027Z"
   },
   {
    "duration": 8,
    "start_time": "2024-10-19T11:20:07.050Z"
   },
   {
    "duration": 5,
    "start_time": "2024-10-19T11:20:07.059Z"
   },
   {
    "duration": 19,
    "start_time": "2024-10-19T11:20:07.065Z"
   },
   {
    "duration": 33,
    "start_time": "2024-10-19T11:20:07.085Z"
   },
   {
    "duration": 14,
    "start_time": "2024-10-19T11:20:07.120Z"
   },
   {
    "duration": 6,
    "start_time": "2024-10-19T11:20:07.135Z"
   },
   {
    "duration": 9,
    "start_time": "2024-10-19T11:20:07.142Z"
   },
   {
    "duration": 12,
    "start_time": "2024-10-19T11:20:07.152Z"
   },
   {
    "duration": 6,
    "start_time": "2024-10-19T11:20:07.165Z"
   },
   {
    "duration": 7,
    "start_time": "2024-10-19T11:20:07.173Z"
   },
   {
    "duration": 15,
    "start_time": "2024-10-19T11:20:07.181Z"
   },
   {
    "duration": 19,
    "start_time": "2024-10-19T11:20:07.198Z"
   },
   {
    "duration": 12,
    "start_time": "2024-10-19T11:20:07.218Z"
   },
   {
    "duration": 5,
    "start_time": "2024-10-19T11:20:07.231Z"
   },
   {
    "duration": 18,
    "start_time": "2024-10-19T11:20:07.237Z"
   },
   {
    "duration": 12,
    "start_time": "2024-10-19T11:20:07.256Z"
   },
   {
    "duration": 4,
    "start_time": "2024-10-19T11:20:07.270Z"
   },
   {
    "duration": 7,
    "start_time": "2024-10-19T11:20:07.276Z"
   },
   {
    "duration": 90,
    "start_time": "2024-10-19T11:20:07.285Z"
   },
   {
    "duration": 4,
    "start_time": "2024-10-19T11:20:07.377Z"
   },
   {
    "duration": 17,
    "start_time": "2024-10-19T11:20:07.382Z"
   },
   {
    "duration": 23,
    "start_time": "2024-10-19T11:20:07.400Z"
   },
   {
    "duration": 8,
    "start_time": "2024-10-19T11:20:07.424Z"
   },
   {
    "duration": 28,
    "start_time": "2024-10-19T11:20:07.433Z"
   },
   {
    "duration": 15,
    "start_time": "2024-10-19T11:20:07.464Z"
   },
   {
    "duration": 9,
    "start_time": "2024-10-19T11:20:07.481Z"
   },
   {
    "duration": 14,
    "start_time": "2024-10-19T11:20:07.492Z"
   },
   {
    "duration": 10,
    "start_time": "2024-10-19T11:20:07.508Z"
   },
   {
    "duration": 18,
    "start_time": "2024-10-19T11:20:07.519Z"
   },
   {
    "duration": 29,
    "start_time": "2024-10-19T11:20:07.538Z"
   },
   {
    "duration": 10,
    "start_time": "2024-10-19T11:20:07.569Z"
   },
   {
    "duration": 11,
    "start_time": "2024-10-19T11:20:07.581Z"
   },
   {
    "duration": 70,
    "start_time": "2024-10-19T11:20:07.594Z"
   },
   {
    "duration": 6,
    "start_time": "2024-10-19T11:20:07.666Z"
   },
   {
    "duration": 62,
    "start_time": "2024-10-19T11:20:07.674Z"
   },
   {
    "duration": 4,
    "start_time": "2024-10-19T11:20:07.738Z"
   },
   {
    "duration": 7,
    "start_time": "2024-10-19T11:20:07.744Z"
   },
   {
    "duration": 6,
    "start_time": "2024-10-19T11:20:07.753Z"
   },
   {
    "duration": 6,
    "start_time": "2024-10-19T11:20:07.760Z"
   },
   {
    "duration": 3,
    "start_time": "2024-10-19T11:20:07.768Z"
   },
   {
    "duration": 287,
    "start_time": "2024-10-19T11:20:07.773Z"
   },
   {
    "duration": 5,
    "start_time": "2024-10-19T11:20:08.062Z"
   },
   {
    "duration": 150,
    "start_time": "2024-10-19T11:20:08.068Z"
   },
   {
    "duration": 106,
    "start_time": "2024-10-19T11:20:08.219Z"
   },
   {
    "duration": 160,
    "start_time": "2024-10-19T11:20:08.327Z"
   },
   {
    "duration": 6,
    "start_time": "2024-10-19T11:20:08.489Z"
   },
   {
    "duration": 143,
    "start_time": "2024-10-19T11:20:08.497Z"
   },
   {
    "duration": 150,
    "start_time": "2024-10-19T11:20:08.655Z"
   },
   {
    "duration": 104,
    "start_time": "2024-10-19T11:20:08.806Z"
   },
   {
    "duration": 5,
    "start_time": "2024-10-19T11:20:08.912Z"
   },
   {
    "duration": 156,
    "start_time": "2024-10-19T11:20:08.919Z"
   },
   {
    "duration": 277,
    "start_time": "2024-10-19T11:20:09.077Z"
   },
   {
    "duration": 98,
    "start_time": "2024-10-19T11:20:09.355Z"
   },
   {
    "duration": 14,
    "start_time": "2024-10-19T11:20:09.455Z"
   },
   {
    "duration": 9,
    "start_time": "2024-10-19T11:20:09.471Z"
   },
   {
    "duration": 162,
    "start_time": "2024-10-19T11:20:09.482Z"
   },
   {
    "duration": 166,
    "start_time": "2024-10-19T11:20:09.646Z"
   },
   {
    "duration": 109,
    "start_time": "2024-10-19T11:20:09.814Z"
   },
   {
    "duration": 141,
    "start_time": "2024-10-19T11:20:09.924Z"
   },
   {
    "duration": 157,
    "start_time": "2024-10-19T11:20:10.067Z"
   },
   {
    "duration": 156,
    "start_time": "2024-10-19T11:20:10.226Z"
   },
   {
    "duration": 117,
    "start_time": "2024-10-19T11:20:10.384Z"
   },
   {
    "duration": 8,
    "start_time": "2024-10-19T11:20:10.503Z"
   },
   {
    "duration": 174,
    "start_time": "2024-10-19T11:20:10.513Z"
   },
   {
    "duration": 166,
    "start_time": "2024-10-19T11:20:10.689Z"
   },
   {
    "duration": 103,
    "start_time": "2024-10-19T11:20:10.857Z"
   },
   {
    "duration": 260,
    "start_time": "2024-10-19T11:20:10.963Z"
   },
   {
    "duration": 111,
    "start_time": "2024-10-19T11:20:11.225Z"
   },
   {
    "duration": 48,
    "start_time": "2024-10-19T11:20:11.337Z"
   },
   {
    "duration": 5,
    "start_time": "2024-10-19T11:20:11.387Z"
   },
   {
    "duration": 120,
    "start_time": "2024-10-19T11:20:11.393Z"
   },
   {
    "duration": 7,
    "start_time": "2024-10-19T11:20:11.516Z"
   },
   {
    "duration": 29,
    "start_time": "2024-10-19T11:20:11.525Z"
   },
   {
    "duration": 152,
    "start_time": "2024-10-19T11:20:11.555Z"
   },
   {
    "duration": 126,
    "start_time": "2024-10-19T11:20:11.708Z"
   },
   {
    "duration": 147,
    "start_time": "2024-10-19T11:20:11.836Z"
   },
   {
    "duration": 108,
    "start_time": "2024-10-19T11:20:11.984Z"
   },
   {
    "duration": 5,
    "start_time": "2024-10-19T11:20:12.093Z"
   },
   {
    "duration": 12,
    "start_time": "2024-10-19T11:20:12.100Z"
   },
   {
    "duration": 171,
    "start_time": "2024-10-19T11:20:12.113Z"
   },
   {
    "duration": 138,
    "start_time": "2024-10-19T11:20:12.286Z"
   },
   {
    "duration": 114,
    "start_time": "2024-10-19T11:20:12.426Z"
   },
   {
    "duration": 11,
    "start_time": "2024-10-19T11:20:12.541Z"
   },
   {
    "duration": 151,
    "start_time": "2024-10-19T11:20:12.554Z"
   },
   {
    "duration": 108,
    "start_time": "2024-10-19T11:20:12.706Z"
   },
   {
    "duration": 9,
    "start_time": "2024-10-19T11:20:12.815Z"
   },
   {
    "duration": 174,
    "start_time": "2024-10-19T11:20:12.826Z"
   },
   {
    "duration": 140,
    "start_time": "2024-10-19T11:20:13.002Z"
   },
   {
    "duration": 148,
    "start_time": "2024-10-19T11:20:13.144Z"
   },
   {
    "duration": 3,
    "start_time": "2024-10-19T11:20:13.294Z"
   },
   {
    "duration": 312,
    "start_time": "2024-10-19T11:20:13.299Z"
   },
   {
    "duration": 119,
    "start_time": "2024-10-19T11:20:13.612Z"
   },
   {
    "duration": 5,
    "start_time": "2024-10-19T11:20:13.733Z"
   },
   {
    "duration": 175,
    "start_time": "2024-10-19T11:20:13.752Z"
   },
   {
    "duration": 235,
    "start_time": "2024-10-19T11:20:13.929Z"
   },
   {
    "duration": 38,
    "start_time": "2024-10-19T11:20:14.167Z"
   },
   {
    "duration": 12,
    "start_time": "2024-10-19T11:20:14.207Z"
   },
   {
    "duration": 175,
    "start_time": "2024-10-19T11:20:14.221Z"
   },
   {
    "duration": 18,
    "start_time": "2024-10-19T11:20:14.397Z"
   },
   {
    "duration": 2,
    "start_time": "2024-10-19T11:20:14.417Z"
   },
   {
    "duration": 16,
    "start_time": "2024-10-19T11:20:14.421Z"
   },
   {
    "duration": 15,
    "start_time": "2024-10-19T11:20:14.439Z"
   },
   {
    "duration": 158,
    "start_time": "2024-10-19T11:20:14.455Z"
   },
   {
    "duration": 158,
    "start_time": "2024-10-19T11:20:14.615Z"
   },
   {
    "duration": 154,
    "start_time": "2024-10-19T11:20:14.775Z"
   },
   {
    "duration": 31,
    "start_time": "2024-10-19T11:20:14.931Z"
   },
   {
    "duration": 83,
    "start_time": "2024-10-19T14:24:43.945Z"
   },
   {
    "duration": 1307,
    "start_time": "2024-10-19T14:39:48.085Z"
   },
   {
    "duration": 151,
    "start_time": "2024-10-19T14:39:50.863Z"
   },
   {
    "duration": 5,
    "start_time": "2024-10-19T14:39:53.704Z"
   },
   {
    "duration": 23,
    "start_time": "2024-10-19T14:39:55.446Z"
   },
   {
    "duration": 19,
    "start_time": "2024-10-19T14:39:56.779Z"
   },
   {
    "duration": 1791,
    "start_time": "2024-10-19T14:40:00.639Z"
   },
   {
    "duration": 10,
    "start_time": "2024-10-19T14:40:11.250Z"
   },
   {
    "duration": 5,
    "start_time": "2024-10-19T14:40:14.792Z"
   },
   {
    "duration": 9,
    "start_time": "2024-10-19T14:40:20.318Z"
   },
   {
    "duration": 4,
    "start_time": "2024-10-19T14:40:30.735Z"
   },
   {
    "duration": 4,
    "start_time": "2024-10-19T14:40:31.455Z"
   },
   {
    "duration": 4,
    "start_time": "2024-10-19T14:40:35.054Z"
   },
   {
    "duration": 8,
    "start_time": "2024-10-19T14:40:36.343Z"
   },
   {
    "duration": 4,
    "start_time": "2024-10-19T14:40:40.728Z"
   },
   {
    "duration": 5,
    "start_time": "2024-10-19T14:40:42.030Z"
   },
   {
    "duration": 96,
    "start_time": "2024-10-19T14:58:53.777Z"
   },
   {
    "duration": 4,
    "start_time": "2024-10-19T14:59:04.322Z"
   },
   {
    "duration": 4,
    "start_time": "2024-10-19T15:00:23.684Z"
   },
   {
    "duration": 4,
    "start_time": "2024-10-19T15:00:28.048Z"
   },
   {
    "duration": 1246,
    "start_time": "2024-10-20T05:50:07.854Z"
   },
   {
    "duration": 150,
    "start_time": "2024-10-20T05:50:10.604Z"
   },
   {
    "duration": 5,
    "start_time": "2024-10-20T05:50:11.301Z"
   },
   {
    "duration": 23,
    "start_time": "2024-10-20T05:50:14.468Z"
   },
   {
    "duration": 13,
    "start_time": "2024-10-20T05:50:15.987Z"
   },
   {
    "duration": 1769,
    "start_time": "2024-10-20T05:50:18.185Z"
   },
   {
    "duration": 12,
    "start_time": "2024-10-20T05:50:30.587Z"
   },
   {
    "duration": 4,
    "start_time": "2024-10-20T05:50:37.823Z"
   },
   {
    "duration": 8,
    "start_time": "2024-10-20T05:50:39.043Z"
   },
   {
    "duration": 5,
    "start_time": "2024-10-20T05:50:41.854Z"
   },
   {
    "duration": 4,
    "start_time": "2024-10-20T05:50:42.158Z"
   },
   {
    "duration": 4,
    "start_time": "2024-10-20T05:50:45.400Z"
   },
   {
    "duration": 9,
    "start_time": "2024-10-20T05:50:46.502Z"
   },
   {
    "duration": 5,
    "start_time": "2024-10-20T05:50:46.982Z"
   },
   {
    "duration": 4,
    "start_time": "2024-10-20T05:50:51.331Z"
   },
   {
    "duration": 2,
    "start_time": "2024-10-20T05:50:54.740Z"
   },
   {
    "duration": 2,
    "start_time": "2024-10-20T05:51:03.308Z"
   },
   {
    "duration": 4,
    "start_time": "2024-10-20T05:51:22.235Z"
   },
   {
    "duration": 3,
    "start_time": "2024-10-20T05:51:54.629Z"
   },
   {
    "duration": 5,
    "start_time": "2024-10-20T05:52:44.743Z"
   },
   {
    "duration": 2,
    "start_time": "2024-10-20T05:52:45.292Z"
   },
   {
    "duration": 2,
    "start_time": "2024-10-20T05:52:45.870Z"
   },
   {
    "duration": 4,
    "start_time": "2024-10-20T05:52:46.770Z"
   },
   {
    "duration": 5,
    "start_time": "2024-10-20T05:52:51.070Z"
   },
   {
    "duration": 6,
    "start_time": "2024-10-20T05:52:53.580Z"
   },
   {
    "duration": 6,
    "start_time": "2024-10-20T05:54:11.076Z"
   },
   {
    "duration": 4,
    "start_time": "2024-10-20T05:54:34.654Z"
   },
   {
    "duration": 7,
    "start_time": "2024-10-20T05:54:38.198Z"
   },
   {
    "duration": 5,
    "start_time": "2024-10-20T05:54:38.708Z"
   },
   {
    "duration": 8,
    "start_time": "2024-10-20T05:54:41.746Z"
   },
   {
    "duration": 4,
    "start_time": "2024-10-20T05:54:44.443Z"
   },
   {
    "duration": 7,
    "start_time": "2024-10-20T05:58:55.807Z"
   },
   {
    "duration": 7,
    "start_time": "2024-10-20T06:01:49.759Z"
   },
   {
    "duration": 4,
    "start_time": "2024-10-20T06:01:58.126Z"
   },
   {
    "duration": 4,
    "start_time": "2024-10-20T06:13:02.131Z"
   },
   {
    "duration": 7,
    "start_time": "2024-10-20T06:13:03.708Z"
   },
   {
    "duration": 4,
    "start_time": "2024-10-20T06:13:06.531Z"
   },
   {
    "duration": 4,
    "start_time": "2024-10-20T06:13:06.952Z"
   },
   {
    "duration": 5,
    "start_time": "2024-10-20T06:13:11.202Z"
   },
   {
    "duration": 4,
    "start_time": "2024-10-20T06:14:47.063Z"
   },
   {
    "duration": 6,
    "start_time": "2024-10-20T06:14:48.238Z"
   },
   {
    "duration": 3,
    "start_time": "2024-10-20T06:14:53.927Z"
   },
   {
    "duration": 4,
    "start_time": "2024-10-20T06:14:54.291Z"
   },
   {
    "duration": 6,
    "start_time": "2024-10-20T06:14:55.210Z"
   },
   {
    "duration": 7,
    "start_time": "2024-10-20T06:14:59.292Z"
   },
   {
    "duration": 12,
    "start_time": "2024-10-20T06:15:06.397Z"
   },
   {
    "duration": 8,
    "start_time": "2024-10-20T06:15:09.962Z"
   },
   {
    "duration": 6,
    "start_time": "2024-10-20T06:15:10.455Z"
   },
   {
    "duration": 9,
    "start_time": "2024-10-20T06:15:22.506Z"
   },
   {
    "duration": 4,
    "start_time": "2024-10-20T06:15:24.312Z"
   },
   {
    "duration": 5,
    "start_time": "2024-10-20T06:15:53.022Z"
   },
   {
    "duration": 5,
    "start_time": "2024-10-20T06:15:55.927Z"
   },
   {
    "duration": 10,
    "start_time": "2024-10-20T06:15:59.011Z"
   },
   {
    "duration": 9,
    "start_time": "2024-10-20T06:16:11.723Z"
   },
   {
    "duration": 5,
    "start_time": "2024-10-20T06:16:15.138Z"
   },
   {
    "duration": 2,
    "start_time": "2024-10-20T06:19:20.519Z"
   },
   {
    "duration": 4,
    "start_time": "2024-10-20T06:20:23.830Z"
   },
   {
    "duration": 5,
    "start_time": "2024-10-20T06:20:35.638Z"
   },
   {
    "duration": 4,
    "start_time": "2024-10-20T06:20:48.294Z"
   },
   {
    "duration": 3,
    "start_time": "2024-10-20T06:22:19.607Z"
   },
   {
    "duration": 4,
    "start_time": "2024-10-20T06:22:23.303Z"
   },
   {
    "duration": 4,
    "start_time": "2024-10-20T06:22:30.729Z"
   },
   {
    "duration": 5,
    "start_time": "2024-10-20T06:22:34.189Z"
   },
   {
    "duration": 4,
    "start_time": "2024-10-20T06:22:43.973Z"
   },
   {
    "duration": 16,
    "start_time": "2024-10-20T06:23:57.569Z"
   },
   {
    "duration": 104,
    "start_time": "2024-10-20T06:24:02.700Z"
   },
   {
    "duration": 6,
    "start_time": "2024-10-20T06:24:40.518Z"
   },
   {
    "duration": 4,
    "start_time": "2024-10-20T06:24:43.724Z"
   },
   {
    "duration": 7,
    "start_time": "2024-10-20T06:24:46.701Z"
   },
   {
    "duration": 15,
    "start_time": "2024-10-20T06:24:47.722Z"
   },
   {
    "duration": 21,
    "start_time": "2024-10-20T06:26:17.187Z"
   },
   {
    "duration": 12,
    "start_time": "2024-10-20T06:26:22.589Z"
   },
   {
    "duration": 17,
    "start_time": "2024-10-20T06:26:25.136Z"
   },
   {
    "duration": 37,
    "start_time": "2024-10-20T06:26:26.764Z"
   },
   {
    "duration": 5,
    "start_time": "2024-10-20T06:26:27.213Z"
   },
   {
    "duration": 21,
    "start_time": "2024-10-20T06:26:43.116Z"
   },
   {
    "duration": 4,
    "start_time": "2024-10-20T06:27:47.685Z"
   },
   {
    "duration": 4,
    "start_time": "2024-10-20T06:27:57.333Z"
   },
   {
    "duration": 5,
    "start_time": "2024-10-20T06:27:57.953Z"
   },
   {
    "duration": 5,
    "start_time": "2024-10-20T06:27:58.466Z"
   },
   {
    "duration": 4,
    "start_time": "2024-10-20T06:28:18.973Z"
   },
   {
    "duration": 285,
    "start_time": "2024-10-20T06:28:19.569Z"
   },
   {
    "duration": 3,
    "start_time": "2024-10-20T06:28:23.596Z"
   },
   {
    "duration": 20,
    "start_time": "2024-10-20T06:28:38.761Z"
   },
   {
    "duration": 95,
    "start_time": "2024-10-20T06:30:13.170Z"
   },
   {
    "duration": 74,
    "start_time": "2024-10-20T06:30:23.575Z"
   },
   {
    "duration": 119,
    "start_time": "2024-10-20T06:30:27.907Z"
   },
   {
    "duration": 6,
    "start_time": "2024-10-20T06:30:32.738Z"
   },
   {
    "duration": 194,
    "start_time": "2024-10-20T06:30:35.980Z"
   },
   {
    "duration": 101,
    "start_time": "2024-10-20T06:30:47.961Z"
   },
   {
    "duration": 76,
    "start_time": "2024-10-20T06:30:58.111Z"
   },
   {
    "duration": 6,
    "start_time": "2024-10-20T06:31:06.521Z"
   },
   {
    "duration": 107,
    "start_time": "2024-10-20T06:31:07.280Z"
   },
   {
    "duration": 106,
    "start_time": "2024-10-20T06:31:14.048Z"
   },
   {
    "duration": 74,
    "start_time": "2024-10-20T06:31:17.760Z"
   },
   {
    "duration": 11,
    "start_time": "2024-10-20T06:31:25.105Z"
   },
   {
    "duration": 6,
    "start_time": "2024-10-20T06:31:44.568Z"
   },
   {
    "duration": 114,
    "start_time": "2024-10-20T06:31:52.409Z"
   },
   {
    "duration": 118,
    "start_time": "2024-10-20T06:31:59.507Z"
   },
   {
    "duration": 114,
    "start_time": "2024-10-20T06:32:30.593Z"
   },
   {
    "duration": 117,
    "start_time": "2024-10-20T06:33:09.865Z"
   },
   {
    "duration": 84,
    "start_time": "2024-10-20T06:33:12.885Z"
   },
   {
    "duration": 97,
    "start_time": "2024-10-20T06:33:24.431Z"
   },
   {
    "duration": 109,
    "start_time": "2024-10-20T06:33:28.255Z"
   },
   {
    "duration": 181,
    "start_time": "2024-10-20T06:33:41.271Z"
   },
   {
    "duration": 83,
    "start_time": "2024-10-20T06:33:50.383Z"
   },
   {
    "duration": 7,
    "start_time": "2024-10-20T06:33:58.174Z"
   },
   {
    "duration": 101,
    "start_time": "2024-10-20T06:34:00.893Z"
   },
   {
    "duration": 111,
    "start_time": "2024-10-20T06:34:08.391Z"
   },
   {
    "duration": 98,
    "start_time": "2024-10-20T06:34:12.951Z"
   },
   {
    "duration": 116,
    "start_time": "2024-10-20T06:34:21.935Z"
   },
   {
    "duration": 92,
    "start_time": "2024-10-20T06:34:29.642Z"
   },
   {
    "duration": 32,
    "start_time": "2024-10-20T06:34:46.112Z"
   },
   {
    "duration": 4,
    "start_time": "2024-10-20T06:34:54.351Z"
   },
   {
    "duration": 84,
    "start_time": "2024-10-20T06:34:58.640Z"
   },
   {
    "duration": 8,
    "start_time": "2024-10-20T06:35:04.225Z"
   },
   {
    "duration": 5,
    "start_time": "2024-10-20T06:35:05.047Z"
   },
   {
    "duration": 112,
    "start_time": "2024-10-20T06:35:08.983Z"
   },
   {
    "duration": 96,
    "start_time": "2024-10-20T06:35:24.043Z"
   },
   {
    "duration": 117,
    "start_time": "2024-10-20T06:35:33.302Z"
   },
   {
    "duration": 88,
    "start_time": "2024-10-20T06:36:41.243Z"
   },
   {
    "duration": 4,
    "start_time": "2024-10-20T06:36:46.707Z"
   },
   {
    "duration": 7,
    "start_time": "2024-10-20T06:36:49.950Z"
   },
   {
    "duration": 119,
    "start_time": "2024-10-20T06:36:52.776Z"
   },
   {
    "duration": 109,
    "start_time": "2024-10-20T06:37:00.813Z"
   },
   {
    "duration": 92,
    "start_time": "2024-10-20T06:37:16.267Z"
   },
   {
    "duration": 7,
    "start_time": "2024-10-20T06:37:21.771Z"
   },
   {
    "duration": 130,
    "start_time": "2024-10-20T06:37:29.042Z"
   },
   {
    "duration": 158,
    "start_time": "2024-10-20T06:37:42.123Z"
   },
   {
    "duration": 10,
    "start_time": "2024-10-20T06:37:54.414Z"
   },
   {
    "duration": 153,
    "start_time": "2024-10-20T06:37:55.071Z"
   },
   {
    "duration": 123,
    "start_time": "2024-10-20T06:38:05.030Z"
   },
   {
    "duration": 143,
    "start_time": "2024-10-20T06:38:27.004Z"
   },
   {
    "duration": 3,
    "start_time": "2024-10-20T06:39:37.998Z"
   },
   {
    "duration": 4,
    "start_time": "2024-10-20T06:42:52.518Z"
   },
   {
    "duration": 1177,
    "start_time": "2024-10-20T06:45:30.785Z"
   },
   {
    "duration": 89,
    "start_time": "2024-10-20T06:45:33.976Z"
   },
   {
    "duration": 4,
    "start_time": "2024-10-20T06:45:36.201Z"
   },
   {
    "duration": 32,
    "start_time": "2024-10-20T06:45:37.425Z"
   },
   {
    "duration": 13,
    "start_time": "2024-10-20T06:45:41.186Z"
   },
   {
    "duration": 1662,
    "start_time": "2024-10-20T06:45:42.892Z"
   },
   {
    "duration": 8,
    "start_time": "2024-10-20T06:45:46.916Z"
   },
   {
    "duration": 5,
    "start_time": "2024-10-20T06:45:49.808Z"
   },
   {
    "duration": 11,
    "start_time": "2024-10-20T06:45:53.728Z"
   },
   {
    "duration": 5,
    "start_time": "2024-10-20T06:45:55.607Z"
   },
   {
    "duration": 5,
    "start_time": "2024-10-20T06:45:57.130Z"
   },
   {
    "duration": 5,
    "start_time": "2024-10-20T06:46:00.973Z"
   },
   {
    "duration": 8,
    "start_time": "2024-10-20T06:46:01.797Z"
   },
   {
    "duration": 5,
    "start_time": "2024-10-20T06:46:02.593Z"
   },
   {
    "duration": 6,
    "start_time": "2024-10-20T06:46:07.284Z"
   },
   {
    "duration": 6,
    "start_time": "2024-10-20T06:46:09.140Z"
   },
   {
    "duration": 2,
    "start_time": "2024-10-20T06:46:09.611Z"
   },
   {
    "duration": 5,
    "start_time": "2024-10-20T06:46:11.696Z"
   },
   {
    "duration": 4,
    "start_time": "2024-10-20T06:46:12.214Z"
   },
   {
    "duration": 6,
    "start_time": "2024-10-20T06:46:13.104Z"
   },
   {
    "duration": 4,
    "start_time": "2024-10-20T06:46:13.809Z"
   },
   {
    "duration": 2,
    "start_time": "2024-10-20T06:46:14.298Z"
   },
   {
    "duration": 5,
    "start_time": "2024-10-20T06:46:14.837Z"
   },
   {
    "duration": 6,
    "start_time": "2024-10-20T06:46:16.047Z"
   },
   {
    "duration": 6,
    "start_time": "2024-10-20T06:46:19.485Z"
   },
   {
    "duration": 7,
    "start_time": "2024-10-20T06:46:21.741Z"
   },
   {
    "duration": 5,
    "start_time": "2024-10-20T06:46:24.544Z"
   },
   {
    "duration": 7,
    "start_time": "2024-10-20T06:46:29.389Z"
   },
   {
    "duration": 6,
    "start_time": "2024-10-20T06:46:29.901Z"
   },
   {
    "duration": 6,
    "start_time": "2024-10-20T06:46:35.384Z"
   },
   {
    "duration": 6,
    "start_time": "2024-10-20T06:46:35.785Z"
   },
   {
    "duration": 5,
    "start_time": "2024-10-20T06:46:42.269Z"
   },
   {
    "duration": 5,
    "start_time": "2024-10-20T06:46:42.973Z"
   },
   {
    "duration": 4,
    "start_time": "2024-10-20T06:46:43.509Z"
   },
   {
    "duration": 5,
    "start_time": "2024-10-20T06:46:48.476Z"
   },
   {
    "duration": 7,
    "start_time": "2024-10-20T06:46:52.837Z"
   },
   {
    "duration": 3,
    "start_time": "2024-10-20T06:46:53.412Z"
   },
   {
    "duration": 4,
    "start_time": "2024-10-20T06:46:53.914Z"
   },
   {
    "duration": 6,
    "start_time": "2024-10-20T06:46:55.741Z"
   },
   {
    "duration": 7,
    "start_time": "2024-10-20T06:46:59.602Z"
   },
   {
    "duration": 18,
    "start_time": "2024-10-20T06:47:00.173Z"
   },
   {
    "duration": 5,
    "start_time": "2024-10-20T06:47:01.113Z"
   },
   {
    "duration": 4,
    "start_time": "2024-10-20T06:47:01.793Z"
   },
   {
    "duration": 8,
    "start_time": "2024-10-20T06:47:03.036Z"
   },
   {
    "duration": 5,
    "start_time": "2024-10-20T06:47:03.546Z"
   },
   {
    "duration": 4,
    "start_time": "2024-10-20T06:47:06.992Z"
   },
   {
    "duration": 5,
    "start_time": "2024-10-20T06:47:08.124Z"
   },
   {
    "duration": 10,
    "start_time": "2024-10-20T06:47:09.233Z"
   },
   {
    "duration": 6,
    "start_time": "2024-10-20T06:47:12.528Z"
   },
   {
    "duration": 4,
    "start_time": "2024-10-20T06:47:13.677Z"
   },
   {
    "duration": 9,
    "start_time": "2024-10-20T06:47:14.425Z"
   },
   {
    "duration": 2,
    "start_time": "2024-10-20T06:47:14.929Z"
   },
   {
    "duration": 4,
    "start_time": "2024-10-20T06:47:17.921Z"
   },
   {
    "duration": 3,
    "start_time": "2024-10-20T06:47:20.465Z"
   },
   {
    "duration": 4,
    "start_time": "2024-10-20T06:47:22.453Z"
   },
   {
    "duration": 2,
    "start_time": "2024-10-20T06:47:23.252Z"
   },
   {
    "duration": 4,
    "start_time": "2024-10-20T06:47:23.521Z"
   },
   {
    "duration": 4,
    "start_time": "2024-10-20T06:47:24.548Z"
   },
   {
    "duration": 4,
    "start_time": "2024-10-20T06:47:26.838Z"
   },
   {
    "duration": 4,
    "start_time": "2024-10-20T06:47:30.484Z"
   },
   {
    "duration": 11,
    "start_time": "2024-10-20T06:47:35.583Z"
   },
   {
    "duration": 8,
    "start_time": "2024-10-20T06:47:37.272Z"
   },
   {
    "duration": 5,
    "start_time": "2024-10-20T06:47:38.229Z"
   },
   {
    "duration": 8,
    "start_time": "2024-10-20T06:47:39.000Z"
   },
   {
    "duration": 16,
    "start_time": "2024-10-20T06:47:39.525Z"
   },
   {
    "duration": 19,
    "start_time": "2024-10-20T06:47:43.552Z"
   },
   {
    "duration": 10,
    "start_time": "2024-10-20T06:47:47.380Z"
   },
   {
    "duration": 10,
    "start_time": "2024-10-20T06:47:48.630Z"
   },
   {
    "duration": 35,
    "start_time": "2024-10-20T06:47:49.285Z"
   },
   {
    "duration": 5,
    "start_time": "2024-10-20T06:47:49.640Z"
   },
   {
    "duration": 26,
    "start_time": "2024-10-20T06:47:51.980Z"
   },
   {
    "duration": 4,
    "start_time": "2024-10-20T06:47:54.672Z"
   },
   {
    "duration": 4,
    "start_time": "2024-10-20T06:47:54.933Z"
   },
   {
    "duration": 4,
    "start_time": "2024-10-20T06:47:55.161Z"
   },
   {
    "duration": 4,
    "start_time": "2024-10-20T06:47:55.375Z"
   },
   {
    "duration": 3,
    "start_time": "2024-10-20T06:47:56.062Z"
   },
   {
    "duration": 270,
    "start_time": "2024-10-20T06:47:56.484Z"
   },
   {
    "duration": 4,
    "start_time": "2024-10-20T06:47:57.153Z"
   },
   {
    "duration": 31,
    "start_time": "2024-10-20T06:48:06.533Z"
   },
   {
    "duration": 94,
    "start_time": "2024-10-20T06:48:16.591Z"
   },
   {
    "duration": 72,
    "start_time": "2024-10-20T06:48:20.979Z"
   },
   {
    "duration": 8,
    "start_time": "2024-10-20T06:49:32.324Z"
   },
   {
    "duration": 6,
    "start_time": "2024-10-20T06:49:40.597Z"
   },
   {
    "duration": 6,
    "start_time": "2024-10-20T06:49:54.654Z"
   },
   {
    "duration": 118,
    "start_time": "2024-10-20T06:50:12.895Z"
   },
   {
    "duration": 6,
    "start_time": "2024-10-20T06:51:06.925Z"
   },
   {
    "duration": 111,
    "start_time": "2024-10-20T06:51:07.447Z"
   },
   {
    "duration": 107,
    "start_time": "2024-10-20T06:51:23.013Z"
   },
   {
    "duration": 83,
    "start_time": "2024-10-20T06:51:27.885Z"
   },
   {
    "duration": 8,
    "start_time": "2024-10-20T06:51:49.254Z"
   },
   {
    "duration": 7,
    "start_time": "2024-10-20T06:52:08.373Z"
   },
   {
    "duration": 6,
    "start_time": "2024-10-20T06:52:21.997Z"
   },
   {
    "duration": 123,
    "start_time": "2024-10-20T06:52:22.869Z"
   },
   {
    "duration": 186,
    "start_time": "2024-10-20T06:52:30.581Z"
   },
   {
    "duration": 75,
    "start_time": "2024-10-20T06:52:43.682Z"
   },
   {
    "duration": 12,
    "start_time": "2024-10-20T06:52:51.708Z"
   },
   {
    "duration": 7,
    "start_time": "2024-10-20T06:53:41.630Z"
   },
   {
    "duration": 4,
    "start_time": "2024-10-20T06:53:55.110Z"
   },
   {
    "duration": 37,
    "start_time": "2024-10-20T06:54:56.654Z"
   },
   {
    "duration": 6,
    "start_time": "2024-10-20T06:55:03.208Z"
   },
   {
    "duration": 7,
    "start_time": "2024-10-20T06:55:09.784Z"
   },
   {
    "duration": 5,
    "start_time": "2024-10-20T06:55:41.492Z"
   },
   {
    "duration": 118,
    "start_time": "2024-10-20T06:55:42.309Z"
   },
   {
    "duration": 121,
    "start_time": "2024-10-20T06:55:51.848Z"
   },
   {
    "duration": 126,
    "start_time": "2024-10-20T06:56:21.800Z"
   },
   {
    "duration": 83,
    "start_time": "2024-10-20T06:56:24.332Z"
   },
   {
    "duration": 103,
    "start_time": "2024-10-20T06:56:37.527Z"
   },
   {
    "duration": 114,
    "start_time": "2024-10-20T06:56:38.706Z"
   },
   {
    "duration": 125,
    "start_time": "2024-10-20T06:56:54.854Z"
   },
   {
    "duration": 85,
    "start_time": "2024-10-20T06:57:01.032Z"
   },
   {
    "duration": 7,
    "start_time": "2024-10-20T06:57:25.868Z"
   },
   {
    "duration": 8,
    "start_time": "2024-10-20T06:57:32.697Z"
   },
   {
    "duration": 3,
    "start_time": "2024-10-20T06:57:45.633Z"
   },
   {
    "duration": 6,
    "start_time": "2024-10-20T06:58:11.592Z"
   },
   {
    "duration": 5,
    "start_time": "2024-10-20T06:58:38.392Z"
   },
   {
    "duration": 133,
    "start_time": "2024-10-20T06:58:44.480Z"
   },
   {
    "duration": 167,
    "start_time": "2024-10-20T06:58:53.931Z"
   },
   {
    "duration": 72,
    "start_time": "2024-10-20T06:58:56.802Z"
   },
   {
    "duration": 130,
    "start_time": "2024-10-20T06:59:17.931Z"
   },
   {
    "duration": 80,
    "start_time": "2024-10-20T06:59:20.943Z"
   },
   {
    "duration": 31,
    "start_time": "2024-10-20T06:59:26.872Z"
   },
   {
    "duration": 4,
    "start_time": "2024-10-20T06:59:34.471Z"
   },
   {
    "duration": 81,
    "start_time": "2024-10-20T06:59:35.369Z"
   },
   {
    "duration": 9,
    "start_time": "2024-10-20T07:00:00.229Z"
   },
   {
    "duration": 5,
    "start_time": "2024-10-20T07:00:10.129Z"
   },
   {
    "duration": 8,
    "start_time": "2024-10-20T07:00:19.900Z"
   },
   {
    "duration": 5,
    "start_time": "2024-10-20T07:00:27.998Z"
   },
   {
    "duration": 4,
    "start_time": "2024-10-20T07:00:43.341Z"
   },
   {
    "duration": 78,
    "start_time": "2024-10-20T07:01:10.199Z"
   },
   {
    "duration": 6,
    "start_time": "2024-10-20T07:01:27.539Z"
   },
   {
    "duration": 5,
    "start_time": "2024-10-20T07:01:28.338Z"
   },
   {
    "duration": 129,
    "start_time": "2024-10-20T07:01:29.327Z"
   },
   {
    "duration": 97,
    "start_time": "2024-10-20T07:01:33.802Z"
   },
   {
    "duration": 124,
    "start_time": "2024-10-20T07:01:59.600Z"
   },
   {
    "duration": 84,
    "start_time": "2024-10-20T07:02:06.831Z"
   },
   {
    "duration": 5,
    "start_time": "2024-10-20T07:02:11.763Z"
   },
   {
    "duration": 8,
    "start_time": "2024-10-20T07:02:17.274Z"
   },
   {
    "duration": 138,
    "start_time": "2024-10-20T07:02:18.431Z"
   },
   {
    "duration": 118,
    "start_time": "2024-10-20T07:02:25.606Z"
   },
   {
    "duration": 89,
    "start_time": "2024-10-20T07:02:29.803Z"
   },
   {
    "duration": 8,
    "start_time": "2024-10-20T07:02:46.814Z"
   },
   {
    "duration": 118,
    "start_time": "2024-10-20T07:02:51.773Z"
   },
   {
    "duration": 91,
    "start_time": "2024-10-20T07:02:58.487Z"
   },
   {
    "duration": 10,
    "start_time": "2024-10-20T07:03:30.587Z"
   },
   {
    "duration": 3,
    "start_time": "2024-10-20T07:03:44.467Z"
   },
   {
    "duration": 11,
    "start_time": "2024-10-20T07:04:02.464Z"
   },
   {
    "duration": 8,
    "start_time": "2024-10-20T07:04:23.483Z"
   },
   {
    "duration": 8,
    "start_time": "2024-10-20T07:05:11.456Z"
   },
   {
    "duration": 183,
    "start_time": "2024-10-20T07:05:12.164Z"
   },
   {
    "duration": 111,
    "start_time": "2024-10-20T07:05:22.101Z"
   },
   {
    "duration": 111,
    "start_time": "2024-10-20T07:05:26.041Z"
   },
   {
    "duration": 3,
    "start_time": "2024-10-20T07:05:52.108Z"
   },
   {
    "duration": 4,
    "start_time": "2024-10-20T07:05:56.426Z"
   },
   {
    "duration": 4,
    "start_time": "2024-10-20T07:08:23.715Z"
   },
   {
    "duration": 3,
    "start_time": "2024-10-20T07:11:32.570Z"
   },
   {
    "duration": 4,
    "start_time": "2024-10-20T07:12:14.963Z"
   },
   {
    "duration": 4,
    "start_time": "2024-10-20T07:12:22.569Z"
   },
   {
    "duration": 105,
    "start_time": "2024-10-20T07:12:29.169Z"
   },
   {
    "duration": 3,
    "start_time": "2024-10-20T07:12:33.521Z"
   },
   {
    "duration": 3,
    "start_time": "2024-10-20T07:12:39.034Z"
   },
   {
    "duration": 4,
    "start_time": "2024-10-20T07:12:44.860Z"
   },
   {
    "duration": 128,
    "start_time": "2024-10-20T07:15:15.025Z"
   },
   {
    "duration": 88,
    "start_time": "2024-10-20T07:15:51.548Z"
   },
   {
    "duration": 5,
    "start_time": "2024-10-20T07:15:55.693Z"
   },
   {
    "duration": 122,
    "start_time": "2024-10-20T07:15:58.716Z"
   },
   {
    "duration": 128,
    "start_time": "2024-10-20T07:16:33.568Z"
   },
   {
    "duration": 129,
    "start_time": "2024-10-20T07:16:41.143Z"
   },
   {
    "duration": 122,
    "start_time": "2024-10-20T07:16:57.991Z"
   },
   {
    "duration": 159,
    "start_time": "2024-10-20T07:17:40.677Z"
   },
   {
    "duration": 90,
    "start_time": "2024-10-20T07:21:25.893Z"
   },
   {
    "duration": 10,
    "start_time": "2024-10-20T07:23:09.909Z"
   },
   {
    "duration": 9,
    "start_time": "2024-10-20T07:50:43.970Z"
   },
   {
    "duration": 25,
    "start_time": "2024-10-20T07:53:24.074Z"
   },
   {
    "duration": 4215,
    "start_time": "2024-10-20T07:57:53.041Z"
   },
   {
    "duration": 8,
    "start_time": "2024-10-20T07:58:55.591Z"
   },
   {
    "duration": 250,
    "start_time": "2024-10-20T07:59:29.334Z"
   },
   {
    "duration": 29,
    "start_time": "2024-10-20T08:00:01.150Z"
   },
   {
    "duration": 285,
    "start_time": "2024-10-20T08:00:21.414Z"
   },
   {
    "duration": 343,
    "start_time": "2024-10-20T08:02:44.777Z"
   },
   {
    "duration": 457,
    "start_time": "2024-10-20T08:03:04.004Z"
   },
   {
    "duration": 785,
    "start_time": "2024-10-20T08:03:42.444Z"
   },
   {
    "duration": 716,
    "start_time": "2024-10-20T08:04:09.579Z"
   },
   {
    "duration": 729,
    "start_time": "2024-10-20T08:07:20.831Z"
   },
   {
    "duration": 816,
    "start_time": "2024-10-20T08:07:29.854Z"
   },
   {
    "duration": 827,
    "start_time": "2024-10-20T08:08:01.518Z"
   },
   {
    "duration": 892,
    "start_time": "2024-10-20T08:08:46.768Z"
   },
   {
    "duration": 48726,
    "start_time": "2024-10-20T08:08:57.559Z"
   },
   {
    "duration": 717,
    "start_time": "2024-10-20T08:10:16.727Z"
   },
   {
    "duration": 4030,
    "start_time": "2024-10-20T08:10:59.068Z"
   },
   {
    "duration": 661,
    "start_time": "2024-10-20T08:11:19.302Z"
   },
   {
    "duration": 12,
    "start_time": "2024-10-20T08:13:09.816Z"
   },
   {
    "duration": 94954,
    "start_time": "2024-10-20T08:13:57.016Z"
   },
   {
    "duration": 253267,
    "start_time": "2024-10-20T08:16:29.114Z"
   },
   {
    "duration": 189205,
    "start_time": "2024-10-20T08:21:21.327Z"
   },
   {
    "duration": 684,
    "start_time": "2024-10-20T08:24:37.265Z"
   },
   {
    "duration": 296,
    "start_time": "2024-10-20T08:26:13.110Z"
   },
   {
    "duration": 262756,
    "start_time": "2024-10-20T08:26:26.895Z"
   },
   {
    "duration": 21,
    "start_time": "2024-10-20T08:31:12.598Z"
   },
   {
    "duration": 56,
    "start_time": "2024-10-20T08:32:21.592Z"
   },
   {
    "duration": 7,
    "start_time": "2024-10-20T08:32:29.360Z"
   },
   {
    "duration": 10,
    "start_time": "2024-10-20T08:34:15.219Z"
   },
   {
    "duration": 20,
    "start_time": "2024-10-20T08:37:36.337Z"
   },
   {
    "duration": 1106,
    "start_time": "2024-10-20T08:38:52.883Z"
   },
   {
    "duration": 151,
    "start_time": "2024-10-20T08:38:53.991Z"
   },
   {
    "duration": 6,
    "start_time": "2024-10-20T08:38:54.143Z"
   },
   {
    "duration": 23,
    "start_time": "2024-10-20T08:38:54.151Z"
   },
   {
    "duration": 14,
    "start_time": "2024-10-20T08:38:54.176Z"
   },
   {
    "duration": 1691,
    "start_time": "2024-10-20T08:38:54.191Z"
   },
   {
    "duration": 12,
    "start_time": "2024-10-20T08:38:55.884Z"
   },
   {
    "duration": 20,
    "start_time": "2024-10-20T08:38:55.897Z"
   },
   {
    "duration": 8,
    "start_time": "2024-10-20T08:38:55.918Z"
   },
   {
    "duration": 3,
    "start_time": "2024-10-20T08:38:55.928Z"
   },
   {
    "duration": 3,
    "start_time": "2024-10-20T08:38:55.933Z"
   },
   {
    "duration": 3,
    "start_time": "2024-10-20T08:38:55.938Z"
   },
   {
    "duration": 8,
    "start_time": "2024-10-20T08:38:55.943Z"
   },
   {
    "duration": 4,
    "start_time": "2024-10-20T08:38:55.953Z"
   },
   {
    "duration": 12,
    "start_time": "2024-10-20T08:38:55.958Z"
   },
   {
    "duration": 2,
    "start_time": "2024-10-20T08:38:55.971Z"
   },
   {
    "duration": 37,
    "start_time": "2024-10-20T08:38:55.975Z"
   },
   {
    "duration": 5,
    "start_time": "2024-10-20T08:38:56.013Z"
   },
   {
    "duration": 7,
    "start_time": "2024-10-20T08:38:56.019Z"
   },
   {
    "duration": 4,
    "start_time": "2024-10-20T08:38:56.028Z"
   },
   {
    "duration": 2,
    "start_time": "2024-10-20T08:38:56.034Z"
   },
   {
    "duration": 19,
    "start_time": "2024-10-20T08:38:56.037Z"
   },
   {
    "duration": 9,
    "start_time": "2024-10-20T08:38:56.057Z"
   },
   {
    "duration": 5,
    "start_time": "2024-10-20T08:38:56.067Z"
   },
   {
    "duration": 7,
    "start_time": "2024-10-20T08:38:56.073Z"
   },
   {
    "duration": 18,
    "start_time": "2024-10-20T08:38:56.081Z"
   },
   {
    "duration": 29,
    "start_time": "2024-10-20T08:38:56.100Z"
   },
   {
    "duration": 8,
    "start_time": "2024-10-20T08:38:56.130Z"
   },
   {
    "duration": 6,
    "start_time": "2024-10-20T08:38:56.139Z"
   },
   {
    "duration": 7,
    "start_time": "2024-10-20T08:38:56.146Z"
   },
   {
    "duration": 6,
    "start_time": "2024-10-20T08:38:56.155Z"
   },
   {
    "duration": 6,
    "start_time": "2024-10-20T08:38:56.162Z"
   },
   {
    "duration": 6,
    "start_time": "2024-10-20T08:38:56.169Z"
   },
   {
    "duration": 4,
    "start_time": "2024-10-20T08:38:56.176Z"
   },
   {
    "duration": 4,
    "start_time": "2024-10-20T08:38:56.213Z"
   },
   {
    "duration": 21,
    "start_time": "2024-10-20T08:38:56.219Z"
   },
   {
    "duration": 9,
    "start_time": "2024-10-20T08:38:56.241Z"
   },
   {
    "duration": 5,
    "start_time": "2024-10-20T08:38:56.251Z"
   },
   {
    "duration": 5,
    "start_time": "2024-10-20T08:38:56.257Z"
   },
   {
    "duration": 10,
    "start_time": "2024-10-20T08:38:56.263Z"
   },
   {
    "duration": 12,
    "start_time": "2024-10-20T08:38:56.278Z"
   },
   {
    "duration": 23,
    "start_time": "2024-10-20T08:38:56.291Z"
   },
   {
    "duration": 15,
    "start_time": "2024-10-20T08:38:56.316Z"
   },
   {
    "duration": 9,
    "start_time": "2024-10-20T08:38:56.333Z"
   },
   {
    "duration": 5,
    "start_time": "2024-10-20T08:38:56.343Z"
   },
   {
    "duration": 11,
    "start_time": "2024-10-20T08:38:56.350Z"
   },
   {
    "duration": 8,
    "start_time": "2024-10-20T08:38:56.362Z"
   },
   {
    "duration": 13,
    "start_time": "2024-10-20T08:38:56.371Z"
   },
   {
    "duration": 26,
    "start_time": "2024-10-20T08:38:56.386Z"
   },
   {
    "duration": 7,
    "start_time": "2024-10-20T08:38:56.414Z"
   },
   {
    "duration": 19,
    "start_time": "2024-10-20T08:38:56.423Z"
   },
   {
    "duration": 22,
    "start_time": "2024-10-20T08:38:56.443Z"
   },
   {
    "duration": 23,
    "start_time": "2024-10-20T08:38:56.466Z"
   },
   {
    "duration": 5,
    "start_time": "2024-10-20T08:38:56.491Z"
   },
   {
    "duration": 22,
    "start_time": "2024-10-20T08:38:56.497Z"
   },
   {
    "duration": 17,
    "start_time": "2024-10-20T08:38:56.520Z"
   },
   {
    "duration": 7,
    "start_time": "2024-10-20T08:38:56.538Z"
   },
   {
    "duration": 4,
    "start_time": "2024-10-20T08:38:56.546Z"
   },
   {
    "duration": 5,
    "start_time": "2024-10-20T08:38:56.551Z"
   },
   {
    "duration": 5,
    "start_time": "2024-10-20T08:38:56.557Z"
   },
   {
    "duration": 12,
    "start_time": "2024-10-20T08:38:56.563Z"
   },
   {
    "duration": 6,
    "start_time": "2024-10-20T08:38:56.577Z"
   },
   {
    "duration": 11,
    "start_time": "2024-10-20T08:38:56.585Z"
   },
   {
    "duration": 17,
    "start_time": "2024-10-20T08:38:56.597Z"
   },
   {
    "duration": 15,
    "start_time": "2024-10-20T08:38:56.615Z"
   },
   {
    "duration": 17,
    "start_time": "2024-10-20T08:38:56.632Z"
   },
   {
    "duration": 10,
    "start_time": "2024-10-20T08:38:56.651Z"
   },
   {
    "duration": 53,
    "start_time": "2024-10-20T08:38:56.663Z"
   },
   {
    "duration": 36,
    "start_time": "2024-10-20T08:38:56.719Z"
   },
   {
    "duration": 5,
    "start_time": "2024-10-20T08:38:56.757Z"
   },
   {
    "duration": 17,
    "start_time": "2024-10-20T08:38:56.764Z"
   },
   {
    "duration": 4,
    "start_time": "2024-10-20T08:38:56.783Z"
   },
   {
    "duration": 5,
    "start_time": "2024-10-20T08:38:56.811Z"
   },
   {
    "duration": 15,
    "start_time": "2024-10-20T08:38:56.818Z"
   },
   {
    "duration": 4,
    "start_time": "2024-10-20T08:38:56.834Z"
   },
   {
    "duration": 93,
    "start_time": "2024-10-20T08:38:56.839Z"
   },
   {
    "duration": 300,
    "start_time": "2024-10-20T08:38:56.933Z"
   },
   {
    "duration": 4,
    "start_time": "2024-10-20T08:38:57.234Z"
   },
   {
    "duration": 24,
    "start_time": "2024-10-20T08:38:57.240Z"
   },
   {
    "duration": 116,
    "start_time": "2024-10-20T08:38:57.265Z"
   },
   {
    "duration": 103,
    "start_time": "2024-10-20T08:38:57.383Z"
   },
   {
    "duration": 127,
    "start_time": "2024-10-20T08:38:57.487Z"
   },
   {
    "duration": 7,
    "start_time": "2024-10-20T08:38:57.616Z"
   },
   {
    "duration": 143,
    "start_time": "2024-10-20T08:38:57.624Z"
   },
   {
    "duration": 112,
    "start_time": "2024-10-20T08:38:57.768Z"
   },
   {
    "duration": 89,
    "start_time": "2024-10-20T08:38:57.882Z"
   },
   {
    "duration": 8,
    "start_time": "2024-10-20T08:38:57.972Z"
   },
   {
    "duration": 162,
    "start_time": "2024-10-20T08:38:57.982Z"
   },
   {
    "duration": 187,
    "start_time": "2024-10-20T08:38:58.145Z"
   },
   {
    "duration": 84,
    "start_time": "2024-10-20T08:38:58.333Z"
   },
   {
    "duration": 10,
    "start_time": "2024-10-20T08:38:58.418Z"
   },
   {
    "duration": 12,
    "start_time": "2024-10-20T08:38:58.430Z"
   },
   {
    "duration": 128,
    "start_time": "2024-10-20T08:38:58.443Z"
   },
   {
    "duration": 127,
    "start_time": "2024-10-20T08:38:58.572Z"
   },
   {
    "duration": 87,
    "start_time": "2024-10-20T08:38:58.700Z"
   },
   {
    "duration": 114,
    "start_time": "2024-10-20T08:38:58.789Z"
   },
   {
    "duration": 124,
    "start_time": "2024-10-20T08:38:58.905Z"
   },
   {
    "duration": 137,
    "start_time": "2024-10-20T08:38:59.031Z"
   },
   {
    "duration": 108,
    "start_time": "2024-10-20T08:38:59.169Z"
   },
   {
    "duration": 8,
    "start_time": "2024-10-20T08:38:59.278Z"
   },
   {
    "duration": 144,
    "start_time": "2024-10-20T08:38:59.287Z"
   },
   {
    "duration": 153,
    "start_time": "2024-10-20T08:38:59.432Z"
   },
   {
    "duration": 78,
    "start_time": "2024-10-20T08:38:59.587Z"
   },
   {
    "duration": 193,
    "start_time": "2024-10-20T08:38:59.666Z"
   },
   {
    "duration": 92,
    "start_time": "2024-10-20T08:38:59.860Z"
   },
   {
    "duration": 42,
    "start_time": "2024-10-20T08:38:59.954Z"
   },
   {
    "duration": 16,
    "start_time": "2024-10-20T08:38:59.998Z"
   },
   {
    "duration": 109,
    "start_time": "2024-10-20T08:39:00.015Z"
   },
   {
    "duration": 8,
    "start_time": "2024-10-20T08:39:00.125Z"
   },
   {
    "duration": 13,
    "start_time": "2024-10-20T08:39:00.134Z"
   },
   {
    "duration": 135,
    "start_time": "2024-10-20T08:39:00.148Z"
   },
   {
    "duration": 103,
    "start_time": "2024-10-20T08:39:00.285Z"
   },
   {
    "duration": 142,
    "start_time": "2024-10-20T08:39:00.389Z"
   },
   {
    "duration": 102,
    "start_time": "2024-10-20T08:39:00.532Z"
   },
   {
    "duration": 4,
    "start_time": "2024-10-20T08:39:00.635Z"
   },
   {
    "duration": 14,
    "start_time": "2024-10-20T08:39:00.641Z"
   },
   {
    "duration": 147,
    "start_time": "2024-10-20T08:39:00.657Z"
   },
   {
    "duration": 141,
    "start_time": "2024-10-20T08:39:00.805Z"
   },
   {
    "duration": 107,
    "start_time": "2024-10-20T08:39:00.948Z"
   },
   {
    "duration": 5,
    "start_time": "2024-10-20T08:39:01.057Z"
   },
   {
    "duration": 141,
    "start_time": "2024-10-20T08:39:01.063Z"
   },
   {
    "duration": 81,
    "start_time": "2024-10-20T08:39:01.213Z"
   },
   {
    "duration": 21,
    "start_time": "2024-10-20T08:39:01.296Z"
   },
   {
    "duration": 112,
    "start_time": "2024-10-20T08:39:01.318Z"
   },
   {
    "duration": 124,
    "start_time": "2024-10-20T08:39:01.432Z"
   },
   {
    "duration": 123,
    "start_time": "2024-10-20T08:39:01.557Z"
   },
   {
    "duration": 4,
    "start_time": "2024-10-20T08:39:01.681Z"
   },
   {
    "duration": 8,
    "start_time": "2024-10-20T08:39:01.686Z"
   },
   {
    "duration": 235,
    "start_time": "2024-10-20T08:39:01.695Z"
   },
   {
    "duration": 142,
    "start_time": "2024-10-20T08:39:01.932Z"
   },
   {
    "duration": 13,
    "start_time": "2024-10-20T08:39:02.076Z"
   },
   {
    "duration": 157,
    "start_time": "2024-10-20T08:39:02.091Z"
   },
   {
    "duration": 181,
    "start_time": "2024-10-20T08:39:02.249Z"
   },
   {
    "duration": 99,
    "start_time": "2024-10-20T08:39:02.431Z"
   },
   {
    "duration": 9,
    "start_time": "2024-10-20T08:39:02.532Z"
   },
   {
    "duration": 43,
    "start_time": "2024-10-20T08:39:02.542Z"
   },
   {
    "duration": 698,
    "start_time": "2024-10-20T08:39:22.571Z"
   },
   {
    "duration": 149,
    "start_time": "2024-10-20T08:41:39.178Z"
   },
   {
    "duration": 104,
    "start_time": "2024-10-20T08:42:11.076Z"
   },
   {
    "duration": 15,
    "start_time": "2024-10-20T08:42:30.686Z"
   },
   {
    "duration": 260998,
    "start_time": "2024-10-20T08:42:50.579Z"
   },
   {
    "duration": 1030,
    "start_time": "2024-10-20T08:56:31.307Z"
   },
   {
    "duration": 4,
    "start_time": "2024-10-20T09:09:37.418Z"
   },
   {
    "duration": 5,
    "start_time": "2024-10-20T09:10:01.235Z"
   },
   {
    "duration": 9,
    "start_time": "2024-10-20T09:10:13.459Z"
   },
   {
    "duration": 16,
    "start_time": "2024-10-20T09:11:38.101Z"
   },
   {
    "duration": 18,
    "start_time": "2024-10-20T09:12:08.934Z"
   },
   {
    "duration": 104,
    "start_time": "2024-10-20T09:12:23.543Z"
   },
   {
    "duration": 130,
    "start_time": "2024-10-20T09:13:01.319Z"
   },
   {
    "duration": 148,
    "start_time": "2024-10-20T09:15:15.400Z"
   },
   {
    "duration": 135,
    "start_time": "2024-10-20T09:16:06.763Z"
   },
   {
    "duration": 116,
    "start_time": "2024-10-20T09:17:34.481Z"
   },
   {
    "duration": 137,
    "start_time": "2024-10-20T09:17:43.255Z"
   },
   {
    "duration": 202,
    "start_time": "2024-10-20T09:27:35.212Z"
   },
   {
    "duration": 119,
    "start_time": "2024-10-20T09:28:27.565Z"
   },
   {
    "duration": 147,
    "start_time": "2024-10-20T09:28:45.026Z"
   },
   {
    "duration": 109,
    "start_time": "2024-10-20T09:29:27.350Z"
   },
   {
    "duration": 136,
    "start_time": "2024-10-20T09:29:35.139Z"
   },
   {
    "duration": 123,
    "start_time": "2024-10-20T09:30:25.825Z"
   },
   {
    "duration": 16,
    "start_time": "2024-10-20T09:32:25.037Z"
   },
   {
    "duration": 146,
    "start_time": "2024-10-20T09:32:41.537Z"
   },
   {
    "duration": 145,
    "start_time": "2024-10-20T09:33:41.001Z"
   },
   {
    "duration": 144,
    "start_time": "2024-10-20T09:34:17.696Z"
   },
   {
    "duration": 157,
    "start_time": "2024-10-20T09:34:41.350Z"
   },
   {
    "duration": 132,
    "start_time": "2024-10-20T09:36:24.656Z"
   },
   {
    "duration": 143,
    "start_time": "2024-10-20T09:37:32.290Z"
   },
   {
    "duration": 137,
    "start_time": "2024-10-20T09:38:37.029Z"
   },
   {
    "duration": 133,
    "start_time": "2024-10-20T09:39:46.097Z"
   },
   {
    "duration": 12,
    "start_time": "2024-10-20T09:41:28.540Z"
   },
   {
    "duration": 151,
    "start_time": "2024-10-20T09:41:34.229Z"
   },
   {
    "duration": 152,
    "start_time": "2024-10-20T09:43:01.858Z"
   },
   {
    "duration": 138,
    "start_time": "2024-10-20T09:43:28.568Z"
   },
   {
    "duration": 154,
    "start_time": "2024-10-20T09:44:35.680Z"
   },
   {
    "duration": 1334,
    "start_time": "2024-10-20T11:41:20.690Z"
   },
   {
    "duration": 330,
    "start_time": "2024-10-20T11:41:22.841Z"
   },
   {
    "duration": 5,
    "start_time": "2024-10-20T11:41:28.281Z"
   },
   {
    "duration": 26,
    "start_time": "2024-10-20T11:41:30.218Z"
   },
   {
    "duration": 14,
    "start_time": "2024-10-20T11:41:30.745Z"
   },
   {
    "duration": 1911,
    "start_time": "2024-10-20T11:41:32.038Z"
   },
   {
    "duration": 9,
    "start_time": "2024-10-20T11:41:34.390Z"
   },
   {
    "duration": 4,
    "start_time": "2024-10-20T11:41:36.109Z"
   },
   {
    "duration": 8,
    "start_time": "2024-10-20T11:41:40.937Z"
   },
   {
    "duration": 5,
    "start_time": "2024-10-20T11:41:43.264Z"
   },
   {
    "duration": 5,
    "start_time": "2024-10-20T11:41:43.756Z"
   },
   {
    "duration": 5,
    "start_time": "2024-10-20T11:41:50.295Z"
   },
   {
    "duration": 9,
    "start_time": "2024-10-20T11:41:57.171Z"
   },
   {
    "duration": 5,
    "start_time": "2024-10-20T11:41:57.569Z"
   },
   {
    "duration": 5,
    "start_time": "2024-10-20T11:41:59.731Z"
   },
   {
    "duration": 2,
    "start_time": "2024-10-20T11:42:02.033Z"
   },
   {
    "duration": 2,
    "start_time": "2024-10-20T11:42:02.513Z"
   },
   {
    "duration": 5,
    "start_time": "2024-10-20T11:42:05.316Z"
   },
   {
    "duration": 4,
    "start_time": "2024-10-20T11:42:05.916Z"
   },
   {
    "duration": 6,
    "start_time": "2024-10-20T11:42:06.853Z"
   },
   {
    "duration": 2,
    "start_time": "2024-10-20T11:42:14.755Z"
   },
   {
    "duration": 2,
    "start_time": "2024-10-20T11:42:15.201Z"
   },
   {
    "duration": 4,
    "start_time": "2024-10-20T11:42:15.705Z"
   },
   {
    "duration": 5,
    "start_time": "2024-10-20T11:42:20.037Z"
   },
   {
    "duration": 6,
    "start_time": "2024-10-20T11:42:24.454Z"
   },
   {
    "duration": 7,
    "start_time": "2024-10-20T11:42:28.725Z"
   },
   {
    "duration": 5,
    "start_time": "2024-10-20T11:42:41.352Z"
   },
   {
    "duration": 7,
    "start_time": "2024-10-20T11:42:47.084Z"
   },
   {
    "duration": 5,
    "start_time": "2024-10-20T11:42:50.752Z"
   },
   {
    "duration": 7,
    "start_time": "2024-10-20T11:42:54.486Z"
   },
   {
    "duration": 5,
    "start_time": "2024-10-20T11:42:55.106Z"
   },
   {
    "duration": 6,
    "start_time": "2024-10-20T11:42:56.245Z"
   },
   {
    "duration": 5,
    "start_time": "2024-10-20T11:43:01.360Z"
   },
   {
    "duration": 5,
    "start_time": "2024-10-20T11:43:01.990Z"
   },
   {
    "duration": 4,
    "start_time": "2024-10-20T11:43:09.984Z"
   },
   {
    "duration": 9,
    "start_time": "2024-10-20T11:43:12.846Z"
   },
   {
    "duration": 3,
    "start_time": "2024-10-20T11:43:15.737Z"
   },
   {
    "duration": 4,
    "start_time": "2024-10-20T11:43:16.277Z"
   },
   {
    "duration": 5,
    "start_time": "2024-10-20T11:43:17.961Z"
   },
   {
    "duration": 8,
    "start_time": "2024-10-20T11:43:22.456Z"
   },
   {
    "duration": 14,
    "start_time": "2024-10-20T11:43:27.982Z"
   },
   {
    "duration": 6,
    "start_time": "2024-10-20T11:43:29.824Z"
   },
   {
    "duration": 6,
    "start_time": "2024-10-20T11:43:33.366Z"
   },
   {
    "duration": 10,
    "start_time": "2024-10-20T11:43:34.467Z"
   },
   {
    "duration": 6,
    "start_time": "2024-10-20T11:43:35.140Z"
   },
   {
    "duration": 4,
    "start_time": "2024-10-20T11:43:38.504Z"
   },
   {
    "duration": 4,
    "start_time": "2024-10-20T11:43:41.925Z"
   },
   {
    "duration": 8,
    "start_time": "2024-10-20T11:43:46.316Z"
   },
   {
    "duration": 7,
    "start_time": "2024-10-20T11:44:14.597Z"
   },
   {
    "duration": 4,
    "start_time": "2024-10-20T11:44:15.604Z"
   },
   {
    "duration": 9,
    "start_time": "2024-10-20T11:44:16.596Z"
   },
   {
    "duration": 2,
    "start_time": "2024-10-20T11:44:17.173Z"
   },
   {
    "duration": 4,
    "start_time": "2024-10-20T11:44:21.567Z"
   },
   {
    "duration": 4,
    "start_time": "2024-10-20T11:44:24.836Z"
   },
   {
    "duration": 5,
    "start_time": "2024-10-20T11:44:28.340Z"
   },
   {
    "duration": 2,
    "start_time": "2024-10-20T11:44:29.396Z"
   },
   {
    "duration": 4,
    "start_time": "2024-10-20T11:44:29.917Z"
   },
   {
    "duration": 6,
    "start_time": "2024-10-20T11:44:32.893Z"
   },
   {
    "duration": 5,
    "start_time": "2024-10-20T11:44:36.574Z"
   },
   {
    "duration": 4,
    "start_time": "2024-10-20T11:44:38.536Z"
   },
   {
    "duration": 14,
    "start_time": "2024-10-20T11:44:47.389Z"
   },
   {
    "duration": 7,
    "start_time": "2024-10-20T11:44:54.403Z"
   },
   {
    "duration": 4,
    "start_time": "2024-10-20T11:44:57.556Z"
   },
   {
    "duration": 12,
    "start_time": "2024-10-20T11:45:00.260Z"
   },
   {
    "duration": 11,
    "start_time": "2024-10-20T11:45:00.733Z"
   },
   {
    "duration": 21,
    "start_time": "2024-10-20T11:45:07.369Z"
   },
   {
    "duration": 10,
    "start_time": "2024-10-20T11:45:09.563Z"
   },
   {
    "duration": 12,
    "start_time": "2024-10-20T11:45:11.028Z"
   },
   {
    "duration": 40,
    "start_time": "2024-10-20T11:45:11.807Z"
   },
   {
    "duration": 5,
    "start_time": "2024-10-20T11:45:12.204Z"
   },
   {
    "duration": 19,
    "start_time": "2024-10-20T11:45:13.205Z"
   },
   {
    "duration": 4,
    "start_time": "2024-10-20T11:45:15.475Z"
   },
   {
    "duration": 6,
    "start_time": "2024-10-20T11:45:15.892Z"
   },
   {
    "duration": 6,
    "start_time": "2024-10-20T11:45:16.204Z"
   },
   {
    "duration": 5,
    "start_time": "2024-10-20T11:45:16.437Z"
   },
   {
    "duration": 4,
    "start_time": "2024-10-20T11:45:17.288Z"
   },
   {
    "duration": 265,
    "start_time": "2024-10-20T11:45:17.936Z"
   },
   {
    "duration": 4,
    "start_time": "2024-10-20T11:45:19.147Z"
   },
   {
    "duration": 24,
    "start_time": "2024-10-20T11:45:22.173Z"
   },
   {
    "duration": 130,
    "start_time": "2024-10-20T11:45:32.880Z"
   },
   {
    "duration": 82,
    "start_time": "2024-10-20T11:45:36.035Z"
   },
   {
    "duration": 140,
    "start_time": "2024-10-20T11:45:45.287Z"
   },
   {
    "duration": 7,
    "start_time": "2024-10-20T11:45:54.323Z"
   },
   {
    "duration": 128,
    "start_time": "2024-10-20T11:45:55.053Z"
   },
   {
    "duration": 117,
    "start_time": "2024-10-20T11:46:03.282Z"
   },
   {
    "duration": 87,
    "start_time": "2024-10-20T11:46:06.437Z"
   },
   {
    "duration": 9,
    "start_time": "2024-10-20T11:46:17.581Z"
   },
   {
    "duration": 131,
    "start_time": "2024-10-20T11:46:18.313Z"
   },
   {
    "duration": 237,
    "start_time": "2024-10-20T11:46:23.443Z"
   },
   {
    "duration": 81,
    "start_time": "2024-10-20T11:46:31.606Z"
   },
   {
    "duration": 11,
    "start_time": "2024-10-20T11:46:48.980Z"
   },
   {
    "duration": 7,
    "start_time": "2024-10-20T11:46:54.372Z"
   },
   {
    "duration": 130,
    "start_time": "2024-10-20T11:46:55.184Z"
   },
   {
    "duration": 142,
    "start_time": "2024-10-20T11:47:37.719Z"
   },
   {
    "duration": 89,
    "start_time": "2024-10-20T11:47:40.216Z"
   },
   {
    "duration": 111,
    "start_time": "2024-10-20T11:47:44.085Z"
   },
   {
    "duration": 121,
    "start_time": "2024-10-20T11:47:45.973Z"
   },
   {
    "duration": 140,
    "start_time": "2024-10-20T11:47:49.675Z"
   },
   {
    "duration": 95,
    "start_time": "2024-10-20T11:47:53.245Z"
   },
   {
    "duration": 7,
    "start_time": "2024-10-20T11:47:59.923Z"
   },
   {
    "duration": 129,
    "start_time": "2024-10-20T11:48:00.957Z"
   },
   {
    "duration": 131,
    "start_time": "2024-10-20T11:48:05.700Z"
   },
   {
    "duration": 87,
    "start_time": "2024-10-20T11:48:07.866Z"
   },
   {
    "duration": 214,
    "start_time": "2024-10-20T11:48:12.874Z"
   },
   {
    "duration": 92,
    "start_time": "2024-10-20T11:48:16.916Z"
   },
   {
    "duration": 36,
    "start_time": "2024-10-20T11:48:21.305Z"
   },
   {
    "duration": 5,
    "start_time": "2024-10-20T11:48:35.668Z"
   },
   {
    "duration": 89,
    "start_time": "2024-10-20T11:48:36.179Z"
   },
   {
    "duration": 6,
    "start_time": "2024-10-20T11:48:55.212Z"
   },
   {
    "duration": 6,
    "start_time": "2024-10-20T11:48:55.659Z"
   },
   {
    "duration": 150,
    "start_time": "2024-10-20T11:48:56.128Z"
   },
   {
    "duration": 122,
    "start_time": "2024-10-20T11:49:00.762Z"
   },
   {
    "duration": 132,
    "start_time": "2024-10-20T11:49:10.871Z"
   },
   {
    "duration": 105,
    "start_time": "2024-10-20T11:49:13.812Z"
   },
   {
    "duration": 5,
    "start_time": "2024-10-20T11:49:31.340Z"
   },
   {
    "duration": 6,
    "start_time": "2024-10-20T11:49:41.548Z"
   },
   {
    "duration": 148,
    "start_time": "2024-10-20T11:49:43.412Z"
   },
   {
    "duration": 130,
    "start_time": "2024-10-20T11:49:51.693Z"
   },
   {
    "duration": 98,
    "start_time": "2024-10-20T11:49:56.703Z"
   },
   {
    "duration": 7,
    "start_time": "2024-10-20T11:50:05.389Z"
   },
   {
    "duration": 135,
    "start_time": "2024-10-20T11:50:17.843Z"
   },
   {
    "duration": 92,
    "start_time": "2024-10-20T11:50:21.400Z"
   },
   {
    "duration": 8,
    "start_time": "2024-10-20T11:50:28.723Z"
   },
   {
    "duration": 115,
    "start_time": "2024-10-20T11:50:32.060Z"
   },
   {
    "duration": 134,
    "start_time": "2024-10-20T11:50:39.733Z"
   },
   {
    "duration": 133,
    "start_time": "2024-10-20T11:50:46.988Z"
   },
   {
    "duration": 4,
    "start_time": "2024-10-20T11:51:01.903Z"
   },
   {
    "duration": 3,
    "start_time": "2024-10-20T11:51:22.383Z"
   },
   {
    "duration": 214,
    "start_time": "2024-10-20T11:51:27.998Z"
   },
   {
    "duration": 100,
    "start_time": "2024-10-20T11:51:29.831Z"
   },
   {
    "duration": 6,
    "start_time": "2024-10-20T11:51:32.734Z"
   },
   {
    "duration": 128,
    "start_time": "2024-10-20T11:51:35.982Z"
   },
   {
    "duration": 176,
    "start_time": "2024-10-20T11:51:43.258Z"
   },
   {
    "duration": 102,
    "start_time": "2024-10-20T11:52:14.891Z"
   },
   {
    "duration": 9,
    "start_time": "2024-10-20T11:52:17.425Z"
   },
   {
    "duration": 9,
    "start_time": "2024-10-20T11:52:27.502Z"
   },
   {
    "duration": 773,
    "start_time": "2024-10-20T11:52:33.575Z"
   },
   {
    "duration": 128,
    "start_time": "2024-10-20T11:52:39.268Z"
   },
   {
    "duration": 160,
    "start_time": "2024-10-20T11:53:04.303Z"
   },
   {
    "duration": 172,
    "start_time": "2024-10-20T11:54:27.767Z"
   },
   {
    "duration": 155,
    "start_time": "2024-10-20T11:54:44.257Z"
   },
   {
    "duration": 11,
    "start_time": "2024-10-20T11:54:48.335Z"
   },
   {
    "duration": 139,
    "start_time": "2024-10-20T11:54:53.359Z"
   },
   {
    "duration": 19,
    "start_time": "2024-10-20T11:55:55.127Z"
   },
   {
    "duration": 2,
    "start_time": "2024-10-20T11:55:55.720Z"
   },
   {
    "duration": 10,
    "start_time": "2024-10-20T11:55:57.313Z"
   },
   {
    "duration": 18,
    "start_time": "2024-10-20T11:58:59.751Z"
   },
   {
    "duration": 4,
    "start_time": "2024-10-20T11:59:00.327Z"
   },
   {
    "duration": 8,
    "start_time": "2024-10-20T11:59:01.069Z"
   },
   {
    "duration": 1175,
    "start_time": "2024-10-20T12:03:10.293Z"
   },
   {
    "duration": 102,
    "start_time": "2024-10-20T12:03:11.470Z"
   },
   {
    "duration": 5,
    "start_time": "2024-10-20T12:03:11.573Z"
   },
   {
    "duration": 46,
    "start_time": "2024-10-20T12:03:11.579Z"
   },
   {
    "duration": 15,
    "start_time": "2024-10-20T12:03:11.627Z"
   },
   {
    "duration": 1885,
    "start_time": "2024-10-20T12:03:11.644Z"
   },
   {
    "duration": 11,
    "start_time": "2024-10-20T12:03:13.531Z"
   },
   {
    "duration": 31,
    "start_time": "2024-10-20T12:03:13.544Z"
   },
   {
    "duration": 13,
    "start_time": "2024-10-20T12:03:13.576Z"
   },
   {
    "duration": 5,
    "start_time": "2024-10-20T12:03:13.590Z"
   },
   {
    "duration": 6,
    "start_time": "2024-10-20T12:03:13.597Z"
   },
   {
    "duration": 5,
    "start_time": "2024-10-20T12:03:13.605Z"
   },
   {
    "duration": 12,
    "start_time": "2024-10-20T12:03:13.611Z"
   },
   {
    "duration": 5,
    "start_time": "2024-10-20T12:03:13.627Z"
   },
   {
    "duration": 8,
    "start_time": "2024-10-20T12:03:13.633Z"
   },
   {
    "duration": 3,
    "start_time": "2024-10-20T12:03:13.642Z"
   },
   {
    "duration": 6,
    "start_time": "2024-10-20T12:03:13.647Z"
   },
   {
    "duration": 10,
    "start_time": "2024-10-20T12:03:13.654Z"
   },
   {
    "duration": 12,
    "start_time": "2024-10-20T12:03:13.665Z"
   },
   {
    "duration": 10,
    "start_time": "2024-10-20T12:03:13.677Z"
   },
   {
    "duration": 5,
    "start_time": "2024-10-20T12:03:13.688Z"
   },
   {
    "duration": 8,
    "start_time": "2024-10-20T12:03:13.695Z"
   },
   {
    "duration": 7,
    "start_time": "2024-10-20T12:03:13.704Z"
   },
   {
    "duration": 5,
    "start_time": "2024-10-20T12:03:13.720Z"
   },
   {
    "duration": 10,
    "start_time": "2024-10-20T12:03:13.726Z"
   },
   {
    "duration": 7,
    "start_time": "2024-10-20T12:03:13.737Z"
   },
   {
    "duration": 5,
    "start_time": "2024-10-20T12:03:13.746Z"
   },
   {
    "duration": 10,
    "start_time": "2024-10-20T12:03:13.752Z"
   },
   {
    "duration": 8,
    "start_time": "2024-10-20T12:03:13.764Z"
   },
   {
    "duration": 8,
    "start_time": "2024-10-20T12:03:13.773Z"
   },
   {
    "duration": 5,
    "start_time": "2024-10-20T12:03:13.782Z"
   },
   {
    "duration": 5,
    "start_time": "2024-10-20T12:03:13.789Z"
   },
   {
    "duration": 5,
    "start_time": "2024-10-20T12:03:13.821Z"
   },
   {
    "duration": 53,
    "start_time": "2024-10-20T12:03:13.827Z"
   },
   {
    "duration": 6,
    "start_time": "2024-10-20T12:03:13.882Z"
   },
   {
    "duration": 7,
    "start_time": "2024-10-20T12:03:13.889Z"
   },
   {
    "duration": 3,
    "start_time": "2024-10-20T12:03:13.897Z"
   },
   {
    "duration": 9,
    "start_time": "2024-10-20T12:03:13.901Z"
   },
   {
    "duration": 12,
    "start_time": "2024-10-20T12:03:13.912Z"
   },
   {
    "duration": 10,
    "start_time": "2024-10-20T12:03:13.925Z"
   },
   {
    "duration": 12,
    "start_time": "2024-10-20T12:03:13.939Z"
   },
   {
    "duration": 5,
    "start_time": "2024-10-20T12:03:13.952Z"
   },
   {
    "duration": 17,
    "start_time": "2024-10-20T12:03:13.958Z"
   },
   {
    "duration": 12,
    "start_time": "2024-10-20T12:03:13.976Z"
   },
   {
    "duration": 7,
    "start_time": "2024-10-20T12:03:13.989Z"
   },
   {
    "duration": 22,
    "start_time": "2024-10-20T12:03:13.997Z"
   },
   {
    "duration": 9,
    "start_time": "2024-10-20T12:03:14.020Z"
   },
   {
    "duration": 9,
    "start_time": "2024-10-20T12:03:14.030Z"
   },
   {
    "duration": 19,
    "start_time": "2024-10-20T12:03:14.040Z"
   },
   {
    "duration": 5,
    "start_time": "2024-10-20T12:03:14.060Z"
   },
   {
    "duration": 22,
    "start_time": "2024-10-20T12:03:14.066Z"
   },
   {
    "duration": 2,
    "start_time": "2024-10-20T12:03:14.089Z"
   },
   {
    "duration": 8,
    "start_time": "2024-10-20T12:03:14.092Z"
   },
   {
    "duration": 12,
    "start_time": "2024-10-20T12:03:14.101Z"
   },
   {
    "duration": 25,
    "start_time": "2024-10-20T12:03:14.114Z"
   },
   {
    "duration": 24,
    "start_time": "2024-10-20T12:03:14.141Z"
   },
   {
    "duration": 11,
    "start_time": "2024-10-20T12:03:14.166Z"
   },
   {
    "duration": 7,
    "start_time": "2024-10-20T12:03:14.178Z"
   },
   {
    "duration": 5,
    "start_time": "2024-10-20T12:03:14.187Z"
   },
   {
    "duration": 24,
    "start_time": "2024-10-20T12:03:14.193Z"
   },
   {
    "duration": 29,
    "start_time": "2024-10-20T12:03:14.219Z"
   },
   {
    "duration": 7,
    "start_time": "2024-10-20T12:03:14.249Z"
   },
   {
    "duration": 8,
    "start_time": "2024-10-20T12:03:14.257Z"
   },
   {
    "duration": 11,
    "start_time": "2024-10-20T12:03:14.267Z"
   },
   {
    "duration": 23,
    "start_time": "2024-10-20T12:03:14.279Z"
   },
   {
    "duration": 18,
    "start_time": "2024-10-20T12:03:14.303Z"
   },
   {
    "duration": 14,
    "start_time": "2024-10-20T12:03:14.322Z"
   },
   {
    "duration": 12,
    "start_time": "2024-10-20T12:03:14.338Z"
   },
   {
    "duration": 45,
    "start_time": "2024-10-20T12:03:14.351Z"
   },
   {
    "duration": 6,
    "start_time": "2024-10-20T12:03:14.397Z"
   },
   {
    "duration": 33,
    "start_time": "2024-10-20T12:03:14.405Z"
   },
   {
    "duration": 5,
    "start_time": "2024-10-20T12:03:14.439Z"
   },
   {
    "duration": 19,
    "start_time": "2024-10-20T12:03:14.445Z"
   },
   {
    "duration": 8,
    "start_time": "2024-10-20T12:03:14.465Z"
   },
   {
    "duration": 6,
    "start_time": "2024-10-20T12:03:14.474Z"
   },
   {
    "duration": 3,
    "start_time": "2024-10-20T12:03:14.482Z"
   },
   {
    "duration": 287,
    "start_time": "2024-10-20T12:03:14.487Z"
   },
   {
    "duration": 4,
    "start_time": "2024-10-20T12:03:14.776Z"
   },
   {
    "duration": 23,
    "start_time": "2024-10-20T12:03:14.782Z"
   },
   {
    "duration": 119,
    "start_time": "2024-10-20T12:03:14.806Z"
   },
   {
    "duration": 83,
    "start_time": "2024-10-20T12:03:14.926Z"
   },
   {
    "duration": 129,
    "start_time": "2024-10-20T12:03:30.521Z"
   },
   {
    "duration": 8,
    "start_time": "2024-10-20T12:03:37.375Z"
   },
   {
    "duration": 121,
    "start_time": "2024-10-20T12:03:38.801Z"
   },
   {
    "duration": 115,
    "start_time": "2024-10-20T12:03:45.488Z"
   },
   {
    "duration": 85,
    "start_time": "2024-10-20T12:03:53.465Z"
   },
   {
    "duration": 10,
    "start_time": "2024-10-20T12:03:57.705Z"
   },
   {
    "duration": 125,
    "start_time": "2024-10-20T12:03:58.825Z"
   },
   {
    "duration": 214,
    "start_time": "2024-10-20T12:04:25.921Z"
   },
   {
    "duration": 95,
    "start_time": "2024-10-20T12:04:27.452Z"
   },
   {
    "duration": 12,
    "start_time": "2024-10-20T12:04:34.291Z"
   },
   {
    "duration": 7,
    "start_time": "2024-10-20T12:04:35.648Z"
   },
   {
    "duration": 150,
    "start_time": "2024-10-20T12:04:42.505Z"
   },
   {
    "duration": 138,
    "start_time": "2024-10-20T12:04:45.759Z"
   },
   {
    "duration": 92,
    "start_time": "2024-10-20T12:04:46.904Z"
   },
   {
    "duration": 116,
    "start_time": "2024-10-20T12:04:53.280Z"
   },
   {
    "duration": 123,
    "start_time": "2024-10-20T12:04:54.005Z"
   },
   {
    "duration": 138,
    "start_time": "2024-10-20T12:04:59.840Z"
   },
   {
    "duration": 96,
    "start_time": "2024-10-20T12:05:12.752Z"
   },
   {
    "duration": 7,
    "start_time": "2024-10-20T12:05:18.729Z"
   },
   {
    "duration": 118,
    "start_time": "2024-10-20T12:05:19.361Z"
   },
   {
    "duration": 128,
    "start_time": "2024-10-20T12:05:26.096Z"
   },
   {
    "duration": 84,
    "start_time": "2024-10-20T12:05:28.640Z"
   },
   {
    "duration": 212,
    "start_time": "2024-10-20T12:05:30.737Z"
   },
   {
    "duration": 92,
    "start_time": "2024-10-20T12:05:35.129Z"
   },
   {
    "duration": 37,
    "start_time": "2024-10-20T12:05:41.193Z"
   },
   {
    "duration": 5,
    "start_time": "2024-10-20T12:05:44.496Z"
   },
   {
    "duration": 97,
    "start_time": "2024-10-20T12:05:45.636Z"
   },
   {
    "duration": 7,
    "start_time": "2024-10-20T12:06:01.425Z"
   },
   {
    "duration": 6,
    "start_time": "2024-10-20T12:06:02.096Z"
   },
   {
    "duration": 140,
    "start_time": "2024-10-20T12:06:03.482Z"
   },
   {
    "duration": 126,
    "start_time": "2024-10-20T12:06:07.744Z"
   },
   {
    "duration": 133,
    "start_time": "2024-10-20T12:06:11.575Z"
   },
   {
    "duration": 92,
    "start_time": "2024-10-20T12:06:21.376Z"
   },
   {
    "duration": 4,
    "start_time": "2024-10-20T12:06:23.714Z"
   },
   {
    "duration": 6,
    "start_time": "2024-10-20T12:06:26.607Z"
   },
   {
    "duration": 147,
    "start_time": "2024-10-20T12:06:28.024Z"
   },
   {
    "duration": 129,
    "start_time": "2024-10-20T12:06:43.770Z"
   },
   {
    "duration": 93,
    "start_time": "2024-10-20T12:06:48.029Z"
   },
   {
    "duration": 6,
    "start_time": "2024-10-20T12:06:56.632Z"
   },
   {
    "duration": 147,
    "start_time": "2024-10-20T12:06:58.712Z"
   },
   {
    "duration": 91,
    "start_time": "2024-10-20T12:07:09.645Z"
   },
   {
    "duration": 9,
    "start_time": "2024-10-20T12:07:15.947Z"
   },
   {
    "duration": 120,
    "start_time": "2024-10-20T12:07:16.457Z"
   },
   {
    "duration": 128,
    "start_time": "2024-10-20T12:07:20.396Z"
   },
   {
    "duration": 133,
    "start_time": "2024-10-20T12:07:27.825Z"
   },
   {
    "duration": 3,
    "start_time": "2024-10-20T12:07:32.484Z"
   },
   {
    "duration": 3,
    "start_time": "2024-10-20T12:07:39.509Z"
   },
   {
    "duration": 237,
    "start_time": "2024-10-20T12:07:43.440Z"
   },
   {
    "duration": 101,
    "start_time": "2024-10-20T12:07:46.643Z"
   },
   {
    "duration": 6,
    "start_time": "2024-10-20T12:07:49.659Z"
   },
   {
    "duration": 138,
    "start_time": "2024-10-20T12:07:54.800Z"
   },
   {
    "duration": 184,
    "start_time": "2024-10-20T12:08:00.702Z"
   },
   {
    "duration": 106,
    "start_time": "2024-10-20T12:08:05.458Z"
   },
   {
    "duration": 9,
    "start_time": "2024-10-20T12:08:08.781Z"
   },
   {
    "duration": 9,
    "start_time": "2024-10-20T12:08:13.712Z"
   },
   {
    "duration": 740,
    "start_time": "2024-10-20T12:08:18.708Z"
   },
   {
    "duration": 131,
    "start_time": "2024-10-20T12:08:26.565Z"
   },
   {
    "duration": 158,
    "start_time": "2024-10-20T12:08:27.532Z"
   },
   {
    "duration": 189,
    "start_time": "2024-10-20T12:08:29.957Z"
   },
   {
    "duration": 144,
    "start_time": "2024-10-20T12:08:42.622Z"
   },
   {
    "duration": 12,
    "start_time": "2024-10-20T12:08:46.265Z"
   },
   {
    "duration": 153,
    "start_time": "2024-10-20T12:08:47.331Z"
   },
   {
    "duration": 25,
    "start_time": "2024-10-20T12:09:02.415Z"
   },
   {
    "duration": 3,
    "start_time": "2024-10-20T12:09:03.149Z"
   },
   {
    "duration": 8,
    "start_time": "2024-10-20T12:09:08.332Z"
   },
   {
    "duration": 18,
    "start_time": "2024-10-20T12:09:25.557Z"
   },
   {
    "duration": 3,
    "start_time": "2024-10-20T12:09:27.648Z"
   },
   {
    "duration": 8,
    "start_time": "2024-10-20T12:09:29.328Z"
   },
   {
    "duration": 18,
    "start_time": "2024-10-20T12:09:46.709Z"
   },
   {
    "duration": 2,
    "start_time": "2024-10-20T12:09:48.028Z"
   },
   {
    "duration": 8,
    "start_time": "2024-10-20T12:09:48.624Z"
   },
   {
    "duration": 20,
    "start_time": "2024-10-20T12:10:12.269Z"
   },
   {
    "duration": 3,
    "start_time": "2024-10-20T12:10:15.252Z"
   },
   {
    "duration": 7,
    "start_time": "2024-10-20T12:10:16.269Z"
   },
   {
    "duration": 7,
    "start_time": "2024-10-20T12:11:10.159Z"
   },
   {
    "duration": 134,
    "start_time": "2024-10-20T12:11:11.589Z"
   },
   {
    "duration": 146,
    "start_time": "2024-10-20T12:11:15.644Z"
   },
   {
    "duration": 139,
    "start_time": "2024-10-20T12:11:27.971Z"
   },
   {
    "duration": 20,
    "start_time": "2024-10-20T12:11:33.113Z"
   },
   {
    "duration": 1418,
    "start_time": "2024-10-21T14:10:17.259Z"
   },
   {
    "duration": 336,
    "start_time": "2024-10-21T14:10:20.858Z"
   },
   {
    "duration": 6,
    "start_time": "2024-10-21T14:10:21.789Z"
   },
   {
    "duration": 29,
    "start_time": "2024-10-21T14:10:25.747Z"
   },
   {
    "duration": 20,
    "start_time": "2024-10-21T14:10:26.391Z"
   },
   {
    "duration": 2040,
    "start_time": "2024-10-21T14:10:29.990Z"
   },
   {
    "duration": 10,
    "start_time": "2024-10-21T14:10:36.773Z"
   },
   {
    "duration": 4,
    "start_time": "2024-10-21T14:10:41.517Z"
   },
   {
    "duration": 10,
    "start_time": "2024-10-21T14:10:42.492Z"
   },
   {
    "duration": 5,
    "start_time": "2024-10-21T14:10:45.041Z"
   },
   {
    "duration": 5,
    "start_time": "2024-10-21T14:10:45.446Z"
   },
   {
    "duration": 5,
    "start_time": "2024-10-21T14:10:47.064Z"
   },
   {
    "duration": 9,
    "start_time": "2024-10-21T14:10:49.325Z"
   },
   {
    "duration": 6,
    "start_time": "2024-10-21T14:10:49.701Z"
   },
   {
    "duration": 5,
    "start_time": "2024-10-21T14:10:55.105Z"
   },
   {
    "duration": 2,
    "start_time": "2024-10-21T14:10:56.242Z"
   },
   {
    "duration": 2,
    "start_time": "2024-10-21T14:10:56.854Z"
   },
   {
    "duration": 6,
    "start_time": "2024-10-21T14:11:07.476Z"
   },
   {
    "duration": 3,
    "start_time": "2024-10-21T14:11:08.335Z"
   },
   {
    "duration": 6,
    "start_time": "2024-10-21T14:11:09.298Z"
   },
   {
    "duration": 3,
    "start_time": "2024-10-21T14:11:11.686Z"
   },
   {
    "duration": 2,
    "start_time": "2024-10-21T14:11:12.046Z"
   },
   {
    "duration": 4,
    "start_time": "2024-10-21T14:11:12.546Z"
   },
   {
    "duration": 5,
    "start_time": "2024-10-21T14:11:15.218Z"
   },
   {
    "duration": 7,
    "start_time": "2024-10-21T14:11:15.458Z"
   },
   {
    "duration": 6,
    "start_time": "2024-10-21T14:13:41.186Z"
   },
   {
    "duration": 5,
    "start_time": "2024-10-21T14:16:41.042Z"
   },
   {
    "duration": 4,
    "start_time": "2024-10-21T14:16:46.218Z"
   },
   {
    "duration": 8,
    "start_time": "2024-10-21T14:16:49.980Z"
   },
   {
    "duration": 6,
    "start_time": "2024-10-21T14:16:50.574Z"
   },
   {
    "duration": 8,
    "start_time": "2024-10-21T14:16:53.332Z"
   },
   {
    "duration": 6,
    "start_time": "2024-10-21T14:16:56.786Z"
   },
   {
    "duration": 6,
    "start_time": "2024-10-21T14:16:59.434Z"
   },
   {
    "duration": 4,
    "start_time": "2024-10-21T14:20:40.834Z"
   },
   {
    "duration": 5,
    "start_time": "2024-10-21T14:20:42.486Z"
   },
   {
    "duration": 6,
    "start_time": "2024-10-21T14:22:09.927Z"
   },
   {
    "duration": 10,
    "start_time": "2024-10-21T14:22:12.915Z"
   },
   {
    "duration": 4,
    "start_time": "2024-10-21T14:22:15.869Z"
   },
   {
    "duration": 5,
    "start_time": "2024-10-21T14:22:16.393Z"
   },
   {
    "duration": 5,
    "start_time": "2024-10-21T14:22:19.478Z"
   },
   {
    "duration": 8,
    "start_time": "2024-10-21T14:22:20.469Z"
   },
   {
    "duration": 17,
    "start_time": "2024-10-21T14:22:23.659Z"
   },
   {
    "duration": 6,
    "start_time": "2024-10-21T14:22:25.932Z"
   },
   {
    "duration": 5,
    "start_time": "2024-10-21T14:22:26.425Z"
   },
   {
    "duration": 10,
    "start_time": "2024-10-21T14:22:27.508Z"
   },
   {
    "duration": 6,
    "start_time": "2024-10-21T14:22:28.013Z"
   },
   {
    "duration": 5,
    "start_time": "2024-10-21T14:22:31.441Z"
   },
   {
    "duration": 4,
    "start_time": "2024-10-21T14:22:34.212Z"
   },
   {
    "duration": 8,
    "start_time": "2024-10-21T14:22:36.516Z"
   },
   {
    "duration": 8,
    "start_time": "2024-10-21T14:22:38.540Z"
   },
   {
    "duration": 5,
    "start_time": "2024-10-21T14:22:41.537Z"
   },
   {
    "duration": 9,
    "start_time": "2024-10-21T14:22:42.567Z"
   },
   {
    "duration": 2,
    "start_time": "2024-10-21T14:22:43.115Z"
   },
   {
    "duration": 4,
    "start_time": "2024-10-21T14:22:50.433Z"
   },
   {
    "duration": 5,
    "start_time": "2024-10-21T14:22:51.402Z"
   },
   {
    "duration": 4,
    "start_time": "2024-10-21T14:22:55.081Z"
   },
   {
    "duration": 2,
    "start_time": "2024-10-21T14:22:57.841Z"
   },
   {
    "duration": 4,
    "start_time": "2024-10-21T14:22:58.569Z"
   },
   {
    "duration": 4,
    "start_time": "2024-10-21T14:23:00.660Z"
   },
   {
    "duration": 5,
    "start_time": "2024-10-21T14:23:03.339Z"
   },
   {
    "duration": 4,
    "start_time": "2024-10-21T14:23:04.656Z"
   },
   {
    "duration": 13,
    "start_time": "2024-10-21T14:23:13.420Z"
   },
   {
    "duration": 8,
    "start_time": "2024-10-21T14:23:18.332Z"
   },
   {
    "duration": 5,
    "start_time": "2024-10-21T14:23:20.801Z"
   },
   {
    "duration": 8,
    "start_time": "2024-10-21T14:23:23.246Z"
   },
   {
    "duration": 14,
    "start_time": "2024-10-21T14:23:23.937Z"
   },
   {
    "duration": 21,
    "start_time": "2024-10-21T14:23:29.404Z"
   },
   {
    "duration": 10,
    "start_time": "2024-10-21T14:23:32.273Z"
   },
   {
    "duration": 12,
    "start_time": "2024-10-21T14:23:34.937Z"
   },
   {
    "duration": 43,
    "start_time": "2024-10-21T14:23:36.205Z"
   },
   {
    "duration": 5,
    "start_time": "2024-10-21T14:23:36.704Z"
   },
   {
    "duration": 21,
    "start_time": "2024-10-21T14:23:41.001Z"
   },
   {
    "duration": 4,
    "start_time": "2024-10-21T14:23:44.478Z"
   },
   {
    "duration": 6,
    "start_time": "2024-10-21T14:23:44.692Z"
   },
   {
    "duration": 6,
    "start_time": "2024-10-21T14:23:44.910Z"
   },
   {
    "duration": 6,
    "start_time": "2024-10-21T14:23:45.137Z"
   },
   {
    "duration": 3,
    "start_time": "2024-10-21T14:23:46.972Z"
   },
   {
    "duration": 301,
    "start_time": "2024-10-21T14:23:47.349Z"
   },
   {
    "duration": 4,
    "start_time": "2024-10-21T14:24:03.881Z"
   },
   {
    "duration": 26,
    "start_time": "2024-10-21T14:24:04.864Z"
   },
   {
    "duration": 114,
    "start_time": "2024-10-21T14:25:05.590Z"
   },
   {
    "duration": 89,
    "start_time": "2024-10-21T14:25:08.021Z"
   },
   {
    "duration": 137,
    "start_time": "2024-10-21T14:25:10.132Z"
   },
   {
    "duration": 8,
    "start_time": "2024-10-21T14:25:11.836Z"
   },
   {
    "duration": 132,
    "start_time": "2024-10-21T14:25:13.461Z"
   },
   {
    "duration": 134,
    "start_time": "2024-10-21T14:25:18.717Z"
   },
   {
    "duration": 100,
    "start_time": "2024-10-21T14:25:23.020Z"
   },
   {
    "duration": 8,
    "start_time": "2024-10-21T14:25:25.820Z"
   },
   {
    "duration": 145,
    "start_time": "2024-10-21T14:25:26.326Z"
   },
   {
    "duration": 259,
    "start_time": "2024-10-21T14:25:32.856Z"
   },
   {
    "duration": 91,
    "start_time": "2024-10-21T14:25:36.684Z"
   },
   {
    "duration": 14,
    "start_time": "2024-10-21T14:25:38.902Z"
   },
   {
    "duration": 7,
    "start_time": "2024-10-21T14:25:41.580Z"
   },
   {
    "duration": 150,
    "start_time": "2024-10-21T14:25:42.029Z"
   },
   {
    "duration": 135,
    "start_time": "2024-10-21T14:25:50.116Z"
   },
   {
    "duration": 98,
    "start_time": "2024-10-21T14:25:52.454Z"
   },
   {
    "duration": 131,
    "start_time": "2024-10-21T14:26:11.189Z"
   },
   {
    "duration": 146,
    "start_time": "2024-10-21T14:26:11.885Z"
   },
   {
    "duration": 145,
    "start_time": "2024-10-21T14:26:13.113Z"
   },
   {
    "duration": 102,
    "start_time": "2024-10-21T14:26:15.549Z"
   },
   {
    "duration": 6,
    "start_time": "2024-10-21T14:26:17.868Z"
   },
   {
    "duration": 158,
    "start_time": "2024-10-21T14:26:18.374Z"
   },
   {
    "duration": 149,
    "start_time": "2024-10-21T14:26:21.416Z"
   },
   {
    "duration": 110,
    "start_time": "2024-10-21T14:26:23.809Z"
   },
   {
    "duration": 218,
    "start_time": "2024-10-21T14:26:44.539Z"
   },
   {
    "duration": 96,
    "start_time": "2024-10-21T14:26:47.273Z"
   },
   {
    "duration": 39,
    "start_time": "2024-10-21T14:26:54.533Z"
   },
   {
    "duration": 5,
    "start_time": "2024-10-21T14:26:59.569Z"
   },
   {
    "duration": 111,
    "start_time": "2024-10-21T14:27:00.293Z"
   },
   {
    "duration": 10,
    "start_time": "2024-10-21T14:27:01.540Z"
   },
   {
    "duration": 6,
    "start_time": "2024-10-21T14:27:02.095Z"
   },
   {
    "duration": 176,
    "start_time": "2024-10-21T14:27:02.473Z"
   },
   {
    "duration": 132,
    "start_time": "2024-10-21T14:27:06.236Z"
   },
   {
    "duration": 141,
    "start_time": "2024-10-21T14:27:10.039Z"
   },
   {
    "duration": 98,
    "start_time": "2024-10-21T14:27:12.142Z"
   },
   {
    "duration": 5,
    "start_time": "2024-10-21T14:27:16.166Z"
   },
   {
    "duration": 9,
    "start_time": "2024-10-21T14:27:19.984Z"
   },
   {
    "duration": 166,
    "start_time": "2024-10-21T14:27:20.693Z"
   },
   {
    "duration": 135,
    "start_time": "2024-10-21T14:27:27.045Z"
   },
   {
    "duration": 102,
    "start_time": "2024-10-21T14:27:31.062Z"
   },
   {
    "duration": 7,
    "start_time": "2024-10-21T14:27:34.973Z"
   },
   {
    "duration": 148,
    "start_time": "2024-10-21T14:27:36.858Z"
   },
   {
    "duration": 104,
    "start_time": "2024-10-21T14:27:41.540Z"
   },
   {
    "duration": 9,
    "start_time": "2024-10-21T14:27:45.554Z"
   },
   {
    "duration": 129,
    "start_time": "2024-10-21T14:27:46.933Z"
   },
   {
    "duration": 137,
    "start_time": "2024-10-21T14:27:51.142Z"
   },
   {
    "duration": 142,
    "start_time": "2024-10-21T14:27:55.806Z"
   },
   {
    "duration": 4,
    "start_time": "2024-10-21T14:28:07.164Z"
   },
   {
    "duration": 3,
    "start_time": "2024-10-21T14:28:10.477Z"
   },
   {
    "duration": 253,
    "start_time": "2024-10-21T14:28:52.252Z"
   },
   {
    "duration": 118,
    "start_time": "2024-10-21T14:28:54.992Z"
   },
   {
    "duration": 6,
    "start_time": "2024-10-21T14:28:57.988Z"
   },
   {
    "duration": 155,
    "start_time": "2024-10-21T14:29:01.177Z"
   },
   {
    "duration": 197,
    "start_time": "2024-10-21T14:29:07.137Z"
   },
   {
    "duration": 104,
    "start_time": "2024-10-21T14:29:28.125Z"
   },
   {
    "duration": 10,
    "start_time": "2024-10-21T14:29:31.275Z"
   },
   {
    "duration": 9,
    "start_time": "2024-10-21T14:30:04.764Z"
   },
   {
    "duration": 800,
    "start_time": "2024-10-21T14:30:26.255Z"
   },
   {
    "duration": 158,
    "start_time": "2024-10-21T14:30:32.805Z"
   },
   {
    "duration": 167,
    "start_time": "2024-10-21T14:30:35.218Z"
   },
   {
    "duration": 190,
    "start_time": "2024-10-21T14:30:37.536Z"
   },
   {
    "duration": 167,
    "start_time": "2024-10-21T14:30:39.809Z"
   },
   {
    "duration": 12,
    "start_time": "2024-10-21T14:30:42.900Z"
   },
   {
    "duration": 146,
    "start_time": "2024-10-21T14:30:45.637Z"
   },
   {
    "duration": 20,
    "start_time": "2024-10-21T14:31:45.797Z"
   },
   {
    "duration": 4,
    "start_time": "2024-10-21T14:31:46.289Z"
   },
   {
    "duration": 8,
    "start_time": "2024-10-21T14:31:48.165Z"
   },
   {
    "duration": 7,
    "start_time": "2024-10-21T14:31:56.668Z"
   },
   {
    "duration": 170,
    "start_time": "2024-10-21T14:31:59.184Z"
   },
   {
    "duration": 160,
    "start_time": "2024-10-21T14:32:02.673Z"
   },
   {
    "duration": 163,
    "start_time": "2024-10-21T14:32:16.173Z"
   },
   {
    "duration": 22,
    "start_time": "2024-10-21T14:32:17.898Z"
   }
  ],
  "colab": {
   "provenance": []
  },
  "kernelspec": {
   "display_name": "Python 3 (ipykernel)",
   "language": "python",
   "name": "python3"
  },
  "language_info": {
   "codemirror_mode": {
    "name": "ipython",
    "version": 3
   },
   "file_extension": ".py",
   "mimetype": "text/x-python",
   "name": "python",
   "nbconvert_exporter": "python",
   "pygments_lexer": "ipython3",
   "version": "3.9.5"
  },
  "toc": {
   "base_numbering": 1,
   "nav_menu": {},
   "number_sections": true,
   "sideBar": true,
   "skip_h1_title": true,
   "title_cell": "Table of Contents",
   "title_sidebar": "Contents",
   "toc_cell": false,
   "toc_position": {},
   "toc_section_display": true,
   "toc_window_display": false
  }
 },
 "nbformat": 4,
 "nbformat_minor": 1
}
