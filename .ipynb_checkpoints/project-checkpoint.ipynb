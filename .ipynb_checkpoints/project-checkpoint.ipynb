{
 "cells": [
  {
   "cell_type": "markdown",
   "metadata": {},
   "source": [
    "**Тестирование коммита**\n",
    "- вервия 1"
   ]
  },
  {
   "cell_type": "code",
   "execution_count": null,
   "metadata": {},
   "outputs": [],
   "source": []
  }
 ],
 "metadata": {
  "ExecuteTimeLog": [
   {
    "duration": 345,
    "start_time": "2024-10-14T12:49:25.948Z"
   },
   {
    "duration": 144,
    "start_time": "2024-10-14T12:50:40.283Z"
   },
   {
    "duration": 29,
    "start_time": "2024-10-14T12:51:59.422Z"
   },
   {
    "duration": 5,
    "start_time": "2024-10-14T12:52:12.459Z"
   },
   {
    "duration": 5,
    "start_time": "2024-10-14T12:52:31.418Z"
   },
   {
    "duration": 60,
    "start_time": "2024-10-14T12:52:53.677Z"
   },
   {
    "duration": 77,
    "start_time": "2024-10-14T12:53:06.637Z"
   },
   {
    "duration": 6,
    "start_time": "2024-10-14T12:53:08.843Z"
   },
   {
    "duration": 89,
    "start_time": "2024-10-14T12:53:29.837Z"
   },
   {
    "duration": 25,
    "start_time": "2024-10-14T12:53:31.269Z"
   },
   {
    "duration": 97,
    "start_time": "2024-10-14T12:54:28.672Z"
   },
   {
    "duration": 64,
    "start_time": "2024-10-14T12:54:45.943Z"
   },
   {
    "duration": 18,
    "start_time": "2024-10-14T12:55:14.870Z"
   },
   {
    "duration": 12,
    "start_time": "2024-10-14T12:55:20.825Z"
   },
   {
    "duration": 11,
    "start_time": "2024-10-14T15:15:30.109Z"
   },
   {
    "duration": 435,
    "start_time": "2024-10-14T15:25:13.742Z"
   },
   {
    "duration": 322,
    "start_time": "2024-10-14T15:25:15.560Z"
   },
   {
    "duration": 15,
    "start_time": "2024-10-14T15:25:31.245Z"
   },
   {
    "duration": 2388,
    "start_time": "2024-10-14T15:39:24.168Z"
   },
   {
    "duration": 1997,
    "start_time": "2024-10-14T15:44:49.058Z"
   },
   {
    "duration": 2094,
    "start_time": "2024-10-14T15:45:05.298Z"
   },
   {
    "duration": 4,
    "start_time": "2024-10-14T15:47:14.969Z"
   },
   {
    "duration": 1897,
    "start_time": "2024-10-14T15:47:31.930Z"
   },
   {
    "duration": 2019,
    "start_time": "2024-10-14T15:48:04.913Z"
   },
   {
    "duration": 2010,
    "start_time": "2024-10-14T15:48:13.998Z"
   },
   {
    "duration": 3267,
    "start_time": "2024-10-14T15:49:02.065Z"
   },
   {
    "duration": 11049,
    "start_time": "2024-10-14T15:49:16.909Z"
   },
   {
    "duration": 2027,
    "start_time": "2024-10-14T15:49:42.303Z"
   },
   {
    "duration": 840,
    "start_time": "2024-10-15T03:59:37.825Z"
   },
   {
    "duration": 334,
    "start_time": "2024-10-15T03:59:39.673Z"
   },
   {
    "duration": 20,
    "start_time": "2024-10-15T03:59:43.557Z"
   },
   {
    "duration": 14,
    "start_time": "2024-10-15T04:12:51.200Z"
   },
   {
    "duration": 27,
    "start_time": "2024-10-15T04:13:25.294Z"
   },
   {
    "duration": 26,
    "start_time": "2024-10-15T04:13:30.815Z"
   },
   {
    "duration": 2,
    "start_time": "2024-10-15T04:14:43.037Z"
   },
   {
    "duration": 76,
    "start_time": "2024-10-15T06:31:40.551Z"
   },
   {
    "duration": 6,
    "start_time": "2024-10-15T06:31:46.349Z"
   },
   {
    "duration": 8,
    "start_time": "2024-10-15T06:32:00.396Z"
   },
   {
    "duration": 8,
    "start_time": "2024-10-15T06:32:06.272Z"
   },
   {
    "duration": 6,
    "start_time": "2024-10-15T06:32:36.187Z"
   },
   {
    "duration": 10,
    "start_time": "2024-10-15T06:33:06.828Z"
   },
   {
    "duration": 9,
    "start_time": "2024-10-15T06:34:06.694Z"
   },
   {
    "duration": 6,
    "start_time": "2024-10-15T06:34:34.548Z"
   },
   {
    "duration": 3,
    "start_time": "2024-10-15T06:34:52.145Z"
   },
   {
    "duration": 43,
    "start_time": "2024-10-15T06:34:56.091Z"
   },
   {
    "duration": 5,
    "start_time": "2024-10-15T06:36:29.947Z"
   },
   {
    "duration": 10,
    "start_time": "2024-10-15T06:40:52.364Z"
   },
   {
    "duration": 5,
    "start_time": "2024-10-15T06:47:11.983Z"
   },
   {
    "duration": 7,
    "start_time": "2024-10-15T06:48:24.055Z"
   },
   {
    "duration": 5,
    "start_time": "2024-10-15T06:48:39.958Z"
   },
   {
    "duration": 5,
    "start_time": "2024-10-15T06:49:29.667Z"
   },
   {
    "duration": 8,
    "start_time": "2024-10-15T06:50:44.818Z"
   },
   {
    "duration": 8,
    "start_time": "2024-10-15T06:51:18.940Z"
   },
   {
    "duration": 9,
    "start_time": "2024-10-15T06:58:40.810Z"
   },
   {
    "duration": 5,
    "start_time": "2024-10-15T06:58:53.315Z"
   },
   {
    "duration": 5,
    "start_time": "2024-10-15T07:00:55.979Z"
   },
   {
    "duration": 10,
    "start_time": "2024-10-15T07:01:24.685Z"
   },
   {
    "duration": 106,
    "start_time": "2024-10-15T07:05:59.991Z"
   },
   {
    "duration": 14,
    "start_time": "2024-10-15T07:06:01.916Z"
   },
   {
    "duration": 5,
    "start_time": "2024-10-15T07:06:11.570Z"
   },
   {
    "duration": 9,
    "start_time": "2024-10-15T07:06:12.654Z"
   },
   {
    "duration": 4,
    "start_time": "2024-10-15T07:06:15.294Z"
   },
   {
    "duration": 4,
    "start_time": "2024-10-15T07:06:16.046Z"
   },
   {
    "duration": 4,
    "start_time": "2024-10-15T07:06:20.754Z"
   },
   {
    "duration": 38,
    "start_time": "2024-10-15T07:06:57.734Z"
   },
   {
    "duration": 9,
    "start_time": "2024-10-15T07:09:19.569Z"
   },
   {
    "duration": 1291,
    "start_time": "2024-10-15T07:10:11.754Z"
   },
   {
    "duration": 1415,
    "start_time": "2024-10-15T07:12:30.441Z"
   },
   {
    "duration": 2103,
    "start_time": "2024-10-15T07:12:55.225Z"
   },
   {
    "duration": 98,
    "start_time": "2024-10-15T07:16:03.043Z"
   },
   {
    "duration": 15,
    "start_time": "2024-10-15T07:16:04.274Z"
   },
   {
    "duration": 5,
    "start_time": "2024-10-15T07:16:17.881Z"
   },
   {
    "duration": 9,
    "start_time": "2024-10-15T07:16:27.984Z"
   },
   {
    "duration": 1886,
    "start_time": "2024-10-15T07:17:13.626Z"
   },
   {
    "duration": 2172,
    "start_time": "2024-10-15T07:17:26.433Z"
   },
   {
    "duration": 10,
    "start_time": "2024-10-15T07:25:41.686Z"
   },
   {
    "duration": 5,
    "start_time": "2024-10-15T07:25:43.100Z"
   },
   {
    "duration": 5,
    "start_time": "2024-10-15T07:25:43.589Z"
   },
   {
    "duration": 1914,
    "start_time": "2024-10-15T07:26:03.424Z"
   },
   {
    "duration": 7,
    "start_time": "2024-10-15T07:28:36.365Z"
   },
   {
    "duration": 4,
    "start_time": "2024-10-15T07:28:37.056Z"
   },
   {
    "duration": 2173,
    "start_time": "2024-10-15T07:29:51.205Z"
   },
   {
    "duration": 100,
    "start_time": "2024-10-15T08:25:08.519Z"
   },
   {
    "duration": 16,
    "start_time": "2024-10-15T08:25:09.230Z"
   },
   {
    "duration": 2009,
    "start_time": "2024-10-15T08:25:10.310Z"
   },
   {
    "duration": 14,
    "start_time": "2024-10-15T08:25:16.998Z"
   },
   {
    "duration": 4,
    "start_time": "2024-10-15T08:25:24.864Z"
   },
   {
    "duration": 2262,
    "start_time": "2024-10-15T08:26:23.766Z"
   },
   {
    "duration": 11,
    "start_time": "2024-10-15T08:27:15.293Z"
   },
   {
    "duration": 6,
    "start_time": "2024-10-15T08:27:18.802Z"
   },
   {
    "duration": 5,
    "start_time": "2024-10-15T08:27:19.527Z"
   },
   {
    "duration": 4,
    "start_time": "2024-10-15T08:27:38.640Z"
   },
   {
    "duration": 2229,
    "start_time": "2024-10-15T08:27:50.761Z"
   },
   {
    "duration": 10,
    "start_time": "2024-10-15T08:28:03.869Z"
   },
   {
    "duration": 5,
    "start_time": "2024-10-15T08:28:04.446Z"
   },
   {
    "duration": 7,
    "start_time": "2024-10-15T08:28:10.042Z"
   },
   {
    "duration": 1909,
    "start_time": "2024-10-15T08:29:24.257Z"
   },
   {
    "duration": 12,
    "start_time": "2024-10-15T08:29:32.125Z"
   },
   {
    "duration": 231,
    "start_time": "2024-10-15T08:35:49.097Z"
   },
   {
    "duration": 198,
    "start_time": "2024-10-15T08:36:04.849Z"
   },
   {
    "duration": 184,
    "start_time": "2024-10-15T08:37:33.641Z"
   },
   {
    "duration": 180,
    "start_time": "2024-10-15T08:37:42.900Z"
   },
   {
    "duration": 187,
    "start_time": "2024-10-15T08:37:47.586Z"
   },
   {
    "duration": 184,
    "start_time": "2024-10-15T08:37:51.714Z"
   },
   {
    "duration": 191,
    "start_time": "2024-10-15T08:37:56.680Z"
   },
   {
    "duration": 180,
    "start_time": "2024-10-15T08:38:09.697Z"
   },
   {
    "duration": 175,
    "start_time": "2024-10-15T08:38:41.444Z"
   },
   {
    "duration": 192,
    "start_time": "2024-10-15T08:39:07.074Z"
   },
   {
    "duration": 15,
    "start_time": "2024-10-15T08:49:17.839Z"
   },
   {
    "duration": 2266,
    "start_time": "2024-10-15T08:49:35.311Z"
   },
   {
    "duration": 1621,
    "start_time": "2024-10-15T08:50:23.567Z"
   },
   {
    "duration": 14,
    "start_time": "2024-10-15T08:51:09.103Z"
   },
   {
    "duration": 14,
    "start_time": "2024-10-15T08:51:21.390Z"
   },
   {
    "duration": 17657,
    "start_time": "2024-10-15T09:00:31.929Z"
   },
   {
    "duration": 608,
    "start_time": "2024-10-15T09:02:18.011Z"
   },
   {
    "duration": 1188,
    "start_time": "2024-10-15T09:03:13.642Z"
   },
   {
    "duration": 51,
    "start_time": "2024-10-15T09:09:24.872Z"
   },
   {
    "duration": 674,
    "start_time": "2024-10-15T09:13:37.803Z"
   },
   {
    "duration": 107,
    "start_time": "2024-10-15T09:13:39.623Z"
   },
   {
    "duration": 18,
    "start_time": "2024-10-15T09:13:40.464Z"
   },
   {
    "duration": 2142,
    "start_time": "2024-10-15T09:13:42.366Z"
   },
   {
    "duration": 14,
    "start_time": "2024-10-15T09:13:48.872Z"
   },
   {
    "duration": 6,
    "start_time": "2024-10-15T09:13:51.707Z"
   },
   {
    "duration": 2188,
    "start_time": "2024-10-15T09:13:52.620Z"
   },
   {
    "duration": 10,
    "start_time": "2024-10-15T09:13:58.925Z"
   },
   {
    "duration": 7,
    "start_time": "2024-10-15T09:14:02.120Z"
   },
   {
    "duration": 5,
    "start_time": "2024-10-15T09:14:02.827Z"
   },
   {
    "duration": 5,
    "start_time": "2024-10-15T09:14:11.932Z"
   },
   {
    "duration": 2112,
    "start_time": "2024-10-15T09:14:14.607Z"
   },
   {
    "duration": 962,
    "start_time": "2024-10-15T09:15:43.261Z"
   },
   {
    "duration": 199,
    "start_time": "2024-10-15T09:16:03.068Z"
   },
   {
    "duration": 9,
    "start_time": "2024-10-15T09:22:36.845Z"
   },
   {
    "duration": 5,
    "start_time": "2024-10-15T09:22:38.132Z"
   },
   {
    "duration": 6,
    "start_time": "2024-10-15T09:22:45.103Z"
   },
   {
    "duration": 2183,
    "start_time": "2024-10-15T09:22:47.559Z"
   },
   {
    "duration": 201,
    "start_time": "2024-10-15T09:23:23.581Z"
   },
   {
    "duration": 18,
    "start_time": "2024-10-15T09:26:01.445Z"
   },
   {
    "duration": 5,
    "start_time": "2024-10-15T09:26:12.432Z"
   },
   {
    "duration": 65,
    "start_time": "2024-10-15T09:31:11.133Z"
   },
   {
    "duration": 6,
    "start_time": "2024-10-15T09:33:29.648Z"
   },
   {
    "duration": 5,
    "start_time": "2024-10-15T09:33:46.405Z"
   },
   {
    "duration": 51,
    "start_time": "2024-10-15T09:34:42.643Z"
   },
   {
    "duration": 5,
    "start_time": "2024-10-15T09:35:01.869Z"
   },
   {
    "duration": 6,
    "start_time": "2024-10-15T09:36:20.044Z"
   },
   {
    "duration": 13,
    "start_time": "2024-10-15T09:36:53.936Z"
   },
   {
    "duration": 8,
    "start_time": "2024-10-15T09:37:11.372Z"
   },
   {
    "duration": 1138,
    "start_time": "2024-10-15T09:39:59.379Z"
   },
   {
    "duration": 1831,
    "start_time": "2024-10-15T09:40:25.408Z"
   },
   {
    "duration": 2096,
    "start_time": "2024-10-15T09:40:45.632Z"
   },
   {
    "duration": 1283,
    "start_time": "2024-10-15T09:40:56.823Z"
   },
   {
    "duration": 2117,
    "start_time": "2024-10-15T09:41:08.188Z"
   },
   {
    "duration": 1613,
    "start_time": "2024-10-15T09:43:06.407Z"
   },
   {
    "duration": 1750,
    "start_time": "2024-10-15T09:44:53.383Z"
   },
   {
    "duration": 2111,
    "start_time": "2024-10-15T09:45:42.214Z"
   },
   {
    "duration": 185,
    "start_time": "2024-10-15T09:47:22.107Z"
   },
   {
    "duration": 128,
    "start_time": "2024-10-15T09:47:34.882Z"
   },
   {
    "duration": 126,
    "start_time": "2024-10-15T09:48:07.771Z"
   },
   {
    "duration": 121,
    "start_time": "2024-10-15T09:48:34.570Z"
   },
   {
    "duration": 128,
    "start_time": "2024-10-15T09:48:41.230Z"
   },
   {
    "duration": 7,
    "start_time": "2024-10-15T09:49:42.679Z"
   },
   {
    "duration": 11,
    "start_time": "2024-10-15T09:49:47.906Z"
   },
   {
    "duration": 9,
    "start_time": "2024-10-15T09:50:15.033Z"
   },
   {
    "duration": 2089,
    "start_time": "2024-10-15T09:53:59.258Z"
   },
   {
    "duration": 8,
    "start_time": "2024-10-15T09:55:14.449Z"
   },
   {
    "duration": 121,
    "start_time": "2024-10-15T09:55:49.422Z"
   },
   {
    "duration": 120,
    "start_time": "2024-10-15T09:56:10.081Z"
   },
   {
    "duration": 143,
    "start_time": "2024-10-15T09:56:41.565Z"
   },
   {
    "duration": 120,
    "start_time": "2024-10-15T09:57:13.030Z"
   },
   {
    "duration": 129,
    "start_time": "2024-10-15T10:02:58.527Z"
   },
   {
    "duration": 120,
    "start_time": "2024-10-15T10:03:12.626Z"
   },
   {
    "duration": 145,
    "start_time": "2024-10-15T10:03:27.151Z"
   },
   {
    "duration": 147,
    "start_time": "2024-10-15T10:03:58.159Z"
   },
   {
    "duration": 147,
    "start_time": "2024-10-15T10:04:10.442Z"
   },
   {
    "duration": 9,
    "start_time": "2024-10-15T10:06:07.153Z"
   },
   {
    "duration": 58,
    "start_time": "2024-10-15T10:06:50.296Z"
   },
   {
    "duration": 8,
    "start_time": "2024-10-15T10:06:54.677Z"
   },
   {
    "duration": 9,
    "start_time": "2024-10-15T10:07:10.905Z"
   },
   {
    "duration": 111,
    "start_time": "2024-10-15T10:09:09.864Z"
   },
   {
    "duration": 157,
    "start_time": "2024-10-15T10:11:15.645Z"
   },
   {
    "duration": 149,
    "start_time": "2024-10-15T10:11:46.461Z"
   },
   {
    "duration": 98,
    "start_time": "2024-10-15T10:24:19.239Z"
   },
   {
    "duration": 7,
    "start_time": "2024-10-15T10:24:34.430Z"
   },
   {
    "duration": 14,
    "start_time": "2024-10-15T10:24:35.854Z"
   },
   {
    "duration": 1920,
    "start_time": "2024-10-15T10:24:40.766Z"
   },
   {
    "duration": 762,
    "start_time": "2024-10-15T10:25:39.451Z"
   },
   {
    "duration": 711,
    "start_time": "2024-10-15T10:25:52.148Z"
   },
   {
    "duration": 7,
    "start_time": "2024-10-15T10:26:01.644Z"
   },
   {
    "duration": 8,
    "start_time": "2024-10-15T10:26:43.004Z"
   },
   {
    "duration": 8,
    "start_time": "2024-10-15T10:26:53.628Z"
   },
   {
    "duration": 658,
    "start_time": "2024-10-15T10:27:24.188Z"
   },
   {
    "duration": 114,
    "start_time": "2024-10-15T10:27:26.405Z"
   },
   {
    "duration": 18,
    "start_time": "2024-10-15T10:27:27.211Z"
   },
   {
    "duration": 2148,
    "start_time": "2024-10-15T10:27:28.645Z"
   },
   {
    "duration": 24,
    "start_time": "2024-10-15T10:27:33.068Z"
   },
   {
    "duration": 6,
    "start_time": "2024-10-15T10:27:34.204Z"
   },
   {
    "duration": 2241,
    "start_time": "2024-10-15T10:27:35.357Z"
   },
   {
    "duration": 10,
    "start_time": "2024-10-15T10:27:39.580Z"
   },
   {
    "duration": 6,
    "start_time": "2024-10-15T10:27:41.913Z"
   },
   {
    "duration": 4,
    "start_time": "2024-10-15T10:27:43.192Z"
   },
   {
    "duration": 5,
    "start_time": "2024-10-15T10:27:44.124Z"
   },
   {
    "duration": 2148,
    "start_time": "2024-10-15T10:27:45.785Z"
   },
   {
    "duration": 8,
    "start_time": "2024-10-15T10:27:51.600Z"
   },
   {
    "duration": 7,
    "start_time": "2024-10-15T10:27:52.169Z"
   },
   {
    "duration": 5,
    "start_time": "2024-10-15T10:27:53.396Z"
   },
   {
    "duration": 1990,
    "start_time": "2024-10-15T10:27:55.616Z"
   },
   {
    "duration": 55,
    "start_time": "2024-10-15T10:28:05.695Z"
   },
   {
    "duration": 195,
    "start_time": "2024-10-15T10:28:13.146Z"
   },
   {
    "duration": 9,
    "start_time": "2024-10-15T10:28:19.549Z"
   },
   {
    "duration": 5,
    "start_time": "2024-10-15T10:28:23.739Z"
   },
   {
    "duration": 6,
    "start_time": "2024-10-15T10:28:25.388Z"
   },
   {
    "duration": 8,
    "start_time": "2024-10-15T10:28:25.992Z"
   },
   {
    "duration": 2014,
    "start_time": "2024-10-15T10:28:37.195Z"
   },
   {
    "duration": 5,
    "start_time": "2024-10-15T10:30:03.009Z"
   },
   {
    "duration": 4,
    "start_time": "2024-10-15T10:30:16.613Z"
   },
   {
    "duration": 4,
    "start_time": "2024-10-15T10:30:41.718Z"
   },
   {
    "duration": 1830,
    "start_time": "2024-10-15T10:44:58.532Z"
   },
   {
    "duration": 9,
    "start_time": "2024-10-15T11:01:14.403Z"
   },
   {
    "duration": 652,
    "start_time": "2024-10-15T11:04:26.040Z"
   },
   {
    "duration": 111,
    "start_time": "2024-10-15T11:04:27.770Z"
   },
   {
    "duration": 16,
    "start_time": "2024-10-15T11:04:29.007Z"
   },
   {
    "duration": 2144,
    "start_time": "2024-10-15T11:04:31.733Z"
   },
   {
    "duration": 14,
    "start_time": "2024-10-15T11:04:41.798Z"
   },
   {
    "duration": 6,
    "start_time": "2024-10-15T11:04:47.594Z"
   },
   {
    "duration": 10,
    "start_time": "2024-10-15T11:04:54.263Z"
   },
   {
    "duration": 5,
    "start_time": "2024-10-15T11:04:57.606Z"
   },
   {
    "duration": 4,
    "start_time": "2024-10-15T11:04:58.246Z"
   },
   {
    "duration": 5,
    "start_time": "2024-10-15T11:05:05.378Z"
   },
   {
    "duration": 10,
    "start_time": "2024-10-15T11:05:40.035Z"
   },
   {
    "duration": 5,
    "start_time": "2024-10-15T11:05:40.735Z"
   },
   {
    "duration": 5,
    "start_time": "2024-10-15T11:05:43.843Z"
   },
   {
    "duration": 206,
    "start_time": "2024-10-15T11:06:21.833Z"
   },
   {
    "duration": 5,
    "start_time": "2024-10-15T11:06:27.307Z"
   },
   {
    "duration": 8,
    "start_time": "2024-10-15T11:06:36.887Z"
   },
   {
    "duration": 6,
    "start_time": "2024-10-15T11:06:45.938Z"
   },
   {
    "duration": 10,
    "start_time": "2024-10-15T11:06:48.125Z"
   },
   {
    "duration": 10,
    "start_time": "2024-10-15T11:07:18.053Z"
   },
   {
    "duration": 4,
    "start_time": "2024-10-15T11:07:18.576Z"
   },
   {
    "duration": 171,
    "start_time": "2024-10-15T11:09:24.202Z"
   },
   {
    "duration": 160,
    "start_time": "2024-10-15T11:09:38.842Z"
   },
   {
    "duration": 171,
    "start_time": "2024-10-15T11:09:47.633Z"
   },
   {
    "duration": 192,
    "start_time": "2024-10-15T11:11:22.811Z"
   },
   {
    "duration": 868,
    "start_time": "2024-10-15T11:11:41.816Z"
   },
   {
    "duration": 37,
    "start_time": "2024-10-15T11:12:54.270Z"
   },
   {
    "duration": 10,
    "start_time": "2024-10-15T11:13:36.557Z"
   },
   {
    "duration": 9,
    "start_time": "2024-10-15T11:14:21.577Z"
   },
   {
    "duration": 12,
    "start_time": "2024-10-15T11:14:46.956Z"
   },
   {
    "duration": 7,
    "start_time": "2024-10-15T11:16:58.902Z"
   },
   {
    "duration": 8,
    "start_time": "2024-10-15T11:18:53.865Z"
   },
   {
    "duration": 100,
    "start_time": "2024-10-15T11:25:02.805Z"
   },
   {
    "duration": 6,
    "start_time": "2024-10-15T11:25:16.518Z"
   },
   {
    "duration": 6,
    "start_time": "2024-10-15T11:25:27.342Z"
   },
   {
    "duration": 9,
    "start_time": "2024-10-15T11:31:38.136Z"
   },
   {
    "duration": 7,
    "start_time": "2024-10-15T11:32:32.748Z"
   },
   {
    "duration": 6,
    "start_time": "2024-10-15T11:32:42.356Z"
   },
   {
    "duration": 8,
    "start_time": "2024-10-15T11:33:11.649Z"
   },
   {
    "duration": 11,
    "start_time": "2024-10-15T11:34:00.724Z"
   },
   {
    "duration": 14,
    "start_time": "2024-10-15T11:35:17.356Z"
   },
   {
    "duration": 613,
    "start_time": "2024-10-15T11:40:42.511Z"
   },
   {
    "duration": 105,
    "start_time": "2024-10-15T11:40:44.126Z"
   },
   {
    "duration": 6,
    "start_time": "2024-10-15T11:40:58.204Z"
   },
   {
    "duration": 8,
    "start_time": "2024-10-15T11:41:00.966Z"
   },
   {
    "duration": 5,
    "start_time": "2024-10-15T11:41:02.015Z"
   },
   {
    "duration": 7,
    "start_time": "2024-10-15T11:41:13.272Z"
   },
   {
    "duration": 7,
    "start_time": "2024-10-15T11:41:20.634Z"
   },
   {
    "duration": 10,
    "start_time": "2024-10-15T11:41:57.324Z"
   },
   {
    "duration": 6,
    "start_time": "2024-10-15T11:44:49.195Z"
   },
   {
    "duration": 218,
    "start_time": "2024-10-15T11:46:38.512Z"
   },
   {
    "duration": 176,
    "start_time": "2024-10-15T11:47:13.120Z"
   },
   {
    "duration": 173,
    "start_time": "2024-10-15T11:47:56.999Z"
   },
   {
    "duration": 183,
    "start_time": "2024-10-15T11:48:04.447Z"
   },
   {
    "duration": 240,
    "start_time": "2024-10-15T11:48:49.919Z"
   },
   {
    "duration": 174,
    "start_time": "2024-10-15T11:49:05.015Z"
   },
   {
    "duration": 185,
    "start_time": "2024-10-15T11:49:34.962Z"
   },
   {
    "duration": 8,
    "start_time": "2024-10-15T11:50:13.733Z"
   },
   {
    "duration": 6,
    "start_time": "2024-10-15T11:50:33.075Z"
   },
   {
    "duration": 6,
    "start_time": "2024-10-15T11:50:43.503Z"
   },
   {
    "duration": 5,
    "start_time": "2024-10-15T11:51:05.500Z"
   },
   {
    "duration": 6,
    "start_time": "2024-10-15T11:51:35.625Z"
   },
   {
    "duration": 8,
    "start_time": "2024-10-15T11:53:00.694Z"
   },
   {
    "duration": 8,
    "start_time": "2024-10-15T11:53:01.670Z"
   },
   {
    "duration": 6,
    "start_time": "2024-10-15T11:53:02.742Z"
   },
   {
    "duration": 5,
    "start_time": "2024-10-15T11:53:03.518Z"
   },
   {
    "duration": 7,
    "start_time": "2024-10-15T11:54:19.562Z"
   },
   {
    "duration": 6,
    "start_time": "2024-10-15T11:54:26.531Z"
   },
   {
    "duration": 6,
    "start_time": "2024-10-15T11:56:18.866Z"
   },
   {
    "duration": 5,
    "start_time": "2024-10-15T11:58:01.147Z"
   },
   {
    "duration": 5,
    "start_time": "2024-10-15T12:00:32.491Z"
   },
   {
    "duration": 42,
    "start_time": "2024-10-15T12:01:45.262Z"
   },
   {
    "duration": 15,
    "start_time": "2024-10-15T12:02:16.174Z"
   },
   {
    "duration": 39,
    "start_time": "2024-10-15T12:02:24.847Z"
   },
   {
    "duration": 8,
    "start_time": "2024-10-15T12:03:24.255Z"
   },
   {
    "duration": 8,
    "start_time": "2024-10-15T12:03:45.275Z"
   },
   {
    "duration": 65,
    "start_time": "2024-10-15T12:10:04.145Z"
   },
   {
    "duration": 77,
    "start_time": "2024-10-15T12:10:14.145Z"
   },
   {
    "duration": 10,
    "start_time": "2024-10-15T12:10:33.753Z"
   },
   {
    "duration": 10,
    "start_time": "2024-10-15T12:11:36.235Z"
   },
   {
    "duration": 6,
    "start_time": "2024-10-15T12:13:21.926Z"
   },
   {
    "duration": 5,
    "start_time": "2024-10-15T12:13:36.045Z"
   },
   {
    "duration": 4,
    "start_time": "2024-10-15T12:15:32.706Z"
   },
   {
    "duration": 5,
    "start_time": "2024-10-15T12:15:54.028Z"
   },
   {
    "duration": 710,
    "start_time": "2024-10-15T12:55:52.551Z"
   },
   {
    "duration": 104,
    "start_time": "2024-10-15T12:55:54.324Z"
   },
   {
    "duration": 17,
    "start_time": "2024-10-15T12:55:56.736Z"
   },
   {
    "duration": 2025,
    "start_time": "2024-10-15T12:55:58.835Z"
   },
   {
    "duration": 14,
    "start_time": "2024-10-15T12:56:04.926Z"
   },
   {
    "duration": 5,
    "start_time": "2024-10-15T12:56:11.848Z"
   },
   {
    "duration": 9,
    "start_time": "2024-10-15T12:56:14.028Z"
   },
   {
    "duration": 5,
    "start_time": "2024-10-15T12:56:20.307Z"
   },
   {
    "duration": 4,
    "start_time": "2024-10-15T12:56:20.768Z"
   },
   {
    "duration": 5,
    "start_time": "2024-10-15T12:56:28.452Z"
   },
   {
    "duration": 10,
    "start_time": "2024-10-15T12:59:45.851Z"
   },
   {
    "duration": 5,
    "start_time": "2024-10-15T12:59:46.977Z"
   },
   {
    "duration": 5,
    "start_time": "2024-10-15T12:59:48.272Z"
   },
   {
    "duration": 188,
    "start_time": "2024-10-15T12:59:49.492Z"
   },
   {
    "duration": 5,
    "start_time": "2024-10-15T12:59:53.411Z"
   },
   {
    "duration": 7,
    "start_time": "2024-10-15T12:59:54.555Z"
   },
   {
    "duration": 6,
    "start_time": "2024-10-15T13:00:02.633Z"
   },
   {
    "duration": 7,
    "start_time": "2024-10-15T13:00:06.368Z"
   },
   {
    "duration": 6,
    "start_time": "2024-10-15T13:00:21.777Z"
   },
   {
    "duration": 4,
    "start_time": "2024-10-15T13:00:22.252Z"
   },
   {
    "duration": 5,
    "start_time": "2024-10-15T13:00:37.576Z"
   },
   {
    "duration": 7,
    "start_time": "2024-10-15T13:00:41.291Z"
   },
   {
    "duration": 6,
    "start_time": "2024-10-15T13:00:42.640Z"
   },
   {
    "duration": 8,
    "start_time": "2024-10-15T13:00:50.208Z"
   },
   {
    "duration": 6,
    "start_time": "2024-10-15T13:00:53.986Z"
   },
   {
    "duration": 3,
    "start_time": "2024-10-15T13:01:11.253Z"
   },
   {
    "duration": 4,
    "start_time": "2024-10-15T13:01:18.061Z"
   },
   {
    "duration": 3,
    "start_time": "2024-10-15T13:01:18.671Z"
   },
   {
    "duration": 4,
    "start_time": "2024-10-15T13:01:19.256Z"
   },
   {
    "duration": 5,
    "start_time": "2024-10-15T13:58:41.485Z"
   },
   {
    "duration": 10,
    "start_time": "2024-10-15T14:00:20.468Z"
   },
   {
    "duration": 6,
    "start_time": "2024-10-15T14:00:47.867Z"
   },
   {
    "duration": 9,
    "start_time": "2024-10-15T14:02:58.135Z"
   },
   {
    "duration": 7,
    "start_time": "2024-10-15T14:03:14.662Z"
   },
   {
    "duration": 4,
    "start_time": "2024-10-15T14:06:26.892Z"
   },
   {
    "duration": 4,
    "start_time": "2024-10-15T14:06:33.756Z"
   },
   {
    "duration": 4,
    "start_time": "2024-10-15T14:07:09.568Z"
   },
   {
    "duration": 11,
    "start_time": "2024-10-15T14:07:53.850Z"
   },
   {
    "duration": 6,
    "start_time": "2024-10-15T14:12:14.306Z"
   },
   {
    "duration": 9,
    "start_time": "2024-10-15T14:12:44.423Z"
   },
   {
    "duration": 5,
    "start_time": "2024-10-15T14:13:47.303Z"
   },
   {
    "duration": 10,
    "start_time": "2024-10-15T14:14:07.767Z"
   },
   {
    "duration": 3,
    "start_time": "2024-10-15T14:16:41.358Z"
   },
   {
    "duration": 4,
    "start_time": "2024-10-15T14:16:53.492Z"
   },
   {
    "duration": 5,
    "start_time": "2024-10-15T14:17:56.575Z"
   },
   {
    "duration": 9,
    "start_time": "2024-10-15T14:18:56.735Z"
   },
   {
    "duration": 5,
    "start_time": "2024-10-15T14:19:31.396Z"
   },
   {
    "duration": 5,
    "start_time": "2024-10-15T14:20:18.060Z"
   },
   {
    "duration": 9,
    "start_time": "2024-10-15T14:21:05.587Z"
   },
   {
    "duration": 4,
    "start_time": "2024-10-15T14:23:14.739Z"
   },
   {
    "duration": 5,
    "start_time": "2024-10-15T14:23:23.277Z"
   },
   {
    "duration": 5,
    "start_time": "2024-10-15T14:24:12.027Z"
   },
   {
    "duration": 10,
    "start_time": "2024-10-15T14:24:39.725Z"
   },
   {
    "duration": 712,
    "start_time": "2024-10-16T04:06:29.441Z"
   },
   {
    "duration": 3,
    "start_time": "2024-10-16T04:06:40.387Z"
   },
   {
    "duration": 175,
    "start_time": "2024-10-16T04:06:41.752Z"
   },
   {
    "duration": 14,
    "start_time": "2024-10-16T04:06:43.268Z"
   },
   {
    "duration": 1624,
    "start_time": "2024-10-16T04:06:53.310Z"
   },
   {
    "duration": 12,
    "start_time": "2024-10-16T04:06:59.510Z"
   },
   {
    "duration": 8,
    "start_time": "2024-10-16T04:07:40.642Z"
   },
   {
    "duration": 4,
    "start_time": "2024-10-16T04:09:11.490Z"
   },
   {
    "duration": 9,
    "start_time": "2024-10-16T04:09:12.834Z"
   },
   {
    "duration": 4,
    "start_time": "2024-10-16T04:09:19.442Z"
   },
   {
    "duration": 4,
    "start_time": "2024-10-16T04:09:19.896Z"
   },
   {
    "duration": 4,
    "start_time": "2024-10-16T04:09:58.391Z"
   },
   {
    "duration": 9,
    "start_time": "2024-10-16T04:10:03.384Z"
   },
   {
    "duration": 4,
    "start_time": "2024-10-16T04:10:12.551Z"
   },
   {
    "duration": 5,
    "start_time": "2024-10-16T04:10:17.438Z"
   },
   {
    "duration": 153,
    "start_time": "2024-10-16T04:10:19.795Z"
   },
   {
    "duration": 6,
    "start_time": "2024-10-16T04:10:28.582Z"
   },
   {
    "duration": 6,
    "start_time": "2024-10-16T04:10:30.682Z"
   },
   {
    "duration": 7,
    "start_time": "2024-10-16T04:10:45.708Z"
   },
   {
    "duration": 6,
    "start_time": "2024-10-16T04:10:46.774Z"
   },
   {
    "duration": 4,
    "start_time": "2024-10-16T04:17:21.974Z"
   },
   {
    "duration": 5,
    "start_time": "2024-10-16T04:17:27.614Z"
   },
   {
    "duration": 6,
    "start_time": "2024-10-16T04:17:35.489Z"
   },
   {
    "duration": 5,
    "start_time": "2024-10-16T04:17:36.634Z"
   },
   {
    "duration": 7,
    "start_time": "2024-10-16T04:17:43.806Z"
   },
   {
    "duration": 5,
    "start_time": "2024-10-16T04:18:20.017Z"
   },
   {
    "duration": 4,
    "start_time": "2024-10-16T04:18:41.056Z"
   },
   {
    "duration": 3,
    "start_time": "2024-10-16T04:18:43.254Z"
   },
   {
    "duration": 3,
    "start_time": "2024-10-16T04:18:56.225Z"
   },
   {
    "duration": 4,
    "start_time": "2024-10-16T04:18:59.525Z"
   },
   {
    "duration": 4,
    "start_time": "2024-10-16T04:19:03.609Z"
   },
   {
    "duration": 9,
    "start_time": "2024-10-16T04:19:06.825Z"
   },
   {
    "duration": 6,
    "start_time": "2024-10-16T04:20:35.421Z"
   },
   {
    "duration": 3,
    "start_time": "2024-10-16T04:21:10.585Z"
   },
   {
    "duration": 4,
    "start_time": "2024-10-16T04:21:11.105Z"
   },
   {
    "duration": 5,
    "start_time": "2024-10-16T04:21:16.848Z"
   },
   {
    "duration": 4,
    "start_time": "2024-10-16T04:21:21.056Z"
   },
   {
    "duration": 4,
    "start_time": "2024-10-16T04:21:29.520Z"
   },
   {
    "duration": 8,
    "start_time": "2024-10-16T04:21:30.072Z"
   },
   {
    "duration": 3,
    "start_time": "2024-10-16T04:22:18.481Z"
   },
   {
    "duration": 4,
    "start_time": "2024-10-16T04:22:19.088Z"
   },
   {
    "duration": 4,
    "start_time": "2024-10-16T04:22:24.216Z"
   },
   {
    "duration": 4,
    "start_time": "2024-10-16T04:22:30.645Z"
   },
   {
    "duration": 3,
    "start_time": "2024-10-16T04:22:33.908Z"
   },
   {
    "duration": 5,
    "start_time": "2024-10-16T04:22:39.648Z"
   },
   {
    "duration": 4,
    "start_time": "2024-10-16T04:22:45.120Z"
   },
   {
    "duration": 5,
    "start_time": "2024-10-16T04:22:49.912Z"
   },
   {
    "duration": 5,
    "start_time": "2024-10-16T04:24:27.221Z"
   },
   {
    "duration": 5,
    "start_time": "2024-10-16T04:25:05.719Z"
   },
   {
    "duration": 21,
    "start_time": "2024-10-16T04:26:06.566Z"
   },
   {
    "duration": 45,
    "start_time": "2024-10-16T04:27:31.941Z"
   },
   {
    "duration": 1117,
    "start_time": "2024-10-16T04:46:55.521Z"
   },
   {
    "duration": 657,
    "start_time": "2024-10-16T04:47:46.797Z"
   },
   {
    "duration": 95,
    "start_time": "2024-10-16T04:47:48.471Z"
   },
   {
    "duration": 13,
    "start_time": "2024-10-16T04:47:51.684Z"
   },
   {
    "duration": 1705,
    "start_time": "2024-10-16T04:47:53.677Z"
   },
   {
    "duration": 12,
    "start_time": "2024-10-16T04:47:57.143Z"
   },
   {
    "duration": 5,
    "start_time": "2024-10-16T04:47:59.568Z"
   },
   {
    "duration": 9,
    "start_time": "2024-10-16T04:48:01.431Z"
   },
   {
    "duration": 5,
    "start_time": "2024-10-16T04:48:05.898Z"
   },
   {
    "duration": 4,
    "start_time": "2024-10-16T04:48:15.017Z"
   },
   {
    "duration": 4,
    "start_time": "2024-10-16T04:48:26.496Z"
   },
   {
    "duration": 44,
    "start_time": "2024-10-16T04:48:56.557Z"
   },
   {
    "duration": 65,
    "start_time": "2024-10-16T04:52:14.853Z"
   },
   {
    "duration": 21,
    "start_time": "2024-10-16T04:52:23.068Z"
   },
   {
    "duration": 7,
    "start_time": "2024-10-16T04:53:08.708Z"
   },
   {
    "duration": 4,
    "start_time": "2024-10-16T04:53:24.904Z"
   },
   {
    "duration": 30,
    "start_time": "2024-10-16T04:53:27.963Z"
   },
   {
    "duration": 6,
    "start_time": "2024-10-16T04:53:31.140Z"
   },
   {
    "duration": 4,
    "start_time": "2024-10-16T04:53:46.383Z"
   },
   {
    "duration": 161,
    "start_time": "2024-10-16T04:53:53.970Z"
   },
   {
    "duration": 5,
    "start_time": "2024-10-16T04:53:58.390Z"
   },
   {
    "duration": 43,
    "start_time": "2024-10-16T04:54:41.668Z"
   },
   {
    "duration": 20,
    "start_time": "2024-10-16T04:55:38.828Z"
   },
   {
    "duration": 7,
    "start_time": "2024-10-16T04:56:02.924Z"
   },
   {
    "duration": 6,
    "start_time": "2024-10-16T04:56:15.150Z"
   },
   {
    "duration": 7,
    "start_time": "2024-10-16T04:56:26.248Z"
   },
   {
    "duration": 7,
    "start_time": "2024-10-16T04:56:40.156Z"
   },
   {
    "duration": 6,
    "start_time": "2024-10-16T05:05:15.263Z"
   },
   {
    "duration": 7,
    "start_time": "2024-10-16T05:05:20.322Z"
   },
   {
    "duration": 6,
    "start_time": "2024-10-16T05:05:35.035Z"
   },
   {
    "duration": 5,
    "start_time": "2024-10-16T05:06:32.143Z"
   },
   {
    "duration": 4,
    "start_time": "2024-10-16T05:06:42.601Z"
   },
   {
    "duration": 9,
    "start_time": "2024-10-16T05:06:46.142Z"
   },
   {
    "duration": 7,
    "start_time": "2024-10-16T05:06:46.933Z"
   },
   {
    "duration": 7,
    "start_time": "2024-10-16T05:06:53.062Z"
   },
   {
    "duration": 5,
    "start_time": "2024-10-16T05:06:57.453Z"
   },
   {
    "duration": 3,
    "start_time": "2024-10-16T05:07:00.074Z"
   },
   {
    "duration": 4,
    "start_time": "2024-10-16T05:07:00.582Z"
   },
   {
    "duration": 4,
    "start_time": "2024-10-16T05:07:02.482Z"
   },
   {
    "duration": 5,
    "start_time": "2024-10-16T05:07:03.001Z"
   },
   {
    "duration": 5,
    "start_time": "2024-10-16T05:07:06.574Z"
   },
   {
    "duration": 6,
    "start_time": "2024-10-16T05:07:09.029Z"
   },
   {
    "duration": 3,
    "start_time": "2024-10-16T05:07:45.782Z"
   },
   {
    "duration": 5,
    "start_time": "2024-10-16T05:07:46.430Z"
   },
   {
    "duration": 4,
    "start_time": "2024-10-16T05:07:52.352Z"
   },
   {
    "duration": 5,
    "start_time": "2024-10-16T05:07:53.925Z"
   },
   {
    "duration": 4,
    "start_time": "2024-10-16T05:07:59.593Z"
   },
   {
    "duration": 10,
    "start_time": "2024-10-16T05:08:02.046Z"
   },
   {
    "duration": 3,
    "start_time": "2024-10-16T05:08:03.153Z"
   },
   {
    "duration": 5,
    "start_time": "2024-10-16T05:08:05.526Z"
   },
   {
    "duration": 5,
    "start_time": "2024-10-16T05:08:09.101Z"
   },
   {
    "duration": 5,
    "start_time": "2024-10-16T05:08:16.707Z"
   },
   {
    "duration": 3,
    "start_time": "2024-10-16T05:08:20.382Z"
   },
   {
    "duration": 5,
    "start_time": "2024-10-16T05:08:20.704Z"
   },
   {
    "duration": 4,
    "start_time": "2024-10-16T05:08:22.750Z"
   },
   {
    "duration": 4,
    "start_time": "2024-10-16T05:08:33.417Z"
   },
   {
    "duration": 13,
    "start_time": "2024-10-16T06:25:58.414Z"
   },
   {
    "duration": 8,
    "start_time": "2024-10-16T06:27:12.455Z"
   },
   {
    "duration": 162,
    "start_time": "2024-10-16T06:28:52.392Z"
   },
   {
    "duration": 196,
    "start_time": "2024-10-16T06:29:09.952Z"
   },
   {
    "duration": 112,
    "start_time": "2024-10-16T06:29:35.979Z"
   },
   {
    "duration": 7,
    "start_time": "2024-10-16T06:29:38.499Z"
   },
   {
    "duration": 113,
    "start_time": "2024-10-16T06:30:28.564Z"
   },
   {
    "duration": 154,
    "start_time": "2024-10-16T06:30:40.307Z"
   },
   {
    "duration": 133,
    "start_time": "2024-10-16T06:30:49.150Z"
   },
   {
    "duration": 112,
    "start_time": "2024-10-16T06:31:19.443Z"
   },
   {
    "duration": 8,
    "start_time": "2024-10-16T06:33:37.572Z"
   },
   {
    "duration": 4,
    "start_time": "2024-10-16T06:42:52.630Z"
   },
   {
    "duration": 9,
    "start_time": "2024-10-16T06:43:02.838Z"
   },
   {
    "duration": 11,
    "start_time": "2024-10-16T06:43:20.038Z"
   },
   {
    "duration": 9,
    "start_time": "2024-10-16T06:45:06.910Z"
   },
   {
    "duration": 11,
    "start_time": "2024-10-16T06:52:42.681Z"
   },
   {
    "duration": 12,
    "start_time": "2024-10-16T06:53:17.130Z"
   },
   {
    "duration": 5,
    "start_time": "2024-10-16T06:53:46.765Z"
   },
   {
    "duration": 7,
    "start_time": "2024-10-16T06:57:58.349Z"
   },
   {
    "duration": 13,
    "start_time": "2024-10-16T06:58:20.798Z"
   },
   {
    "duration": 9,
    "start_time": "2024-10-16T06:58:38.221Z"
   },
   {
    "duration": 64,
    "start_time": "2024-10-16T06:59:22.944Z"
   },
   {
    "duration": 5,
    "start_time": "2024-10-16T06:59:34.385Z"
   },
   {
    "duration": 6,
    "start_time": "2024-10-16T07:05:22.590Z"
   },
   {
    "duration": 4,
    "start_time": "2024-10-16T07:06:14.771Z"
   },
   {
    "duration": 7,
    "start_time": "2024-10-16T07:06:20.052Z"
   },
   {
    "duration": 3,
    "start_time": "2024-10-16T07:06:24.876Z"
   },
   {
    "duration": 4,
    "start_time": "2024-10-16T07:06:36.340Z"
   },
   {
    "duration": 86,
    "start_time": "2024-10-16T07:08:09.294Z"
   },
   {
    "duration": 14,
    "start_time": "2024-10-16T07:08:11.670Z"
   },
   {
    "duration": 1597,
    "start_time": "2024-10-16T07:08:12.522Z"
   },
   {
    "duration": 12,
    "start_time": "2024-10-16T07:08:14.122Z"
   },
   {
    "duration": 9,
    "start_time": "2024-10-16T07:08:14.136Z"
   },
   {
    "duration": 9,
    "start_time": "2024-10-16T07:08:14.147Z"
   },
   {
    "duration": 5,
    "start_time": "2024-10-16T07:08:14.522Z"
   },
   {
    "duration": 4,
    "start_time": "2024-10-16T07:08:14.667Z"
   },
   {
    "duration": 4,
    "start_time": "2024-10-16T07:08:15.295Z"
   },
   {
    "duration": 7,
    "start_time": "2024-10-16T07:08:15.918Z"
   },
   {
    "duration": 4,
    "start_time": "2024-10-16T07:08:16.123Z"
   },
   {
    "duration": 5,
    "start_time": "2024-10-16T07:08:16.959Z"
   },
   {
    "duration": 154,
    "start_time": "2024-10-16T07:08:17.574Z"
   },
   {
    "duration": 4,
    "start_time": "2024-10-16T07:08:18.028Z"
   },
   {
    "duration": 5,
    "start_time": "2024-10-16T07:08:18.846Z"
   },
   {
    "duration": 6,
    "start_time": "2024-10-16T07:08:19.562Z"
   },
   {
    "duration": 7,
    "start_time": "2024-10-16T07:08:20.083Z"
   },
   {
    "duration": 5,
    "start_time": "2024-10-16T07:08:21.359Z"
   },
   {
    "duration": 5,
    "start_time": "2024-10-16T07:08:21.742Z"
   },
   {
    "duration": 7,
    "start_time": "2024-10-16T07:08:22.542Z"
   },
   {
    "duration": 5,
    "start_time": "2024-10-16T07:08:22.751Z"
   },
   {
    "duration": 7,
    "start_time": "2024-10-16T07:08:23.798Z"
   },
   {
    "duration": 6,
    "start_time": "2024-10-16T07:08:24.042Z"
   },
   {
    "duration": 4,
    "start_time": "2024-10-16T07:08:27.166Z"
   },
   {
    "duration": 4,
    "start_time": "2024-10-16T07:08:27.462Z"
   },
   {
    "duration": 3,
    "start_time": "2024-10-16T07:08:27.695Z"
   },
   {
    "duration": 5,
    "start_time": "2024-10-16T07:08:27.928Z"
   },
   {
    "duration": 3,
    "start_time": "2024-10-16T07:08:28.863Z"
   },
   {
    "duration": 7,
    "start_time": "2024-10-16T07:08:29.310Z"
   },
   {
    "duration": 4,
    "start_time": "2024-10-16T07:08:29.699Z"
   },
   {
    "duration": 5,
    "start_time": "2024-10-16T07:08:30.124Z"
   },
   {
    "duration": 4,
    "start_time": "2024-10-16T07:08:30.991Z"
   },
   {
    "duration": 4,
    "start_time": "2024-10-16T07:08:32.191Z"
   },
   {
    "duration": 4,
    "start_time": "2024-10-16T07:08:33.055Z"
   },
   {
    "duration": 8,
    "start_time": "2024-10-16T07:08:33.386Z"
   },
   {
    "duration": 3,
    "start_time": "2024-10-16T07:08:36.535Z"
   },
   {
    "duration": 5,
    "start_time": "2024-10-16T07:08:36.822Z"
   },
   {
    "duration": 4,
    "start_time": "2024-10-16T07:08:37.402Z"
   },
   {
    "duration": 5,
    "start_time": "2024-10-16T07:08:38.690Z"
   },
   {
    "duration": 3,
    "start_time": "2024-10-16T07:08:40.886Z"
   },
   {
    "duration": 5,
    "start_time": "2024-10-16T07:08:41.232Z"
   },
   {
    "duration": 5,
    "start_time": "2024-10-16T07:08:41.683Z"
   },
   {
    "duration": 5,
    "start_time": "2024-10-16T07:08:42.670Z"
   },
   {
    "duration": 5,
    "start_time": "2024-10-16T07:08:45.266Z"
   },
   {
    "duration": 16,
    "start_time": "2024-10-16T07:18:14.294Z"
   },
   {
    "duration": 18,
    "start_time": "2024-10-16T07:31:43.389Z"
   },
   {
    "duration": 17,
    "start_time": "2024-10-16T07:31:50.701Z"
   },
   {
    "duration": 8,
    "start_time": "2024-10-16T07:33:42.382Z"
   },
   {
    "duration": 8,
    "start_time": "2024-10-16T07:39:07.296Z"
   },
   {
    "duration": 10,
    "start_time": "2024-10-16T07:39:13.020Z"
   },
   {
    "duration": 7,
    "start_time": "2024-10-16T07:39:19.714Z"
   },
   {
    "duration": 12,
    "start_time": "2024-10-16T07:39:49.085Z"
   },
   {
    "duration": 10,
    "start_time": "2024-10-16T07:41:28.417Z"
   },
   {
    "duration": 4,
    "start_time": "2024-10-16T07:41:40.649Z"
   },
   {
    "duration": 8,
    "start_time": "2024-10-16T07:42:33.313Z"
   },
   {
    "duration": 326,
    "start_time": "2024-10-16T07:45:13.136Z"
   },
   {
    "duration": 9,
    "start_time": "2024-10-16T07:46:56.576Z"
   },
   {
    "duration": 111,
    "start_time": "2024-10-16T07:47:42.509Z"
   },
   {
    "duration": 26,
    "start_time": "2024-10-16T07:59:09.412Z"
   },
   {
    "duration": 4,
    "start_time": "2024-10-16T07:59:10.679Z"
   },
   {
    "duration": 8,
    "start_time": "2024-10-16T07:59:17.390Z"
   },
   {
    "duration": 39,
    "start_time": "2024-10-16T08:03:46.294Z"
   },
   {
    "duration": 6,
    "start_time": "2024-10-16T08:03:47.102Z"
   },
   {
    "duration": 7,
    "start_time": "2024-10-16T08:07:54.362Z"
   },
   {
    "duration": 18,
    "start_time": "2024-10-16T08:08:18.590Z"
   },
   {
    "duration": 4,
    "start_time": "2024-10-16T09:08:13.897Z"
   },
   {
    "duration": 6,
    "start_time": "2024-10-16T09:08:22.901Z"
   },
   {
    "duration": 7,
    "start_time": "2024-10-16T09:09:40.344Z"
   },
   {
    "duration": 10,
    "start_time": "2024-10-16T09:14:11.286Z"
   },
   {
    "duration": 10,
    "start_time": "2024-10-16T09:14:56.100Z"
   },
   {
    "duration": 5,
    "start_time": "2024-10-16T09:14:58.548Z"
   },
   {
    "duration": 7,
    "start_time": "2024-10-16T09:15:48.948Z"
   },
   {
    "duration": 4,
    "start_time": "2024-10-16T09:15:50.044Z"
   },
   {
    "duration": 8,
    "start_time": "2024-10-16T09:17:36.868Z"
   },
   {
    "duration": 5,
    "start_time": "2024-10-16T09:17:46.734Z"
   },
   {
    "duration": 7,
    "start_time": "2024-10-16T09:17:57.109Z"
   },
   {
    "duration": 8,
    "start_time": "2024-10-16T09:19:09.337Z"
   },
   {
    "duration": 6,
    "start_time": "2024-10-16T09:19:19.656Z"
   },
   {
    "duration": 9,
    "start_time": "2024-10-16T09:19:28.369Z"
   },
   {
    "duration": 5,
    "start_time": "2024-10-16T09:22:13.871Z"
   },
   {
    "duration": 8,
    "start_time": "2024-10-16T09:22:27.775Z"
   },
   {
    "duration": 4,
    "start_time": "2024-10-16T09:22:47.214Z"
   },
   {
    "duration": 5,
    "start_time": "2024-10-16T09:22:56.506Z"
   },
   {
    "duration": 4,
    "start_time": "2024-10-16T09:26:46.467Z"
   },
   {
    "duration": 12,
    "start_time": "2024-10-16T09:33:38.772Z"
   },
   {
    "duration": 10,
    "start_time": "2024-10-16T09:36:20.290Z"
   },
   {
    "duration": 22,
    "start_time": "2024-10-16T09:38:13.411Z"
   },
   {
    "duration": 201,
    "start_time": "2024-10-16T09:38:26.034Z"
   },
   {
    "duration": 5,
    "start_time": "2024-10-16T09:38:38.847Z"
   },
   {
    "duration": 7,
    "start_time": "2024-10-16T09:38:56.640Z"
   },
   {
    "duration": 232,
    "start_time": "2024-10-16T09:42:39.081Z"
   },
   {
    "duration": 5,
    "start_time": "2024-10-16T09:42:49.547Z"
   },
   {
    "duration": 8,
    "start_time": "2024-10-16T09:43:04.574Z"
   },
   {
    "duration": 796,
    "start_time": "2024-10-17T03:17:17.895Z"
   },
   {
    "duration": 179,
    "start_time": "2024-10-17T03:17:19.790Z"
   },
   {
    "duration": 25,
    "start_time": "2024-10-17T03:17:23.237Z"
   },
   {
    "duration": 1952,
    "start_time": "2024-10-17T03:17:25.347Z"
   },
   {
    "duration": 10,
    "start_time": "2024-10-17T03:17:29.556Z"
   },
   {
    "duration": 5,
    "start_time": "2024-10-17T03:17:41.703Z"
   },
   {
    "duration": 9,
    "start_time": "2024-10-17T03:17:42.839Z"
   },
   {
    "duration": 5,
    "start_time": "2024-10-17T03:17:46.363Z"
   },
   {
    "duration": 7,
    "start_time": "2024-10-17T03:17:48.724Z"
   },
   {
    "duration": 4,
    "start_time": "2024-10-17T03:17:51.541Z"
   },
   {
    "duration": 10,
    "start_time": "2024-10-17T03:17:52.581Z"
   },
   {
    "duration": 5,
    "start_time": "2024-10-17T03:17:53.052Z"
   },
   {
    "duration": 5,
    "start_time": "2024-10-17T03:17:56.652Z"
   },
   {
    "duration": 183,
    "start_time": "2024-10-17T03:17:58.275Z"
   },
   {
    "duration": 5,
    "start_time": "2024-10-17T03:17:59.687Z"
   },
   {
    "duration": 6,
    "start_time": "2024-10-17T03:18:00.883Z"
   },
   {
    "duration": 5,
    "start_time": "2024-10-17T03:18:08.212Z"
   },
   {
    "duration": 7,
    "start_time": "2024-10-17T03:18:08.612Z"
   },
   {
    "duration": 5,
    "start_time": "2024-10-17T03:18:11.133Z"
   },
   {
    "duration": 6,
    "start_time": "2024-10-17T03:18:11.988Z"
   },
   {
    "duration": 7,
    "start_time": "2024-10-17T03:18:13.223Z"
   },
   {
    "duration": 6,
    "start_time": "2024-10-17T03:18:13.868Z"
   },
   {
    "duration": 7,
    "start_time": "2024-10-17T03:18:15.551Z"
   },
   {
    "duration": 8,
    "start_time": "2024-10-17T03:18:16.187Z"
   },
   {
    "duration": 3,
    "start_time": "2024-10-17T03:18:18.811Z"
   },
   {
    "duration": 4,
    "start_time": "2024-10-17T03:18:19.192Z"
   },
   {
    "duration": 4,
    "start_time": "2024-10-17T03:18:19.492Z"
   },
   {
    "duration": 5,
    "start_time": "2024-10-17T03:18:19.751Z"
   },
   {
    "duration": 5,
    "start_time": "2024-10-17T03:18:20.419Z"
   },
   {
    "duration": 7,
    "start_time": "2024-10-17T03:18:21.352Z"
   },
   {
    "duration": 3,
    "start_time": "2024-10-17T03:18:21.875Z"
   },
   {
    "duration": 6,
    "start_time": "2024-10-17T03:18:22.069Z"
   },
   {
    "duration": 5,
    "start_time": "2024-10-17T03:18:23.077Z"
   },
   {
    "duration": 5,
    "start_time": "2024-10-17T03:18:24.860Z"
   },
   {
    "duration": 4,
    "start_time": "2024-10-17T03:18:26.067Z"
   },
   {
    "duration": 9,
    "start_time": "2024-10-17T03:18:26.644Z"
   },
   {
    "duration": 4,
    "start_time": "2024-10-17T03:18:29.732Z"
   },
   {
    "duration": 5,
    "start_time": "2024-10-17T03:18:30.383Z"
   },
   {
    "duration": 5,
    "start_time": "2024-10-17T03:18:31.380Z"
   },
   {
    "duration": 4,
    "start_time": "2024-10-17T03:18:33.030Z"
   },
   {
    "duration": 4,
    "start_time": "2024-10-17T03:18:34.365Z"
   },
   {
    "duration": 5,
    "start_time": "2024-10-17T03:18:35.309Z"
   },
   {
    "duration": 5,
    "start_time": "2024-10-17T03:18:35.719Z"
   },
   {
    "duration": 5,
    "start_time": "2024-10-17T03:18:36.943Z"
   },
   {
    "duration": 12,
    "start_time": "2024-10-17T03:18:44.173Z"
   },
   {
    "duration": 5,
    "start_time": "2024-10-17T03:19:13.711Z"
   },
   {
    "duration": 8,
    "start_time": "2024-10-17T03:19:17.203Z"
   },
   {
    "duration": 21,
    "start_time": "2024-10-17T03:19:22.986Z"
   },
   {
    "duration": 8,
    "start_time": "2024-10-17T03:19:26.007Z"
   },
   {
    "duration": 11,
    "start_time": "2024-10-17T03:19:36.536Z"
   },
   {
    "duration": 43,
    "start_time": "2024-10-17T03:19:58.064Z"
   },
   {
    "duration": 6,
    "start_time": "2024-10-17T03:20:00.766Z"
   },
   {
    "duration": 18,
    "start_time": "2024-10-17T03:24:23.199Z"
   },
   {
    "duration": 4,
    "start_time": "2024-10-17T03:24:29.727Z"
   },
   {
    "duration": 5,
    "start_time": "2024-10-17T03:24:36.216Z"
   },
   {
    "duration": 5,
    "start_time": "2024-10-17T03:24:36.814Z"
   },
   {
    "duration": 5,
    "start_time": "2024-10-17T03:24:37.288Z"
   },
   {
    "duration": 3,
    "start_time": "2024-10-17T03:24:46.707Z"
   },
   {
    "duration": 278,
    "start_time": "2024-10-17T03:26:34.721Z"
   },
   {
    "duration": 6,
    "start_time": "2024-10-17T03:26:36.746Z"
   },
   {
    "duration": 7,
    "start_time": "2024-10-17T03:30:50.043Z"
   },
   {
    "duration": 129,
    "start_time": "2024-10-17T03:31:24.883Z"
   },
   {
    "duration": 140,
    "start_time": "2024-10-17T03:32:19.018Z"
   },
   {
    "duration": 247,
    "start_time": "2024-10-17T03:32:44.657Z"
   },
   {
    "duration": 155,
    "start_time": "2024-10-17T03:33:04.607Z"
   },
   {
    "duration": 146,
    "start_time": "2024-10-17T03:35:41.801Z"
   },
   {
    "duration": 628,
    "start_time": "2024-10-17T03:36:46.336Z"
   },
   {
    "duration": 123,
    "start_time": "2024-10-17T03:37:32.794Z"
   },
   {
    "duration": 94,
    "start_time": "2024-10-17T03:37:50.430Z"
   },
   {
    "duration": 98,
    "start_time": "2024-10-17T03:39:17.972Z"
   },
   {
    "duration": 89,
    "start_time": "2024-10-17T03:39:33.108Z"
   },
   {
    "duration": 103,
    "start_time": "2024-10-17T03:39:49.119Z"
   },
   {
    "duration": 141,
    "start_time": "2024-10-17T04:00:46.994Z"
   },
   {
    "duration": 11,
    "start_time": "2024-10-17T04:04:04.821Z"
   },
   {
    "duration": 144,
    "start_time": "2024-10-17T04:04:37.179Z"
   },
   {
    "duration": 158,
    "start_time": "2024-10-17T04:05:01.441Z"
   },
   {
    "duration": 163,
    "start_time": "2024-10-17T04:05:08.409Z"
   },
   {
    "duration": 247,
    "start_time": "2024-10-17T04:05:16.057Z"
   },
   {
    "duration": 130,
    "start_time": "2024-10-17T04:05:22.301Z"
   },
   {
    "duration": 148,
    "start_time": "2024-10-17T04:05:27.229Z"
   },
   {
    "duration": 1368,
    "start_time": "2024-10-17T04:11:52.883Z"
   },
   {
    "duration": 132,
    "start_time": "2024-10-17T04:11:54.399Z"
   },
   {
    "duration": 18,
    "start_time": "2024-10-17T04:11:54.805Z"
   },
   {
    "duration": 2181,
    "start_time": "2024-10-17T04:11:55.946Z"
   },
   {
    "duration": 9,
    "start_time": "2024-10-17T04:11:58.129Z"
   },
   {
    "duration": 5,
    "start_time": "2024-10-17T04:12:00.695Z"
   },
   {
    "duration": 12,
    "start_time": "2024-10-17T04:12:02.089Z"
   },
   {
    "duration": 5,
    "start_time": "2024-10-17T04:12:03.434Z"
   },
   {
    "duration": 5,
    "start_time": "2024-10-17T04:12:06.175Z"
   },
   {
    "duration": 7,
    "start_time": "2024-10-17T04:12:07.250Z"
   },
   {
    "duration": 15,
    "start_time": "2024-10-17T04:12:09.442Z"
   },
   {
    "duration": 8,
    "start_time": "2024-10-17T04:12:09.962Z"
   },
   {
    "duration": 5,
    "start_time": "2024-10-17T04:12:16.130Z"
   },
   {
    "duration": 201,
    "start_time": "2024-10-17T04:12:39.326Z"
   },
   {
    "duration": 6,
    "start_time": "2024-10-17T04:14:47.798Z"
   },
   {
    "duration": 10,
    "start_time": "2024-10-17T04:14:48.450Z"
   },
   {
    "duration": 6,
    "start_time": "2024-10-17T04:14:57.525Z"
   },
   {
    "duration": 13,
    "start_time": "2024-10-17T04:15:04.743Z"
   },
   {
    "duration": 9,
    "start_time": "2024-10-17T04:15:08.697Z"
   },
   {
    "duration": 9,
    "start_time": "2024-10-17T04:15:13.043Z"
   },
   {
    "duration": 10,
    "start_time": "2024-10-17T04:15:17.549Z"
   },
   {
    "duration": 6,
    "start_time": "2024-10-17T04:15:17.959Z"
   },
   {
    "duration": 4,
    "start_time": "2024-10-17T04:15:20.969Z"
   },
   {
    "duration": 6,
    "start_time": "2024-10-17T04:15:21.438Z"
   },
   {
    "duration": 4,
    "start_time": "2024-10-17T04:15:21.893Z"
   },
   {
    "duration": 5,
    "start_time": "2024-10-17T04:15:22.341Z"
   },
   {
    "duration": 4,
    "start_time": "2024-10-17T04:15:27.710Z"
   },
   {
    "duration": 8,
    "start_time": "2024-10-17T04:15:28.323Z"
   },
   {
    "duration": 5,
    "start_time": "2024-10-17T04:15:28.853Z"
   },
   {
    "duration": 12,
    "start_time": "2024-10-17T04:15:30.542Z"
   },
   {
    "duration": 5,
    "start_time": "2024-10-17T04:15:32.821Z"
   },
   {
    "duration": 5,
    "start_time": "2024-10-17T04:15:33.813Z"
   },
   {
    "duration": 5,
    "start_time": "2024-10-17T04:15:34.701Z"
   },
   {
    "duration": 10,
    "start_time": "2024-10-17T04:15:35.021Z"
   },
   {
    "duration": 5,
    "start_time": "2024-10-17T04:15:35.410Z"
   },
   {
    "duration": 7,
    "start_time": "2024-10-17T04:15:35.949Z"
   },
   {
    "duration": 7,
    "start_time": "2024-10-17T04:15:36.647Z"
   },
   {
    "duration": 4,
    "start_time": "2024-10-17T04:15:37.689Z"
   },
   {
    "duration": 4,
    "start_time": "2024-10-17T04:15:39.250Z"
   },
   {
    "duration": 6,
    "start_time": "2024-10-17T04:15:39.779Z"
   },
   {
    "duration": 4,
    "start_time": "2024-10-17T04:15:40.274Z"
   },
   {
    "duration": 5,
    "start_time": "2024-10-17T04:15:41.185Z"
   },
   {
    "duration": 15,
    "start_time": "2024-10-17T04:15:44.229Z"
   },
   {
    "duration": 5,
    "start_time": "2024-10-17T04:15:45.286Z"
   },
   {
    "duration": 8,
    "start_time": "2024-10-17T04:15:45.829Z"
   },
   {
    "duration": 22,
    "start_time": "2024-10-17T04:15:46.383Z"
   },
   {
    "duration": 8,
    "start_time": "2024-10-17T04:15:46.893Z"
   },
   {
    "duration": 21,
    "start_time": "2024-10-17T04:15:53.807Z"
   },
   {
    "duration": 50,
    "start_time": "2024-10-17T04:15:54.831Z"
   },
   {
    "duration": 6,
    "start_time": "2024-10-17T04:15:55.357Z"
   },
   {
    "duration": 24,
    "start_time": "2024-10-17T04:15:58.648Z"
   },
   {
    "duration": 4,
    "start_time": "2024-10-17T04:15:59.326Z"
   },
   {
    "duration": 5,
    "start_time": "2024-10-17T04:15:59.517Z"
   },
   {
    "duration": 5,
    "start_time": "2024-10-17T04:15:59.669Z"
   },
   {
    "duration": 7,
    "start_time": "2024-10-17T04:15:59.879Z"
   },
   {
    "duration": 2,
    "start_time": "2024-10-17T04:16:01.928Z"
   },
   {
    "duration": 299,
    "start_time": "2024-10-17T04:16:02.430Z"
   },
   {
    "duration": 5,
    "start_time": "2024-10-17T04:16:05.076Z"
   },
   {
    "duration": 139,
    "start_time": "2024-10-17T04:16:09.885Z"
   },
   {
    "duration": 94,
    "start_time": "2024-10-17T04:16:14.885Z"
   },
   {
    "duration": 165,
    "start_time": "2024-10-17T04:16:18.821Z"
   },
   {
    "duration": 39,
    "start_time": "2024-10-17T04:39:57.118Z"
   },
   {
    "duration": 8,
    "start_time": "2024-10-17T04:41:11.653Z"
   },
   {
    "duration": 2477,
    "start_time": "2024-10-17T04:41:25.391Z"
   },
   {
    "duration": 13,
    "start_time": "2024-10-17T04:41:39.730Z"
   },
   {
    "duration": 9,
    "start_time": "2024-10-17T04:42:21.290Z"
   },
   {
    "duration": 10,
    "start_time": "2024-10-17T04:42:26.305Z"
   },
   {
    "duration": 10,
    "start_time": "2024-10-17T04:43:57.245Z"
   },
   {
    "duration": 12,
    "start_time": "2024-10-17T04:44:36.366Z"
   },
   {
    "duration": 13,
    "start_time": "2024-10-17T04:46:37.012Z"
   },
   {
    "duration": 14,
    "start_time": "2024-10-17T04:47:03.580Z"
   },
   {
    "duration": 20,
    "start_time": "2024-10-17T04:49:46.515Z"
   },
   {
    "duration": 15,
    "start_time": "2024-10-17T04:50:59.256Z"
   },
   {
    "duration": 4,
    "start_time": "2024-10-17T04:54:24.059Z"
   },
   {
    "duration": 8,
    "start_time": "2024-10-17T04:54:45.884Z"
   },
   {
    "duration": 8,
    "start_time": "2024-10-17T04:55:03.809Z"
   },
   {
    "duration": 1179,
    "start_time": "2024-10-17T04:55:23.803Z"
   },
   {
    "duration": 99,
    "start_time": "2024-10-17T04:55:24.984Z"
   },
   {
    "duration": 15,
    "start_time": "2024-10-17T04:55:25.084Z"
   },
   {
    "duration": 1994,
    "start_time": "2024-10-17T04:55:25.101Z"
   },
   {
    "duration": 10,
    "start_time": "2024-10-17T04:55:27.097Z"
   },
   {
    "duration": 11,
    "start_time": "2024-10-17T04:55:27.109Z"
   },
   {
    "duration": 17,
    "start_time": "2024-10-17T04:55:27.121Z"
   },
   {
    "duration": 5,
    "start_time": "2024-10-17T04:55:27.139Z"
   },
   {
    "duration": 88,
    "start_time": "2024-10-17T04:55:27.146Z"
   },
   {
    "duration": 4,
    "start_time": "2024-10-17T04:55:27.237Z"
   },
   {
    "duration": 11,
    "start_time": "2024-10-17T04:55:27.243Z"
   },
   {
    "duration": 5,
    "start_time": "2024-10-17T04:55:27.256Z"
   },
   {
    "duration": 5,
    "start_time": "2024-10-17T04:55:27.262Z"
   },
   {
    "duration": 209,
    "start_time": "2024-10-17T04:55:27.268Z"
   },
   {
    "duration": 6,
    "start_time": "2024-10-17T04:55:27.479Z"
   },
   {
    "duration": 6,
    "start_time": "2024-10-17T04:55:27.486Z"
   },
   {
    "duration": 11,
    "start_time": "2024-10-17T04:55:27.493Z"
   },
   {
    "duration": 8,
    "start_time": "2024-10-17T04:55:27.506Z"
   },
   {
    "duration": 5,
    "start_time": "2024-10-17T04:55:27.515Z"
   },
   {
    "duration": 26,
    "start_time": "2024-10-17T04:55:27.522Z"
   },
   {
    "duration": 5,
    "start_time": "2024-10-17T04:55:27.550Z"
   },
   {
    "duration": 73,
    "start_time": "2024-10-17T04:55:27.556Z"
   },
   {
    "duration": 73,
    "start_time": "2024-10-17T04:55:27.631Z"
   },
   {
    "duration": 4,
    "start_time": "2024-10-17T04:55:27.705Z"
   },
   {
    "duration": 13,
    "start_time": "2024-10-17T04:55:27.710Z"
   },
   {
    "duration": 3,
    "start_time": "2024-10-17T04:55:27.725Z"
   },
   {
    "duration": 5,
    "start_time": "2024-10-17T04:55:27.729Z"
   },
   {
    "duration": 8,
    "start_time": "2024-10-17T04:55:27.737Z"
   },
   {
    "duration": 6,
    "start_time": "2024-10-17T04:55:27.747Z"
   },
   {
    "duration": 3,
    "start_time": "2024-10-17T04:55:27.754Z"
   },
   {
    "duration": 4,
    "start_time": "2024-10-17T04:55:27.759Z"
   },
   {
    "duration": 4,
    "start_time": "2024-10-17T04:55:27.764Z"
   },
   {
    "duration": 4,
    "start_time": "2024-10-17T04:55:27.770Z"
   },
   {
    "duration": 27,
    "start_time": "2024-10-17T04:55:27.775Z"
   },
   {
    "duration": 26,
    "start_time": "2024-10-17T04:55:27.804Z"
   },
   {
    "duration": 3,
    "start_time": "2024-10-17T04:55:27.832Z"
   },
   {
    "duration": 10,
    "start_time": "2024-10-17T04:55:27.837Z"
   },
   {
    "duration": 5,
    "start_time": "2024-10-17T04:55:27.849Z"
   },
   {
    "duration": 8,
    "start_time": "2024-10-17T04:55:27.855Z"
   },
   {
    "duration": 10,
    "start_time": "2024-10-17T04:55:27.864Z"
   },
   {
    "duration": 9,
    "start_time": "2024-10-17T04:55:27.875Z"
   },
   {
    "duration": 9,
    "start_time": "2024-10-17T04:55:27.885Z"
   },
   {
    "duration": 10,
    "start_time": "2024-10-17T04:55:27.896Z"
   },
   {
    "duration": 15,
    "start_time": "2024-10-17T04:55:27.907Z"
   },
   {
    "duration": 22,
    "start_time": "2024-10-17T04:55:27.924Z"
   },
   {
    "duration": 10,
    "start_time": "2024-10-17T04:55:27.947Z"
   },
   {
    "duration": 23,
    "start_time": "2024-10-17T04:55:27.959Z"
   },
   {
    "duration": 8,
    "start_time": "2024-10-17T04:55:27.983Z"
   },
   {
    "duration": 34,
    "start_time": "2024-10-17T04:55:27.992Z"
   },
   {
    "duration": 45,
    "start_time": "2024-10-17T04:55:28.028Z"
   },
   {
    "duration": 4,
    "start_time": "2024-10-17T04:55:28.074Z"
   },
   {
    "duration": 20,
    "start_time": "2024-10-17T04:55:28.080Z"
   },
   {
    "duration": 3,
    "start_time": "2024-10-17T04:55:28.102Z"
   },
   {
    "duration": 11,
    "start_time": "2024-10-17T04:55:28.107Z"
   },
   {
    "duration": 26,
    "start_time": "2024-10-17T04:55:28.119Z"
   },
   {
    "duration": 5,
    "start_time": "2024-10-17T04:55:28.147Z"
   },
   {
    "duration": 3,
    "start_time": "2024-10-17T04:55:28.153Z"
   },
   {
    "duration": 295,
    "start_time": "2024-10-17T04:55:28.157Z"
   },
   {
    "duration": 4,
    "start_time": "2024-10-17T04:55:28.453Z"
   },
   {
    "duration": 166,
    "start_time": "2024-10-17T04:55:28.458Z"
   },
   {
    "duration": 83,
    "start_time": "2024-10-17T04:55:28.626Z"
   },
   {
    "duration": 202,
    "start_time": "2024-10-17T04:55:28.711Z"
   },
   {
    "duration": 9,
    "start_time": "2024-10-17T04:55:34.204Z"
   },
   {
    "duration": 175,
    "start_time": "2024-10-17T04:55:34.958Z"
   },
   {
    "duration": 150,
    "start_time": "2024-10-17T04:56:05.892Z"
   },
   {
    "duration": 150,
    "start_time": "2024-10-17T04:56:20.024Z"
   },
   {
    "duration": 275,
    "start_time": "2024-10-17T04:56:44.995Z"
   },
   {
    "duration": 148,
    "start_time": "2024-10-17T04:56:50.677Z"
   },
   {
    "duration": 160,
    "start_time": "2024-10-17T04:56:54.838Z"
   },
   {
    "duration": 137,
    "start_time": "2024-10-17T04:57:01.704Z"
   },
   {
    "duration": 133,
    "start_time": "2024-10-17T04:57:20.326Z"
   },
   {
    "duration": 134,
    "start_time": "2024-10-17T04:57:28.498Z"
   },
   {
    "duration": 161,
    "start_time": "2024-10-17T06:53:54.890Z"
   },
   {
    "duration": 151,
    "start_time": "2024-10-17T06:54:37.609Z"
   },
   {
    "duration": 159,
    "start_time": "2024-10-17T06:56:04.245Z"
   },
   {
    "duration": 144,
    "start_time": "2024-10-17T06:56:12.677Z"
   },
   {
    "duration": 97,
    "start_time": "2024-10-17T06:57:11.550Z"
   },
   {
    "duration": 145,
    "start_time": "2024-10-17T06:58:27.511Z"
   },
   {
    "duration": 124,
    "start_time": "2024-10-17T07:06:36.427Z"
   },
   {
    "duration": 117,
    "start_time": "2024-10-17T07:07:22.819Z"
   },
   {
    "duration": 66,
    "start_time": "2024-10-17T07:10:49.914Z"
   },
   {
    "duration": 36,
    "start_time": "2024-10-17T07:11:39.577Z"
   },
   {
    "duration": 11,
    "start_time": "2024-10-17T07:13:01.408Z"
   },
   {
    "duration": 24,
    "start_time": "2024-10-17T07:16:54.541Z"
   },
   {
    "duration": 8,
    "start_time": "2024-10-17T07:19:09.266Z"
   },
   {
    "duration": 107,
    "start_time": "2024-10-17T07:20:52.968Z"
   },
   {
    "duration": 9,
    "start_time": "2024-10-17T07:20:59.742Z"
   },
   {
    "duration": 10,
    "start_time": "2024-10-17T07:21:14.184Z"
   },
   {
    "duration": 11,
    "start_time": "2024-10-17T07:21:44.603Z"
   },
   {
    "duration": 13,
    "start_time": "2024-10-17T07:22:08.164Z"
   },
   {
    "duration": 18,
    "start_time": "2024-10-17T07:22:20.356Z"
   },
   {
    "duration": 12,
    "start_time": "2024-10-17T07:22:30.367Z"
   },
   {
    "duration": 12,
    "start_time": "2024-10-17T07:22:46.324Z"
   },
   {
    "duration": 10,
    "start_time": "2024-10-17T07:31:26.709Z"
   },
   {
    "duration": 144,
    "start_time": "2024-10-17T07:31:52.645Z"
   },
   {
    "duration": 166,
    "start_time": "2024-10-17T07:32:12.297Z"
   },
   {
    "duration": 15,
    "start_time": "2024-10-17T07:32:42.441Z"
   },
   {
    "duration": 9,
    "start_time": "2024-10-17T07:34:50.397Z"
   },
   {
    "duration": 156,
    "start_time": "2024-10-17T07:35:18.555Z"
   },
   {
    "duration": 139,
    "start_time": "2024-10-17T07:35:41.567Z"
   },
   {
    "duration": 141,
    "start_time": "2024-10-17T07:35:47.309Z"
   },
   {
    "duration": 144,
    "start_time": "2024-10-17T07:36:14.531Z"
   },
   {
    "duration": 6,
    "start_time": "2024-10-17T07:37:39.862Z"
   },
   {
    "duration": 7,
    "start_time": "2024-10-17T07:37:44.771Z"
   },
   {
    "duration": 4,
    "start_time": "2024-10-17T07:38:00.398Z"
   },
   {
    "duration": 8,
    "start_time": "2024-10-17T07:42:37.974Z"
   },
   {
    "duration": 15,
    "start_time": "2024-10-17T07:44:44.534Z"
   },
   {
    "duration": 13,
    "start_time": "2024-10-17T07:45:14.466Z"
   },
   {
    "duration": 8,
    "start_time": "2024-10-17T07:45:34.279Z"
   },
   {
    "duration": 149,
    "start_time": "2024-10-17T07:45:35.003Z"
   },
   {
    "duration": 4,
    "start_time": "2024-10-17T07:45:49.960Z"
   },
   {
    "duration": 93,
    "start_time": "2024-10-17T07:47:33.537Z"
   },
   {
    "duration": 169,
    "start_time": "2024-10-17T07:48:03.230Z"
   },
   {
    "duration": 1591,
    "start_time": "2024-10-17T07:48:45.158Z"
   },
   {
    "duration": 101,
    "start_time": "2024-10-17T07:49:18.480Z"
   },
   {
    "duration": 107,
    "start_time": "2024-10-17T07:49:41.848Z"
   },
   {
    "duration": 107,
    "start_time": "2024-10-17T07:49:50.721Z"
   },
   {
    "duration": 100,
    "start_time": "2024-10-17T07:49:55.511Z"
   },
   {
    "duration": 102,
    "start_time": "2024-10-17T07:50:07.351Z"
   },
   {
    "duration": 110,
    "start_time": "2024-10-17T07:50:20.629Z"
   },
   {
    "duration": 127,
    "start_time": "2024-10-17T07:53:37.353Z"
   },
   {
    "duration": 137,
    "start_time": "2024-10-17T07:53:43.688Z"
   },
   {
    "duration": 135,
    "start_time": "2024-10-17T07:53:48.534Z"
   },
   {
    "duration": 141,
    "start_time": "2024-10-17T07:54:56.123Z"
   },
   {
    "duration": 132,
    "start_time": "2024-10-17T07:55:03.890Z"
   },
   {
    "duration": 132,
    "start_time": "2024-10-17T07:55:11.683Z"
   },
   {
    "duration": 136,
    "start_time": "2024-10-17T07:55:18.567Z"
   },
   {
    "duration": 128,
    "start_time": "2024-10-17T07:55:25.492Z"
   },
   {
    "duration": 153,
    "start_time": "2024-10-17T07:55:35.209Z"
   },
   {
    "duration": 128,
    "start_time": "2024-10-17T07:55:41.162Z"
   },
   {
    "duration": 7,
    "start_time": "2024-10-17T07:56:30.996Z"
   },
   {
    "duration": 149,
    "start_time": "2024-10-17T07:58:38.111Z"
   },
   {
    "duration": 565,
    "start_time": "2024-10-17T07:58:50.714Z"
   },
   {
    "duration": 6,
    "start_time": "2024-10-17T07:59:07.480Z"
   },
   {
    "duration": 5,
    "start_time": "2024-10-17T07:59:14.799Z"
   },
   {
    "duration": 165,
    "start_time": "2024-10-17T07:59:20.595Z"
   },
   {
    "duration": 141,
    "start_time": "2024-10-17T08:00:52.312Z"
   },
   {
    "duration": 154,
    "start_time": "2024-10-17T08:00:53.093Z"
   },
   {
    "duration": 6,
    "start_time": "2024-10-17T08:01:13.704Z"
   },
   {
    "duration": 6,
    "start_time": "2024-10-17T08:01:14.507Z"
   },
   {
    "duration": 9,
    "start_time": "2024-10-17T08:04:21.096Z"
   },
   {
    "duration": 4,
    "start_time": "2024-10-17T08:04:39.312Z"
   },
   {
    "duration": 162,
    "start_time": "2024-10-17T08:05:54.938Z"
   },
   {
    "duration": 155,
    "start_time": "2024-10-17T08:06:17.783Z"
   },
   {
    "duration": 167,
    "start_time": "2024-10-17T08:06:39.376Z"
   },
   {
    "duration": 151,
    "start_time": "2024-10-17T08:07:11.918Z"
   },
   {
    "duration": 124,
    "start_time": "2024-10-17T08:07:54.766Z"
   },
   {
    "duration": 106,
    "start_time": "2024-10-17T08:09:09.054Z"
   },
   {
    "duration": 38,
    "start_time": "2024-10-17T08:09:47.534Z"
   },
   {
    "duration": 6,
    "start_time": "2024-10-17T08:11:36.439Z"
   },
   {
    "duration": 6,
    "start_time": "2024-10-17T08:12:44.817Z"
   },
   {
    "duration": 9,
    "start_time": "2024-10-17T08:13:45.119Z"
   },
   {
    "duration": 122,
    "start_time": "2024-10-17T08:14:15.280Z"
   },
   {
    "duration": 93,
    "start_time": "2024-10-17T08:14:52.570Z"
   },
   {
    "duration": 15,
    "start_time": "2024-10-17T08:15:55.162Z"
   },
   {
    "duration": 22,
    "start_time": "2024-10-17T08:16:05.065Z"
   },
   {
    "duration": 23,
    "start_time": "2024-10-17T08:16:32.973Z"
   },
   {
    "duration": 9,
    "start_time": "2024-10-17T08:18:53.143Z"
   },
   {
    "duration": 44,
    "start_time": "2024-10-17T08:18:58.299Z"
   },
   {
    "duration": 6,
    "start_time": "2024-10-17T08:19:04.598Z"
   },
   {
    "duration": 103,
    "start_time": "2024-10-17T08:19:14.667Z"
   },
   {
    "duration": 42,
    "start_time": "2024-10-17T08:22:20.719Z"
   },
   {
    "duration": 5,
    "start_time": "2024-10-17T08:30:10.539Z"
   },
   {
    "duration": 99,
    "start_time": "2024-10-17T08:30:25.495Z"
   },
   {
    "duration": 18,
    "start_time": "2024-10-17T08:32:35.625Z"
   },
   {
    "duration": 23,
    "start_time": "2024-10-17T08:32:41.744Z"
   },
   {
    "duration": 24,
    "start_time": "2024-10-17T08:32:48.350Z"
   },
   {
    "duration": 8,
    "start_time": "2024-10-17T08:35:15.852Z"
   },
   {
    "duration": 4,
    "start_time": "2024-10-17T08:35:25.892Z"
   },
   {
    "duration": 5,
    "start_time": "2024-10-17T08:35:59.732Z"
   },
   {
    "duration": 9,
    "start_time": "2024-10-17T08:36:09.933Z"
   },
   {
    "duration": 5,
    "start_time": "2024-10-17T08:36:14.539Z"
   },
   {
    "duration": 6,
    "start_time": "2024-10-17T08:36:24.151Z"
   },
   {
    "duration": 7,
    "start_time": "2024-10-17T08:38:58.194Z"
   },
   {
    "duration": 107,
    "start_time": "2024-10-17T08:39:09.432Z"
   },
   {
    "duration": 7,
    "start_time": "2024-10-17T09:40:02.374Z"
   },
   {
    "duration": 172,
    "start_time": "2024-10-17T09:40:46.199Z"
   },
   {
    "duration": 158,
    "start_time": "2024-10-17T09:41:22.663Z"
   },
   {
    "duration": 135,
    "start_time": "2024-10-17T09:41:50.774Z"
   },
   {
    "duration": 129,
    "start_time": "2024-10-17T09:42:05.873Z"
   },
   {
    "duration": 142,
    "start_time": "2024-10-17T09:42:20.892Z"
   },
   {
    "duration": 135,
    "start_time": "2024-10-17T09:42:32.003Z"
   },
   {
    "duration": 128,
    "start_time": "2024-10-17T09:42:38.536Z"
   },
   {
    "duration": 145,
    "start_time": "2024-10-17T09:42:58.572Z"
   },
   {
    "duration": 130,
    "start_time": "2024-10-17T09:43:44.694Z"
   },
   {
    "duration": 119,
    "start_time": "2024-10-17T09:44:43.948Z"
   },
   {
    "duration": 142,
    "start_time": "2024-10-17T09:46:54.368Z"
   },
   {
    "duration": 98,
    "start_time": "2024-10-17T09:47:33.505Z"
   },
   {
    "duration": 42,
    "start_time": "2024-10-17T09:48:24.848Z"
   },
   {
    "duration": 7,
    "start_time": "2024-10-17T09:48:35.413Z"
   },
   {
    "duration": 9,
    "start_time": "2024-10-17T09:51:28.687Z"
   },
   {
    "duration": 4,
    "start_time": "2024-10-17T09:51:38.275Z"
   },
   {
    "duration": 134,
    "start_time": "2024-10-17T09:52:25.008Z"
   },
   {
    "duration": 100,
    "start_time": "2024-10-17T09:52:44.115Z"
   },
   {
    "duration": 38,
    "start_time": "2024-10-17T09:54:16.485Z"
   },
   {
    "duration": 15,
    "start_time": "2024-10-17T09:54:52.407Z"
   },
   {
    "duration": 19,
    "start_time": "2024-10-17T09:55:01.562Z"
   },
   {
    "duration": 15,
    "start_time": "2024-10-17T09:55:05.769Z"
   },
   {
    "duration": 93,
    "start_time": "2024-10-17T09:55:14.090Z"
   },
   {
    "duration": 6,
    "start_time": "2024-10-17T09:56:14.188Z"
   },
   {
    "duration": 146,
    "start_time": "2024-10-17T09:56:46.941Z"
   },
   {
    "duration": 144,
    "start_time": "2024-10-17T09:56:59.308Z"
   },
   {
    "duration": 143,
    "start_time": "2024-10-17T09:57:11.802Z"
   },
   {
    "duration": 146,
    "start_time": "2024-10-17T09:57:32.666Z"
   },
   {
    "duration": 5,
    "start_time": "2024-10-17T09:58:36.678Z"
   },
   {
    "duration": 7,
    "start_time": "2024-10-17T10:00:05.686Z"
   },
   {
    "duration": 8,
    "start_time": "2024-10-17T10:00:20.677Z"
   },
   {
    "duration": 6,
    "start_time": "2024-10-17T10:00:51.790Z"
   },
   {
    "duration": 7,
    "start_time": "2024-10-17T10:03:10.496Z"
   },
   {
    "duration": 7,
    "start_time": "2024-10-17T10:03:45.886Z"
   },
   {
    "duration": 8,
    "start_time": "2024-10-17T10:03:53.914Z"
   },
   {
    "duration": 37,
    "start_time": "2024-10-17T10:08:02.187Z"
   },
   {
    "duration": 10,
    "start_time": "2024-10-17T10:08:25.277Z"
   },
   {
    "duration": 9,
    "start_time": "2024-10-17T10:10:39.050Z"
   },
   {
    "duration": 9,
    "start_time": "2024-10-17T10:10:46.498Z"
   },
   {
    "duration": 8,
    "start_time": "2024-10-17T10:11:16.829Z"
   },
   {
    "duration": 8,
    "start_time": "2024-10-17T10:11:28.838Z"
   },
   {
    "duration": 7,
    "start_time": "2024-10-17T10:11:58.076Z"
   },
   {
    "duration": 11,
    "start_time": "2024-10-17T10:17:26.205Z"
   },
   {
    "duration": 6,
    "start_time": "2024-10-17T10:20:41.302Z"
   },
   {
    "duration": 50,
    "start_time": "2024-10-17T10:22:44.607Z"
   },
   {
    "duration": 10,
    "start_time": "2024-10-17T10:23:14.998Z"
   },
   {
    "duration": 10,
    "start_time": "2024-10-17T10:23:47.796Z"
   },
   {
    "duration": 46,
    "start_time": "2024-10-17T10:24:00.674Z"
   },
   {
    "duration": 10,
    "start_time": "2024-10-17T10:26:40.608Z"
   },
   {
    "duration": 16,
    "start_time": "2024-10-17T10:27:10.075Z"
   },
   {
    "duration": 12,
    "start_time": "2024-10-17T10:27:31.195Z"
   },
   {
    "duration": 39,
    "start_time": "2024-10-17T10:29:33.323Z"
   },
   {
    "duration": 17,
    "start_time": "2024-10-17T10:30:49.335Z"
   },
   {
    "duration": 37,
    "start_time": "2024-10-17T10:30:55.637Z"
   },
   {
    "duration": 78,
    "start_time": "2024-10-17T10:31:04.620Z"
   },
   {
    "duration": 104,
    "start_time": "2024-10-17T10:31:17.883Z"
   },
   {
    "duration": 47,
    "start_time": "2024-10-17T10:31:35.679Z"
   },
   {
    "duration": 37,
    "start_time": "2024-10-17T10:31:53.446Z"
   },
   {
    "duration": 4,
    "start_time": "2024-10-17T10:32:21.131Z"
   },
   {
    "duration": 48,
    "start_time": "2024-10-17T10:32:45.873Z"
   },
   {
    "duration": 8,
    "start_time": "2024-10-17T10:33:11.485Z"
   },
   {
    "duration": 4,
    "start_time": "2024-10-17T10:33:12.994Z"
   },
   {
    "duration": 10,
    "start_time": "2024-10-17T10:38:04.862Z"
   },
   {
    "duration": 6,
    "start_time": "2024-10-17T10:38:56.322Z"
   },
   {
    "duration": 2377,
    "start_time": "2024-10-17T10:43:17.538Z"
   },
   {
    "duration": 152,
    "start_time": "2024-10-17T10:43:39.704Z"
   },
   {
    "duration": 99,
    "start_time": "2024-10-17T10:46:04.665Z"
   },
   {
    "duration": 94,
    "start_time": "2024-10-17T10:46:14.280Z"
   },
   {
    "duration": 49,
    "start_time": "2024-10-17T11:16:42.031Z"
   },
   {
    "duration": 4,
    "start_time": "2024-10-17T11:17:03.120Z"
   },
   {
    "duration": 8,
    "start_time": "2024-10-17T11:17:19.890Z"
   },
   {
    "duration": 5,
    "start_time": "2024-10-17T11:17:20.693Z"
   },
   {
    "duration": 90,
    "start_time": "2024-10-17T11:17:33.970Z"
   },
   {
    "duration": 8,
    "start_time": "2024-10-17T11:17:53.460Z"
   },
   {
    "duration": 3,
    "start_time": "2024-10-17T11:17:53.994Z"
   },
   {
    "duration": 109,
    "start_time": "2024-10-17T11:17:55.776Z"
   },
   {
    "duration": 127,
    "start_time": "2024-10-17T11:18:52.964Z"
   },
   {
    "duration": 144,
    "start_time": "2024-10-17T11:19:30.466Z"
   },
   {
    "duration": 118,
    "start_time": "2024-10-17T11:19:54.102Z"
   },
   {
    "duration": 142,
    "start_time": "2024-10-17T11:20:02.712Z"
   },
   {
    "duration": 138,
    "start_time": "2024-10-17T11:20:11.615Z"
   },
   {
    "duration": 141,
    "start_time": "2024-10-17T11:20:29.217Z"
   },
   {
    "duration": 129,
    "start_time": "2024-10-17T11:21:28.512Z"
   },
   {
    "duration": 151,
    "start_time": "2024-10-17T11:21:42.690Z"
   },
   {
    "duration": 130,
    "start_time": "2024-10-17T11:21:54.143Z"
   },
   {
    "duration": 136,
    "start_time": "2024-10-17T11:22:28.576Z"
   },
   {
    "duration": 118,
    "start_time": "2024-10-17T11:22:37.838Z"
   },
   {
    "duration": 141,
    "start_time": "2024-10-17T11:22:48.064Z"
   },
   {
    "duration": 147,
    "start_time": "2024-10-17T11:34:49.778Z"
   },
   {
    "duration": 96,
    "start_time": "2024-10-17T11:35:44.089Z"
   },
   {
    "duration": 39,
    "start_time": "2024-10-17T11:36:58.184Z"
   },
   {
    "duration": 5,
    "start_time": "2024-10-17T11:37:17.707Z"
   },
   {
    "duration": 7,
    "start_time": "2024-10-17T11:42:00.097Z"
   },
   {
    "duration": 5,
    "start_time": "2024-10-17T11:42:04.946Z"
   },
   {
    "duration": 1152,
    "start_time": "2024-10-17T11:43:14.706Z"
   },
   {
    "duration": 106,
    "start_time": "2024-10-17T11:43:17.880Z"
   },
   {
    "duration": 15,
    "start_time": "2024-10-17T11:43:19.786Z"
   },
   {
    "duration": 5,
    "start_time": "2024-10-17T11:43:45.582Z"
   },
   {
    "duration": 16,
    "start_time": "2024-10-17T11:44:45.018Z"
   },
   {
    "duration": 2054,
    "start_time": "2024-10-17T11:45:04.405Z"
   },
   {
    "duration": 10,
    "start_time": "2024-10-17T11:49:13.693Z"
   },
   {
    "duration": 5,
    "start_time": "2024-10-17T11:49:21.045Z"
   },
   {
    "duration": 12,
    "start_time": "2024-10-17T11:49:28.083Z"
   },
   {
    "duration": 5,
    "start_time": "2024-10-17T11:50:09.268Z"
   },
   {
    "duration": 5,
    "start_time": "2024-10-17T11:50:09.837Z"
   },
   {
    "duration": 5,
    "start_time": "2024-10-17T11:50:29.693Z"
   },
   {
    "duration": 31,
    "start_time": "2024-10-17T11:50:34.252Z"
   },
   {
    "duration": 6,
    "start_time": "2024-10-17T11:50:34.757Z"
   },
   {
    "duration": 5,
    "start_time": "2024-10-17T11:50:58.229Z"
   },
   {
    "duration": 199,
    "start_time": "2024-10-17T11:51:15.194Z"
   },
   {
    "duration": 9,
    "start_time": "2024-10-17T11:52:05.557Z"
   },
   {
    "duration": 2,
    "start_time": "2024-10-17T11:52:14.762Z"
   },
   {
    "duration": 6,
    "start_time": "2024-10-17T11:52:16.401Z"
   },
   {
    "duration": 7,
    "start_time": "2024-10-17T11:52:20.085Z"
   },
   {
    "duration": 5,
    "start_time": "2024-10-17T11:52:23.924Z"
   },
   {
    "duration": 5,
    "start_time": "2024-10-17T11:52:24.744Z"
   },
   {
    "duration": 8,
    "start_time": "2024-10-17T11:52:31.837Z"
   },
   {
    "duration": 6,
    "start_time": "2024-10-17T11:52:35.170Z"
   },
   {
    "duration": 7,
    "start_time": "2024-10-17T11:52:36.348Z"
   },
   {
    "duration": 6,
    "start_time": "2024-10-17T11:52:36.893Z"
   },
   {
    "duration": 3,
    "start_time": "2024-10-17T11:52:39.141Z"
   },
   {
    "duration": 4,
    "start_time": "2024-10-17T11:52:39.573Z"
   },
   {
    "duration": 3,
    "start_time": "2024-10-17T11:52:40.102Z"
   },
   {
    "duration": 4,
    "start_time": "2024-10-17T11:52:40.413Z"
   },
   {
    "duration": 5,
    "start_time": "2024-10-17T11:52:43.909Z"
   },
   {
    "duration": 7,
    "start_time": "2024-10-17T11:52:45.680Z"
   },
   {
    "duration": 5,
    "start_time": "2024-10-17T11:52:47.156Z"
   },
   {
    "duration": 4,
    "start_time": "2024-10-17T11:52:48.798Z"
   },
   {
    "duration": 5,
    "start_time": "2024-10-17T11:52:49.708Z"
   },
   {
    "duration": 5,
    "start_time": "2024-10-17T11:52:55.153Z"
   },
   {
    "duration": 8,
    "start_time": "2024-10-17T11:52:56.244Z"
   },
   {
    "duration": 7,
    "start_time": "2024-10-17T11:53:11.157Z"
   },
   {
    "duration": 5,
    "start_time": "2024-10-17T11:53:12.357Z"
   },
   {
    "duration": 9,
    "start_time": "2024-10-17T11:53:18.341Z"
   },
   {
    "duration": 4,
    "start_time": "2024-10-17T11:53:50.685Z"
   },
   {
    "duration": 4,
    "start_time": "2024-10-17T11:53:51.140Z"
   },
   {
    "duration": 5,
    "start_time": "2024-10-17T11:53:56.604Z"
   },
   {
    "duration": 6,
    "start_time": "2024-10-17T11:53:57.928Z"
   },
   {
    "duration": 4,
    "start_time": "2024-10-17T11:53:58.900Z"
   },
   {
    "duration": 5,
    "start_time": "2024-10-17T11:53:59.202Z"
   },
   {
    "duration": 5,
    "start_time": "2024-10-17T11:53:59.598Z"
   },
   {
    "duration": 5,
    "start_time": "2024-10-17T11:54:01.184Z"
   },
   {
    "duration": 15,
    "start_time": "2024-10-17T11:54:03.077Z"
   },
   {
    "duration": 3,
    "start_time": "2024-10-17T11:55:09.619Z"
   },
   {
    "duration": 13,
    "start_time": "2024-10-17T11:55:35.657Z"
   },
   {
    "duration": 5,
    "start_time": "2024-10-17T11:55:37.164Z"
   },
   {
    "duration": 8,
    "start_time": "2024-10-17T11:55:38.020Z"
   },
   {
    "duration": 21,
    "start_time": "2024-10-17T11:55:47.524Z"
   },
   {
    "duration": 8,
    "start_time": "2024-10-17T11:55:59.840Z"
   },
   {
    "duration": 21,
    "start_time": "2024-10-17T11:56:04.785Z"
   },
   {
    "duration": 38,
    "start_time": "2024-10-17T11:56:07.552Z"
   },
   {
    "duration": 5,
    "start_time": "2024-10-17T11:56:08.576Z"
   },
   {
    "duration": 18,
    "start_time": "2024-10-17T11:56:09.473Z"
   },
   {
    "duration": 5,
    "start_time": "2024-10-17T11:56:10.533Z"
   },
   {
    "duration": 6,
    "start_time": "2024-10-17T11:56:11.322Z"
   },
   {
    "duration": 5,
    "start_time": "2024-10-17T11:56:12.066Z"
   },
   {
    "duration": 6,
    "start_time": "2024-10-17T11:56:12.541Z"
   },
   {
    "duration": 3,
    "start_time": "2024-10-17T11:56:19.165Z"
   },
   {
    "duration": 282,
    "start_time": "2024-10-17T11:56:19.809Z"
   },
   {
    "duration": 5,
    "start_time": "2024-10-17T11:56:21.720Z"
   },
   {
    "duration": 129,
    "start_time": "2024-10-17T11:56:26.901Z"
   },
   {
    "duration": 102,
    "start_time": "2024-10-17T11:56:31.762Z"
   },
   {
    "duration": 143,
    "start_time": "2024-10-17T11:56:45.797Z"
   },
   {
    "duration": 9,
    "start_time": "2024-10-17T11:56:52.321Z"
   },
   {
    "duration": 133,
    "start_time": "2024-10-17T11:56:53.013Z"
   },
   {
    "duration": 138,
    "start_time": "2024-10-17T11:56:54.208Z"
   },
   {
    "duration": 116,
    "start_time": "2024-10-17T11:56:57.505Z"
   },
   {
    "duration": 194,
    "start_time": "2024-10-17T11:57:00.950Z"
   },
   {
    "duration": 15,
    "start_time": "2024-10-17T11:57:09.524Z"
   },
   {
    "duration": 6,
    "start_time": "2024-10-17T11:57:17.293Z"
   },
   {
    "duration": 134,
    "start_time": "2024-10-17T11:57:17.953Z"
   },
   {
    "duration": 150,
    "start_time": "2024-10-17T11:57:25.044Z"
   },
   {
    "duration": 93,
    "start_time": "2024-10-17T11:57:27.492Z"
   },
   {
    "duration": 117,
    "start_time": "2024-10-17T11:57:31.968Z"
   },
   {
    "duration": 160,
    "start_time": "2024-10-17T11:57:32.720Z"
   },
   {
    "duration": 6,
    "start_time": "2024-10-17T11:57:33.253Z"
   },
   {
    "duration": 5,
    "start_time": "2024-10-17T11:57:35.129Z"
   },
   {
    "duration": 5,
    "start_time": "2024-10-17T11:57:36.272Z"
   },
   {
    "duration": 3,
    "start_time": "2024-10-17T11:57:36.987Z"
   },
   {
    "duration": 142,
    "start_time": "2024-10-17T11:57:38.220Z"
   },
   {
    "duration": 97,
    "start_time": "2024-10-17T11:57:39.080Z"
   },
   {
    "duration": 5,
    "start_time": "2024-10-17T11:57:39.648Z"
   },
   {
    "duration": 5,
    "start_time": "2024-10-17T11:57:41.544Z"
   },
   {
    "duration": 132,
    "start_time": "2024-10-17T11:57:42.548Z"
   },
   {
    "duration": 85,
    "start_time": "2024-10-17T11:57:46.168Z"
   },
   {
    "duration": 5,
    "start_time": "2024-10-17T11:57:48.250Z"
   },
   {
    "duration": 38,
    "start_time": "2024-10-17T11:57:49.281Z"
   },
   {
    "duration": 5,
    "start_time": "2024-10-17T11:57:52.233Z"
   },
   {
    "duration": 104,
    "start_time": "2024-10-17T11:57:53.481Z"
   },
   {
    "duration": 6,
    "start_time": "2024-10-17T11:57:55.922Z"
   },
   {
    "duration": 5,
    "start_time": "2024-10-17T11:57:56.377Z"
   },
   {
    "duration": 100,
    "start_time": "2024-10-17T11:57:56.689Z"
   },
   {
    "duration": 210,
    "start_time": "2024-10-17T11:57:57.401Z"
   },
   {
    "duration": 118,
    "start_time": "2024-10-17T11:58:00.343Z"
   },
   {
    "duration": 132,
    "start_time": "2024-10-17T11:58:01.333Z"
   },
   {
    "duration": 89,
    "start_time": "2024-10-17T11:58:01.854Z"
   },
   {
    "duration": 5,
    "start_time": "2024-10-17T11:58:04.744Z"
   },
   {
    "duration": 7,
    "start_time": "2024-10-17T11:58:06.719Z"
   },
   {
    "duration": 4,
    "start_time": "2024-10-17T11:58:07.076Z"
   },
   {
    "duration": 125,
    "start_time": "2024-10-17T11:58:11.272Z"
   },
   {
    "duration": 94,
    "start_time": "2024-10-17T11:58:12.157Z"
   },
   {
    "duration": 6,
    "start_time": "2024-10-17T11:58:15.092Z"
   },
   {
    "duration": 139,
    "start_time": "2024-10-17T11:58:15.977Z"
   },
   {
    "duration": 99,
    "start_time": "2024-10-17T11:58:18.684Z"
   },
   {
    "duration": 8,
    "start_time": "2024-10-17T11:58:25.732Z"
   },
   {
    "duration": 120,
    "start_time": "2024-10-17T11:58:26.183Z"
   },
   {
    "duration": 137,
    "start_time": "2024-10-17T11:58:29.144Z"
   },
   {
    "duration": 91,
    "start_time": "2024-10-17T11:58:31.872Z"
   },
   {
    "duration": 3,
    "start_time": "2024-10-17T11:58:32.656Z"
   },
   {
    "duration": 3,
    "start_time": "2024-10-17T11:58:33.161Z"
   },
   {
    "duration": 1200,
    "start_time": "2024-10-17T11:59:15.581Z"
   },
   {
    "duration": 102,
    "start_time": "2024-10-17T11:59:19.296Z"
   },
   {
    "duration": 5,
    "start_time": "2024-10-17T11:59:20.614Z"
   },
   {
    "duration": 16,
    "start_time": "2024-10-17T11:59:24.951Z"
   },
   {
    "duration": 2039,
    "start_time": "2024-10-17T11:59:30.152Z"
   },
   {
    "duration": 10,
    "start_time": "2024-10-17T11:59:40.791Z"
   },
   {
    "duration": 5,
    "start_time": "2024-10-17T11:59:47.418Z"
   },
   {
    "duration": 10,
    "start_time": "2024-10-17T12:00:07.712Z"
   },
   {
    "duration": 5,
    "start_time": "2024-10-17T12:00:11.528Z"
   },
   {
    "duration": 5,
    "start_time": "2024-10-17T12:00:12.384Z"
   },
   {
    "duration": 4,
    "start_time": "2024-10-17T12:00:17.821Z"
   },
   {
    "duration": 9,
    "start_time": "2024-10-17T12:00:18.969Z"
   },
   {
    "duration": 5,
    "start_time": "2024-10-17T12:00:19.369Z"
   },
   {
    "duration": 5,
    "start_time": "2024-10-17T12:00:24.515Z"
   },
   {
    "duration": 5,
    "start_time": "2024-10-17T12:33:06.179Z"
   },
   {
    "duration": 7,
    "start_time": "2024-10-17T12:33:56.725Z"
   },
   {
    "duration": 6,
    "start_time": "2024-10-17T12:34:40.374Z"
   },
   {
    "duration": 105,
    "start_time": "2024-10-17T12:34:56.721Z"
   },
   {
    "duration": 11,
    "start_time": "2024-10-17T12:35:07.947Z"
   },
   {
    "duration": 5,
    "start_time": "2024-10-17T12:35:51.354Z"
   },
   {
    "duration": 7,
    "start_time": "2024-10-17T12:36:21.761Z"
   },
   {
    "duration": 42,
    "start_time": "2024-10-17T12:36:39.693Z"
   },
   {
    "duration": 49,
    "start_time": "2024-10-17T12:36:54.159Z"
   },
   {
    "duration": 9,
    "start_time": "2024-10-17T12:41:39.086Z"
   },
   {
    "duration": 11,
    "start_time": "2024-10-17T12:41:59.761Z"
   },
   {
    "duration": 15,
    "start_time": "2024-10-17T12:42:25.957Z"
   },
   {
    "duration": 6,
    "start_time": "2024-10-17T12:42:30.391Z"
   },
   {
    "duration": 10,
    "start_time": "2024-10-17T12:42:47.965Z"
   },
   {
    "duration": 150,
    "start_time": "2024-10-17T12:43:46.928Z"
   },
   {
    "duration": 10,
    "start_time": "2024-10-17T12:44:51.569Z"
   },
   {
    "duration": 10,
    "start_time": "2024-10-17T12:52:15.855Z"
   },
   {
    "duration": 6,
    "start_time": "2024-10-17T12:52:37.521Z"
   },
   {
    "duration": 12,
    "start_time": "2024-10-17T12:52:50.005Z"
   },
   {
    "duration": 5,
    "start_time": "2024-10-17T12:56:14.467Z"
   },
   {
    "duration": 6,
    "start_time": "2024-10-17T13:01:00.094Z"
   },
   {
    "duration": 5,
    "start_time": "2024-10-17T13:01:09.425Z"
   },
   {
    "duration": 7,
    "start_time": "2024-10-17T13:03:38.296Z"
   },
   {
    "duration": 8,
    "start_time": "2024-10-17T13:03:56.371Z"
   },
   {
    "duration": 10,
    "start_time": "2024-10-17T13:04:21.535Z"
   },
   {
    "duration": 13,
    "start_time": "2024-10-17T13:10:51.511Z"
   },
   {
    "duration": 10,
    "start_time": "2024-10-17T13:12:46.458Z"
   },
   {
    "duration": 9,
    "start_time": "2024-10-17T13:13:06.923Z"
   },
   {
    "duration": 20,
    "start_time": "2024-10-17T13:17:13.837Z"
   },
   {
    "duration": 13,
    "start_time": "2024-10-17T13:17:45.810Z"
   },
   {
    "duration": 15,
    "start_time": "2024-10-17T13:18:40.162Z"
   },
   {
    "duration": 4,
    "start_time": "2024-10-17T13:20:41.582Z"
   },
   {
    "duration": 6,
    "start_time": "2024-10-17T13:22:35.980Z"
   },
   {
    "duration": 6,
    "start_time": "2024-10-17T13:22:40.996Z"
   },
   {
    "duration": 7,
    "start_time": "2024-10-17T13:22:49.882Z"
   },
   {
    "duration": 5,
    "start_time": "2024-10-17T13:22:58.788Z"
   },
   {
    "duration": 7,
    "start_time": "2024-10-17T13:23:10.227Z"
   },
   {
    "duration": 7,
    "start_time": "2024-10-17T13:23:45.643Z"
   },
   {
    "duration": 7,
    "start_time": "2024-10-17T13:23:52.916Z"
   },
   {
    "duration": 7,
    "start_time": "2024-10-17T13:23:54.431Z"
   },
   {
    "duration": 4,
    "start_time": "2024-10-17T13:25:31.655Z"
   },
   {
    "duration": 4,
    "start_time": "2024-10-17T13:25:42.154Z"
   },
   {
    "duration": 3,
    "start_time": "2024-10-17T13:25:45.543Z"
   },
   {
    "duration": 4,
    "start_time": "2024-10-17T13:25:46.468Z"
   },
   {
    "duration": 6,
    "start_time": "2024-10-17T13:27:38.391Z"
   },
   {
    "duration": 5,
    "start_time": "2024-10-17T13:27:42.186Z"
   },
   {
    "duration": 8,
    "start_time": "2024-10-17T13:27:51.530Z"
   },
   {
    "duration": 3,
    "start_time": "2024-10-17T13:28:00.146Z"
   },
   {
    "duration": 4,
    "start_time": "2024-10-17T13:28:01.259Z"
   },
   {
    "duration": 5,
    "start_time": "2024-10-17T13:29:06.245Z"
   },
   {
    "duration": 5,
    "start_time": "2024-10-17T13:29:09.584Z"
   },
   {
    "duration": 8,
    "start_time": "2024-10-17T13:30:28.173Z"
   },
   {
    "duration": 8,
    "start_time": "2024-10-17T13:30:51.819Z"
   },
   {
    "duration": 9,
    "start_time": "2024-10-17T13:31:17.102Z"
   },
   {
    "duration": 5,
    "start_time": "2024-10-17T13:34:19.530Z"
   },
   {
    "duration": 9,
    "start_time": "2024-10-17T13:34:23.930Z"
   },
   {
    "duration": 9,
    "start_time": "2024-10-17T13:35:08.199Z"
   },
   {
    "duration": 5,
    "start_time": "2024-10-17T13:35:14.831Z"
   },
   {
    "duration": 10,
    "start_time": "2024-10-17T13:35:20.943Z"
   },
   {
    "duration": 4,
    "start_time": "2024-10-17T13:35:22.914Z"
   },
   {
    "duration": 4,
    "start_time": "2024-10-17T13:35:52.383Z"
   },
   {
    "duration": 5,
    "start_time": "2024-10-17T13:36:26.935Z"
   },
   {
    "duration": 10,
    "start_time": "2024-10-17T13:36:56.542Z"
   },
   {
    "duration": 4,
    "start_time": "2024-10-17T13:37:03.222Z"
   },
   {
    "duration": 6,
    "start_time": "2024-10-17T13:37:04.141Z"
   },
   {
    "duration": 5,
    "start_time": "2024-10-17T13:37:08.118Z"
   },
   {
    "duration": 6,
    "start_time": "2024-10-17T14:01:44.401Z"
   },
   {
    "duration": 5,
    "start_time": "2024-10-17T14:01:55.219Z"
   },
   {
    "duration": 3,
    "start_time": "2024-10-17T14:03:41.464Z"
   },
   {
    "duration": 3,
    "start_time": "2024-10-17T14:04:04.132Z"
   },
   {
    "duration": 5,
    "start_time": "2024-10-17T14:04:04.744Z"
   },
   {
    "duration": 5,
    "start_time": "2024-10-17T14:04:05.791Z"
   },
   {
    "duration": 5,
    "start_time": "2024-10-17T14:04:10.906Z"
   },
   {
    "duration": 4,
    "start_time": "2024-10-17T14:04:12.238Z"
   },
   {
    "duration": 5,
    "start_time": "2024-10-17T14:04:14.091Z"
   },
   {
    "duration": 5,
    "start_time": "2024-10-17T14:04:20.787Z"
   },
   {
    "duration": 6,
    "start_time": "2024-10-17T14:04:28.818Z"
   },
   {
    "duration": 4,
    "start_time": "2024-10-17T14:04:53.057Z"
   },
   {
    "duration": 15,
    "start_time": "2024-10-17T14:06:02.927Z"
   },
   {
    "duration": 5,
    "start_time": "2024-10-17T14:06:15.263Z"
   },
   {
    "duration": 14,
    "start_time": "2024-10-17T14:06:22.795Z"
   },
   {
    "duration": 24,
    "start_time": "2024-10-17T14:06:27.419Z"
   },
   {
    "duration": 8,
    "start_time": "2024-10-17T14:06:30.575Z"
   },
   {
    "duration": 13,
    "start_time": "2024-10-17T14:06:41.602Z"
   },
   {
    "duration": 41,
    "start_time": "2024-10-17T14:06:47.195Z"
   },
   {
    "duration": 4,
    "start_time": "2024-10-17T14:06:51.451Z"
   },
   {
    "duration": 20,
    "start_time": "2024-10-17T14:07:06.984Z"
   },
   {
    "duration": 4,
    "start_time": "2024-10-17T14:07:14.844Z"
   },
   {
    "duration": 6,
    "start_time": "2024-10-17T14:07:18.676Z"
   },
   {
    "duration": 6,
    "start_time": "2024-10-17T14:07:19.707Z"
   },
   {
    "duration": 5,
    "start_time": "2024-10-17T14:07:21.839Z"
   },
   {
    "duration": 3,
    "start_time": "2024-10-17T14:07:32.131Z"
   },
   {
    "duration": 292,
    "start_time": "2024-10-17T14:07:34.004Z"
   },
   {
    "duration": 6,
    "start_time": "2024-10-17T14:07:36.967Z"
   },
   {
    "duration": 1340,
    "start_time": "2024-10-17T17:00:12.639Z"
   },
   {
    "duration": 181,
    "start_time": "2024-10-17T17:00:14.049Z"
   },
   {
    "duration": 5,
    "start_time": "2024-10-17T17:00:15.120Z"
   },
   {
    "duration": 17,
    "start_time": "2024-10-17T17:00:17.320Z"
   },
   {
    "duration": 1992,
    "start_time": "2024-10-17T17:00:18.639Z"
   },
   {
    "duration": 11,
    "start_time": "2024-10-17T17:00:20.634Z"
   },
   {
    "duration": 5,
    "start_time": "2024-10-17T17:00:20.647Z"
   },
   {
    "duration": 10,
    "start_time": "2024-10-17T17:00:21.427Z"
   },
   {
    "duration": 5,
    "start_time": "2024-10-17T17:00:21.806Z"
   },
   {
    "duration": 5,
    "start_time": "2024-10-17T17:00:21.975Z"
   },
   {
    "duration": 4,
    "start_time": "2024-10-17T17:00:25.109Z"
   },
   {
    "duration": 10,
    "start_time": "2024-10-17T17:00:25.711Z"
   },
   {
    "duration": 4,
    "start_time": "2024-10-17T17:00:25.952Z"
   },
   {
    "duration": 4,
    "start_time": "2024-10-17T17:00:27.984Z"
   },
   {
    "duration": 10,
    "start_time": "2024-10-17T17:00:31.449Z"
   },
   {
    "duration": 5,
    "start_time": "2024-10-17T17:00:32.258Z"
   },
   {
    "duration": 5,
    "start_time": "2024-10-17T17:00:32.647Z"
   },
   {
    "duration": 5,
    "start_time": "2024-10-17T17:00:34.871Z"
   },
   {
    "duration": 5,
    "start_time": "2024-10-17T17:00:39.379Z"
   },
   {
    "duration": 7,
    "start_time": "2024-10-17T17:00:39.607Z"
   },
   {
    "duration": 7,
    "start_time": "2024-10-17T17:00:40.586Z"
   },
   {
    "duration": 5,
    "start_time": "2024-10-17T17:00:40.981Z"
   },
   {
    "duration": 7,
    "start_time": "2024-10-17T17:00:41.475Z"
   },
   {
    "duration": 6,
    "start_time": "2024-10-17T17:00:41.932Z"
   },
   {
    "duration": 8,
    "start_time": "2024-10-17T17:00:42.491Z"
   },
   {
    "duration": 6,
    "start_time": "2024-10-17T17:00:42.627Z"
   },
   {
    "duration": 4,
    "start_time": "2024-10-17T17:00:50.319Z"
   },
   {
    "duration": 4,
    "start_time": "2024-10-17T17:00:50.624Z"
   },
   {
    "duration": 4,
    "start_time": "2024-10-17T17:00:50.820Z"
   },
   {
    "duration": 4,
    "start_time": "2024-10-17T17:00:51.185Z"
   },
   {
    "duration": 6,
    "start_time": "2024-10-17T17:00:52.095Z"
   },
   {
    "duration": 5,
    "start_time": "2024-10-17T17:00:53.251Z"
   },
   {
    "duration": 7,
    "start_time": "2024-10-17T17:00:56.895Z"
   },
   {
    "duration": 3,
    "start_time": "2024-10-17T17:01:03.859Z"
   },
   {
    "duration": 5,
    "start_time": "2024-10-17T17:01:04.226Z"
   },
   {
    "duration": 5,
    "start_time": "2024-10-17T17:01:04.667Z"
   },
   {
    "duration": 5,
    "start_time": "2024-10-17T17:01:07.777Z"
   },
   {
    "duration": 9,
    "start_time": "2024-10-17T17:01:14.964Z"
   },
   {
    "duration": 8,
    "start_time": "2024-10-17T17:01:21.371Z"
   },
   {
    "duration": 5,
    "start_time": "2024-10-17T17:01:22.323Z"
   },
   {
    "duration": 10,
    "start_time": "2024-10-17T17:01:24.115Z"
   },
   {
    "duration": 3,
    "start_time": "2024-10-17T17:01:25.123Z"
   },
   {
    "duration": 4,
    "start_time": "2024-10-17T17:01:25.381Z"
   },
   {
    "duration": 5,
    "start_time": "2024-10-17T17:01:26.131Z"
   },
   {
    "duration": 4,
    "start_time": "2024-10-17T17:01:28.189Z"
   },
   {
    "duration": 3,
    "start_time": "2024-10-17T17:01:32.059Z"
   },
   {
    "duration": 5,
    "start_time": "2024-10-17T17:01:32.436Z"
   },
   {
    "duration": 5,
    "start_time": "2024-10-17T17:01:35.987Z"
   },
   {
    "duration": 4,
    "start_time": "2024-10-17T17:01:42.224Z"
   },
   {
    "duration": 4,
    "start_time": "2024-10-17T17:01:44.647Z"
   },
   {
    "duration": 13,
    "start_time": "2024-10-17T17:01:52.791Z"
   },
   {
    "duration": 4,
    "start_time": "2024-10-17T17:01:54.427Z"
   },
   {
    "duration": 8,
    "start_time": "2024-10-17T17:01:57.875Z"
   },
   {
    "duration": 23,
    "start_time": "2024-10-17T17:02:02.109Z"
   },
   {
    "duration": 7,
    "start_time": "2024-10-17T17:02:03.897Z"
   },
   {
    "duration": 12,
    "start_time": "2024-10-17T17:02:06.067Z"
   },
   {
    "duration": 41,
    "start_time": "2024-10-17T17:02:06.767Z"
   },
   {
    "duration": 7,
    "start_time": "2024-10-17T17:02:07.275Z"
   },
   {
    "duration": 20,
    "start_time": "2024-10-17T17:02:13.104Z"
   },
   {
    "duration": 5,
    "start_time": "2024-10-17T17:02:20.301Z"
   },
   {
    "duration": 6,
    "start_time": "2024-10-17T17:02:20.797Z"
   },
   {
    "duration": 6,
    "start_time": "2024-10-17T17:02:21.156Z"
   },
   {
    "duration": 5,
    "start_time": "2024-10-17T17:02:21.348Z"
   },
   {
    "duration": 3,
    "start_time": "2024-10-17T17:02:22.187Z"
   },
   {
    "duration": 293,
    "start_time": "2024-10-17T17:02:22.677Z"
   },
   {
    "duration": 4,
    "start_time": "2024-10-17T17:02:23.627Z"
   },
   {
    "duration": 109,
    "start_time": "2024-10-17T17:02:28.527Z"
   },
   {
    "duration": 83,
    "start_time": "2024-10-17T17:02:40.671Z"
   },
   {
    "duration": 140,
    "start_time": "2024-10-17T17:03:07.683Z"
   },
   {
    "duration": 89,
    "start_time": "2024-10-17T17:06:23.940Z"
   },
   {
    "duration": 10,
    "start_time": "2024-10-17T17:08:01.544Z"
   },
   {
    "duration": 89,
    "start_time": "2024-10-17T17:17:28.815Z"
   },
   {
    "duration": 224,
    "start_time": "2024-10-17T17:17:35.210Z"
   },
   {
    "duration": 89,
    "start_time": "2024-10-17T17:17:55.584Z"
   },
   {
    "duration": 113,
    "start_time": "2024-10-17T17:18:05.764Z"
   },
   {
    "duration": 84,
    "start_time": "2024-10-17T17:18:40.367Z"
   },
   {
    "duration": 111,
    "start_time": "2024-10-17T17:19:27.317Z"
   },
   {
    "duration": 84,
    "start_time": "2024-10-17T17:19:35.929Z"
   },
   {
    "duration": 138,
    "start_time": "2024-10-17T17:20:00.007Z"
   },
   {
    "duration": 148,
    "start_time": "2024-10-17T17:20:17.745Z"
   },
   {
    "duration": 140,
    "start_time": "2024-10-17T17:20:36.536Z"
   },
   {
    "duration": 129,
    "start_time": "2024-10-17T17:20:42.159Z"
   },
   {
    "duration": 139,
    "start_time": "2024-10-17T17:20:51.492Z"
   },
   {
    "duration": 166,
    "start_time": "2024-10-17T17:20:57.693Z"
   },
   {
    "duration": 124,
    "start_time": "2024-10-17T17:21:08.516Z"
   },
   {
    "duration": 12,
    "start_time": "2024-10-17T17:25:14.499Z"
   },
   {
    "duration": 7,
    "start_time": "2024-10-17T17:25:27.521Z"
   },
   {
    "duration": 6,
    "start_time": "2024-10-17T17:25:49.505Z"
   },
   {
    "duration": 6,
    "start_time": "2024-10-17T17:26:03.208Z"
   },
   {
    "duration": 5,
    "start_time": "2024-10-17T17:26:44.368Z"
   },
   {
    "duration": 270,
    "start_time": "2024-10-17T17:28:05.236Z"
   },
   {
    "duration": 4,
    "start_time": "2024-10-17T17:28:28.000Z"
   },
   {
    "duration": 133,
    "start_time": "2024-10-17T17:28:39.697Z"
   },
   {
    "duration": 160,
    "start_time": "2024-10-17T17:29:05.413Z"
   },
   {
    "duration": 10,
    "start_time": "2024-10-17T17:29:29.126Z"
   },
   {
    "duration": 128,
    "start_time": "2024-10-17T17:29:38.060Z"
   },
   {
    "duration": 145,
    "start_time": "2024-10-17T17:29:53.270Z"
   },
   {
    "duration": 95,
    "start_time": "2024-10-17T17:30:45.493Z"
   },
   {
    "duration": 7,
    "start_time": "2024-10-17T17:31:41.186Z"
   },
   {
    "duration": 3,
    "start_time": "2024-10-17T17:31:51.577Z"
   },
   {
    "duration": 4,
    "start_time": "2024-10-17T17:33:13.004Z"
   },
   {
    "duration": 8,
    "start_time": "2024-10-17T17:33:16.055Z"
   },
   {
    "duration": 10,
    "start_time": "2024-10-17T17:33:17.118Z"
   },
   {
    "duration": 114,
    "start_time": "2024-10-17T17:33:38.921Z"
   },
   {
    "duration": 4,
    "start_time": "2024-10-17T17:34:17.571Z"
   },
   {
    "duration": 129,
    "start_time": "2024-10-17T17:34:29.926Z"
   },
   {
    "duration": 8,
    "start_time": "2024-10-17T17:36:11.807Z"
   },
   {
    "duration": 8,
    "start_time": "2024-10-17T17:38:07.331Z"
   },
   {
    "duration": 5,
    "start_time": "2024-10-17T17:38:15.915Z"
   },
   {
    "duration": 7,
    "start_time": "2024-10-17T17:38:22.105Z"
   },
   {
    "duration": 7,
    "start_time": "2024-10-17T17:38:41.539Z"
   },
   {
    "duration": 132,
    "start_time": "2024-10-17T17:39:06.675Z"
   },
   {
    "duration": 4,
    "start_time": "2024-10-17T17:39:24.164Z"
   },
   {
    "duration": 98,
    "start_time": "2024-10-17T17:39:39.966Z"
   },
   {
    "duration": 9,
    "start_time": "2024-10-17T17:40:21.097Z"
   },
   {
    "duration": 100,
    "start_time": "2024-10-17T17:41:53.631Z"
   },
   {
    "duration": 4,
    "start_time": "2024-10-17T17:41:55.781Z"
   },
   {
    "duration": 16,
    "start_time": "2024-10-17T17:41:56.329Z"
   },
   {
    "duration": 1932,
    "start_time": "2024-10-17T17:41:57.878Z"
   },
   {
    "duration": 10,
    "start_time": "2024-10-17T17:42:03.926Z"
   },
   {
    "duration": 5,
    "start_time": "2024-10-17T17:42:04.997Z"
   },
   {
    "duration": 9,
    "start_time": "2024-10-17T17:42:06.585Z"
   },
   {
    "duration": 4,
    "start_time": "2024-10-17T17:42:08.964Z"
   },
   {
    "duration": 5,
    "start_time": "2024-10-17T17:42:09.469Z"
   },
   {
    "duration": 5,
    "start_time": "2024-10-17T17:42:12.233Z"
   },
   {
    "duration": 8,
    "start_time": "2024-10-17T17:42:14.475Z"
   },
   {
    "duration": 5,
    "start_time": "2024-10-17T17:42:14.917Z"
   },
   {
    "duration": 5,
    "start_time": "2024-10-17T17:42:17.640Z"
   },
   {
    "duration": 13,
    "start_time": "2024-10-17T17:42:29.576Z"
   },
   {
    "duration": 5,
    "start_time": "2024-10-17T17:42:42.854Z"
   },
   {
    "duration": 5,
    "start_time": "2024-10-17T17:43:02.956Z"
   },
   {
    "duration": 4,
    "start_time": "2024-10-17T17:46:13.612Z"
   },
   {
    "duration": 16,
    "start_time": "2024-10-17T17:49:04.046Z"
   },
   {
    "duration": 4,
    "start_time": "2024-10-17T17:49:20.586Z"
   },
   {
    "duration": 5,
    "start_time": "2024-10-17T17:49:35.985Z"
   },
   {
    "duration": 4,
    "start_time": "2024-10-17T17:49:45.101Z"
   },
   {
    "duration": 92,
    "start_time": "2024-10-17T17:49:53.632Z"
   },
   {
    "duration": 4,
    "start_time": "2024-10-17T17:49:54.091Z"
   },
   {
    "duration": 15,
    "start_time": "2024-10-17T17:49:54.424Z"
   },
   {
    "duration": 1802,
    "start_time": "2024-10-17T17:49:54.892Z"
   },
   {
    "duration": 9,
    "start_time": "2024-10-17T17:49:56.696Z"
   },
   {
    "duration": 13,
    "start_time": "2024-10-17T17:49:56.706Z"
   },
   {
    "duration": 9,
    "start_time": "2024-10-17T17:49:56.720Z"
   },
   {
    "duration": 5,
    "start_time": "2024-10-17T17:49:57.265Z"
   },
   {
    "duration": 4,
    "start_time": "2024-10-17T17:49:57.792Z"
   },
   {
    "duration": 5,
    "start_time": "2024-10-17T17:49:58.504Z"
   },
   {
    "duration": 6,
    "start_time": "2024-10-17T17:49:59.319Z"
   },
   {
    "duration": 5,
    "start_time": "2024-10-17T17:50:00.525Z"
   },
   {
    "duration": 4,
    "start_time": "2024-10-17T17:50:01.992Z"
   },
   {
    "duration": 10,
    "start_time": "2024-10-17T17:50:03.415Z"
   },
   {
    "duration": 4,
    "start_time": "2024-10-17T17:50:05.801Z"
   },
   {
    "duration": 3,
    "start_time": "2024-10-17T17:50:06.137Z"
   },
   {
    "duration": 5,
    "start_time": "2024-10-17T17:50:06.434Z"
   },
   {
    "duration": 5,
    "start_time": "2024-10-17T17:50:06.690Z"
   },
   {
    "duration": 5,
    "start_time": "2024-10-17T17:50:08.573Z"
   },
   {
    "duration": 6,
    "start_time": "2024-10-17T17:50:12.401Z"
   },
   {
    "duration": 7,
    "start_time": "2024-10-17T17:50:33.185Z"
   },
   {
    "duration": 5,
    "start_time": "2024-10-17T17:50:34.767Z"
   },
   {
    "duration": 4,
    "start_time": "2024-10-17T17:50:36.720Z"
   },
   {
    "duration": 8,
    "start_time": "2024-10-17T17:50:37.720Z"
   },
   {
    "duration": 7,
    "start_time": "2024-10-17T17:50:38.312Z"
   },
   {
    "duration": 7,
    "start_time": "2024-10-17T17:50:41.204Z"
   },
   {
    "duration": 7,
    "start_time": "2024-10-17T17:50:41.752Z"
   },
   {
    "duration": 4,
    "start_time": "2024-10-17T17:50:46.129Z"
   },
   {
    "duration": 5,
    "start_time": "2024-10-17T17:50:46.648Z"
   },
   {
    "duration": 4,
    "start_time": "2024-10-17T17:50:47.356Z"
   },
   {
    "duration": 7,
    "start_time": "2024-10-17T17:50:57.639Z"
   },
   {
    "duration": 5,
    "start_time": "2024-10-17T17:51:09.185Z"
   },
   {
    "duration": 6,
    "start_time": "2024-10-17T17:51:22.599Z"
   },
   {
    "duration": 4,
    "start_time": "2024-10-17T17:51:30.890Z"
   },
   {
    "duration": 1431,
    "start_time": "2024-10-18T03:45:14.079Z"
   },
   {
    "duration": 169,
    "start_time": "2024-10-18T03:45:17.093Z"
   },
   {
    "duration": 5,
    "start_time": "2024-10-18T03:45:18.022Z"
   },
   {
    "duration": 17,
    "start_time": "2024-10-18T03:45:19.625Z"
   },
   {
    "duration": 2086,
    "start_time": "2024-10-18T03:45:29.874Z"
   },
   {
    "duration": 10,
    "start_time": "2024-10-18T03:45:42.409Z"
   },
   {
    "duration": 5,
    "start_time": "2024-10-18T03:53:47.200Z"
   },
   {
    "duration": 12,
    "start_time": "2024-10-18T03:54:00.076Z"
   },
   {
    "duration": 6,
    "start_time": "2024-10-18T03:54:01.960Z"
   },
   {
    "duration": 5,
    "start_time": "2024-10-18T03:54:04.585Z"
   },
   {
    "duration": 5,
    "start_time": "2024-10-18T03:54:30.340Z"
   },
   {
    "duration": 10,
    "start_time": "2024-10-18T03:54:33.656Z"
   },
   {
    "duration": 6,
    "start_time": "2024-10-18T03:54:34.005Z"
   },
   {
    "duration": 4,
    "start_time": "2024-10-18T03:54:46.537Z"
   },
   {
    "duration": 10,
    "start_time": "2024-10-18T03:54:49.588Z"
   },
   {
    "duration": 5,
    "start_time": "2024-10-18T03:55:33.752Z"
   },
   {
    "duration": 4,
    "start_time": "2024-10-18T03:55:38.995Z"
   },
   {
    "duration": 7,
    "start_time": "2024-10-18T03:55:40.416Z"
   },
   {
    "duration": 7,
    "start_time": "2024-10-18T03:55:41.569Z"
   },
   {
    "duration": 6,
    "start_time": "2024-10-18T03:55:45.000Z"
   },
   {
    "duration": 101,
    "start_time": "2024-10-18T03:56:46.676Z"
   },
   {
    "duration": 4,
    "start_time": "2024-10-18T03:56:47.684Z"
   },
   {
    "duration": 16,
    "start_time": "2024-10-18T03:56:48.776Z"
   },
   {
    "duration": 2010,
    "start_time": "2024-10-18T03:56:50.146Z"
   },
   {
    "duration": 12,
    "start_time": "2024-10-18T03:56:52.254Z"
   },
   {
    "duration": 5,
    "start_time": "2024-10-18T03:56:53.959Z"
   },
   {
    "duration": 11,
    "start_time": "2024-10-18T03:56:54.512Z"
   },
   {
    "duration": 5,
    "start_time": "2024-10-18T03:56:55.347Z"
   },
   {
    "duration": 6,
    "start_time": "2024-10-18T03:56:56.076Z"
   },
   {
    "duration": 5,
    "start_time": "2024-10-18T03:56:59.839Z"
   },
   {
    "duration": 8,
    "start_time": "2024-10-18T03:57:00.751Z"
   },
   {
    "duration": 5,
    "start_time": "2024-10-18T03:57:01.168Z"
   },
   {
    "duration": 5,
    "start_time": "2024-10-18T03:57:02.487Z"
   },
   {
    "duration": 11,
    "start_time": "2024-10-18T03:57:04.559Z"
   },
   {
    "duration": 5,
    "start_time": "2024-10-18T03:57:07.307Z"
   },
   {
    "duration": 3,
    "start_time": "2024-10-18T03:57:07.833Z"
   },
   {
    "duration": 7,
    "start_time": "2024-10-18T03:57:08.379Z"
   },
   {
    "duration": 5,
    "start_time": "2024-10-18T03:57:16.660Z"
   },
   {
    "duration": 6,
    "start_time": "2024-10-18T03:57:34.891Z"
   },
   {
    "duration": 8,
    "start_time": "2024-10-18T03:57:35.415Z"
   },
   {
    "duration": 7,
    "start_time": "2024-10-18T03:57:39.087Z"
   },
   {
    "duration": 6,
    "start_time": "2024-10-18T03:57:41.139Z"
   },
   {
    "duration": 8,
    "start_time": "2024-10-18T03:57:46.115Z"
   },
   {
    "duration": 6,
    "start_time": "2024-10-18T03:57:46.825Z"
   },
   {
    "duration": 9,
    "start_time": "2024-10-18T03:57:50.547Z"
   },
   {
    "duration": 7,
    "start_time": "2024-10-18T03:57:51.312Z"
   },
   {
    "duration": 4,
    "start_time": "2024-10-18T03:57:58.100Z"
   },
   {
    "duration": 4,
    "start_time": "2024-10-18T03:57:58.668Z"
   },
   {
    "duration": 3,
    "start_time": "2024-10-18T03:57:59.385Z"
   },
   {
    "duration": 5,
    "start_time": "2024-10-18T03:58:00.148Z"
   },
   {
    "duration": 6,
    "start_time": "2024-10-18T03:58:21.170Z"
   },
   {
    "duration": 5,
    "start_time": "2024-10-18T03:59:06.204Z"
   },
   {
    "duration": 6,
    "start_time": "2024-10-18T03:59:14.139Z"
   },
   {
    "duration": 5,
    "start_time": "2024-10-18T03:59:19.027Z"
   },
   {
    "duration": 8,
    "start_time": "2024-10-18T03:59:20.191Z"
   },
   {
    "duration": 5,
    "start_time": "2024-10-18T03:59:23.767Z"
   },
   {
    "duration": 5,
    "start_time": "2024-10-18T03:59:24.195Z"
   },
   {
    "duration": 4,
    "start_time": "2024-10-18T03:59:25.348Z"
   },
   {
    "duration": 5,
    "start_time": "2024-10-18T03:59:26.834Z"
   },
   {
    "duration": 8,
    "start_time": "2024-10-18T03:59:27.910Z"
   },
   {
    "duration": 7,
    "start_time": "2024-10-18T03:59:28.924Z"
   },
   {
    "duration": 6,
    "start_time": "2024-10-18T03:59:31.781Z"
   },
   {
    "duration": 10,
    "start_time": "2024-10-18T03:59:32.284Z"
   },
   {
    "duration": 3,
    "start_time": "2024-10-18T03:59:35.380Z"
   },
   {
    "duration": 5,
    "start_time": "2024-10-18T03:59:35.851Z"
   },
   {
    "duration": 5,
    "start_time": "2024-10-18T03:59:39.122Z"
   },
   {
    "duration": 4,
    "start_time": "2024-10-18T04:00:48.256Z"
   },
   {
    "duration": 3,
    "start_time": "2024-10-18T04:00:50.375Z"
   },
   {
    "duration": 5,
    "start_time": "2024-10-18T04:00:50.816Z"
   },
   {
    "duration": 5,
    "start_time": "2024-10-18T04:00:54.487Z"
   },
   {
    "duration": 5,
    "start_time": "2024-10-18T04:01:01.927Z"
   },
   {
    "duration": 4,
    "start_time": "2024-10-18T04:01:05.523Z"
   },
   {
    "duration": 15,
    "start_time": "2024-10-18T04:01:08.974Z"
   },
   {
    "duration": 5,
    "start_time": "2024-10-18T04:01:10.883Z"
   },
   {
    "duration": 9,
    "start_time": "2024-10-18T04:01:12.082Z"
   },
   {
    "duration": 25,
    "start_time": "2024-10-18T04:02:04.018Z"
   },
   {
    "duration": 8,
    "start_time": "2024-10-18T04:02:16.611Z"
   },
   {
    "duration": 12,
    "start_time": "2024-10-18T04:02:18.895Z"
   },
   {
    "duration": 44,
    "start_time": "2024-10-18T04:02:20.536Z"
   },
   {
    "duration": 4,
    "start_time": "2024-10-18T04:02:21.139Z"
   },
   {
    "duration": 21,
    "start_time": "2024-10-18T04:02:25.406Z"
   },
   {
    "duration": 5,
    "start_time": "2024-10-18T04:06:26.939Z"
   },
   {
    "duration": 6,
    "start_time": "2024-10-18T04:06:28.127Z"
   },
   {
    "duration": 5,
    "start_time": "2024-10-18T04:06:28.512Z"
   },
   {
    "duration": 5,
    "start_time": "2024-10-18T04:06:28.772Z"
   },
   {
    "duration": 3,
    "start_time": "2024-10-18T04:06:30.274Z"
   },
   {
    "duration": 474,
    "start_time": "2024-10-18T04:06:33.395Z"
   },
   {
    "duration": 4,
    "start_time": "2024-10-18T04:06:38.681Z"
   },
   {
    "duration": 119,
    "start_time": "2024-10-18T04:06:48.630Z"
   },
   {
    "duration": 88,
    "start_time": "2024-10-18T04:06:59.434Z"
   },
   {
    "duration": 142,
    "start_time": "2024-10-18T04:07:11.309Z"
   },
   {
    "duration": 8,
    "start_time": "2024-10-18T04:07:16.126Z"
   },
   {
    "duration": 142,
    "start_time": "2024-10-18T04:07:18.455Z"
   },
   {
    "duration": 171,
    "start_time": "2024-10-18T04:07:26.750Z"
   },
   {
    "duration": 100,
    "start_time": "2024-10-18T04:08:53.838Z"
   },
   {
    "duration": 5,
    "start_time": "2024-10-18T04:09:19.931Z"
   },
   {
    "duration": 9,
    "start_time": "2024-10-18T04:09:21.387Z"
   },
   {
    "duration": 129,
    "start_time": "2024-10-18T04:09:40.155Z"
   },
   {
    "duration": 91,
    "start_time": "2024-10-18T04:09:46.577Z"
   },
   {
    "duration": 20,
    "start_time": "2024-10-18T04:10:44.372Z"
   },
   {
    "duration": 7,
    "start_time": "2024-10-18T04:15:29.646Z"
   },
   {
    "duration": 155,
    "start_time": "2024-10-18T04:15:32.158Z"
   },
   {
    "duration": 214,
    "start_time": "2024-10-18T04:16:03.175Z"
   },
   {
    "duration": 98,
    "start_time": "2024-10-18T04:16:12.206Z"
   },
   {
    "duration": 132,
    "start_time": "2024-10-18T04:16:19.146Z"
   },
   {
    "duration": 170,
    "start_time": "2024-10-18T04:16:21.501Z"
   },
   {
    "duration": 6,
    "start_time": "2024-10-18T04:16:32.941Z"
   },
   {
    "duration": 6,
    "start_time": "2024-10-18T04:16:33.782Z"
   },
   {
    "duration": 6,
    "start_time": "2024-10-18T04:17:14.425Z"
   },
   {
    "duration": 4,
    "start_time": "2024-10-18T04:17:15.253Z"
   },
   {
    "duration": 154,
    "start_time": "2024-10-18T04:17:23.953Z"
   },
   {
    "duration": 119,
    "start_time": "2024-10-18T04:17:34.974Z"
   },
   {
    "duration": 6,
    "start_time": "2024-10-18T04:17:42.802Z"
   },
   {
    "duration": 7,
    "start_time": "2024-10-18T04:17:59.029Z"
   },
   {
    "duration": 129,
    "start_time": "2024-10-18T04:18:02.825Z"
   },
   {
    "duration": 98,
    "start_time": "2024-10-18T04:18:06.241Z"
   },
   {
    "duration": 6,
    "start_time": "2024-10-18T04:18:14.629Z"
   },
   {
    "duration": 41,
    "start_time": "2024-10-18T04:18:25.970Z"
   },
   {
    "duration": 5,
    "start_time": "2024-10-18T04:26:11.810Z"
   },
   {
    "duration": 103,
    "start_time": "2024-10-18T04:26:13.438Z"
   },
   {
    "duration": 8,
    "start_time": "2024-10-18T04:27:06.095Z"
   },
   {
    "duration": 6,
    "start_time": "2024-10-18T04:27:12.936Z"
   },
   {
    "duration": 115,
    "start_time": "2024-10-18T04:27:14.421Z"
   },
   {
    "duration": 142,
    "start_time": "2024-10-18T04:29:52.872Z"
   },
   {
    "duration": 150,
    "start_time": "2024-10-18T04:29:57.515Z"
   },
   {
    "duration": 155,
    "start_time": "2024-10-18T04:30:08.339Z"
   },
   {
    "duration": 183,
    "start_time": "2024-10-18T04:30:23.102Z"
   },
   {
    "duration": 5,
    "start_time": "2024-10-18T04:30:29.720Z"
   },
   {
    "duration": 7,
    "start_time": "2024-10-18T04:30:35.259Z"
   },
   {
    "duration": 4,
    "start_time": "2024-10-18T04:30:36.488Z"
   },
   {
    "duration": 137,
    "start_time": "2024-10-18T04:30:42.085Z"
   },
   {
    "duration": 103,
    "start_time": "2024-10-18T04:30:43.656Z"
   },
   {
    "duration": 7,
    "start_time": "2024-10-18T04:30:50.551Z"
   },
   {
    "duration": 148,
    "start_time": "2024-10-18T04:30:54.375Z"
   },
   {
    "duration": 104,
    "start_time": "2024-10-18T04:31:03.363Z"
   },
   {
    "duration": 10,
    "start_time": "2024-10-18T04:32:19.377Z"
   },
   {
    "duration": 137,
    "start_time": "2024-10-18T04:32:20.235Z"
   },
   {
    "duration": 139,
    "start_time": "2024-10-18T04:32:47.841Z"
   },
   {
    "duration": 99,
    "start_time": "2024-10-18T04:33:01.916Z"
   },
   {
    "duration": 4,
    "start_time": "2024-10-18T04:33:13.643Z"
   },
   {
    "duration": 1234,
    "start_time": "2024-10-18T07:43:46.329Z"
   },
   {
    "duration": 104,
    "start_time": "2024-10-18T07:43:52.399Z"
   },
   {
    "duration": 6,
    "start_time": "2024-10-18T07:44:37.517Z"
   },
   {
    "duration": 24,
    "start_time": "2024-10-18T07:44:40.149Z"
   },
   {
    "duration": 2235,
    "start_time": "2024-10-18T07:44:45.797Z"
   },
   {
    "duration": 15,
    "start_time": "2024-10-18T07:44:52.968Z"
   },
   {
    "duration": 5,
    "start_time": "2024-10-18T07:44:55.505Z"
   },
   {
    "duration": 13,
    "start_time": "2024-10-18T07:44:56.823Z"
   },
   {
    "duration": 5,
    "start_time": "2024-10-18T07:45:00.259Z"
   },
   {
    "duration": 5,
    "start_time": "2024-10-18T07:45:00.664Z"
   },
   {
    "duration": 5,
    "start_time": "2024-10-18T07:45:03.499Z"
   },
   {
    "duration": 9,
    "start_time": "2024-10-18T07:45:04.488Z"
   },
   {
    "duration": 5,
    "start_time": "2024-10-18T07:45:06.304Z"
   },
   {
    "duration": 5,
    "start_time": "2024-10-18T07:47:20.639Z"
   },
   {
    "duration": 12,
    "start_time": "2024-10-18T07:47:24.536Z"
   },
   {
    "duration": 5,
    "start_time": "2024-10-18T07:47:41.397Z"
   },
   {
    "duration": 4,
    "start_time": "2024-10-18T07:47:53.569Z"
   },
   {
    "duration": 6,
    "start_time": "2024-10-18T07:47:54.593Z"
   },
   {
    "duration": 5,
    "start_time": "2024-10-18T07:47:55.188Z"
   },
   {
    "duration": 6,
    "start_time": "2024-10-18T07:49:02.324Z"
   },
   {
    "duration": 7,
    "start_time": "2024-10-18T07:49:04.120Z"
   },
   {
    "duration": 7,
    "start_time": "2024-10-18T07:49:19.746Z"
   },
   {
    "duration": 5,
    "start_time": "2024-10-18T07:49:23.047Z"
   },
   {
    "duration": 8,
    "start_time": "2024-10-18T07:49:25.696Z"
   },
   {
    "duration": 6,
    "start_time": "2024-10-18T07:49:26.432Z"
   },
   {
    "duration": 7,
    "start_time": "2024-10-18T07:49:40.735Z"
   },
   {
    "duration": 6,
    "start_time": "2024-10-18T07:49:41.863Z"
   },
   {
    "duration": 4,
    "start_time": "2024-10-18T07:50:28.277Z"
   },
   {
    "duration": 6,
    "start_time": "2024-10-18T07:50:32.913Z"
   },
   {
    "duration": 6,
    "start_time": "2024-10-18T07:50:36.200Z"
   },
   {
    "duration": 9,
    "start_time": "2024-10-18T08:34:02.384Z"
   },
   {
    "duration": 8,
    "start_time": "2024-10-18T08:34:02.679Z"
   },
   {
    "duration": 6,
    "start_time": "2024-10-18T08:34:05.177Z"
   },
   {
    "duration": 9,
    "start_time": "2024-10-18T08:34:05.950Z"
   },
   {
    "duration": 4,
    "start_time": "2024-10-18T08:34:08.373Z"
   },
   {
    "duration": 5,
    "start_time": "2024-10-18T08:34:08.828Z"
   },
   {
    "duration": 5,
    "start_time": "2024-10-18T08:34:09.724Z"
   },
   {
    "duration": 4,
    "start_time": "2024-10-18T08:34:11.317Z"
   },
   {
    "duration": 8,
    "start_time": "2024-10-18T08:34:12.205Z"
   },
   {
    "duration": 8,
    "start_time": "2024-10-18T08:34:12.789Z"
   },
   {
    "duration": 5,
    "start_time": "2024-10-18T08:34:13.217Z"
   },
   {
    "duration": 12,
    "start_time": "2024-10-18T08:34:13.598Z"
   },
   {
    "duration": 3,
    "start_time": "2024-10-18T08:34:14.325Z"
   },
   {
    "duration": 5,
    "start_time": "2024-10-18T08:34:14.778Z"
   },
   {
    "duration": 5,
    "start_time": "2024-10-18T08:34:15.461Z"
   },
   {
    "duration": 5,
    "start_time": "2024-10-18T08:34:16.542Z"
   },
   {
    "duration": 4,
    "start_time": "2024-10-18T08:34:20.021Z"
   },
   {
    "duration": 5,
    "start_time": "2024-10-18T08:34:20.277Z"
   },
   {
    "duration": 5,
    "start_time": "2024-10-18T08:34:20.781Z"
   },
   {
    "duration": 6,
    "start_time": "2024-10-18T08:34:22.189Z"
   },
   {
    "duration": 4,
    "start_time": "2024-10-18T08:34:29.037Z"
   },
   {
    "duration": 103,
    "start_time": "2024-10-18T08:34:45.996Z"
   },
   {
    "duration": 4,
    "start_time": "2024-10-18T08:34:54.546Z"
   },
   {
    "duration": 16,
    "start_time": "2024-10-18T08:34:57.857Z"
   },
   {
    "duration": 2068,
    "start_time": "2024-10-18T08:34:58.682Z"
   },
   {
    "duration": 14,
    "start_time": "2024-10-18T08:35:00.753Z"
   },
   {
    "duration": 6,
    "start_time": "2024-10-18T08:35:01.630Z"
   },
   {
    "duration": 11,
    "start_time": "2024-10-18T08:35:03.437Z"
   },
   {
    "duration": 5,
    "start_time": "2024-10-18T08:35:31.656Z"
   },
   {
    "duration": 4,
    "start_time": "2024-10-18T08:35:32.339Z"
   },
   {
    "duration": 5,
    "start_time": "2024-10-18T08:35:33.858Z"
   },
   {
    "duration": 10,
    "start_time": "2024-10-18T08:35:34.864Z"
   },
   {
    "duration": 5,
    "start_time": "2024-10-18T08:35:35.154Z"
   },
   {
    "duration": 5,
    "start_time": "2024-10-18T08:35:35.800Z"
   },
   {
    "duration": 19,
    "start_time": "2024-10-18T08:35:36.893Z"
   },
   {
    "duration": 4,
    "start_time": "2024-10-18T08:35:37.422Z"
   },
   {
    "duration": 4,
    "start_time": "2024-10-18T08:35:38.714Z"
   },
   {
    "duration": 6,
    "start_time": "2024-10-18T08:35:39.078Z"
   },
   {
    "duration": 6,
    "start_time": "2024-10-18T08:35:39.510Z"
   },
   {
    "duration": 8,
    "start_time": "2024-10-18T08:37:38.006Z"
   },
   {
    "duration": 5,
    "start_time": "2024-10-18T08:37:47.026Z"
   },
   {
    "duration": 5,
    "start_time": "2024-10-18T08:37:56.220Z"
   },
   {
    "duration": 7,
    "start_time": "2024-10-18T08:37:58.646Z"
   },
   {
    "duration": 6,
    "start_time": "2024-10-18T08:38:07.614Z"
   },
   {
    "duration": 5,
    "start_time": "2024-10-18T08:38:10.769Z"
   },
   {
    "duration": 8,
    "start_time": "2024-10-18T08:38:14.893Z"
   },
   {
    "duration": 6,
    "start_time": "2024-10-18T08:38:16.005Z"
   },
   {
    "duration": 8,
    "start_time": "2024-10-18T08:38:17.844Z"
   },
   {
    "duration": 8,
    "start_time": "2024-10-18T08:38:18.742Z"
   },
   {
    "duration": 4,
    "start_time": "2024-10-18T08:38:22.745Z"
   },
   {
    "duration": 4,
    "start_time": "2024-10-18T08:38:23.606Z"
   },
   {
    "duration": 3,
    "start_time": "2024-10-18T08:38:24.037Z"
   },
   {
    "duration": 5,
    "start_time": "2024-10-18T08:38:31.338Z"
   },
   {
    "duration": 5,
    "start_time": "2024-10-18T08:39:00.599Z"
   },
   {
    "duration": 8,
    "start_time": "2024-10-18T08:39:04.029Z"
   },
   {
    "duration": 4,
    "start_time": "2024-10-18T08:39:07.529Z"
   },
   {
    "duration": 5,
    "start_time": "2024-10-18T08:39:08.026Z"
   },
   {
    "duration": 6,
    "start_time": "2024-10-18T08:39:11.765Z"
   },
   {
    "duration": 5,
    "start_time": "2024-10-18T08:39:16.551Z"
   },
   {
    "duration": 10,
    "start_time": "2024-10-18T08:39:18.912Z"
   },
   {
    "duration": 7,
    "start_time": "2024-10-18T08:39:30.890Z"
   },
   {
    "duration": 5,
    "start_time": "2024-10-18T08:39:35.673Z"
   },
   {
    "duration": 11,
    "start_time": "2024-10-18T08:39:38.385Z"
   },
   {
    "duration": 5,
    "start_time": "2024-10-18T08:40:06.197Z"
   },
   {
    "duration": 5,
    "start_time": "2024-10-18T08:40:06.614Z"
   },
   {
    "duration": 5,
    "start_time": "2024-10-18T08:40:28.066Z"
   },
   {
    "duration": 5,
    "start_time": "2024-10-18T08:40:31.259Z"
   },
   {
    "duration": 4,
    "start_time": "2024-10-18T08:40:41.400Z"
   },
   {
    "duration": 5,
    "start_time": "2024-10-18T08:40:43.269Z"
   },
   {
    "duration": 5,
    "start_time": "2024-10-18T08:40:47.306Z"
   },
   {
    "duration": 6,
    "start_time": "2024-10-18T08:40:52.908Z"
   },
   {
    "duration": 4,
    "start_time": "2024-10-18T08:41:05.216Z"
   },
   {
    "duration": 16,
    "start_time": "2024-10-18T08:41:35.633Z"
   },
   {
    "duration": 5,
    "start_time": "2024-10-18T08:41:39.182Z"
   },
   {
    "duration": 8,
    "start_time": "2024-10-18T08:41:41.109Z"
   },
   {
    "duration": 31,
    "start_time": "2024-10-18T08:41:57.753Z"
   },
   {
    "duration": 9,
    "start_time": "2024-10-18T08:42:03.640Z"
   },
   {
    "duration": 12,
    "start_time": "2024-10-18T08:42:08.183Z"
   },
   {
    "duration": 43,
    "start_time": "2024-10-18T08:42:11.572Z"
   },
   {
    "duration": 5,
    "start_time": "2024-10-18T08:42:14.913Z"
   },
   {
    "duration": 22,
    "start_time": "2024-10-18T08:42:29.433Z"
   },
   {
    "duration": 5,
    "start_time": "2024-10-18T08:42:31.237Z"
   },
   {
    "duration": 6,
    "start_time": "2024-10-18T08:42:44.097Z"
   },
   {
    "duration": 6,
    "start_time": "2024-10-18T08:42:44.696Z"
   },
   {
    "duration": 7,
    "start_time": "2024-10-18T08:42:45.214Z"
   },
   {
    "duration": 3,
    "start_time": "2024-10-18T08:42:47.428Z"
   },
   {
    "duration": 283,
    "start_time": "2024-10-18T08:42:59.188Z"
   },
   {
    "duration": 5,
    "start_time": "2024-10-18T08:43:16.464Z"
   },
   {
    "duration": 143,
    "start_time": "2024-10-18T08:43:27.490Z"
   },
   {
    "duration": 93,
    "start_time": "2024-10-18T08:43:35.585Z"
   },
   {
    "duration": 154,
    "start_time": "2024-10-18T08:43:47.687Z"
   },
   {
    "duration": 8,
    "start_time": "2024-10-18T08:44:18.777Z"
   },
   {
    "duration": 162,
    "start_time": "2024-10-18T08:44:23.289Z"
   },
   {
    "duration": 174,
    "start_time": "2024-10-18T08:44:39.702Z"
   },
   {
    "duration": 133,
    "start_time": "2024-10-18T08:44:42.799Z"
   },
   {
    "duration": 7,
    "start_time": "2024-10-18T08:44:57.062Z"
   },
   {
    "duration": 156,
    "start_time": "2024-10-18T08:44:58.413Z"
   },
   {
    "duration": 97,
    "start_time": "2024-10-18T08:45:38.931Z"
   },
   {
    "duration": 19,
    "start_time": "2024-10-18T08:45:48.937Z"
   },
   {
    "duration": 7,
    "start_time": "2024-10-18T08:46:14.063Z"
   },
   {
    "duration": 157,
    "start_time": "2024-10-18T08:46:14.905Z"
   },
   {
    "duration": 431,
    "start_time": "2024-10-18T08:46:21.761Z"
   },
   {
    "duration": 110,
    "start_time": "2024-10-18T08:46:27.426Z"
   },
   {
    "duration": 142,
    "start_time": "2024-10-18T08:46:32.992Z"
   },
   {
    "duration": 182,
    "start_time": "2024-10-18T08:46:36.105Z"
   },
   {
    "duration": 8,
    "start_time": "2024-10-18T08:46:41.595Z"
   },
   {
    "duration": 7,
    "start_time": "2024-10-18T08:46:42.432Z"
   },
   {
    "duration": 7,
    "start_time": "2024-10-18T08:47:07.889Z"
   },
   {
    "duration": 4,
    "start_time": "2024-10-18T08:47:09.451Z"
   },
   {
    "duration": 157,
    "start_time": "2024-10-18T08:47:20.247Z"
   },
   {
    "duration": 103,
    "start_time": "2024-10-18T08:47:31.013Z"
   },
   {
    "duration": 175,
    "start_time": "2024-10-18T08:48:26.791Z"
   },
   {
    "duration": 102,
    "start_time": "2024-10-18T08:48:31.496Z"
   },
   {
    "duration": 6,
    "start_time": "2024-10-18T08:48:37.307Z"
   },
   {
    "duration": 41,
    "start_time": "2024-10-18T08:48:40.272Z"
   },
   {
    "duration": 7,
    "start_time": "2024-10-18T08:48:55.955Z"
   },
   {
    "duration": 119,
    "start_time": "2024-10-18T08:48:56.913Z"
   },
   {
    "duration": 5,
    "start_time": "2024-10-18T08:51:28.451Z"
   },
   {
    "duration": 7,
    "start_time": "2024-10-18T08:51:33.900Z"
   },
   {
    "duration": 107,
    "start_time": "2024-10-18T08:51:35.347Z"
   },
   {
    "duration": 149,
    "start_time": "2024-10-18T08:51:46.251Z"
   },
   {
    "duration": 121,
    "start_time": "2024-10-18T08:51:58.664Z"
   },
   {
    "duration": 149,
    "start_time": "2024-10-18T08:52:03.651Z"
   },
   {
    "duration": 109,
    "start_time": "2024-10-18T08:52:10.667Z"
   },
   {
    "duration": 7,
    "start_time": "2024-10-18T08:52:36.397Z"
   },
   {
    "duration": 8,
    "start_time": "2024-10-18T08:52:58.815Z"
   },
   {
    "duration": 5,
    "start_time": "2024-10-18T08:52:59.438Z"
   },
   {
    "duration": 146,
    "start_time": "2024-10-18T08:53:13.305Z"
   },
   {
    "duration": 105,
    "start_time": "2024-10-18T08:53:16.452Z"
   },
   {
    "duration": 7,
    "start_time": "2024-10-18T08:53:26.843Z"
   },
   {
    "duration": 163,
    "start_time": "2024-10-18T08:53:36.487Z"
   },
   {
    "duration": 102,
    "start_time": "2024-10-18T08:53:42.763Z"
   },
   {
    "duration": 8,
    "start_time": "2024-10-18T08:53:48.971Z"
   },
   {
    "duration": 130,
    "start_time": "2024-10-18T08:53:49.572Z"
   },
   {
    "duration": 140,
    "start_time": "2024-10-18T08:55:35.356Z"
   },
   {
    "duration": 99,
    "start_time": "2024-10-18T08:55:42.988Z"
   },
   {
    "duration": 5,
    "start_time": "2024-10-18T08:55:51.899Z"
   },
   {
    "duration": 42,
    "start_time": "2024-10-18T08:56:14.295Z"
   },
   {
    "duration": 4,
    "start_time": "2024-10-18T08:56:46.327Z"
   },
   {
    "duration": 163,
    "start_time": "2024-10-18T09:04:11.615Z"
   },
   {
    "duration": 159,
    "start_time": "2024-10-18T09:05:11.668Z"
   },
   {
    "duration": 116,
    "start_time": "2024-10-18T09:06:56.616Z"
   },
   {
    "duration": 156,
    "start_time": "2024-10-18T09:11:14.648Z"
   },
   {
    "duration": 155,
    "start_time": "2024-10-18T09:11:50.304Z"
   },
   {
    "duration": 12,
    "start_time": "2024-10-18T09:19:23.318Z"
   },
   {
    "duration": 6,
    "start_time": "2024-10-18T09:21:35.318Z"
   },
   {
    "duration": 6,
    "start_time": "2024-10-18T09:22:37.642Z"
   },
   {
    "duration": 71,
    "start_time": "2024-10-18T09:36:44.970Z"
   },
   {
    "duration": 46,
    "start_time": "2024-10-18T09:37:40.793Z"
   },
   {
    "duration": 138,
    "start_time": "2024-10-18T09:40:18.696Z"
   },
   {
    "duration": 39,
    "start_time": "2024-10-18T09:40:23.780Z"
   },
   {
    "duration": 39,
    "start_time": "2024-10-18T09:40:43.888Z"
   },
   {
    "duration": 39,
    "start_time": "2024-10-18T09:41:53.140Z"
   },
   {
    "duration": 39,
    "start_time": "2024-10-18T09:42:12.058Z"
   },
   {
    "duration": 13,
    "start_time": "2024-10-18T09:45:55.739Z"
   },
   {
    "duration": 114,
    "start_time": "2024-10-18T09:51:28.524Z"
   },
   {
    "duration": 91,
    "start_time": "2024-10-18T10:00:48.801Z"
   },
   {
    "duration": 188,
    "start_time": "2024-10-18T10:03:48.477Z"
   },
   {
    "duration": 167,
    "start_time": "2024-10-18T10:04:19.712Z"
   },
   {
    "duration": 53513,
    "start_time": "2024-10-18T10:10:42.291Z"
   },
   {
    "duration": 211,
    "start_time": "2024-10-18T10:12:19.552Z"
   },
   {
    "duration": 72,
    "start_time": "2024-10-18T10:16:10.788Z"
   },
   {
    "duration": 42,
    "start_time": "2024-10-18T10:17:17.849Z"
   },
   {
    "duration": 37,
    "start_time": "2024-10-18T11:57:38.511Z"
   },
   {
    "duration": 405,
    "start_time": "2024-10-18T11:58:40.603Z"
   },
   {
    "duration": 380,
    "start_time": "2024-10-18T11:59:04.759Z"
   },
   {
    "duration": 20,
    "start_time": "2024-10-18T11:59:35.997Z"
   },
   {
    "duration": 294,
    "start_time": "2024-10-18T11:59:43.799Z"
   },
   {
    "duration": 30,
    "start_time": "2024-10-18T12:03:26.087Z"
   },
   {
    "duration": 18,
    "start_time": "2024-10-18T12:05:36.068Z"
   },
   {
    "duration": 27,
    "start_time": "2024-10-18T12:06:26.235Z"
   },
   {
    "duration": 26,
    "start_time": "2024-10-18T12:07:10.636Z"
   },
   {
    "duration": 28,
    "start_time": "2024-10-18T12:07:19.831Z"
   },
   {
    "duration": 24,
    "start_time": "2024-10-18T12:08:19.687Z"
   },
   {
    "duration": 19,
    "start_time": "2024-10-18T12:08:49.472Z"
   },
   {
    "duration": 133,
    "start_time": "2024-10-18T12:09:41.336Z"
   },
   {
    "duration": 27,
    "start_time": "2024-10-18T12:09:48.664Z"
   },
   {
    "duration": 24,
    "start_time": "2024-10-18T12:10:17.171Z"
   },
   {
    "duration": 24,
    "start_time": "2024-10-18T12:10:27.821Z"
   },
   {
    "duration": 26,
    "start_time": "2024-10-18T12:10:56.201Z"
   },
   {
    "duration": 81,
    "start_time": "2024-10-18T12:11:20.638Z"
   },
   {
    "duration": 27,
    "start_time": "2024-10-18T12:12:52.123Z"
   },
   {
    "duration": 25,
    "start_time": "2024-10-18T12:13:22.737Z"
   },
   {
    "duration": 26,
    "start_time": "2024-10-18T12:15:22.339Z"
   },
   {
    "duration": 33,
    "start_time": "2024-10-18T12:15:37.741Z"
   },
   {
    "duration": 23,
    "start_time": "2024-10-18T12:15:48.796Z"
   },
   {
    "duration": 28,
    "start_time": "2024-10-18T12:16:03.097Z"
   },
   {
    "duration": 37,
    "start_time": "2024-10-18T12:16:20.806Z"
   },
   {
    "duration": 22,
    "start_time": "2024-10-18T13:36:28.791Z"
   },
   {
    "duration": 4,
    "start_time": "2024-10-18T13:37:25.058Z"
   },
   {
    "duration": 8,
    "start_time": "2024-10-18T13:37:32.720Z"
   },
   {
    "duration": 9,
    "start_time": "2024-10-18T13:40:21.069Z"
   },
   {
    "duration": 10,
    "start_time": "2024-10-18T13:48:43.638Z"
   },
   {
    "duration": 40,
    "start_time": "2024-10-18T13:48:52.811Z"
   },
   {
    "duration": 8,
    "start_time": "2024-10-18T13:50:03.031Z"
   },
   {
    "duration": 39,
    "start_time": "2024-10-18T13:50:17.195Z"
   },
   {
    "duration": 6,
    "start_time": "2024-10-18T13:50:37.492Z"
   },
   {
    "duration": 20,
    "start_time": "2024-10-18T13:54:01.439Z"
   },
   {
    "duration": 161,
    "start_time": "2024-10-18T13:54:25.729Z"
   },
   {
    "duration": 42,
    "start_time": "2024-10-18T14:06:56.411Z"
   },
   {
    "duration": 149,
    "start_time": "2024-10-18T14:07:17.032Z"
   },
   {
    "duration": 153,
    "start_time": "2024-10-18T14:09:04.736Z"
   },
   {
    "duration": 169,
    "start_time": "2024-10-18T14:09:50.636Z"
   },
   {
    "duration": 157,
    "start_time": "2024-10-18T14:10:03.441Z"
   },
   {
    "duration": 93,
    "start_time": "2024-10-18T14:10:51.346Z"
   },
   {
    "duration": 6,
    "start_time": "2024-10-18T14:11:45.156Z"
   },
   {
    "duration": 5,
    "start_time": "2024-10-18T14:11:54.751Z"
   },
   {
    "duration": 8,
    "start_time": "2024-10-18T14:12:03.152Z"
   },
   {
    "duration": 23,
    "start_time": "2024-10-18T14:12:04.411Z"
   },
   {
    "duration": 156,
    "start_time": "2024-10-18T14:12:19.480Z"
   },
   {
    "duration": 170,
    "start_time": "2024-10-18T14:12:24.559Z"
   },
   {
    "duration": 1263,
    "start_time": "2024-10-19T03:53:36.563Z"
   },
   {
    "duration": 155,
    "start_time": "2024-10-19T03:53:40.006Z"
   },
   {
    "duration": 5,
    "start_time": "2024-10-19T03:53:41.239Z"
   },
   {
    "duration": 2,
    "start_time": "2024-10-19T03:54:17.015Z"
   },
   {
    "duration": 82,
    "start_time": "2024-10-19T03:54:20.836Z"
   },
   {
    "duration": 3,
    "start_time": "2024-10-19T03:54:22.138Z"
   },
   {
    "duration": 13,
    "start_time": "2024-10-19T03:54:30.837Z"
   },
   {
    "duration": 1683,
    "start_time": "2024-10-19T03:54:45.257Z"
   },
   {
    "duration": 9,
    "start_time": "2024-10-19T03:55:19.413Z"
   },
   {
    "duration": 5,
    "start_time": "2024-10-19T03:55:22.921Z"
   },
   {
    "duration": 8,
    "start_time": "2024-10-19T03:55:25.491Z"
   },
   {
    "duration": 4,
    "start_time": "2024-10-19T03:55:26.643Z"
   },
   {
    "duration": 4,
    "start_time": "2024-10-19T03:56:15.120Z"
   },
   {
    "duration": 4,
    "start_time": "2024-10-19T03:56:22.743Z"
   },
   {
    "duration": 8,
    "start_time": "2024-10-19T03:56:26.805Z"
   },
   {
    "duration": 5,
    "start_time": "2024-10-19T03:56:27.505Z"
   },
   {
    "duration": 4,
    "start_time": "2024-10-19T03:56:37.335Z"
   },
   {
    "duration": 8,
    "start_time": "2024-10-19T03:56:53.597Z"
   },
   {
    "duration": 6,
    "start_time": "2024-10-19T03:56:59.974Z"
   },
   {
    "duration": 4,
    "start_time": "2024-10-19T03:57:00.671Z"
   },
   {
    "duration": 4,
    "start_time": "2024-10-19T03:57:01.200Z"
   },
   {
    "duration": 5,
    "start_time": "2024-10-19T03:57:03.056Z"
   },
   {
    "duration": 7,
    "start_time": "2024-10-19T03:57:04.098Z"
   },
   {
    "duration": 5,
    "start_time": "2024-10-19T03:57:08.444Z"
   },
   {
    "duration": 6,
    "start_time": "2024-10-19T03:57:09.926Z"
   },
   {
    "duration": 6,
    "start_time": "2024-10-19T03:57:12.847Z"
   },
   {
    "duration": 5,
    "start_time": "2024-10-19T03:57:30.890Z"
   },
   {
    "duration": 6,
    "start_time": "2024-10-19T03:57:33.378Z"
   },
   {
    "duration": 8,
    "start_time": "2024-10-19T03:57:37.555Z"
   },
   {
    "duration": 5,
    "start_time": "2024-10-19T03:57:38.011Z"
   },
   {
    "duration": 9,
    "start_time": "2024-10-19T03:57:39.374Z"
   },
   {
    "duration": 8,
    "start_time": "2024-10-19T03:58:07.066Z"
   },
   {
    "duration": 3,
    "start_time": "2024-10-19T04:01:46.228Z"
   },
   {
    "duration": 5,
    "start_time": "2024-10-19T04:01:48.855Z"
   },
   {
    "duration": 4,
    "start_time": "2024-10-19T04:01:51.096Z"
   },
   {
    "duration": 3,
    "start_time": "2024-10-19T04:03:29.323Z"
   },
   {
    "duration": 5,
    "start_time": "2024-10-19T04:07:09.635Z"
   },
   {
    "duration": 4,
    "start_time": "2024-10-19T04:07:17.803Z"
   },
   {
    "duration": 1026,
    "start_time": "2024-10-19T04:07:31.182Z"
   },
   {
    "duration": 84,
    "start_time": "2024-10-19T04:07:32.210Z"
   },
   {
    "duration": 5,
    "start_time": "2024-10-19T04:07:32.295Z"
   },
   {
    "duration": 41,
    "start_time": "2024-10-19T04:07:32.301Z"
   },
   {
    "duration": 1605,
    "start_time": "2024-10-19T04:07:32.343Z"
   },
   {
    "duration": 9,
    "start_time": "2024-10-19T04:07:33.949Z"
   },
   {
    "duration": 4,
    "start_time": "2024-10-19T04:07:33.959Z"
   },
   {
    "duration": 9,
    "start_time": "2024-10-19T04:07:33.964Z"
   },
   {
    "duration": 13,
    "start_time": "2024-10-19T04:07:33.974Z"
   },
   {
    "duration": 22,
    "start_time": "2024-10-19T04:07:33.990Z"
   },
   {
    "duration": 24,
    "start_time": "2024-10-19T04:07:34.013Z"
   },
   {
    "duration": 9,
    "start_time": "2024-10-19T04:07:34.038Z"
   },
   {
    "duration": 4,
    "start_time": "2024-10-19T04:07:34.049Z"
   },
   {
    "duration": 5,
    "start_time": "2024-10-19T04:07:34.054Z"
   },
   {
    "duration": 12,
    "start_time": "2024-10-19T04:07:34.060Z"
   },
   {
    "duration": 33,
    "start_time": "2024-10-19T04:07:34.074Z"
   },
   {
    "duration": 33,
    "start_time": "2024-10-19T04:07:34.108Z"
   },
   {
    "duration": 10,
    "start_time": "2024-10-19T04:07:34.142Z"
   },
   {
    "duration": 10,
    "start_time": "2024-10-19T04:07:34.153Z"
   },
   {
    "duration": 9,
    "start_time": "2024-10-19T04:07:34.164Z"
   },
   {
    "duration": 4,
    "start_time": "2024-10-19T04:07:34.175Z"
   },
   {
    "duration": 19,
    "start_time": "2024-10-19T04:07:34.181Z"
   },
   {
    "duration": 15,
    "start_time": "2024-10-19T04:07:34.201Z"
   },
   {
    "duration": 17,
    "start_time": "2024-10-19T04:07:34.217Z"
   },
   {
    "duration": 5,
    "start_time": "2024-10-19T04:07:34.235Z"
   },
   {
    "duration": 21,
    "start_time": "2024-10-19T04:07:34.241Z"
   },
   {
    "duration": 67,
    "start_time": "2024-10-19T04:07:34.263Z"
   },
   {
    "duration": 7,
    "start_time": "2024-10-19T04:07:34.333Z"
   },
   {
    "duration": 12,
    "start_time": "2024-10-19T04:07:34.342Z"
   },
   {
    "duration": 3,
    "start_time": "2024-10-19T04:07:37.926Z"
   },
   {
    "duration": 4,
    "start_time": "2024-10-19T04:07:41.200Z"
   },
   {
    "duration": 4,
    "start_time": "2024-10-19T04:07:44.202Z"
   },
   {
    "duration": 4,
    "start_time": "2024-10-19T04:07:44.906Z"
   },
   {
    "duration": 1022,
    "start_time": "2024-10-19T04:09:26.793Z"
   },
   {
    "duration": 87,
    "start_time": "2024-10-19T04:09:29.304Z"
   },
   {
    "duration": 4,
    "start_time": "2024-10-19T04:09:30.177Z"
   },
   {
    "duration": 14,
    "start_time": "2024-10-19T04:09:32.780Z"
   },
   {
    "duration": 1616,
    "start_time": "2024-10-19T04:09:43.360Z"
   },
   {
    "duration": 8,
    "start_time": "2024-10-19T04:09:53.608Z"
   },
   {
    "duration": 5,
    "start_time": "2024-10-19T04:11:02.376Z"
   },
   {
    "duration": 11,
    "start_time": "2024-10-19T04:11:06.497Z"
   },
   {
    "duration": 4,
    "start_time": "2024-10-19T04:11:14.292Z"
   },
   {
    "duration": 4,
    "start_time": "2024-10-19T04:11:14.731Z"
   },
   {
    "duration": 4,
    "start_time": "2024-10-19T04:11:21.399Z"
   },
   {
    "duration": 8,
    "start_time": "2024-10-19T04:11:22.513Z"
   },
   {
    "duration": 5,
    "start_time": "2024-10-19T04:11:22.893Z"
   },
   {
    "duration": 3,
    "start_time": "2024-10-19T04:11:39.217Z"
   },
   {
    "duration": 2,
    "start_time": "2024-10-19T04:13:09.982Z"
   },
   {
    "duration": 94,
    "start_time": "2024-10-19T04:13:26.442Z"
   },
   {
    "duration": 3,
    "start_time": "2024-10-19T04:13:32.026Z"
   },
   {
    "duration": 2,
    "start_time": "2024-10-19T04:13:33.224Z"
   },
   {
    "duration": 5,
    "start_time": "2024-10-19T04:13:33.737Z"
   },
   {
    "duration": 4,
    "start_time": "2024-10-19T04:13:35.969Z"
   },
   {
    "duration": 8,
    "start_time": "2024-10-19T04:13:51.964Z"
   },
   {
    "duration": 8,
    "start_time": "2024-10-19T04:14:17.822Z"
   },
   {
    "duration": 4,
    "start_time": "2024-10-19T04:14:18.606Z"
   },
   {
    "duration": 4,
    "start_time": "2024-10-19T04:14:25.199Z"
   },
   {
    "duration": 5,
    "start_time": "2024-10-19T04:14:27.373Z"
   },
   {
    "duration": 4,
    "start_time": "2024-10-19T04:14:35.713Z"
   },
   {
    "duration": 4,
    "start_time": "2024-10-19T04:14:38.437Z"
   },
   {
    "duration": 5,
    "start_time": "2024-10-19T04:14:40.861Z"
   },
   {
    "duration": 5,
    "start_time": "2024-10-19T04:14:42.745Z"
   },
   {
    "duration": 6,
    "start_time": "2024-10-19T04:14:44.911Z"
   },
   {
    "duration": 5,
    "start_time": "2024-10-19T04:14:46.985Z"
   },
   {
    "duration": 3,
    "start_time": "2024-10-19T04:14:51.196Z"
   },
   {
    "duration": 6,
    "start_time": "2024-10-19T04:14:51.750Z"
   },
   {
    "duration": 4,
    "start_time": "2024-10-19T04:14:52.289Z"
   },
   {
    "duration": 4,
    "start_time": "2024-10-19T04:15:11.112Z"
   },
   {
    "duration": 9,
    "start_time": "2024-10-19T04:15:12.165Z"
   },
   {
    "duration": 2,
    "start_time": "2024-10-19T04:15:22.913Z"
   },
   {
    "duration": 5,
    "start_time": "2024-10-19T04:15:28.374Z"
   },
   {
    "duration": 6,
    "start_time": "2024-10-19T04:15:33.329Z"
   },
   {
    "duration": 4,
    "start_time": "2024-10-19T04:16:23.656Z"
   },
   {
    "duration": 4,
    "start_time": "2024-10-19T04:16:24.110Z"
   },
   {
    "duration": 5,
    "start_time": "2024-10-19T04:16:28.473Z"
   },
   {
    "duration": 6,
    "start_time": "2024-10-19T04:16:40.520Z"
   },
   {
    "duration": 10,
    "start_time": "2024-10-19T04:16:46.123Z"
   },
   {
    "duration": 6,
    "start_time": "2024-10-19T04:17:11.969Z"
   },
   {
    "duration": 4,
    "start_time": "2024-10-19T04:17:19.959Z"
   },
   {
    "duration": 8,
    "start_time": "2024-10-19T04:17:27.028Z"
   },
   {
    "duration": 3,
    "start_time": "2024-10-19T04:17:28.828Z"
   },
   {
    "duration": 4,
    "start_time": "2024-10-19T04:17:31.184Z"
   },
   {
    "duration": 5,
    "start_time": "2024-10-19T04:17:33.392Z"
   },
   {
    "duration": 4,
    "start_time": "2024-10-19T04:17:38.275Z"
   },
   {
    "duration": 3,
    "start_time": "2024-10-19T04:17:59.127Z"
   },
   {
    "duration": 5,
    "start_time": "2024-10-19T04:17:59.656Z"
   },
   {
    "duration": 4,
    "start_time": "2024-10-19T04:18:04.192Z"
   },
   {
    "duration": 4,
    "start_time": "2024-10-19T04:18:13.376Z"
   },
   {
    "duration": 3,
    "start_time": "2024-10-19T04:18:19.244Z"
   },
   {
    "duration": 12,
    "start_time": "2024-10-19T04:18:29.828Z"
   },
   {
    "duration": 6,
    "start_time": "2024-10-19T04:18:52.257Z"
   },
   {
    "duration": 11,
    "start_time": "2024-10-19T04:18:56.492Z"
   },
   {
    "duration": 18,
    "start_time": "2024-10-19T04:18:59.916Z"
   },
   {
    "duration": 7,
    "start_time": "2024-10-19T04:19:02.411Z"
   },
   {
    "duration": 9,
    "start_time": "2024-10-19T04:19:06.959Z"
   },
   {
    "duration": 41,
    "start_time": "2024-10-19T04:19:13.215Z"
   },
   {
    "duration": 4,
    "start_time": "2024-10-19T04:19:15.252Z"
   },
   {
    "duration": 16,
    "start_time": "2024-10-19T04:19:17.835Z"
   },
   {
    "duration": 4,
    "start_time": "2024-10-19T04:19:27.843Z"
   },
   {
    "duration": 4,
    "start_time": "2024-10-19T04:19:46.632Z"
   },
   {
    "duration": 4,
    "start_time": "2024-10-19T04:19:50.151Z"
   },
   {
    "duration": 5,
    "start_time": "2024-10-19T04:19:56.588Z"
   },
   {
    "duration": 3,
    "start_time": "2024-10-19T04:20:06.788Z"
   },
   {
    "duration": 262,
    "start_time": "2024-10-19T04:20:07.380Z"
   },
   {
    "duration": 5,
    "start_time": "2024-10-19T04:20:20.587Z"
   },
   {
    "duration": 110,
    "start_time": "2024-10-19T04:20:35.015Z"
   },
   {
    "duration": 91,
    "start_time": "2024-10-19T04:20:44.243Z"
   },
   {
    "duration": 108,
    "start_time": "2024-10-19T04:20:57.063Z"
   },
   {
    "duration": 6,
    "start_time": "2024-10-19T04:21:47.875Z"
   },
   {
    "duration": 115,
    "start_time": "2024-10-19T04:21:56.658Z"
   },
   {
    "duration": 116,
    "start_time": "2024-10-19T04:22:05.771Z"
   },
   {
    "duration": 77,
    "start_time": "2024-10-19T04:22:11.518Z"
   },
   {
    "duration": 5,
    "start_time": "2024-10-19T04:22:38.541Z"
   },
   {
    "duration": 102,
    "start_time": "2024-10-19T04:22:40.940Z"
   },
   {
    "duration": 164,
    "start_time": "2024-10-19T04:22:48.428Z"
   },
   {
    "duration": 12,
    "start_time": "2024-10-19T04:23:13.668Z"
   },
   {
    "duration": 5,
    "start_time": "2024-10-19T04:24:03.287Z"
   },
   {
    "duration": 108,
    "start_time": "2024-10-19T04:24:04.127Z"
   },
   {
    "duration": 116,
    "start_time": "2024-10-19T04:24:38.966Z"
   },
   {
    "duration": 84,
    "start_time": "2024-10-19T04:24:40.055Z"
   },
   {
    "duration": 97,
    "start_time": "2024-10-19T04:24:44.139Z"
   },
   {
    "duration": 111,
    "start_time": "2024-10-19T04:24:44.811Z"
   },
   {
    "duration": 5,
    "start_time": "2024-10-19T04:24:47.447Z"
   },
   {
    "duration": 5,
    "start_time": "2024-10-19T04:24:48.094Z"
   },
   {
    "duration": 119,
    "start_time": "2024-10-19T04:25:28.695Z"
   },
   {
    "duration": 5,
    "start_time": "2024-10-19T04:25:39.866Z"
   },
   {
    "duration": 116,
    "start_time": "2024-10-19T04:26:55.759Z"
   },
   {
    "duration": 5,
    "start_time": "2024-10-19T04:27:02.062Z"
   },
   {
    "duration": 6,
    "start_time": "2024-10-19T04:28:28.983Z"
   },
   {
    "duration": 4,
    "start_time": "2024-10-19T04:28:29.529Z"
   },
   {
    "duration": 112,
    "start_time": "2024-10-19T04:28:34.687Z"
   },
   {
    "duration": 72,
    "start_time": "2024-10-19T04:28:45.334Z"
   },
   {
    "duration": 113,
    "start_time": "2024-10-19T04:29:43.637Z"
   },
   {
    "duration": 105,
    "start_time": "2024-10-19T04:30:03.689Z"
   },
   {
    "duration": 166,
    "start_time": "2024-10-19T04:30:09.670Z"
   },
   {
    "duration": 79,
    "start_time": "2024-10-19T04:30:16.622Z"
   },
   {
    "duration": 7,
    "start_time": "2024-10-19T04:30:21.023Z"
   },
   {
    "duration": 32,
    "start_time": "2024-10-19T04:30:24.119Z"
   },
   {
    "duration": 30,
    "start_time": "2024-10-19T04:30:57.137Z"
   },
   {
    "duration": 28,
    "start_time": "2024-10-19T04:31:43.180Z"
   },
   {
    "duration": 5,
    "start_time": "2024-10-19T04:31:54.639Z"
   },
   {
    "duration": 88,
    "start_time": "2024-10-19T04:31:57.191Z"
   },
   {
    "duration": 18,
    "start_time": "2024-10-19T04:32:27.323Z"
   },
   {
    "duration": 4,
    "start_time": "2024-10-19T04:32:32.943Z"
   },
   {
    "duration": 76,
    "start_time": "2024-10-19T04:32:35.223Z"
   },
   {
    "duration": 6,
    "start_time": "2024-10-19T04:33:18.014Z"
   },
   {
    "duration": 5,
    "start_time": "2024-10-19T04:34:04.224Z"
   },
   {
    "duration": 86,
    "start_time": "2024-10-19T04:34:05.678Z"
   },
   {
    "duration": 109,
    "start_time": "2024-10-19T04:34:24.502Z"
   },
   {
    "duration": 96,
    "start_time": "2024-10-19T04:34:33.817Z"
   },
   {
    "duration": 108,
    "start_time": "2024-10-19T04:34:46.290Z"
   },
   {
    "duration": 77,
    "start_time": "2024-10-19T04:34:49.402Z"
   },
   {
    "duration": 4,
    "start_time": "2024-10-19T04:34:56.854Z"
   },
   {
    "duration": 8,
    "start_time": "2024-10-19T04:34:57.818Z"
   },
   {
    "duration": 5,
    "start_time": "2024-10-19T04:34:58.387Z"
   },
   {
    "duration": 110,
    "start_time": "2024-10-19T04:35:05.261Z"
   },
   {
    "duration": 81,
    "start_time": "2024-10-19T04:35:07.990Z"
   },
   {
    "duration": 6,
    "start_time": "2024-10-19T04:35:13.729Z"
   },
   {
    "duration": 121,
    "start_time": "2024-10-19T04:35:24.855Z"
   },
   {
    "duration": 80,
    "start_time": "2024-10-19T04:35:25.390Z"
   },
   {
    "duration": 8,
    "start_time": "2024-10-19T04:36:45.262Z"
   },
   {
    "duration": 114,
    "start_time": "2024-10-19T04:36:46.618Z"
   },
   {
    "duration": 105,
    "start_time": "2024-10-19T04:37:12.681Z"
   },
   {
    "duration": 82,
    "start_time": "2024-10-19T04:37:15.066Z"
   },
   {
    "duration": 4,
    "start_time": "2024-10-19T04:37:26.237Z"
   },
   {
    "duration": 198,
    "start_time": "2024-10-19T04:37:56.721Z"
   },
   {
    "duration": 95,
    "start_time": "2024-10-19T04:38:01.521Z"
   },
   {
    "duration": 5,
    "start_time": "2024-10-19T04:38:07.637Z"
   },
   {
    "duration": 113,
    "start_time": "2024-10-19T04:39:37.144Z"
   },
   {
    "duration": 39,
    "start_time": "2024-10-19T04:40:32.624Z"
   },
   {
    "duration": 10,
    "start_time": "2024-10-19T04:41:44.601Z"
   },
   {
    "duration": 121,
    "start_time": "2024-10-19T04:41:51.832Z"
   },
   {
    "duration": 14,
    "start_time": "2024-10-19T04:43:12.185Z"
   },
   {
    "duration": 3,
    "start_time": "2024-10-19T04:43:13.066Z"
   },
   {
    "duration": 7,
    "start_time": "2024-10-19T04:43:16.162Z"
   },
   {
    "duration": 6,
    "start_time": "2024-10-19T04:44:43.936Z"
   },
   {
    "duration": 5,
    "start_time": "2024-10-19T04:44:45.089Z"
   },
   {
    "duration": 114,
    "start_time": "2024-10-19T04:44:52.238Z"
   },
   {
    "duration": 108,
    "start_time": "2024-10-19T04:44:55.077Z"
   },
   {
    "duration": 18,
    "start_time": "2024-10-19T04:45:58.957Z"
   },
   {
    "duration": 341,
    "start_time": "2024-10-19T04:54:56.901Z"
   },
   {
    "duration": 119,
    "start_time": "2024-10-19T04:55:35.494Z"
   },
   {
    "duration": 22,
    "start_time": "2024-10-19T05:03:05.015Z"
   },
   {
    "duration": 33,
    "start_time": "2024-10-19T05:06:58.917Z"
   },
   {
    "duration": 44,
    "start_time": "2024-10-19T05:07:07.099Z"
   },
   {
    "duration": 24,
    "start_time": "2024-10-19T05:07:20.755Z"
   },
   {
    "duration": 29,
    "start_time": "2024-10-19T05:07:33.487Z"
   },
   {
    "duration": 11,
    "start_time": "2024-10-19T05:08:19.807Z"
   },
   {
    "duration": 125,
    "start_time": "2024-10-19T05:13:07.607Z"
   },
   {
    "duration": 114,
    "start_time": "2024-10-19T05:13:18.659Z"
   },
   {
    "duration": 19,
    "start_time": "2024-10-19T05:20:11.988Z"
   },
   {
    "duration": 1030,
    "start_time": "2024-10-19T06:12:57.770Z"
   },
   {
    "duration": 88,
    "start_time": "2024-10-19T06:13:00.219Z"
   },
   {
    "duration": 5,
    "start_time": "2024-10-19T06:13:23.015Z"
   },
   {
    "duration": 23,
    "start_time": "2024-10-19T06:13:46.896Z"
   },
   {
    "duration": 12,
    "start_time": "2024-10-19T06:13:58.868Z"
   },
   {
    "duration": 1581,
    "start_time": "2024-10-19T06:14:07.943Z"
   },
   {
    "duration": 7,
    "start_time": "2024-10-19T06:14:27.753Z"
   },
   {
    "duration": 4,
    "start_time": "2024-10-19T06:14:37.959Z"
   },
   {
    "duration": 8,
    "start_time": "2024-10-19T06:14:49.068Z"
   },
   {
    "duration": 5,
    "start_time": "2024-10-19T06:14:56.542Z"
   },
   {
    "duration": 4,
    "start_time": "2024-10-19T06:14:57.363Z"
   },
   {
    "duration": 4,
    "start_time": "2024-10-19T06:15:04.800Z"
   },
   {
    "duration": 9,
    "start_time": "2024-10-19T06:15:08.427Z"
   },
   {
    "duration": 4,
    "start_time": "2024-10-19T06:15:09.067Z"
   },
   {
    "duration": 4,
    "start_time": "2024-10-19T06:15:15.047Z"
   },
   {
    "duration": 11,
    "start_time": "2024-10-19T06:15:21.072Z"
   },
   {
    "duration": 3,
    "start_time": "2024-10-19T06:15:26.707Z"
   },
   {
    "duration": 4,
    "start_time": "2024-10-19T06:15:42.539Z"
   },
   {
    "duration": 4,
    "start_time": "2024-10-19T06:15:43.704Z"
   },
   {
    "duration": 7,
    "start_time": "2024-10-19T06:15:57.839Z"
   },
   {
    "duration": 4,
    "start_time": "2024-10-19T06:15:59.332Z"
   },
   {
    "duration": 4,
    "start_time": "2024-10-19T06:17:09.232Z"
   },
   {
    "duration": 6,
    "start_time": "2024-10-19T06:17:09.927Z"
   },
   {
    "duration": 5,
    "start_time": "2024-10-19T06:17:13.990Z"
   },
   {
    "duration": 5,
    "start_time": "2024-10-19T06:17:16.072Z"
   },
   {
    "duration": 6,
    "start_time": "2024-10-19T06:17:20.786Z"
   },
   {
    "duration": 5,
    "start_time": "2024-10-19T06:17:21.359Z"
   },
   {
    "duration": 6,
    "start_time": "2024-10-19T06:17:28.462Z"
   },
   {
    "duration": 5,
    "start_time": "2024-10-19T06:17:28.975Z"
   },
   {
    "duration": 3,
    "start_time": "2024-10-19T06:17:43.522Z"
   },
   {
    "duration": 4,
    "start_time": "2024-10-19T06:17:44.920Z"
   },
   {
    "duration": 3,
    "start_time": "2024-10-19T06:17:45.504Z"
   },
   {
    "duration": 4,
    "start_time": "2024-10-19T06:21:07.163Z"
   },
   {
    "duration": 6,
    "start_time": "2024-10-19T06:21:11.566Z"
   },
   {
    "duration": 3,
    "start_time": "2024-10-19T06:21:32.198Z"
   },
   {
    "duration": 4,
    "start_time": "2024-10-19T06:21:33.782Z"
   },
   {
    "duration": 4,
    "start_time": "2024-10-19T06:22:10.814Z"
   },
   {
    "duration": 4,
    "start_time": "2024-10-19T06:22:38.223Z"
   },
   {
    "duration": 7,
    "start_time": "2024-10-19T06:22:54.359Z"
   },
   {
    "duration": 6,
    "start_time": "2024-10-19T06:23:10.074Z"
   },
   {
    "duration": 4,
    "start_time": "2024-10-19T06:23:13.323Z"
   },
   {
    "duration": 7,
    "start_time": "2024-10-19T06:23:37.283Z"
   },
   {
    "duration": 3,
    "start_time": "2024-10-19T06:23:59.295Z"
   },
   {
    "duration": 5,
    "start_time": "2024-10-19T06:23:59.846Z"
   },
   {
    "duration": 4,
    "start_time": "2024-10-19T06:24:02.049Z"
   },
   {
    "duration": 4,
    "start_time": "2024-10-19T06:24:19.370Z"
   },
   {
    "duration": 3,
    "start_time": "2024-10-19T06:24:20.547Z"
   },
   {
    "duration": 3,
    "start_time": "2024-10-19T06:24:20.971Z"
   },
   {
    "duration": 4,
    "start_time": "2024-10-19T06:24:24.937Z"
   },
   {
    "duration": 4,
    "start_time": "2024-10-19T06:24:33.397Z"
   },
   {
    "duration": 3,
    "start_time": "2024-10-19T06:24:36.690Z"
   },
   {
    "duration": 12,
    "start_time": "2024-10-19T06:24:44.289Z"
   },
   {
    "duration": 93,
    "start_time": "2024-10-19T06:31:17.482Z"
   },
   {
    "duration": 11,
    "start_time": "2024-10-19T06:32:03.195Z"
   },
   {
    "duration": 8,
    "start_time": "2024-10-19T06:32:33.047Z"
   },
   {
    "duration": 13,
    "start_time": "2024-10-19T06:35:53.307Z"
   },
   {
    "duration": 79,
    "start_time": "2024-10-19T06:36:18.581Z"
   },
   {
    "duration": 75,
    "start_time": "2024-10-19T06:37:11.470Z"
   },
   {
    "duration": 63,
    "start_time": "2024-10-19T06:37:29.254Z"
   },
   {
    "duration": 5,
    "start_time": "2024-10-19T06:38:49.864Z"
   },
   {
    "duration": 16,
    "start_time": "2024-10-19T06:40:46.564Z"
   },
   {
    "duration": 5,
    "start_time": "2024-10-19T06:41:21.823Z"
   },
   {
    "duration": 5,
    "start_time": "2024-10-19T06:42:00.056Z"
   },
   {
    "duration": 7,
    "start_time": "2024-10-19T06:42:15.037Z"
   },
   {
    "duration": 11,
    "start_time": "2024-10-19T06:43:03.830Z"
   },
   {
    "duration": 11,
    "start_time": "2024-10-19T06:45:33.343Z"
   },
   {
    "duration": 6,
    "start_time": "2024-10-19T06:45:52.156Z"
   },
   {
    "duration": 4,
    "start_time": "2024-10-19T06:48:20.280Z"
   },
   {
    "duration": 11,
    "start_time": "2024-10-19T06:48:24.009Z"
   },
   {
    "duration": 6,
    "start_time": "2024-10-19T06:48:29.730Z"
   },
   {
    "duration": 10,
    "start_time": "2024-10-19T06:48:32.548Z"
   },
   {
    "duration": 9,
    "start_time": "2024-10-19T06:49:42.990Z"
   },
   {
    "duration": 16,
    "start_time": "2024-10-19T06:51:57.092Z"
   },
   {
    "duration": 7,
    "start_time": "2024-10-19T06:52:00.388Z"
   },
   {
    "duration": 9,
    "start_time": "2024-10-19T06:52:03.179Z"
   },
   {
    "duration": 35,
    "start_time": "2024-10-19T06:52:04.171Z"
   },
   {
    "duration": 4,
    "start_time": "2024-10-19T06:52:04.719Z"
   },
   {
    "duration": 16,
    "start_time": "2024-10-19T06:52:09.982Z"
   },
   {
    "duration": 4,
    "start_time": "2024-10-19T06:52:15.746Z"
   },
   {
    "duration": 4,
    "start_time": "2024-10-19T06:52:16.375Z"
   },
   {
    "duration": 4,
    "start_time": "2024-10-19T06:52:16.886Z"
   },
   {
    "duration": 4,
    "start_time": "2024-10-19T06:52:18.324Z"
   },
   {
    "duration": 3,
    "start_time": "2024-10-19T06:52:21.508Z"
   },
   {
    "duration": 240,
    "start_time": "2024-10-19T06:52:26.119Z"
   },
   {
    "duration": 3,
    "start_time": "2024-10-19T06:52:50.351Z"
   },
   {
    "duration": 104,
    "start_time": "2024-10-19T06:53:04.415Z"
   },
   {
    "duration": 68,
    "start_time": "2024-10-19T06:53:09.531Z"
   },
   {
    "duration": 105,
    "start_time": "2024-10-19T06:53:17.519Z"
   },
   {
    "duration": 7,
    "start_time": "2024-10-19T06:53:23.362Z"
   },
   {
    "duration": 182,
    "start_time": "2024-10-19T06:53:25.451Z"
   },
   {
    "duration": 112,
    "start_time": "2024-10-19T06:53:47.393Z"
   },
   {
    "duration": 74,
    "start_time": "2024-10-19T06:53:55.409Z"
   },
   {
    "duration": 4,
    "start_time": "2024-10-19T06:53:58.748Z"
   },
   {
    "duration": 102,
    "start_time": "2024-10-19T06:54:01.405Z"
   },
   {
    "duration": 66,
    "start_time": "2024-10-19T06:54:06.098Z"
   },
   {
    "duration": 13,
    "start_time": "2024-10-19T06:54:18.385Z"
   },
   {
    "duration": 5,
    "start_time": "2024-10-19T06:54:25.213Z"
   },
   {
    "duration": 101,
    "start_time": "2024-10-19T06:54:33.902Z"
   },
   {
    "duration": 114,
    "start_time": "2024-10-19T06:54:39.129Z"
   },
   {
    "duration": 75,
    "start_time": "2024-10-19T06:54:42.210Z"
   },
   {
    "duration": 93,
    "start_time": "2024-10-19T06:54:46.066Z"
   },
   {
    "duration": 119,
    "start_time": "2024-10-19T06:54:50.246Z"
   },
   {
    "duration": 5,
    "start_time": "2024-10-19T06:54:51.040Z"
   },
   {
    "duration": 4,
    "start_time": "2024-10-19T06:54:52.887Z"
   },
   {
    "duration": 117,
    "start_time": "2024-10-19T06:57:56.412Z"
   },
   {
    "duration": 123,
    "start_time": "2024-10-19T06:58:28.554Z"
   },
   {
    "duration": 78,
    "start_time": "2024-10-19T06:59:12.032Z"
   },
   {
    "duration": 137,
    "start_time": "2024-10-19T07:01:39.064Z"
   },
   {
    "duration": 78,
    "start_time": "2024-10-19T07:01:56.774Z"
   },
   {
    "duration": 96,
    "start_time": "2024-10-19T07:04:02.090Z"
   },
   {
    "duration": 116,
    "start_time": "2024-10-19T07:04:08.682Z"
   },
   {
    "duration": 106,
    "start_time": "2024-10-19T07:04:16.977Z"
   },
   {
    "duration": 6,
    "start_time": "2024-10-19T07:04:31.099Z"
   },
   {
    "duration": 125,
    "start_time": "2024-10-19T07:04:52.222Z"
   },
   {
    "duration": 77,
    "start_time": "2024-10-19T07:04:54.138Z"
   },
   {
    "duration": 6,
    "start_time": "2024-10-19T07:06:22.884Z"
   },
   {
    "duration": 5,
    "start_time": "2024-10-19T07:06:27.634Z"
   },
   {
    "duration": 6,
    "start_time": "2024-10-19T07:06:34.436Z"
   },
   {
    "duration": 112,
    "start_time": "2024-10-19T07:07:14.820Z"
   },
   {
    "duration": 115,
    "start_time": "2024-10-19T07:07:26.526Z"
   },
   {
    "duration": 6,
    "start_time": "2024-10-19T07:11:26.826Z"
   },
   {
    "duration": 3,
    "start_time": "2024-10-19T07:11:27.890Z"
   },
   {
    "duration": 81,
    "start_time": "2024-10-19T07:11:46.305Z"
   },
   {
    "duration": 76,
    "start_time": "2024-10-19T07:12:14.706Z"
   },
   {
    "duration": 105,
    "start_time": "2024-10-19T07:13:41.929Z"
   },
   {
    "duration": 73,
    "start_time": "2024-10-19T07:13:45.688Z"
   },
   {
    "duration": 109,
    "start_time": "2024-10-19T07:16:35.225Z"
   },
   {
    "duration": 86,
    "start_time": "2024-10-19T07:17:04.272Z"
   },
   {
    "duration": 6,
    "start_time": "2024-10-19T07:17:23.745Z"
   },
   {
    "duration": 103,
    "start_time": "2024-10-19T07:17:56.361Z"
   },
   {
    "duration": 6,
    "start_time": "2024-10-19T07:21:07.773Z"
   },
   {
    "duration": 185,
    "start_time": "2024-10-19T07:21:51.261Z"
   },
   {
    "duration": 104,
    "start_time": "2024-10-19T07:22:34.544Z"
   },
   {
    "duration": 98,
    "start_time": "2024-10-19T07:22:44.508Z"
   },
   {
    "duration": 102,
    "start_time": "2024-10-19T07:23:49.387Z"
   },
   {
    "duration": 72,
    "start_time": "2024-10-19T07:23:58.876Z"
   },
   {
    "duration": 114,
    "start_time": "2024-10-19T07:26:46.267Z"
   },
   {
    "duration": 77,
    "start_time": "2024-10-19T07:26:49.804Z"
   },
   {
    "duration": 7,
    "start_time": "2024-10-19T07:26:53.601Z"
   },
   {
    "duration": 28,
    "start_time": "2024-10-19T07:26:55.051Z"
   },
   {
    "duration": 4,
    "start_time": "2024-10-19T07:27:01.827Z"
   },
   {
    "duration": 80,
    "start_time": "2024-10-19T07:27:03.275Z"
   },
   {
    "duration": 5,
    "start_time": "2024-10-19T07:27:09.715Z"
   },
   {
    "duration": 5,
    "start_time": "2024-10-19T07:27:12.923Z"
   },
   {
    "duration": 87,
    "start_time": "2024-10-19T07:27:14.431Z"
   },
   {
    "duration": 111,
    "start_time": "2024-10-19T07:27:24.860Z"
   },
   {
    "duration": 110,
    "start_time": "2024-10-19T07:27:55.881Z"
   },
   {
    "duration": 118,
    "start_time": "2024-10-19T07:28:15.031Z"
   },
   {
    "duration": 110,
    "start_time": "2024-10-19T07:28:54.040Z"
   },
   {
    "duration": 89,
    "start_time": "2024-10-19T07:31:05.095Z"
   },
   {
    "duration": 109,
    "start_time": "2024-10-19T07:32:34.094Z"
   },
   {
    "duration": 75,
    "start_time": "2024-10-19T07:32:43.258Z"
   },
   {
    "duration": 5,
    "start_time": "2024-10-19T07:33:09.039Z"
   },
   {
    "duration": 7,
    "start_time": "2024-10-19T07:33:19.885Z"
   },
   {
    "duration": 3,
    "start_time": "2024-10-19T07:33:20.994Z"
   },
   {
    "duration": 101,
    "start_time": "2024-10-19T07:33:30.870Z"
   },
   {
    "duration": 79,
    "start_time": "2024-10-19T07:33:35.147Z"
   },
   {
    "duration": 5,
    "start_time": "2024-10-19T07:33:43.491Z"
   },
   {
    "duration": 111,
    "start_time": "2024-10-19T07:33:54.890Z"
   },
   {
    "duration": 93,
    "start_time": "2024-10-19T07:34:02.246Z"
   },
   {
    "duration": 8,
    "start_time": "2024-10-19T07:34:15.026Z"
   },
   {
    "duration": 189,
    "start_time": "2024-10-19T07:34:15.631Z"
   },
   {
    "duration": 109,
    "start_time": "2024-10-19T07:34:39.719Z"
   },
   {
    "duration": 76,
    "start_time": "2024-10-19T07:34:43.404Z"
   },
   {
    "duration": 4,
    "start_time": "2024-10-19T07:37:46.302Z"
   },
   {
    "duration": 105,
    "start_time": "2024-10-19T07:40:14.090Z"
   },
   {
    "duration": 83,
    "start_time": "2024-10-19T07:40:17.818Z"
   },
   {
    "duration": 5,
    "start_time": "2024-10-19T07:40:22.446Z"
   },
   {
    "duration": 112,
    "start_time": "2024-10-19T07:40:53.754Z"
   },
   {
    "duration": 41,
    "start_time": "2024-10-19T07:41:34.853Z"
   },
   {
    "duration": 10,
    "start_time": "2024-10-19T07:41:41.464Z"
   },
   {
    "duration": 127,
    "start_time": "2024-10-19T07:41:47.106Z"
   },
   {
    "duration": 15,
    "start_time": "2024-10-19T07:43:10.690Z"
   },
   {
    "duration": 2,
    "start_time": "2024-10-19T07:43:11.542Z"
   },
   {
    "duration": 7,
    "start_time": "2024-10-19T07:43:12.274Z"
   },
   {
    "duration": 5,
    "start_time": "2024-10-19T07:43:24.137Z"
   },
   {
    "duration": 4,
    "start_time": "2024-10-19T07:43:24.705Z"
   },
   {
    "duration": 119,
    "start_time": "2024-10-19T07:43:51.295Z"
   },
   {
    "duration": 2,
    "start_time": "2024-10-19T07:44:55.739Z"
   },
   {
    "duration": 127,
    "start_time": "2024-10-19T07:45:12.318Z"
   },
   {
    "duration": 115,
    "start_time": "2024-10-19T07:45:50.285Z"
   },
   {
    "duration": 17,
    "start_time": "2024-10-19T07:45:55.978Z"
   },
   {
    "duration": 103,
    "start_time": "2024-10-19T08:38:38.981Z"
   },
   {
    "duration": 121,
    "start_time": "2024-10-19T08:39:02.586Z"
   },
   {
    "duration": 115,
    "start_time": "2024-10-19T08:39:11.873Z"
   },
   {
    "duration": 99,
    "start_time": "2024-10-19T08:47:13.146Z"
   },
   {
    "duration": 10,
    "start_time": "2024-10-19T08:49:27.705Z"
   },
   {
    "duration": 13,
    "start_time": "2024-10-19T08:50:08.395Z"
   },
   {
    "duration": 12,
    "start_time": "2024-10-19T08:51:01.172Z"
   },
   {
    "duration": 5,
    "start_time": "2024-10-19T08:54:26.333Z"
   },
   {
    "duration": 7,
    "start_time": "2024-10-19T08:56:31.683Z"
   },
   {
    "duration": 8,
    "start_time": "2024-10-19T09:01:16.228Z"
   },
   {
    "duration": 12,
    "start_time": "2024-10-19T09:02:14.775Z"
   },
   {
    "duration": 3,
    "start_time": "2024-10-19T09:02:59.940Z"
   },
   {
    "duration": 3,
    "start_time": "2024-10-19T09:03:09.321Z"
   },
   {
    "duration": 13,
    "start_time": "2024-10-19T09:03:19.897Z"
   },
   {
    "duration": 13,
    "start_time": "2024-10-19T09:03:25.163Z"
   },
   {
    "duration": 12,
    "start_time": "2024-10-19T09:04:12.572Z"
   },
   {
    "duration": 16,
    "start_time": "2024-10-19T09:04:28.333Z"
   },
   {
    "duration": 11,
    "start_time": "2024-10-19T09:07:22.014Z"
   },
   {
    "duration": 13,
    "start_time": "2024-10-19T09:08:02.515Z"
   },
   {
    "duration": 30,
    "start_time": "2024-10-19T09:12:37.779Z"
   },
   {
    "duration": 5,
    "start_time": "2024-10-19T09:13:55.388Z"
   },
   {
    "duration": 4,
    "start_time": "2024-10-19T09:14:09.219Z"
   },
   {
    "duration": 14,
    "start_time": "2024-10-19T09:16:03.623Z"
   },
   {
    "duration": 7,
    "start_time": "2024-10-19T09:16:27.879Z"
   },
   {
    "duration": 5,
    "start_time": "2024-10-19T09:16:34.734Z"
   },
   {
    "duration": 1044,
    "start_time": "2024-10-19T09:17:03.754Z"
   },
   {
    "duration": 87,
    "start_time": "2024-10-19T09:17:04.983Z"
   },
   {
    "duration": 4,
    "start_time": "2024-10-19T09:17:06.006Z"
   },
   {
    "duration": 21,
    "start_time": "2024-10-19T09:17:16.582Z"
   },
   {
    "duration": 14,
    "start_time": "2024-10-19T09:17:19.469Z"
   },
   {
    "duration": 1602,
    "start_time": "2024-10-19T09:17:29.050Z"
   },
   {
    "duration": 7,
    "start_time": "2024-10-19T09:17:39.734Z"
   },
   {
    "duration": 3,
    "start_time": "2024-10-19T09:17:44.610Z"
   },
   {
    "duration": 7,
    "start_time": "2024-10-19T09:17:47.410Z"
   },
   {
    "duration": 4,
    "start_time": "2024-10-19T09:17:50.293Z"
   },
   {
    "duration": 3,
    "start_time": "2024-10-19T09:17:50.854Z"
   },
   {
    "duration": 5,
    "start_time": "2024-10-19T09:17:55.138Z"
   },
   {
    "duration": 9,
    "start_time": "2024-10-19T09:17:57.050Z"
   },
   {
    "duration": 4,
    "start_time": "2024-10-19T09:17:59.866Z"
   },
   {
    "duration": 4,
    "start_time": "2024-10-19T09:18:05.157Z"
   },
   {
    "duration": 8,
    "start_time": "2024-10-19T09:18:08.941Z"
   },
   {
    "duration": 4,
    "start_time": "2024-10-19T09:18:10.007Z"
   },
   {
    "duration": 5,
    "start_time": "2024-10-19T09:18:10.562Z"
   },
   {
    "duration": 4,
    "start_time": "2024-10-19T09:18:11.038Z"
   },
   {
    "duration": 8,
    "start_time": "2024-10-19T09:18:16.989Z"
   },
   {
    "duration": 3,
    "start_time": "2024-10-19T09:18:17.543Z"
   },
   {
    "duration": 4,
    "start_time": "2024-10-19T09:18:19.797Z"
   },
   {
    "duration": 5,
    "start_time": "2024-10-19T09:18:20.808Z"
   },
   {
    "duration": 4,
    "start_time": "2024-10-19T09:18:23.929Z"
   },
   {
    "duration": 4,
    "start_time": "2024-10-19T09:18:24.794Z"
   },
   {
    "duration": 7,
    "start_time": "2024-10-19T09:18:25.776Z"
   },
   {
    "duration": 6,
    "start_time": "2024-10-19T09:18:28.149Z"
   },
   {
    "duration": 7,
    "start_time": "2024-10-19T09:18:36.344Z"
   },
   {
    "duration": 6,
    "start_time": "2024-10-19T09:18:37.261Z"
   },
   {
    "duration": 3,
    "start_time": "2024-10-19T09:18:52.445Z"
   },
   {
    "duration": 4,
    "start_time": "2024-10-19T09:18:53.731Z"
   },
   {
    "duration": 4,
    "start_time": "2024-10-19T09:18:58.491Z"
   },
   {
    "duration": 4,
    "start_time": "2024-10-19T09:19:00.389Z"
   },
   {
    "duration": 6,
    "start_time": "2024-10-19T09:19:08.457Z"
   },
   {
    "duration": 3,
    "start_time": "2024-10-19T09:19:15.469Z"
   },
   {
    "duration": 4,
    "start_time": "2024-10-19T09:19:15.878Z"
   },
   {
    "duration": 4,
    "start_time": "2024-10-19T09:19:18.230Z"
   },
   {
    "duration": 7,
    "start_time": "2024-10-19T09:19:29.698Z"
   },
   {
    "duration": 12,
    "start_time": "2024-10-19T09:19:48.755Z"
   },
   {
    "duration": 6,
    "start_time": "2024-10-19T09:20:08.456Z"
   },
   {
    "duration": 5,
    "start_time": "2024-10-19T09:20:09.462Z"
   },
   {
    "duration": 6,
    "start_time": "2024-10-19T09:20:19.038Z"
   },
   {
    "duration": 4,
    "start_time": "2024-10-19T09:20:21.142Z"
   },
   {
    "duration": 3,
    "start_time": "2024-10-19T09:20:22.590Z"
   },
   {
    "duration": 4,
    "start_time": "2024-10-19T09:20:36.533Z"
   },
   {
    "duration": 9,
    "start_time": "2024-10-19T09:20:43.721Z"
   },
   {
    "duration": 6,
    "start_time": "2024-10-19T09:20:54.135Z"
   },
   {
    "duration": 4,
    "start_time": "2024-10-19T09:21:02.711Z"
   },
   {
    "duration": 7,
    "start_time": "2024-10-19T09:21:06.410Z"
   },
   {
    "duration": 3,
    "start_time": "2024-10-19T09:21:07.456Z"
   },
   {
    "duration": 4,
    "start_time": "2024-10-19T09:21:07.842Z"
   },
   {
    "duration": 4,
    "start_time": "2024-10-19T09:21:10.692Z"
   },
   {
    "duration": 4,
    "start_time": "2024-10-19T09:21:14.601Z"
   },
   {
    "duration": 3,
    "start_time": "2024-10-19T09:21:17.937Z"
   },
   {
    "duration": 4,
    "start_time": "2024-10-19T09:21:18.310Z"
   },
   {
    "duration": 4,
    "start_time": "2024-10-19T09:21:19.336Z"
   },
   {
    "duration": 4,
    "start_time": "2024-10-19T09:21:23.833Z"
   },
   {
    "duration": 3,
    "start_time": "2024-10-19T09:21:29.785Z"
   },
   {
    "duration": 11,
    "start_time": "2024-10-19T09:21:46.302Z"
   },
   {
    "duration": 6,
    "start_time": "2024-10-19T09:22:06.697Z"
   },
   {
    "duration": 5,
    "start_time": "2024-10-19T09:22:09.761Z"
   },
   {
    "duration": 6,
    "start_time": "2024-10-19T09:22:14.600Z"
   },
   {
    "duration": 13,
    "start_time": "2024-10-19T09:22:14.993Z"
   },
   {
    "duration": 16,
    "start_time": "2024-10-19T09:22:25.382Z"
   },
   {
    "duration": 9,
    "start_time": "2024-10-19T09:22:29.277Z"
   },
   {
    "duration": 9,
    "start_time": "2024-10-19T09:22:38.141Z"
   },
   {
    "duration": 34,
    "start_time": "2024-10-19T09:22:39.165Z"
   },
   {
    "duration": 5,
    "start_time": "2024-10-19T09:22:41.146Z"
   },
   {
    "duration": 16,
    "start_time": "2024-10-19T09:22:44.964Z"
   },
   {
    "duration": 3,
    "start_time": "2024-10-19T09:22:46.177Z"
   },
   {
    "duration": 3,
    "start_time": "2024-10-19T09:22:55.562Z"
   },
   {
    "duration": 5,
    "start_time": "2024-10-19T09:22:56.670Z"
   },
   {
    "duration": 5,
    "start_time": "2024-10-19T09:22:58.552Z"
   },
   {
    "duration": 5,
    "start_time": "2024-10-19T09:22:59.825Z"
   },
   {
    "duration": 2,
    "start_time": "2024-10-19T09:23:02.398Z"
   },
   {
    "duration": 247,
    "start_time": "2024-10-19T09:23:03.130Z"
   },
   {
    "duration": 4,
    "start_time": "2024-10-19T09:23:07.212Z"
   },
   {
    "duration": 104,
    "start_time": "2024-10-19T09:23:22.002Z"
   },
   {
    "duration": 74,
    "start_time": "2024-10-19T09:23:37.368Z"
   },
   {
    "duration": 106,
    "start_time": "2024-10-19T09:23:41.433Z"
   },
   {
    "duration": 6,
    "start_time": "2024-10-19T09:23:46.765Z"
   },
   {
    "duration": 108,
    "start_time": "2024-10-19T09:23:48.450Z"
   },
   {
    "duration": 114,
    "start_time": "2024-10-19T09:23:55.381Z"
   },
   {
    "duration": 81,
    "start_time": "2024-10-19T09:24:04.069Z"
   },
   {
    "duration": 6,
    "start_time": "2024-10-19T09:24:08.362Z"
   },
   {
    "duration": 109,
    "start_time": "2024-10-19T09:24:10.705Z"
   },
   {
    "duration": 172,
    "start_time": "2024-10-19T09:24:18.565Z"
   },
   {
    "duration": 68,
    "start_time": "2024-10-19T09:24:21.582Z"
   },
   {
    "duration": 10,
    "start_time": "2024-10-19T09:24:26.153Z"
   },
   {
    "duration": 5,
    "start_time": "2024-10-19T09:24:30.866Z"
   },
   {
    "duration": 107,
    "start_time": "2024-10-19T09:24:33.143Z"
   },
   {
    "duration": 137,
    "start_time": "2024-10-19T09:24:38.317Z"
   },
   {
    "duration": 77,
    "start_time": "2024-10-19T09:24:41.399Z"
   },
   {
    "duration": 101,
    "start_time": "2024-10-19T09:24:47.624Z"
   },
   {
    "duration": 107,
    "start_time": "2024-10-19T09:24:49.577Z"
   },
   {
    "duration": 119,
    "start_time": "2024-10-19T09:25:02.390Z"
   },
   {
    "duration": 82,
    "start_time": "2024-10-19T09:25:18.874Z"
   },
   {
    "duration": 6,
    "start_time": "2024-10-19T09:25:36.805Z"
   },
   {
    "duration": 110,
    "start_time": "2024-10-19T09:25:41.813Z"
   },
   {
    "duration": 101,
    "start_time": "2024-10-19T09:25:49.297Z"
   },
   {
    "duration": 68,
    "start_time": "2024-10-19T09:25:52.165Z"
   },
   {
    "duration": 171,
    "start_time": "2024-10-19T09:26:02.601Z"
   },
   {
    "duration": 79,
    "start_time": "2024-10-19T09:26:07.813Z"
   },
   {
    "duration": 29,
    "start_time": "2024-10-19T09:26:27.675Z"
   },
   {
    "duration": 5,
    "start_time": "2024-10-19T09:26:34.804Z"
   },
   {
    "duration": 78,
    "start_time": "2024-10-19T09:26:35.610Z"
   },
   {
    "duration": 8,
    "start_time": "2024-10-19T09:26:49.584Z"
   },
   {
    "duration": 6,
    "start_time": "2024-10-19T09:26:50.401Z"
   },
   {
    "duration": 82,
    "start_time": "2024-10-19T09:26:52.022Z"
   },
   {
    "duration": 117,
    "start_time": "2024-10-19T09:27:05.944Z"
   },
   {
    "duration": 87,
    "start_time": "2024-10-19T09:27:21.737Z"
   },
   {
    "duration": 109,
    "start_time": "2024-10-19T09:27:36.866Z"
   },
   {
    "duration": 77,
    "start_time": "2024-10-19T09:27:43.965Z"
   },
   {
    "duration": 4,
    "start_time": "2024-10-19T09:27:53.037Z"
   },
   {
    "duration": 6,
    "start_time": "2024-10-19T09:28:02.664Z"
   },
   {
    "duration": 120,
    "start_time": "2024-10-19T09:28:03.317Z"
   },
   {
    "duration": 102,
    "start_time": "2024-10-19T09:28:13.664Z"
   },
   {
    "duration": 81,
    "start_time": "2024-10-19T09:28:16.976Z"
   },
   {
    "duration": 6,
    "start_time": "2024-10-19T09:28:26.850Z"
   },
   {
    "duration": 107,
    "start_time": "2024-10-19T09:28:44.048Z"
   },
   {
    "duration": 78,
    "start_time": "2024-10-19T09:28:48.026Z"
   },
   {
    "duration": 7,
    "start_time": "2024-10-19T09:28:59.040Z"
   },
   {
    "duration": 105,
    "start_time": "2024-10-19T09:28:59.853Z"
   },
   {
    "duration": 107,
    "start_time": "2024-10-19T09:29:49.600Z"
   },
   {
    "duration": 174,
    "start_time": "2024-10-19T09:30:08.714Z"
   },
   {
    "duration": 3,
    "start_time": "2024-10-19T09:30:52.312Z"
   },
   {
    "duration": 107,
    "start_time": "2024-10-19T09:31:08.656Z"
   },
   {
    "duration": 89,
    "start_time": "2024-10-19T09:35:22.088Z"
   },
   {
    "duration": 4,
    "start_time": "2024-10-19T09:35:26.772Z"
   },
   {
    "duration": 114,
    "start_time": "2024-10-19T09:35:33.443Z"
   },
   {
    "duration": 42,
    "start_time": "2024-10-19T09:35:40.300Z"
   },
   {
    "duration": 9,
    "start_time": "2024-10-19T09:36:05.494Z"
   },
   {
    "duration": 116,
    "start_time": "2024-10-19T09:36:08.568Z"
   },
   {
    "duration": 15,
    "start_time": "2024-10-19T09:42:40.220Z"
   },
   {
    "duration": 2,
    "start_time": "2024-10-19T09:42:54.100Z"
   },
   {
    "duration": 7,
    "start_time": "2024-10-19T09:42:55.256Z"
   },
   {
    "duration": 5,
    "start_time": "2024-10-19T09:45:15.511Z"
   },
   {
    "duration": 115,
    "start_time": "2024-10-19T09:45:25.280Z"
   },
   {
    "duration": 122,
    "start_time": "2024-10-19T09:45:39.124Z"
   },
   {
    "duration": 113,
    "start_time": "2024-10-19T09:45:50.351Z"
   },
   {
    "duration": 20,
    "start_time": "2024-10-19T09:45:52.183Z"
   },
   {
    "duration": 50,
    "start_time": "2024-10-19T11:19:53.500Z"
   },
   {
    "duration": 1532,
    "start_time": "2024-10-19T11:20:02.421Z"
   },
   {
    "duration": 330,
    "start_time": "2024-10-19T11:20:03.956Z"
   },
   {
    "duration": 6,
    "start_time": "2024-10-19T11:20:04.288Z"
   },
   {
    "duration": 44,
    "start_time": "2024-10-19T11:20:04.296Z"
   },
   {
    "duration": 15,
    "start_time": "2024-10-19T11:20:04.342Z"
   },
   {
    "duration": 2073,
    "start_time": "2024-10-19T11:20:04.359Z"
   },
   {
    "duration": 11,
    "start_time": "2024-10-19T11:20:06.434Z"
   },
   {
    "duration": 11,
    "start_time": "2024-10-19T11:20:06.447Z"
   },
   {
    "duration": 20,
    "start_time": "2024-10-19T11:20:06.459Z"
   },
   {
    "duration": 6,
    "start_time": "2024-10-19T11:20:06.481Z"
   },
   {
    "duration": 8,
    "start_time": "2024-10-19T11:20:06.488Z"
   },
   {
    "duration": 37,
    "start_time": "2024-10-19T11:20:06.498Z"
   },
   {
    "duration": 43,
    "start_time": "2024-10-19T11:20:06.537Z"
   },
   {
    "duration": 35,
    "start_time": "2024-10-19T11:20:06.582Z"
   },
   {
    "duration": 12,
    "start_time": "2024-10-19T11:20:06.618Z"
   },
   {
    "duration": 15,
    "start_time": "2024-10-19T11:20:06.632Z"
   },
   {
    "duration": 4,
    "start_time": "2024-10-19T11:20:06.649Z"
   },
   {
    "duration": 5,
    "start_time": "2024-10-19T11:20:06.654Z"
   },
   {
    "duration": 4,
    "start_time": "2024-10-19T11:20:06.661Z"
   },
   {
    "duration": 8,
    "start_time": "2024-10-19T11:20:06.666Z"
   },
   {
    "duration": 4,
    "start_time": "2024-10-19T11:20:06.676Z"
   },
   {
    "duration": 18,
    "start_time": "2024-10-19T11:20:06.681Z"
   },
   {
    "duration": 17,
    "start_time": "2024-10-19T11:20:06.701Z"
   },
   {
    "duration": 80,
    "start_time": "2024-10-19T11:20:06.719Z"
   },
   {
    "duration": 26,
    "start_time": "2024-10-19T11:20:06.801Z"
   },
   {
    "duration": 18,
    "start_time": "2024-10-19T11:20:06.829Z"
   },
   {
    "duration": 10,
    "start_time": "2024-10-19T11:20:06.848Z"
   },
   {
    "duration": 18,
    "start_time": "2024-10-19T11:20:06.862Z"
   },
   {
    "duration": 6,
    "start_time": "2024-10-19T11:20:06.882Z"
   },
   {
    "duration": 25,
    "start_time": "2024-10-19T11:20:06.889Z"
   },
   {
    "duration": 13,
    "start_time": "2024-10-19T11:20:06.916Z"
   },
   {
    "duration": 18,
    "start_time": "2024-10-19T11:20:06.931Z"
   },
   {
    "duration": 74,
    "start_time": "2024-10-19T11:20:06.951Z"
   },
   {
    "duration": 21,
    "start_time": "2024-10-19T11:20:07.027Z"
   },
   {
    "duration": 8,
    "start_time": "2024-10-19T11:20:07.050Z"
   },
   {
    "duration": 5,
    "start_time": "2024-10-19T11:20:07.059Z"
   },
   {
    "duration": 19,
    "start_time": "2024-10-19T11:20:07.065Z"
   },
   {
    "duration": 33,
    "start_time": "2024-10-19T11:20:07.085Z"
   },
   {
    "duration": 14,
    "start_time": "2024-10-19T11:20:07.120Z"
   },
   {
    "duration": 6,
    "start_time": "2024-10-19T11:20:07.135Z"
   },
   {
    "duration": 9,
    "start_time": "2024-10-19T11:20:07.142Z"
   },
   {
    "duration": 12,
    "start_time": "2024-10-19T11:20:07.152Z"
   },
   {
    "duration": 6,
    "start_time": "2024-10-19T11:20:07.165Z"
   },
   {
    "duration": 7,
    "start_time": "2024-10-19T11:20:07.173Z"
   },
   {
    "duration": 15,
    "start_time": "2024-10-19T11:20:07.181Z"
   },
   {
    "duration": 19,
    "start_time": "2024-10-19T11:20:07.198Z"
   },
   {
    "duration": 12,
    "start_time": "2024-10-19T11:20:07.218Z"
   },
   {
    "duration": 5,
    "start_time": "2024-10-19T11:20:07.231Z"
   },
   {
    "duration": 18,
    "start_time": "2024-10-19T11:20:07.237Z"
   },
   {
    "duration": 12,
    "start_time": "2024-10-19T11:20:07.256Z"
   },
   {
    "duration": 4,
    "start_time": "2024-10-19T11:20:07.270Z"
   },
   {
    "duration": 7,
    "start_time": "2024-10-19T11:20:07.276Z"
   },
   {
    "duration": 90,
    "start_time": "2024-10-19T11:20:07.285Z"
   },
   {
    "duration": 4,
    "start_time": "2024-10-19T11:20:07.377Z"
   },
   {
    "duration": 17,
    "start_time": "2024-10-19T11:20:07.382Z"
   },
   {
    "duration": 23,
    "start_time": "2024-10-19T11:20:07.400Z"
   },
   {
    "duration": 8,
    "start_time": "2024-10-19T11:20:07.424Z"
   },
   {
    "duration": 28,
    "start_time": "2024-10-19T11:20:07.433Z"
   },
   {
    "duration": 15,
    "start_time": "2024-10-19T11:20:07.464Z"
   },
   {
    "duration": 9,
    "start_time": "2024-10-19T11:20:07.481Z"
   },
   {
    "duration": 14,
    "start_time": "2024-10-19T11:20:07.492Z"
   },
   {
    "duration": 10,
    "start_time": "2024-10-19T11:20:07.508Z"
   },
   {
    "duration": 18,
    "start_time": "2024-10-19T11:20:07.519Z"
   },
   {
    "duration": 29,
    "start_time": "2024-10-19T11:20:07.538Z"
   },
   {
    "duration": 10,
    "start_time": "2024-10-19T11:20:07.569Z"
   },
   {
    "duration": 11,
    "start_time": "2024-10-19T11:20:07.581Z"
   },
   {
    "duration": 70,
    "start_time": "2024-10-19T11:20:07.594Z"
   },
   {
    "duration": 6,
    "start_time": "2024-10-19T11:20:07.666Z"
   },
   {
    "duration": 62,
    "start_time": "2024-10-19T11:20:07.674Z"
   },
   {
    "duration": 4,
    "start_time": "2024-10-19T11:20:07.738Z"
   },
   {
    "duration": 7,
    "start_time": "2024-10-19T11:20:07.744Z"
   },
   {
    "duration": 6,
    "start_time": "2024-10-19T11:20:07.753Z"
   },
   {
    "duration": 6,
    "start_time": "2024-10-19T11:20:07.760Z"
   },
   {
    "duration": 3,
    "start_time": "2024-10-19T11:20:07.768Z"
   },
   {
    "duration": 287,
    "start_time": "2024-10-19T11:20:07.773Z"
   },
   {
    "duration": 5,
    "start_time": "2024-10-19T11:20:08.062Z"
   },
   {
    "duration": 150,
    "start_time": "2024-10-19T11:20:08.068Z"
   },
   {
    "duration": 106,
    "start_time": "2024-10-19T11:20:08.219Z"
   },
   {
    "duration": 160,
    "start_time": "2024-10-19T11:20:08.327Z"
   },
   {
    "duration": 6,
    "start_time": "2024-10-19T11:20:08.489Z"
   },
   {
    "duration": 143,
    "start_time": "2024-10-19T11:20:08.497Z"
   },
   {
    "duration": 150,
    "start_time": "2024-10-19T11:20:08.655Z"
   },
   {
    "duration": 104,
    "start_time": "2024-10-19T11:20:08.806Z"
   },
   {
    "duration": 5,
    "start_time": "2024-10-19T11:20:08.912Z"
   },
   {
    "duration": 156,
    "start_time": "2024-10-19T11:20:08.919Z"
   },
   {
    "duration": 277,
    "start_time": "2024-10-19T11:20:09.077Z"
   },
   {
    "duration": 98,
    "start_time": "2024-10-19T11:20:09.355Z"
   },
   {
    "duration": 14,
    "start_time": "2024-10-19T11:20:09.455Z"
   },
   {
    "duration": 9,
    "start_time": "2024-10-19T11:20:09.471Z"
   },
   {
    "duration": 162,
    "start_time": "2024-10-19T11:20:09.482Z"
   },
   {
    "duration": 166,
    "start_time": "2024-10-19T11:20:09.646Z"
   },
   {
    "duration": 109,
    "start_time": "2024-10-19T11:20:09.814Z"
   },
   {
    "duration": 141,
    "start_time": "2024-10-19T11:20:09.924Z"
   },
   {
    "duration": 157,
    "start_time": "2024-10-19T11:20:10.067Z"
   },
   {
    "duration": 156,
    "start_time": "2024-10-19T11:20:10.226Z"
   },
   {
    "duration": 117,
    "start_time": "2024-10-19T11:20:10.384Z"
   },
   {
    "duration": 8,
    "start_time": "2024-10-19T11:20:10.503Z"
   },
   {
    "duration": 174,
    "start_time": "2024-10-19T11:20:10.513Z"
   },
   {
    "duration": 166,
    "start_time": "2024-10-19T11:20:10.689Z"
   },
   {
    "duration": 103,
    "start_time": "2024-10-19T11:20:10.857Z"
   },
   {
    "duration": 260,
    "start_time": "2024-10-19T11:20:10.963Z"
   },
   {
    "duration": 111,
    "start_time": "2024-10-19T11:20:11.225Z"
   },
   {
    "duration": 48,
    "start_time": "2024-10-19T11:20:11.337Z"
   },
   {
    "duration": 5,
    "start_time": "2024-10-19T11:20:11.387Z"
   },
   {
    "duration": 120,
    "start_time": "2024-10-19T11:20:11.393Z"
   },
   {
    "duration": 7,
    "start_time": "2024-10-19T11:20:11.516Z"
   },
   {
    "duration": 29,
    "start_time": "2024-10-19T11:20:11.525Z"
   },
   {
    "duration": 152,
    "start_time": "2024-10-19T11:20:11.555Z"
   },
   {
    "duration": 126,
    "start_time": "2024-10-19T11:20:11.708Z"
   },
   {
    "duration": 147,
    "start_time": "2024-10-19T11:20:11.836Z"
   },
   {
    "duration": 108,
    "start_time": "2024-10-19T11:20:11.984Z"
   },
   {
    "duration": 5,
    "start_time": "2024-10-19T11:20:12.093Z"
   },
   {
    "duration": 12,
    "start_time": "2024-10-19T11:20:12.100Z"
   },
   {
    "duration": 171,
    "start_time": "2024-10-19T11:20:12.113Z"
   },
   {
    "duration": 138,
    "start_time": "2024-10-19T11:20:12.286Z"
   },
   {
    "duration": 114,
    "start_time": "2024-10-19T11:20:12.426Z"
   },
   {
    "duration": 11,
    "start_time": "2024-10-19T11:20:12.541Z"
   },
   {
    "duration": 151,
    "start_time": "2024-10-19T11:20:12.554Z"
   },
   {
    "duration": 108,
    "start_time": "2024-10-19T11:20:12.706Z"
   },
   {
    "duration": 9,
    "start_time": "2024-10-19T11:20:12.815Z"
   },
   {
    "duration": 174,
    "start_time": "2024-10-19T11:20:12.826Z"
   },
   {
    "duration": 140,
    "start_time": "2024-10-19T11:20:13.002Z"
   },
   {
    "duration": 148,
    "start_time": "2024-10-19T11:20:13.144Z"
   },
   {
    "duration": 3,
    "start_time": "2024-10-19T11:20:13.294Z"
   },
   {
    "duration": 312,
    "start_time": "2024-10-19T11:20:13.299Z"
   },
   {
    "duration": 119,
    "start_time": "2024-10-19T11:20:13.612Z"
   },
   {
    "duration": 5,
    "start_time": "2024-10-19T11:20:13.733Z"
   },
   {
    "duration": 175,
    "start_time": "2024-10-19T11:20:13.752Z"
   },
   {
    "duration": 235,
    "start_time": "2024-10-19T11:20:13.929Z"
   },
   {
    "duration": 38,
    "start_time": "2024-10-19T11:20:14.167Z"
   },
   {
    "duration": 12,
    "start_time": "2024-10-19T11:20:14.207Z"
   },
   {
    "duration": 175,
    "start_time": "2024-10-19T11:20:14.221Z"
   },
   {
    "duration": 18,
    "start_time": "2024-10-19T11:20:14.397Z"
   },
   {
    "duration": 2,
    "start_time": "2024-10-19T11:20:14.417Z"
   },
   {
    "duration": 16,
    "start_time": "2024-10-19T11:20:14.421Z"
   },
   {
    "duration": 15,
    "start_time": "2024-10-19T11:20:14.439Z"
   },
   {
    "duration": 158,
    "start_time": "2024-10-19T11:20:14.455Z"
   },
   {
    "duration": 158,
    "start_time": "2024-10-19T11:20:14.615Z"
   },
   {
    "duration": 154,
    "start_time": "2024-10-19T11:20:14.775Z"
   },
   {
    "duration": 31,
    "start_time": "2024-10-19T11:20:14.931Z"
   },
   {
    "duration": 83,
    "start_time": "2024-10-19T14:24:43.945Z"
   },
   {
    "duration": 1307,
    "start_time": "2024-10-19T14:39:48.085Z"
   },
   {
    "duration": 151,
    "start_time": "2024-10-19T14:39:50.863Z"
   },
   {
    "duration": 5,
    "start_time": "2024-10-19T14:39:53.704Z"
   },
   {
    "duration": 23,
    "start_time": "2024-10-19T14:39:55.446Z"
   },
   {
    "duration": 19,
    "start_time": "2024-10-19T14:39:56.779Z"
   },
   {
    "duration": 1791,
    "start_time": "2024-10-19T14:40:00.639Z"
   },
   {
    "duration": 10,
    "start_time": "2024-10-19T14:40:11.250Z"
   },
   {
    "duration": 5,
    "start_time": "2024-10-19T14:40:14.792Z"
   },
   {
    "duration": 9,
    "start_time": "2024-10-19T14:40:20.318Z"
   },
   {
    "duration": 4,
    "start_time": "2024-10-19T14:40:30.735Z"
   },
   {
    "duration": 4,
    "start_time": "2024-10-19T14:40:31.455Z"
   },
   {
    "duration": 4,
    "start_time": "2024-10-19T14:40:35.054Z"
   },
   {
    "duration": 8,
    "start_time": "2024-10-19T14:40:36.343Z"
   },
   {
    "duration": 4,
    "start_time": "2024-10-19T14:40:40.728Z"
   },
   {
    "duration": 5,
    "start_time": "2024-10-19T14:40:42.030Z"
   },
   {
    "duration": 96,
    "start_time": "2024-10-19T14:58:53.777Z"
   },
   {
    "duration": 4,
    "start_time": "2024-10-19T14:59:04.322Z"
   },
   {
    "duration": 4,
    "start_time": "2024-10-19T15:00:23.684Z"
   },
   {
    "duration": 4,
    "start_time": "2024-10-19T15:00:28.048Z"
   },
   {
    "duration": 1246,
    "start_time": "2024-10-20T05:50:07.854Z"
   },
   {
    "duration": 150,
    "start_time": "2024-10-20T05:50:10.604Z"
   },
   {
    "duration": 5,
    "start_time": "2024-10-20T05:50:11.301Z"
   },
   {
    "duration": 23,
    "start_time": "2024-10-20T05:50:14.468Z"
   },
   {
    "duration": 13,
    "start_time": "2024-10-20T05:50:15.987Z"
   },
   {
    "duration": 1769,
    "start_time": "2024-10-20T05:50:18.185Z"
   },
   {
    "duration": 12,
    "start_time": "2024-10-20T05:50:30.587Z"
   },
   {
    "duration": 4,
    "start_time": "2024-10-20T05:50:37.823Z"
   },
   {
    "duration": 8,
    "start_time": "2024-10-20T05:50:39.043Z"
   },
   {
    "duration": 5,
    "start_time": "2024-10-20T05:50:41.854Z"
   },
   {
    "duration": 4,
    "start_time": "2024-10-20T05:50:42.158Z"
   },
   {
    "duration": 4,
    "start_time": "2024-10-20T05:50:45.400Z"
   },
   {
    "duration": 9,
    "start_time": "2024-10-20T05:50:46.502Z"
   },
   {
    "duration": 5,
    "start_time": "2024-10-20T05:50:46.982Z"
   },
   {
    "duration": 4,
    "start_time": "2024-10-20T05:50:51.331Z"
   },
   {
    "duration": 2,
    "start_time": "2024-10-20T05:50:54.740Z"
   },
   {
    "duration": 2,
    "start_time": "2024-10-20T05:51:03.308Z"
   },
   {
    "duration": 4,
    "start_time": "2024-10-20T05:51:22.235Z"
   },
   {
    "duration": 3,
    "start_time": "2024-10-20T05:51:54.629Z"
   },
   {
    "duration": 5,
    "start_time": "2024-10-20T05:52:44.743Z"
   },
   {
    "duration": 2,
    "start_time": "2024-10-20T05:52:45.292Z"
   },
   {
    "duration": 2,
    "start_time": "2024-10-20T05:52:45.870Z"
   },
   {
    "duration": 4,
    "start_time": "2024-10-20T05:52:46.770Z"
   },
   {
    "duration": 5,
    "start_time": "2024-10-20T05:52:51.070Z"
   },
   {
    "duration": 6,
    "start_time": "2024-10-20T05:52:53.580Z"
   },
   {
    "duration": 6,
    "start_time": "2024-10-20T05:54:11.076Z"
   },
   {
    "duration": 4,
    "start_time": "2024-10-20T05:54:34.654Z"
   },
   {
    "duration": 7,
    "start_time": "2024-10-20T05:54:38.198Z"
   },
   {
    "duration": 5,
    "start_time": "2024-10-20T05:54:38.708Z"
   },
   {
    "duration": 8,
    "start_time": "2024-10-20T05:54:41.746Z"
   },
   {
    "duration": 4,
    "start_time": "2024-10-20T05:54:44.443Z"
   },
   {
    "duration": 7,
    "start_time": "2024-10-20T05:58:55.807Z"
   },
   {
    "duration": 7,
    "start_time": "2024-10-20T06:01:49.759Z"
   },
   {
    "duration": 4,
    "start_time": "2024-10-20T06:01:58.126Z"
   },
   {
    "duration": 4,
    "start_time": "2024-10-20T06:13:02.131Z"
   },
   {
    "duration": 7,
    "start_time": "2024-10-20T06:13:03.708Z"
   },
   {
    "duration": 4,
    "start_time": "2024-10-20T06:13:06.531Z"
   },
   {
    "duration": 4,
    "start_time": "2024-10-20T06:13:06.952Z"
   },
   {
    "duration": 5,
    "start_time": "2024-10-20T06:13:11.202Z"
   },
   {
    "duration": 4,
    "start_time": "2024-10-20T06:14:47.063Z"
   },
   {
    "duration": 6,
    "start_time": "2024-10-20T06:14:48.238Z"
   },
   {
    "duration": 3,
    "start_time": "2024-10-20T06:14:53.927Z"
   },
   {
    "duration": 4,
    "start_time": "2024-10-20T06:14:54.291Z"
   },
   {
    "duration": 6,
    "start_time": "2024-10-20T06:14:55.210Z"
   },
   {
    "duration": 7,
    "start_time": "2024-10-20T06:14:59.292Z"
   },
   {
    "duration": 12,
    "start_time": "2024-10-20T06:15:06.397Z"
   },
   {
    "duration": 8,
    "start_time": "2024-10-20T06:15:09.962Z"
   },
   {
    "duration": 6,
    "start_time": "2024-10-20T06:15:10.455Z"
   },
   {
    "duration": 9,
    "start_time": "2024-10-20T06:15:22.506Z"
   },
   {
    "duration": 4,
    "start_time": "2024-10-20T06:15:24.312Z"
   },
   {
    "duration": 5,
    "start_time": "2024-10-20T06:15:53.022Z"
   },
   {
    "duration": 5,
    "start_time": "2024-10-20T06:15:55.927Z"
   },
   {
    "duration": 10,
    "start_time": "2024-10-20T06:15:59.011Z"
   },
   {
    "duration": 9,
    "start_time": "2024-10-20T06:16:11.723Z"
   },
   {
    "duration": 5,
    "start_time": "2024-10-20T06:16:15.138Z"
   },
   {
    "duration": 2,
    "start_time": "2024-10-20T06:19:20.519Z"
   },
   {
    "duration": 4,
    "start_time": "2024-10-20T06:20:23.830Z"
   },
   {
    "duration": 5,
    "start_time": "2024-10-20T06:20:35.638Z"
   },
   {
    "duration": 4,
    "start_time": "2024-10-20T06:20:48.294Z"
   },
   {
    "duration": 3,
    "start_time": "2024-10-20T06:22:19.607Z"
   },
   {
    "duration": 4,
    "start_time": "2024-10-20T06:22:23.303Z"
   },
   {
    "duration": 4,
    "start_time": "2024-10-20T06:22:30.729Z"
   },
   {
    "duration": 5,
    "start_time": "2024-10-20T06:22:34.189Z"
   },
   {
    "duration": 4,
    "start_time": "2024-10-20T06:22:43.973Z"
   },
   {
    "duration": 16,
    "start_time": "2024-10-20T06:23:57.569Z"
   },
   {
    "duration": 104,
    "start_time": "2024-10-20T06:24:02.700Z"
   },
   {
    "duration": 6,
    "start_time": "2024-10-20T06:24:40.518Z"
   },
   {
    "duration": 4,
    "start_time": "2024-10-20T06:24:43.724Z"
   },
   {
    "duration": 7,
    "start_time": "2024-10-20T06:24:46.701Z"
   },
   {
    "duration": 15,
    "start_time": "2024-10-20T06:24:47.722Z"
   },
   {
    "duration": 21,
    "start_time": "2024-10-20T06:26:17.187Z"
   },
   {
    "duration": 12,
    "start_time": "2024-10-20T06:26:22.589Z"
   },
   {
    "duration": 17,
    "start_time": "2024-10-20T06:26:25.136Z"
   },
   {
    "duration": 37,
    "start_time": "2024-10-20T06:26:26.764Z"
   },
   {
    "duration": 5,
    "start_time": "2024-10-20T06:26:27.213Z"
   },
   {
    "duration": 21,
    "start_time": "2024-10-20T06:26:43.116Z"
   },
   {
    "duration": 4,
    "start_time": "2024-10-20T06:27:47.685Z"
   },
   {
    "duration": 4,
    "start_time": "2024-10-20T06:27:57.333Z"
   },
   {
    "duration": 5,
    "start_time": "2024-10-20T06:27:57.953Z"
   },
   {
    "duration": 5,
    "start_time": "2024-10-20T06:27:58.466Z"
   },
   {
    "duration": 4,
    "start_time": "2024-10-20T06:28:18.973Z"
   },
   {
    "duration": 285,
    "start_time": "2024-10-20T06:28:19.569Z"
   },
   {
    "duration": 3,
    "start_time": "2024-10-20T06:28:23.596Z"
   },
   {
    "duration": 20,
    "start_time": "2024-10-20T06:28:38.761Z"
   },
   {
    "duration": 95,
    "start_time": "2024-10-20T06:30:13.170Z"
   },
   {
    "duration": 74,
    "start_time": "2024-10-20T06:30:23.575Z"
   },
   {
    "duration": 119,
    "start_time": "2024-10-20T06:30:27.907Z"
   },
   {
    "duration": 6,
    "start_time": "2024-10-20T06:30:32.738Z"
   },
   {
    "duration": 194,
    "start_time": "2024-10-20T06:30:35.980Z"
   },
   {
    "duration": 101,
    "start_time": "2024-10-20T06:30:47.961Z"
   },
   {
    "duration": 76,
    "start_time": "2024-10-20T06:30:58.111Z"
   },
   {
    "duration": 6,
    "start_time": "2024-10-20T06:31:06.521Z"
   },
   {
    "duration": 107,
    "start_time": "2024-10-20T06:31:07.280Z"
   },
   {
    "duration": 106,
    "start_time": "2024-10-20T06:31:14.048Z"
   },
   {
    "duration": 74,
    "start_time": "2024-10-20T06:31:17.760Z"
   },
   {
    "duration": 11,
    "start_time": "2024-10-20T06:31:25.105Z"
   },
   {
    "duration": 6,
    "start_time": "2024-10-20T06:31:44.568Z"
   },
   {
    "duration": 114,
    "start_time": "2024-10-20T06:31:52.409Z"
   },
   {
    "duration": 118,
    "start_time": "2024-10-20T06:31:59.507Z"
   },
   {
    "duration": 114,
    "start_time": "2024-10-20T06:32:30.593Z"
   },
   {
    "duration": 117,
    "start_time": "2024-10-20T06:33:09.865Z"
   },
   {
    "duration": 84,
    "start_time": "2024-10-20T06:33:12.885Z"
   },
   {
    "duration": 97,
    "start_time": "2024-10-20T06:33:24.431Z"
   },
   {
    "duration": 109,
    "start_time": "2024-10-20T06:33:28.255Z"
   },
   {
    "duration": 181,
    "start_time": "2024-10-20T06:33:41.271Z"
   },
   {
    "duration": 83,
    "start_time": "2024-10-20T06:33:50.383Z"
   },
   {
    "duration": 7,
    "start_time": "2024-10-20T06:33:58.174Z"
   },
   {
    "duration": 101,
    "start_time": "2024-10-20T06:34:00.893Z"
   },
   {
    "duration": 111,
    "start_time": "2024-10-20T06:34:08.391Z"
   },
   {
    "duration": 98,
    "start_time": "2024-10-20T06:34:12.951Z"
   },
   {
    "duration": 116,
    "start_time": "2024-10-20T06:34:21.935Z"
   },
   {
    "duration": 92,
    "start_time": "2024-10-20T06:34:29.642Z"
   },
   {
    "duration": 32,
    "start_time": "2024-10-20T06:34:46.112Z"
   },
   {
    "duration": 4,
    "start_time": "2024-10-20T06:34:54.351Z"
   },
   {
    "duration": 84,
    "start_time": "2024-10-20T06:34:58.640Z"
   },
   {
    "duration": 8,
    "start_time": "2024-10-20T06:35:04.225Z"
   },
   {
    "duration": 5,
    "start_time": "2024-10-20T06:35:05.047Z"
   },
   {
    "duration": 112,
    "start_time": "2024-10-20T06:35:08.983Z"
   },
   {
    "duration": 96,
    "start_time": "2024-10-20T06:35:24.043Z"
   },
   {
    "duration": 117,
    "start_time": "2024-10-20T06:35:33.302Z"
   },
   {
    "duration": 88,
    "start_time": "2024-10-20T06:36:41.243Z"
   },
   {
    "duration": 4,
    "start_time": "2024-10-20T06:36:46.707Z"
   },
   {
    "duration": 7,
    "start_time": "2024-10-20T06:36:49.950Z"
   },
   {
    "duration": 119,
    "start_time": "2024-10-20T06:36:52.776Z"
   },
   {
    "duration": 109,
    "start_time": "2024-10-20T06:37:00.813Z"
   },
   {
    "duration": 92,
    "start_time": "2024-10-20T06:37:16.267Z"
   },
   {
    "duration": 7,
    "start_time": "2024-10-20T06:37:21.771Z"
   },
   {
    "duration": 130,
    "start_time": "2024-10-20T06:37:29.042Z"
   },
   {
    "duration": 158,
    "start_time": "2024-10-20T06:37:42.123Z"
   },
   {
    "duration": 10,
    "start_time": "2024-10-20T06:37:54.414Z"
   },
   {
    "duration": 153,
    "start_time": "2024-10-20T06:37:55.071Z"
   },
   {
    "duration": 123,
    "start_time": "2024-10-20T06:38:05.030Z"
   },
   {
    "duration": 143,
    "start_time": "2024-10-20T06:38:27.004Z"
   },
   {
    "duration": 3,
    "start_time": "2024-10-20T06:39:37.998Z"
   },
   {
    "duration": 4,
    "start_time": "2024-10-20T06:42:52.518Z"
   },
   {
    "duration": 1177,
    "start_time": "2024-10-20T06:45:30.785Z"
   },
   {
    "duration": 89,
    "start_time": "2024-10-20T06:45:33.976Z"
   },
   {
    "duration": 4,
    "start_time": "2024-10-20T06:45:36.201Z"
   },
   {
    "duration": 32,
    "start_time": "2024-10-20T06:45:37.425Z"
   },
   {
    "duration": 13,
    "start_time": "2024-10-20T06:45:41.186Z"
   },
   {
    "duration": 1662,
    "start_time": "2024-10-20T06:45:42.892Z"
   },
   {
    "duration": 8,
    "start_time": "2024-10-20T06:45:46.916Z"
   },
   {
    "duration": 5,
    "start_time": "2024-10-20T06:45:49.808Z"
   },
   {
    "duration": 11,
    "start_time": "2024-10-20T06:45:53.728Z"
   },
   {
    "duration": 5,
    "start_time": "2024-10-20T06:45:55.607Z"
   },
   {
    "duration": 5,
    "start_time": "2024-10-20T06:45:57.130Z"
   },
   {
    "duration": 5,
    "start_time": "2024-10-20T06:46:00.973Z"
   },
   {
    "duration": 8,
    "start_time": "2024-10-20T06:46:01.797Z"
   },
   {
    "duration": 5,
    "start_time": "2024-10-20T06:46:02.593Z"
   },
   {
    "duration": 6,
    "start_time": "2024-10-20T06:46:07.284Z"
   },
   {
    "duration": 6,
    "start_time": "2024-10-20T06:46:09.140Z"
   },
   {
    "duration": 2,
    "start_time": "2024-10-20T06:46:09.611Z"
   },
   {
    "duration": 5,
    "start_time": "2024-10-20T06:46:11.696Z"
   },
   {
    "duration": 4,
    "start_time": "2024-10-20T06:46:12.214Z"
   },
   {
    "duration": 6,
    "start_time": "2024-10-20T06:46:13.104Z"
   },
   {
    "duration": 4,
    "start_time": "2024-10-20T06:46:13.809Z"
   },
   {
    "duration": 2,
    "start_time": "2024-10-20T06:46:14.298Z"
   },
   {
    "duration": 5,
    "start_time": "2024-10-20T06:46:14.837Z"
   },
   {
    "duration": 6,
    "start_time": "2024-10-20T06:46:16.047Z"
   },
   {
    "duration": 6,
    "start_time": "2024-10-20T06:46:19.485Z"
   },
   {
    "duration": 7,
    "start_time": "2024-10-20T06:46:21.741Z"
   },
   {
    "duration": 5,
    "start_time": "2024-10-20T06:46:24.544Z"
   },
   {
    "duration": 7,
    "start_time": "2024-10-20T06:46:29.389Z"
   },
   {
    "duration": 6,
    "start_time": "2024-10-20T06:46:29.901Z"
   },
   {
    "duration": 6,
    "start_time": "2024-10-20T06:46:35.384Z"
   },
   {
    "duration": 6,
    "start_time": "2024-10-20T06:46:35.785Z"
   },
   {
    "duration": 5,
    "start_time": "2024-10-20T06:46:42.269Z"
   },
   {
    "duration": 5,
    "start_time": "2024-10-20T06:46:42.973Z"
   },
   {
    "duration": 4,
    "start_time": "2024-10-20T06:46:43.509Z"
   },
   {
    "duration": 5,
    "start_time": "2024-10-20T06:46:48.476Z"
   },
   {
    "duration": 7,
    "start_time": "2024-10-20T06:46:52.837Z"
   },
   {
    "duration": 3,
    "start_time": "2024-10-20T06:46:53.412Z"
   },
   {
    "duration": 4,
    "start_time": "2024-10-20T06:46:53.914Z"
   },
   {
    "duration": 6,
    "start_time": "2024-10-20T06:46:55.741Z"
   },
   {
    "duration": 7,
    "start_time": "2024-10-20T06:46:59.602Z"
   },
   {
    "duration": 18,
    "start_time": "2024-10-20T06:47:00.173Z"
   },
   {
    "duration": 5,
    "start_time": "2024-10-20T06:47:01.113Z"
   },
   {
    "duration": 4,
    "start_time": "2024-10-20T06:47:01.793Z"
   },
   {
    "duration": 8,
    "start_time": "2024-10-20T06:47:03.036Z"
   },
   {
    "duration": 5,
    "start_time": "2024-10-20T06:47:03.546Z"
   },
   {
    "duration": 4,
    "start_time": "2024-10-20T06:47:06.992Z"
   },
   {
    "duration": 5,
    "start_time": "2024-10-20T06:47:08.124Z"
   },
   {
    "duration": 10,
    "start_time": "2024-10-20T06:47:09.233Z"
   },
   {
    "duration": 6,
    "start_time": "2024-10-20T06:47:12.528Z"
   },
   {
    "duration": 4,
    "start_time": "2024-10-20T06:47:13.677Z"
   },
   {
    "duration": 9,
    "start_time": "2024-10-20T06:47:14.425Z"
   },
   {
    "duration": 2,
    "start_time": "2024-10-20T06:47:14.929Z"
   },
   {
    "duration": 4,
    "start_time": "2024-10-20T06:47:17.921Z"
   },
   {
    "duration": 3,
    "start_time": "2024-10-20T06:47:20.465Z"
   },
   {
    "duration": 4,
    "start_time": "2024-10-20T06:47:22.453Z"
   },
   {
    "duration": 2,
    "start_time": "2024-10-20T06:47:23.252Z"
   },
   {
    "duration": 4,
    "start_time": "2024-10-20T06:47:23.521Z"
   },
   {
    "duration": 4,
    "start_time": "2024-10-20T06:47:24.548Z"
   },
   {
    "duration": 4,
    "start_time": "2024-10-20T06:47:26.838Z"
   },
   {
    "duration": 4,
    "start_time": "2024-10-20T06:47:30.484Z"
   },
   {
    "duration": 11,
    "start_time": "2024-10-20T06:47:35.583Z"
   },
   {
    "duration": 8,
    "start_time": "2024-10-20T06:47:37.272Z"
   },
   {
    "duration": 5,
    "start_time": "2024-10-20T06:47:38.229Z"
   },
   {
    "duration": 8,
    "start_time": "2024-10-20T06:47:39.000Z"
   },
   {
    "duration": 16,
    "start_time": "2024-10-20T06:47:39.525Z"
   },
   {
    "duration": 19,
    "start_time": "2024-10-20T06:47:43.552Z"
   },
   {
    "duration": 10,
    "start_time": "2024-10-20T06:47:47.380Z"
   },
   {
    "duration": 10,
    "start_time": "2024-10-20T06:47:48.630Z"
   },
   {
    "duration": 35,
    "start_time": "2024-10-20T06:47:49.285Z"
   },
   {
    "duration": 5,
    "start_time": "2024-10-20T06:47:49.640Z"
   },
   {
    "duration": 26,
    "start_time": "2024-10-20T06:47:51.980Z"
   },
   {
    "duration": 4,
    "start_time": "2024-10-20T06:47:54.672Z"
   },
   {
    "duration": 4,
    "start_time": "2024-10-20T06:47:54.933Z"
   },
   {
    "duration": 4,
    "start_time": "2024-10-20T06:47:55.161Z"
   },
   {
    "duration": 4,
    "start_time": "2024-10-20T06:47:55.375Z"
   },
   {
    "duration": 3,
    "start_time": "2024-10-20T06:47:56.062Z"
   },
   {
    "duration": 270,
    "start_time": "2024-10-20T06:47:56.484Z"
   },
   {
    "duration": 4,
    "start_time": "2024-10-20T06:47:57.153Z"
   },
   {
    "duration": 31,
    "start_time": "2024-10-20T06:48:06.533Z"
   },
   {
    "duration": 94,
    "start_time": "2024-10-20T06:48:16.591Z"
   },
   {
    "duration": 72,
    "start_time": "2024-10-20T06:48:20.979Z"
   },
   {
    "duration": 8,
    "start_time": "2024-10-20T06:49:32.324Z"
   },
   {
    "duration": 6,
    "start_time": "2024-10-20T06:49:40.597Z"
   },
   {
    "duration": 6,
    "start_time": "2024-10-20T06:49:54.654Z"
   },
   {
    "duration": 118,
    "start_time": "2024-10-20T06:50:12.895Z"
   },
   {
    "duration": 6,
    "start_time": "2024-10-20T06:51:06.925Z"
   },
   {
    "duration": 111,
    "start_time": "2024-10-20T06:51:07.447Z"
   },
   {
    "duration": 107,
    "start_time": "2024-10-20T06:51:23.013Z"
   },
   {
    "duration": 83,
    "start_time": "2024-10-20T06:51:27.885Z"
   },
   {
    "duration": 8,
    "start_time": "2024-10-20T06:51:49.254Z"
   },
   {
    "duration": 7,
    "start_time": "2024-10-20T06:52:08.373Z"
   },
   {
    "duration": 6,
    "start_time": "2024-10-20T06:52:21.997Z"
   },
   {
    "duration": 123,
    "start_time": "2024-10-20T06:52:22.869Z"
   },
   {
    "duration": 186,
    "start_time": "2024-10-20T06:52:30.581Z"
   },
   {
    "duration": 75,
    "start_time": "2024-10-20T06:52:43.682Z"
   },
   {
    "duration": 12,
    "start_time": "2024-10-20T06:52:51.708Z"
   },
   {
    "duration": 7,
    "start_time": "2024-10-20T06:53:41.630Z"
   },
   {
    "duration": 4,
    "start_time": "2024-10-20T06:53:55.110Z"
   },
   {
    "duration": 37,
    "start_time": "2024-10-20T06:54:56.654Z"
   },
   {
    "duration": 6,
    "start_time": "2024-10-20T06:55:03.208Z"
   },
   {
    "duration": 7,
    "start_time": "2024-10-20T06:55:09.784Z"
   },
   {
    "duration": 5,
    "start_time": "2024-10-20T06:55:41.492Z"
   },
   {
    "duration": 118,
    "start_time": "2024-10-20T06:55:42.309Z"
   },
   {
    "duration": 121,
    "start_time": "2024-10-20T06:55:51.848Z"
   },
   {
    "duration": 126,
    "start_time": "2024-10-20T06:56:21.800Z"
   },
   {
    "duration": 83,
    "start_time": "2024-10-20T06:56:24.332Z"
   },
   {
    "duration": 103,
    "start_time": "2024-10-20T06:56:37.527Z"
   },
   {
    "duration": 114,
    "start_time": "2024-10-20T06:56:38.706Z"
   },
   {
    "duration": 125,
    "start_time": "2024-10-20T06:56:54.854Z"
   },
   {
    "duration": 85,
    "start_time": "2024-10-20T06:57:01.032Z"
   },
   {
    "duration": 7,
    "start_time": "2024-10-20T06:57:25.868Z"
   },
   {
    "duration": 8,
    "start_time": "2024-10-20T06:57:32.697Z"
   },
   {
    "duration": 3,
    "start_time": "2024-10-20T06:57:45.633Z"
   },
   {
    "duration": 6,
    "start_time": "2024-10-20T06:58:11.592Z"
   },
   {
    "duration": 5,
    "start_time": "2024-10-20T06:58:38.392Z"
   },
   {
    "duration": 133,
    "start_time": "2024-10-20T06:58:44.480Z"
   },
   {
    "duration": 167,
    "start_time": "2024-10-20T06:58:53.931Z"
   },
   {
    "duration": 72,
    "start_time": "2024-10-20T06:58:56.802Z"
   },
   {
    "duration": 130,
    "start_time": "2024-10-20T06:59:17.931Z"
   },
   {
    "duration": 80,
    "start_time": "2024-10-20T06:59:20.943Z"
   },
   {
    "duration": 31,
    "start_time": "2024-10-20T06:59:26.872Z"
   },
   {
    "duration": 4,
    "start_time": "2024-10-20T06:59:34.471Z"
   },
   {
    "duration": 81,
    "start_time": "2024-10-20T06:59:35.369Z"
   },
   {
    "duration": 9,
    "start_time": "2024-10-20T07:00:00.229Z"
   },
   {
    "duration": 5,
    "start_time": "2024-10-20T07:00:10.129Z"
   },
   {
    "duration": 8,
    "start_time": "2024-10-20T07:00:19.900Z"
   },
   {
    "duration": 5,
    "start_time": "2024-10-20T07:00:27.998Z"
   },
   {
    "duration": 4,
    "start_time": "2024-10-20T07:00:43.341Z"
   },
   {
    "duration": 78,
    "start_time": "2024-10-20T07:01:10.199Z"
   },
   {
    "duration": 6,
    "start_time": "2024-10-20T07:01:27.539Z"
   },
   {
    "duration": 5,
    "start_time": "2024-10-20T07:01:28.338Z"
   },
   {
    "duration": 129,
    "start_time": "2024-10-20T07:01:29.327Z"
   },
   {
    "duration": 97,
    "start_time": "2024-10-20T07:01:33.802Z"
   },
   {
    "duration": 124,
    "start_time": "2024-10-20T07:01:59.600Z"
   },
   {
    "duration": 84,
    "start_time": "2024-10-20T07:02:06.831Z"
   },
   {
    "duration": 5,
    "start_time": "2024-10-20T07:02:11.763Z"
   },
   {
    "duration": 8,
    "start_time": "2024-10-20T07:02:17.274Z"
   },
   {
    "duration": 138,
    "start_time": "2024-10-20T07:02:18.431Z"
   },
   {
    "duration": 118,
    "start_time": "2024-10-20T07:02:25.606Z"
   },
   {
    "duration": 89,
    "start_time": "2024-10-20T07:02:29.803Z"
   },
   {
    "duration": 8,
    "start_time": "2024-10-20T07:02:46.814Z"
   },
   {
    "duration": 118,
    "start_time": "2024-10-20T07:02:51.773Z"
   },
   {
    "duration": 91,
    "start_time": "2024-10-20T07:02:58.487Z"
   },
   {
    "duration": 10,
    "start_time": "2024-10-20T07:03:30.587Z"
   },
   {
    "duration": 3,
    "start_time": "2024-10-20T07:03:44.467Z"
   },
   {
    "duration": 11,
    "start_time": "2024-10-20T07:04:02.464Z"
   },
   {
    "duration": 8,
    "start_time": "2024-10-20T07:04:23.483Z"
   },
   {
    "duration": 8,
    "start_time": "2024-10-20T07:05:11.456Z"
   },
   {
    "duration": 183,
    "start_time": "2024-10-20T07:05:12.164Z"
   },
   {
    "duration": 111,
    "start_time": "2024-10-20T07:05:22.101Z"
   },
   {
    "duration": 111,
    "start_time": "2024-10-20T07:05:26.041Z"
   },
   {
    "duration": 3,
    "start_time": "2024-10-20T07:05:52.108Z"
   },
   {
    "duration": 4,
    "start_time": "2024-10-20T07:05:56.426Z"
   },
   {
    "duration": 4,
    "start_time": "2024-10-20T07:08:23.715Z"
   },
   {
    "duration": 3,
    "start_time": "2024-10-20T07:11:32.570Z"
   },
   {
    "duration": 4,
    "start_time": "2024-10-20T07:12:14.963Z"
   },
   {
    "duration": 4,
    "start_time": "2024-10-20T07:12:22.569Z"
   },
   {
    "duration": 105,
    "start_time": "2024-10-20T07:12:29.169Z"
   },
   {
    "duration": 3,
    "start_time": "2024-10-20T07:12:33.521Z"
   },
   {
    "duration": 3,
    "start_time": "2024-10-20T07:12:39.034Z"
   },
   {
    "duration": 4,
    "start_time": "2024-10-20T07:12:44.860Z"
   },
   {
    "duration": 128,
    "start_time": "2024-10-20T07:15:15.025Z"
   },
   {
    "duration": 88,
    "start_time": "2024-10-20T07:15:51.548Z"
   },
   {
    "duration": 5,
    "start_time": "2024-10-20T07:15:55.693Z"
   },
   {
    "duration": 122,
    "start_time": "2024-10-20T07:15:58.716Z"
   },
   {
    "duration": 128,
    "start_time": "2024-10-20T07:16:33.568Z"
   },
   {
    "duration": 129,
    "start_time": "2024-10-20T07:16:41.143Z"
   },
   {
    "duration": 122,
    "start_time": "2024-10-20T07:16:57.991Z"
   },
   {
    "duration": 159,
    "start_time": "2024-10-20T07:17:40.677Z"
   },
   {
    "duration": 90,
    "start_time": "2024-10-20T07:21:25.893Z"
   },
   {
    "duration": 10,
    "start_time": "2024-10-20T07:23:09.909Z"
   },
   {
    "duration": 9,
    "start_time": "2024-10-20T07:50:43.970Z"
   },
   {
    "duration": 25,
    "start_time": "2024-10-20T07:53:24.074Z"
   },
   {
    "duration": 4215,
    "start_time": "2024-10-20T07:57:53.041Z"
   },
   {
    "duration": 8,
    "start_time": "2024-10-20T07:58:55.591Z"
   },
   {
    "duration": 250,
    "start_time": "2024-10-20T07:59:29.334Z"
   },
   {
    "duration": 29,
    "start_time": "2024-10-20T08:00:01.150Z"
   },
   {
    "duration": 285,
    "start_time": "2024-10-20T08:00:21.414Z"
   },
   {
    "duration": 343,
    "start_time": "2024-10-20T08:02:44.777Z"
   },
   {
    "duration": 457,
    "start_time": "2024-10-20T08:03:04.004Z"
   },
   {
    "duration": 785,
    "start_time": "2024-10-20T08:03:42.444Z"
   },
   {
    "duration": 716,
    "start_time": "2024-10-20T08:04:09.579Z"
   },
   {
    "duration": 729,
    "start_time": "2024-10-20T08:07:20.831Z"
   },
   {
    "duration": 816,
    "start_time": "2024-10-20T08:07:29.854Z"
   },
   {
    "duration": 827,
    "start_time": "2024-10-20T08:08:01.518Z"
   },
   {
    "duration": 892,
    "start_time": "2024-10-20T08:08:46.768Z"
   },
   {
    "duration": 48726,
    "start_time": "2024-10-20T08:08:57.559Z"
   },
   {
    "duration": 717,
    "start_time": "2024-10-20T08:10:16.727Z"
   },
   {
    "duration": 4030,
    "start_time": "2024-10-20T08:10:59.068Z"
   },
   {
    "duration": 661,
    "start_time": "2024-10-20T08:11:19.302Z"
   },
   {
    "duration": 12,
    "start_time": "2024-10-20T08:13:09.816Z"
   },
   {
    "duration": 94954,
    "start_time": "2024-10-20T08:13:57.016Z"
   },
   {
    "duration": 253267,
    "start_time": "2024-10-20T08:16:29.114Z"
   },
   {
    "duration": 189205,
    "start_time": "2024-10-20T08:21:21.327Z"
   },
   {
    "duration": 684,
    "start_time": "2024-10-20T08:24:37.265Z"
   },
   {
    "duration": 296,
    "start_time": "2024-10-20T08:26:13.110Z"
   },
   {
    "duration": 262756,
    "start_time": "2024-10-20T08:26:26.895Z"
   },
   {
    "duration": 21,
    "start_time": "2024-10-20T08:31:12.598Z"
   },
   {
    "duration": 56,
    "start_time": "2024-10-20T08:32:21.592Z"
   },
   {
    "duration": 7,
    "start_time": "2024-10-20T08:32:29.360Z"
   },
   {
    "duration": 10,
    "start_time": "2024-10-20T08:34:15.219Z"
   },
   {
    "duration": 20,
    "start_time": "2024-10-20T08:37:36.337Z"
   },
   {
    "duration": 1106,
    "start_time": "2024-10-20T08:38:52.883Z"
   },
   {
    "duration": 151,
    "start_time": "2024-10-20T08:38:53.991Z"
   },
   {
    "duration": 6,
    "start_time": "2024-10-20T08:38:54.143Z"
   },
   {
    "duration": 23,
    "start_time": "2024-10-20T08:38:54.151Z"
   },
   {
    "duration": 14,
    "start_time": "2024-10-20T08:38:54.176Z"
   },
   {
    "duration": 1691,
    "start_time": "2024-10-20T08:38:54.191Z"
   },
   {
    "duration": 12,
    "start_time": "2024-10-20T08:38:55.884Z"
   },
   {
    "duration": 20,
    "start_time": "2024-10-20T08:38:55.897Z"
   },
   {
    "duration": 8,
    "start_time": "2024-10-20T08:38:55.918Z"
   },
   {
    "duration": 3,
    "start_time": "2024-10-20T08:38:55.928Z"
   },
   {
    "duration": 3,
    "start_time": "2024-10-20T08:38:55.933Z"
   },
   {
    "duration": 3,
    "start_time": "2024-10-20T08:38:55.938Z"
   },
   {
    "duration": 8,
    "start_time": "2024-10-20T08:38:55.943Z"
   },
   {
    "duration": 4,
    "start_time": "2024-10-20T08:38:55.953Z"
   },
   {
    "duration": 12,
    "start_time": "2024-10-20T08:38:55.958Z"
   },
   {
    "duration": 2,
    "start_time": "2024-10-20T08:38:55.971Z"
   },
   {
    "duration": 37,
    "start_time": "2024-10-20T08:38:55.975Z"
   },
   {
    "duration": 5,
    "start_time": "2024-10-20T08:38:56.013Z"
   },
   {
    "duration": 7,
    "start_time": "2024-10-20T08:38:56.019Z"
   },
   {
    "duration": 4,
    "start_time": "2024-10-20T08:38:56.028Z"
   },
   {
    "duration": 2,
    "start_time": "2024-10-20T08:38:56.034Z"
   },
   {
    "duration": 19,
    "start_time": "2024-10-20T08:38:56.037Z"
   },
   {
    "duration": 9,
    "start_time": "2024-10-20T08:38:56.057Z"
   },
   {
    "duration": 5,
    "start_time": "2024-10-20T08:38:56.067Z"
   },
   {
    "duration": 7,
    "start_time": "2024-10-20T08:38:56.073Z"
   },
   {
    "duration": 18,
    "start_time": "2024-10-20T08:38:56.081Z"
   },
   {
    "duration": 29,
    "start_time": "2024-10-20T08:38:56.100Z"
   },
   {
    "duration": 8,
    "start_time": "2024-10-20T08:38:56.130Z"
   },
   {
    "duration": 6,
    "start_time": "2024-10-20T08:38:56.139Z"
   },
   {
    "duration": 7,
    "start_time": "2024-10-20T08:38:56.146Z"
   },
   {
    "duration": 6,
    "start_time": "2024-10-20T08:38:56.155Z"
   },
   {
    "duration": 6,
    "start_time": "2024-10-20T08:38:56.162Z"
   },
   {
    "duration": 6,
    "start_time": "2024-10-20T08:38:56.169Z"
   },
   {
    "duration": 4,
    "start_time": "2024-10-20T08:38:56.176Z"
   },
   {
    "duration": 4,
    "start_time": "2024-10-20T08:38:56.213Z"
   },
   {
    "duration": 21,
    "start_time": "2024-10-20T08:38:56.219Z"
   },
   {
    "duration": 9,
    "start_time": "2024-10-20T08:38:56.241Z"
   },
   {
    "duration": 5,
    "start_time": "2024-10-20T08:38:56.251Z"
   },
   {
    "duration": 5,
    "start_time": "2024-10-20T08:38:56.257Z"
   },
   {
    "duration": 10,
    "start_time": "2024-10-20T08:38:56.263Z"
   },
   {
    "duration": 12,
    "start_time": "2024-10-20T08:38:56.278Z"
   },
   {
    "duration": 23,
    "start_time": "2024-10-20T08:38:56.291Z"
   },
   {
    "duration": 15,
    "start_time": "2024-10-20T08:38:56.316Z"
   },
   {
    "duration": 9,
    "start_time": "2024-10-20T08:38:56.333Z"
   },
   {
    "duration": 5,
    "start_time": "2024-10-20T08:38:56.343Z"
   },
   {
    "duration": 11,
    "start_time": "2024-10-20T08:38:56.350Z"
   },
   {
    "duration": 8,
    "start_time": "2024-10-20T08:38:56.362Z"
   },
   {
    "duration": 13,
    "start_time": "2024-10-20T08:38:56.371Z"
   },
   {
    "duration": 26,
    "start_time": "2024-10-20T08:38:56.386Z"
   },
   {
    "duration": 7,
    "start_time": "2024-10-20T08:38:56.414Z"
   },
   {
    "duration": 19,
    "start_time": "2024-10-20T08:38:56.423Z"
   },
   {
    "duration": 22,
    "start_time": "2024-10-20T08:38:56.443Z"
   },
   {
    "duration": 23,
    "start_time": "2024-10-20T08:38:56.466Z"
   },
   {
    "duration": 5,
    "start_time": "2024-10-20T08:38:56.491Z"
   },
   {
    "duration": 22,
    "start_time": "2024-10-20T08:38:56.497Z"
   },
   {
    "duration": 17,
    "start_time": "2024-10-20T08:38:56.520Z"
   },
   {
    "duration": 7,
    "start_time": "2024-10-20T08:38:56.538Z"
   },
   {
    "duration": 4,
    "start_time": "2024-10-20T08:38:56.546Z"
   },
   {
    "duration": 5,
    "start_time": "2024-10-20T08:38:56.551Z"
   },
   {
    "duration": 5,
    "start_time": "2024-10-20T08:38:56.557Z"
   },
   {
    "duration": 12,
    "start_time": "2024-10-20T08:38:56.563Z"
   },
   {
    "duration": 6,
    "start_time": "2024-10-20T08:38:56.577Z"
   },
   {
    "duration": 11,
    "start_time": "2024-10-20T08:38:56.585Z"
   },
   {
    "duration": 17,
    "start_time": "2024-10-20T08:38:56.597Z"
   },
   {
    "duration": 15,
    "start_time": "2024-10-20T08:38:56.615Z"
   },
   {
    "duration": 17,
    "start_time": "2024-10-20T08:38:56.632Z"
   },
   {
    "duration": 10,
    "start_time": "2024-10-20T08:38:56.651Z"
   },
   {
    "duration": 53,
    "start_time": "2024-10-20T08:38:56.663Z"
   },
   {
    "duration": 36,
    "start_time": "2024-10-20T08:38:56.719Z"
   },
   {
    "duration": 5,
    "start_time": "2024-10-20T08:38:56.757Z"
   },
   {
    "duration": 17,
    "start_time": "2024-10-20T08:38:56.764Z"
   },
   {
    "duration": 4,
    "start_time": "2024-10-20T08:38:56.783Z"
   },
   {
    "duration": 5,
    "start_time": "2024-10-20T08:38:56.811Z"
   },
   {
    "duration": 15,
    "start_time": "2024-10-20T08:38:56.818Z"
   },
   {
    "duration": 4,
    "start_time": "2024-10-20T08:38:56.834Z"
   },
   {
    "duration": 93,
    "start_time": "2024-10-20T08:38:56.839Z"
   },
   {
    "duration": 300,
    "start_time": "2024-10-20T08:38:56.933Z"
   },
   {
    "duration": 4,
    "start_time": "2024-10-20T08:38:57.234Z"
   },
   {
    "duration": 24,
    "start_time": "2024-10-20T08:38:57.240Z"
   },
   {
    "duration": 116,
    "start_time": "2024-10-20T08:38:57.265Z"
   },
   {
    "duration": 103,
    "start_time": "2024-10-20T08:38:57.383Z"
   },
   {
    "duration": 127,
    "start_time": "2024-10-20T08:38:57.487Z"
   },
   {
    "duration": 7,
    "start_time": "2024-10-20T08:38:57.616Z"
   },
   {
    "duration": 143,
    "start_time": "2024-10-20T08:38:57.624Z"
   },
   {
    "duration": 112,
    "start_time": "2024-10-20T08:38:57.768Z"
   },
   {
    "duration": 89,
    "start_time": "2024-10-20T08:38:57.882Z"
   },
   {
    "duration": 8,
    "start_time": "2024-10-20T08:38:57.972Z"
   },
   {
    "duration": 162,
    "start_time": "2024-10-20T08:38:57.982Z"
   },
   {
    "duration": 187,
    "start_time": "2024-10-20T08:38:58.145Z"
   },
   {
    "duration": 84,
    "start_time": "2024-10-20T08:38:58.333Z"
   },
   {
    "duration": 10,
    "start_time": "2024-10-20T08:38:58.418Z"
   },
   {
    "duration": 12,
    "start_time": "2024-10-20T08:38:58.430Z"
   },
   {
    "duration": 128,
    "start_time": "2024-10-20T08:38:58.443Z"
   },
   {
    "duration": 127,
    "start_time": "2024-10-20T08:38:58.572Z"
   },
   {
    "duration": 87,
    "start_time": "2024-10-20T08:38:58.700Z"
   },
   {
    "duration": 114,
    "start_time": "2024-10-20T08:38:58.789Z"
   },
   {
    "duration": 124,
    "start_time": "2024-10-20T08:38:58.905Z"
   },
   {
    "duration": 137,
    "start_time": "2024-10-20T08:38:59.031Z"
   },
   {
    "duration": 108,
    "start_time": "2024-10-20T08:38:59.169Z"
   },
   {
    "duration": 8,
    "start_time": "2024-10-20T08:38:59.278Z"
   },
   {
    "duration": 144,
    "start_time": "2024-10-20T08:38:59.287Z"
   },
   {
    "duration": 153,
    "start_time": "2024-10-20T08:38:59.432Z"
   },
   {
    "duration": 78,
    "start_time": "2024-10-20T08:38:59.587Z"
   },
   {
    "duration": 193,
    "start_time": "2024-10-20T08:38:59.666Z"
   },
   {
    "duration": 92,
    "start_time": "2024-10-20T08:38:59.860Z"
   },
   {
    "duration": 42,
    "start_time": "2024-10-20T08:38:59.954Z"
   },
   {
    "duration": 16,
    "start_time": "2024-10-20T08:38:59.998Z"
   },
   {
    "duration": 109,
    "start_time": "2024-10-20T08:39:00.015Z"
   },
   {
    "duration": 8,
    "start_time": "2024-10-20T08:39:00.125Z"
   },
   {
    "duration": 13,
    "start_time": "2024-10-20T08:39:00.134Z"
   },
   {
    "duration": 135,
    "start_time": "2024-10-20T08:39:00.148Z"
   },
   {
    "duration": 103,
    "start_time": "2024-10-20T08:39:00.285Z"
   },
   {
    "duration": 142,
    "start_time": "2024-10-20T08:39:00.389Z"
   },
   {
    "duration": 102,
    "start_time": "2024-10-20T08:39:00.532Z"
   },
   {
    "duration": 4,
    "start_time": "2024-10-20T08:39:00.635Z"
   },
   {
    "duration": 14,
    "start_time": "2024-10-20T08:39:00.641Z"
   },
   {
    "duration": 147,
    "start_time": "2024-10-20T08:39:00.657Z"
   },
   {
    "duration": 141,
    "start_time": "2024-10-20T08:39:00.805Z"
   },
   {
    "duration": 107,
    "start_time": "2024-10-20T08:39:00.948Z"
   },
   {
    "duration": 5,
    "start_time": "2024-10-20T08:39:01.057Z"
   },
   {
    "duration": 141,
    "start_time": "2024-10-20T08:39:01.063Z"
   },
   {
    "duration": 81,
    "start_time": "2024-10-20T08:39:01.213Z"
   },
   {
    "duration": 21,
    "start_time": "2024-10-20T08:39:01.296Z"
   },
   {
    "duration": 112,
    "start_time": "2024-10-20T08:39:01.318Z"
   },
   {
    "duration": 124,
    "start_time": "2024-10-20T08:39:01.432Z"
   },
   {
    "duration": 123,
    "start_time": "2024-10-20T08:39:01.557Z"
   },
   {
    "duration": 4,
    "start_time": "2024-10-20T08:39:01.681Z"
   },
   {
    "duration": 8,
    "start_time": "2024-10-20T08:39:01.686Z"
   },
   {
    "duration": 235,
    "start_time": "2024-10-20T08:39:01.695Z"
   },
   {
    "duration": 142,
    "start_time": "2024-10-20T08:39:01.932Z"
   },
   {
    "duration": 13,
    "start_time": "2024-10-20T08:39:02.076Z"
   },
   {
    "duration": 157,
    "start_time": "2024-10-20T08:39:02.091Z"
   },
   {
    "duration": 181,
    "start_time": "2024-10-20T08:39:02.249Z"
   },
   {
    "duration": 99,
    "start_time": "2024-10-20T08:39:02.431Z"
   },
   {
    "duration": 9,
    "start_time": "2024-10-20T08:39:02.532Z"
   },
   {
    "duration": 43,
    "start_time": "2024-10-20T08:39:02.542Z"
   },
   {
    "duration": 698,
    "start_time": "2024-10-20T08:39:22.571Z"
   },
   {
    "duration": 149,
    "start_time": "2024-10-20T08:41:39.178Z"
   },
   {
    "duration": 104,
    "start_time": "2024-10-20T08:42:11.076Z"
   },
   {
    "duration": 15,
    "start_time": "2024-10-20T08:42:30.686Z"
   },
   {
    "duration": 260998,
    "start_time": "2024-10-20T08:42:50.579Z"
   },
   {
    "duration": 1030,
    "start_time": "2024-10-20T08:56:31.307Z"
   },
   {
    "duration": 4,
    "start_time": "2024-10-20T09:09:37.418Z"
   },
   {
    "duration": 5,
    "start_time": "2024-10-20T09:10:01.235Z"
   },
   {
    "duration": 9,
    "start_time": "2024-10-20T09:10:13.459Z"
   },
   {
    "duration": 16,
    "start_time": "2024-10-20T09:11:38.101Z"
   },
   {
    "duration": 18,
    "start_time": "2024-10-20T09:12:08.934Z"
   },
   {
    "duration": 104,
    "start_time": "2024-10-20T09:12:23.543Z"
   },
   {
    "duration": 130,
    "start_time": "2024-10-20T09:13:01.319Z"
   },
   {
    "duration": 148,
    "start_time": "2024-10-20T09:15:15.400Z"
   },
   {
    "duration": 135,
    "start_time": "2024-10-20T09:16:06.763Z"
   },
   {
    "duration": 116,
    "start_time": "2024-10-20T09:17:34.481Z"
   },
   {
    "duration": 137,
    "start_time": "2024-10-20T09:17:43.255Z"
   },
   {
    "duration": 202,
    "start_time": "2024-10-20T09:27:35.212Z"
   },
   {
    "duration": 119,
    "start_time": "2024-10-20T09:28:27.565Z"
   },
   {
    "duration": 147,
    "start_time": "2024-10-20T09:28:45.026Z"
   },
   {
    "duration": 109,
    "start_time": "2024-10-20T09:29:27.350Z"
   },
   {
    "duration": 136,
    "start_time": "2024-10-20T09:29:35.139Z"
   },
   {
    "duration": 123,
    "start_time": "2024-10-20T09:30:25.825Z"
   },
   {
    "duration": 16,
    "start_time": "2024-10-20T09:32:25.037Z"
   },
   {
    "duration": 146,
    "start_time": "2024-10-20T09:32:41.537Z"
   },
   {
    "duration": 145,
    "start_time": "2024-10-20T09:33:41.001Z"
   },
   {
    "duration": 144,
    "start_time": "2024-10-20T09:34:17.696Z"
   },
   {
    "duration": 157,
    "start_time": "2024-10-20T09:34:41.350Z"
   },
   {
    "duration": 132,
    "start_time": "2024-10-20T09:36:24.656Z"
   },
   {
    "duration": 143,
    "start_time": "2024-10-20T09:37:32.290Z"
   },
   {
    "duration": 137,
    "start_time": "2024-10-20T09:38:37.029Z"
   },
   {
    "duration": 133,
    "start_time": "2024-10-20T09:39:46.097Z"
   },
   {
    "duration": 12,
    "start_time": "2024-10-20T09:41:28.540Z"
   },
   {
    "duration": 151,
    "start_time": "2024-10-20T09:41:34.229Z"
   },
   {
    "duration": 152,
    "start_time": "2024-10-20T09:43:01.858Z"
   },
   {
    "duration": 138,
    "start_time": "2024-10-20T09:43:28.568Z"
   },
   {
    "duration": 154,
    "start_time": "2024-10-20T09:44:35.680Z"
   },
   {
    "duration": 1334,
    "start_time": "2024-10-20T11:41:20.690Z"
   },
   {
    "duration": 330,
    "start_time": "2024-10-20T11:41:22.841Z"
   },
   {
    "duration": 5,
    "start_time": "2024-10-20T11:41:28.281Z"
   },
   {
    "duration": 26,
    "start_time": "2024-10-20T11:41:30.218Z"
   },
   {
    "duration": 14,
    "start_time": "2024-10-20T11:41:30.745Z"
   },
   {
    "duration": 1911,
    "start_time": "2024-10-20T11:41:32.038Z"
   },
   {
    "duration": 9,
    "start_time": "2024-10-20T11:41:34.390Z"
   },
   {
    "duration": 4,
    "start_time": "2024-10-20T11:41:36.109Z"
   },
   {
    "duration": 8,
    "start_time": "2024-10-20T11:41:40.937Z"
   },
   {
    "duration": 5,
    "start_time": "2024-10-20T11:41:43.264Z"
   },
   {
    "duration": 5,
    "start_time": "2024-10-20T11:41:43.756Z"
   },
   {
    "duration": 5,
    "start_time": "2024-10-20T11:41:50.295Z"
   },
   {
    "duration": 9,
    "start_time": "2024-10-20T11:41:57.171Z"
   },
   {
    "duration": 5,
    "start_time": "2024-10-20T11:41:57.569Z"
   },
   {
    "duration": 5,
    "start_time": "2024-10-20T11:41:59.731Z"
   },
   {
    "duration": 2,
    "start_time": "2024-10-20T11:42:02.033Z"
   },
   {
    "duration": 2,
    "start_time": "2024-10-20T11:42:02.513Z"
   },
   {
    "duration": 5,
    "start_time": "2024-10-20T11:42:05.316Z"
   },
   {
    "duration": 4,
    "start_time": "2024-10-20T11:42:05.916Z"
   },
   {
    "duration": 6,
    "start_time": "2024-10-20T11:42:06.853Z"
   },
   {
    "duration": 2,
    "start_time": "2024-10-20T11:42:14.755Z"
   },
   {
    "duration": 2,
    "start_time": "2024-10-20T11:42:15.201Z"
   },
   {
    "duration": 4,
    "start_time": "2024-10-20T11:42:15.705Z"
   },
   {
    "duration": 5,
    "start_time": "2024-10-20T11:42:20.037Z"
   },
   {
    "duration": 6,
    "start_time": "2024-10-20T11:42:24.454Z"
   },
   {
    "duration": 7,
    "start_time": "2024-10-20T11:42:28.725Z"
   },
   {
    "duration": 5,
    "start_time": "2024-10-20T11:42:41.352Z"
   },
   {
    "duration": 7,
    "start_time": "2024-10-20T11:42:47.084Z"
   },
   {
    "duration": 5,
    "start_time": "2024-10-20T11:42:50.752Z"
   },
   {
    "duration": 7,
    "start_time": "2024-10-20T11:42:54.486Z"
   },
   {
    "duration": 5,
    "start_time": "2024-10-20T11:42:55.106Z"
   },
   {
    "duration": 6,
    "start_time": "2024-10-20T11:42:56.245Z"
   },
   {
    "duration": 5,
    "start_time": "2024-10-20T11:43:01.360Z"
   },
   {
    "duration": 5,
    "start_time": "2024-10-20T11:43:01.990Z"
   },
   {
    "duration": 4,
    "start_time": "2024-10-20T11:43:09.984Z"
   },
   {
    "duration": 9,
    "start_time": "2024-10-20T11:43:12.846Z"
   },
   {
    "duration": 3,
    "start_time": "2024-10-20T11:43:15.737Z"
   },
   {
    "duration": 4,
    "start_time": "2024-10-20T11:43:16.277Z"
   },
   {
    "duration": 5,
    "start_time": "2024-10-20T11:43:17.961Z"
   },
   {
    "duration": 8,
    "start_time": "2024-10-20T11:43:22.456Z"
   },
   {
    "duration": 14,
    "start_time": "2024-10-20T11:43:27.982Z"
   },
   {
    "duration": 6,
    "start_time": "2024-10-20T11:43:29.824Z"
   },
   {
    "duration": 6,
    "start_time": "2024-10-20T11:43:33.366Z"
   },
   {
    "duration": 10,
    "start_time": "2024-10-20T11:43:34.467Z"
   },
   {
    "duration": 6,
    "start_time": "2024-10-20T11:43:35.140Z"
   },
   {
    "duration": 4,
    "start_time": "2024-10-20T11:43:38.504Z"
   },
   {
    "duration": 4,
    "start_time": "2024-10-20T11:43:41.925Z"
   },
   {
    "duration": 8,
    "start_time": "2024-10-20T11:43:46.316Z"
   },
   {
    "duration": 7,
    "start_time": "2024-10-20T11:44:14.597Z"
   },
   {
    "duration": 4,
    "start_time": "2024-10-20T11:44:15.604Z"
   },
   {
    "duration": 9,
    "start_time": "2024-10-20T11:44:16.596Z"
   },
   {
    "duration": 2,
    "start_time": "2024-10-20T11:44:17.173Z"
   },
   {
    "duration": 4,
    "start_time": "2024-10-20T11:44:21.567Z"
   },
   {
    "duration": 4,
    "start_time": "2024-10-20T11:44:24.836Z"
   },
   {
    "duration": 5,
    "start_time": "2024-10-20T11:44:28.340Z"
   },
   {
    "duration": 2,
    "start_time": "2024-10-20T11:44:29.396Z"
   },
   {
    "duration": 4,
    "start_time": "2024-10-20T11:44:29.917Z"
   },
   {
    "duration": 6,
    "start_time": "2024-10-20T11:44:32.893Z"
   },
   {
    "duration": 5,
    "start_time": "2024-10-20T11:44:36.574Z"
   },
   {
    "duration": 4,
    "start_time": "2024-10-20T11:44:38.536Z"
   },
   {
    "duration": 14,
    "start_time": "2024-10-20T11:44:47.389Z"
   },
   {
    "duration": 7,
    "start_time": "2024-10-20T11:44:54.403Z"
   },
   {
    "duration": 4,
    "start_time": "2024-10-20T11:44:57.556Z"
   },
   {
    "duration": 12,
    "start_time": "2024-10-20T11:45:00.260Z"
   },
   {
    "duration": 11,
    "start_time": "2024-10-20T11:45:00.733Z"
   },
   {
    "duration": 21,
    "start_time": "2024-10-20T11:45:07.369Z"
   },
   {
    "duration": 10,
    "start_time": "2024-10-20T11:45:09.563Z"
   },
   {
    "duration": 12,
    "start_time": "2024-10-20T11:45:11.028Z"
   },
   {
    "duration": 40,
    "start_time": "2024-10-20T11:45:11.807Z"
   },
   {
    "duration": 5,
    "start_time": "2024-10-20T11:45:12.204Z"
   },
   {
    "duration": 19,
    "start_time": "2024-10-20T11:45:13.205Z"
   },
   {
    "duration": 4,
    "start_time": "2024-10-20T11:45:15.475Z"
   },
   {
    "duration": 6,
    "start_time": "2024-10-20T11:45:15.892Z"
   },
   {
    "duration": 6,
    "start_time": "2024-10-20T11:45:16.204Z"
   },
   {
    "duration": 5,
    "start_time": "2024-10-20T11:45:16.437Z"
   },
   {
    "duration": 4,
    "start_time": "2024-10-20T11:45:17.288Z"
   },
   {
    "duration": 265,
    "start_time": "2024-10-20T11:45:17.936Z"
   },
   {
    "duration": 4,
    "start_time": "2024-10-20T11:45:19.147Z"
   },
   {
    "duration": 24,
    "start_time": "2024-10-20T11:45:22.173Z"
   },
   {
    "duration": 130,
    "start_time": "2024-10-20T11:45:32.880Z"
   },
   {
    "duration": 82,
    "start_time": "2024-10-20T11:45:36.035Z"
   },
   {
    "duration": 140,
    "start_time": "2024-10-20T11:45:45.287Z"
   },
   {
    "duration": 7,
    "start_time": "2024-10-20T11:45:54.323Z"
   },
   {
    "duration": 128,
    "start_time": "2024-10-20T11:45:55.053Z"
   },
   {
    "duration": 117,
    "start_time": "2024-10-20T11:46:03.282Z"
   },
   {
    "duration": 87,
    "start_time": "2024-10-20T11:46:06.437Z"
   },
   {
    "duration": 9,
    "start_time": "2024-10-20T11:46:17.581Z"
   },
   {
    "duration": 131,
    "start_time": "2024-10-20T11:46:18.313Z"
   },
   {
    "duration": 237,
    "start_time": "2024-10-20T11:46:23.443Z"
   },
   {
    "duration": 81,
    "start_time": "2024-10-20T11:46:31.606Z"
   },
   {
    "duration": 11,
    "start_time": "2024-10-20T11:46:48.980Z"
   },
   {
    "duration": 7,
    "start_time": "2024-10-20T11:46:54.372Z"
   },
   {
    "duration": 130,
    "start_time": "2024-10-20T11:46:55.184Z"
   },
   {
    "duration": 142,
    "start_time": "2024-10-20T11:47:37.719Z"
   },
   {
    "duration": 89,
    "start_time": "2024-10-20T11:47:40.216Z"
   },
   {
    "duration": 111,
    "start_time": "2024-10-20T11:47:44.085Z"
   },
   {
    "duration": 121,
    "start_time": "2024-10-20T11:47:45.973Z"
   },
   {
    "duration": 140,
    "start_time": "2024-10-20T11:47:49.675Z"
   },
   {
    "duration": 95,
    "start_time": "2024-10-20T11:47:53.245Z"
   },
   {
    "duration": 7,
    "start_time": "2024-10-20T11:47:59.923Z"
   },
   {
    "duration": 129,
    "start_time": "2024-10-20T11:48:00.957Z"
   },
   {
    "duration": 131,
    "start_time": "2024-10-20T11:48:05.700Z"
   },
   {
    "duration": 87,
    "start_time": "2024-10-20T11:48:07.866Z"
   },
   {
    "duration": 214,
    "start_time": "2024-10-20T11:48:12.874Z"
   },
   {
    "duration": 92,
    "start_time": "2024-10-20T11:48:16.916Z"
   },
   {
    "duration": 36,
    "start_time": "2024-10-20T11:48:21.305Z"
   },
   {
    "duration": 5,
    "start_time": "2024-10-20T11:48:35.668Z"
   },
   {
    "duration": 89,
    "start_time": "2024-10-20T11:48:36.179Z"
   },
   {
    "duration": 6,
    "start_time": "2024-10-20T11:48:55.212Z"
   },
   {
    "duration": 6,
    "start_time": "2024-10-20T11:48:55.659Z"
   },
   {
    "duration": 150,
    "start_time": "2024-10-20T11:48:56.128Z"
   },
   {
    "duration": 122,
    "start_time": "2024-10-20T11:49:00.762Z"
   },
   {
    "duration": 132,
    "start_time": "2024-10-20T11:49:10.871Z"
   },
   {
    "duration": 105,
    "start_time": "2024-10-20T11:49:13.812Z"
   },
   {
    "duration": 5,
    "start_time": "2024-10-20T11:49:31.340Z"
   },
   {
    "duration": 6,
    "start_time": "2024-10-20T11:49:41.548Z"
   },
   {
    "duration": 148,
    "start_time": "2024-10-20T11:49:43.412Z"
   },
   {
    "duration": 130,
    "start_time": "2024-10-20T11:49:51.693Z"
   },
   {
    "duration": 98,
    "start_time": "2024-10-20T11:49:56.703Z"
   },
   {
    "duration": 7,
    "start_time": "2024-10-20T11:50:05.389Z"
   },
   {
    "duration": 135,
    "start_time": "2024-10-20T11:50:17.843Z"
   },
   {
    "duration": 92,
    "start_time": "2024-10-20T11:50:21.400Z"
   },
   {
    "duration": 8,
    "start_time": "2024-10-20T11:50:28.723Z"
   },
   {
    "duration": 115,
    "start_time": "2024-10-20T11:50:32.060Z"
   },
   {
    "duration": 134,
    "start_time": "2024-10-20T11:50:39.733Z"
   },
   {
    "duration": 133,
    "start_time": "2024-10-20T11:50:46.988Z"
   },
   {
    "duration": 4,
    "start_time": "2024-10-20T11:51:01.903Z"
   },
   {
    "duration": 3,
    "start_time": "2024-10-20T11:51:22.383Z"
   },
   {
    "duration": 214,
    "start_time": "2024-10-20T11:51:27.998Z"
   },
   {
    "duration": 100,
    "start_time": "2024-10-20T11:51:29.831Z"
   },
   {
    "duration": 6,
    "start_time": "2024-10-20T11:51:32.734Z"
   },
   {
    "duration": 128,
    "start_time": "2024-10-20T11:51:35.982Z"
   },
   {
    "duration": 176,
    "start_time": "2024-10-20T11:51:43.258Z"
   },
   {
    "duration": 102,
    "start_time": "2024-10-20T11:52:14.891Z"
   },
   {
    "duration": 9,
    "start_time": "2024-10-20T11:52:17.425Z"
   },
   {
    "duration": 9,
    "start_time": "2024-10-20T11:52:27.502Z"
   },
   {
    "duration": 773,
    "start_time": "2024-10-20T11:52:33.575Z"
   },
   {
    "duration": 128,
    "start_time": "2024-10-20T11:52:39.268Z"
   },
   {
    "duration": 160,
    "start_time": "2024-10-20T11:53:04.303Z"
   },
   {
    "duration": 172,
    "start_time": "2024-10-20T11:54:27.767Z"
   },
   {
    "duration": 155,
    "start_time": "2024-10-20T11:54:44.257Z"
   },
   {
    "duration": 11,
    "start_time": "2024-10-20T11:54:48.335Z"
   },
   {
    "duration": 139,
    "start_time": "2024-10-20T11:54:53.359Z"
   },
   {
    "duration": 19,
    "start_time": "2024-10-20T11:55:55.127Z"
   },
   {
    "duration": 2,
    "start_time": "2024-10-20T11:55:55.720Z"
   },
   {
    "duration": 10,
    "start_time": "2024-10-20T11:55:57.313Z"
   },
   {
    "duration": 18,
    "start_time": "2024-10-20T11:58:59.751Z"
   },
   {
    "duration": 4,
    "start_time": "2024-10-20T11:59:00.327Z"
   },
   {
    "duration": 8,
    "start_time": "2024-10-20T11:59:01.069Z"
   },
   {
    "duration": 1175,
    "start_time": "2024-10-20T12:03:10.293Z"
   },
   {
    "duration": 102,
    "start_time": "2024-10-20T12:03:11.470Z"
   },
   {
    "duration": 5,
    "start_time": "2024-10-20T12:03:11.573Z"
   },
   {
    "duration": 46,
    "start_time": "2024-10-20T12:03:11.579Z"
   },
   {
    "duration": 15,
    "start_time": "2024-10-20T12:03:11.627Z"
   },
   {
    "duration": 1885,
    "start_time": "2024-10-20T12:03:11.644Z"
   },
   {
    "duration": 11,
    "start_time": "2024-10-20T12:03:13.531Z"
   },
   {
    "duration": 31,
    "start_time": "2024-10-20T12:03:13.544Z"
   },
   {
    "duration": 13,
    "start_time": "2024-10-20T12:03:13.576Z"
   },
   {
    "duration": 5,
    "start_time": "2024-10-20T12:03:13.590Z"
   },
   {
    "duration": 6,
    "start_time": "2024-10-20T12:03:13.597Z"
   },
   {
    "duration": 5,
    "start_time": "2024-10-20T12:03:13.605Z"
   },
   {
    "duration": 12,
    "start_time": "2024-10-20T12:03:13.611Z"
   },
   {
    "duration": 5,
    "start_time": "2024-10-20T12:03:13.627Z"
   },
   {
    "duration": 8,
    "start_time": "2024-10-20T12:03:13.633Z"
   },
   {
    "duration": 3,
    "start_time": "2024-10-20T12:03:13.642Z"
   },
   {
    "duration": 6,
    "start_time": "2024-10-20T12:03:13.647Z"
   },
   {
    "duration": 10,
    "start_time": "2024-10-20T12:03:13.654Z"
   },
   {
    "duration": 12,
    "start_time": "2024-10-20T12:03:13.665Z"
   },
   {
    "duration": 10,
    "start_time": "2024-10-20T12:03:13.677Z"
   },
   {
    "duration": 5,
    "start_time": "2024-10-20T12:03:13.688Z"
   },
   {
    "duration": 8,
    "start_time": "2024-10-20T12:03:13.695Z"
   },
   {
    "duration": 7,
    "start_time": "2024-10-20T12:03:13.704Z"
   },
   {
    "duration": 5,
    "start_time": "2024-10-20T12:03:13.720Z"
   },
   {
    "duration": 10,
    "start_time": "2024-10-20T12:03:13.726Z"
   },
   {
    "duration": 7,
    "start_time": "2024-10-20T12:03:13.737Z"
   },
   {
    "duration": 5,
    "start_time": "2024-10-20T12:03:13.746Z"
   },
   {
    "duration": 10,
    "start_time": "2024-10-20T12:03:13.752Z"
   },
   {
    "duration": 8,
    "start_time": "2024-10-20T12:03:13.764Z"
   },
   {
    "duration": 8,
    "start_time": "2024-10-20T12:03:13.773Z"
   },
   {
    "duration": 5,
    "start_time": "2024-10-20T12:03:13.782Z"
   },
   {
    "duration": 5,
    "start_time": "2024-10-20T12:03:13.789Z"
   },
   {
    "duration": 5,
    "start_time": "2024-10-20T12:03:13.821Z"
   },
   {
    "duration": 53,
    "start_time": "2024-10-20T12:03:13.827Z"
   },
   {
    "duration": 6,
    "start_time": "2024-10-20T12:03:13.882Z"
   },
   {
    "duration": 7,
    "start_time": "2024-10-20T12:03:13.889Z"
   },
   {
    "duration": 3,
    "start_time": "2024-10-20T12:03:13.897Z"
   },
   {
    "duration": 9,
    "start_time": "2024-10-20T12:03:13.901Z"
   },
   {
    "duration": 12,
    "start_time": "2024-10-20T12:03:13.912Z"
   },
   {
    "duration": 10,
    "start_time": "2024-10-20T12:03:13.925Z"
   },
   {
    "duration": 12,
    "start_time": "2024-10-20T12:03:13.939Z"
   },
   {
    "duration": 5,
    "start_time": "2024-10-20T12:03:13.952Z"
   },
   {
    "duration": 17,
    "start_time": "2024-10-20T12:03:13.958Z"
   },
   {
    "duration": 12,
    "start_time": "2024-10-20T12:03:13.976Z"
   },
   {
    "duration": 7,
    "start_time": "2024-10-20T12:03:13.989Z"
   },
   {
    "duration": 22,
    "start_time": "2024-10-20T12:03:13.997Z"
   },
   {
    "duration": 9,
    "start_time": "2024-10-20T12:03:14.020Z"
   },
   {
    "duration": 9,
    "start_time": "2024-10-20T12:03:14.030Z"
   },
   {
    "duration": 19,
    "start_time": "2024-10-20T12:03:14.040Z"
   },
   {
    "duration": 5,
    "start_time": "2024-10-20T12:03:14.060Z"
   },
   {
    "duration": 22,
    "start_time": "2024-10-20T12:03:14.066Z"
   },
   {
    "duration": 2,
    "start_time": "2024-10-20T12:03:14.089Z"
   },
   {
    "duration": 8,
    "start_time": "2024-10-20T12:03:14.092Z"
   },
   {
    "duration": 12,
    "start_time": "2024-10-20T12:03:14.101Z"
   },
   {
    "duration": 25,
    "start_time": "2024-10-20T12:03:14.114Z"
   },
   {
    "duration": 24,
    "start_time": "2024-10-20T12:03:14.141Z"
   },
   {
    "duration": 11,
    "start_time": "2024-10-20T12:03:14.166Z"
   },
   {
    "duration": 7,
    "start_time": "2024-10-20T12:03:14.178Z"
   },
   {
    "duration": 5,
    "start_time": "2024-10-20T12:03:14.187Z"
   },
   {
    "duration": 24,
    "start_time": "2024-10-20T12:03:14.193Z"
   },
   {
    "duration": 29,
    "start_time": "2024-10-20T12:03:14.219Z"
   },
   {
    "duration": 7,
    "start_time": "2024-10-20T12:03:14.249Z"
   },
   {
    "duration": 8,
    "start_time": "2024-10-20T12:03:14.257Z"
   },
   {
    "duration": 11,
    "start_time": "2024-10-20T12:03:14.267Z"
   },
   {
    "duration": 23,
    "start_time": "2024-10-20T12:03:14.279Z"
   },
   {
    "duration": 18,
    "start_time": "2024-10-20T12:03:14.303Z"
   },
   {
    "duration": 14,
    "start_time": "2024-10-20T12:03:14.322Z"
   },
   {
    "duration": 12,
    "start_time": "2024-10-20T12:03:14.338Z"
   },
   {
    "duration": 45,
    "start_time": "2024-10-20T12:03:14.351Z"
   },
   {
    "duration": 6,
    "start_time": "2024-10-20T12:03:14.397Z"
   },
   {
    "duration": 33,
    "start_time": "2024-10-20T12:03:14.405Z"
   },
   {
    "duration": 5,
    "start_time": "2024-10-20T12:03:14.439Z"
   },
   {
    "duration": 19,
    "start_time": "2024-10-20T12:03:14.445Z"
   },
   {
    "duration": 8,
    "start_time": "2024-10-20T12:03:14.465Z"
   },
   {
    "duration": 6,
    "start_time": "2024-10-20T12:03:14.474Z"
   },
   {
    "duration": 3,
    "start_time": "2024-10-20T12:03:14.482Z"
   },
   {
    "duration": 287,
    "start_time": "2024-10-20T12:03:14.487Z"
   },
   {
    "duration": 4,
    "start_time": "2024-10-20T12:03:14.776Z"
   },
   {
    "duration": 23,
    "start_time": "2024-10-20T12:03:14.782Z"
   },
   {
    "duration": 119,
    "start_time": "2024-10-20T12:03:14.806Z"
   },
   {
    "duration": 83,
    "start_time": "2024-10-20T12:03:14.926Z"
   },
   {
    "duration": 129,
    "start_time": "2024-10-20T12:03:30.521Z"
   },
   {
    "duration": 8,
    "start_time": "2024-10-20T12:03:37.375Z"
   },
   {
    "duration": 121,
    "start_time": "2024-10-20T12:03:38.801Z"
   },
   {
    "duration": 115,
    "start_time": "2024-10-20T12:03:45.488Z"
   },
   {
    "duration": 85,
    "start_time": "2024-10-20T12:03:53.465Z"
   },
   {
    "duration": 10,
    "start_time": "2024-10-20T12:03:57.705Z"
   },
   {
    "duration": 125,
    "start_time": "2024-10-20T12:03:58.825Z"
   },
   {
    "duration": 214,
    "start_time": "2024-10-20T12:04:25.921Z"
   },
   {
    "duration": 95,
    "start_time": "2024-10-20T12:04:27.452Z"
   },
   {
    "duration": 12,
    "start_time": "2024-10-20T12:04:34.291Z"
   },
   {
    "duration": 7,
    "start_time": "2024-10-20T12:04:35.648Z"
   },
   {
    "duration": 150,
    "start_time": "2024-10-20T12:04:42.505Z"
   },
   {
    "duration": 138,
    "start_time": "2024-10-20T12:04:45.759Z"
   },
   {
    "duration": 92,
    "start_time": "2024-10-20T12:04:46.904Z"
   },
   {
    "duration": 116,
    "start_time": "2024-10-20T12:04:53.280Z"
   },
   {
    "duration": 123,
    "start_time": "2024-10-20T12:04:54.005Z"
   },
   {
    "duration": 138,
    "start_time": "2024-10-20T12:04:59.840Z"
   },
   {
    "duration": 96,
    "start_time": "2024-10-20T12:05:12.752Z"
   },
   {
    "duration": 7,
    "start_time": "2024-10-20T12:05:18.729Z"
   },
   {
    "duration": 118,
    "start_time": "2024-10-20T12:05:19.361Z"
   },
   {
    "duration": 128,
    "start_time": "2024-10-20T12:05:26.096Z"
   },
   {
    "duration": 84,
    "start_time": "2024-10-20T12:05:28.640Z"
   },
   {
    "duration": 212,
    "start_time": "2024-10-20T12:05:30.737Z"
   },
   {
    "duration": 92,
    "start_time": "2024-10-20T12:05:35.129Z"
   },
   {
    "duration": 37,
    "start_time": "2024-10-20T12:05:41.193Z"
   },
   {
    "duration": 5,
    "start_time": "2024-10-20T12:05:44.496Z"
   },
   {
    "duration": 97,
    "start_time": "2024-10-20T12:05:45.636Z"
   },
   {
    "duration": 7,
    "start_time": "2024-10-20T12:06:01.425Z"
   },
   {
    "duration": 6,
    "start_time": "2024-10-20T12:06:02.096Z"
   },
   {
    "duration": 140,
    "start_time": "2024-10-20T12:06:03.482Z"
   },
   {
    "duration": 126,
    "start_time": "2024-10-20T12:06:07.744Z"
   },
   {
    "duration": 133,
    "start_time": "2024-10-20T12:06:11.575Z"
   },
   {
    "duration": 92,
    "start_time": "2024-10-20T12:06:21.376Z"
   },
   {
    "duration": 4,
    "start_time": "2024-10-20T12:06:23.714Z"
   },
   {
    "duration": 6,
    "start_time": "2024-10-20T12:06:26.607Z"
   },
   {
    "duration": 147,
    "start_time": "2024-10-20T12:06:28.024Z"
   },
   {
    "duration": 129,
    "start_time": "2024-10-20T12:06:43.770Z"
   },
   {
    "duration": 93,
    "start_time": "2024-10-20T12:06:48.029Z"
   },
   {
    "duration": 6,
    "start_time": "2024-10-20T12:06:56.632Z"
   },
   {
    "duration": 147,
    "start_time": "2024-10-20T12:06:58.712Z"
   },
   {
    "duration": 91,
    "start_time": "2024-10-20T12:07:09.645Z"
   },
   {
    "duration": 9,
    "start_time": "2024-10-20T12:07:15.947Z"
   },
   {
    "duration": 120,
    "start_time": "2024-10-20T12:07:16.457Z"
   },
   {
    "duration": 128,
    "start_time": "2024-10-20T12:07:20.396Z"
   },
   {
    "duration": 133,
    "start_time": "2024-10-20T12:07:27.825Z"
   },
   {
    "duration": 3,
    "start_time": "2024-10-20T12:07:32.484Z"
   },
   {
    "duration": 3,
    "start_time": "2024-10-20T12:07:39.509Z"
   },
   {
    "duration": 237,
    "start_time": "2024-10-20T12:07:43.440Z"
   },
   {
    "duration": 101,
    "start_time": "2024-10-20T12:07:46.643Z"
   },
   {
    "duration": 6,
    "start_time": "2024-10-20T12:07:49.659Z"
   },
   {
    "duration": 138,
    "start_time": "2024-10-20T12:07:54.800Z"
   },
   {
    "duration": 184,
    "start_time": "2024-10-20T12:08:00.702Z"
   },
   {
    "duration": 106,
    "start_time": "2024-10-20T12:08:05.458Z"
   },
   {
    "duration": 9,
    "start_time": "2024-10-20T12:08:08.781Z"
   },
   {
    "duration": 9,
    "start_time": "2024-10-20T12:08:13.712Z"
   },
   {
    "duration": 740,
    "start_time": "2024-10-20T12:08:18.708Z"
   },
   {
    "duration": 131,
    "start_time": "2024-10-20T12:08:26.565Z"
   },
   {
    "duration": 158,
    "start_time": "2024-10-20T12:08:27.532Z"
   },
   {
    "duration": 189,
    "start_time": "2024-10-20T12:08:29.957Z"
   },
   {
    "duration": 144,
    "start_time": "2024-10-20T12:08:42.622Z"
   },
   {
    "duration": 12,
    "start_time": "2024-10-20T12:08:46.265Z"
   },
   {
    "duration": 153,
    "start_time": "2024-10-20T12:08:47.331Z"
   },
   {
    "duration": 25,
    "start_time": "2024-10-20T12:09:02.415Z"
   },
   {
    "duration": 3,
    "start_time": "2024-10-20T12:09:03.149Z"
   },
   {
    "duration": 8,
    "start_time": "2024-10-20T12:09:08.332Z"
   },
   {
    "duration": 18,
    "start_time": "2024-10-20T12:09:25.557Z"
   },
   {
    "duration": 3,
    "start_time": "2024-10-20T12:09:27.648Z"
   },
   {
    "duration": 8,
    "start_time": "2024-10-20T12:09:29.328Z"
   },
   {
    "duration": 18,
    "start_time": "2024-10-20T12:09:46.709Z"
   },
   {
    "duration": 2,
    "start_time": "2024-10-20T12:09:48.028Z"
   },
   {
    "duration": 8,
    "start_time": "2024-10-20T12:09:48.624Z"
   },
   {
    "duration": 20,
    "start_time": "2024-10-20T12:10:12.269Z"
   },
   {
    "duration": 3,
    "start_time": "2024-10-20T12:10:15.252Z"
   },
   {
    "duration": 7,
    "start_time": "2024-10-20T12:10:16.269Z"
   },
   {
    "duration": 7,
    "start_time": "2024-10-20T12:11:10.159Z"
   },
   {
    "duration": 134,
    "start_time": "2024-10-20T12:11:11.589Z"
   },
   {
    "duration": 146,
    "start_time": "2024-10-20T12:11:15.644Z"
   },
   {
    "duration": 139,
    "start_time": "2024-10-20T12:11:27.971Z"
   },
   {
    "duration": 20,
    "start_time": "2024-10-20T12:11:33.113Z"
   },
   {
    "duration": 1418,
    "start_time": "2024-10-21T14:10:17.259Z"
   },
   {
    "duration": 336,
    "start_time": "2024-10-21T14:10:20.858Z"
   },
   {
    "duration": 6,
    "start_time": "2024-10-21T14:10:21.789Z"
   },
   {
    "duration": 29,
    "start_time": "2024-10-21T14:10:25.747Z"
   },
   {
    "duration": 20,
    "start_time": "2024-10-21T14:10:26.391Z"
   },
   {
    "duration": 2040,
    "start_time": "2024-10-21T14:10:29.990Z"
   },
   {
    "duration": 10,
    "start_time": "2024-10-21T14:10:36.773Z"
   },
   {
    "duration": 4,
    "start_time": "2024-10-21T14:10:41.517Z"
   },
   {
    "duration": 10,
    "start_time": "2024-10-21T14:10:42.492Z"
   },
   {
    "duration": 5,
    "start_time": "2024-10-21T14:10:45.041Z"
   },
   {
    "duration": 5,
    "start_time": "2024-10-21T14:10:45.446Z"
   },
   {
    "duration": 5,
    "start_time": "2024-10-21T14:10:47.064Z"
   },
   {
    "duration": 9,
    "start_time": "2024-10-21T14:10:49.325Z"
   },
   {
    "duration": 6,
    "start_time": "2024-10-21T14:10:49.701Z"
   },
   {
    "duration": 5,
    "start_time": "2024-10-21T14:10:55.105Z"
   },
   {
    "duration": 2,
    "start_time": "2024-10-21T14:10:56.242Z"
   },
   {
    "duration": 2,
    "start_time": "2024-10-21T14:10:56.854Z"
   },
   {
    "duration": 6,
    "start_time": "2024-10-21T14:11:07.476Z"
   },
   {
    "duration": 3,
    "start_time": "2024-10-21T14:11:08.335Z"
   },
   {
    "duration": 6,
    "start_time": "2024-10-21T14:11:09.298Z"
   },
   {
    "duration": 3,
    "start_time": "2024-10-21T14:11:11.686Z"
   },
   {
    "duration": 2,
    "start_time": "2024-10-21T14:11:12.046Z"
   },
   {
    "duration": 4,
    "start_time": "2024-10-21T14:11:12.546Z"
   },
   {
    "duration": 5,
    "start_time": "2024-10-21T14:11:15.218Z"
   },
   {
    "duration": 7,
    "start_time": "2024-10-21T14:11:15.458Z"
   },
   {
    "duration": 6,
    "start_time": "2024-10-21T14:13:41.186Z"
   },
   {
    "duration": 5,
    "start_time": "2024-10-21T14:16:41.042Z"
   },
   {
    "duration": 4,
    "start_time": "2024-10-21T14:16:46.218Z"
   },
   {
    "duration": 8,
    "start_time": "2024-10-21T14:16:49.980Z"
   },
   {
    "duration": 6,
    "start_time": "2024-10-21T14:16:50.574Z"
   },
   {
    "duration": 8,
    "start_time": "2024-10-21T14:16:53.332Z"
   },
   {
    "duration": 6,
    "start_time": "2024-10-21T14:16:56.786Z"
   },
   {
    "duration": 6,
    "start_time": "2024-10-21T14:16:59.434Z"
   },
   {
    "duration": 4,
    "start_time": "2024-10-21T14:20:40.834Z"
   },
   {
    "duration": 5,
    "start_time": "2024-10-21T14:20:42.486Z"
   },
   {
    "duration": 6,
    "start_time": "2024-10-21T14:22:09.927Z"
   },
   {
    "duration": 10,
    "start_time": "2024-10-21T14:22:12.915Z"
   },
   {
    "duration": 4,
    "start_time": "2024-10-21T14:22:15.869Z"
   },
   {
    "duration": 5,
    "start_time": "2024-10-21T14:22:16.393Z"
   },
   {
    "duration": 5,
    "start_time": "2024-10-21T14:22:19.478Z"
   },
   {
    "duration": 8,
    "start_time": "2024-10-21T14:22:20.469Z"
   },
   {
    "duration": 17,
    "start_time": "2024-10-21T14:22:23.659Z"
   },
   {
    "duration": 6,
    "start_time": "2024-10-21T14:22:25.932Z"
   },
   {
    "duration": 5,
    "start_time": "2024-10-21T14:22:26.425Z"
   },
   {
    "duration": 10,
    "start_time": "2024-10-21T14:22:27.508Z"
   },
   {
    "duration": 6,
    "start_time": "2024-10-21T14:22:28.013Z"
   },
   {
    "duration": 5,
    "start_time": "2024-10-21T14:22:31.441Z"
   },
   {
    "duration": 4,
    "start_time": "2024-10-21T14:22:34.212Z"
   },
   {
    "duration": 8,
    "start_time": "2024-10-21T14:22:36.516Z"
   },
   {
    "duration": 8,
    "start_time": "2024-10-21T14:22:38.540Z"
   },
   {
    "duration": 5,
    "start_time": "2024-10-21T14:22:41.537Z"
   },
   {
    "duration": 9,
    "start_time": "2024-10-21T14:22:42.567Z"
   },
   {
    "duration": 2,
    "start_time": "2024-10-21T14:22:43.115Z"
   },
   {
    "duration": 4,
    "start_time": "2024-10-21T14:22:50.433Z"
   },
   {
    "duration": 5,
    "start_time": "2024-10-21T14:22:51.402Z"
   },
   {
    "duration": 4,
    "start_time": "2024-10-21T14:22:55.081Z"
   },
   {
    "duration": 2,
    "start_time": "2024-10-21T14:22:57.841Z"
   },
   {
    "duration": 4,
    "start_time": "2024-10-21T14:22:58.569Z"
   },
   {
    "duration": 4,
    "start_time": "2024-10-21T14:23:00.660Z"
   },
   {
    "duration": 5,
    "start_time": "2024-10-21T14:23:03.339Z"
   },
   {
    "duration": 4,
    "start_time": "2024-10-21T14:23:04.656Z"
   },
   {
    "duration": 13,
    "start_time": "2024-10-21T14:23:13.420Z"
   },
   {
    "duration": 8,
    "start_time": "2024-10-21T14:23:18.332Z"
   },
   {
    "duration": 5,
    "start_time": "2024-10-21T14:23:20.801Z"
   },
   {
    "duration": 8,
    "start_time": "2024-10-21T14:23:23.246Z"
   },
   {
    "duration": 14,
    "start_time": "2024-10-21T14:23:23.937Z"
   },
   {
    "duration": 21,
    "start_time": "2024-10-21T14:23:29.404Z"
   },
   {
    "duration": 10,
    "start_time": "2024-10-21T14:23:32.273Z"
   },
   {
    "duration": 12,
    "start_time": "2024-10-21T14:23:34.937Z"
   },
   {
    "duration": 43,
    "start_time": "2024-10-21T14:23:36.205Z"
   },
   {
    "duration": 5,
    "start_time": "2024-10-21T14:23:36.704Z"
   },
   {
    "duration": 21,
    "start_time": "2024-10-21T14:23:41.001Z"
   },
   {
    "duration": 4,
    "start_time": "2024-10-21T14:23:44.478Z"
   },
   {
    "duration": 6,
    "start_time": "2024-10-21T14:23:44.692Z"
   },
   {
    "duration": 6,
    "start_time": "2024-10-21T14:23:44.910Z"
   },
   {
    "duration": 6,
    "start_time": "2024-10-21T14:23:45.137Z"
   },
   {
    "duration": 3,
    "start_time": "2024-10-21T14:23:46.972Z"
   },
   {
    "duration": 301,
    "start_time": "2024-10-21T14:23:47.349Z"
   },
   {
    "duration": 4,
    "start_time": "2024-10-21T14:24:03.881Z"
   },
   {
    "duration": 26,
    "start_time": "2024-10-21T14:24:04.864Z"
   },
   {
    "duration": 114,
    "start_time": "2024-10-21T14:25:05.590Z"
   },
   {
    "duration": 89,
    "start_time": "2024-10-21T14:25:08.021Z"
   },
   {
    "duration": 137,
    "start_time": "2024-10-21T14:25:10.132Z"
   },
   {
    "duration": 8,
    "start_time": "2024-10-21T14:25:11.836Z"
   },
   {
    "duration": 132,
    "start_time": "2024-10-21T14:25:13.461Z"
   },
   {
    "duration": 134,
    "start_time": "2024-10-21T14:25:18.717Z"
   },
   {
    "duration": 100,
    "start_time": "2024-10-21T14:25:23.020Z"
   },
   {
    "duration": 8,
    "start_time": "2024-10-21T14:25:25.820Z"
   },
   {
    "duration": 145,
    "start_time": "2024-10-21T14:25:26.326Z"
   },
   {
    "duration": 259,
    "start_time": "2024-10-21T14:25:32.856Z"
   },
   {
    "duration": 91,
    "start_time": "2024-10-21T14:25:36.684Z"
   },
   {
    "duration": 14,
    "start_time": "2024-10-21T14:25:38.902Z"
   },
   {
    "duration": 7,
    "start_time": "2024-10-21T14:25:41.580Z"
   },
   {
    "duration": 150,
    "start_time": "2024-10-21T14:25:42.029Z"
   },
   {
    "duration": 135,
    "start_time": "2024-10-21T14:25:50.116Z"
   },
   {
    "duration": 98,
    "start_time": "2024-10-21T14:25:52.454Z"
   },
   {
    "duration": 131,
    "start_time": "2024-10-21T14:26:11.189Z"
   },
   {
    "duration": 146,
    "start_time": "2024-10-21T14:26:11.885Z"
   },
   {
    "duration": 145,
    "start_time": "2024-10-21T14:26:13.113Z"
   },
   {
    "duration": 102,
    "start_time": "2024-10-21T14:26:15.549Z"
   },
   {
    "duration": 6,
    "start_time": "2024-10-21T14:26:17.868Z"
   },
   {
    "duration": 158,
    "start_time": "2024-10-21T14:26:18.374Z"
   },
   {
    "duration": 149,
    "start_time": "2024-10-21T14:26:21.416Z"
   },
   {
    "duration": 110,
    "start_time": "2024-10-21T14:26:23.809Z"
   },
   {
    "duration": 218,
    "start_time": "2024-10-21T14:26:44.539Z"
   },
   {
    "duration": 96,
    "start_time": "2024-10-21T14:26:47.273Z"
   },
   {
    "duration": 39,
    "start_time": "2024-10-21T14:26:54.533Z"
   },
   {
    "duration": 5,
    "start_time": "2024-10-21T14:26:59.569Z"
   },
   {
    "duration": 111,
    "start_time": "2024-10-21T14:27:00.293Z"
   },
   {
    "duration": 10,
    "start_time": "2024-10-21T14:27:01.540Z"
   },
   {
    "duration": 6,
    "start_time": "2024-10-21T14:27:02.095Z"
   },
   {
    "duration": 176,
    "start_time": "2024-10-21T14:27:02.473Z"
   },
   {
    "duration": 132,
    "start_time": "2024-10-21T14:27:06.236Z"
   },
   {
    "duration": 141,
    "start_time": "2024-10-21T14:27:10.039Z"
   },
   {
    "duration": 98,
    "start_time": "2024-10-21T14:27:12.142Z"
   },
   {
    "duration": 5,
    "start_time": "2024-10-21T14:27:16.166Z"
   },
   {
    "duration": 9,
    "start_time": "2024-10-21T14:27:19.984Z"
   },
   {
    "duration": 166,
    "start_time": "2024-10-21T14:27:20.693Z"
   },
   {
    "duration": 135,
    "start_time": "2024-10-21T14:27:27.045Z"
   },
   {
    "duration": 102,
    "start_time": "2024-10-21T14:27:31.062Z"
   },
   {
    "duration": 7,
    "start_time": "2024-10-21T14:27:34.973Z"
   },
   {
    "duration": 148,
    "start_time": "2024-10-21T14:27:36.858Z"
   },
   {
    "duration": 104,
    "start_time": "2024-10-21T14:27:41.540Z"
   },
   {
    "duration": 9,
    "start_time": "2024-10-21T14:27:45.554Z"
   },
   {
    "duration": 129,
    "start_time": "2024-10-21T14:27:46.933Z"
   },
   {
    "duration": 137,
    "start_time": "2024-10-21T14:27:51.142Z"
   },
   {
    "duration": 142,
    "start_time": "2024-10-21T14:27:55.806Z"
   },
   {
    "duration": 4,
    "start_time": "2024-10-21T14:28:07.164Z"
   },
   {
    "duration": 3,
    "start_time": "2024-10-21T14:28:10.477Z"
   },
   {
    "duration": 253,
    "start_time": "2024-10-21T14:28:52.252Z"
   },
   {
    "duration": 118,
    "start_time": "2024-10-21T14:28:54.992Z"
   },
   {
    "duration": 6,
    "start_time": "2024-10-21T14:28:57.988Z"
   },
   {
    "duration": 155,
    "start_time": "2024-10-21T14:29:01.177Z"
   },
   {
    "duration": 197,
    "start_time": "2024-10-21T14:29:07.137Z"
   },
   {
    "duration": 104,
    "start_time": "2024-10-21T14:29:28.125Z"
   },
   {
    "duration": 10,
    "start_time": "2024-10-21T14:29:31.275Z"
   },
   {
    "duration": 9,
    "start_time": "2024-10-21T14:30:04.764Z"
   },
   {
    "duration": 800,
    "start_time": "2024-10-21T14:30:26.255Z"
   },
   {
    "duration": 158,
    "start_time": "2024-10-21T14:30:32.805Z"
   },
   {
    "duration": 167,
    "start_time": "2024-10-21T14:30:35.218Z"
   },
   {
    "duration": 190,
    "start_time": "2024-10-21T14:30:37.536Z"
   },
   {
    "duration": 167,
    "start_time": "2024-10-21T14:30:39.809Z"
   },
   {
    "duration": 12,
    "start_time": "2024-10-21T14:30:42.900Z"
   },
   {
    "duration": 146,
    "start_time": "2024-10-21T14:30:45.637Z"
   },
   {
    "duration": 20,
    "start_time": "2024-10-21T14:31:45.797Z"
   },
   {
    "duration": 4,
    "start_time": "2024-10-21T14:31:46.289Z"
   },
   {
    "duration": 8,
    "start_time": "2024-10-21T14:31:48.165Z"
   },
   {
    "duration": 7,
    "start_time": "2024-10-21T14:31:56.668Z"
   },
   {
    "duration": 170,
    "start_time": "2024-10-21T14:31:59.184Z"
   },
   {
    "duration": 160,
    "start_time": "2024-10-21T14:32:02.673Z"
   },
   {
    "duration": 163,
    "start_time": "2024-10-21T14:32:16.173Z"
   },
   {
    "duration": 22,
    "start_time": "2024-10-21T14:32:17.898Z"
   }
  ],
  "colab": {
   "provenance": []
  },
  "kernelspec": {
   "display_name": "Python 3 (ipykernel)",
   "language": "python",
   "name": "python3"
  },
  "language_info": {
   "codemirror_mode": {
    "name": "ipython",
    "version": 3
   },
   "file_extension": ".py",
   "mimetype": "text/x-python",
   "name": "python",
   "nbconvert_exporter": "python",
   "pygments_lexer": "ipython3",
   "version": "3.9.13"
  },
  "toc": {
   "base_numbering": 1,
   "nav_menu": {},
   "number_sections": true,
   "sideBar": true,
   "skip_h1_title": true,
   "title_cell": "Table of Contents",
   "title_sidebar": "Contents",
   "toc_cell": false,
   "toc_position": {},
   "toc_section_display": true,
   "toc_window_display": false
  }
 },
 "nbformat": 4,
 "nbformat_minor": 1
}
